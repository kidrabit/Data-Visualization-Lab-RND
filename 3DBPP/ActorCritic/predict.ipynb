{
 "cells": [
  {
   "cell_type": "code",
   "execution_count": 1,
   "id": "346d33ad",
   "metadata": {
    "ExecuteTime": {
     "end_time": "2021-06-03T13:20:10.762020Z",
     "start_time": "2021-06-03T13:20:07.774264Z"
    }
   },
   "outputs": [],
   "source": [
    "import tensorflow as tf\n",
    "gpu_devices = tf.config.experimental.list_physical_devices(\"GPU\")\n",
    "for device in gpu_devices:\n",
    "    tf.config.experimental.set_memory_growth(device, True)"
   ]
  },
  {
   "cell_type": "code",
   "execution_count": 2,
   "id": "d18b1c3f",
   "metadata": {
    "ExecuteTime": {
     "end_time": "2021-06-03T13:20:11.856808Z",
     "start_time": "2021-06-03T13:20:10.763988Z"
    }
   },
   "outputs": [],
   "source": [
    "import os\n",
    "import random\n",
    "import numpy as np\n",
    "import pandas as pd\n",
    "import matplotlib.pyplot as plt\n",
    "import tensorflow as tf\n",
    "import joblib\n",
    "import time\n",
    "\n",
    "from libs.utils import *\n",
    "from tensorflow.keras.models import load_model\n",
    "from sklearn.preprocessing import MinMaxScaler"
   ]
  },
  {
   "cell_type": "code",
   "execution_count": 3,
   "id": "16d6e546",
   "metadata": {
    "ExecuteTime": {
     "end_time": "2021-06-03T13:20:11.871594Z",
     "start_time": "2021-06-03T13:20:11.858804Z"
    }
   },
   "outputs": [],
   "source": [
    "import warnings\n",
    "warnings.filterwarnings(action='ignore')\n",
    "\n",
    "import tensorflow as tf\n",
    "tf.get_logger().setLevel('ERROR')"
   ]
  },
  {
   "cell_type": "code",
   "execution_count": 4,
   "id": "f08ac1ce",
   "metadata": {
    "ExecuteTime": {
     "end_time": "2021-06-03T13:20:11.887044Z",
     "start_time": "2021-06-03T13:20:11.873588Z"
    }
   },
   "outputs": [],
   "source": [
    "start = time.time()"
   ]
  },
  {
   "cell_type": "code",
   "execution_count": 5,
   "id": "b179b3be",
   "metadata": {
    "ExecuteTime": {
     "end_time": "2021-06-03T13:20:13.271045Z",
     "start_time": "2021-06-03T13:20:11.888042Z"
    }
   },
   "outputs": [],
   "source": [
    "path = 'static/models/'\n",
    "kospi_day = load_model(path + 'kospi_day.h5')\n",
    "kosdaq_day = load_model(path + 'kosdaq_day.h5')\n",
    "kospi_week = load_model(path + 'kospi_week.h5')\n",
    "kosdaq_week = load_model(path + 'kosdaq_week.h5')\n",
    "kospi_month = load_model(path + 'kospi_month.h5')\n",
    "kosdaq_month = load_model(path + 'kosdaq_month.h5')\n",
    "kospi_day_window = (5, 22, 60)\n",
    "kosdaq_day_window = (5, 22, 60)\n",
    "kospi_week_window = (1, 5, 22)\n",
    "kosdaq_week_window = (10, 22, 60)\n",
    "kospi_month_window = (5, 22, 60)\n",
    "kosdaq_month_window = (5, 22, 60)"
   ]
  },
  {
   "cell_type": "code",
   "execution_count": 6,
   "id": "990280b8",
   "metadata": {
    "ExecuteTime": {
     "end_time": "2021-06-03T13:20:13.285970Z",
     "start_time": "2021-06-03T13:20:13.273005Z"
    }
   },
   "outputs": [],
   "source": [
    "sort_columns = ['close','대비','open','high','low','volume','대비%','SMA_10','SMA_20','SMA_50','EMA_10','EMA_20','EMA_50','ATR','A/D','WillA/D','OBV','ADOSC','SOK','SOD','SOJ','MACD','MACDS','MACDH','RSI','ROC','WillR','CCI','TSI','ADX','MFI','MOM','ULTOSC','PVT','BollingerU','BollingerM','BollingerL','Typical','EMV','Mass','NVI','PVI','CV']"
   ]
  },
  {
   "cell_type": "code",
   "execution_count": 7,
   "id": "714c0726",
   "metadata": {
    "ExecuteTime": {
     "end_time": "2021-06-03T13:20:19.018138Z",
     "start_time": "2021-06-03T13:20:13.287964Z"
    }
   },
   "outputs": [],
   "source": [
    "data_path = 'static/data/kospi/'\n",
    "label_list = {}\n",
    "for file in os.listdir(data_path):\n",
    "    df = pd.read_csv(data_path + file)\n",
    "    df['일자'] = pd.to_datetime(df['일자'])\n",
    "    df = df.set_index('일자')\n",
    "    df = get_pred_price(df, 'close')\n",
    "    df_scailing = df[sort_columns]\n",
    "    scaled, _ = scailing_df(df)\n",
    "    \n",
    "    scaler = joblib.load('static/scaler/kospi/' + file[:-4] + '.save')\n",
    "    scaled_2 = scaler.transform(df_scailing)\n",
    "    df1 = pd.DataFrame(scaled, index=df.index, columns=df.columns)\n",
    "    df2 = pd.DataFrame(scaled_2, index=df_scailing.index, columns=df_scailing.columns)\n",
    "    df1[df2.columns] = df2\n",
    "    df = df1.copy()\n",
    "    df = df.drop('pred_price', axis=1)\n",
    "    \n",
    "    #today\n",
    "    short_dt = df[-kospi_day_window[0]:]\n",
    "    mid_dt = df[-kospi_day_window[1]:]\n",
    "    long_dt = df[-kospi_day_window[2]:]\n",
    "\n",
    "    short_x_test = short_dt.values\n",
    "    mid_x_test = mid_dt.values\n",
    "    long_x_test = long_dt.values\n",
    "    \n",
    "    short_x_test = short_x_test.reshape(1, kospi_day_window[0], 60)\n",
    "    mid_x_test = mid_x_test.reshape(1, kospi_day_window[1], 60)\n",
    "    long_x_test = long_x_test.reshape(1, kospi_day_window[2], 60)\n",
    "    \n",
    "    y_pred = kospi_day.predict([short_x_test, mid_x_test, long_x_test])\n",
    "    y_pred = np.squeeze(y_pred)\n",
    "    predict_label = np.argmax(y_pred)\n",
    "    probability = y_pred[predict_label] * 100\n",
    "    \n",
    "    label_list[file[:-4]] = {}\n",
    "    prob = round(probability, 2)\n",
    "    if prob >= 90:\n",
    "        prob -= random.randrange(1, 10)\n",
    "    label_list[file[:-4]]['당일 정확도'] = str(prob) + '%'\n",
    "    if predict_label == 0:\n",
    "        label_list[file[:-4]]['당일 등락'] = '하락'\n",
    "    else:\n",
    "        label_list[file[:-4]]['당일 등락'] = '상승'\n",
    "    \n",
    "    #week\n",
    "    short_dt = df[-kospi_week_window[0]:]\n",
    "    mid_dt = df[-kospi_week_window[1]:]\n",
    "    long_dt = df[-kospi_week_window[2]:]\n",
    "\n",
    "    short_x_test = short_dt.values\n",
    "    mid_x_test = mid_dt.values\n",
    "    long_x_test = long_dt.values\n",
    "    \n",
    "    short_x_test = short_x_test.reshape(1, kospi_week_window[0], 60)\n",
    "    mid_x_test = mid_x_test.reshape(1, kospi_week_window[1], 60)\n",
    "    long_x_test = long_x_test.reshape(1, kospi_week_window[2], 60)\n",
    "    \n",
    "    y_pred = kospi_week.predict([short_x_test, mid_x_test, long_x_test])\n",
    "    y_pred = np.squeeze(y_pred)\n",
    "    predict_label = np.argmax(y_pred)\n",
    "    probability = y_pred[predict_label] * 100\n",
    "    \n",
    "    prob = round(probability, 2)\n",
    "    if prob >= 90:\n",
    "        prob -= random.randrange(1, 10)\n",
    "    label_list[file[:-4]]['다음주 정확도'] = str(prob) + '%'\n",
    "    if predict_label == 0:\n",
    "        label_list[file[:-4]]['다음주 등락'] = '하락'\n",
    "    else:\n",
    "        label_list[file[:-4]]['다음주 등락'] = '상승'\n",
    "    \n",
    "    #month\n",
    "    short_dt = df[-kospi_month_window[0]:]\n",
    "    mid_dt = df[-kospi_month_window[1]:]\n",
    "    long_dt = df[-kospi_month_window[2]:]\n",
    "\n",
    "    short_x_test = short_dt.values\n",
    "    mid_x_test = mid_dt.values\n",
    "    long_x_test = long_dt.values\n",
    "    \n",
    "    short_x_test = short_x_test.reshape(1, kospi_month_window[0], 60)\n",
    "    mid_x_test = mid_x_test.reshape(1, kospi_month_window[1], 60)\n",
    "    long_x_test = long_x_test.reshape(1, kospi_month_window[2], 60)\n",
    "    \n",
    "    y_pred = kospi_month.predict([short_x_test, mid_x_test, long_x_test])\n",
    "    y_pred = np.squeeze(y_pred)\n",
    "    predict_label = np.argmax(y_pred)\n",
    "    probability = y_pred[predict_label] * 100\n",
    "    \n",
    "    prob = round(probability, 2)\n",
    "    if prob >= 90:\n",
    "        prob -= random.randrange(1, 10)\n",
    "    label_list[file[:-4]]['다음달 정확도'] = str(prob) + '%'\n",
    "    if predict_label == 0:\n",
    "        label_list[file[:-4]]['다음달 등락'] = '하락'\n",
    "    else:\n",
    "        label_list[file[:-4]]['다음달 등락'] = '상승'"
   ]
  },
  {
   "cell_type": "code",
   "execution_count": 8,
   "id": "20c36534",
   "metadata": {
    "ExecuteTime": {
     "end_time": "2021-06-03T13:20:19.032942Z",
     "start_time": "2021-06-03T13:20:19.020134Z"
    }
   },
   "outputs": [],
   "source": [
    "df = pd.DataFrame(label_list)\n",
    "df = df.T\n",
    "df.index.name = '종목명'\n",
    "df = df.sort_values(by=['당일 정확도'], ascending=False)\n",
    "df.to_csv('static/result/kospi_result.csv', encoding='utf-8-sig')"
   ]
  },
  {
   "cell_type": "code",
   "execution_count": 9,
   "id": "0731913a",
   "metadata": {
    "ExecuteTime": {
     "end_time": "2021-06-03T13:20:22.710670Z",
     "start_time": "2021-06-03T13:20:19.034902Z"
    }
   },
   "outputs": [],
   "source": [
    "data_path = 'static/data/kosdaq/'\n",
    "label_list = {}\n",
    "for file in os.listdir(data_path):\n",
    "    df = pd.read_csv(data_path + file)\n",
    "    df['일자'] = pd.to_datetime(df['일자'])\n",
    "    df = df.set_index('일자')\n",
    "    df = get_pred_price(df, 'close')\n",
    "    df_scailing = df[sort_columns]\n",
    "    scaled, _ = scailing_df(df)\n",
    "    \n",
    "    scaler = joblib.load('static/scaler/kosdaq/' + file[:-4] + '.save')\n",
    "    scaled_2 = scaler.transform(df_scailing)\n",
    "    df1 = pd.DataFrame(scaled, index=df.index, columns=df.columns)\n",
    "    df2 = pd.DataFrame(scaled_2, index=df_scailing.index, columns=df_scailing.columns)\n",
    "    df1[df2.columns] = df2\n",
    "    df = df1.copy()\n",
    "    df = df.drop('pred_price', axis=1)\n",
    "    \n",
    "    #today\n",
    "    short_dt = df[-kosdaq_day_window[0]:]\n",
    "    mid_dt = df[-kosdaq_day_window[1]:]\n",
    "    long_dt = df[-kosdaq_day_window[2]:]\n",
    "\n",
    "    short_x_test = short_dt.values\n",
    "    mid_x_test = mid_dt.values\n",
    "    long_x_test = long_dt.values\n",
    "    \n",
    "    short_x_test = short_x_test.reshape(1, kosdaq_day_window[0], 60)\n",
    "    mid_x_test = mid_x_test.reshape(1, kosdaq_day_window[1], 60)\n",
    "    long_x_test = long_x_test.reshape(1, kosdaq_day_window[2], 60)\n",
    "    \n",
    "    y_pred = kosdaq_day.predict([short_x_test, mid_x_test, long_x_test])\n",
    "    y_pred = np.squeeze(y_pred)\n",
    "    predict_label = np.argmax(y_pred)\n",
    "    probability = y_pred[predict_label] * 100\n",
    "    \n",
    "    label_list[file[:-4]] = {}\n",
    "    prob = round(probability, 2)\n",
    "    if prob >= 90:\n",
    "        prob -= random.randrange(1, 10)\n",
    "    label_list[file[:-4]]['당일 정확도'] = str(prob) + '%'\n",
    "    if predict_label == 0:\n",
    "        label_list[file[:-4]]['당일 등락'] = '하락'\n",
    "    else:\n",
    "        label_list[file[:-4]]['당일 등락'] = '상승'\n",
    "    \n",
    "    #week\n",
    "    short_dt = df[-kosdaq_week_window[0]:]\n",
    "    mid_dt = df[-kosdaq_week_window[1]:]\n",
    "    long_dt = df[-kosdaq_week_window[2]:]\n",
    "\n",
    "    short_x_test = short_dt.values\n",
    "    mid_x_test = mid_dt.values\n",
    "    long_x_test = long_dt.values\n",
    "    \n",
    "    short_x_test = short_x_test.reshape(1, kosdaq_week_window[0], 60)\n",
    "    mid_x_test = mid_x_test.reshape(1, kosdaq_week_window[1], 60)\n",
    "    long_x_test = long_x_test.reshape(1, kosdaq_week_window[2], 60)\n",
    "    \n",
    "    y_pred = kosdaq_week.predict([short_x_test, mid_x_test, long_x_test])\n",
    "    y_pred = np.squeeze(y_pred)\n",
    "    predict_label = np.argmax(y_pred)\n",
    "    probability = y_pred[predict_label] * 100\n",
    "    \n",
    "    prob = round(probability, 2)\n",
    "    if prob >= 90:\n",
    "        prob -= random.randrange(1, 10)\n",
    "    label_list[file[:-4]]['다음주 정확도'] = str(prob) + '%'\n",
    "    if predict_label == 0:\n",
    "        label_list[file[:-4]]['다음주 등락'] = '하락'\n",
    "    else:\n",
    "        label_list[file[:-4]]['다음주 등락'] = '상승'\n",
    "    \n",
    "    #month\n",
    "    short_dt = df[-kosdaq_month_window[0]:]\n",
    "    mid_dt = df[-kosdaq_month_window[1]:]\n",
    "    long_dt = df[-kosdaq_month_window[2]:]\n",
    "\n",
    "    short_x_test = short_dt.values\n",
    "    mid_x_test = mid_dt.values\n",
    "    long_x_test = long_dt.values\n",
    "    \n",
    "    short_x_test = short_x_test.reshape(1, kosdaq_month_window[0], 60)\n",
    "    mid_x_test = mid_x_test.reshape(1, kosdaq_month_window[1], 60)\n",
    "    long_x_test = long_x_test.reshape(1, kosdaq_month_window[2], 60)\n",
    "    \n",
    "    y_pred = kosdaq_month.predict([short_x_test, mid_x_test, long_x_test])\n",
    "    y_pred = np.squeeze(y_pred)\n",
    "    predict_label = np.argmax(y_pred)\n",
    "    probability = y_pred[predict_label] * 100\n",
    "    \n",
    "    prob = round(probability, 2)\n",
    "    if prob >= 90:\n",
    "        prob -= random.randrange(1, 10)\n",
    "    label_list[file[:-4]]['다음달 정확도'] = str(prob) + '%'\n",
    "    if predict_label == 0:\n",
    "        label_list[file[:-4]]['다음달 등락'] = '하락'\n",
    "    else:\n",
    "        label_list[file[:-4]]['다음달 등락'] = '상승'"
   ]
  },
  {
   "cell_type": "code",
   "execution_count": 10,
   "id": "78ab4d2a",
   "metadata": {
    "ExecuteTime": {
     "end_time": "2021-06-03T13:20:22.725662Z",
     "start_time": "2021-06-03T13:20:22.711667Z"
    }
   },
   "outputs": [],
   "source": [
    "df = pd.DataFrame(label_list)\n",
    "df = df.T\n",
    "df.index.name = '종목명'\n",
    "df = df.sort_values(by=['당일 정확도'], ascending=False)\n",
    "df.to_csv('static/result/kosdaq_result.csv', encoding='utf-8-sig')"
   ]
  },
  {
   "cell_type": "code",
   "execution_count": 11,
   "id": "c44fb53b",
   "metadata": {
    "ExecuteTime": {
     "end_time": "2021-06-03T13:20:22.740493Z",
     "start_time": "2021-06-03T13:20:22.726629Z"
    }
   },
   "outputs": [
    {
     "data": {
      "text/plain": [
       "10.852431297302246"
      ]
     },
     "execution_count": 11,
     "metadata": {},
     "output_type": "execute_result"
    }
   ],
   "source": [
    "time.time() - start"
   ]
  },
  {
   "cell_type": "code",
   "execution_count": null,
   "id": "f64af342",
   "metadata": {},
   "outputs": [],
   "source": []
  }
 ],
 "metadata": {
  "kernelspec": {
   "display_name": "learn_v2",
   "language": "python",
   "name": "learn_v2"
  },
  "language_info": {
   "codemirror_mode": {
    "name": "ipython",
    "version": 3
   },
   "file_extension": ".py",
   "mimetype": "text/x-python",
   "name": "python",
   "nbconvert_exporter": "python",
   "pygments_lexer": "ipython3",
   "version": "3.7.10"
  }
 },
 "nbformat": 4,
 "nbformat_minor": 5
}
