{
 "cells": [
  {
   "cell_type": "code",
   "execution_count": 1,
   "id": "f6664fd7",
   "metadata": {
    "ExecuteTime": {
     "end_time": "2021-05-24T05:24:41.161265Z",
     "start_time": "2021-05-24T05:24:36.014408Z"
    }
   },
   "outputs": [],
   "source": [
    "import os, os.path\n",
    "import random\n",
    "import numpy as np\n",
    "import math\n",
    "import matplotlib.pyplot as plt\n",
    "import time\n",
    "import tensorflow as tf\n",
    "from collections import deque\n",
    "import itertools\n",
    "from sklearn.utils import shuffle\n",
    "from tensorflow.keras.optimizers import Adam\n",
    "from tensorflow.keras.layers import Dense\n",
    "import tensorflow.keras.losses as kls\n",
    "from libs.utils import *\n",
    "from libs.generate_boxes import *\n",
    "from libs.dqn import *"
   ]
  },
  {
   "cell_type": "code",
   "execution_count": 2,
   "id": "8935c5ac",
   "metadata": {
    "ExecuteTime": {
     "end_time": "2021-05-24T05:24:41.176152Z",
     "start_time": "2021-05-24T05:24:41.162126Z"
    }
   },
   "outputs": [
    {
     "data": {
      "text/plain": [
       "'float32'"
      ]
     },
     "execution_count": 2,
     "metadata": {},
     "output_type": "execute_result"
    }
   ],
   "source": [
    "os.environ[\"CUDA_VISIBLE_DEVICES\"]=\"0\"\n",
    "tf_device='/gpu:0'\n",
    "tf.get_logger().setLevel('INFO')\n",
    "tf.keras.backend.floatx()"
   ]
  },
  {
   "cell_type": "code",
   "execution_count": 3,
   "id": "ef2fecbf",
   "metadata": {
    "ExecuteTime": {
     "end_time": "2021-05-24T05:24:41.191080Z",
     "start_time": "2021-05-24T05:24:41.178083Z"
    }
   },
   "outputs": [],
   "source": [
    "num_episode = 1500\n",
    "global_step = 0\n",
    "tr_l, h_fill, tr_r, avg_loss_l,history_eps,used_boxes_eps  = [],[],[],[],[],[]\n",
    "N_MDD = 7\n",
    "K = 4\n",
    "n_candidates =4"
   ]
  },
  {
   "cell_type": "code",
   "execution_count": 4,
   "id": "49018424",
   "metadata": {
    "ExecuteTime": {
     "end_time": "2021-05-24T05:24:41.206052Z",
     "start_time": "2021-05-24T05:24:41.193078Z"
    }
   },
   "outputs": [],
   "source": [
    "boxes_multi1 = [np.array([[20, 20,  4],\n",
    "         [20,  4,  4],\n",
    "         [20,  4,  4],\n",
    "         [20,  4,  4],\n",
    "         [20,  4,  4],\n",
    "         [20,  4,  4],\n",
    "         [20, 20,  4],\n",
    "         [20, 20,  4],\n",
    "         [20, 20,  4]])]\n",
    "gt_pos1 = [np.array([[ 0,  0,  0],\n",
    "         [ 0,  0,  4],\n",
    "         [ 0,  4,  4],\n",
    "         [ 0,  8,  4],\n",
    "         [ 0, 12,  4],\n",
    "         [ 0, 16,  4],\n",
    "         [ 0,  0,  8],\n",
    "         [ 0,  0, 12],\n",
    "         [ 0,  0, 16]])]\n",
    "\n",
    "boxes_multi2 = [np.array([[20, 20,  5],\n",
    "        [ 4, 20,  5],\n",
    "        [ 4, 20,  5],\n",
    "        [ 4, 20,  5],\n",
    "        [ 4, 20,  5],\n",
    "        [ 4, 20,  5],\n",
    "        [10, 20,  5],\n",
    "        [10, 20,  5],\n",
    "        [20, 20,  5]])]\n",
    "\n",
    "gt_pos2 = [np.array([[ 0,  0,  0],\n",
    "        [ 0,  0,  5],\n",
    "        [ 4,  0,  5],\n",
    "        [ 8,  0,  5],\n",
    "        [12,  0,  5],\n",
    "        [16,  0,  5],\n",
    "        [ 0,  0, 10],\n",
    "        [10,  0, 10],\n",
    "        [ 0,  0, 15]])]"
   ]
  },
  {
   "cell_type": "code",
   "execution_count": 5,
   "id": "bd1c473b",
   "metadata": {
    "ExecuteTime": {
     "end_time": "2021-05-24T05:24:41.221054Z",
     "start_time": "2021-05-24T05:24:41.208005Z"
    }
   },
   "outputs": [
    {
     "name": "stdout",
     "output_type": "stream",
     "text": [
      "num_max_boxes 9 num_max_remain 9\n"
     ]
    }
   ],
   "source": [
    "num_max_boxes = max(len(boxes_multi1[0]), len(boxes_multi2[0]))\n",
    "num_max_remain = num_max_boxes\n",
    "print('num_max_boxes',num_max_boxes,'num_max_remain',num_max_remain)"
   ]
  },
  {
   "cell_type": "code",
   "execution_count": 36,
   "id": "4a1741f6",
   "metadata": {
    "ExecuteTime": {
     "end_time": "2021-05-24T05:47:57.494511Z",
     "start_time": "2021-05-24T05:47:57.485458Z"
    }
   },
   "outputs": [],
   "source": [
    "env=Bpp3DEnv()"
   ]
  },
  {
   "cell_type": "code",
   "execution_count": 7,
   "id": "eefbf977",
   "metadata": {
    "ExecuteTime": {
     "end_time": "2021-05-24T05:24:41.250934Z",
     "start_time": "2021-05-24T05:24:41.237668Z"
    }
   },
   "outputs": [],
   "source": [
    "class PPO_Actor(tf.keras.Model):\n",
    "    def __init__(self, state_size, selected_size, remain_size, loading_size, output_size):\n",
    "        super(PPO_Actor, self).__init__()\n",
    "        \n",
    "        l1, b1, k1 = state_size\n",
    "        self.state_size = (l1*b1*k1,)\n",
    "        self.case_dnn1 = Dense(64, activation='relu', input_shape=self.state_size)\n",
    "        self.case_dnn2 = Dense(64, activation='relu')\n",
    "        \n",
    "        l2, b2, k2 = selected_size\n",
    "        self.selected_size = (l2*b2*k2,)\n",
    "        self.select_dnn1 = Dense(64, activation='relu', input_shape=self.selected_size)\n",
    "        self.select_dnn2 = Dense(64, activation='relu')\n",
    "        \n",
    "        l3, b3, k3 = remain_size\n",
    "        self.remain_size = (l3*b3*k3,)\n",
    "        self.remain_dnn1 = Dense(128, activation='relu', input_shape=self.remain_size)\n",
    "        self.remain_dnn2 = Dense(128, activation='relu')\n",
    "        \n",
    "        l4, b4, k4 = loading_size\n",
    "        self.loading_size = (l4*b4*k4,)\n",
    "        self.loading_dnn1 = Dense(128, activation='relu', input_shape=self.loading_size)\n",
    "        self.loading_dnn2 = Dense(128, activation='relu')\n",
    "        \n",
    "        self.fc1 = Dense(256, activation='relu')\n",
    "        self.fc2 = Dense(128, activation='relu')\n",
    "        self.fc_out = Dense(output_size)\n",
    "        \n",
    "    def call(self, cb_list):\n",
    "        c,s,r,l = cb_list[0], cb_list[1], cb_list[2], cb_list[3]\n",
    "        c = tf.reshape(c, [-1, self.state_size[0]])\n",
    "        s = tf.reshape(s, [-1, self.selected_size[0]])\n",
    "        r = tf.reshape(r, [-1, self.remain_size[0]])\n",
    "        l = tf.reshape(l, [-1, self.loading_size[0]])\n",
    "        \n",
    "        c = self.case_dnn1(c)\n",
    "        c = self.case_dnn2(c)\n",
    "        \n",
    "        s = self.select_dnn1(s)\n",
    "        s = self.select_dnn2(s)\n",
    "        \n",
    "        r = self.remain_dnn1(r)\n",
    "        r = self.remain_dnn2(r)\n",
    "        \n",
    "        l = self.loading_dnn1(l)\n",
    "        l = self.loading_dnn2(l)\n",
    "        \n",
    "        x = concatenate([c,s,r,l])\n",
    "        x = self.fc1(x)\n",
    "        x = self.fc2(x)\n",
    "        q = self.fc_out(x)\n",
    "        return q"
   ]
  },
  {
   "cell_type": "code",
   "execution_count": 8,
   "id": "0cd3fc40",
   "metadata": {
    "ExecuteTime": {
     "end_time": "2021-05-24T05:24:41.265874Z",
     "start_time": "2021-05-24T05:24:41.252883Z"
    }
   },
   "outputs": [],
   "source": [
    "class PPO_Critic(tf.keras.Model):\n",
    "    def __init__(self, state_size, selected_size, remain_size, loading_size, output_size):\n",
    "        super(PPO_Critic, self).__init__()\n",
    "        \n",
    "        l1, b1, k1 = state_size\n",
    "        self.state_size = (l1*b1*k1,)\n",
    "        self.case_dnn1 = Dense(64, activation='relu', input_shape=self.state_size)\n",
    "        self.case_dnn2 = Dense(64, activation='relu')\n",
    "        \n",
    "        l2, b2, k2 = selected_size\n",
    "        self.selected_size = (l2*b2*k2,)\n",
    "        self.select_dnn1 = Dense(64, activation='relu', input_shape=self.selected_size)\n",
    "        self.select_dnn2 = Dense(64, activation='relu')\n",
    "        \n",
    "        l3, b3, k3 = remain_size\n",
    "        self.remain_size = (l3*b3*k3,)\n",
    "        self.remain_dnn1 = Dense(128, activation='relu', input_shape=self.remain_size)\n",
    "        self.remain_dnn2 = Dense(128, activation='relu')\n",
    "        \n",
    "        l4, b4, k4 = loading_size\n",
    "        self.loading_size = (l4*b4*k4,)\n",
    "        self.loading_dnn1 = Dense(128, activation='relu', input_shape=self.loading_size)\n",
    "        self.loading_dnn2 = Dense(128, activation='relu')\n",
    "        \n",
    "        self.fc1 = Dense(256, activation='relu')\n",
    "        self.fc2 = Dense(128, activation='relu')\n",
    "        self.fc_out = Dense(output_size)\n",
    "        \n",
    "    def call(self, cb_list):\n",
    "        c,s,r,l = cb_list[0], cb_list[1], cb_list[2], cb_list[3]\n",
    "        c = tf.reshape(c, [-1, self.state_size[0]])\n",
    "        s = tf.reshape(s, [-1, self.selected_size[0]])\n",
    "        r = tf.reshape(r, [-1, self.remain_size[0]])\n",
    "        l = tf.reshape(l, [-1, self.loading_size[0]])\n",
    "        \n",
    "        c = self.case_dnn1(c)\n",
    "        c = self.case_dnn2(c)\n",
    "        \n",
    "        s = self.select_dnn1(s)\n",
    "        s = self.select_dnn2(s)\n",
    "        \n",
    "        r = self.remain_dnn1(r)\n",
    "        r = self.remain_dnn2(r)\n",
    "        \n",
    "        l = self.loading_dnn1(l)\n",
    "        l = self.loading_dnn2(l)\n",
    "        \n",
    "        x = concatenate([c,s,r,l])\n",
    "        x = self.fc1(x)\n",
    "        x = self.fc2(x)\n",
    "        q = self.fc_out(x)\n",
    "        return q"
   ]
  },
  {
   "cell_type": "code",
   "execution_count": 9,
   "id": "1c39f4c5",
   "metadata": {
    "ExecuteTime": {
     "end_time": "2021-05-24T05:24:41.355771Z",
     "start_time": "2021-05-24T05:24:41.266845Z"
    }
   },
   "outputs": [],
   "source": [
    "class PPOAgent():\n",
    "    def __init__(self, L=20, B=20, H=20, n_remains=5, n_loading=3, lr=1e-8, train_st = 200):\n",
    "        self.state_size = (L,B,1)\n",
    "        self.selected_size = (L,B,2)\n",
    "        self.remain_size=(L,B,n_remains)\n",
    "        self.loading_size=(L,B,n_loading)\n",
    "        self.output_size=1\n",
    "        \n",
    "        self.discount_factor=0.99\n",
    "        self.gamma = 0.9\n",
    "        self.clip_pram = 0.2\n",
    "        self.learning_rate=lr\n",
    "        \n",
    "        self.train_st = train_st\n",
    "        self.train_cnt = 0\n",
    "        \n",
    "        self.actor = PPO_Actor(self.state_size, self.selected_size, self.remain_size, self.loading_size, self.output_size)\n",
    "        self.critic = PPO_Critic(self.state_size, self.selected_size, self.remain_size, self.loading_size, self.output_size)\n",
    "        \n",
    "        self.actor_optimizer = Adam(self.learning_rate)\n",
    "        self.critic_optimizer = Adam(self.learning_rate)\n",
    "        \n",
    "        self.avg_actor_loss = 0\n",
    "        self.avg_critic_loss = 0\n",
    "        \n",
    "    def get_action(self, state, loaded_mh_c, r_boxes, loading):\n",
    "        self.train_cnt += 1\n",
    "        if self.train_cnt < self.train_st:\n",
    "            probs = self.actor([state, loaded_mh_c, r_boxes, loading])\n",
    "            random_action = random.randrange(len(state))\n",
    "            return probs[random_action], random_action\n",
    "        else:\n",
    "            probs = self.actor([state, loaded_mh_c, r_boxes, loading])\n",
    "            argmax_idx = np.where(probs == tf.math.reduce_max(probs))\n",
    "            action_idx = argmax_idx[0][0]\n",
    "            return probs[action_idx], action_idx\n",
    "        \n",
    "    def get_value(self, state, loaded_mh_c, r_boxes, loading):\n",
    "        value = self.critic([state, loaded_mh_c, r_boxes, loading])\n",
    "        argmax_idx = np.where(value == tf.math.reduce_max(value))\n",
    "        value = argmax_idx[0][0]\n",
    "        return value\n",
    "    \n",
    "    def get_actor_loss(self, probs, advantage, old_probs, critic_loss):\n",
    "        probability = probs\n",
    "        entropy = tf.reduce_mean(tf.math.negative(tf.math.multiply(probability, tf.math.log(probability))))\n",
    "        entropy = tf.math.abs(entropy) #삭제 가능하도록\n",
    "        sr1, sr2 = [], []\n",
    "\n",
    "        for prob, adv, old_prob in zip(probability, advantage, old_probs):\n",
    "            adv = tf.constant(adv)\n",
    "            old_prob = tf.constant(old_prob)\n",
    "            ratio = tf.math.divide(prob, old_prob)\n",
    "            adv = tf.cast(adv, dtype='float32')\n",
    "            s1 = tf.math.multiply(ratio, adv)\n",
    "            s2 = tf.math.multiply(tf.clip_by_value(ratio, 1.0-self.clip_pram, 1.0 + self.clip_pram), adv)\n",
    "            sr1.append(s1)\n",
    "            sr2.append(s2)\n",
    "        sr1 = tf.stack(sr1)\n",
    "        sr2 = tf.stack(sr2)\n",
    "        act_loss = tf.math.negative(tf.reduce_mean(tf.math.minimum(sr1, sr2)) - critic_loss + 0.001 * entropy)\n",
    "        return act_loss\n",
    "    \n",
    "    def train(self, state, loaded_mh_c, r_boxes, loaded, returns, adv, probs):\n",
    "        discnt_rewards = tf.reshape(returns, (len(returns),))\n",
    "        adv = tf.reshape(adv, (len(adv),))\n",
    "        old_probs = probs\n",
    "        old_probs = tf.reshape(old_probs, (len(old_probs),1))\n",
    "        old_probs = tf.math.abs(old_probs) #삭제 가능하도록\n",
    "        \n",
    "        state = np.array(state)\n",
    "        loaded_mh_c = np.array(loaded_mh_c)\n",
    "        r_boxes = np.array(r_boxes)\n",
    "        loaded = np.array(loaded)\n",
    "        \n",
    "        with tf.GradientTape() as actor_tape, tf.GradientTape() as critic_tape:\n",
    "            prob = self.actor([state, loaded_mh_c, r_boxes, loaded])\n",
    "            prob = tf.math.abs(prob) #삭제 가능하도록\n",
    "            value = self.critic([state, loaded_mh_c, r_boxes, loaded])\n",
    "            value = tf.reshape(value, (len(value),))\n",
    "            critic_loss = 0.5 * kls.mean_squared_error(discnt_rewards, value)\n",
    "            actor_loss = self.get_actor_loss(prob, adv, old_probs, critic_loss)\n",
    "            self.avg_actor_loss += actor_loss.numpy()\n",
    "            self.avg_critic_loss += critic_loss.numpy()\n",
    "                \n",
    "        actor_grads = actor_tape.gradient(actor_loss, self.actor.trainable_variables)\n",
    "        critic_grads = critic_tape.gradient(critic_loss, self.critic.trainable_variables)\n",
    "        self.actor_optimizer.apply_gradients(zip(actor_grads, self.actor.trainable_variables))\n",
    "        self.critic_optimizer.apply_gradients(zip(critic_grads, self.critic.trainable_variables))"
   ]
  },
  {
   "cell_type": "code",
   "execution_count": 37,
   "id": "b6e7f517",
   "metadata": {
    "ExecuteTime": {
     "end_time": "2021-05-24T05:48:01.245236Z",
     "start_time": "2021-05-24T05:48:01.205903Z"
    }
   },
   "outputs": [],
   "source": [
    "agent = PPOAgent(L=20, B=20, H=20, n_remains=num_max_remain, n_loading=K, lr=1e-4, train_st = 200)"
   ]
  },
  {
   "cell_type": "code",
   "execution_count": 11,
   "id": "eae8aa19",
   "metadata": {
    "ExecuteTime": {
     "end_time": "2021-05-24T05:24:46.169025Z",
     "start_time": "2021-05-24T05:24:46.155035Z"
    }
   },
   "outputs": [],
   "source": [
    " def terminal_rewards(state, gamma, reward):\n",
    "    terminal_rewards = []\n",
    "    for i in range(len(state)):\n",
    "        rewards = (gamma ** (len(state) - i - 1)) * reward\n",
    "        terminal_rewards.append(rewards)\n",
    "    return terminal_rewards"
   ]
  },
  {
   "cell_type": "code",
   "execution_count": 12,
   "id": "1e7f01e4",
   "metadata": {
    "ExecuteTime": {
     "end_time": "2021-05-24T05:24:46.184668Z",
     "start_time": "2021-05-24T05:24:46.169994Z"
    }
   },
   "outputs": [],
   "source": [
    "def get_discnt_reward(rewards, values, next_values, done):\n",
    "    g = 0\n",
    "    lmbda = 0.95\n",
    "    gamma = 0.99\n",
    "    returns = []\n",
    "    \n",
    "    for i in reversed(range(len(rewards))):\n",
    "        delta = rewards[i] + gamma * next_values[i] * dones[i] - values[i]\n",
    "        g = delta + gamma * lmbda * dones[i] * g\n",
    "        returns.append(g + values[i])\n",
    "    returns.reverse()\n",
    "    return returns"
   ]
  },
  {
   "cell_type": "code",
   "execution_count": 40,
   "id": "de5599c4",
   "metadata": {
    "ExecuteTime": {
     "end_time": "2021-05-24T05:48:47.216553Z",
     "start_time": "2021-05-24T05:48:47.205550Z"
    }
   },
   "outputs": [],
   "source": [
    "def get_advantage(returns, values):\n",
    "    advantage = np.array(returns) - values\n",
    "    print(advantage, np.mean(advantage), np.std(advantage))\n",
    "    advantage = (advantage - np.mean(advantage)) / (np.std(advantage))\n",
    "    return advantage"
   ]
  },
  {
   "cell_type": "code",
   "execution_count": 14,
   "id": "8e8b26b0",
   "metadata": {
    "ExecuteTime": {
     "end_time": "2021-05-24T05:24:46.214403Z",
     "start_time": "2021-05-24T05:24:46.200360Z"
    }
   },
   "outputs": [],
   "source": [
    "avg_actor_loss_l, avg_critic_loss_l = [], []"
   ]
  },
  {
   "cell_type": "code",
   "execution_count": 38,
   "id": "b1c359bb",
   "metadata": {
    "ExecuteTime": {
     "end_time": "2021-05-24T05:48:05.774877Z",
     "start_time": "2021-05-24T05:48:02.670497Z"
    },
    "scrolled": true
   },
   "outputs": [
    {
     "name": "stdout",
     "output_type": "stream",
     "text": [
      "=====episode:     1 | reward : 0.800| actor loss : 0.066621 critic loss : 0.066748 time: 0.170\n",
      "=====episode:     2 | reward : 0.750| actor loss : 0.043625 critic loss : 0.043753 time: 0.090\n",
      "=====episode:     3 | reward : 0.800| actor loss : 0.029136 critic loss : 0.029222 time: 0.107\n",
      "=====episode:     4 | reward : 0.750| actor loss : 0.011232 critic loss : 0.011325 time: 0.111\n",
      "=====episode:     5 | reward : 0.800| actor loss : 0.008369 critic loss : 0.008476 time: 0.093\n",
      "=====episode:     6 | reward : 0.750| actor loss : 0.002281 critic loss : 0.002392 time: 0.111\n",
      "=====episode:     7 | reward : 0.800| actor loss : 0.000643 critic loss : 0.000770 time: 0.088\n",
      "=====episode:     8 | reward : 0.750| actor loss : 0.000780 critic loss : 0.000864 time: 0.110\n",
      "=====episode:     9 | reward : 0.800| actor loss : 0.000893 critic loss : 0.000999 time: 0.090\n",
      "=====episode:    10 | reward : 0.750| actor loss : 0.018116 critic loss : 0.018221 time: 0.093\n",
      "=====episode:    11 | reward : 0.720| actor loss : 0.012242 critic loss : 0.012393 time: 0.094\n",
      "=====episode:    12 | reward : 0.750| actor loss : 0.010958 critic loss : 0.011101 time: 0.099\n",
      "=====episode:    13 | reward : 0.800| actor loss : 0.000941 critic loss : 0.001040 time: 0.115\n",
      "=====episode:    14 | reward : 1.000| actor loss : 0.035808 critic loss : 0.035915 time: 0.115\n",
      "=====episode:    15 | reward : 0.720| actor loss : 0.006411 critic loss : 0.006563 time: 0.088\n",
      "=====episode:    16 | reward : 0.750| actor loss : 0.015091 critic loss : 0.015162 time: 0.095\n",
      "=====episode:    17 | reward : 0.600| actor loss : 0.010908 critic loss : 0.011014 time: 0.106\n",
      "=====episode:    18 | reward : 1.000| actor loss : 0.033540 critic loss : 0.033637 time: 0.114\n",
      "=====episode:    19 | reward : 0.800| actor loss : 0.000827 critic loss : 0.000958 time: 0.092\n",
      "=====episode:    20 | reward : 0.750| actor loss : 0.004993 critic loss : 0.005108 time: 0.089\n",
      "=====episode:    21 | reward : 0.600| actor loss : 0.008992 critic loss : 0.009070 time: 0.109\n",
      "=====episode:    22 | reward : 0.750| actor loss : 0.002590 critic loss : 0.002668 time: 0.107\n",
      "=====episode:    23 | reward : 1.000| actor loss : 0.034987 critic loss : 0.035089 time: 0.108\n",
      "=====episode:    24 | reward : 0.750| actor loss : 0.006657 critic loss : 0.006761 time: 0.091\n",
      "=====episode:    25 | reward : 1.000| actor loss : 0.032298 critic loss : 0.032396 time: 0.114\n",
      "=====episode:    26 | reward : 0.750| actor loss : 0.002345 critic loss : 0.002400 time: 0.112\n",
      "=====episode:    27 | reward : 0.760| actor loss : 0.001604 critic loss : 0.001755 time: 0.090\n",
      "=====episode:    28 | reward : 0.750| actor loss : 0.003396 critic loss : 0.003462 time: 0.116\n",
      "=====episode:    29 | reward : 0.800| actor loss : 0.000280 critic loss : 0.000371 time: 0.108\n"
     ]
    },
    {
     "ename": "KeyboardInterrupt",
     "evalue": "",
     "output_type": "error",
     "traceback": [
      "\u001b[1;31m---------------------------------------------------------------------------\u001b[0m",
      "\u001b[1;31mKeyboardInterrupt\u001b[0m                         Traceback (most recent call last)",
      "\u001b[1;32m<ipython-input-38-e316be5df12e>\u001b[0m in \u001b[0;36m<module>\u001b[1;34m\u001b[0m\n\u001b[0;32m     25\u001b[0m         \u001b[0ms_order\u001b[0m \u001b[1;33m=\u001b[0m \u001b[0mget_selected_order\u001b[0m\u001b[1;33m(\u001b[0m\u001b[0mselected\u001b[0m\u001b[1;33m,\u001b[0m \u001b[0mk\u001b[0m\u001b[1;33m)\u001b[0m\u001b[1;33m\u001b[0m\u001b[1;33m\u001b[0m\u001b[0m\n\u001b[0;32m     26\u001b[0m \u001b[1;33m\u001b[0m\u001b[0m\n\u001b[1;32m---> 27\u001b[1;33m         \u001b[0mnum_loaded_c\u001b[0m\u001b[1;33m,\u001b[0m \u001b[0mloading_size_c\u001b[0m\u001b[1;33m,\u001b[0m \u001b[0mloading_pos_c\u001b[0m\u001b[1;33m,\u001b[0m \u001b[0mnext_state_c\u001b[0m\u001b[1;33m,\u001b[0m \u001b[0mnext_h_c\u001b[0m\u001b[1;33m,\u001b[0m \u001b[0mloaded_mh_c\u001b[0m \u001b[1;33m=\u001b[0m \u001b[0mget_selected_location\u001b[0m\u001b[1;33m(\u001b[0m\u001b[0ms_order\u001b[0m\u001b[1;33m,\u001b[0m \u001b[0mstate\u001b[0m\u001b[1;33m,\u001b[0m \u001b[0mstate_h\u001b[0m\u001b[1;33m,\u001b[0m \u001b[0menv\u001b[0m\u001b[1;33m.\u001b[0m\u001b[0mheight\u001b[0m\u001b[1;33m)\u001b[0m\u001b[1;33m\u001b[0m\u001b[1;33m\u001b[0m\u001b[0m\n\u001b[0m\u001b[0;32m     28\u001b[0m         \u001b[0min_state\u001b[0m\u001b[1;33m,\u001b[0m \u001b[0min_r_boxes\u001b[0m\u001b[1;33m,\u001b[0m \u001b[0min_loading\u001b[0m \u001b[1;33m=\u001b[0m \u001b[0mraw2input\u001b[0m\u001b[1;33m(\u001b[0m\u001b[0mstate_h\u001b[0m\u001b[1;33m,\u001b[0m \u001b[0mlen\u001b[0m\u001b[1;33m(\u001b[0m\u001b[0mnum_loaded_c\u001b[0m\u001b[1;33m)\u001b[0m\u001b[1;33m,\u001b[0m \u001b[0mr_boxes\u001b[0m\u001b[1;33m,\u001b[0m \u001b[0mnum_max_remain\u001b[0m\u001b[1;33m,\u001b[0m \u001b[0mK\u001b[0m\u001b[1;33m,\u001b[0m \u001b[0mloading_size_c\u001b[0m\u001b[1;33m,\u001b[0m \u001b[0menv\u001b[0m\u001b[1;33m.\u001b[0m\u001b[0mheight\u001b[0m\u001b[1;33m)\u001b[0m\u001b[1;33m\u001b[0m\u001b[1;33m\u001b[0m\u001b[0m\n\u001b[0;32m     29\u001b[0m \u001b[1;33m\u001b[0m\u001b[0m\n",
      "\u001b[1;32m~\\Jupyter Notebook Workspace\\Glovis Workspace2\\libs\\utils.py\u001b[0m in \u001b[0;36mget_selected_location\u001b[1;34m(s_order, state_org, state_h_org, e_h)\u001b[0m\n\u001b[0;32m    150\u001b[0m                 \u001b[0mfixed_xyz\u001b[0m \u001b[1;33m=\u001b[0m \u001b[1;33m[\u001b[0m\u001b[1;33m]\u001b[0m\u001b[1;33m\u001b[0m\u001b[1;33m\u001b[0m\u001b[0m\n\u001b[0;32m    151\u001b[0m             \u001b[1;32melse\u001b[0m\u001b[1;33m:\u001b[0m\u001b[1;33m\u001b[0m\u001b[1;33m\u001b[0m\u001b[0m\n\u001b[1;32m--> 152\u001b[1;33m                 \u001b[0mfixed_xyz\u001b[0m \u001b[1;33m=\u001b[0m \u001b[0mget_fixed_loc\u001b[0m\u001b[1;33m(\u001b[0m\u001b[0mbox\u001b[0m\u001b[1;33m,\u001b[0m \u001b[0mstate_h\u001b[0m\u001b[1;33m,\u001b[0m \u001b[0me_h\u001b[0m\u001b[1;33m)\u001b[0m \u001b[1;31m#박스의 좌표와 next_state\u001b[0m\u001b[1;33m\u001b[0m\u001b[1;33m\u001b[0m\u001b[0m\n\u001b[0m\u001b[0;32m    153\u001b[0m             \u001b[1;32mif\u001b[0m \u001b[0mlen\u001b[0m\u001b[1;33m(\u001b[0m\u001b[0mfixed_xyz\u001b[0m\u001b[1;33m)\u001b[0m \u001b[1;33m==\u001b[0m \u001b[1;36m0\u001b[0m\u001b[1;33m:\u001b[0m\u001b[1;33m\u001b[0m\u001b[1;33m\u001b[0m\u001b[0m\n\u001b[0;32m    154\u001b[0m                 \u001b[1;32mcontinue\u001b[0m\u001b[1;33m\u001b[0m\u001b[1;33m\u001b[0m\u001b[0m\n",
      "\u001b[1;32m~\\Jupyter Notebook Workspace\\Glovis Workspace2\\libs\\utils.py\u001b[0m in \u001b[0;36mget_fixed_loc\u001b[1;34m(box, state_h, env_h)\u001b[0m\n\u001b[0;32m     83\u001b[0m     \u001b[0mbxl\u001b[0m\u001b[1;33m,\u001b[0m \u001b[0mbxb\u001b[0m\u001b[1;33m,\u001b[0m \u001b[0mbxh\u001b[0m \u001b[1;33m=\u001b[0m \u001b[0mbox\u001b[0m\u001b[1;33m[\u001b[0m\u001b[1;36m0\u001b[0m\u001b[1;33m]\u001b[0m\u001b[1;33m,\u001b[0m \u001b[0mbox\u001b[0m\u001b[1;33m[\u001b[0m\u001b[1;36m1\u001b[0m\u001b[1;33m]\u001b[0m\u001b[1;33m,\u001b[0m \u001b[0mbox\u001b[0m\u001b[1;33m[\u001b[0m\u001b[1;36m2\u001b[0m\u001b[1;33m]\u001b[0m\u001b[1;33m\u001b[0m\u001b[1;33m\u001b[0m\u001b[0m\n\u001b[0;32m     84\u001b[0m     \u001b[0mf_loc\u001b[0m \u001b[1;33m=\u001b[0m \u001b[0mnp\u001b[0m\u001b[1;33m.\u001b[0m\u001b[0mwhere\u001b[0m\u001b[1;33m(\u001b[0m\u001b[0mstate_h\u001b[0m \u001b[1;33m+\u001b[0m \u001b[0mbxh\u001b[0m \u001b[1;33m<=\u001b[0m \u001b[0menv_h\u001b[0m\u001b[1;33m)\u001b[0m \u001b[1;31m# 환경의 높이보다 state 작은 위치\u001b[0m\u001b[1;33m\u001b[0m\u001b[1;33m\u001b[0m\u001b[0m\n\u001b[1;32m---> 85\u001b[1;33m     \u001b[0mf_upleft\u001b[0m \u001b[1;33m=\u001b[0m \u001b[0mnp\u001b[0m\u001b[1;33m.\u001b[0m\u001b[0mstack\u001b[0m\u001b[1;33m(\u001b[0m\u001b[1;33m[\u001b[0m\u001b[0mf_loc\u001b[0m\u001b[1;33m[\u001b[0m\u001b[1;36m0\u001b[0m\u001b[1;33m]\u001b[0m\u001b[1;33m,\u001b[0m \u001b[0mf_loc\u001b[0m\u001b[1;33m[\u001b[0m\u001b[1;36m1\u001b[0m\u001b[1;33m]\u001b[0m\u001b[1;33m]\u001b[0m\u001b[1;33m,\u001b[0m \u001b[0maxis\u001b[0m\u001b[1;33m=\u001b[0m\u001b[1;33m-\u001b[0m\u001b[1;36m1\u001b[0m\u001b[1;33m)\u001b[0m \u001b[1;31m# array 형태로 변환\u001b[0m\u001b[1;33m\u001b[0m\u001b[1;33m\u001b[0m\u001b[0m\n\u001b[0m\u001b[0;32m     86\u001b[0m     \u001b[0mf_upleft\u001b[0m \u001b[1;33m=\u001b[0m \u001b[0mf_upleft\u001b[0m\u001b[1;33m[\u001b[0m\u001b[0mf_upleft\u001b[0m\u001b[1;33m[\u001b[0m\u001b[1;33m:\u001b[0m\u001b[1;33m,\u001b[0m\u001b[1;36m0\u001b[0m\u001b[1;33m]\u001b[0m \u001b[1;33m+\u001b[0m \u001b[0mbxl\u001b[0m  \u001b[1;33m<=\u001b[0m \u001b[0menv_l\u001b[0m \u001b[1;33m]\u001b[0m \u001b[1;31m# row 넘어가면 삭제\u001b[0m\u001b[1;33m\u001b[0m\u001b[1;33m\u001b[0m\u001b[0m\n\u001b[0;32m     87\u001b[0m     \u001b[0mf_upleft\u001b[0m \u001b[1;33m=\u001b[0m \u001b[0mf_upleft\u001b[0m\u001b[1;33m[\u001b[0m\u001b[0mf_upleft\u001b[0m\u001b[1;33m[\u001b[0m\u001b[1;33m:\u001b[0m\u001b[1;33m,\u001b[0m\u001b[1;36m1\u001b[0m\u001b[1;33m]\u001b[0m \u001b[1;33m+\u001b[0m \u001b[0mbxb\u001b[0m \u001b[1;33m<=\u001b[0m \u001b[0menv_b\u001b[0m \u001b[1;33m]\u001b[0m \u001b[1;31m# columns 넘어가면 삭제\u001b[0m\u001b[1;33m\u001b[0m\u001b[1;33m\u001b[0m\u001b[0m\n",
      "\u001b[1;32m<__array_function__ internals>\u001b[0m in \u001b[0;36mstack\u001b[1;34m(*args, **kwargs)\u001b[0m\n",
      "\u001b[1;32m~\\anaconda3\\envs\\RL\\lib\\site-packages\\numpy\\core\\shape_base.py\u001b[0m in \u001b[0;36mstack\u001b[1;34m(arrays, axis, out)\u001b[0m\n\u001b[0;32m    432\u001b[0m     \u001b[0msl\u001b[0m \u001b[1;33m=\u001b[0m \u001b[1;33m(\u001b[0m\u001b[0mslice\u001b[0m\u001b[1;33m(\u001b[0m\u001b[1;32mNone\u001b[0m\u001b[1;33m)\u001b[0m\u001b[1;33m,\u001b[0m\u001b[1;33m)\u001b[0m \u001b[1;33m*\u001b[0m \u001b[0maxis\u001b[0m \u001b[1;33m+\u001b[0m \u001b[1;33m(\u001b[0m\u001b[0m_nx\u001b[0m\u001b[1;33m.\u001b[0m\u001b[0mnewaxis\u001b[0m\u001b[1;33m,\u001b[0m\u001b[1;33m)\u001b[0m\u001b[1;33m\u001b[0m\u001b[1;33m\u001b[0m\u001b[0m\n\u001b[0;32m    433\u001b[0m     \u001b[0mexpanded_arrays\u001b[0m \u001b[1;33m=\u001b[0m \u001b[1;33m[\u001b[0m\u001b[0marr\u001b[0m\u001b[1;33m[\u001b[0m\u001b[0msl\u001b[0m\u001b[1;33m]\u001b[0m \u001b[1;32mfor\u001b[0m \u001b[0marr\u001b[0m \u001b[1;32min\u001b[0m \u001b[0marrays\u001b[0m\u001b[1;33m]\u001b[0m\u001b[1;33m\u001b[0m\u001b[1;33m\u001b[0m\u001b[0m\n\u001b[1;32m--> 434\u001b[1;33m     \u001b[1;32mreturn\u001b[0m \u001b[0m_nx\u001b[0m\u001b[1;33m.\u001b[0m\u001b[0mconcatenate\u001b[0m\u001b[1;33m(\u001b[0m\u001b[0mexpanded_arrays\u001b[0m\u001b[1;33m,\u001b[0m \u001b[0maxis\u001b[0m\u001b[1;33m=\u001b[0m\u001b[0maxis\u001b[0m\u001b[1;33m,\u001b[0m \u001b[0mout\u001b[0m\u001b[1;33m=\u001b[0m\u001b[0mout\u001b[0m\u001b[1;33m)\u001b[0m\u001b[1;33m\u001b[0m\u001b[1;33m\u001b[0m\u001b[0m\n\u001b[0m\u001b[0;32m    435\u001b[0m \u001b[1;33m\u001b[0m\u001b[0m\n\u001b[0;32m    436\u001b[0m \u001b[1;33m\u001b[0m\u001b[0m\n",
      "\u001b[1;32m<__array_function__ internals>\u001b[0m in \u001b[0;36mconcatenate\u001b[1;34m(*args, **kwargs)\u001b[0m\n",
      "\u001b[1;31mKeyboardInterrupt\u001b[0m: "
     ]
    }
   ],
   "source": [
    "for e in range(1,num_episode):\n",
    "    st = time.time()\n",
    "    \n",
    "    if e%2 == 1: boxes_multi,gt_pos = boxes_multi1.copy(), gt_pos1.copy()\n",
    "    else: boxes_multi,gt_pos = boxes_multi2.copy(), gt_pos2.copy()\n",
    "        \n",
    "    env.reset()\n",
    "    done = False\n",
    "    step = 0\n",
    "    \n",
    "    history, h_load, h_remain_size, h_load_size = [],[],[],[]\n",
    "    values, prob_l, dones, next_values = [],[],[],[]\n",
    "    used_boxes, pred_pos = [],[]\n",
    "    \n",
    "    boxes_all = np.array(boxes_multi)[0].copy()\n",
    "    r_boxes = boxes_all.copy()\n",
    "    \n",
    "    while not done:\n",
    "        state = env.container_s.copy()\n",
    "        state_h = env.container_h.copy()\n",
    "        step += 1\n",
    "        \n",
    "        k = min(K, len(r_boxes))\n",
    "        selected = cbn_select_boxes(r_boxes[:n_candidates], k)\n",
    "        s_order = get_selected_order(selected, k)\n",
    "        \n",
    "        num_loaded_c, loading_size_c, loading_pos_c, next_state_c, next_h_c, loaded_mh_c = get_selected_location(s_order, state, state_h, env.height)\n",
    "        in_state, in_r_boxes, in_loading = raw2input(state_h, len(num_loaded_c), r_boxes, num_max_remain, K, loading_size_c, env.height)\n",
    "        \n",
    "#         if len(num_loaded_c) == 1:\n",
    "#             action_idx = 0\n",
    "#         else:\n",
    "        prob, action_idx = agent.get_action(in_state, np.array(loaded_mh_c), in_r_boxes, in_loading)\n",
    "        value = agent.get_value(in_state, loaded_mh_c, in_r_boxes, in_loading)\n",
    "        prob_l.append(prob)\n",
    "        values.append(value)\n",
    "            \n",
    "        env.step(next_state_c[action_idx], next_h_c[action_idx])\n",
    "        num_loaded_box = num_loaded_c[action_idx]\n",
    "        \n",
    "        if num_loaded_box != 0:\n",
    "            new_used_boxes = loading_size_c[action_idx]\n",
    "            r_boxes = get_remain(new_used_boxes, r_boxes)\n",
    "            used_boxes = used_boxes + loading_size_c[action_idx]\n",
    "            pred_pos = pred_pos + loading_pos_c[action_idx]\n",
    "        else:\n",
    "            r_boxes = get_remain(s_order[action_idx], r_boxes)\n",
    "            \n",
    "        if len(r_boxes) == 0 or np.sum(env.container_h != env.height) == 0:\n",
    "            done = True\n",
    "            \n",
    "        if len(num_loaded_c) != 1 or done:\n",
    "            dones.append(done)\n",
    "            history.append(in_state[action_idx])\n",
    "            h_load.append(loaded_mh_c[action_idx])\n",
    "            h_remain_size.append(in_r_boxes[action_idx])\n",
    "            h_load_size.append(in_loading[action_idx])\n",
    "            \n",
    "            next_state = next_state_c[action_idx].copy()\n",
    "            next_state_h = next_h_c[action_idx].copy()\n",
    "            \n",
    "            if done:\n",
    "                in_next_history = next_state_h.reshape((1, env.length, env.breadth, 1))\n",
    "                loaded_mh_c = np.zeros((1, env.length, env.breadth, 2))\n",
    "                in_next_remains = np.zeros((1, env.length, env.breadth, num_max_remain))\n",
    "                in_next_loading = np.zeros((1, env.length, env.breadth, K))\n",
    "            else:\n",
    "                k = min(K, len(r_boxes))\n",
    "                selected = cbn_select_boxes(r_boxes[:n_candidates], k)\n",
    "                s_order = get_selected_order(selected, k)\n",
    "                num_loaded_c, loading_size_c, loading_pos_c, next_state_c, next_h_c, loaded_mh_c = get_selected_location(s_order, next_state, next_state_h, env.height)\n",
    "                in_next_history, in_next_remains, in_next_loading = \\\n",
    "                    raw2input(next_state_h, len(num_loaded_c), r_boxes, num_max_remain,  K, loading_size_c, env.height)\n",
    "                \n",
    "            next_value = agent.get_value(in_next_history, loaded_mh_c,\n",
    "                                        in_next_remains, in_next_loading)\n",
    "            next_values.append(next_value)\n",
    "            \n",
    "        if done:\n",
    "            h_fill.append(env.terminal_reward())\n",
    "            rewards = terminal_rewards(history, agent.discount_factor, env.terminal_reward()**3)\n",
    "            \n",
    "            returns = get_discnt_reward(rewards, values, next_values, dones)\n",
    "            advantage = get_advantage(returns, values)\n",
    "            \n",
    "            probs = np.stack(prob_l, axis=0)\n",
    "            \n",
    "            agent.train(history, h_load, h_remain_size, h_load_size, returns, advantage, probs)\n",
    "            avg_actor_loss_l.append(agent.avg_actor_loss)\n",
    "            avg_critic_loss_l.append(agent.avg_critic_loss)\n",
    "            \n",
    "    log = \"=====episode: {:5d} | \".format(e)\n",
    "    log += \"reward : {:.3f}| \".format(env.terminal_reward())\n",
    "    log += \"actor loss : {:6f} \".format(agent.avg_actor_loss / float(step))\n",
    "    log += \"critic loss : {:6f} \".format(agent.avg_critic_loss / float(step))\n",
    "    log += \"time: {:.3f}\".format(time.time()-st)\n",
    "    print(log)\n",
    "    \n",
    "    agent.avg_actor_loss, agent.avg_critic_loss = 0, 0"
   ]
  },
  {
   "cell_type": "code",
   "execution_count": 42,
   "id": "08ea93d8",
   "metadata": {
    "ExecuteTime": {
     "end_time": "2021-05-24T05:49:24.424660Z",
     "start_time": "2021-05-24T05:49:24.319343Z"
    }
   },
   "outputs": [
    {
     "name": "stdout",
     "output_type": "stream",
     "text": [
      "[-9.67858087] -9.678580875 0.0\n",
      "1\n",
      "=====episode:     1 | reward : 0.685| actor loss :    nan critic loss : 0.006599 time: 0.076\n"
     ]
    },
    {
     "name": "stderr",
     "output_type": "stream",
     "text": [
      "C:\\Users\\vfgtr\\anaconda3\\envs\\RL\\lib\\site-packages\\ipykernel_launcher.py:4: RuntimeWarning: invalid value encountered in true_divide\n",
      "  after removing the cwd from sys.path.\n"
     ]
    },
    {
     "ename": "ValueError",
     "evalue": "negative dimensions are not allowed",
     "output_type": "error",
     "traceback": [
      "\u001b[1;31m---------------------------------------------------------------------------\u001b[0m",
      "\u001b[1;31mValueError\u001b[0m                                Traceback (most recent call last)",
      "\u001b[1;32m<ipython-input-42-b5dbaa126c43>\u001b[0m in \u001b[0;36m<module>\u001b[1;34m\u001b[0m\n\u001b[0;32m     28\u001b[0m \u001b[1;33m\u001b[0m\u001b[0m\n\u001b[0;32m     29\u001b[0m         \u001b[0mnum_loaded_c\u001b[0m\u001b[1;33m,\u001b[0m \u001b[0mloading_size_c\u001b[0m\u001b[1;33m,\u001b[0m \u001b[0mloading_pos_c\u001b[0m\u001b[1;33m,\u001b[0m \u001b[0mnext_state_c\u001b[0m\u001b[1;33m,\u001b[0m \u001b[0mnext_h_c\u001b[0m\u001b[1;33m,\u001b[0m \u001b[0mloaded_mh_c\u001b[0m \u001b[1;33m=\u001b[0m \u001b[0mget_selected_location\u001b[0m\u001b[1;33m(\u001b[0m\u001b[0ms_order\u001b[0m\u001b[1;33m,\u001b[0m \u001b[0mstate\u001b[0m\u001b[1;33m,\u001b[0m \u001b[0mstate_h\u001b[0m\u001b[1;33m,\u001b[0m \u001b[0menv\u001b[0m\u001b[1;33m.\u001b[0m\u001b[0mheight\u001b[0m\u001b[1;33m)\u001b[0m\u001b[1;33m\u001b[0m\u001b[1;33m\u001b[0m\u001b[0m\n\u001b[1;32m---> 30\u001b[1;33m         \u001b[0min_state\u001b[0m\u001b[1;33m,\u001b[0m \u001b[0min_r_boxes\u001b[0m\u001b[1;33m,\u001b[0m \u001b[0min_loading\u001b[0m \u001b[1;33m=\u001b[0m \u001b[0mraw2input\u001b[0m\u001b[1;33m(\u001b[0m\u001b[0mstate_h\u001b[0m\u001b[1;33m,\u001b[0m \u001b[0mlen\u001b[0m\u001b[1;33m(\u001b[0m\u001b[0mnum_loaded_c\u001b[0m\u001b[1;33m)\u001b[0m\u001b[1;33m,\u001b[0m \u001b[0mr_boxes\u001b[0m\u001b[1;33m,\u001b[0m \u001b[0mnum_max_remain\u001b[0m\u001b[1;33m,\u001b[0m \u001b[0mK\u001b[0m\u001b[1;33m,\u001b[0m \u001b[0mloading_size_c\u001b[0m\u001b[1;33m,\u001b[0m \u001b[0menv\u001b[0m\u001b[1;33m.\u001b[0m\u001b[0mheight\u001b[0m\u001b[1;33m)\u001b[0m\u001b[1;33m\u001b[0m\u001b[1;33m\u001b[0m\u001b[0m\n\u001b[0m\u001b[0;32m     31\u001b[0m \u001b[1;33m\u001b[0m\u001b[0m\n\u001b[0;32m     32\u001b[0m         \u001b[1;32mif\u001b[0m \u001b[0mlen\u001b[0m\u001b[1;33m(\u001b[0m\u001b[0mnum_loaded_c\u001b[0m\u001b[1;33m)\u001b[0m \u001b[1;33m==\u001b[0m \u001b[1;36m1\u001b[0m\u001b[1;33m:\u001b[0m\u001b[1;33m\u001b[0m\u001b[1;33m\u001b[0m\u001b[0m\n",
      "\u001b[1;32m~\\Jupyter Notebook Workspace\\Glovis Workspace2\\libs\\utils.py\u001b[0m in \u001b[0;36mraw2input\u001b[1;34m(state_h, n_candidates, r_boxes, num_max_remain, num_selected, loading_size_c, e_h)\u001b[0m\n\u001b[0;32m     44\u001b[0m     \u001b[0me_l\u001b[0m\u001b[1;33m,\u001b[0m \u001b[0me_b\u001b[0m \u001b[1;33m=\u001b[0m \u001b[0mstate_h\u001b[0m\u001b[1;33m.\u001b[0m\u001b[0mshape\u001b[0m\u001b[1;33m\u001b[0m\u001b[1;33m\u001b[0m\u001b[0m\n\u001b[0;32m     45\u001b[0m     \u001b[0mstate_h_c\u001b[0m \u001b[1;33m=\u001b[0m \u001b[0mnp\u001b[0m\u001b[1;33m.\u001b[0m\u001b[0marray\u001b[0m\u001b[1;33m(\u001b[0m\u001b[1;33m[\u001b[0m\u001b[0mstate_h\u001b[0m\u001b[1;33m]\u001b[0m\u001b[1;33m*\u001b[0m\u001b[0mn_candidates\u001b[0m\u001b[1;33m)\u001b[0m\u001b[1;33m.\u001b[0m\u001b[0mreshape\u001b[0m\u001b[1;33m(\u001b[0m\u001b[1;33m(\u001b[0m\u001b[1;33m-\u001b[0m\u001b[1;36m1\u001b[0m\u001b[1;33m,\u001b[0m \u001b[0me_l\u001b[0m\u001b[1;33m,\u001b[0m\u001b[0me_b\u001b[0m\u001b[1;33m,\u001b[0m\u001b[1;36m1\u001b[0m\u001b[1;33m)\u001b[0m\u001b[1;33m)\u001b[0m\u001b[1;33m\u001b[0m\u001b[1;33m\u001b[0m\u001b[0m\n\u001b[1;32m---> 46\u001b[1;33m     \u001b[0mr_boxes_c\u001b[0m \u001b[1;33m=\u001b[0m \u001b[0mnp\u001b[0m\u001b[1;33m.\u001b[0m\u001b[0marray\u001b[0m\u001b[1;33m(\u001b[0m\u001b[1;33m[\u001b[0m\u001b[0mpadding_boxes\u001b[0m\u001b[1;33m(\u001b[0m\u001b[0mget_remain\u001b[0m\u001b[1;33m(\u001b[0m\u001b[0ml\u001b[0m\u001b[1;33m,\u001b[0m \u001b[0mr_boxes\u001b[0m\u001b[1;33m)\u001b[0m\u001b[1;33m,\u001b[0m \u001b[0mnum_max_remain\u001b[0m\u001b[1;33m)\u001b[0m \u001b[1;32mfor\u001b[0m \u001b[0ml\u001b[0m \u001b[1;32min\u001b[0m \u001b[0mloading_size_c\u001b[0m\u001b[1;33m]\u001b[0m\u001b[1;33m)\u001b[0m\u001b[1;33m.\u001b[0m\u001b[0mastype\u001b[0m\u001b[1;33m(\u001b[0m\u001b[1;34m'int'\u001b[0m\u001b[1;33m)\u001b[0m\u001b[1;33m\u001b[0m\u001b[1;33m\u001b[0m\u001b[0m\n\u001b[0m\u001b[0;32m     47\u001b[0m     \u001b[0mloading_c\u001b[0m \u001b[1;33m=\u001b[0m \u001b[0mnp\u001b[0m\u001b[1;33m.\u001b[0m\u001b[0marray\u001b[0m\u001b[1;33m(\u001b[0m\u001b[1;33m[\u001b[0m\u001b[0mpadding_boxes\u001b[0m\u001b[1;33m(\u001b[0m\u001b[0ml\u001b[0m\u001b[1;33m,\u001b[0m \u001b[0mnum_selected\u001b[0m\u001b[1;33m)\u001b[0m \u001b[1;32mfor\u001b[0m \u001b[0ml\u001b[0m \u001b[1;32min\u001b[0m \u001b[0mloading_size_c\u001b[0m\u001b[1;33m]\u001b[0m\u001b[1;33m)\u001b[0m\u001b[1;33m.\u001b[0m\u001b[0mastype\u001b[0m\u001b[1;33m(\u001b[0m\u001b[1;34m'int'\u001b[0m\u001b[1;33m)\u001b[0m\u001b[1;33m\u001b[0m\u001b[1;33m\u001b[0m\u001b[0m\n\u001b[0;32m     48\u001b[0m     \u001b[0mr_mat_c\u001b[0m \u001b[1;33m=\u001b[0m \u001b[0mnp\u001b[0m\u001b[1;33m.\u001b[0m\u001b[0marray\u001b[0m\u001b[1;33m(\u001b[0m\u001b[1;33m(\u001b[0m\u001b[1;33m[\u001b[0m \u001b[1;33m[\u001b[0m\u001b[0msize2matrix\u001b[0m\u001b[1;33m(\u001b[0m\u001b[0mj\u001b[0m\u001b[1;33m,\u001b[0m \u001b[0me_l\u001b[0m\u001b[1;33m,\u001b[0m \u001b[0me_b\u001b[0m\u001b[1;33m)\u001b[0m \u001b[1;32mfor\u001b[0m \u001b[0mj\u001b[0m \u001b[1;32min\u001b[0m \u001b[0mi\u001b[0m\u001b[1;33m]\u001b[0m \u001b[1;32mfor\u001b[0m \u001b[0mi\u001b[0m \u001b[1;32min\u001b[0m \u001b[0mr_boxes_c\u001b[0m  \u001b[1;33m]\u001b[0m\u001b[1;33m)\u001b[0m\u001b[1;33m)\u001b[0m\u001b[1;33m\u001b[0m\u001b[1;33m\u001b[0m\u001b[0m\n",
      "\u001b[1;32m~\\Jupyter Notebook Workspace\\Glovis Workspace2\\libs\\utils.py\u001b[0m in \u001b[0;36m<listcomp>\u001b[1;34m(.0)\u001b[0m\n\u001b[0;32m     44\u001b[0m     \u001b[0me_l\u001b[0m\u001b[1;33m,\u001b[0m \u001b[0me_b\u001b[0m \u001b[1;33m=\u001b[0m \u001b[0mstate_h\u001b[0m\u001b[1;33m.\u001b[0m\u001b[0mshape\u001b[0m\u001b[1;33m\u001b[0m\u001b[1;33m\u001b[0m\u001b[0m\n\u001b[0;32m     45\u001b[0m     \u001b[0mstate_h_c\u001b[0m \u001b[1;33m=\u001b[0m \u001b[0mnp\u001b[0m\u001b[1;33m.\u001b[0m\u001b[0marray\u001b[0m\u001b[1;33m(\u001b[0m\u001b[1;33m[\u001b[0m\u001b[0mstate_h\u001b[0m\u001b[1;33m]\u001b[0m\u001b[1;33m*\u001b[0m\u001b[0mn_candidates\u001b[0m\u001b[1;33m)\u001b[0m\u001b[1;33m.\u001b[0m\u001b[0mreshape\u001b[0m\u001b[1;33m(\u001b[0m\u001b[1;33m(\u001b[0m\u001b[1;33m-\u001b[0m\u001b[1;36m1\u001b[0m\u001b[1;33m,\u001b[0m \u001b[0me_l\u001b[0m\u001b[1;33m,\u001b[0m\u001b[0me_b\u001b[0m\u001b[1;33m,\u001b[0m\u001b[1;36m1\u001b[0m\u001b[1;33m)\u001b[0m\u001b[1;33m)\u001b[0m\u001b[1;33m\u001b[0m\u001b[1;33m\u001b[0m\u001b[0m\n\u001b[1;32m---> 46\u001b[1;33m     \u001b[0mr_boxes_c\u001b[0m \u001b[1;33m=\u001b[0m \u001b[0mnp\u001b[0m\u001b[1;33m.\u001b[0m\u001b[0marray\u001b[0m\u001b[1;33m(\u001b[0m\u001b[1;33m[\u001b[0m\u001b[0mpadding_boxes\u001b[0m\u001b[1;33m(\u001b[0m\u001b[0mget_remain\u001b[0m\u001b[1;33m(\u001b[0m\u001b[0ml\u001b[0m\u001b[1;33m,\u001b[0m \u001b[0mr_boxes\u001b[0m\u001b[1;33m)\u001b[0m\u001b[1;33m,\u001b[0m \u001b[0mnum_max_remain\u001b[0m\u001b[1;33m)\u001b[0m \u001b[1;32mfor\u001b[0m \u001b[0ml\u001b[0m \u001b[1;32min\u001b[0m \u001b[0mloading_size_c\u001b[0m\u001b[1;33m]\u001b[0m\u001b[1;33m)\u001b[0m\u001b[1;33m.\u001b[0m\u001b[0mastype\u001b[0m\u001b[1;33m(\u001b[0m\u001b[1;34m'int'\u001b[0m\u001b[1;33m)\u001b[0m\u001b[1;33m\u001b[0m\u001b[1;33m\u001b[0m\u001b[0m\n\u001b[0m\u001b[0;32m     47\u001b[0m     \u001b[0mloading_c\u001b[0m \u001b[1;33m=\u001b[0m \u001b[0mnp\u001b[0m\u001b[1;33m.\u001b[0m\u001b[0marray\u001b[0m\u001b[1;33m(\u001b[0m\u001b[1;33m[\u001b[0m\u001b[0mpadding_boxes\u001b[0m\u001b[1;33m(\u001b[0m\u001b[0ml\u001b[0m\u001b[1;33m,\u001b[0m \u001b[0mnum_selected\u001b[0m\u001b[1;33m)\u001b[0m \u001b[1;32mfor\u001b[0m \u001b[0ml\u001b[0m \u001b[1;32min\u001b[0m \u001b[0mloading_size_c\u001b[0m\u001b[1;33m]\u001b[0m\u001b[1;33m)\u001b[0m\u001b[1;33m.\u001b[0m\u001b[0mastype\u001b[0m\u001b[1;33m(\u001b[0m\u001b[1;34m'int'\u001b[0m\u001b[1;33m)\u001b[0m\u001b[1;33m\u001b[0m\u001b[1;33m\u001b[0m\u001b[0m\n\u001b[0;32m     48\u001b[0m     \u001b[0mr_mat_c\u001b[0m \u001b[1;33m=\u001b[0m \u001b[0mnp\u001b[0m\u001b[1;33m.\u001b[0m\u001b[0marray\u001b[0m\u001b[1;33m(\u001b[0m\u001b[1;33m(\u001b[0m\u001b[1;33m[\u001b[0m \u001b[1;33m[\u001b[0m\u001b[0msize2matrix\u001b[0m\u001b[1;33m(\u001b[0m\u001b[0mj\u001b[0m\u001b[1;33m,\u001b[0m \u001b[0me_l\u001b[0m\u001b[1;33m,\u001b[0m \u001b[0me_b\u001b[0m\u001b[1;33m)\u001b[0m \u001b[1;32mfor\u001b[0m \u001b[0mj\u001b[0m \u001b[1;32min\u001b[0m \u001b[0mi\u001b[0m\u001b[1;33m]\u001b[0m \u001b[1;32mfor\u001b[0m \u001b[0mi\u001b[0m \u001b[1;32min\u001b[0m \u001b[0mr_boxes_c\u001b[0m  \u001b[1;33m]\u001b[0m\u001b[1;33m)\u001b[0m\u001b[1;33m)\u001b[0m\u001b[1;33m\u001b[0m\u001b[1;33m\u001b[0m\u001b[0m\n",
      "\u001b[1;32m~\\Jupyter Notebook Workspace\\Glovis Workspace2\\libs\\utils.py\u001b[0m in \u001b[0;36mpadding_boxes\u001b[1;34m(box, max_boxes)\u001b[0m\n\u001b[0;32m      9\u001b[0m \u001b[1;32mdef\u001b[0m \u001b[0mpadding_boxes\u001b[0m\u001b[1;33m(\u001b[0m\u001b[0mbox\u001b[0m\u001b[1;33m,\u001b[0m \u001b[0mmax_boxes\u001b[0m\u001b[1;33m)\u001b[0m\u001b[1;33m:\u001b[0m\u001b[1;33m\u001b[0m\u001b[1;33m\u001b[0m\u001b[0m\n\u001b[0;32m     10\u001b[0m     \u001b[0mbox\u001b[0m \u001b[1;33m=\u001b[0m \u001b[0mnp\u001b[0m\u001b[1;33m.\u001b[0m\u001b[0marray\u001b[0m\u001b[1;33m(\u001b[0m\u001b[0mbox\u001b[0m\u001b[1;33m)\u001b[0m\u001b[1;33m\u001b[0m\u001b[1;33m\u001b[0m\u001b[0m\n\u001b[1;32m---> 11\u001b[1;33m     \u001b[0mpadded\u001b[0m \u001b[1;33m=\u001b[0m \u001b[0mnp\u001b[0m\u001b[1;33m.\u001b[0m\u001b[0mconcatenate\u001b[0m\u001b[1;33m(\u001b[0m\u001b[1;33m[\u001b[0m\u001b[0mbox\u001b[0m\u001b[1;33m,\u001b[0m\u001b[0mnp\u001b[0m\u001b[1;33m.\u001b[0m\u001b[0mzeros\u001b[0m\u001b[1;33m(\u001b[0m\u001b[1;33m(\u001b[0m\u001b[0mmax_boxes\u001b[0m\u001b[1;33m-\u001b[0m\u001b[0mlen\u001b[0m\u001b[1;33m(\u001b[0m\u001b[0mbox\u001b[0m\u001b[1;33m)\u001b[0m\u001b[1;33m,\u001b[0m\u001b[1;36m3\u001b[0m\u001b[1;33m)\u001b[0m\u001b[1;33m)\u001b[0m\u001b[1;33m]\u001b[0m\u001b[1;33m)\u001b[0m\u001b[1;33m\u001b[0m\u001b[1;33m\u001b[0m\u001b[0m\n\u001b[0m\u001b[0;32m     12\u001b[0m     \u001b[1;32mreturn\u001b[0m \u001b[0mpadded\u001b[0m\u001b[1;33m\u001b[0m\u001b[1;33m\u001b[0m\u001b[0m\n\u001b[0;32m     13\u001b[0m \u001b[1;33m\u001b[0m\u001b[0m\n",
      "\u001b[1;31mValueError\u001b[0m: negative dimensions are not allowed"
     ]
    }
   ],
   "source": [
    "for e in range(1,num_episode):\n",
    "    st = time.time()\n",
    "    \n",
    "    boxes_multi,gt_pos = generation_3dbox(case_size=[[20,20,20]], min_s = 1, N_mdd=N_MDD, is_prediv='h')\n",
    "    \n",
    "    #if e%2 == 1: boxes_multi,gt_pos = boxes_multi1.copy(), gt_pos1.copy()\n",
    "    #else: boxes_multi,gt_pos = boxes_multi2.copy(), gt_pos2.copy()\n",
    "        \n",
    "    env.reset()\n",
    "    done = False\n",
    "    step = 0\n",
    "    \n",
    "    history, h_load, h_remain_size, h_load_size = [],[],[],[]\n",
    "    values, prob_l, dones, next_values = [],[],[],[]\n",
    "    used_boxes, pred_pos = [],[]\n",
    "    \n",
    "    boxes_all = np.array(boxes_multi)[0].copy()\n",
    "    r_boxes = boxes_all.copy()\n",
    "    \n",
    "    while not done:\n",
    "        state = env.container_s.copy()\n",
    "        state_h = env.container_h.copy()\n",
    "        step += 1\n",
    "        \n",
    "        k = min(K, len(r_boxes))\n",
    "        selected = cbn_select_boxes(r_boxes[:n_candidates], k)\n",
    "        s_order = get_selected_order(selected, k)\n",
    "        \n",
    "        num_loaded_c, loading_size_c, loading_pos_c, next_state_c, next_h_c, loaded_mh_c = get_selected_location(s_order, state, state_h, env.height)\n",
    "        in_state, in_r_boxes, in_loading = raw2input(state_h, len(num_loaded_c), r_boxes, num_max_remain, K, loading_size_c, env.height)\n",
    "        \n",
    "        if len(num_loaded_c) == 1:\n",
    "            action_idx = 0\n",
    "        else:\n",
    "            prob, action_idx = agent.get_action(in_state, np.array(loaded_mh_c), in_r_boxes, in_loading)\n",
    "            value = agent.get_value(in_state, loaded_mh_c, in_r_boxes, in_loading)\n",
    "            prob_l.append(prob)\n",
    "            values.append(value)\n",
    "            \n",
    "        env.step(next_state_c[action_idx], next_h_c[action_idx])\n",
    "        num_loaded_box = num_loaded_c[action_idx]\n",
    "        \n",
    "        if num_loaded_box != 0:\n",
    "            new_used_boxes = loading_size_c[action_idx]\n",
    "            r_boxes = get_remain(new_used_boxes, r_boxes)\n",
    "            used_boxes = used_boxes + loading_size_c[action_idx]\n",
    "            pred_pos = pred_pos + loading_pos_c[action_idx]\n",
    "        else:\n",
    "            r_boxes = get_remain(s_order[action_idx], r_boxes)\n",
    "            \n",
    "        if len(r_boxes) == 0 or np.sum(env.container_h != env.height) == 0:\n",
    "            done = True\n",
    "            \n",
    "        if len(num_loaded_c) != 1 or done:\n",
    "            dones.append(done)\n",
    "            history.append(in_state[action_idx])\n",
    "            h_load.append(loaded_mh_c[action_idx])\n",
    "            h_remain_size.append(in_r_boxes[action_idx])\n",
    "            h_load_size.append(in_loading[action_idx])\n",
    "            \n",
    "            next_state = next_state_c[action_idx].copy()\n",
    "            next_state_h = next_h_c[action_idx].copy()\n",
    "            \n",
    "            if done:\n",
    "                in_next_history = next_state_h.reshape((1, env.length, env.breadth, 1))\n",
    "                loaded_mh_c = np.zeros((1, env.length, env.breadth, 2))\n",
    "                in_next_remains = np.zeros((1, env.length, env.breadth, num_max_remain))\n",
    "                in_next_loading = np.zeros((1, env.length, env.breadth, K))\n",
    "            else:\n",
    "                k = min(K, len(r_boxes))\n",
    "                selected = cbn_select_boxes(r_boxes[:n_candidates], k)\n",
    "                s_order = get_selected_order(selected, k)\n",
    "                num_loaded_c, loading_size_c, loading_pos_c, next_state_c, next_h_c, loaded_mh_c = get_selected_location(s_order, next_state, next_state_h, env.height)\n",
    "                in_next_history, in_next_remains, in_next_loading = \\\n",
    "                    raw2input(next_state_h, len(num_loaded_c), r_boxes, num_max_remain,  K, loading_size_c, env.height)\n",
    "                \n",
    "            next_value = agent.get_value(in_next_history, loaded_mh_c,\n",
    "                                        in_next_remains, in_next_loading)\n",
    "            next_values.append(next_value)\n",
    "            \n",
    "        if done:\n",
    "            h_fill.append(env.terminal_reward())\n",
    "            rewards = terminal_rewards(history, agent.discount_factor, env.terminal_reward()**3)\n",
    "            \n",
    "            if len(values) < len(next_values):\n",
    "                values.append(values[-1])\n",
    "            \n",
    "            returns = get_discnt_reward(rewards, values, next_values, dones)\n",
    "            advantage = get_advantage(returns, values)\n",
    "            print(len(advantage))\n",
    "            \n",
    "            probs = np.stack(prob_l, axis=0)\n",
    "            \n",
    "            #print(probs)\n",
    "            #print(advantage)\n",
    "            #print(returns)\n",
    "            \n",
    "            agent.train(history, h_load, h_remain_size, h_load_size, returns, advantage, probs)\n",
    "            avg_actor_loss_l.append(agent.avg_actor_loss)\n",
    "            avg_critic_loss_l.append(agent.avg_critic_loss)\n",
    "            \n",
    "    log = \"=====episode: {:5d} | \".format(e)\n",
    "    log += \"reward : {:.3f}| \".format(env.terminal_reward())\n",
    "    log += \"actor loss : {:6f} \".format(agent.avg_actor_loss / float(step))\n",
    "    log += \"critic loss : {:6f} \".format(agent.avg_critic_loss / float(step))\n",
    "    log += \"time: {:.3f}\".format(time.time()-st)\n",
    "    print(log)\n",
    "    \n",
    "    agent.avg_actor_loss, agent.avg_critic_loss = 0, 0"
   ]
  },
  {
   "cell_type": "code",
   "execution_count": 37,
   "id": "4646b7cd",
   "metadata": {
    "ExecuteTime": {
     "end_time": "2021-05-23T18:54:01.593371Z",
     "start_time": "2021-05-23T18:54:01.113670Z"
    }
   },
   "outputs": [
    {
     "data": {
      "image/png": "[encoded data removed]",
      "text/plain": [
       "<Figure size 1440x216 with 1 Axes>"
      ]
     },
     "metadata": {
      "needs_background": "light"
     },
     "output_type": "display_data"
    },
    {
     "data": {
      "image/png": "[encoded data removed]",
      "text/plain": [
       "<Figure size 1440x216 with 1 Axes>"
      ]
     },
     "metadata": {
      "needs_background": "light"
     },
     "output_type": "display_data"
    },
    {
     "data": {
      "image/png": "[encoded data removed]",
      "text/plain": [
       "<Figure size 1440x216 with 1 Axes>"
      ]
     },
     "metadata": {
      "needs_background": "light"
     },
     "output_type": "display_data"
    }
   ],
   "source": [
    "%matplotlib inline\n",
    "\n",
    "plt.figure(figsize=(20,3))\n",
    "plt.plot(h_fill,'g-')\n",
    "plt.ylim(-0.2,1.3)\n",
    "plt.grid()\n",
    "\n",
    "plt.figure(figsize=(20,3))\n",
    "plt.plot(avg_actor_loss_l,'b-')\n",
    "plt.grid()\n",
    "plt.show()\n",
    "\n",
    "plt.figure(figsize=(20,3))\n",
    "plt.plot(avg_critic_loss_l,'b-')\n",
    "plt.grid()\n",
    "plt.show()"
   ]
  },
  {
   "cell_type": "code",
   "execution_count": 45,
   "id": "0e9c3657",
   "metadata": {
    "ExecuteTime": {
     "end_time": "2021-05-23T19:01:12.445603Z",
     "start_time": "2021-05-23T19:01:12.144100Z"
    }
   },
   "outputs": [
    {
     "data": {
      "image/png": "[encoded data removed]",
      "text/plain": [
       "<Figure size 1440x216 with 1 Axes>"
      ]
     },
     "metadata": {
      "needs_background": "light"
     },
     "output_type": "display_data"
    },
    {
     "data": {
      "image/png": "[encoded data removed]",
      "text/plain": [
       "<Figure size 1440x216 with 1 Axes>"
      ]
     },
     "metadata": {
      "needs_background": "light"
     },
     "output_type": "display_data"
    },
    {
     "data": {
      "image/png": "[encoded data removed]",
      "text/plain": [
       "<Figure size 1440x216 with 1 Axes>"
      ]
     },
     "metadata": {
      "needs_background": "light"
     },
     "output_type": "display_data"
    }
   ],
   "source": [
    "%matplotlib inline\n",
    "\n",
    "plt.figure(figsize=(20,3))\n",
    "plt.plot(h_fill,'g-')\n",
    "plt.ylim(-0.2,1.3)\n",
    "plt.grid()\n",
    "\n",
    "plt.figure(figsize=(20,3))\n",
    "plt.plot(avg_actor_loss_l,'b-')\n",
    "plt.grid()\n",
    "plt.show()\n",
    "\n",
    "plt.figure(figsize=(20,3))\n",
    "plt.plot(avg_critic_loss_l,'b-')\n",
    "plt.grid()\n",
    "plt.show()"
   ]
  },
  {
   "cell_type": "code",
   "execution_count": null,
   "id": "7efb7a2b",
   "metadata": {},
   "outputs": [],
   "source": []
  }
 ],
 "metadata": {
  "kernelspec": {
   "display_name": "RL",
   "language": "python",
   "name": "rl"
  },
  "language_info": {
   "codemirror_mode": {
    "name": "ipython",
    "version": 3
   },
   "file_extension": ".py",
   "mimetype": "text/x-python",
   "name": "python",
   "nbconvert_exporter": "python",
   "pygments_lexer": "ipython3",
   "version": "3.7.10"
  }
 },
 "nbformat": 4,
 "nbformat_minor": 5
}
