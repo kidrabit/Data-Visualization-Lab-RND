{
 "cells": [
  {
   "cell_type": "code",
   "execution_count": null,
   "id": "a7856d79",
   "metadata": {},
   "outputs": [],
   "source": [
    "import os, os.path\n",
    "os.environ[\"CUDA_VISIBLE_DEVICES\"]=\"0\"\n",
    "tf_device='/gpu:0'\n",
    "import random\n",
    "import pickle\n",
    "import numpy as np\n",
    "import math\n",
    "import matplotlib.pyplot as plt\n",
    "import time\n",
    "import tensorflow as tf\n",
    "tf.get_logger().setLevel('INFO')\n",
    "tf.keras.backend.floatx()\n",
    "from collections import deque\n",
    "import itertools\n",
    "from sklearn.utils import shuffle\n",
    "from tensorflow.keras.optimizers import Adam\n",
    "from tensorflow.keras.layers import Dense\n",
    "from libs.utils import *\n",
    "from libs.generate_boxes import *\n",
    "from libs.dqn import *"
   ]
  },
  {
   "cell_type": "code",
   "execution_count": null,
   "id": "d35daf7d",
   "metadata": {},
   "outputs": [],
   "source": [
    "num_episode = 10000\n",
    "global_step = 0\n",
    "tr_l, h_fill, tr_r,avg_loss_l,history_eps,used_boxes_eps  = [],[],[],[],[],[]\n",
    "K = 1\n",
    "n_candidates = 5\n",
    "num_max_remain = 180 \n",
    "num_bbox_type = 20 #사용할 대박스 수\n",
    "sc_target = 64 #최대 대박스 크기를 sc_target 크기만큼 줄임"
   ]
  },
  {
   "cell_type": "code",
   "execution_count": null,
   "id": "a5deec10",
   "metadata": {},
   "outputs": [],
   "source": [
    "mi = 'U1'\n",
    "mbox_type = 'PP'\n",
    "f_name = 'plan_predict_input/' + mi+'_'+mbox_type\n",
    "output_col = ['pack_no','creat_dd', 'odr_no', 'ctmmny_cd','vctp_cd', 'prod_no', 'mbox_cd', 'bbox_cd',\n",
    "              'B_CBM',  'mbox_acctc_qty', 'bbox_acctc_qty', \n",
    "              'packing_rate_volume', 'packing_rate_cbm','x','y','z']"
   ]
  },
  {
   "cell_type": "code",
   "execution_count": null,
   "id": "8a33d317",
   "metadata": {},
   "outputs": [],
   "source": [
    "# 대박스 규격 로드\n",
    "df_bbox = pd.read_csv('data/preprocessed/bbox/' + mi + '_' + mbox_type + '.csv')\n",
    "casemaster=pd.read_csv('data/preprocessed/casemaster.csv')\n",
    "df_bbox = df_bbox.iloc[:20]\n",
    "df_bbox = pd.merge(df_bbox, casemaster[['CD', 'CBM']], how='left', left_on=['CASE_CD'], right_on=['CD']).drop(['CD'],axis=1)\n",
    "df_bbox = df_bbox.drop(['CASE_CD_count'], axis=1)"
   ]
  },
  {
   "cell_type": "code",
   "execution_count": null,
   "id": "01e17ebc",
   "metadata": {},
   "outputs": [],
   "source": [
    "# 대박스 규격 로드 (Env)\n",
    "bbox_size = pd.read_csv('data/preprocessed/bbox/' + mi + '_' + mbox_type + '.csv')\n",
    "bbox_size = bbox_size.values[:num_bbox_type, 1:-1]\n",
    "bbox_size = np.concatenate([np.sort(bbox_size[:,:2], axis=1), bbox_size[:,2:]], axis=-1)"
   ]
  },
  {
   "cell_type": "code",
   "execution_count": null,
   "id": "d42f6fb2",
   "metadata": {},
   "outputs": [],
   "source": [
    "# 대박스 스케일링\n",
    "sc = sc_target/np.max(bbox_size, axis =0)[:2] \n",
    "bbox_sc = bbox_size.copy() \n",
    "bbox_sc[:, :2] = bbox_size[:,:2] * sc # 세로가로만 스케일링\n",
    "bbox_sc = (bbox_sc+0.5).astype('int') #반올림\n",
    "mxl, mxb, mxh = np.max(bbox_sc, axis =0 ) # 최대 규격\n",
    "print(mxl, mxb, mxh)"
   ]
  },
  {
   "cell_type": "code",
   "execution_count": null,
   "id": "7c9568cb",
   "metadata": {},
   "outputs": [],
   "source": [
    "# 대박스 행렬로 변환\n",
    "bbox_type = [] #np.zeros((1, 20, 20))\n",
    "for l,b,h in bbox_sc:\n",
    "    bbox = np.zeros((mxl, mxb))\n",
    "    bbox[l:,:] = mxh\n",
    "    bbox[:,b:] = mxh\n",
    "    bbox[:l,:b] = mxh - h\n",
    "    bbox_type.append(bbox)\n",
    "bbox_type = np.stack((bbox_type)) #(5, 20, 20)"
   ]
  },
  {
   "cell_type": "code",
   "execution_count": null,
   "id": "83ce24f2",
   "metadata": {},
   "outputs": [],
   "source": [
    "# 중박스 데이터 로드 \n",
    "group_key = ['creat_dd', 'odr_no', 'ctmmny_cd', 'mbox_type']\n",
    "df = pd.read_csv('data/preprocessed/'+f_name +'_resid.csv')\n",
    "org_col = df.columns\n",
    "df = df.sort_values('sum_wt', ascending = False)\n",
    "df = df.set_index(group_key).sort_index()\n",
    "group_idx = df.index.drop_duplicates()"
   ]
  },
  {
   "cell_type": "code",
   "execution_count": null,
   "id": "d3bff925",
   "metadata": {},
   "outputs": [],
   "source": [
    "# 중박스 데이터 로드 (입력 데이터)\n",
    "with open('data/preprocessed/' + f_name +'_resid.pickle', 'rb') as handle: \n",
    "    boxes_multi =  pickle.load(handle)\n",
    "with open('data/preprocessed/' + f_name +'_resid_v0.pickle', 'rb') as handle: \n",
    "    boxes_multi_n =  pickle.load(handle)\n",
    "\n",
    "boxes_multi = [ np.concatenate([np.sort(x[:, :2], axis=1), x[:, 2:]], axis=-1) for x in  boxes_multi]\n",
    "boxes_multi_n = [ np.concatenate([np.sort(x[:, :2], axis=1), x[:, 2:]], axis=-1) for x in  boxes_multi_n]"
   ]
  },
  {
   "cell_type": "code",
   "execution_count": null,
   "id": "6e182426",
   "metadata": {},
   "outputs": [],
   "source": [
    "# 중박스 스케일링\n",
    "boxes_multi_sc = [ np.concatenate([np.ceil(x[:, :2] * sc), x[:, 2:3]], axis=-1).astype('int') for x in  boxes_multi]\n",
    "boxes_multi_n_sc = [ np.concatenate([np.ceil(x[:, :2] * sc), x[:, [2,5]]], axis=-1).astype('int') for x in  boxes_multi_n]\n",
    "cbm_per_mbox = [x[:,-1] for x in boxes_multi]"
   ]
  },
  {
   "cell_type": "code",
   "execution_count": null,
   "id": "51772ea9",
   "metadata": {},
   "outputs": [],
   "source": [
    "# 중박스 크기를 행렬로 표현\n",
    "max_size = sc_target\n",
    "boxes_mat_multi = np.stack([size2mat(x, num_max_remain, max_size) for x in boxes_multi_n_sc]) # (N, num_max_remain, max_size, 2)"
   ]
  },
  {
   "cell_type": "code",
   "execution_count": null,
   "id": "d5172415",
   "metadata": {},
   "outputs": [],
   "source": [
    "# Environment\n",
    "env = Bpp3DEnvMS(length = mxl, breadth = mxb, height = mxh, bbox_type = bbox_type)\n",
    "# Agent\n",
    "agent = DQNAgent( L = mxl, B = mxb , H = mxh, n_remains = num_max_remain, n_loading=K, max_size = max_size,lr=1e-4, exp_steps=9000, \n",
    "                 train_st = 1500, memory_len=2000, update_target_rate = 1000, net = 'DDQN_DNN')"
   ]
  },
  {
   "cell_type": "code",
   "execution_count": null,
   "id": "1ccd6387",
   "metadata": {},
   "outputs": [],
   "source": [
    "is_pred = False\n",
    "\n",
    "if is_pred:\n",
    "    num_episode = len(boxes_multi_sc)\n",
    "    # 예측 결과 테이블\n",
    "    pk = pd.DataFrame(columns = ['pack_no']+list(org_col)+['packing_rate_cbm','packing_rate_volume','x','y','z'])\n",
    "    pack_no = 0\n",
    "    agent.epsilon = 0"
   ]
  },
  {
   "cell_type": "code",
   "execution_count": null,
   "id": "1a09676d",
   "metadata": {},
   "outputs": [],
   "source": []
  },
  {
   "cell_type": "code",
   "execution_count": null,
   "id": "a707ecfe",
   "metadata": {},
   "outputs": [],
   "source": [
    "for e in range(num_episode):\n",
    "    st = time.time()\n",
    "    step = 0\n",
    "    \n",
    "    if is_pred:\n",
    "        df_p = df.loc[group_idx[e]].reset_index().copy()\n",
    "        df_p = df_p.loc[df_p.index.repeat(df_p['num_mbox'])]\n",
    "        \n",
    "    else:\n",
    "        if e > 9000:\n",
    "            agent.epsilon = 0\n",
    "        if agent.epsilon > agent.epsilon_end and len(agent.memory) > = agent.train_start:\n",
    "            agent.epsilon -= agent.epsilon_decay_step\n",
    "            \n",
    "    ith_data = e % len(boxes_multi)#5#\n",
    "    boxes_all_sc = boxes_multi_sc[ ith_data].copy().astype('int')# \n",
    "    cbm_all = cbm_per_mbox[ith_data].copy()\n",
    "    r_boxes = boxes_all_sc.copy()\n",
    "    r_mat = boxes_mat_multi[ith_data].copy() #(50,64,2)\n",
    "    boxes_idx = np.arange(len(boxes_all_sc))\n",
    "    loaded_idx = []\n",
    "    used_boxes, pred_pos = [],[]\n",
    "    env_rewards, is_last, used_bbox = [], [], []\n",
    "    history, h_load, h_remain_size, h_load_size = [],[],[],[]\n",
    "    t_history, t_load, t_remain_size, t_load_size = [],[],[],[]\n",
    "    \n",
    "    while len(r_boxes) > 0:\n",
    "        #done = False\n",
    "        len_group = 0\n",
    "        cbm_reward = 0\n",
    "        \n",
    "        # state 선택\n",
    "        in_state = np.array( [ np.concatenate([np.zeros((env.length,env.breadth,2)), b[...,np.newaxis]], axis=-1) for b in bbox_type] )#(5,20,20,3)\n",
    "        in_state = (in_state/env.height).astype(np.float32)\n",
    "        loading_loc_c = np.zeros((num_bbox_type, env.length, env.breadth, K)) # 적재 위치\n",
    "        in_loading = np.zeros((num_bbox_type, K, max_size, 2))\n",
    "        in_remain = np.array([r_mat] * num_bbox_type).astype(np.float32)\n",
    "        \n",
    "        k = min(K, len(r_boxes))\n",
    "        selected, selected_idx = cbn_select_boxes(r_boxes[:n_candidates], boxes_idx[:n_candidates], k)\n",
    "        s_order, s_order_idx = get_selected_order(selected, selected_idx, k)\n",
    "        s_order, s_order_idx = rot_one_order(s_order, s_order_idx)\n",
    "        \n",
    "        bbox_idx = bbox_agent.get_action() #r_boxes, selected?s_order?\n",
    "        #env.reset(bbox_idx)\n",
    "        history.append(in_state[bbox_idx])\n",
    "        h_load.append(loading_loc_c[bbox_idx])\n",
    "        h_remain_size.append(in_remain[bbox_idx])\n",
    "        h_load_size.append(in_loading[bbox_idx])\n",
    "        \n",
    "        state = env.container_s.copy()\n",
    "        state_h = env.container_h.copy()\n",
    "        global_step += 1\n",
    "        step += 1        \n",
    "        cbm_all_ratio = cbm_all / df_bbox.iloc[env.bbox_idx]['CBM']\n",
    "        \n",
    "        order_idx_c, num_loading_c, loading_idx_c, loading_size_c, loading_xyz_c, loading_loc_c, next_state_c, next_h_c  =\\\n",
    "                get_selected_location(s_order, s_order_idx, state, state_h, env.height,K, cbm_reward ,cbm_all_ratio ) #위치"
   ]
  }
 ],
 "metadata": {
  "kernelspec": {
   "display_name": "RL",
   "language": "python",
   "name": "rl"
  },
  "language_info": {
   "codemirror_mode": {
    "name": "ipython",
    "version": 3
   },
   "file_extension": ".py",
   "mimetype": "text/x-python",
   "name": "python",
   "nbconvert_exporter": "python",
   "pygments_lexer": "ipython3",
   "version": "3.7.10"
  }
 },
 "nbformat": 4,
 "nbformat_minor": 5
}
