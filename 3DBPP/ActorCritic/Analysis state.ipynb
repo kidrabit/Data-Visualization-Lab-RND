{
 "cells": [
  {
   "cell_type": "code",
   "execution_count": 4,
   "id": "2757f6df",
   "metadata": {
    "ExecuteTime": {
     "end_time": "2021-04-24T18:31:15.246227Z",
     "start_time": "2021-04-24T18:31:15.228278Z"
    }
   },
   "outputs": [],
   "source": [
    "import os\n",
    "import random\n",
    "import time\n",
    "import numpy as np\n",
    "import tensorflow as tf\n",
    "import matplotlib.pyplot as plt\n",
    "\n",
    "from tensorflow.keras.layers import Dense\n",
    "from tensorflow.keras.optimizers import Adam\n",
    "from tensorflow.keras.models import Sequential\n",
    "\n",
    "from libs.utils import *\n",
    "from libs.generate_boxes import *"
   ]
  },
  {
   "cell_type": "code",
   "execution_count": 5,
   "id": "130fb6b1",
   "metadata": {
    "ExecuteTime": {
     "end_time": "2021-04-24T18:31:15.442150Z",
     "start_time": "2021-04-24T18:31:15.425195Z"
    }
   },
   "outputs": [
    {
     "data": {
      "text/plain": [
       "'float32'"
      ]
     },
     "execution_count": 5,
     "metadata": {},
     "output_type": "execute_result"
    }
   ],
   "source": [
    "os.environ['TF_CPP_MIN_LOG_LEVEL'] = '0'\n",
    "tf.get_logger().setLevel('INFO')\n",
    "tf.keras.backend.floatx()"
   ]
  },
  {
   "cell_type": "code",
   "execution_count": 6,
   "id": "b5c3e769",
   "metadata": {
    "ExecuteTime": {
     "end_time": "2021-04-24T18:31:15.623889Z",
     "start_time": "2021-04-24T18:31:15.608948Z"
    }
   },
   "outputs": [],
   "source": [
    "plt.style.use('fivethirtyeight')\n",
    "plt.rcParams['figure.figsize'] = (20,10)"
   ]
  },
  {
   "cell_type": "code",
   "execution_count": 7,
   "id": "885885b6",
   "metadata": {
    "ExecuteTime": {
     "end_time": "2021-04-24T18:31:16.369019Z",
     "start_time": "2021-04-24T18:31:16.360011Z"
    }
   },
   "outputs": [],
   "source": [
    "def build_actor(state_size, action_size):\n",
    "    actor = Sequential(name='actor')\n",
    "    actor.add(Dense(24, input_dim = state_size, activation='relu'))\n",
    "    \n",
    "    if action_size == 1:\n",
    "        actor.add(Dense(action_size, activation='linear'))\n",
    "    else:\n",
    "        actor.add(Dense(action_size, activation='softmax'))\n",
    "    actor.compile(loss='categorical_crossentropy', optimizer=Adam(lr=0.001))\n",
    "    return actor"
   ]
  },
  {
   "cell_type": "code",
   "execution_count": 8,
   "id": "046d9d3d",
   "metadata": {
    "ExecuteTime": {
     "end_time": "2021-04-24T18:31:16.552811Z",
     "start_time": "2021-04-24T18:31:16.544508Z"
    }
   },
   "outputs": [],
   "source": [
    "def build_critic(state_size):\n",
    "    critic = Sequential(name='critic')\n",
    "    critic.add(Dense(24, input_dim = state_size, activation='relu'))\n",
    "    critic.add(Dense(1, activation='linear'))\n",
    "    critic.compile(loss='mse', optimizer=Adam(lr=0.005))\n",
    "    return critic"
   ]
  },
  {
   "cell_type": "code",
   "execution_count": 9,
   "id": "7474c9aa",
   "metadata": {
    "ExecuteTime": {
     "end_time": "2021-04-24T18:31:16.749153Z",
     "start_time": "2021-04-24T18:31:16.738189Z"
    }
   },
   "outputs": [],
   "source": [
    "class Bpp3DEnv():\n",
    "    def __init__(self,length=20, breadth=20, height=20):\n",
    "        super(Bpp3DEnv, self).__init__()\n",
    "        self.length=length\n",
    "        self.breadth=breadth\n",
    "        self.height=height\n",
    "        self.container=np.zeros((self.length,self.breadth))\n",
    "    \n",
    "    def step(self, upleft,bxl,bxb,bxh):\n",
    "        self.container[upleft[0]:upleft[0]+bxl,upleft[1]:upleft[1]+bxb] += bxh\n",
    "        return self.container, self.terminal_reward()\n",
    "    \n",
    "    def reset(self):\n",
    "        self.container=np.zeros((self.length,self.breadth))\n",
    "    \n",
    "    def terminal_reward(self):\n",
    "        return np.sum(self.container)/(self.length*self.breadth*self.height)"
   ]
  },
  {
   "cell_type": "code",
   "execution_count": 66,
   "id": "b86c5db8",
   "metadata": {
    "ExecuteTime": {
     "end_time": "2021-04-24T18:39:24.881677Z",
     "start_time": "2021-04-24T18:39:24.801462Z"
    }
   },
   "outputs": [],
   "source": [
    "env = Bpp3DEnv()\n",
    "N_MDD = 50\n",
    "env.reset()\n",
    "boxes, gt_pos = generation_3dbox(case_size=[[20,20,20]],min_s=1,N_mdd=N_MDD,is_prediv='2h')\n",
    "state_size = 20*20\n",
    "action_size = 4\n",
    "actor = build_actor(state_size, action_size)\n",
    "critic = build_critic(state_size)"
   ]
  },
  {
   "cell_type": "code",
   "execution_count": 67,
   "id": "4061ddc8",
   "metadata": {
    "ExecuteTime": {
     "end_time": "2021-04-24T18:39:24.957158Z",
     "start_time": "2021-04-24T18:39:24.949147Z"
    }
   },
   "outputs": [],
   "source": [
    "box_list, pos_list = [], []"
   ]
  },
  {
   "cell_type": "code",
   "execution_count": 68,
   "id": "b168d84d",
   "metadata": {
    "ExecuteTime": {
     "end_time": "2021-04-24T18:39:26.013926Z",
     "start_time": "2021-04-24T18:39:25.996941Z"
    },
    "scrolled": true
   },
   "outputs": [
    {
     "data": {
      "text/plain": [
       "array([[ 5,  5,  3],\n",
       "       [ 5, 20,  3],\n",
       "       [ 5,  5,  3],\n",
       "       [ 5,  5,  3],\n",
       "       [ 5,  5,  3],\n",
       "       [ 5,  5,  3],\n",
       "       [ 5,  5,  3],\n",
       "       [ 5, 10,  3],\n",
       "       [ 5,  5,  3],\n",
       "       [ 5,  5,  3],\n",
       "       [ 5,  5,  6],\n",
       "       [ 5,  5,  3],\n",
       "       [ 5,  4,  3],\n",
       "       [ 5,  4,  3],\n",
       "       [10,  4,  3],\n",
       "       [ 5,  4,  3],\n",
       "       [10,  4,  3],\n",
       "       [ 5,  4,  3],\n",
       "       [ 5,  5,  3],\n",
       "       [ 5,  4,  3],\n",
       "       [ 5,  4,  3],\n",
       "       [ 5, 20,  3],\n",
       "       [ 5,  5,  3],\n",
       "       [ 5,  5,  3],\n",
       "       [ 5,  5,  7],\n",
       "       [ 5, 10,  7],\n",
       "       [ 5, 10,  7],\n",
       "       [ 5,  5,  7],\n",
       "       [ 5,  5,  7],\n",
       "       [ 5,  5,  7],\n",
       "       [ 5,  5,  7],\n",
       "       [ 5,  5,  7],\n",
       "       [ 5,  5,  7],\n",
       "       [ 5, 20,  7],\n",
       "       [ 5,  5,  7],\n",
       "       [ 5,  4,  7],\n",
       "       [ 5,  4,  7],\n",
       "       [ 5,  4,  7],\n",
       "       [ 5,  4,  7],\n",
       "       [ 5, 20,  7],\n",
       "       [ 5,  4,  7],\n",
       "       [ 5,  4,  7],\n",
       "       [ 5,  4,  7],\n",
       "       [ 5,  4,  7],\n",
       "       [ 5,  4,  7],\n",
       "       [ 5,  4,  7],\n",
       "       [ 5,  4,  7],\n",
       "       [ 5,  4,  7],\n",
       "       [ 5,  4,  7],\n",
       "       [ 5,  4,  7],\n",
       "       [ 5,  4,  7]])"
      ]
     },
     "execution_count": 68,
     "metadata": {},
     "output_type": "execute_result"
    }
   ],
   "source": [
    "history = env.container.copy()\n",
    "boxes = boxes[0]\n",
    "gt_pos = gt_pos[0]\n",
    "boxes"
   ]
  },
  {
   "cell_type": "code",
   "execution_count": 69,
   "id": "21913b6a",
   "metadata": {
    "ExecuteTime": {
     "end_time": "2021-04-24T18:39:28.130361Z",
     "start_time": "2021-04-24T18:39:28.116483Z"
    }
   },
   "outputs": [
    {
     "data": {
      "text/plain": [
       "(array([5, 5, 3]), array([15, 10,  0]))"
      ]
     },
     "execution_count": 69,
     "metadata": {},
     "output_type": "execute_result"
    }
   ],
   "source": [
    "step = 0\n",
    "box = boxes[step]\n",
    "pos = gt_pos[step]\n",
    "box, pos"
   ]
  },
  {
   "cell_type": "code",
   "execution_count": 70,
   "id": "3b82b7c6",
   "metadata": {
    "ExecuteTime": {
     "end_time": "2021-04-24T18:39:29.116597Z",
     "start_time": "2021-04-24T18:39:29.031258Z"
    }
   },
   "outputs": [
    {
     "data": {
      "image/png": "[encoded data removed]",
      "text/plain": [
       "<Figure size 216x216 with 1 Axes>"
      ]
     },
     "metadata": {},
     "output_type": "display_data"
    }
   ],
   "source": [
    "vis_box([box], [pos])"
   ]
  },
  {
   "cell_type": "code",
   "execution_count": 71,
   "id": "9542d57d",
   "metadata": {
    "ExecuteTime": {
     "end_time": "2021-04-24T18:39:29.236375Z",
     "start_time": "2021-04-24T18:39:29.217421Z"
    }
   },
   "outputs": [
    {
     "data": {
      "text/plain": [
       "array([[ 0,  0],\n",
       "       [ 0, 15],\n",
       "       [15,  0],\n",
       "       [15, 15]])"
      ]
     },
     "execution_count": 71,
     "metadata": {},
     "output_type": "execute_result"
    }
   ],
   "source": [
    "w_upleft = whole_upleft(*box_cornel([0,0],20,20),box[0],box[1])\n",
    "f_upleft = feasible_location(history, w_upleft, box[0],box[1],box[2],\n",
    "                            state_H = env.height, is2d=False)\n",
    "f_upleft"
   ]
  },
  {
   "cell_type": "code",
   "execution_count": 72,
   "id": "9158f0be",
   "metadata": {
    "ExecuteTime": {
     "end_time": "2021-04-24T18:39:30.526799Z",
     "start_time": "2021-04-24T18:39:30.519818Z"
    }
   },
   "outputs": [
    {
     "data": {
      "text/plain": [
       "(20, 20)"
      ]
     },
     "execution_count": 72,
     "metadata": {},
     "output_type": "execute_result"
    }
   ],
   "source": [
    "history.shape"
   ]
  },
  {
   "cell_type": "code",
   "execution_count": 73,
   "id": "bac0e258",
   "metadata": {
    "ExecuteTime": {
     "end_time": "2021-04-24T18:39:30.723077Z",
     "start_time": "2021-04-24T18:39:30.704922Z"
    }
   },
   "outputs": [
    {
     "data": {
      "text/plain": [
       "(400,)"
      ]
     },
     "execution_count": 73,
     "metadata": {},
     "output_type": "execute_result"
    }
   ],
   "source": [
    "history = history.flatten()\n",
    "history.shape"
   ]
  },
  {
   "cell_type": "code",
   "execution_count": 74,
   "id": "9c222b23",
   "metadata": {
    "ExecuteTime": {
     "end_time": "2021-04-24T18:39:31.736375Z",
     "start_time": "2021-04-24T18:39:31.722563Z"
    }
   },
   "outputs": [
    {
     "data": {
      "text/plain": [
       "(1, 400)"
      ]
     },
     "execution_count": 74,
     "metadata": {},
     "output_type": "execute_result"
    }
   ],
   "source": [
    "history = np.reshape(history, [1, state_size])\n",
    "history.shape"
   ]
  },
  {
   "cell_type": "code",
   "execution_count": 75,
   "id": "a146294c",
   "metadata": {
    "ExecuteTime": {
     "end_time": "2021-04-24T18:39:31.992136Z",
     "start_time": "2021-04-24T18:39:31.919574Z"
    }
   },
   "outputs": [
    {
     "name": "stdout",
     "output_type": "stream",
     "text": [
      "WARNING:tensorflow:6 out of the last 1143 calls to <function Model.make_predict_function.<locals>.predict_function at 0x00000215118DC0D8> triggered tf.function retracing. Tracing is expensive and the excessive number of tracings could be due to (1) creating @tf.function repeatedly in a loop, (2) passing tensors with different shapes, (3) passing Python objects instead of tensors. For (1), please define your @tf.function outside of the loop. For (2), @tf.function has experimental_relax_shapes=True option that relaxes argument shapes that can avoid unnecessary retracing. For (3), please refer to https://www.tensorflow.org/guide/function#controlling_retracing and https://www.tensorflow.org/api_docs/python/tf/function for  more details.\n"
     ]
    },
    {
     "data": {
      "text/plain": [
       "array([[0.25, 0.25, 0.25, 0.25]], dtype=float32)"
      ]
     },
     "execution_count": 75,
     "metadata": {},
     "output_type": "execute_result"
    }
   ],
   "source": [
    "policy = actor.predict(history, batch_size=1)\n",
    "policy"
   ]
  },
  {
   "cell_type": "code",
   "execution_count": 76,
   "id": "22362e14",
   "metadata": {
    "ExecuteTime": {
     "end_time": "2021-04-24T18:39:32.820613Z",
     "start_time": "2021-04-24T18:39:32.814625Z"
    }
   },
   "outputs": [
    {
     "data": {
      "text/plain": [
       "array([0.25, 0.25, 0.25, 0.25], dtype=float32)"
      ]
     },
     "execution_count": 76,
     "metadata": {},
     "output_type": "execute_result"
    }
   ],
   "source": [
    "policy = policy.flatten()\n",
    "policy"
   ]
  },
  {
   "cell_type": "code",
   "execution_count": 77,
   "id": "aec755c7",
   "metadata": {
    "ExecuteTime": {
     "end_time": "2021-04-24T18:39:35.435413Z",
     "start_time": "2021-04-24T18:39:35.431419Z"
    }
   },
   "outputs": [
    {
     "data": {
      "text/plain": [
       "array([0])"
      ]
     },
     "execution_count": 77,
     "metadata": {},
     "output_type": "execute_result"
    }
   ],
   "source": [
    "action = np.random.choice(action_size, 1, p=policy)\n",
    "#action = np.random.choice(2, 1, p=policy[:2])\n",
    "action"
   ]
  },
  {
   "cell_type": "code",
   "execution_count": 78,
   "id": "626bd67a",
   "metadata": {
    "ExecuteTime": {
     "end_time": "2021-04-24T18:39:37.402397Z",
     "start_time": "2021-04-24T18:39:37.390405Z"
    }
   },
   "outputs": [
    {
     "data": {
      "text/plain": [
       "0"
      ]
     },
     "execution_count": 78,
     "metadata": {},
     "output_type": "execute_result"
    }
   ],
   "source": [
    "action = action[0]\n",
    "action"
   ]
  },
  {
   "cell_type": "code",
   "execution_count": 79,
   "id": "95e2cfae",
   "metadata": {
    "ExecuteTime": {
     "end_time": "2021-04-24T18:39:50.006365Z",
     "start_time": "2021-04-24T18:39:49.994064Z"
    }
   },
   "outputs": [],
   "source": [
    "box_list.append(box)\n",
    "pos_list.append(f_upleft[action])"
   ]
  },
  {
   "cell_type": "code",
   "execution_count": 80,
   "id": "9afb7536",
   "metadata": {
    "ExecuteTime": {
     "end_time": "2021-04-24T18:39:51.203778Z",
     "start_time": "2021-04-24T18:39:51.187808Z"
    }
   },
   "outputs": [
    {
     "data": {
      "text/plain": [
       "(array([[3., 3., 3., 3., 3., 0., 0., 0., 0., 0., 0., 0., 0., 0., 0., 0.,\n",
       "         0., 0., 0., 0.],\n",
       "        [3., 3., 3., 3., 3., 0., 0., 0., 0., 0., 0., 0., 0., 0., 0., 0.,\n",
       "         0., 0., 0., 0.],\n",
       "        [3., 3., 3., 3., 3., 0., 0., 0., 0., 0., 0., 0., 0., 0., 0., 0.,\n",
       "         0., 0., 0., 0.],\n",
       "        [3., 3., 3., 3., 3., 0., 0., 0., 0., 0., 0., 0., 0., 0., 0., 0.,\n",
       "         0., 0., 0., 0.],\n",
       "        [3., 3., 3., 3., 3., 0., 0., 0., 0., 0., 0., 0., 0., 0., 0., 0.,\n",
       "         0., 0., 0., 0.],\n",
       "        [0., 0., 0., 0., 0., 0., 0., 0., 0., 0., 0., 0., 0., 0., 0., 0.,\n",
       "         0., 0., 0., 0.],\n",
       "        [0., 0., 0., 0., 0., 0., 0., 0., 0., 0., 0., 0., 0., 0., 0., 0.,\n",
       "         0., 0., 0., 0.],\n",
       "        [0., 0., 0., 0., 0., 0., 0., 0., 0., 0., 0., 0., 0., 0., 0., 0.,\n",
       "         0., 0., 0., 0.],\n",
       "        [0., 0., 0., 0., 0., 0., 0., 0., 0., 0., 0., 0., 0., 0., 0., 0.,\n",
       "         0., 0., 0., 0.],\n",
       "        [0., 0., 0., 0., 0., 0., 0., 0., 0., 0., 0., 0., 0., 0., 0., 0.,\n",
       "         0., 0., 0., 0.],\n",
       "        [0., 0., 0., 0., 0., 0., 0., 0., 0., 0., 0., 0., 0., 0., 0., 0.,\n",
       "         0., 0., 0., 0.],\n",
       "        [0., 0., 0., 0., 0., 0., 0., 0., 0., 0., 0., 0., 0., 0., 0., 0.,\n",
       "         0., 0., 0., 0.],\n",
       "        [0., 0., 0., 0., 0., 0., 0., 0., 0., 0., 0., 0., 0., 0., 0., 0.,\n",
       "         0., 0., 0., 0.],\n",
       "        [0., 0., 0., 0., 0., 0., 0., 0., 0., 0., 0., 0., 0., 0., 0., 0.,\n",
       "         0., 0., 0., 0.],\n",
       "        [0., 0., 0., 0., 0., 0., 0., 0., 0., 0., 0., 0., 0., 0., 0., 0.,\n",
       "         0., 0., 0., 0.],\n",
       "        [0., 0., 0., 0., 0., 0., 0., 0., 0., 0., 0., 0., 0., 0., 0., 0.,\n",
       "         0., 0., 0., 0.],\n",
       "        [0., 0., 0., 0., 0., 0., 0., 0., 0., 0., 0., 0., 0., 0., 0., 0.,\n",
       "         0., 0., 0., 0.],\n",
       "        [0., 0., 0., 0., 0., 0., 0., 0., 0., 0., 0., 0., 0., 0., 0., 0.,\n",
       "         0., 0., 0., 0.],\n",
       "        [0., 0., 0., 0., 0., 0., 0., 0., 0., 0., 0., 0., 0., 0., 0., 0.,\n",
       "         0., 0., 0., 0.],\n",
       "        [0., 0., 0., 0., 0., 0., 0., 0., 0., 0., 0., 0., 0., 0., 0., 0.,\n",
       "         0., 0., 0., 0.]]),\n",
       " 0.009375)"
      ]
     },
     "execution_count": 80,
     "metadata": {},
     "output_type": "execute_result"
    }
   ],
   "source": [
    "next_state, reward = env.step(f_upleft[action], box[0], box[1], box[2])\n",
    "next_state, reward"
   ]
  },
  {
   "cell_type": "code",
   "execution_count": 81,
   "id": "0ee20f9f",
   "metadata": {
    "ExecuteTime": {
     "end_time": "2021-04-24T18:39:51.413944Z",
     "start_time": "2021-04-24T18:39:51.396936Z"
    }
   },
   "outputs": [
    {
     "data": {
      "text/plain": [
       "(1, 400)"
      ]
     },
     "execution_count": 81,
     "metadata": {},
     "output_type": "execute_result"
    }
   ],
   "source": [
    "next_state = np.reshape(next_state, [1, state_size])\n",
    "next_state.shape"
   ]
  },
  {
   "cell_type": "code",
   "execution_count": 82,
   "id": "b18b3a0d",
   "metadata": {
    "ExecuteTime": {
     "end_time": "2021-04-24T18:39:52.684982Z",
     "start_time": "2021-04-24T18:39:52.673289Z"
    }
   },
   "outputs": [
    {
     "data": {
      "text/plain": [
       "(array([[0.]]), array([[0., 0., 0., 0.]]))"
      ]
     },
     "execution_count": 82,
     "metadata": {},
     "output_type": "execute_result"
    }
   ],
   "source": [
    "target = np.zeros((1,1))\n",
    "advantages = np.zeros((1,action_size))\n",
    "target, advantages"
   ]
  },
  {
   "cell_type": "code",
   "execution_count": 83,
   "id": "8d7e1010",
   "metadata": {
    "ExecuteTime": {
     "end_time": "2021-04-24T18:39:53.091535Z",
     "start_time": "2021-04-24T18:39:52.995659Z"
    }
   },
   "outputs": [
    {
     "name": "stdout",
     "output_type": "stream",
     "text": [
      "WARNING:tensorflow:7 out of the last 1144 calls to <function Model.make_predict_function.<locals>.predict_function at 0x00000214F2D71678> triggered tf.function retracing. Tracing is expensive and the excessive number of tracings could be due to (1) creating @tf.function repeatedly in a loop, (2) passing tensors with different shapes, (3) passing Python objects instead of tensors. For (1), please define your @tf.function outside of the loop. For (2), @tf.function has experimental_relax_shapes=True option that relaxes argument shapes that can avoid unnecessary retracing. For (3), please refer to https://www.tensorflow.org/guide/function#controlling_retracing and https://www.tensorflow.org/api_docs/python/tf/function for  more details.\n"
     ]
    },
    {
     "data": {
      "text/plain": [
       "array([[0.]], dtype=float32)"
      ]
     },
     "execution_count": 83,
     "metadata": {},
     "output_type": "execute_result"
    }
   ],
   "source": [
    "value = critic.predict(history)\n",
    "value"
   ]
  },
  {
   "cell_type": "code",
   "execution_count": 84,
   "id": "faa2c0ea",
   "metadata": {
    "ExecuteTime": {
     "end_time": "2021-04-24T18:39:53.939273Z",
     "start_time": "2021-04-24T18:39:53.881594Z"
    }
   },
   "outputs": [
    {
     "data": {
      "text/plain": [
       "array([[-0.1372577]], dtype=float32)"
      ]
     },
     "execution_count": 84,
     "metadata": {},
     "output_type": "execute_result"
    }
   ],
   "source": [
    "next_value = critic.predict(next_state)\n",
    "next_value"
   ]
  },
  {
   "cell_type": "code",
   "execution_count": 85,
   "id": "96206994",
   "metadata": {
    "ExecuteTime": {
     "end_time": "2021-04-24T18:39:54.059520Z",
     "start_time": "2021-04-24T18:39:54.052538Z"
    }
   },
   "outputs": [
    {
     "data": {
      "text/plain": [
       "(array([0.], dtype=float32), array([-0.1372577], dtype=float32))"
      ]
     },
     "execution_count": 85,
     "metadata": {},
     "output_type": "execute_result"
    }
   ],
   "source": [
    "value = value[0]\n",
    "next_value = next_value[0]\n",
    "value, next_value"
   ]
  },
  {
   "cell_type": "code",
   "execution_count": 86,
   "id": "f70fcd99",
   "metadata": {
    "ExecuteTime": {
     "end_time": "2021-04-24T18:39:54.210845Z",
     "start_time": "2021-04-24T18:39:54.202784Z"
    }
   },
   "outputs": [
    {
     "data": {
      "text/plain": [
       "(array([[-0.12651011]]),\n",
       " array([[-0.12651011,  0.        ,  0.        ,  0.        ]]))"
      ]
     },
     "execution_count": 86,
     "metadata": {},
     "output_type": "execute_result"
    }
   ],
   "source": [
    "advantages[0][action] = reward + 0.99 * (next_value)-value\n",
    "target[0][0] = reward + 0.99 * next_value\n",
    "target, advantages"
   ]
  },
  {
   "cell_type": "code",
   "execution_count": 87,
   "id": "52bdec78",
   "metadata": {
    "ExecuteTime": {
     "end_time": "2021-04-24T18:39:54.362562Z",
     "start_time": "2021-04-24T18:39:54.346605Z"
    }
   },
   "outputs": [
    {
     "data": {
      "text/plain": [
       "array([-0.12651011,  0.        ,  0.        ,  0.        ])"
      ]
     },
     "execution_count": 87,
     "metadata": {},
     "output_type": "execute_result"
    }
   ],
   "source": [
    "advantages[0]"
   ]
  },
  {
   "cell_type": "code",
   "execution_count": 88,
   "id": "77c97b46",
   "metadata": {
    "ExecuteTime": {
     "end_time": "2021-04-24T18:40:10.896496Z",
     "start_time": "2021-04-24T18:40:10.562085Z"
    }
   },
   "outputs": [
    {
     "name": "stdout",
     "output_type": "stream",
     "text": [
      "1/1 [==============================] - 0s 277ms/step - loss: -0.1754\n"
     ]
    },
    {
     "data": {
      "text/plain": [
       "<tensorflow.python.keras.callbacks.History at 0x21511a97e48>"
      ]
     },
     "execution_count": 88,
     "metadata": {},
     "output_type": "execute_result"
    }
   ],
   "source": [
    "actor_history = actor.fit(history, advantages, epochs=1)\n",
    "actor_history"
   ]
  },
  {
   "cell_type": "code",
   "execution_count": 89,
   "id": "4a982ef5",
   "metadata": {
    "ExecuteTime": {
     "end_time": "2021-04-24T18:40:11.299651Z",
     "start_time": "2021-04-24T18:40:10.898529Z"
    }
   },
   "outputs": [
    {
     "name": "stdout",
     "output_type": "stream",
     "text": [
      "WARNING:tensorflow:5 out of the last 760 calls to <function Model.make_train_function.<locals>.train_function at 0x0000021511C83B88> triggered tf.function retracing. Tracing is expensive and the excessive number of tracings could be due to (1) creating @tf.function repeatedly in a loop, (2) passing tensors with different shapes, (3) passing Python objects instead of tensors. For (1), please define your @tf.function outside of the loop. For (2), @tf.function has experimental_relax_shapes=True option that relaxes argument shapes that can avoid unnecessary retracing. For (3), please refer to https://www.tensorflow.org/guide/function#controlling_retracing and https://www.tensorflow.org/api_docs/python/tf/function for  more details.\n",
      "1/1 [==============================] - 0s 327ms/step - loss: 0.0160\n"
     ]
    },
    {
     "data": {
      "text/plain": [
       "<tensorflow.python.keras.callbacks.History at 0x215114ab188>"
      ]
     },
     "execution_count": 89,
     "metadata": {},
     "output_type": "execute_result"
    }
   ],
   "source": [
    "critic_history = critic.fit(history, target, epochs = 1)\n",
    "critic_history"
   ]
  },
  {
   "cell_type": "code",
   "execution_count": 94,
   "id": "b5dc5bbb",
   "metadata": {
    "ExecuteTime": {
     "end_time": "2021-04-24T18:41:59.894739Z",
     "start_time": "2021-04-24T18:41:59.888760Z"
    }
   },
   "outputs": [
    {
     "data": {
      "text/plain": [
       "(array([5, 5, 3]), array([0, 0, 0]))"
      ]
     },
     "execution_count": 94,
     "metadata": {},
     "output_type": "execute_result"
    }
   ],
   "source": [
    "box_list[0], np.array([pos_list[0][0], pos_list[0][1], 0])"
   ]
  },
  {
   "cell_type": "code",
   "execution_count": 95,
   "id": "e8f94e33",
   "metadata": {
    "ExecuteTime": {
     "end_time": "2021-04-24T18:42:15.502939Z",
     "start_time": "2021-04-24T18:42:15.420829Z"
    }
   },
   "outputs": [
    {
     "data": {
      "image/png": "[encoded data removed]",
      "text/plain": [
       "<Figure size 216x216 with 1 Axes>"
      ]
     },
     "metadata": {},
     "output_type": "display_data"
    }
   ],
   "source": [
    "vis_box([box_list[0]], [np.array([pos_list[0][0], pos_list[0][1], 0])])"
   ]
  },
  {
   "cell_type": "code",
   "execution_count": 96,
   "id": "cdf6b291",
   "metadata": {
    "ExecuteTime": {
     "end_time": "2021-04-24T18:42:31.609414Z",
     "start_time": "2021-04-24T18:42:31.607062Z"
    }
   },
   "outputs": [],
   "source": [
    "step += 1\n",
    "box = boxes[step]"
   ]
  },
  {
   "cell_type": "code",
   "execution_count": 99,
   "id": "4f8f0ada",
   "metadata": {
    "ExecuteTime": {
     "end_time": "2021-04-24T18:42:52.420386Z",
     "start_time": "2021-04-24T18:42:52.408512Z"
    }
   },
   "outputs": [
    {
     "data": {
      "text/plain": [
       "array([ 5, 20,  3])"
      ]
     },
     "execution_count": 99,
     "metadata": {},
     "output_type": "execute_result"
    }
   ],
   "source": [
    "box"
   ]
  },
  {
   "cell_type": "code",
   "execution_count": 102,
   "id": "a57f57cf",
   "metadata": {
    "ExecuteTime": {
     "end_time": "2021-04-24T18:43:37.996477Z",
     "start_time": "2021-04-24T18:43:37.980488Z"
    }
   },
   "outputs": [
    {
     "data": {
      "text/plain": [
       "array([[3., 3., 3., 3., 3., 0., 0., 0., 0., 0., 0., 0., 0., 0., 0., 0.,\n",
       "        0., 0., 0., 0.],\n",
       "       [3., 3., 3., 3., 3., 0., 0., 0., 0., 0., 0., 0., 0., 0., 0., 0.,\n",
       "        0., 0., 0., 0.],\n",
       "       [3., 3., 3., 3., 3., 0., 0., 0., 0., 0., 0., 0., 0., 0., 0., 0.,\n",
       "        0., 0., 0., 0.],\n",
       "       [3., 3., 3., 3., 3., 0., 0., 0., 0., 0., 0., 0., 0., 0., 0., 0.,\n",
       "        0., 0., 0., 0.],\n",
       "       [3., 3., 3., 3., 3., 0., 0., 0., 0., 0., 0., 0., 0., 0., 0., 0.,\n",
       "        0., 0., 0., 0.],\n",
       "       [0., 0., 0., 0., 0., 0., 0., 0., 0., 0., 0., 0., 0., 0., 0., 0.,\n",
       "        0., 0., 0., 0.],\n",
       "       [0., 0., 0., 0., 0., 0., 0., 0., 0., 0., 0., 0., 0., 0., 0., 0.,\n",
       "        0., 0., 0., 0.],\n",
       "       [0., 0., 0., 0., 0., 0., 0., 0., 0., 0., 0., 0., 0., 0., 0., 0.,\n",
       "        0., 0., 0., 0.],\n",
       "       [0., 0., 0., 0., 0., 0., 0., 0., 0., 0., 0., 0., 0., 0., 0., 0.,\n",
       "        0., 0., 0., 0.],\n",
       "       [0., 0., 0., 0., 0., 0., 0., 0., 0., 0., 0., 0., 0., 0., 0., 0.,\n",
       "        0., 0., 0., 0.],\n",
       "       [0., 0., 0., 0., 0., 0., 0., 0., 0., 0., 0., 0., 0., 0., 0., 0.,\n",
       "        0., 0., 0., 0.],\n",
       "       [0., 0., 0., 0., 0., 0., 0., 0., 0., 0., 0., 0., 0., 0., 0., 0.,\n",
       "        0., 0., 0., 0.],\n",
       "       [0., 0., 0., 0., 0., 0., 0., 0., 0., 0., 0., 0., 0., 0., 0., 0.,\n",
       "        0., 0., 0., 0.],\n",
       "       [0., 0., 0., 0., 0., 0., 0., 0., 0., 0., 0., 0., 0., 0., 0., 0.,\n",
       "        0., 0., 0., 0.],\n",
       "       [0., 0., 0., 0., 0., 0., 0., 0., 0., 0., 0., 0., 0., 0., 0., 0.,\n",
       "        0., 0., 0., 0.],\n",
       "       [0., 0., 0., 0., 0., 0., 0., 0., 0., 0., 0., 0., 0., 0., 0., 0.,\n",
       "        0., 0., 0., 0.],\n",
       "       [0., 0., 0., 0., 0., 0., 0., 0., 0., 0., 0., 0., 0., 0., 0., 0.,\n",
       "        0., 0., 0., 0.],\n",
       "       [0., 0., 0., 0., 0., 0., 0., 0., 0., 0., 0., 0., 0., 0., 0., 0.,\n",
       "        0., 0., 0., 0.],\n",
       "       [0., 0., 0., 0., 0., 0., 0., 0., 0., 0., 0., 0., 0., 0., 0., 0.,\n",
       "        0., 0., 0., 0.],\n",
       "       [0., 0., 0., 0., 0., 0., 0., 0., 0., 0., 0., 0., 0., 0., 0., 0.,\n",
       "        0., 0., 0., 0.]])"
      ]
     },
     "execution_count": 102,
     "metadata": {},
     "output_type": "execute_result"
    }
   ],
   "source": [
    "history = env.container.copy()\n",
    "history"
   ]
  },
  {
   "cell_type": "code",
   "execution_count": 103,
   "id": "6e9ea897",
   "metadata": {
    "ExecuteTime": {
     "end_time": "2021-04-24T18:43:40.450568Z",
     "start_time": "2021-04-24T18:43:40.431618Z"
    }
   },
   "outputs": [
    {
     "data": {
      "text/plain": [
       "array([[15,  0]])"
      ]
     },
     "execution_count": 103,
     "metadata": {},
     "output_type": "execute_result"
    }
   ],
   "source": [
    "w_upleft = whole_upleft(*box_cornel([0,0],20,20),box[0],box[1])\n",
    "f_upleft = feasible_location(history, w_upleft, box[0],box[1],box[2],\n",
    "                            state_H = env.height, is2d=False)\n",
    "f_upleft"
   ]
  },
  {
   "cell_type": "code",
   "execution_count": 104,
   "id": "5cac882a",
   "metadata": {
    "ExecuteTime": {
     "end_time": "2021-04-24T18:44:00.561801Z",
     "start_time": "2021-04-24T18:44:00.546769Z"
    }
   },
   "outputs": [
    {
     "data": {
      "text/plain": [
       "(1, 400)"
      ]
     },
     "execution_count": 104,
     "metadata": {},
     "output_type": "execute_result"
    }
   ],
   "source": [
    "history = np.reshape(history, [1,state_size])\n",
    "history.shape"
   ]
  },
  {
   "cell_type": "code",
   "execution_count": 105,
   "id": "de9f2299",
   "metadata": {
    "ExecuteTime": {
     "end_time": "2021-04-24T18:44:17.089072Z",
     "start_time": "2021-04-24T18:44:17.022171Z"
    }
   },
   "outputs": [
    {
     "data": {
      "text/plain": [
       "array([[0.17244901, 0.59580594, 0.03457236, 0.19717264]], dtype=float32)"
      ]
     },
     "execution_count": 105,
     "metadata": {},
     "output_type": "execute_result"
    }
   ],
   "source": [
    "policy = actor.predict(history, batch_size=1)\n",
    "policy"
   ]
  },
  {
   "cell_type": "code",
   "execution_count": 106,
   "id": "8fce435f",
   "metadata": {
    "ExecuteTime": {
     "end_time": "2021-04-24T18:44:28.062039Z",
     "start_time": "2021-04-24T18:44:28.053065Z"
    }
   },
   "outputs": [
    {
     "data": {
      "text/plain": [
       "array([0.17244901, 0.59580594, 0.03457236, 0.19717264], dtype=float32)"
      ]
     },
     "execution_count": 106,
     "metadata": {},
     "output_type": "execute_result"
    }
   ],
   "source": [
    "policy = policy.flatten()\n",
    "policy"
   ]
  },
  {
   "cell_type": "code",
   "execution_count": 114,
   "id": "32b6cd8a",
   "metadata": {
    "ExecuteTime": {
     "end_time": "2021-04-24T18:52:54.666389Z",
     "start_time": "2021-04-24T18:52:54.650451Z"
    }
   },
   "outputs": [
    {
     "data": {
      "text/plain": [
       "array([0.17244901], dtype=float32)"
      ]
     },
     "execution_count": 114,
     "metadata": {},
     "output_type": "execute_result"
    }
   ],
   "source": [
    "this_action_size = 1\n",
    "policy = policy[:this_action_size]\n",
    "policy"
   ]
  },
  {
   "cell_type": "code",
   "execution_count": 152,
   "id": "01f08332",
   "metadata": {
    "ExecuteTime": {
     "end_time": "2021-04-24T19:03:56.490651Z",
     "start_time": "2021-04-24T19:03:56.481644Z"
    }
   },
   "outputs": [
    {
     "data": {
      "text/plain": [
       "array([0.17], dtype=float32)"
      ]
     },
     "execution_count": 152,
     "metadata": {},
     "output_type": "execute_result"
    }
   ],
   "source": [
    "p_list = []\n",
    "for p in policy:\n",
    "    p_list.append(round(p,2))\n",
    "p_list = np.array(p_list)\n",
    "p_list"
   ]
  },
  {
   "cell_type": "code",
   "execution_count": 153,
   "id": "8e7a5577",
   "metadata": {
    "ExecuteTime": {
     "end_time": "2021-04-24T19:03:57.924965Z",
     "start_time": "2021-04-24T19:03:57.916909Z"
    }
   },
   "outputs": [
    {
     "data": {
      "text/plain": [
       "5.88"
      ]
     },
     "execution_count": 153,
     "metadata": {},
     "output_type": "execute_result"
    }
   ],
   "source": [
    "m = 1 / sum(p_list)\n",
    "m = round(m, 2)\n",
    "m"
   ]
  },
  {
   "cell_type": "code",
   "execution_count": 154,
   "id": "ebd887cc",
   "metadata": {
    "ExecuteTime": {
     "end_time": "2021-04-24T19:03:58.346334Z",
     "start_time": "2021-04-24T19:03:58.335363Z"
    }
   },
   "outputs": [
    {
     "data": {
      "text/plain": [
       "array([1.], dtype=float32)"
      ]
     },
     "execution_count": 154,
     "metadata": {},
     "output_type": "execute_result"
    }
   ],
   "source": [
    "for i in range(len(p_list)):\n",
    "    p_list[i] = round(p_list[i] * m, 2)\n",
    "p_list"
   ]
  },
  {
   "cell_type": "code",
   "execution_count": 155,
   "id": "0d5d2a41",
   "metadata": {
    "ExecuteTime": {
     "end_time": "2021-04-24T19:04:03.014997Z",
     "start_time": "2021-04-24T19:04:02.995954Z"
    }
   },
   "outputs": [
    {
     "data": {
      "text/plain": [
       "1.0"
      ]
     },
     "execution_count": 155,
     "metadata": {},
     "output_type": "execute_result"
    }
   ],
   "source": [
    "sum(p_list)"
   ]
  },
  {
   "cell_type": "code",
   "execution_count": 124,
   "id": "61a81556",
   "metadata": {
    "ExecuteTime": {
     "end_time": "2021-04-24T18:55:24.515552Z",
     "start_time": "2021-04-24T18:55:24.503550Z"
    }
   },
   "outputs": [
    {
     "data": {
      "text/plain": [
       "array([0])"
      ]
     },
     "execution_count": 124,
     "metadata": {},
     "output_type": "execute_result"
    }
   ],
   "source": [
    "action = np.random.choice(this_action_size, 1, p=p_list)\n",
    "action"
   ]
  },
  {
   "cell_type": "code",
   "execution_count": 125,
   "id": "056e6313",
   "metadata": {
    "ExecuteTime": {
     "end_time": "2021-04-24T18:55:48.622771Z",
     "start_time": "2021-04-24T18:55:48.608809Z"
    }
   },
   "outputs": [
    {
     "data": {
      "text/plain": [
       "0"
      ]
     },
     "execution_count": 125,
     "metadata": {},
     "output_type": "execute_result"
    }
   ],
   "source": [
    "action = action[0]\n",
    "action"
   ]
  },
  {
   "cell_type": "code",
   "execution_count": 126,
   "id": "277b521a",
   "metadata": {
    "ExecuteTime": {
     "end_time": "2021-04-24T18:56:13.309283Z",
     "start_time": "2021-04-24T18:56:13.300279Z"
    }
   },
   "outputs": [],
   "source": [
    "box_list.append(box)\n",
    "pos_list.append(f_upleft[action])"
   ]
  },
  {
   "cell_type": "code",
   "execution_count": 127,
   "id": "9346b7ce",
   "metadata": {
    "ExecuteTime": {
     "end_time": "2021-04-24T18:56:40.516003Z",
     "start_time": "2021-04-24T18:56:40.499049Z"
    }
   },
   "outputs": [
    {
     "data": {
      "text/plain": [
       "(array([[3., 3., 3., 3., 3., 0., 0., 0., 0., 0., 0., 0., 0., 0., 0., 0.,\n",
       "         0., 0., 0., 0.],\n",
       "        [3., 3., 3., 3., 3., 0., 0., 0., 0., 0., 0., 0., 0., 0., 0., 0.,\n",
       "         0., 0., 0., 0.],\n",
       "        [3., 3., 3., 3., 3., 0., 0., 0., 0., 0., 0., 0., 0., 0., 0., 0.,\n",
       "         0., 0., 0., 0.],\n",
       "        [3., 3., 3., 3., 3., 0., 0., 0., 0., 0., 0., 0., 0., 0., 0., 0.,\n",
       "         0., 0., 0., 0.],\n",
       "        [3., 3., 3., 3., 3., 0., 0., 0., 0., 0., 0., 0., 0., 0., 0., 0.,\n",
       "         0., 0., 0., 0.],\n",
       "        [0., 0., 0., 0., 0., 0., 0., 0., 0., 0., 0., 0., 0., 0., 0., 0.,\n",
       "         0., 0., 0., 0.],\n",
       "        [0., 0., 0., 0., 0., 0., 0., 0., 0., 0., 0., 0., 0., 0., 0., 0.,\n",
       "         0., 0., 0., 0.],\n",
       "        [0., 0., 0., 0., 0., 0., 0., 0., 0., 0., 0., 0., 0., 0., 0., 0.,\n",
       "         0., 0., 0., 0.],\n",
       "        [0., 0., 0., 0., 0., 0., 0., 0., 0., 0., 0., 0., 0., 0., 0., 0.,\n",
       "         0., 0., 0., 0.],\n",
       "        [0., 0., 0., 0., 0., 0., 0., 0., 0., 0., 0., 0., 0., 0., 0., 0.,\n",
       "         0., 0., 0., 0.],\n",
       "        [0., 0., 0., 0., 0., 0., 0., 0., 0., 0., 0., 0., 0., 0., 0., 0.,\n",
       "         0., 0., 0., 0.],\n",
       "        [0., 0., 0., 0., 0., 0., 0., 0., 0., 0., 0., 0., 0., 0., 0., 0.,\n",
       "         0., 0., 0., 0.],\n",
       "        [0., 0., 0., 0., 0., 0., 0., 0., 0., 0., 0., 0., 0., 0., 0., 0.,\n",
       "         0., 0., 0., 0.],\n",
       "        [0., 0., 0., 0., 0., 0., 0., 0., 0., 0., 0., 0., 0., 0., 0., 0.,\n",
       "         0., 0., 0., 0.],\n",
       "        [0., 0., 0., 0., 0., 0., 0., 0., 0., 0., 0., 0., 0., 0., 0., 0.,\n",
       "         0., 0., 0., 0.],\n",
       "        [3., 3., 3., 3., 3., 3., 3., 3., 3., 3., 3., 3., 3., 3., 3., 3.,\n",
       "         3., 3., 3., 3.],\n",
       "        [3., 3., 3., 3., 3., 3., 3., 3., 3., 3., 3., 3., 3., 3., 3., 3.,\n",
       "         3., 3., 3., 3.],\n",
       "        [3., 3., 3., 3., 3., 3., 3., 3., 3., 3., 3., 3., 3., 3., 3., 3.,\n",
       "         3., 3., 3., 3.],\n",
       "        [3., 3., 3., 3., 3., 3., 3., 3., 3., 3., 3., 3., 3., 3., 3., 3.,\n",
       "         3., 3., 3., 3.],\n",
       "        [3., 3., 3., 3., 3., 3., 3., 3., 3., 3., 3., 3., 3., 3., 3., 3.,\n",
       "         3., 3., 3., 3.]]),\n",
       " 0.046875)"
      ]
     },
     "execution_count": 127,
     "metadata": {},
     "output_type": "execute_result"
    }
   ],
   "source": [
    "next_state, reward = env.step(f_upleft[action], box[0], box[1], box[2])\n",
    "next_state, reward"
   ]
  },
  {
   "cell_type": "code",
   "execution_count": 128,
   "id": "e1039d62",
   "metadata": {
    "ExecuteTime": {
     "end_time": "2021-04-24T18:56:58.682662Z",
     "start_time": "2021-04-24T18:56:58.666744Z"
    }
   },
   "outputs": [],
   "source": [
    "next_state = np.reshape(next_state, [1, state_size])"
   ]
  },
  {
   "cell_type": "code",
   "execution_count": 136,
   "id": "94679b96",
   "metadata": {
    "ExecuteTime": {
     "end_time": "2021-04-24T18:59:57.378989Z",
     "start_time": "2021-04-24T18:59:57.372006Z"
    }
   },
   "outputs": [
    {
     "data": {
      "text/plain": [
       "(array([[0.]]), array([[0., 0., 0., 0.]]))"
      ]
     },
     "execution_count": 136,
     "metadata": {},
     "output_type": "execute_result"
    }
   ],
   "source": [
    "target = np.zeros((1, 1))\n",
    "advantages = np.zeros((1, action_size))\n",
    "target, advantages"
   ]
  },
  {
   "cell_type": "code",
   "execution_count": 130,
   "id": "5343c3a8",
   "metadata": {
    "ExecuteTime": {
     "end_time": "2021-04-24T18:58:35.065712Z",
     "start_time": "2021-04-24T18:58:34.959331Z"
    }
   },
   "outputs": [
    {
     "data": {
      "text/plain": [
       "(array([-0.14225778], dtype=float32), array([-1.1788225], dtype=float32))"
      ]
     },
     "execution_count": 130,
     "metadata": {},
     "output_type": "execute_result"
    }
   ],
   "source": [
    "value = critic.predict(history)[0]\n",
    "next_value = critic.predict(next_state)[0]\n",
    "value, next_value"
   ]
  },
  {
   "cell_type": "code",
   "execution_count": 137,
   "id": "ce17912d",
   "metadata": {
    "ExecuteTime": {
     "end_time": "2021-04-24T19:00:00.542758Z",
     "start_time": "2021-04-24T19:00:00.534757Z"
    }
   },
   "outputs": [
    {
     "data": {
      "text/plain": [
       "(array([[-0.97790146,  0.        ,  0.        ,  0.        ]]),\n",
       " array([[-1.12015927]]))"
      ]
     },
     "execution_count": 137,
     "metadata": {},
     "output_type": "execute_result"
    }
   ],
   "source": [
    "advantages[0][action] = reward + 0.99 * (next_value) - value\n",
    "target[0][0] = reward + 0.99 * next_value\n",
    "advantages, target"
   ]
  },
  {
   "cell_type": "code",
   "execution_count": 138,
   "id": "3728e4fc",
   "metadata": {
    "ExecuteTime": {
     "end_time": "2021-04-24T19:00:02.658340Z",
     "start_time": "2021-04-24T19:00:02.651363Z"
    }
   },
   "outputs": [
    {
     "data": {
      "text/plain": [
       "((1, 400), (1, 4))"
      ]
     },
     "execution_count": 138,
     "metadata": {},
     "output_type": "execute_result"
    }
   ],
   "source": [
    "history.shape, advantages.shape"
   ]
  },
  {
   "cell_type": "code",
   "execution_count": 139,
   "id": "338a0184",
   "metadata": {
    "ExecuteTime": {
     "end_time": "2021-04-24T19:00:03.913393Z",
     "start_time": "2021-04-24T19:00:03.843697Z"
    }
   },
   "outputs": [
    {
     "name": "stdout",
     "output_type": "stream",
     "text": [
      "1/1 [==============================] - 0s 5ms/step - loss: -1.7188\n"
     ]
    },
    {
     "data": {
      "text/plain": [
       "<tensorflow.python.keras.callbacks.History at 0x21512f04b48>"
      ]
     },
     "execution_count": 139,
     "metadata": {},
     "output_type": "execute_result"
    }
   ],
   "source": [
    "actor.fit(history, advantages, epochs=1)"
   ]
  },
  {
   "cell_type": "code",
   "execution_count": 140,
   "id": "4e24924b",
   "metadata": {
    "ExecuteTime": {
     "end_time": "2021-04-24T19:00:15.142256Z",
     "start_time": "2021-04-24T19:00:15.080323Z"
    }
   },
   "outputs": [
    {
     "name": "stdout",
     "output_type": "stream",
     "text": [
      "1/1 [==============================] - 0s 5ms/step - loss: 0.9563\n"
     ]
    },
    {
     "data": {
      "text/plain": [
       "<tensorflow.python.keras.callbacks.History at 0x21512eb80c8>"
      ]
     },
     "execution_count": 140,
     "metadata": {},
     "output_type": "execute_result"
    }
   ],
   "source": [
    "critic.fit(history, target, epochs=1)"
   ]
  },
  {
   "cell_type": "code",
   "execution_count": 142,
   "id": "2d014b1e",
   "metadata": {
    "ExecuteTime": {
     "end_time": "2021-04-24T19:00:24.695843Z",
     "start_time": "2021-04-24T19:00:24.688753Z"
    }
   },
   "outputs": [
    {
     "data": {
      "text/plain": [
       "([array([5, 5, 3]), array([ 5, 20,  3])], [array([0, 0]), array([15,  0])])"
      ]
     },
     "execution_count": 142,
     "metadata": {},
     "output_type": "execute_result"
    }
   ],
   "source": [
    "box_list, pos_list"
   ]
  },
  {
   "cell_type": "code",
   "execution_count": 144,
   "id": "f9d01f36",
   "metadata": {
    "ExecuteTime": {
     "end_time": "2021-04-24T19:01:07.595603Z",
     "start_time": "2021-04-24T19:01:07.584607Z"
    }
   },
   "outputs": [
    {
     "data": {
      "text/plain": [
       "[array([0, 0, 0]), array([15,  0,  0])]"
      ]
     },
     "execution_count": 144,
     "metadata": {},
     "output_type": "execute_result"
    }
   ],
   "source": [
    "p_list = []\n",
    "for pos in pos_list:\n",
    "    p_list.append(np.array([pos[0], pos[1], 0]))\n",
    "p_list"
   ]
  },
  {
   "cell_type": "code",
   "execution_count": 145,
   "id": "41baf5cd",
   "metadata": {
    "ExecuteTime": {
     "end_time": "2021-04-24T19:01:15.498395Z",
     "start_time": "2021-04-24T19:01:15.421515Z"
    }
   },
   "outputs": [
    {
     "data": {
      "image/png": "[encoded data removed]",
      "text/plain": [
       "<Figure size 216x216 with 1 Axes>"
      ]
     },
     "metadata": {},
     "output_type": "display_data"
    }
   ],
   "source": [
    "vis_box(box_list, p_list)"
   ]
  },
  {
   "cell_type": "code",
   "execution_count": 147,
   "id": "2f373b44",
   "metadata": {
    "ExecuteTime": {
     "end_time": "2021-04-24T19:01:26.695443Z",
     "start_time": "2021-04-24T19:01:26.679486Z"
    }
   },
   "outputs": [],
   "source": [
    "step += 1\n",
    "box = boxes[step]"
   ]
  },
  {
   "cell_type": "code",
   "execution_count": 149,
   "id": "c3c014d8",
   "metadata": {
    "ExecuteTime": {
     "end_time": "2021-04-24T19:01:48.989472Z",
     "start_time": "2021-04-24T19:01:48.971523Z"
    }
   },
   "outputs": [
    {
     "data": {
      "text/plain": [
       "array([5, 5, 3])"
      ]
     },
     "execution_count": 149,
     "metadata": {},
     "output_type": "execute_result"
    }
   ],
   "source": [
    "history = env.container.copy()\n",
    "box"
   ]
  },
  {
   "cell_type": "code",
   "execution_count": 150,
   "id": "cefa2294",
   "metadata": {
    "ExecuteTime": {
     "end_time": "2021-04-24T19:01:51.668807Z",
     "start_time": "2021-04-24T19:01:51.649814Z"
    }
   },
   "outputs": [
    {
     "data": {
      "text/plain": [
       "array([[3., 3., 3., 3., 3., 0., 0., 0., 0., 0., 0., 0., 0., 0., 0., 0.,\n",
       "        0., 0., 0., 0.],\n",
       "       [3., 3., 3., 3., 3., 0., 0., 0., 0., 0., 0., 0., 0., 0., 0., 0.,\n",
       "        0., 0., 0., 0.],\n",
       "       [3., 3., 3., 3., 3., 0., 0., 0., 0., 0., 0., 0., 0., 0., 0., 0.,\n",
       "        0., 0., 0., 0.],\n",
       "       [3., 3., 3., 3., 3., 0., 0., 0., 0., 0., 0., 0., 0., 0., 0., 0.,\n",
       "        0., 0., 0., 0.],\n",
       "       [3., 3., 3., 3., 3., 0., 0., 0., 0., 0., 0., 0., 0., 0., 0., 0.,\n",
       "        0., 0., 0., 0.],\n",
       "       [0., 0., 0., 0., 0., 0., 0., 0., 0., 0., 0., 0., 0., 0., 0., 0.,\n",
       "        0., 0., 0., 0.],\n",
       "       [0., 0., 0., 0., 0., 0., 0., 0., 0., 0., 0., 0., 0., 0., 0., 0.,\n",
       "        0., 0., 0., 0.],\n",
       "       [0., 0., 0., 0., 0., 0., 0., 0., 0., 0., 0., 0., 0., 0., 0., 0.,\n",
       "        0., 0., 0., 0.],\n",
       "       [0., 0., 0., 0., 0., 0., 0., 0., 0., 0., 0., 0., 0., 0., 0., 0.,\n",
       "        0., 0., 0., 0.],\n",
       "       [0., 0., 0., 0., 0., 0., 0., 0., 0., 0., 0., 0., 0., 0., 0., 0.,\n",
       "        0., 0., 0., 0.],\n",
       "       [0., 0., 0., 0., 0., 0., 0., 0., 0., 0., 0., 0., 0., 0., 0., 0.,\n",
       "        0., 0., 0., 0.],\n",
       "       [0., 0., 0., 0., 0., 0., 0., 0., 0., 0., 0., 0., 0., 0., 0., 0.,\n",
       "        0., 0., 0., 0.],\n",
       "       [0., 0., 0., 0., 0., 0., 0., 0., 0., 0., 0., 0., 0., 0., 0., 0.,\n",
       "        0., 0., 0., 0.],\n",
       "       [0., 0., 0., 0., 0., 0., 0., 0., 0., 0., 0., 0., 0., 0., 0., 0.,\n",
       "        0., 0., 0., 0.],\n",
       "       [0., 0., 0., 0., 0., 0., 0., 0., 0., 0., 0., 0., 0., 0., 0., 0.,\n",
       "        0., 0., 0., 0.],\n",
       "       [3., 3., 3., 3., 3., 3., 3., 3., 3., 3., 3., 3., 3., 3., 3., 3.,\n",
       "        3., 3., 3., 3.],\n",
       "       [3., 3., 3., 3., 3., 3., 3., 3., 3., 3., 3., 3., 3., 3., 3., 3.,\n",
       "        3., 3., 3., 3.],\n",
       "       [3., 3., 3., 3., 3., 3., 3., 3., 3., 3., 3., 3., 3., 3., 3., 3.,\n",
       "        3., 3., 3., 3.],\n",
       "       [3., 3., 3., 3., 3., 3., 3., 3., 3., 3., 3., 3., 3., 3., 3., 3.,\n",
       "        3., 3., 3., 3.],\n",
       "       [3., 3., 3., 3., 3., 3., 3., 3., 3., 3., 3., 3., 3., 3., 3., 3.,\n",
       "        3., 3., 3., 3.]])"
      ]
     },
     "execution_count": 150,
     "metadata": {},
     "output_type": "execute_result"
    }
   ],
   "source": [
    "history"
   ]
  },
  {
   "cell_type": "code",
   "execution_count": 151,
   "id": "d2db8cd8",
   "metadata": {
    "ExecuteTime": {
     "end_time": "2021-04-24T19:01:55.488401Z",
     "start_time": "2021-04-24T19:01:55.478423Z"
    }
   },
   "outputs": [
    {
     "data": {
      "text/plain": [
       "array([[ 0,  0],\n",
       "       [ 0, 15],\n",
       "       [15,  0],\n",
       "       [15, 15]])"
      ]
     },
     "execution_count": 151,
     "metadata": {},
     "output_type": "execute_result"
    }
   ],
   "source": [
    "w_upleft = whole_upleft(*box_cornel([0,0],20,20),box[0],box[1])\n",
    "f_upleft = feasible_location(history, w_upleft, box[0],box[1],box[2],\n",
    "                            state_H = env.height, is2d=False)\n",
    "f_upleft"
   ]
  },
  {
   "cell_type": "code",
   "execution_count": 156,
   "id": "222bb4db",
   "metadata": {
    "ExecuteTime": {
     "end_time": "2021-04-24T19:07:45.297676Z",
     "start_time": "2021-04-24T19:07:45.283713Z"
    }
   },
   "outputs": [
    {
     "data": {
      "text/plain": [
       "(1, 400)"
      ]
     },
     "execution_count": 156,
     "metadata": {},
     "output_type": "execute_result"
    }
   ],
   "source": [
    "history = np.reshape(history, [1, state_size])\n",
    "history.shape"
   ]
  },
  {
   "cell_type": "code",
   "execution_count": 157,
   "id": "ba360866",
   "metadata": {
    "ExecuteTime": {
     "end_time": "2021-04-24T19:08:00.155618Z",
     "start_time": "2021-04-24T19:08:00.093980Z"
    }
   },
   "outputs": [
    {
     "data": {
      "text/plain": [
       "array([[0.1717689 , 0.07421978, 0.00298312, 0.7510282 ]], dtype=float32)"
      ]
     },
     "execution_count": 157,
     "metadata": {},
     "output_type": "execute_result"
    }
   ],
   "source": [
    "policy = actor.predict(history, batch_size = 1)\n",
    "policy"
   ]
  },
  {
   "cell_type": "code",
   "execution_count": 158,
   "id": "3bece4f5",
   "metadata": {
    "ExecuteTime": {
     "end_time": "2021-04-24T19:08:19.863169Z",
     "start_time": "2021-04-24T19:08:19.847181Z"
    }
   },
   "outputs": [
    {
     "data": {
      "text/plain": [
       "array([0.1717689 , 0.07421978, 0.00298312, 0.7510282 ], dtype=float32)"
      ]
     },
     "execution_count": 158,
     "metadata": {},
     "output_type": "execute_result"
    }
   ],
   "source": [
    "policy = policy.flatten()\n",
    "policy"
   ]
  },
  {
   "cell_type": "code",
   "execution_count": 159,
   "id": "461abcea",
   "metadata": {
    "ExecuteTime": {
     "end_time": "2021-04-24T19:08:44.707563Z",
     "start_time": "2021-04-24T19:08:44.695562Z"
    }
   },
   "outputs": [
    {
     "data": {
      "text/plain": [
       "3"
      ]
     },
     "execution_count": 159,
     "metadata": {},
     "output_type": "execute_result"
    }
   ],
   "source": [
    "action = np.random.choice(action_size, 1, p=policy)[0]\n",
    "action"
   ]
  },
  {
   "cell_type": "code",
   "execution_count": 160,
   "id": "3d37e635",
   "metadata": {
    "ExecuteTime": {
     "end_time": "2021-04-24T19:08:59.944466Z",
     "start_time": "2021-04-24T19:08:59.936447Z"
    }
   },
   "outputs": [],
   "source": [
    "box_list.append(box)\n",
    "pos_list.append(f_upleft[action])"
   ]
  },
  {
   "cell_type": "code",
   "execution_count": 166,
   "id": "899c6e91",
   "metadata": {
    "ExecuteTime": {
     "end_time": "2021-04-24T19:10:35.125902Z",
     "start_time": "2021-04-24T19:10:35.118797Z"
    }
   },
   "outputs": [
    {
     "data": {
      "text/plain": [
       "[array([5, 5, 3]), array([ 5, 20,  3]), array([5, 5, 3])]"
      ]
     },
     "execution_count": 166,
     "metadata": {},
     "output_type": "execute_result"
    }
   ],
   "source": [
    "box_list"
   ]
  },
  {
   "cell_type": "code",
   "execution_count": 161,
   "id": "dbd18bfb",
   "metadata": {
    "ExecuteTime": {
     "end_time": "2021-04-24T19:09:18.618546Z",
     "start_time": "2021-04-24T19:09:18.609567Z"
    }
   },
   "outputs": [
    {
     "data": {
      "text/plain": [
       "(array([[3., 3., 3., 3., 3., 0., 0., 0., 0., 0., 0., 0., 0., 0., 0., 0.,\n",
       "         0., 0., 0., 0.],\n",
       "        [3., 3., 3., 3., 3., 0., 0., 0., 0., 0., 0., 0., 0., 0., 0., 0.,\n",
       "         0., 0., 0., 0.],\n",
       "        [3., 3., 3., 3., 3., 0., 0., 0., 0., 0., 0., 0., 0., 0., 0., 0.,\n",
       "         0., 0., 0., 0.],\n",
       "        [3., 3., 3., 3., 3., 0., 0., 0., 0., 0., 0., 0., 0., 0., 0., 0.,\n",
       "         0., 0., 0., 0.],\n",
       "        [3., 3., 3., 3., 3., 0., 0., 0., 0., 0., 0., 0., 0., 0., 0., 0.,\n",
       "         0., 0., 0., 0.],\n",
       "        [0., 0., 0., 0., 0., 0., 0., 0., 0., 0., 0., 0., 0., 0., 0., 0.,\n",
       "         0., 0., 0., 0.],\n",
       "        [0., 0., 0., 0., 0., 0., 0., 0., 0., 0., 0., 0., 0., 0., 0., 0.,\n",
       "         0., 0., 0., 0.],\n",
       "        [0., 0., 0., 0., 0., 0., 0., 0., 0., 0., 0., 0., 0., 0., 0., 0.,\n",
       "         0., 0., 0., 0.],\n",
       "        [0., 0., 0., 0., 0., 0., 0., 0., 0., 0., 0., 0., 0., 0., 0., 0.,\n",
       "         0., 0., 0., 0.],\n",
       "        [0., 0., 0., 0., 0., 0., 0., 0., 0., 0., 0., 0., 0., 0., 0., 0.,\n",
       "         0., 0., 0., 0.],\n",
       "        [0., 0., 0., 0., 0., 0., 0., 0., 0., 0., 0., 0., 0., 0., 0., 0.,\n",
       "         0., 0., 0., 0.],\n",
       "        [0., 0., 0., 0., 0., 0., 0., 0., 0., 0., 0., 0., 0., 0., 0., 0.,\n",
       "         0., 0., 0., 0.],\n",
       "        [0., 0., 0., 0., 0., 0., 0., 0., 0., 0., 0., 0., 0., 0., 0., 0.,\n",
       "         0., 0., 0., 0.],\n",
       "        [0., 0., 0., 0., 0., 0., 0., 0., 0., 0., 0., 0., 0., 0., 0., 0.,\n",
       "         0., 0., 0., 0.],\n",
       "        [0., 0., 0., 0., 0., 0., 0., 0., 0., 0., 0., 0., 0., 0., 0., 0.,\n",
       "         0., 0., 0., 0.],\n",
       "        [3., 3., 3., 3., 3., 3., 3., 3., 3., 3., 3., 3., 3., 3., 3., 6.,\n",
       "         6., 6., 6., 6.],\n",
       "        [3., 3., 3., 3., 3., 3., 3., 3., 3., 3., 3., 3., 3., 3., 3., 6.,\n",
       "         6., 6., 6., 6.],\n",
       "        [3., 3., 3., 3., 3., 3., 3., 3., 3., 3., 3., 3., 3., 3., 3., 6.,\n",
       "         6., 6., 6., 6.],\n",
       "        [3., 3., 3., 3., 3., 3., 3., 3., 3., 3., 3., 3., 3., 3., 3., 6.,\n",
       "         6., 6., 6., 6.],\n",
       "        [3., 3., 3., 3., 3., 3., 3., 3., 3., 3., 3., 3., 3., 3., 3., 6.,\n",
       "         6., 6., 6., 6.]]),\n",
       " 0.05625)"
      ]
     },
     "execution_count": 161,
     "metadata": {},
     "output_type": "execute_result"
    }
   ],
   "source": [
    "next_state, reward = env.step(f_upleft[action], box[0], box[1], box[2])\n",
    "next_state, reward"
   ]
  },
  {
   "cell_type": "code",
   "execution_count": 162,
   "id": "4ff5ff12",
   "metadata": {
    "ExecuteTime": {
     "end_time": "2021-04-24T19:09:26.820794Z",
     "start_time": "2021-04-24T19:09:26.810797Z"
    }
   },
   "outputs": [],
   "source": [
    "h = 3"
   ]
  },
  {
   "cell_type": "code",
   "execution_count": 163,
   "id": "9f5e8665",
   "metadata": {
    "ExecuteTime": {
     "end_time": "2021-04-24T19:09:40.459828Z",
     "start_time": "2021-04-24T19:09:40.455837Z"
    }
   },
   "outputs": [],
   "source": [
    "next_state = np.reshape(next_state, [1,state_size])"
   ]
  },
  {
   "cell_type": "code",
   "execution_count": 164,
   "id": "a3cb6507",
   "metadata": {
    "ExecuteTime": {
     "end_time": "2021-04-24T19:09:57.168562Z",
     "start_time": "2021-04-24T19:09:57.157591Z"
    }
   },
   "outputs": [
    {
     "data": {
      "text/plain": [
       "(array([[0.]]), array([[0., 0., 0., 0.]]))"
      ]
     },
     "execution_count": 164,
     "metadata": {},
     "output_type": "execute_result"
    }
   ],
   "source": [
    "target = np.zeros((1,1))\n",
    "advantages = np.zeros((1,action_size))\n",
    "target, advantages"
   ]
  },
  {
   "cell_type": "code",
   "execution_count": 165,
   "id": "51304341",
   "metadata": {
    "ExecuteTime": {
     "end_time": "2021-04-24T19:10:15.518012Z",
     "start_time": "2021-04-24T19:10:15.410827Z"
    }
   },
   "outputs": [
    {
     "data": {
      "text/plain": [
       "(array([-1.5815783], dtype=float32), array([-1.8459578], dtype=float32))"
      ]
     },
     "execution_count": 165,
     "metadata": {},
     "output_type": "execute_result"
    }
   ],
   "source": [
    "value = critic.predict(history)[0]\n",
    "next_value = critic.predict(next_state)[0]\n",
    "value, next_value"
   ]
  },
  {
   "cell_type": "code",
   "execution_count": 167,
   "id": "931ea5c6",
   "metadata": {
    "ExecuteTime": {
     "end_time": "2021-04-24T19:11:39.655250Z",
     "start_time": "2021-04-24T19:11:39.647294Z"
    }
   },
   "outputs": [
    {
     "data": {
      "text/plain": [
       "(array([[ 0.        ,  0.        ,  0.        , -0.18966997]]),\n",
       " array([[-1.77124822]]))"
      ]
     },
     "execution_count": 167,
     "metadata": {},
     "output_type": "execute_result"
    }
   ],
   "source": [
    "advantages[0][action] = reward + 0.99 * (next_value) - value\n",
    "target[0][0] = reward + 0.99 * next_value\n",
    "advantages, target"
   ]
  },
  {
   "cell_type": "code",
   "execution_count": 168,
   "id": "7c88ed96",
   "metadata": {
    "ExecuteTime": {
     "end_time": "2021-04-24T19:11:49.733943Z",
     "start_time": "2021-04-24T19:11:49.651697Z"
    }
   },
   "outputs": [
    {
     "name": "stdout",
     "output_type": "stream",
     "text": [
      "1/1 [==============================] - 0s 5ms/step - loss: -0.0543\n"
     ]
    },
    {
     "data": {
      "text/plain": [
       "<tensorflow.python.keras.callbacks.History at 0x21513029588>"
      ]
     },
     "execution_count": 168,
     "metadata": {},
     "output_type": "execute_result"
    }
   ],
   "source": [
    "actor.fit(history, advantages, epochs=1)"
   ]
  },
  {
   "cell_type": "code",
   "execution_count": 169,
   "id": "9175aa58",
   "metadata": {
    "ExecuteTime": {
     "end_time": "2021-04-24T19:11:59.860907Z",
     "start_time": "2021-04-24T19:11:59.636473Z"
    }
   },
   "outputs": [
    {
     "name": "stdout",
     "output_type": "stream",
     "text": [
      "WARNING:tensorflow:6 out of the last 764 calls to <function Model.make_train_function.<locals>.train_function at 0x0000021511C83B88> triggered tf.function retracing. Tracing is expensive and the excessive number of tracings could be due to (1) creating @tf.function repeatedly in a loop, (2) passing tensors with different shapes, (3) passing Python objects instead of tensors. For (1), please define your @tf.function outside of the loop. For (2), @tf.function has experimental_relax_shapes=True option that relaxes argument shapes that can avoid unnecessary retracing. For (3), please refer to https://www.tensorflow.org/guide/function#controlling_retracing and https://www.tensorflow.org/api_docs/python/tf/function for  more details.\n",
      "1/1 [==============================] - 0s 167ms/step - loss: 2.3604\n"
     ]
    },
    {
     "data": {
      "text/plain": [
       "<tensorflow.python.keras.callbacks.History at 0x215130a5a08>"
      ]
     },
     "execution_count": 169,
     "metadata": {},
     "output_type": "execute_result"
    }
   ],
   "source": [
    "critic.fit(history, advantages, epochs = 1)"
   ]
  },
  {
   "cell_type": "code",
   "execution_count": 170,
   "id": "d65417c4",
   "metadata": {
    "ExecuteTime": {
     "end_time": "2021-04-24T19:12:52.525875Z",
     "start_time": "2021-04-24T19:12:52.511913Z"
    }
   },
   "outputs": [
    {
     "data": {
      "text/plain": [
       "[array([0, 0, 0]), array([15,  0,  0]), array([15, 15,  3])]"
      ]
     },
     "execution_count": 170,
     "metadata": {},
     "output_type": "execute_result"
    }
   ],
   "source": [
    "p_list = []\n",
    "h_list = [0,0,3]\n",
    "for pos, h in zip(pos_list, h_list):\n",
    "    p_list.append(np.array([pos[0], pos[1], h]))\n",
    "p_list"
   ]
  },
  {
   "cell_type": "code",
   "execution_count": 182,
   "id": "d248112c",
   "metadata": {
    "ExecuteTime": {
     "end_time": "2021-04-24T19:15:07.240216Z",
     "start_time": "2021-04-24T19:15:07.223529Z"
    }
   },
   "outputs": [],
   "source": [
    "def cuboid_data2(o, size=(1,1,1)):\n",
    "    X = [[[0, 1, 0], [0, 0, 0], [1, 0, 0], [1, 1, 0]],\n",
    "         [[0, 0, 0], [0, 0, 1], [1, 0, 1], [1, 0, 0]],\n",
    "         [[1, 0, 1], [1, 0, 0], [1, 1, 0], [1, 1, 1]],\n",
    "         [[0, 0, 1], [0, 0, 0], [0, 1, 0], [0, 1, 1]],\n",
    "         [[0, 1, 0], [0, 1, 1], [1, 1, 1], [1, 1, 0]],\n",
    "         [[0, 1, 1], [0, 0, 1], [1, 0, 1], [1, 1, 1]]]\n",
    "    X = np.array(X).astype(float)\n",
    "    for i in range(3):\n",
    "        X[:,:,i] *= size[i]\n",
    "    X += np.array(o)\n",
    "    return X\n",
    "\n",
    "def plotCubeAt2(positions,sizes=None,colors=None, **kwargs):\n",
    "    if not isinstance(colors,(list,np.ndarray)): colors=[\"C0\"]*len(positions)\n",
    "    if not isinstance(sizes,(list,np.ndarray)): sizes=[(1,1,1)]*len(positions)\n",
    "    g = []\n",
    "    for p,s,c in zip(positions,sizes,colors):\n",
    "        g.append( cuboid_data2(p, size=s) )\n",
    "    return Poly3DCollection(np.concatenate(g),facecolors=np.repeat(colors,6), alpha=0.5, **kwargs)\n",
    "\n",
    "def get_colors(n_box):\n",
    "    color_names=[\"crimson\",\"limegreen\",\"grey\",\"brown\",\"orange\",\"olive\",\"blue\",\"purple\",\"yellow\",\"pink\",\"skyblue\",\"red\",\"aqua\",\"gold\"]\n",
    "    colors = color_names*(n_box//len(color_names))+color_names[:n_box%len(color_names)]\n",
    "    return colors\n",
    "\n",
    "def vis_box(sizes,positions,fs=(3,3)):\n",
    "    colors = get_colors(len(positions))\n",
    "    fig = plt.figure(figsize=fs)\n",
    "    ax = fig.gca(projection='3d')\n",
    "    ax.set_aspect('auto')\n",
    "    pc = plotCubeAt2(positions,sizes,colors=colors, edgecolor=\"w\")\n",
    "    ax.add_collection3d(pc)    \n",
    "    ax.set_xlim([-5,25])\n",
    "    ax.set_ylim([-5,25])\n",
    "    ax.set_zlim([-5,25])\n",
    "    return ax"
   ]
  },
  {
   "cell_type": "code",
   "execution_count": 177,
   "id": "1e0ed6cd",
   "metadata": {
    "ExecuteTime": {
     "end_time": "2021-04-24T19:14:40.428872Z",
     "start_time": "2021-04-24T19:14:40.330039Z"
    }
   },
   "outputs": [
    {
     "data": {
      "image/png": "[encoded data removed]",
      "text/plain": [
       "<Figure size 216x216 with 1 Axes>"
      ]
     },
     "metadata": {},
     "output_type": "display_data"
    },
    {
     "data": {
      "text/plain": [
       "<Axes3DSubplot:>"
      ]
     },
     "execution_count": 177,
     "metadata": {},
     "output_type": "execute_result"
    }
   ],
   "source": [
    "vis_box(box_list, p_list)"
   ]
  },
  {
   "cell_type": "code",
   "execution_count": 183,
   "id": "0a0b0190",
   "metadata": {
    "ExecuteTime": {
     "end_time": "2021-04-24T19:15:08.434432Z",
     "start_time": "2021-04-24T19:15:08.358754Z"
    }
   },
   "outputs": [
    {
     "data": {
      "image/png": "[encoded data removed]",
      "text/plain": [
       "<Figure size 216x216 with 1 Axes>"
      ]
     },
     "metadata": {},
     "output_type": "display_data"
    }
   ],
   "source": [
    "ax = vis_box(box_list, p_list)\n",
    "ax.view_init(90,-90)"
   ]
  },
  {
   "cell_type": "code",
   "execution_count": 184,
   "id": "8e2aaf76",
   "metadata": {
    "ExecuteTime": {
     "end_time": "2021-04-24T19:15:09.327769Z",
     "start_time": "2021-04-24T19:15:09.238118Z"
    }
   },
   "outputs": [
    {
     "data": {
      "image/png": "[encoded data removed]",
      "text/plain": [
       "<Figure size 216x216 with 1 Axes>"
      ]
     },
     "metadata": {},
     "output_type": "display_data"
    }
   ],
   "source": [
    "ax = vis_box(box_list, p_list)\n",
    "ax.view_init(0,0)"
   ]
  },
  {
   "cell_type": "code",
   "execution_count": 185,
   "id": "4d4532ab",
   "metadata": {
    "ExecuteTime": {
     "end_time": "2021-04-24T19:15:09.492088Z",
     "start_time": "2021-04-24T19:15:09.413224Z"
    }
   },
   "outputs": [
    {
     "data": {
      "image/png": "[encoded data removed]",
      "text/plain": [
       "<Figure size 216x216 with 1 Axes>"
      ]
     },
     "metadata": {},
     "output_type": "display_data"
    }
   ],
   "source": [
    "ax = vis_box(box_list, p_list)\n",
    "ax.view_init(0,-90)"
   ]
  },
  {
   "cell_type": "code",
   "execution_count": 167,
   "id": "08b085a1",
   "metadata": {
    "ExecuteTime": {
     "end_time": "2021-04-24T18:18:05.939633Z",
     "start_time": "2021-04-24T18:18:05.930617Z"
    }
   },
   "outputs": [
    {
     "data": {
      "text/plain": [
       "(2, 4)"
      ]
     },
     "execution_count": 167,
     "metadata": {},
     "output_type": "execute_result"
    }
   ],
   "source": [
    "import gym\n",
    "env = gym.make('CartPole-v0')\n",
    "env.action_space.n, env.observation_space.shape[0]"
   ]
  },
  {
   "cell_type": "code",
   "execution_count": 168,
   "id": "bc526098",
   "metadata": {
    "ExecuteTime": {
     "end_time": "2021-04-24T18:18:06.135882Z",
     "start_time": "2021-04-24T18:18:06.076865Z"
    }
   },
   "outputs": [
    {
     "data": {
      "text/plain": [
       "(array([0.03099091, 0.00212498, 0.00502325, 0.01542857]), (4,))"
      ]
     },
     "execution_count": 168,
     "metadata": {},
     "output_type": "execute_result"
    }
   ],
   "source": [
    "state_size = env.observation_space.shape[0]\n",
    "action_size = env.action_space.n\n",
    "\n",
    "actor = build_actor(state_size, action_size)\n",
    "critic = build_critic(state_size)\n",
    "\n",
    "state = env.reset()\n",
    "state, state.shape"
   ]
  },
  {
   "cell_type": "code",
   "execution_count": 169,
   "id": "d136950a",
   "metadata": {
    "ExecuteTime": {
     "end_time": "2021-04-24T18:18:06.241493Z",
     "start_time": "2021-04-24T18:18:06.235509Z"
    }
   },
   "outputs": [
    {
     "data": {
      "text/plain": [
       "(array([[0.03099091, 0.00212498, 0.00502325, 0.01542857]]), (1, 4))"
      ]
     },
     "execution_count": 169,
     "metadata": {},
     "output_type": "execute_result"
    }
   ],
   "source": [
    "state = np.reshape(state, [1,state_size])\n",
    "state, state.shape"
   ]
  },
  {
   "cell_type": "code",
   "execution_count": 170,
   "id": "e670e0c0",
   "metadata": {
    "ExecuteTime": {
     "end_time": "2021-04-24T18:18:06.453281Z",
     "start_time": "2021-04-24T18:18:06.385373Z"
    }
   },
   "outputs": [
    {
     "name": "stdout",
     "output_type": "stream",
     "text": [
      "WARNING:tensorflow:7 out of the last 29 calls to <function Model.make_predict_function.<locals>.predict_function at 0x00000221EE13D948> triggered tf.function retracing. Tracing is expensive and the excessive number of tracings could be due to (1) creating @tf.function repeatedly in a loop, (2) passing tensors with different shapes, (3) passing Python objects instead of tensors. For (1), please define your @tf.function outside of the loop. For (2), @tf.function has experimental_relax_shapes=True option that relaxes argument shapes that can avoid unnecessary retracing. For (3), please refer to https://www.tensorflow.org/guide/function#controlling_retracing and https://www.tensorflow.org/api_docs/python/tf/function for  more details.\n"
     ]
    },
    {
     "data": {
      "text/plain": [
       "array([[0.49973077, 0.50026923]], dtype=float32)"
      ]
     },
     "execution_count": 170,
     "metadata": {},
     "output_type": "execute_result"
    }
   ],
   "source": [
    "policy = actor.predict(state, batch_size=1)\n",
    "policy"
   ]
  },
  {
   "cell_type": "code",
   "execution_count": 171,
   "id": "4284cde1",
   "metadata": {
    "ExecuteTime": {
     "end_time": "2021-04-24T18:18:06.528034Z",
     "start_time": "2021-04-24T18:18:06.519415Z"
    }
   },
   "outputs": [
    {
     "data": {
      "text/plain": [
       "array([0.49973077, 0.50026923], dtype=float32)"
      ]
     },
     "execution_count": 171,
     "metadata": {},
     "output_type": "execute_result"
    }
   ],
   "source": [
    "policy = policy.flatten()\n",
    "policy"
   ]
  },
  {
   "cell_type": "code",
   "execution_count": 172,
   "id": "cecfd1e5",
   "metadata": {
    "ExecuteTime": {
     "end_time": "2021-04-24T18:18:06.665995Z",
     "start_time": "2021-04-24T18:18:06.653007Z"
    }
   },
   "outputs": [
    {
     "data": {
      "text/plain": [
       "array([1])"
      ]
     },
     "execution_count": 172,
     "metadata": {},
     "output_type": "execute_result"
    }
   ],
   "source": [
    "action = np.random.choice(action_size, 1, p=policy)\n",
    "action"
   ]
  },
  {
   "cell_type": "code",
   "execution_count": 173,
   "id": "9030b206",
   "metadata": {
    "ExecuteTime": {
     "end_time": "2021-04-24T18:18:09.688156Z",
     "start_time": "2021-04-24T18:18:09.669609Z"
    }
   },
   "outputs": [
    {
     "data": {
      "text/plain": [
       "1"
      ]
     },
     "execution_count": 173,
     "metadata": {},
     "output_type": "execute_result"
    }
   ],
   "source": [
    "action = action[0]\n",
    "action"
   ]
  },
  {
   "cell_type": "code",
   "execution_count": 174,
   "id": "c9a47817",
   "metadata": {
    "ExecuteTime": {
     "end_time": "2021-04-24T18:18:09.884846Z",
     "start_time": "2021-04-24T18:18:09.877864Z"
    }
   },
   "outputs": [
    {
     "data": {
      "text/plain": [
       "(array([ 0.03103341,  0.19717453,  0.00533182, -0.27566523]), 0.0075)"
      ]
     },
     "execution_count": 174,
     "metadata": {},
     "output_type": "execute_result"
    }
   ],
   "source": [
    "next_state, reawrd, done, _ = env.step(action)\n",
    "next_state, reward"
   ]
  },
  {
   "cell_type": "code",
   "execution_count": 175,
   "id": "dea3ddc8",
   "metadata": {
    "ExecuteTime": {
     "end_time": "2021-04-24T18:18:10.536302Z",
     "start_time": "2021-04-24T18:18:10.525385Z"
    }
   },
   "outputs": [
    {
     "data": {
      "text/plain": [
       "(4,)"
      ]
     },
     "execution_count": 175,
     "metadata": {},
     "output_type": "execute_result"
    }
   ],
   "source": [
    "next_state.shape"
   ]
  },
  {
   "cell_type": "code",
   "execution_count": 176,
   "id": "3b676d42",
   "metadata": {
    "ExecuteTime": {
     "end_time": "2021-04-24T18:18:10.732964Z",
     "start_time": "2021-04-24T18:18:10.722995Z"
    }
   },
   "outputs": [
    {
     "data": {
      "text/plain": [
       "(array([[ 0.03103341,  0.19717453,  0.00533182, -0.27566523]]), (1, 4))"
      ]
     },
     "execution_count": 176,
     "metadata": {},
     "output_type": "execute_result"
    }
   ],
   "source": [
    "next_state = np.reshape(next_state, [1,state_size])\n",
    "next_state, next_state.shape"
   ]
  },
  {
   "cell_type": "code",
   "execution_count": 177,
   "id": "430d7936",
   "metadata": {
    "ExecuteTime": {
     "end_time": "2021-04-24T18:18:11.840921Z",
     "start_time": "2021-04-24T18:18:11.823134Z"
    }
   },
   "outputs": [
    {
     "data": {
      "text/plain": [
       "(array([[0.]]), array([[0., 0.]]))"
      ]
     },
     "execution_count": 177,
     "metadata": {},
     "output_type": "execute_result"
    }
   ],
   "source": [
    "target = np.zeros((1,1))\n",
    "advantages = np.zeros((1, action_size))\n",
    "target, advantages"
   ]
  },
  {
   "cell_type": "code",
   "execution_count": 178,
   "id": "0da81260",
   "metadata": {
    "ExecuteTime": {
     "end_time": "2021-04-24T18:18:12.553079Z",
     "start_time": "2021-04-24T18:18:12.474204Z"
    }
   },
   "outputs": [
    {
     "name": "stdout",
     "output_type": "stream",
     "text": [
      "WARNING:tensorflow:8 out of the last 30 calls to <function Model.make_predict_function.<locals>.predict_function at 0x00000221EE215438> triggered tf.function retracing. Tracing is expensive and the excessive number of tracings could be due to (1) creating @tf.function repeatedly in a loop, (2) passing tensors with different shapes, (3) passing Python objects instead of tensors. For (1), please define your @tf.function outside of the loop. For (2), @tf.function has experimental_relax_shapes=True option that relaxes argument shapes that can avoid unnecessary retracing. For (3), please refer to https://www.tensorflow.org/guide/function#controlling_retracing and https://www.tensorflow.org/api_docs/python/tf/function for  more details.\n"
     ]
    },
    {
     "data": {
      "text/plain": [
       "array([[0.00828244]], dtype=float32)"
      ]
     },
     "execution_count": 178,
     "metadata": {},
     "output_type": "execute_result"
    }
   ],
   "source": [
    "value = critic.predict(state)\n",
    "value"
   ]
  },
  {
   "cell_type": "code",
   "execution_count": 179,
   "id": "cc3d8c22",
   "metadata": {
    "ExecuteTime": {
     "end_time": "2021-04-24T18:18:12.718697Z",
     "start_time": "2021-04-24T18:18:12.669004Z"
    }
   },
   "outputs": [
    {
     "data": {
      "text/plain": [
       "array([[0.13211402]], dtype=float32)"
      ]
     },
     "execution_count": 179,
     "metadata": {},
     "output_type": "execute_result"
    }
   ],
   "source": [
    "next_value = critic.predict(next_state)\n",
    "next_value"
   ]
  },
  {
   "cell_type": "code",
   "execution_count": 180,
   "id": "0a2c6fc3",
   "metadata": {
    "ExecuteTime": {
     "end_time": "2021-04-24T18:18:13.826195Z",
     "start_time": "2021-04-24T18:18:13.815181Z"
    }
   },
   "outputs": [
    {
     "data": {
      "text/plain": [
       "(array([0.00828244], dtype=float32), array([0.13211402], dtype=float32))"
      ]
     },
     "execution_count": 180,
     "metadata": {},
     "output_type": "execute_result"
    }
   ],
   "source": [
    "value = value[0]\n",
    "next_value = next_value[0]\n",
    "value, next_value"
   ]
  },
  {
   "cell_type": "code",
   "execution_count": 181,
   "id": "37021138",
   "metadata": {
    "ExecuteTime": {
     "end_time": "2021-04-24T18:18:34.309887Z",
     "start_time": "2021-04-24T18:18:34.296935Z"
    }
   },
   "outputs": [
    {
     "data": {
      "text/plain": [
       "array([[0.        , 0.13001044]])"
      ]
     },
     "execution_count": 181,
     "metadata": {},
     "output_type": "execute_result"
    }
   ],
   "source": [
    "advantages[0][action] = reward + 0.99 * (next_value) - value\n",
    "advantages"
   ]
  },
  {
   "cell_type": "code",
   "execution_count": 182,
   "id": "aaf8382d",
   "metadata": {
    "ExecuteTime": {
     "end_time": "2021-04-24T18:18:53.123871Z",
     "start_time": "2021-04-24T18:18:53.116862Z"
    }
   },
   "outputs": [
    {
     "data": {
      "text/plain": [
       "array([[0.13829288]])"
      ]
     },
     "execution_count": 182,
     "metadata": {},
     "output_type": "execute_result"
    }
   ],
   "source": [
    "target[0][0] = reward + 0.99 * next_value\n",
    "target"
   ]
  },
  {
   "cell_type": "code",
   "execution_count": 183,
   "id": "aa55a8a0",
   "metadata": {
    "ExecuteTime": {
     "end_time": "2021-04-24T18:19:02.335087Z",
     "start_time": "2021-04-24T18:19:02.318575Z"
    }
   },
   "outputs": [
    {
     "data": {
      "text/plain": [
       "((1, 4), (1, 2))"
      ]
     },
     "execution_count": 183,
     "metadata": {},
     "output_type": "execute_result"
    }
   ],
   "source": [
    "state.shape, advantages.shape"
   ]
  },
  {
   "cell_type": "code",
   "execution_count": 185,
   "id": "4e47e0ba",
   "metadata": {
    "ExecuteTime": {
     "end_time": "2021-04-24T18:19:24.130785Z",
     "start_time": "2021-04-24T18:19:23.668020Z"
    }
   },
   "outputs": [
    {
     "name": "stdout",
     "output_type": "stream",
     "text": [
      "1/1 [==============================] - 0s 392ms/step - loss: 0.0900\n"
     ]
    }
   ],
   "source": [
    "history = actor.fit(state, advantages, epochs=1)"
   ]
  },
  {
   "cell_type": "code",
   "execution_count": 187,
   "id": "721ff0b2",
   "metadata": {
    "ExecuteTime": {
     "end_time": "2021-04-24T18:19:37.114021Z",
     "start_time": "2021-04-24T18:19:37.104021Z"
    }
   },
   "outputs": [
    {
     "data": {
      "text/plain": [
       "[0.09004638344049454]"
      ]
     },
     "execution_count": 187,
     "metadata": {},
     "output_type": "execute_result"
    }
   ],
   "source": [
    "history.history['loss']"
   ]
  },
  {
   "cell_type": "code",
   "execution_count": 188,
   "id": "f5786ec3",
   "metadata": {
    "ExecuteTime": {
     "end_time": "2021-04-24T18:19:57.315317Z",
     "start_time": "2021-04-24T18:19:57.303300Z"
    }
   },
   "outputs": [
    {
     "data": {
      "text/plain": [
       "((1, 4), (1, 1))"
      ]
     },
     "execution_count": 188,
     "metadata": {},
     "output_type": "execute_result"
    }
   ],
   "source": [
    "state.shape, target.shape"
   ]
  },
  {
   "cell_type": "code",
   "execution_count": 189,
   "id": "847802a2",
   "metadata": {
    "ExecuteTime": {
     "end_time": "2021-04-24T18:20:05.923201Z",
     "start_time": "2021-04-24T18:20:05.576390Z"
    }
   },
   "outputs": [
    {
     "name": "stdout",
     "output_type": "stream",
     "text": [
      "1/1 [==============================] - 0s 280ms/step - loss: 0.0169\n"
     ]
    }
   ],
   "source": [
    "history_c = critic.fit(state, target, epochs=1)"
   ]
  },
  {
   "cell_type": "code",
   "execution_count": 190,
   "id": "066b33e9",
   "metadata": {
    "ExecuteTime": {
     "end_time": "2021-04-24T18:20:12.419652Z",
     "start_time": "2021-04-24T18:20:12.412637Z"
    }
   },
   "outputs": [
    {
     "data": {
      "text/plain": [
       "[0.01690271496772766]"
      ]
     },
     "execution_count": 190,
     "metadata": {},
     "output_type": "execute_result"
    }
   ],
   "source": [
    "history_c.history['loss']"
   ]
  },
  {
   "cell_type": "code",
   "execution_count": 192,
   "id": "6bf53cd6",
   "metadata": {
    "ExecuteTime": {
     "end_time": "2021-04-24T18:20:37.884188Z",
     "start_time": "2021-04-24T18:20:37.865240Z"
    }
   },
   "outputs": [
    {
     "data": {
      "text/plain": [
       "(array([[ 0.03103341,  0.19717453,  0.00533182, -0.27566523]]), (1, 4))"
      ]
     },
     "execution_count": 192,
     "metadata": {},
     "output_type": "execute_result"
    }
   ],
   "source": [
    "state = next_state\n",
    "state, state.shape"
   ]
  },
  {
   "cell_type": "code",
   "execution_count": 193,
   "id": "2d19cfbc",
   "metadata": {
    "ExecuteTime": {
     "end_time": "2021-04-24T18:21:00.473075Z",
     "start_time": "2021-04-24T18:21:00.412998Z"
    }
   },
   "outputs": [
    {
     "data": {
      "text/plain": [
       "array([[0.5366455 , 0.46335456]], dtype=float32)"
      ]
     },
     "execution_count": 193,
     "metadata": {},
     "output_type": "execute_result"
    }
   ],
   "source": [
    "policy = actor.predict(state, batch_size=1)\n",
    "policy"
   ]
  },
  {
   "cell_type": "code",
   "execution_count": 2,
   "id": "4287e22d",
   "metadata": {
    "ExecuteTime": {
     "end_time": "2021-04-24T18:26:17.328589Z",
     "start_time": "2021-04-24T18:25:00.090031Z"
    }
   },
   "outputs": [
    {
     "name": "stdout",
     "output_type": "stream",
     "text": [
      "Model: \"sequential_2\"\n",
      "_________________________________________________________________\n",
      "Layer (type)                 Output Shape              Param #   \n",
      "=================================================================\n",
      "dense_4 (Dense)              (None, 24)                120       \n",
      "_________________________________________________________________\n",
      "dense_5 (Dense)              (None, 2)                 50        \n",
      "=================================================================\n",
      "Total params: 170\n",
      "Trainable params: 170\n",
      "Non-trainable params: 0\n",
      "_________________________________________________________________\n",
      "Model: \"sequential_3\"\n",
      "_________________________________________________________________\n",
      "Layer (type)                 Output Shape              Param #   \n",
      "=================================================================\n",
      "dense_6 (Dense)              (None, 24)                120       \n",
      "_________________________________________________________________\n",
      "dense_7 (Dense)              (None, 1)                 25        \n",
      "=================================================================\n",
      "Total params: 145\n",
      "Trainable params: 145\n",
      "Non-trainable params: 0\n",
      "_________________________________________________________________\n",
      "episode: 0   score: 57.0\n",
      "episode: 1   score: 29.0\n",
      "episode: 2   score: 11.0\n",
      "episode: 3   score: 26.0\n",
      "episode: 4   score: 30.0\n",
      "episode: 5   score: 31.0\n",
      "episode: 6   score: 14.0\n",
      "episode: 7   score: 31.0\n",
      "episode: 8   score: 63.0\n",
      "episode: 9   score: 31.0\n"
     ]
    },
    {
     "ename": "KeyboardInterrupt",
     "evalue": "",
     "output_type": "error",
     "traceback": [
      "\u001b[1;31m---------------------------------------------------------------------------\u001b[0m",
      "\u001b[1;31mKeyboardInterrupt\u001b[0m                         Traceback (most recent call last)",
      "\u001b[1;32m<ipython-input-2-2b8dc9c78a4e>\u001b[0m in \u001b[0;36m<module>\u001b[1;34m\u001b[0m\n\u001b[0;32m    112\u001b[0m             \u001b[0mreward\u001b[0m \u001b[1;33m=\u001b[0m \u001b[0mreward\u001b[0m \u001b[1;32mif\u001b[0m \u001b[1;32mnot\u001b[0m \u001b[0mdone\u001b[0m \u001b[1;32mor\u001b[0m \u001b[0mscore\u001b[0m \u001b[1;33m==\u001b[0m \u001b[1;36m499\u001b[0m \u001b[1;32melse\u001b[0m \u001b[1;33m-\u001b[0m\u001b[1;36m100\u001b[0m\u001b[1;33m\u001b[0m\u001b[1;33m\u001b[0m\u001b[0m\n\u001b[0;32m    113\u001b[0m \u001b[1;33m\u001b[0m\u001b[0m\n\u001b[1;32m--> 114\u001b[1;33m             \u001b[0magent\u001b[0m\u001b[1;33m.\u001b[0m\u001b[0mtrain_model\u001b[0m\u001b[1;33m(\u001b[0m\u001b[0mstate\u001b[0m\u001b[1;33m,\u001b[0m \u001b[0maction\u001b[0m\u001b[1;33m,\u001b[0m \u001b[0mreward\u001b[0m\u001b[1;33m,\u001b[0m \u001b[0mnext_state\u001b[0m\u001b[1;33m,\u001b[0m \u001b[0mdone\u001b[0m\u001b[1;33m)\u001b[0m\u001b[1;33m\u001b[0m\u001b[1;33m\u001b[0m\u001b[0m\n\u001b[0m\u001b[0;32m    115\u001b[0m \u001b[1;33m\u001b[0m\u001b[0m\n\u001b[0;32m    116\u001b[0m             \u001b[0mscore\u001b[0m \u001b[1;33m+=\u001b[0m \u001b[0mreward\u001b[0m\u001b[1;33m\u001b[0m\u001b[1;33m\u001b[0m\u001b[0m\n",
      "\u001b[1;32m<ipython-input-2-2b8dc9c78a4e>\u001b[0m in \u001b[0;36mtrain_model\u001b[1;34m(self, state, action, reward, next_state, done)\u001b[0m\n\u001b[0;32m     80\u001b[0m \u001b[1;33m\u001b[0m\u001b[0m\n\u001b[0;32m     81\u001b[0m         \u001b[0mself\u001b[0m\u001b[1;33m.\u001b[0m\u001b[0mactor\u001b[0m\u001b[1;33m.\u001b[0m\u001b[0mfit\u001b[0m\u001b[1;33m(\u001b[0m\u001b[0mstate\u001b[0m\u001b[1;33m,\u001b[0m \u001b[0madvantages\u001b[0m\u001b[1;33m,\u001b[0m \u001b[0mepochs\u001b[0m\u001b[1;33m=\u001b[0m\u001b[1;36m1\u001b[0m\u001b[1;33m,\u001b[0m \u001b[0mverbose\u001b[0m\u001b[1;33m=\u001b[0m\u001b[1;36m0\u001b[0m\u001b[1;33m)\u001b[0m\u001b[1;33m\u001b[0m\u001b[1;33m\u001b[0m\u001b[0m\n\u001b[1;32m---> 82\u001b[1;33m         \u001b[0mself\u001b[0m\u001b[1;33m.\u001b[0m\u001b[0mcritic\u001b[0m\u001b[1;33m.\u001b[0m\u001b[0mfit\u001b[0m\u001b[1;33m(\u001b[0m\u001b[0mstate\u001b[0m\u001b[1;33m,\u001b[0m \u001b[0mtarget\u001b[0m\u001b[1;33m,\u001b[0m \u001b[0mepochs\u001b[0m\u001b[1;33m=\u001b[0m\u001b[1;36m1\u001b[0m\u001b[1;33m,\u001b[0m \u001b[0mverbose\u001b[0m\u001b[1;33m=\u001b[0m\u001b[1;36m0\u001b[0m\u001b[1;33m)\u001b[0m\u001b[1;33m\u001b[0m\u001b[1;33m\u001b[0m\u001b[0m\n\u001b[0m\u001b[0;32m     83\u001b[0m \u001b[1;33m\u001b[0m\u001b[0m\n\u001b[0;32m     84\u001b[0m \u001b[1;33m\u001b[0m\u001b[0m\n",
      "\u001b[1;32m~\\anaconda3\\envs\\RL\\lib\\site-packages\\tensorflow\\python\\keras\\engine\\training.py\u001b[0m in \u001b[0;36mfit\u001b[1;34m(self, x, y, batch_size, epochs, verbose, callbacks, validation_split, validation_data, shuffle, class_weight, sample_weight, initial_epoch, steps_per_epoch, validation_steps, validation_batch_size, validation_freq, max_queue_size, workers, use_multiprocessing)\u001b[0m\n\u001b[0;32m   1062\u001b[0m           \u001b[0muse_multiprocessing\u001b[0m\u001b[1;33m=\u001b[0m\u001b[0muse_multiprocessing\u001b[0m\u001b[1;33m,\u001b[0m\u001b[1;33m\u001b[0m\u001b[1;33m\u001b[0m\u001b[0m\n\u001b[0;32m   1063\u001b[0m           \u001b[0mmodel\u001b[0m\u001b[1;33m=\u001b[0m\u001b[0mself\u001b[0m\u001b[1;33m,\u001b[0m\u001b[1;33m\u001b[0m\u001b[1;33m\u001b[0m\u001b[0m\n\u001b[1;32m-> 1064\u001b[1;33m           steps_per_execution=self._steps_per_execution)\n\u001b[0m\u001b[0;32m   1065\u001b[0m \u001b[1;33m\u001b[0m\u001b[0m\n\u001b[0;32m   1066\u001b[0m       \u001b[1;31m# Container that configures and calls `tf.keras.Callback`s.\u001b[0m\u001b[1;33m\u001b[0m\u001b[1;33m\u001b[0m\u001b[1;33m\u001b[0m\u001b[0m\n",
      "\u001b[1;32m~\\anaconda3\\envs\\RL\\lib\\site-packages\\tensorflow\\python\\keras\\engine\\data_adapter.py\u001b[0m in \u001b[0;36m__init__\u001b[1;34m(self, x, y, sample_weight, batch_size, steps_per_epoch, initial_epoch, epochs, shuffle, class_weight, max_queue_size, workers, use_multiprocessing, model, steps_per_execution)\u001b[0m\n\u001b[0;32m   1110\u001b[0m         \u001b[0muse_multiprocessing\u001b[0m\u001b[1;33m=\u001b[0m\u001b[0muse_multiprocessing\u001b[0m\u001b[1;33m,\u001b[0m\u001b[1;33m\u001b[0m\u001b[1;33m\u001b[0m\u001b[0m\n\u001b[0;32m   1111\u001b[0m         \u001b[0mdistribution_strategy\u001b[0m\u001b[1;33m=\u001b[0m\u001b[0mds_context\u001b[0m\u001b[1;33m.\u001b[0m\u001b[0mget_strategy\u001b[0m\u001b[1;33m(\u001b[0m\u001b[1;33m)\u001b[0m\u001b[1;33m,\u001b[0m\u001b[1;33m\u001b[0m\u001b[1;33m\u001b[0m\u001b[0m\n\u001b[1;32m-> 1112\u001b[1;33m         model=model)\n\u001b[0m\u001b[0;32m   1113\u001b[0m \u001b[1;33m\u001b[0m\u001b[0m\n\u001b[0;32m   1114\u001b[0m     \u001b[0mstrategy\u001b[0m \u001b[1;33m=\u001b[0m \u001b[0mds_context\u001b[0m\u001b[1;33m.\u001b[0m\u001b[0mget_strategy\u001b[0m\u001b[1;33m(\u001b[0m\u001b[1;33m)\u001b[0m\u001b[1;33m\u001b[0m\u001b[1;33m\u001b[0m\u001b[0m\n",
      "\u001b[1;32m~\\anaconda3\\envs\\RL\\lib\\site-packages\\tensorflow\\python\\keras\\engine\\data_adapter.py\u001b[0m in \u001b[0;36m__init__\u001b[1;34m(self, x, y, sample_weights, sample_weight_modes, batch_size, epochs, steps, shuffle, **kwargs)\u001b[0m\n\u001b[0;32m    351\u001b[0m       \u001b[1;32mreturn\u001b[0m \u001b[0mflat_dataset\u001b[0m\u001b[1;33m\u001b[0m\u001b[1;33m\u001b[0m\u001b[0m\n\u001b[0;32m    352\u001b[0m \u001b[1;33m\u001b[0m\u001b[0m\n\u001b[1;32m--> 353\u001b[1;33m     \u001b[0mindices_dataset\u001b[0m \u001b[1;33m=\u001b[0m \u001b[0mindices_dataset\u001b[0m\u001b[1;33m.\u001b[0m\u001b[0mflat_map\u001b[0m\u001b[1;33m(\u001b[0m\u001b[0mslice_batch_indices\u001b[0m\u001b[1;33m)\u001b[0m\u001b[1;33m\u001b[0m\u001b[1;33m\u001b[0m\u001b[0m\n\u001b[0m\u001b[0;32m    354\u001b[0m \u001b[1;33m\u001b[0m\u001b[0m\n\u001b[0;32m    355\u001b[0m     \u001b[0mdataset\u001b[0m \u001b[1;33m=\u001b[0m \u001b[0mself\u001b[0m\u001b[1;33m.\u001b[0m\u001b[0mslice_inputs\u001b[0m\u001b[1;33m(\u001b[0m\u001b[0mindices_dataset\u001b[0m\u001b[1;33m,\u001b[0m \u001b[0minputs\u001b[0m\u001b[1;33m)\u001b[0m\u001b[1;33m\u001b[0m\u001b[1;33m\u001b[0m\u001b[0m\n",
      "\u001b[1;32m~\\anaconda3\\envs\\RL\\lib\\site-packages\\tensorflow\\python\\data\\ops\\dataset_ops.py\u001b[0m in \u001b[0;36mflat_map\u001b[1;34m(self, map_func)\u001b[0m\n\u001b[0;32m   1835\u001b[0m       \u001b[0mDataset\u001b[0m\u001b[1;33m:\u001b[0m \u001b[0mA\u001b[0m\u001b[0;31m \u001b[0m\u001b[0;31m`\u001b[0m\u001b[0mDataset\u001b[0m\u001b[0;31m`\u001b[0m\u001b[1;33m.\u001b[0m\u001b[1;33m\u001b[0m\u001b[1;33m\u001b[0m\u001b[0m\n\u001b[0;32m   1836\u001b[0m     \"\"\"\n\u001b[1;32m-> 1837\u001b[1;33m     \u001b[1;32mreturn\u001b[0m \u001b[0mFlatMapDataset\u001b[0m\u001b[1;33m(\u001b[0m\u001b[0mself\u001b[0m\u001b[1;33m,\u001b[0m \u001b[0mmap_func\u001b[0m\u001b[1;33m)\u001b[0m\u001b[1;33m\u001b[0m\u001b[1;33m\u001b[0m\u001b[0m\n\u001b[0m\u001b[0;32m   1838\u001b[0m \u001b[1;33m\u001b[0m\u001b[0m\n\u001b[0;32m   1839\u001b[0m   def interleave(self,\n",
      "\u001b[1;32m~\\anaconda3\\envs\\RL\\lib\\site-packages\\tensorflow\\python\\data\\ops\\dataset_ops.py\u001b[0m in \u001b[0;36m__init__\u001b[1;34m(self, input_dataset, map_func)\u001b[0m\n\u001b[0;32m   4293\u001b[0m         \u001b[0mself\u001b[0m\u001b[1;33m.\u001b[0m\u001b[0m_map_func\u001b[0m\u001b[1;33m.\u001b[0m\u001b[0mfunction\u001b[0m\u001b[1;33m.\u001b[0m\u001b[0mcaptured_inputs\u001b[0m\u001b[1;33m,\u001b[0m\u001b[1;33m\u001b[0m\u001b[1;33m\u001b[0m\u001b[0m\n\u001b[0;32m   4294\u001b[0m         \u001b[0mf\u001b[0m\u001b[1;33m=\u001b[0m\u001b[0mself\u001b[0m\u001b[1;33m.\u001b[0m\u001b[0m_map_func\u001b[0m\u001b[1;33m.\u001b[0m\u001b[0mfunction\u001b[0m\u001b[1;33m,\u001b[0m\u001b[1;33m\u001b[0m\u001b[1;33m\u001b[0m\u001b[0m\n\u001b[1;32m-> 4295\u001b[1;33m         **self._flat_structure)\n\u001b[0m\u001b[0;32m   4296\u001b[0m     \u001b[0msuper\u001b[0m\u001b[1;33m(\u001b[0m\u001b[0mFlatMapDataset\u001b[0m\u001b[1;33m,\u001b[0m \u001b[0mself\u001b[0m\u001b[1;33m)\u001b[0m\u001b[1;33m.\u001b[0m\u001b[0m__init__\u001b[0m\u001b[1;33m(\u001b[0m\u001b[0minput_dataset\u001b[0m\u001b[1;33m,\u001b[0m \u001b[0mvariant_tensor\u001b[0m\u001b[1;33m)\u001b[0m\u001b[1;33m\u001b[0m\u001b[1;33m\u001b[0m\u001b[0m\n\u001b[0;32m   4297\u001b[0m \u001b[1;33m\u001b[0m\u001b[0m\n",
      "\u001b[1;32m~\\anaconda3\\envs\\RL\\lib\\site-packages\\tensorflow\\python\\ops\\gen_dataset_ops.py\u001b[0m in \u001b[0;36mflat_map_dataset\u001b[1;34m(input_dataset, other_arguments, f, output_types, output_shapes, name)\u001b[0m\n\u001b[0;32m   2002\u001b[0m       _result = pywrap_tfe.TFE_Py_FastPathExecute(\n\u001b[0;32m   2003\u001b[0m         \u001b[0m_ctx\u001b[0m\u001b[1;33m,\u001b[0m \u001b[1;34m\"FlatMapDataset\"\u001b[0m\u001b[1;33m,\u001b[0m \u001b[0mname\u001b[0m\u001b[1;33m,\u001b[0m \u001b[0minput_dataset\u001b[0m\u001b[1;33m,\u001b[0m \u001b[0mother_arguments\u001b[0m\u001b[1;33m,\u001b[0m \u001b[1;34m\"f\"\u001b[0m\u001b[1;33m,\u001b[0m \u001b[0mf\u001b[0m\u001b[1;33m,\u001b[0m\u001b[1;33m\u001b[0m\u001b[1;33m\u001b[0m\u001b[0m\n\u001b[1;32m-> 2004\u001b[1;33m         \"output_types\", output_types, \"output_shapes\", output_shapes)\n\u001b[0m\u001b[0;32m   2005\u001b[0m       \u001b[1;32mreturn\u001b[0m \u001b[0m_result\u001b[0m\u001b[1;33m\u001b[0m\u001b[1;33m\u001b[0m\u001b[0m\n\u001b[0;32m   2006\u001b[0m     \u001b[1;32mexcept\u001b[0m \u001b[0m_core\u001b[0m\u001b[1;33m.\u001b[0m\u001b[0m_NotOkStatusException\u001b[0m \u001b[1;32mas\u001b[0m \u001b[0me\u001b[0m\u001b[1;33m:\u001b[0m\u001b[1;33m\u001b[0m\u001b[1;33m\u001b[0m\u001b[0m\n",
      "\u001b[1;31mKeyboardInterrupt\u001b[0m: "
     ]
    },
    {
     "data": {
      "image/png": "[encoded data removed]",
      "text/plain": [
       "<Figure size 432x288 with 1 Axes>"
      ]
     },
     "metadata": {
      "needs_background": "light"
     },
     "output_type": "display_data"
    }
   ],
   "source": [
    "import sys\n",
    "import gym\n",
    "import pylab\n",
    "import numpy as np\n",
    "from tensorflow.keras.layers import Dense\n",
    "from tensorflow.keras.models import Sequential\n",
    "from tensorflow.keras.optimizers import Adam\n",
    "\n",
    "EPISODES = 100\n",
    "\n",
    "\n",
    "# A2C(Advantage Actor-Critic) agent for the Cartpole\n",
    "class A2CAgent:\n",
    "    def __init__(self, state_size, action_size):\n",
    "        # if you want to see Cartpole learning, then change to True\n",
    "        self.render = False\n",
    "        self.load_model = False\n",
    "        # get size of state and action\n",
    "        self.state_size = state_size\n",
    "        self.action_size = action_size\n",
    "        self.value_size = 1\n",
    "\n",
    "        # These are hyper parameters for the Policy Gradient\n",
    "        self.discount_factor = 0.99\n",
    "        self.actor_lr = 0.001\n",
    "        self.critic_lr = 0.005\n",
    "\n",
    "        # create model for policy network\n",
    "        self.actor = self.build_actor()\n",
    "        self.critic = self.build_critic()\n",
    "\n",
    "        if self.load_model:\n",
    "            self.actor.load_weights(\"./save_model/cartpole_actor.h5\")\n",
    "            self.critic.load_weights(\"./save_model/cartpole_critic.h5\")\n",
    "\n",
    "    # approximate policy and value using Neural Network\n",
    "    # actor: state is input and probability of each action is output of model\n",
    "    def build_actor(self):\n",
    "        actor = Sequential()\n",
    "        actor.add(Dense(24, input_dim=self.state_size, activation='relu',\n",
    "                        kernel_initializer='he_uniform'))\n",
    "        actor.add(Dense(self.action_size, activation='softmax',\n",
    "                        kernel_initializer='he_uniform'))\n",
    "        actor.summary()\n",
    "        # See note regarding crossentropy in cartpole_reinforce.py\n",
    "        actor.compile(loss='categorical_crossentropy',\n",
    "                      optimizer=Adam(lr=self.actor_lr))\n",
    "        return actor\n",
    "\n",
    "    # critic: state is input and value of state is output of model\n",
    "    def build_critic(self):\n",
    "        critic = Sequential()\n",
    "        critic.add(Dense(24, input_dim=self.state_size, activation='relu',\n",
    "                         kernel_initializer='he_uniform'))\n",
    "        critic.add(Dense(self.value_size, activation='linear',\n",
    "                         kernel_initializer='he_uniform'))\n",
    "        critic.summary()\n",
    "        critic.compile(loss=\"mse\", optimizer=Adam(lr=self.critic_lr))\n",
    "        return critic\n",
    "\n",
    "    # using the output of policy network, pick action stochastically\n",
    "    def get_action(self, state):\n",
    "        policy = self.actor.predict(state, batch_size=1).flatten()\n",
    "        return np.random.choice(self.action_size, 1, p=policy)[0]\n",
    "\n",
    "    # update policy network every episode\n",
    "    def train_model(self, state, action, reward, next_state, done):\n",
    "        target = np.zeros((1, self.value_size))\n",
    "        advantages = np.zeros((1, self.action_size))\n",
    "\n",
    "        value = self.critic.predict(state)[0]\n",
    "        next_value = self.critic.predict(next_state)[0]\n",
    "\n",
    "        if done:\n",
    "            advantages[0][action] = reward - value\n",
    "            target[0][0] = reward\n",
    "        else:\n",
    "            advantages[0][action] = reward + self.discount_factor * (next_value) - value\n",
    "            target[0][0] = reward + self.discount_factor * next_value\n",
    "\n",
    "        self.actor.fit(state, advantages, epochs=1, verbose=0)\n",
    "        self.critic.fit(state, target, epochs=1, verbose=0)\n",
    "\n",
    "\n",
    "if __name__ == \"__main__\":\n",
    "    # In case of CartPole-v1, maximum length of episode is 500\n",
    "    env = gym.make('CartPole-v1')\n",
    "    # get size of state and action from environment\n",
    "    state_size = env.observation_space.shape[0]\n",
    "    action_size = env.action_space.n\n",
    "\n",
    "    # make A2C agent\n",
    "    agent = A2CAgent(state_size, action_size)\n",
    "\n",
    "    scores, episodes = [], []\n",
    "\n",
    "    for e in range(EPISODES):\n",
    "        done = False\n",
    "        score = 0\n",
    "        state = env.reset()\n",
    "        state = np.reshape(state, [1, state_size])\n",
    "        step = 0\n",
    "\n",
    "        while not done:\n",
    "            if agent.render:\n",
    "                env.render()\n",
    "\n",
    "            action = agent.get_action(state)\n",
    "            next_state, reward, done, info = env.step(action)\n",
    "            next_state = np.reshape(next_state, [1, state_size])\n",
    "            # if an action make the episode end, then gives penalty of -100\n",
    "            reward = reward if not done or score == 499 else -100\n",
    "            \n",
    "            agent.train_model(state, action, reward, next_state, done)\n",
    "\n",
    "            score += reward\n",
    "            state = next_state\n",
    "            step += 1\n",
    "\n",
    "            if done:\n",
    "                # every episode, plot the play time\n",
    "                score = score if score == 500.0 else score + 100\n",
    "                scores.append(score)\n",
    "                episodes.append(e)\n",
    "                pylab.plot(episodes, scores, 'b')\n",
    "                pylab.savefig(\"cartpole_a2c.png\")\n",
    "                print(\"episode:\", e, \"  score:\", score)\n",
    "\n",
    "                # if the mean of scores of last 10 episode is bigger than 490\n",
    "                # stop training\n",
    "                if np.mean(scores[-min(10, len(scores)):]) > 490:\n",
    "                    sys.exit()"
   ]
  },
  {
   "cell_type": "code",
   "execution_count": null,
   "id": "82f24256",
   "metadata": {},
   "outputs": [],
   "source": []
  }
 ],
 "metadata": {
  "kernelspec": {
   "display_name": "RL",
   "language": "python",
   "name": "rl"
  },
  "language_info": {
   "codemirror_mode": {
    "name": "ipython",
    "version": 3
   },
   "file_extension": ".py",
   "mimetype": "text/x-python",
   "name": "python",
   "nbconvert_exporter": "python",
   "pygments_lexer": "ipython3",
   "version": "3.7.10"
  }
 },
 "nbformat": 4,
 "nbformat_minor": 5
}
