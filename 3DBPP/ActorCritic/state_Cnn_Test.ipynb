{
 "cells": [
  {
   "cell_type": "code",
   "execution_count": 54,
   "id": "9f516369",
   "metadata": {
    "ExecuteTime": {
     "end_time": "2021-04-26T18:18:10.089345Z",
     "start_time": "2021-04-26T18:18:10.072422Z"
    }
   },
   "outputs": [],
   "source": [
    "import os\n",
    "import random\n",
    "import math\n",
    "import time\n",
    "import numpy as np\n",
    "import tensorflow as tf\n",
    "import matplotlib.pyplot as plt\n",
    "\n",
    "from tensorflow.keras.optimizers import Adam\n",
    "from tensorflow.keras import Sequential\n",
    "from tensorflow.keras.layers import Dense, Conv1D, MaxPooling1D, Flatten, concatenate, Conv2D, MaxPooling2D\n",
    "\n",
    "from libs.utils import *\n",
    "from libs.generate_boxes import  *"
   ]
  },
  {
   "cell_type": "code",
   "execution_count": 55,
   "id": "b2b4bf09",
   "metadata": {
    "ExecuteTime": {
     "end_time": "2021-04-26T18:18:10.272505Z",
     "start_time": "2021-04-26T18:18:10.264846Z"
    }
   },
   "outputs": [],
   "source": [
    "os.environ['TF_CPP_MIN_LOG_LEVEL'] = '0'\n",
    "tf.get_logger().setLevel('INFO')\n",
    "tf.keras.backend.floatx()\n",
    "\n",
    "plt.style.use('fivethirtyeight')\n",
    "plt.rcParams['figure.figsize'] = (20,10)"
   ]
  },
  {
   "cell_type": "code",
   "execution_count": 56,
   "id": "3b1b996a",
   "metadata": {
    "ExecuteTime": {
     "end_time": "2021-04-26T18:18:10.438435Z",
     "start_time": "2021-04-26T18:18:10.414361Z"
    }
   },
   "outputs": [],
   "source": [
    "class StateCNN(tf.keras.Model):\n",
    "    def __init__(self, state_size, selected_size, remain_size):\n",
    "        super(StateCNN, self).__init__()\n",
    "        \n",
    "        self.case_cnn1 = Conv2D(filters=16, kernel_size=3, activation='relu',\n",
    "                               padding='valid', input_shape = selected_size)\n",
    "        self.case_cnn2 = Conv2D(filters=16, kernel_size=3, activation='relu',\n",
    "                               padding='valid')\n",
    "        \n",
    "        self.select_cnn1 = Conv2D(filters=16, kernel_size=3, activation='relu',\n",
    "                                  padding='valid', input_shape=selected_size)\n",
    "        self.select_cnn2 = Conv2D(filters=16, kernel_size=3, activation='relu',\n",
    "                                 padding='valid')\n",
    "        \n",
    "        self.remain_cnn1 = Conv1D(filters=32, kernel_size=2, activation='relu',\n",
    "                                 padding='same', input_shape = remain_size)\n",
    "        self.remain_cnn2 = Conv1D(filters=32, kernel_size=2, activation='relu',\n",
    "                                 padding='same')\n",
    "    \n",
    "    def call(self, cb_list):\n",
    "        c,s,r = cb_list[0], cb_list[1], cb_list[2]\n",
    "        \n",
    "        c = self.case_cnn1(c)\n",
    "        c = MaxPooling2D(pool_size=(2,2))(c)\n",
    "        c = self.case_cnn2(c)\n",
    "        c = MaxPooling2D(pool_size=(2,2))(c)\n",
    "        c = Flatten()(c)\n",
    "        \n",
    "        s = self.select_cnn1(s)\n",
    "        s = MaxPooling2D(pool_size=(2,2))(s)\n",
    "        s = self.select_cnn2(s)\n",
    "        s = MaxPooling2D(pool_size=(2,2))(s)\n",
    "        s = Flatten()(s)\n",
    "        \n",
    "        r = self.remain_cnn1(r)\n",
    "        r = self.remain_cnn2(r)\n",
    "        r = MaxPooling1D(pool_size=1)(r)\n",
    "        r = Flatten()(r)\n",
    "        \n",
    "        x = concatenate([c,s,r])\n",
    "        return x"
   ]
  },
  {
   "cell_type": "code",
   "execution_count": 57,
   "id": "3a23a76e",
   "metadata": {
    "ExecuteTime": {
     "end_time": "2021-04-26T18:18:10.588541Z",
     "start_time": "2021-04-26T18:18:10.574470Z"
    }
   },
   "outputs": [],
   "source": [
    "class Actor(tf.keras.Model):\n",
    "    def __init__(self, output_size):\n",
    "        super(Actor, self).__init__()\n",
    "        self.d1 = Dense(2048, activation='relu')\n",
    "        self.d2 = Dense(1024, activation='relu')\n",
    "        self.actor = Dense(output_size)\n",
    "        \n",
    "    def call(self, inputs):\n",
    "        x = self.d1(inputs)\n",
    "        x = self.d2(x)\n",
    "        actor = self.actor(x)\n",
    "        return actor"
   ]
  },
  {
   "cell_type": "code",
   "execution_count": 58,
   "id": "7d047630",
   "metadata": {
    "ExecuteTime": {
     "end_time": "2021-04-26T18:18:10.756834Z",
     "start_time": "2021-04-26T18:18:10.743882Z"
    }
   },
   "outputs": [],
   "source": [
    "class Critic(tf.keras.Model):\n",
    "    def __init__(self, output_size):\n",
    "        super(Critic, self).__init__()\n",
    "        self.d1 = Dense(2048, activation='relu')\n",
    "        self.d2 = Dense(1024, activation='relu')\n",
    "        self.critic = Dense(output_size)\n",
    "        \n",
    "    def call(self, inputs):\n",
    "        x = self.d1(inputs)\n",
    "        x = self.d2(x)\n",
    "        critic = self.critic(x)\n",
    "        return critic"
   ]
  },
  {
   "cell_type": "code",
   "execution_count": 59,
   "id": "d43a73f5",
   "metadata": {
    "ExecuteTime": {
     "end_time": "2021-04-26T18:18:10.923489Z",
     "start_time": "2021-04-26T18:18:10.915870Z"
    }
   },
   "outputs": [],
   "source": [
    "class ActorCriticAgent:\n",
    "    def __init__(self, L=20, B=20, H=20, n_remains=5, lr=1e-8, gamma=0.99):\n",
    "        \n",
    "        self.state_size = (L,B,1)\n",
    "        self.selected_size = (L,B,H)\n",
    "        self.remain_size = (n_remains, 3)\n",
    "        self.output_size = 1\n",
    "        \n",
    "        self.lr = lr\n",
    "        self.gamma = gamma\n",
    "        \n",
    "        self.state_cnn = StateCNN(self.state_size, self.selected_size, self.remain_size)\n",
    "        self.actor = Actor(self.output_size)\n",
    "        self.critic = Critic(self.output_size)\n",
    "        \n",
    "        self.actor_optimizer = Adam(learning_rate=self.lr)\n",
    "        self.critic_optimizer = Adam(learning_rate=self.lr)\n",
    "        \n",
    "        self.avg_actor_loss = 0\n",
    "        self.avg_critic_loss = 0\n",
    "        \n",
    "    def get_action(self, state, s_locs, r_boxes):\n",
    "        sc = self.state_cnn([state, s_locs, r_boxes])\n",
    "        actor = self.actor(sc)\n",
    "        argmax_idx = np.where(actor == tf.math.reduce_max(actor))\n",
    "        action_idx = argmax_idx[0][0]\n",
    "        return action_idx\n",
    "    \n",
    "    def actor_loss():\n",
    "        pass\n",
    "        \n",
    "    def critic_loss():\n",
    "        pass\n",
    "        \n",
    "    def train():\n",
    "        state_params = self.\n",
    "        actor_params = self.\n",
    "        critic_params = self.\n",
    "        \n",
    "        for \n",
    "            with tf.GradientTape() as tape:\n",
    "                state_cnn = self.state_cnn([state, s_boxes, remains])\n",
    "                actor = self.actor()\n",
    "                values = self.critic()\n",
    "                next_values = self.critic()\n",
    "                \n",
    "                expect_reward = \n",
    "                \n",
    "                actor_loss = \n",
    "                critic_loss = \n",
    "                \n",
    "                self.avg_actor_loss += \n",
    "                self.avg_critic_loss += \n",
    "            \n",
    "            actor_grads = actor_tape.gradient(actor_loss, actor_params)\n",
    "            critic_grads = critic_tape.gradient(critic_loss, critic_params)"
   ]
  },
  {
   "cell_type": "code",
   "execution_count": 60,
   "id": "00c8af8f",
   "metadata": {
    "ExecuteTime": {
     "end_time": "2021-04-26T18:18:12.011653Z",
     "start_time": "2021-04-26T18:18:12.007569Z"
    }
   },
   "outputs": [],
   "source": [
    "max_episode = 2000\n",
    "N_MDD = 5\n",
    "K = 3\n",
    "N_Candidates = 4"
   ]
  },
  {
   "cell_type": "code",
   "execution_count": 61,
   "id": "f64618bf",
   "metadata": {
    "ExecuteTime": {
     "end_time": "2021-04-26T18:18:12.405152Z",
     "start_time": "2021-04-26T18:18:12.387862Z"
    }
   },
   "outputs": [
    {
     "data": {
      "text/plain": [
       "(5, 2)"
      ]
     },
     "execution_count": 61,
     "metadata": {},
     "output_type": "execute_result"
    }
   ],
   "source": [
    "boxes, gt_pos = generation_3dbox_random(case_size=[[20,20,20,]],min_s = 1,\n",
    "                                       N_mdd = N_MDD)\n",
    "boxes = boxes[0]\n",
    "gt_pos = gt_pos[0]\n",
    "\n",
    "num_max_boxes = len(boxes)\n",
    "num_max_remain = num_max_boxes - K\n",
    "\n",
    "num_max_boxes, num_max_remain"
   ]
  },
  {
   "cell_type": "code",
   "execution_count": 62,
   "id": "6380eb5d",
   "metadata": {
    "ExecuteTime": {
     "end_time": "2021-04-26T18:18:13.191416Z",
     "start_time": "2021-04-26T18:18:13.163672Z"
    }
   },
   "outputs": [],
   "source": [
    "env = Bpp3DEnv()\n",
    "agent = ActorCriticAgent(L=20, B=20, H=20, n_remains=num_max_remain, \n",
    "                         lr=1e-6, gamma=0.99)"
   ]
  },
  {
   "cell_type": "code",
   "execution_count": 79,
   "id": "4365a8ec",
   "metadata": {
    "ExecuteTime": {
     "end_time": "2021-04-26T18:23:50.091415Z",
     "start_time": "2021-04-26T18:23:41.579973Z"
    }
   },
   "outputs": [
    {
     "ename": "KeyboardInterrupt",
     "evalue": "",
     "output_type": "error",
     "traceback": [
      "\u001b[1;31m---------------------------------------------------------------------------\u001b[0m",
      "\u001b[1;31mKeyboardInterrupt\u001b[0m                         Traceback (most recent call last)",
      "\u001b[1;32m<ipython-input-79-78cd299796c6>\u001b[0m in \u001b[0;36m<module>\u001b[1;34m\u001b[0m\n\u001b[0;32m     18\u001b[0m         \u001b[0mstate_h\u001b[0m \u001b[1;33m=\u001b[0m \u001b[0menv\u001b[0m\u001b[1;33m.\u001b[0m\u001b[0mupdate_h\u001b[0m\u001b[1;33m(\u001b[0m\u001b[1;33m)\u001b[0m\u001b[1;33m.\u001b[0m\u001b[0mcopy\u001b[0m\u001b[1;33m(\u001b[0m\u001b[1;33m)\u001b[0m\u001b[1;33m\u001b[0m\u001b[1;33m\u001b[0m\u001b[0m\n\u001b[0;32m     19\u001b[0m         \u001b[0min_state\u001b[0m\u001b[1;33m,\u001b[0m \u001b[0min_r_boxes\u001b[0m \u001b[1;33m=\u001b[0m \u001b[0mraw_to_input\u001b[0m\u001b[1;33m(\u001b[0m\u001b[0mstate_h\u001b[0m\u001b[1;33m,\u001b[0m \u001b[0ms_order\u001b[0m\u001b[1;33m,\u001b[0m \u001b[0mr_boxes\u001b[0m\u001b[1;33m,\u001b[0m \u001b[0mnum_max_remain\u001b[0m\u001b[1;33m)\u001b[0m\u001b[1;33m\u001b[0m\u001b[1;33m\u001b[0m\u001b[0m\n\u001b[1;32m---> 20\u001b[1;33m         \u001b[0ms_loc_c\u001b[0m\u001b[1;33m,\u001b[0m \u001b[0mpred_pos_c\u001b[0m\u001b[1;33m,\u001b[0m \u001b[0mused_boxes_c\u001b[0m\u001b[1;33m,\u001b[0m \u001b[0mnext_state_c\u001b[0m \u001b[1;33m,\u001b[0m \u001b[0mnum_loaded_box_c\u001b[0m\u001b[1;33m,\u001b[0m \u001b[0mnext_cube_c\u001b[0m \u001b[1;33m=\u001b[0m \u001b[0mget_selected_location\u001b[0m\u001b[1;33m(\u001b[0m\u001b[0ms_order\u001b[0m\u001b[1;33m,\u001b[0m \u001b[0mpred_pos\u001b[0m\u001b[1;33m,\u001b[0m \u001b[0mused_boxes\u001b[0m\u001b[1;33m,\u001b[0m \u001b[0mstate\u001b[0m\u001b[1;33m)\u001b[0m\u001b[1;33m\u001b[0m\u001b[1;33m\u001b[0m\u001b[0m\n\u001b[0m",
      "\u001b[1;32m~\\Jupyter Notebook Workspace\\Glovis Workspace\\libs\\utils.py\u001b[0m in \u001b[0;36mget_selected_location\u001b[1;34m(s_order, pred_pos_org, used_boxes_org, state_org)\u001b[0m\n\u001b[0;32m    121\u001b[0m             \u001b[0mfixted_xyz\u001b[0m \u001b[1;33m=\u001b[0m \u001b[0mfixed_pos\u001b[0m\u001b[1;33m(\u001b[0m\u001b[0mxyz\u001b[0m\u001b[1;33m)\u001b[0m \u001b[1;31m# 가능한 적재 위치 중 하나 선택\u001b[0m\u001b[1;33m\u001b[0m\u001b[1;33m\u001b[0m\u001b[0m\n\u001b[0;32m    122\u001b[0m             \u001b[0mxy\u001b[0m \u001b[1;33m=\u001b[0m \u001b[0mfixted_xyz\u001b[0m\u001b[1;33m[\u001b[0m\u001b[1;33m:\u001b[0m\u001b[1;36m2\u001b[0m\u001b[1;33m]\u001b[0m\u001b[1;33m.\u001b[0m\u001b[0mastype\u001b[0m\u001b[1;33m(\u001b[0m\u001b[1;34m'int'\u001b[0m\u001b[1;33m)\u001b[0m\u001b[1;33m\u001b[0m\u001b[1;33m\u001b[0m\u001b[0m\n\u001b[1;32m--> 123\u001b[1;33m             \u001b[0mnext_state\u001b[0m \u001b[1;33m=\u001b[0m \u001b[0menv\u001b[0m\u001b[1;33m.\u001b[0m\u001b[0mstep\u001b[0m\u001b[1;33m(\u001b[0m\u001b[0mxy\u001b[0m\u001b[1;33m,\u001b[0m\u001b[0mbox\u001b[0m\u001b[1;33m[\u001b[0m\u001b[1;36m0\u001b[0m\u001b[1;33m]\u001b[0m\u001b[1;33m,\u001b[0m\u001b[0mbox\u001b[0m\u001b[1;33m[\u001b[0m\u001b[1;36m1\u001b[0m\u001b[1;33m]\u001b[0m\u001b[1;33m,\u001b[0m\u001b[0mbox\u001b[0m\u001b[1;33m[\u001b[0m\u001b[1;36m2\u001b[0m\u001b[1;33m]\u001b[0m\u001b[1;33m)\u001b[0m\u001b[1;33m.\u001b[0m\u001b[0mcopy\u001b[0m\u001b[1;33m(\u001b[0m\u001b[1;33m)\u001b[0m\u001b[1;31m########################\u001b[0m\u001b[1;33m\u001b[0m\u001b[1;33m\u001b[0m\u001b[0m\n\u001b[0m\u001b[0;32m    124\u001b[0m             \u001b[0mnum_loaded_box\u001b[0m \u001b[1;33m+=\u001b[0m \u001b[1;36m1\u001b[0m\u001b[1;33m\u001b[0m\u001b[1;33m\u001b[0m\u001b[0m\n\u001b[0;32m    125\u001b[0m             \u001b[0mpred_pos\u001b[0m\u001b[1;33m.\u001b[0m\u001b[0mappend\u001b[0m\u001b[1;33m(\u001b[0m\u001b[0mfixted_xyz\u001b[0m\u001b[1;33m)\u001b[0m\u001b[1;33m\u001b[0m\u001b[1;33m\u001b[0m\u001b[0m\n",
      "\u001b[1;32m~\\Jupyter Notebook Workspace\\Glovis Workspace\\libs\\utils.py\u001b[0m in \u001b[0;36mstep\u001b[1;34m(self, upleft, bxl, bxb, bxh)\u001b[0m\n\u001b[0;32m    230\u001b[0m     \u001b[1;32mdef\u001b[0m \u001b[0mstep\u001b[0m\u001b[1;33m(\u001b[0m\u001b[0mself\u001b[0m\u001b[1;33m,\u001b[0m \u001b[0mupleft\u001b[0m\u001b[1;33m,\u001b[0m\u001b[0mbxl\u001b[0m\u001b[1;33m,\u001b[0m\u001b[0mbxb\u001b[0m\u001b[1;33m,\u001b[0m\u001b[0mbxh\u001b[0m\u001b[1;33m)\u001b[0m\u001b[1;33m:\u001b[0m\u001b[1;33m\u001b[0m\u001b[1;33m\u001b[0m\u001b[0m\n\u001b[0;32m    231\u001b[0m         \u001b[0mn_s\u001b[0m\u001b[1;33m,\u001b[0m \u001b[0mn_h\u001b[0m \u001b[1;33m=\u001b[0m \u001b[0mself\u001b[0m\u001b[1;33m.\u001b[0m\u001b[0mnext_state\u001b[0m\u001b[1;33m(\u001b[0m\u001b[0mupleft\u001b[0m\u001b[1;33m,\u001b[0m\u001b[0mbxl\u001b[0m\u001b[1;33m,\u001b[0m\u001b[0mbxb\u001b[0m\u001b[1;33m,\u001b[0m\u001b[0mbxh\u001b[0m\u001b[1;33m)\u001b[0m\u001b[1;33m\u001b[0m\u001b[1;33m\u001b[0m\u001b[0m\n\u001b[1;32m--> 232\u001b[1;33m         \u001b[0mself\u001b[0m\u001b[1;33m.\u001b[0m\u001b[0mconvert_state\u001b[0m\u001b[1;33m(\u001b[0m\u001b[0mn_s\u001b[0m\u001b[1;33m)\u001b[0m\u001b[1;33m\u001b[0m\u001b[1;33m\u001b[0m\u001b[0m\n\u001b[0m\u001b[0;32m    233\u001b[0m         \u001b[1;32mreturn\u001b[0m \u001b[0mn_s\u001b[0m\u001b[1;33m\u001b[0m\u001b[1;33m\u001b[0m\u001b[0m\n\u001b[0;32m    234\u001b[0m \u001b[1;33m\u001b[0m\u001b[0m\n",
      "\u001b[1;32m~\\Jupyter Notebook Workspace\\Glovis Workspace\\libs\\utils.py\u001b[0m in \u001b[0;36mconvert_state\u001b[1;34m(self, new_container)\u001b[0m\n\u001b[0;32m    215\u001b[0m     \u001b[1;32mdef\u001b[0m \u001b[0mconvert_state\u001b[0m\u001b[1;33m(\u001b[0m\u001b[0mself\u001b[0m\u001b[1;33m,\u001b[0m \u001b[0mnew_container\u001b[0m\u001b[1;33m)\u001b[0m\u001b[1;33m:\u001b[0m\u001b[1;33m\u001b[0m\u001b[1;33m\u001b[0m\u001b[0m\n\u001b[0;32m    216\u001b[0m         \u001b[0mself\u001b[0m\u001b[1;33m.\u001b[0m\u001b[0mcontainer\u001b[0m \u001b[1;33m=\u001b[0m \u001b[0mnew_container\u001b[0m\u001b[1;33m\u001b[0m\u001b[1;33m\u001b[0m\u001b[0m\n\u001b[1;32m--> 217\u001b[1;33m         \u001b[0mself\u001b[0m\u001b[1;33m.\u001b[0m\u001b[0mupdate_h\u001b[0m\u001b[1;33m(\u001b[0m\u001b[1;33m)\u001b[0m\u001b[1;33m\u001b[0m\u001b[1;33m\u001b[0m\u001b[0m\n\u001b[0m\u001b[0;32m    218\u001b[0m \u001b[1;33m\u001b[0m\u001b[0m\n\u001b[0;32m    219\u001b[0m     \u001b[1;32mdef\u001b[0m \u001b[0mnext_state\u001b[0m\u001b[1;33m(\u001b[0m\u001b[0mself\u001b[0m\u001b[1;33m,\u001b[0m \u001b[0mupleft\u001b[0m\u001b[1;33m,\u001b[0m\u001b[0mbxl\u001b[0m\u001b[1;33m,\u001b[0m\u001b[0mbxb\u001b[0m\u001b[1;33m,\u001b[0m\u001b[0mbxh\u001b[0m\u001b[1;33m)\u001b[0m\u001b[1;33m:\u001b[0m\u001b[1;33m\u001b[0m\u001b[1;33m\u001b[0m\u001b[0m\n",
      "\u001b[1;32m~\\Jupyter Notebook Workspace\\Glovis Workspace\\libs\\utils.py\u001b[0m in \u001b[0;36mupdate_h\u001b[1;34m(self)\u001b[0m\n\u001b[0;32m    205\u001b[0m \u001b[1;33m\u001b[0m\u001b[0m\n\u001b[0;32m    206\u001b[0m     \u001b[1;32mdef\u001b[0m \u001b[0mupdate_h\u001b[0m\u001b[1;33m(\u001b[0m\u001b[0mself\u001b[0m\u001b[1;33m)\u001b[0m\u001b[1;33m:\u001b[0m\u001b[1;33m\u001b[0m\u001b[1;33m\u001b[0m\u001b[0m\n\u001b[1;32m--> 207\u001b[1;33m         \u001b[0midx\u001b[0m \u001b[1;33m=\u001b[0m \u001b[0mnp\u001b[0m\u001b[1;33m.\u001b[0m\u001b[0mwhere\u001b[0m\u001b[1;33m(\u001b[0m\u001b[0mself\u001b[0m\u001b[1;33m.\u001b[0m\u001b[0mcontainer\u001b[0m \u001b[1;33m==\u001b[0m \u001b[1;36m1\u001b[0m\u001b[1;33m)\u001b[0m\u001b[1;33m\u001b[0m\u001b[1;33m\u001b[0m\u001b[0m\n\u001b[0m\u001b[0;32m    208\u001b[0m         \u001b[0mh\u001b[0m \u001b[1;33m=\u001b[0m \u001b[0mpd\u001b[0m\u001b[1;33m.\u001b[0m\u001b[0mDataFrame\u001b[0m\u001b[1;33m(\u001b[0m\u001b[0mnp\u001b[0m\u001b[1;33m.\u001b[0m\u001b[0mtranspose\u001b[0m\u001b[1;33m(\u001b[0m\u001b[0midx\u001b[0m\u001b[1;33m,\u001b[0m \u001b[1;33m(\u001b[0m\u001b[1;36m1\u001b[0m\u001b[1;33m,\u001b[0m\u001b[1;36m0\u001b[0m\u001b[1;33m)\u001b[0m\u001b[1;33m)\u001b[0m\u001b[1;33m)\u001b[0m\u001b[1;33m\u001b[0m\u001b[1;33m\u001b[0m\u001b[0m\n\u001b[0;32m    209\u001b[0m         \u001b[0mh\u001b[0m\u001b[1;33m.\u001b[0m\u001b[0mcolumns\u001b[0m \u001b[1;33m=\u001b[0m \u001b[1;33m[\u001b[0m\u001b[1;34m'0'\u001b[0m\u001b[1;33m,\u001b[0m\u001b[1;34m'1'\u001b[0m\u001b[1;33m,\u001b[0m\u001b[1;34m'2'\u001b[0m\u001b[1;33m]\u001b[0m\u001b[1;33m\u001b[0m\u001b[1;33m\u001b[0m\u001b[0m\n",
      "\u001b[1;32m<__array_function__ internals>\u001b[0m in \u001b[0;36mwhere\u001b[1;34m(*args, **kwargs)\u001b[0m\n",
      "\u001b[1;31mKeyboardInterrupt\u001b[0m: "
     ]
    }
   ],
   "source": [
    "frac_l, avg_actor_loss, avg_critic_loss = [],[],[]\n",
    "for episode in range(max_episode):\n",
    "    st = time.time()\n",
    "    env.reset()\n",
    "    done = False\n",
    "    step = 0\n",
    "    \n",
    "    used_boxes, pred_pos = [], []\n",
    "    r_boxes = np.array(np.array(boxes).copy())\n",
    "    \n",
    "    while not done:\n",
    "        state = env.container.copy()\n",
    "        k = min(K, len(r_boxes))\n",
    "        step += 1\n",
    "        \n",
    "        selected = cbn_select_boxes(r_boxes[:N_Candidates], k)\n",
    "        s_order = get_selected_order(selected, k)\n",
    "        \n",
    "        state_h = env.update_h().copy()\n",
    "        in_state, in_r_boxes = raw_to_input(state_h, s_order, r_boxes, num_max_remain)\n",
    "        s_loc_c, pred_pos_c, used_boxes_c, next_state_c , num_loaded_box_c, next_cube_c = get_selected_location(s_order, pred_pos, used_boxes, state)\n",
    "        \n",
    "        action_idx = agent.get_action(in_state, s_loc_c, in_r_boxes)\n",
    "        num_loaded_box = num_loaded_box_c[action_idx]\n",
    "        if num_loaded_box != 0:\n",
    "            new_used_boxes = get_remain(used_boxes, used_boxes_c[action_idx])\n",
    "            r_boxes = get_remain(new_used_boxes, r_boxes)\n",
    "            \n",
    "            used_boxes = used_boxes_c[action_idx]\n",
    "            pred_pos = pred_pos_c[action_idx]\n",
    "            \n",
    "            env.convert_state(next_cube_c[action_idx])\n",
    "            \n",
    "            if len(r_boxes) == 0:\n",
    "                done = True\n",
    "        else:\n",
    "            r_boxes = get_remain(s_order[action_idx], r_boxes)\n",
    "            if len(r_boxes) == 0:\n",
    "                done = True\n",
    "        \n",
    "        if done:\n",
    "            avg_frac = 0 if len(frac_l) == 0 else np.mean(frac_l)\n",
    "            frac_l.append(env.terminal_reward())\n",
    "            \n",
    "            agent.train_model()\n",
    "            \n",
    "            avg_actor_loss.append(agent.avg_actor_loss / float(step))\n",
    "            avg_critic_loss.append(agent.avg_critic_loss / float(step))\n",
    "            \n",
    "    log = \"=====episode: {:5d} | \".format(e)\n",
    "    log += \"env.terminal_reward(): {:.3f} | \".format(env.terminal_reward())\n",
    "    log += \"actor avg loss : {:6f} \".format(agent.avg_actor_loss / float(step))\n",
    "    log += \"critic avg loss : {:6f} \".format(agent.avg_critic_loss / float(step))\n",
    "    log += \"time: {:.3f}\".format(time.time()-st)\n",
    "    print(log)\n",
    "    \n",
    "    agent.avg_actor_loss, agent.avg_critic_loss = 0, 0"
   ]
  },
  {
   "cell_type": "code",
   "execution_count": null,
   "id": "3d9ad4d3",
   "metadata": {},
   "outputs": [],
   "source": []
  },
  {
   "cell_type": "code",
   "execution_count": null,
   "id": "08a3d02e",
   "metadata": {},
   "outputs": [],
   "source": []
  },
  {
   "cell_type": "code",
   "execution_count": 63,
   "id": "9e29200d",
   "metadata": {
    "ExecuteTime": {
     "end_time": "2021-04-26T18:18:13.386911Z",
     "start_time": "2021-04-26T18:18:13.372827Z"
    }
   },
   "outputs": [],
   "source": [
    "env.reset()\n",
    "done = False\n",
    "step = 0\n",
    "\n",
    "r_boxes = np.array(np.array(boxes).copy())\n",
    "state = env.container.copy()\n",
    "k = min(K, len(r_boxes))\n",
    "step += 1"
   ]
  },
  {
   "cell_type": "code",
   "execution_count": 64,
   "id": "9fe1952a",
   "metadata": {
    "ExecuteTime": {
     "end_time": "2021-04-26T18:18:13.642962Z",
     "start_time": "2021-04-26T18:18:13.557995Z"
    }
   },
   "outputs": [
    {
     "data": {
      "image/png": "[encoded data removed]",
      "text/plain": [
       "<Figure size 216x216 with 1 Axes>"
      ]
     },
     "metadata": {},
     "output_type": "display_data"
    }
   ],
   "source": [
    "vis_box(boxes, gt_pos)"
   ]
  },
  {
   "cell_type": "code",
   "execution_count": 65,
   "id": "b2329920",
   "metadata": {
    "ExecuteTime": {
     "end_time": "2021-04-26T18:18:14.216598Z",
     "start_time": "2021-04-26T18:18:14.201566Z"
    }
   },
   "outputs": [
    {
     "data": {
      "text/plain": [
       "array([[[20,  7, 18],\n",
       "        [20, 13,  8],\n",
       "        [ 7,  7,  2]],\n",
       "\n",
       "       [[20,  7, 18],\n",
       "        [20, 13,  8],\n",
       "        [20, 13, 12]],\n",
       "\n",
       "       [[20,  7, 18],\n",
       "        [20, 13, 12],\n",
       "        [ 7,  7,  2]],\n",
       "\n",
       "       [[20, 13,  8],\n",
       "        [20, 13, 12],\n",
       "        [ 7,  7,  2]]])"
      ]
     },
     "execution_count": 65,
     "metadata": {},
     "output_type": "execute_result"
    }
   ],
   "source": [
    "selected = cbn_select_boxes(r_boxes[:N_Candidates], k)\n",
    "selected"
   ]
  },
  {
   "cell_type": "code",
   "execution_count": 66,
   "id": "ddfb09a4",
   "metadata": {
    "ExecuteTime": {
     "end_time": "2021-04-26T18:18:15.306546Z",
     "start_time": "2021-04-26T18:18:15.293972Z"
    }
   },
   "outputs": [
    {
     "data": {
      "text/plain": [
       "array([[[ 7,  7,  2],\n",
       "        [20,  7, 18],\n",
       "        [20, 13,  8]],\n",
       "\n",
       "       [[ 7,  7,  2],\n",
       "        [20,  7, 18],\n",
       "        [20, 13, 12]],\n",
       "\n",
       "       [[ 7,  7,  2],\n",
       "        [20, 13,  8],\n",
       "        [20,  7, 18]],\n",
       "\n",
       "       [[ 7,  7,  2],\n",
       "        [20, 13,  8],\n",
       "        [20, 13, 12]],\n",
       "\n",
       "       [[ 7,  7,  2],\n",
       "        [20, 13, 12],\n",
       "        [20,  7, 18]],\n",
       "\n",
       "       [[ 7,  7,  2],\n",
       "        [20, 13, 12],\n",
       "        [20, 13,  8]],\n",
       "\n",
       "       [[20,  7, 18],\n",
       "        [ 7,  7,  2],\n",
       "        [20, 13,  8]],\n",
       "\n",
       "       [[20,  7, 18],\n",
       "        [ 7,  7,  2],\n",
       "        [20, 13, 12]],\n",
       "\n",
       "       [[20,  7, 18],\n",
       "        [20, 13,  8],\n",
       "        [ 7,  7,  2]],\n",
       "\n",
       "       [[20,  7, 18],\n",
       "        [20, 13,  8],\n",
       "        [20, 13, 12]],\n",
       "\n",
       "       [[20,  7, 18],\n",
       "        [20, 13, 12],\n",
       "        [ 7,  7,  2]],\n",
       "\n",
       "       [[20,  7, 18],\n",
       "        [20, 13, 12],\n",
       "        [20, 13,  8]],\n",
       "\n",
       "       [[20, 13,  8],\n",
       "        [ 7,  7,  2],\n",
       "        [20,  7, 18]],\n",
       "\n",
       "       [[20, 13,  8],\n",
       "        [ 7,  7,  2],\n",
       "        [20, 13, 12]],\n",
       "\n",
       "       [[20, 13,  8],\n",
       "        [20,  7, 18],\n",
       "        [ 7,  7,  2]],\n",
       "\n",
       "       [[20, 13,  8],\n",
       "        [20,  7, 18],\n",
       "        [20, 13, 12]],\n",
       "\n",
       "       [[20, 13,  8],\n",
       "        [20, 13, 12],\n",
       "        [ 7,  7,  2]],\n",
       "\n",
       "       [[20, 13,  8],\n",
       "        [20, 13, 12],\n",
       "        [20,  7, 18]],\n",
       "\n",
       "       [[20, 13, 12],\n",
       "        [ 7,  7,  2],\n",
       "        [20,  7, 18]],\n",
       "\n",
       "       [[20, 13, 12],\n",
       "        [ 7,  7,  2],\n",
       "        [20, 13,  8]],\n",
       "\n",
       "       [[20, 13, 12],\n",
       "        [20,  7, 18],\n",
       "        [ 7,  7,  2]],\n",
       "\n",
       "       [[20, 13, 12],\n",
       "        [20,  7, 18],\n",
       "        [20, 13,  8]],\n",
       "\n",
       "       [[20, 13, 12],\n",
       "        [20, 13,  8],\n",
       "        [ 7,  7,  2]],\n",
       "\n",
       "       [[20, 13, 12],\n",
       "        [20, 13,  8],\n",
       "        [20,  7, 18]]])"
      ]
     },
     "execution_count": 66,
     "metadata": {},
     "output_type": "execute_result"
    }
   ],
   "source": [
    "s_order = get_selected_order(selected, k)\n",
    "s_order"
   ]
  },
  {
   "cell_type": "code",
   "execution_count": 67,
   "id": "20dfe377",
   "metadata": {
    "ExecuteTime": {
     "end_time": "2021-04-26T18:18:16.835609Z",
     "start_time": "2021-04-26T18:18:16.825315Z"
    }
   },
   "outputs": [],
   "source": [
    "state_h = env.update_h().copy()\n",
    "in_state, in_r_boxes = raw_to_input(state_h, s_order, r_boxes, num_max_remain)"
   ]
  },
  {
   "cell_type": "code",
   "execution_count": 68,
   "id": "b9c60eb9",
   "metadata": {
    "ExecuteTime": {
     "end_time": "2021-04-26T18:18:17.972277Z",
     "start_time": "2021-04-26T18:18:17.957958Z"
    }
   },
   "outputs": [],
   "source": [
    "pred_pos, used_boxes = [], []"
   ]
  },
  {
   "cell_type": "code",
   "execution_count": 69,
   "id": "a556350b",
   "metadata": {
    "ExecuteTime": {
     "end_time": "2021-04-26T18:18:18.732079Z",
     "start_time": "2021-04-26T18:18:18.165491Z"
    }
   },
   "outputs": [],
   "source": [
    "s_loc_c, pred_pos_c, used_boxes_c, next_state_c, num_loaded_box_c, next_cube_c = get_selected_location(s_order, pred_pos, used_boxes, state)"
   ]
  },
  {
   "cell_type": "code",
   "execution_count": 70,
   "id": "87625102",
   "metadata": {
    "ExecuteTime": {
     "end_time": "2021-04-26T18:18:20.970571Z",
     "start_time": "2021-04-26T18:18:18.732985Z"
    }
   },
   "outputs": [
    {
     "data": {
      "text/plain": [
       "20"
      ]
     },
     "execution_count": 70,
     "metadata": {},
     "output_type": "execute_result"
    }
   ],
   "source": [
    "action_idx = agent.get_action(in_state, s_loc_c, in_r_boxes)\n",
    "action_idx"
   ]
  },
  {
   "cell_type": "code",
   "execution_count": 71,
   "id": "a60c1def",
   "metadata": {
    "ExecuteTime": {
     "end_time": "2021-04-26T18:18:23.846632Z",
     "start_time": "2021-04-26T18:18:23.838541Z"
    }
   },
   "outputs": [
    {
     "data": {
      "text/plain": [
       "[2, 2, 3, 3, 3, 3, 3, 3, 3, 3, 3, 3, 3, 3, 3, 3, 3, 3, 3, 3, 3, 3, 3, 3]"
      ]
     },
     "execution_count": 71,
     "metadata": {},
     "output_type": "execute_result"
    }
   ],
   "source": [
    "num_loaded_box_c"
   ]
  },
  {
   "cell_type": "code",
   "execution_count": 72,
   "id": "882a027b",
   "metadata": {
    "ExecuteTime": {
     "end_time": "2021-04-26T18:18:27.818186Z",
     "start_time": "2021-04-26T18:18:27.810157Z"
    }
   },
   "outputs": [
    {
     "data": {
      "text/plain": [
       "3"
      ]
     },
     "execution_count": 72,
     "metadata": {},
     "output_type": "execute_result"
    }
   ],
   "source": [
    "num_loaded_box = num_loaded_box_c[action_idx]\n",
    "num_loaded_box"
   ]
  },
  {
   "cell_type": "code",
   "execution_count": 73,
   "id": "38f3e167",
   "metadata": {
    "ExecuteTime": {
     "end_time": "2021-04-26T18:18:28.319480Z",
     "start_time": "2021-04-26T18:18:28.302335Z"
    }
   },
   "outputs": [
    {
     "data": {
      "text/plain": [
       "[array([20, 13, 12]), array([20,  7, 18]), array([7, 7, 2])]"
      ]
     },
     "execution_count": 73,
     "metadata": {},
     "output_type": "execute_result"
    }
   ],
   "source": [
    "new_used_boxes = get_remain(used_boxes, used_boxes_c[action_idx])\n",
    "new_used_boxes"
   ]
  },
  {
   "cell_type": "code",
   "execution_count": 74,
   "id": "6e621f5f",
   "metadata": {
    "ExecuteTime": {
     "end_time": "2021-04-26T18:18:28.937722Z",
     "start_time": "2021-04-26T18:18:28.926706Z"
    }
   },
   "outputs": [
    {
     "data": {
      "text/plain": [
       "array([[20,  7, 18],\n",
       "       [20, 13,  8],\n",
       "       [20, 13, 12],\n",
       "       [ 7,  7,  2],\n",
       "       [13,  7,  2]])"
      ]
     },
     "execution_count": 74,
     "metadata": {},
     "output_type": "execute_result"
    }
   ],
   "source": [
    "r_boxes"
   ]
  },
  {
   "cell_type": "code",
   "execution_count": 75,
   "id": "49c8bad4",
   "metadata": {
    "ExecuteTime": {
     "end_time": "2021-04-26T18:18:30.069410Z",
     "start_time": "2021-04-26T18:18:30.056408Z"
    }
   },
   "outputs": [
    {
     "data": {
      "text/plain": [
       "array([[20, 13,  8],\n",
       "       [13,  7,  2]])"
      ]
     },
     "execution_count": 75,
     "metadata": {},
     "output_type": "execute_result"
    }
   ],
   "source": [
    "r_boxes = get_remain(new_used_boxes, r_boxes)\n",
    "r_boxes"
   ]
  },
  {
   "cell_type": "code",
   "execution_count": 76,
   "id": "65d25774",
   "metadata": {
    "ExecuteTime": {
     "end_time": "2021-04-26T18:18:56.445827Z",
     "start_time": "2021-04-26T18:18:56.441763Z"
    }
   },
   "outputs": [],
   "source": [
    "used_boxes = used_boxes_c[action_idx]\n",
    "pred_pos = pred_pos_c[action_idx]"
   ]
  },
  {
   "cell_type": "code",
   "execution_count": 77,
   "id": "5743834f",
   "metadata": {
    "ExecuteTime": {
     "end_time": "2021-04-26T18:19:25.262694Z",
     "start_time": "2021-04-26T18:19:25.252902Z"
    }
   },
   "outputs": [],
   "source": [
    "env.convert_state(next_cube_c[action_idx])\n",
    "t_state = env.container.copy()\n",
    "t_state_h = env.container_h.copy()"
   ]
  },
  {
   "cell_type": "code",
   "execution_count": null,
   "id": "123f8f6e",
   "metadata": {},
   "outputs": [],
   "source": [
    "k = min"
   ]
  }
 ],
 "metadata": {
  "kernelspec": {
   "display_name": "RL",
   "language": "python",
   "name": "rl"
  },
  "language_info": {
   "codemirror_mode": {
    "name": "ipython",
    "version": 3
   },
   "file_extension": ".py",
   "mimetype": "text/x-python",
   "name": "python",
   "nbconvert_exporter": "python",
   "pygments_lexer": "ipython3",
   "version": "3.7.10"
  }
 },
 "nbformat": 4,
 "nbformat_minor": 5
}
