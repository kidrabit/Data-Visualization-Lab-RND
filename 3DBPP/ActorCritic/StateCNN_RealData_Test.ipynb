{
 "cells": [
  {
   "cell_type": "markdown",
   "id": "93ed7d96",
   "metadata": {},
   "source": [
    "### Reward: 충진률 -> 적입수"
   ]
  },
  {
   "cell_type": "code",
   "execution_count": 1,
   "id": "2dbeaa0e",
   "metadata": {
    "ExecuteTime": {
     "end_time": "2021-04-28T01:00:53.660764Z",
     "start_time": "2021-04-28T01:00:50.996212Z"
    }
   },
   "outputs": [],
   "source": [
    "import pandas as pd\n",
    "import numpy as np\n",
    "import pickle\n",
    "import itertools\n",
    "import os\n",
    "import random\n",
    "import math\n",
    "import time\n",
    "import numpy as np\n",
    "import tensorflow as tf\n",
    "import matplotlib.pyplot as plt\n",
    "\n",
    "from collections import deque\n",
    "from tensorflow.keras.optimizers import Adam\n",
    "from tensorflow.keras import Sequential\n",
    "from tensorflow.keras.layers import Dense, Conv1D, MaxPooling1D, Flatten, concatenate, Conv2D, MaxPooling2D\n",
    "\n",
    "from libs.utils import *\n",
    "from libs.generate_boxes import  *"
   ]
  },
  {
   "cell_type": "code",
   "execution_count": 2,
   "id": "13013480",
   "metadata": {
    "ExecuteTime": {
     "end_time": "2021-04-28T01:00:54.579917Z",
     "start_time": "2021-04-28T01:00:54.569923Z"
    }
   },
   "outputs": [],
   "source": [
    "os.environ['TF_CPP_MIN_LOG_LEVEL'] = '0'\n",
    "tf.get_logger().setLevel('INFO')\n",
    "tf.keras.backend.floatx()\n",
    "\n",
    "plt.style.use('fivethirtyeight')\n",
    "plt.rcParams['figure.figsize'] = (20,10)"
   ]
  },
  {
   "cell_type": "code",
   "execution_count": 3,
   "id": "46faa0da",
   "metadata": {
    "ExecuteTime": {
     "end_time": "2021-04-28T01:00:56.002729Z",
     "start_time": "2021-04-28T01:00:55.989674Z"
    }
   },
   "outputs": [],
   "source": [
    "class Bpp3DEnv_RealData():\n",
    "    def __init__(self,length=20, breadth=20, height=20, bboxes=None, bboxes_h=None):\n",
    "        super(Bpp3DEnv_RealData, self).__init__()\n",
    "        self.length=length\n",
    "        self.breadth=breadth\n",
    "        self.height=height\n",
    "        self.bboxes = bboxes.copy()\n",
    "        self.bboxes_h = bboxes_h.copy()\n",
    "        self.container_h=bboxes_h.copy()\n",
    "        self.container=bboxes.copy()\n",
    "    \n",
    "    def update_h(self):\n",
    "        idx = np.where(self.container == 1)\n",
    "        h = pd.DataFrame(np.transpose(idx, (1,0)))\n",
    "        h.columns = ['0','1','2']\n",
    "        h = h.groupby(['0','1']).agg({'0':'first','1':'first','2':'max'}).values\n",
    "        self.reset_h()\n",
    "        self.container_h[h[:,0],h[:,1]] = h[:,2]+1\n",
    "        return self.container_h\n",
    "    \n",
    "    def convert_state(self, new_container):\n",
    "        self.container = new_container\n",
    "        self.update_h()\n",
    "    \n",
    "    def next_state(self, upleft,bxl,bxb,bxh):\n",
    "        next_container_h = self.container_h.copy()\n",
    "        loading_area_h = self.container_h[upleft[0]:upleft[0]+bxl, upleft[1]:upleft[1]+bxb]\n",
    "        max_h = np.max(loading_area_h).astype('int')\n",
    "        next_container_h[upleft[0]:upleft[0]+bxl,upleft[1]:upleft[1]+bxb] = bxh + max_h\n",
    "        \n",
    "        next_container = self.container.copy()\n",
    "        next_container[upleft[0]:upleft[0]+bxl, upleft[1]:upleft[1]+bxb, max_h:bxh + max_h] = 1\n",
    "        \n",
    "        return next_container, next_container_h\n",
    "    \n",
    "    def step(self, upleft,bxl,bxb,bxh):\n",
    "        n_s, n_h = self.next_state(upleft,bxl,bxb,bxh)\n",
    "        self.convert_state(n_s)\n",
    "        return n_s\n",
    "    \n",
    "    def reset(self):\n",
    "        self.container = self.bboxes.copy()\n",
    "        self.container_h = self.bboxes_h.copy()\n",
    "    \n",
    "    def reset_h(self):\n",
    "        self.container_h = self.bboxes_h.copy()\n",
    "        \n",
    "    def terminal_reward(self):\n",
    "        return np.sum(self.container)/(self.length*self.breadth*self.height)"
   ]
  },
  {
   "cell_type": "code",
   "execution_count": 4,
   "id": "c2c58a75",
   "metadata": {
    "ExecuteTime": {
     "end_time": "2021-04-28T01:00:56.500524Z",
     "start_time": "2021-04-28T01:00:56.479760Z"
    }
   },
   "outputs": [],
   "source": [
    "def get_bbox_stan(max_l, max_b, max_h, bbox_type):\n",
    "    bbox_stan = np.zeros((max_l, max_b, max_h))\n",
    "    l,b,h = bbox_type\n",
    "    bbox_stan[l:,:,:] = 1\n",
    "    bbox_stan[:,b:,:] = 1\n",
    "    bbox_stan[:l, :b, :max_h-h] = 1\n",
    "    return bbox_stan\n",
    "\n",
    "def get_bbox_idx(n_bbox =4, k=2):\n",
    "    # k는 박스 수\n",
    "    x = list(range(4))\n",
    "    idx = np.array([p for p in itertools.product(x, repeat=k)])\n",
    "    idx = np.sort(idx, axis=1)\n",
    "    idx = np.unique(idx, axis=0)\n",
    "    return idx\n",
    "\n",
    "def pad_bbox(n_boxes, bbox_stan, max_l, max_b, max_h, i=0):\n",
    "    padded = np.ones(( max_l, max_b, max_h, n_boxes ))\n",
    "    padded[:max_l, :max_b, :max_h, i] = bbox_stan\n",
    "    return padded\n",
    "\n",
    "def pad_bbox_multi(n_boxes, bbox_stans, max_l, max_b, max_h):\n",
    "    padded = np.ones(( max_l, max_b, max_h, n_boxes ))\n",
    "    for i in range(len(bbox_stans)):\n",
    "        padded[:max_l, :max_b, :max_h, i] = bbox_stans[i]\n",
    "    return padded\n",
    "\n",
    "def merge_bboxes(bboxes):\n",
    "    l, b, h, n = bboxes.shape\n",
    "    n = n//2\n",
    "    merged = np.zeros(( l*n+1, b*n+1, h))\n",
    "    merged = merged + h\n",
    "    merged[:l, :b] = bboxes[:,:,:,0]\n",
    "    merged[l+1:, :b] = bboxes[:,:,:,1]\n",
    "    merged[:l, b+1:] = bboxes[:,:,:,2]\n",
    "    merged[l+1:, b+1:] = bboxes[:,:,:,3]\n",
    "    return merged"
   ]
  },
  {
   "cell_type": "code",
   "execution_count": 5,
   "id": "b61881c2",
   "metadata": {
    "ExecuteTime": {
     "end_time": "2021-04-28T01:01:12.176112Z",
     "start_time": "2021-04-28T01:01:11.406825Z"
    }
   },
   "outputs": [
    {
     "name": "stdout",
     "output_type": "stream",
     "text": [
      "[[119 113  50]\n",
      " [148 113 110]\n",
      " [119 113  36]\n",
      " [198 114  61]]\n",
      "[[119 113  50]\n",
      " [148 113 110]\n",
      " [119 113  36]\n",
      " [198 114  61]]\n"
     ]
    }
   ],
   "source": [
    "mi = 'U1'; t='PP'\n",
    "# df = pd.read_csv('data/preprocessed_packing/'+mi+'.csv')\n",
    "df = pd.read_csv('data/preprocessed_packing/'+mi+'_'+t+'_2.csv')# save\n",
    "bbox_master = pd.read_csv('data/preprocessed_tables/'+mi+'_bbox.csv')\n",
    "with open('data/preprocessed_packing/'+mi + '_'+ t +'_r.pickle', 'rb') as handle: data = pickle.load(handle)\n",
    "\n",
    "# scaling\n",
    "for i in range(len(data)): data[i] = data[i]//10\n",
    "print(bbox_master.values[[0,1,2,16]]//10)\n",
    "# bbox_master = np.ceil(( bbox_master.values * 0.95)/10).astype('int')\n",
    "bbox_master = np.ceil(( bbox_master.values)/10).astype('int')\n",
    "bbox_master = bbox_master[[0,1,2,16]]\n",
    "print(bbox_master)\n",
    "\n",
    "max_l = np.max(bbox_master[:,0])\n",
    "max_b = np.max(bbox_master[:,1])\n",
    "max_h = np.max(bbox_master[:,2])\n",
    "n_boxes = 4\n",
    "\n",
    "# 박스 한 개\n",
    "bboxes1 = []\n",
    "for b in bbox_master:\n",
    "    bbox_stan = get_bbox_stan(max_l, max_b, max_h, b)\n",
    "    padded = pad_bbox(n_boxes, bbox_stan, max_l, max_b, max_h, i=0)\n",
    "    bboxes1.append(padded)\n",
    "bboxes1 = np.stack(bboxes1).astype('int')\n",
    "    \n",
    "# # 박스 두 개\n",
    "# bboxes2 = []\n",
    "# for i,j in get_bbox_idx(n_boxes, 2):\n",
    "#     bbox_stan1 = get_bbox_stan(max_l, max_b, max_h, bbox_master[i])\n",
    "#     bbox_stan2 = get_bbox_stan(max_l, max_b, max_h, bbox_master[j])\n",
    "#     bbox_stans = [bbox_stan1, bbox_stan2]\n",
    "#     padded = pad_bbox_multi(n_boxes, bbox_stans, max_l, max_b, max_h)\n",
    "#     bboxes2.append(padded)\n",
    "# bboxes2 = np.stack(bboxes2).astype('int')\n",
    "\n",
    "# # 박스 세개\n",
    "# bboxes3 = []\n",
    "# for i,j,k in get_bbox_idx(n_boxes, 3):\n",
    "#     bbox_stan1 = get_bbox_stan(max_l, max_b, max_h, bbox_master[i])\n",
    "#     bbox_stan2 = get_bbox_stan(max_l, max_b, max_h, bbox_master[j])\n",
    "#     bbox_stan3 = get_bbox_stan(max_l, max_b, max_h, bbox_master[k])\n",
    "#     bbox_stans = [bbox_stan1, bbox_stan2, bbox_stan3]\n",
    "#     padded = pad_bbox_multi(n_boxes, bbox_stans, max_l, max_b, max_h)\n",
    "#     bboxes3.append(padded)\n",
    "# bboxes3 = np.stack(bboxes3).astype('int')\n",
    "\n",
    "# # 박스 네개\n",
    "# bboxes4 = []\n",
    "# for i,j,k,w in get_bbox_idx(n_boxes, 4):\n",
    "#     bbox_stan1 = get_bbox_stan(max_l, max_b, max_h, bbox_master[i])\n",
    "#     bbox_stan2 = get_bbox_stan(max_l, max_b, max_h, bbox_master[j])\n",
    "#     bbox_stan3 = get_bbox_stan(max_l, max_b, max_h, bbox_master[k])\n",
    "#     bbox_stan4 = get_bbox_stan(max_l, max_b, max_h, bbox_master[w])\n",
    "#     bbox_stans = [bbox_stan1, bbox_stan2, bbox_stan3, bbox_stan4]\n",
    "#     padded = pad_bbox_multi(n_boxes, bbox_stans, max_l, max_b, max_h)\n",
    "#     bboxes4.append(padded)\n",
    "# bboxes4 = np.stack(bboxes4).astype('int')\n",
    "\n",
    "bboxes1_m = np.stack([merge_bboxes(b) for b in bboxes1]).astype('int')\n",
    "# bboxes2_m = np.stack([merge_bboxes(b) for b in bboxes2]).astype('int')\n",
    "# bboxes3_m = np.stack([merge_bboxes(b) for b in bboxes3]).astype('int')\n",
    "# bboxes4_m = np.stack([merge_bboxes(b) for b in bboxes4]).astype('int')\n",
    "\n",
    "# bboxes1.shape, bboxes2.shape, bboxes3.shape, bboxes4.shape, bboxes1_m.shape, bboxes2_m.shape, bboxes3_m.shape, bboxes4_m.shape"
   ]
  },
  {
   "cell_type": "code",
   "execution_count": 6,
   "id": "dd439fb3",
   "metadata": {
    "ExecuteTime": {
     "end_time": "2021-04-28T01:01:17.903035Z",
     "start_time": "2021-04-28T01:01:17.888822Z"
    }
   },
   "outputs": [],
   "source": [
    "class ActorCritic(tf.keras.Model):\n",
    "    def __init__(self, state_size, selected_size, remain_size, output_size):\n",
    "        super(ActorCritic, self).__init__()\n",
    "        self.case_cnn1 = Conv2D(filters=32, kernel_size=3, activation='relu', \n",
    "                                padding=\"valid\", input_shape = selected_size)\n",
    "        self.case_cnn2 = Conv2D(filters=16, kernel_size=3, activation='relu', \n",
    "                                padding=\"valid\")\n",
    "\n",
    "        self.select_cnn1 = Conv2D(filters=32, kernel_size=3, activation='relu', \n",
    "                                  padding=\"valid\", input_shape = selected_size)\n",
    "        self.select_cnn2 = Conv2D(filters=16, kernel_size=3, activation='relu', \n",
    "                                  padding=\"valid\")\n",
    "        \n",
    "        cs_size = state_size[:2] + (state_size[2] + selected_size[2],)\n",
    "        self.case_loc_cnn1 = Conv2D(filters=16, kernel_size=3, activation='relu',\n",
    "                                   padding = 'valid', input_shape = cs_size)\n",
    "        self.case_loc_cnn2 = Conv2D(filters=16, kernel_size=3, activation='relu',\n",
    "                                   padding = 'valid')\n",
    "        \n",
    "        self.remain_cnn1 = Conv1D(filters=32, kernel_size=2, activation='relu', \n",
    "                                  padding=\"same\", input_shape = remain_size)\n",
    "        self.remain_cnn2 = Conv1D(filters=32, kernel_size=2, activation='relu', \n",
    "                                  padding=\"same\")\n",
    "        \n",
    "        self.d1 = Dense(256, activation='relu')\n",
    "        self.d2 = Dense(128, activation='relu')\n",
    "        self.out = Dense(output_size)\n",
    "        \n",
    "    def call(self, cb_list):\n",
    "        c, s, r = cb_list[0], cb_list[1], cb_list[2]\n",
    "        cs = tf.concat([c,s],-1)\n",
    "\n",
    "        c = self.case_cnn1(c)\n",
    "        c = MaxPooling2D(pool_size=(2, 2))(c)\n",
    "        c = self.case_cnn2(c)\n",
    "        c = MaxPooling2D(pool_size=(2, 2))(c)\n",
    "        c = Flatten()(c)\n",
    "\n",
    "        s = self.select_cnn1(s)\n",
    "        s = MaxPooling2D(pool_size=(2, 2))(s)\n",
    "        s = self.select_cnn2(s)\n",
    "        s = MaxPooling2D(pool_size=(2, 2))(s)\n",
    "        s = Flatten()(s)\n",
    "        \n",
    "        cs = self.case_loc_cnn1(cs)\n",
    "        cs = MaxPooling2D(pool_size=(2,2))(cs)\n",
    "        cs = self.case_loc_cnn2(cs)\n",
    "        cs = MaxPooling2D(pool_size=(2,2))(cs)\n",
    "        cs = Flatten()(cs)\n",
    "\n",
    "        r = self.remain_cnn1(r)\n",
    "        r = self.remain_cnn2(r)\n",
    "        r = MaxPooling1D(pool_size=1)(r)\n",
    "        r = Flatten()(r)\n",
    "        \n",
    "        x = concatenate([c,s,cs,r])\n",
    "        x = self.d1(x)\n",
    "        x = self.d2(x)\n",
    "        q = self.out(x)\n",
    "        return q"
   ]
  },
  {
   "cell_type": "code",
   "execution_count": 7,
   "id": "21918499",
   "metadata": {
    "ExecuteTime": {
     "end_time": "2021-04-28T01:01:18.098924Z",
     "start_time": "2021-04-28T01:01:18.073598Z"
    }
   },
   "outputs": [],
   "source": [
    "class ActorCriticAgent:\n",
    "    def __init__(self, L=20,B=20,H=20,n_remains=5,lr=1e-8,gamma=0.99):\n",
    "        self.state_size = (L,B,1)\n",
    "        self.selected_size = (L,B,2)\n",
    "        self.remain_size = (n_remains, 3)\n",
    "        self.output_size = 1\n",
    "        \n",
    "        self.lr = lr\n",
    "        self.gamma = gamma\n",
    "        \n",
    "        self.actor = ActorCritic(self.state_size, self.selected_size,\n",
    "                          self.remain_size, self.output_size)\n",
    "        self.critic = ActorCritic(self.state_size, self.selected_size,\n",
    "                           self.remain_size, self.output_size)\n",
    "        \n",
    "        self.actor_optimizer = Adam(learning_rate = self.lr)\n",
    "        self.critic_optimizer = Adam(learning_rate = self.lr)\n",
    "        \n",
    "        self.memory = deque(maxlen=500)\n",
    "        \n",
    "        self.avg_actor_loss = 0\n",
    "        self.avg_critic_loss = 0\n",
    "        \n",
    "    def append_sample(self, history, s_boxes, remains, action, reward, last, t_history, t_s_boxes, t_remains):\n",
    "        self.memory.append((history, s_boxes, remains, action, reward, last, t_history, t_s_boxes, t_remains))\n",
    "        \n",
    "    def get_action(self, state, s_locs, r_boxes):\n",
    "        actor = self.actor([state, s_locs, r_boxes])\n",
    "        argmax_idx = np.where(actor == tf.math.reduce_max(actor))\n",
    "        action_idx = argmax_idx[0][0]\n",
    "        return action_idx\n",
    "    \n",
    "    def get_actor_loss():\n",
    "        pass\n",
    "    \n",
    "    def get_critic_loss():\n",
    "        pass\n",
    "    \n",
    "    def train(self):\n",
    "        batch = random.sample(self.memory, len(self.memory))\n",
    "        \n",
    "        history = np.array([sample[0] for sample in batch])\n",
    "        s_boxes = np.array([sample[1] for sample in batch])\n",
    "        remains = np.array([sample[2] for sample in batch])\n",
    "        action = np.array([sample[3] for sample in batch])\n",
    "        reward = np.array([sample[4] for sample in batch])\n",
    "        dones = np.array([sample[5] for sample in batch])\n",
    "        next_history = [sample[6] for sample in batch]\n",
    "        next_s_boxes = [sample[7] for sample in batch]\n",
    "        next_remains = [sample[8] for sample in batch]\n",
    "        \n",
    "        #print(history.shape, s_boxes.shape, remains.shape, action.shape, reward.shape, dones.shape)\n",
    "        #print(len(next_history), len(next_s_boxes), len(next_remains))\n",
    "        #print(next_history[0].shape, next_s_boxes[0].shape, next_remains[0].shape)\n",
    "        \n",
    "        with tf.GradientTape() as actor_tape, tf.GradientTape() as critic_tape:\n",
    "            actor = self.actor([history, s_boxes, remains])\n",
    "            value = self.critic([history, s_boxes, remains])\n",
    "            \n",
    "            targets = []\n",
    "            action_idx = np.stack([np.arange(len(self.memory)),action],axis=1)\n",
    "            acts = tf.gather_nd(actor, action_idx, batch_dims=0, name=None)\n",
    "            predicts = tf.gather_nd(value, action_idx, batch_dims=0, name=None)\n",
    "            \n",
    "            for i in range(len(self.memory)):\n",
    "                next_value = self.critic([next_history[i],next_s_boxes[i],\n",
    "                                         next_remains[i]])\n",
    "                next_max_value = tf.math.reduce_max(next_value)\n",
    "                targets.append([(1-0.875)*reward[i] + (1-dones[i])*0.75*next_max_value])\n",
    "            \n",
    "            targets = np.array(targets)\n",
    "            actor_loss = tf.reduce_mean(tf.square(targets - acts))\n",
    "            critic_loss = tf.reduce_mean(tf.square(targets - predicts))\n",
    "            \n",
    "            self.avg_actor_loss += actor_loss.numpy()\n",
    "            self.avg_critic_loss += critic_loss.numpy()\n",
    "        \n",
    "        actor_grads = actor_tape.gradient(actor_loss, self.actor.trainable_variables)\n",
    "        critic_grads = critic_tape.gradient(critic_loss, self.critic.trainable_variables)\n",
    "        self.actor_optimizer.apply_gradients(zip(actor_grads,\n",
    "                                                self.actor.trainable_variables))\n",
    "        self.critic_optimizer.apply_gradients(zip(critic_grads,\n",
    "                                                 self.critic.trainable_variables))"
   ]
  },
  {
   "cell_type": "code",
   "execution_count": 9,
   "id": "5145f1aa",
   "metadata": {
    "ExecuteTime": {
     "end_time": "2021-04-28T01:01:23.997645Z",
     "start_time": "2021-04-28T01:01:23.988694Z"
    }
   },
   "outputs": [
    {
     "data": {
      "text/plain": [
       "((32, 3), (397, 229, 110))"
      ]
     },
     "execution_count": 9,
     "metadata": {},
     "output_type": "execute_result"
    }
   ],
   "source": [
    "boxes = data[0][:,:3]\n",
    "bboxes = bboxes1_m[2]\n",
    "boxes.shape, bboxes.shape"
   ]
  },
  {
   "cell_type": "code",
   "execution_count": 14,
   "id": "ee32e69b",
   "metadata": {
    "ExecuteTime": {
     "end_time": "2021-04-28T01:02:56.569767Z",
     "start_time": "2021-04-28T01:02:56.564953Z"
    }
   },
   "outputs": [
    {
     "data": {
      "text/plain": [
       "array([[56, 53, 24],\n",
       "       [56, 53, 24],\n",
       "       [56, 53, 24],\n",
       "       [56, 53, 24],\n",
       "       [56, 53, 24],\n",
       "       [56, 53, 24],\n",
       "       [56, 53, 24],\n",
       "       [56, 53, 24],\n",
       "       [56, 53, 24],\n",
       "       [56, 53, 24],\n",
       "       [56, 53, 24],\n",
       "       [47, 35, 24],\n",
       "       [47, 35, 24],\n",
       "       [47, 35, 24],\n",
       "       [47, 35, 24],\n",
       "       [47, 35, 24],\n",
       "       [47, 35, 24],\n",
       "       [47, 35, 24],\n",
       "       [47, 35, 24],\n",
       "       [47, 35, 24],\n",
       "       [47, 35, 24],\n",
       "       [47, 35, 24],\n",
       "       [47, 35, 24],\n",
       "       [47, 35, 24],\n",
       "       [47, 35, 24],\n",
       "       [47, 35, 24],\n",
       "       [47, 35, 24],\n",
       "       [47, 35, 24],\n",
       "       [47, 35, 24],\n",
       "       [47, 35, 24],\n",
       "       [47, 35, 24],\n",
       "       [47, 35, 24]], dtype=int64)"
      ]
     },
     "execution_count": 14,
     "metadata": {},
     "output_type": "execute_result"
    }
   ],
   "source": [
    "boxes"
   ]
  },
  {
   "cell_type": "code",
   "execution_count": 23,
   "id": "fc1e85bf",
   "metadata": {
    "ExecuteTime": {
     "end_time": "2021-04-28T01:05:09.938219Z",
     "start_time": "2021-04-28T01:05:09.931207Z"
    }
   },
   "outputs": [
    {
     "data": {
      "text/plain": [
       "10000430"
      ]
     },
     "execution_count": 23,
     "metadata": {},
     "output_type": "execute_result"
    }
   ],
   "source": [
    "397*229*110"
   ]
  },
  {
   "cell_type": "code",
   "execution_count": 29,
   "id": "5446755f",
   "metadata": {
    "ExecuteTime": {
     "end_time": "2021-04-28T01:06:11.687531Z",
     "start_time": "2021-04-28T01:06:11.672188Z"
    }
   },
   "outputs": [
    {
     "data": {
      "text/plain": [
       "552842"
      ]
     },
     "execution_count": 29,
     "metadata": {},
     "output_type": "execute_result"
    }
   ],
   "source": [
    "397*229*110 - (np.sum(bboxes) - 625*12100)"
   ]
  },
  {
   "cell_type": "code",
   "execution_count": 10,
   "id": "9d2b91bc",
   "metadata": {
    "ExecuteTime": {
     "end_time": "2021-04-28T01:01:31.893063Z",
     "start_time": "2021-04-28T01:01:31.873938Z"
    }
   },
   "outputs": [
    {
     "data": {
      "text/plain": [
       "1612632"
      ]
     },
     "execution_count": 10,
     "metadata": {},
     "output_type": "execute_result"
    }
   ],
   "source": [
    "v = 0\n",
    "for box in boxes:\n",
    "    v += box[0] * box[1] * box[2]\n",
    "v"
   ]
  },
  {
   "cell_type": "code",
   "execution_count": 15,
   "id": "8195407d",
   "metadata": {
    "ExecuteTime": {
     "end_time": "2021-04-28T00:30:04.770899Z",
     "start_time": "2021-04-28T00:30:04.725516Z"
    }
   },
   "outputs": [],
   "source": [
    "agent = ActorCriticAgent(L=397,B=229,H=110,n_remains=num_max_remain,\n",
    "                        lr=0.001,gamma=0.99)"
   ]
  },
  {
   "cell_type": "code",
   "execution_count": 13,
   "id": "041eda0f",
   "metadata": {
    "ExecuteTime": {
     "end_time": "2021-04-28T00:29:54.067334Z",
     "start_time": "2021-04-28T00:29:54.060219Z"
    }
   },
   "outputs": [
    {
     "name": "stdout",
     "output_type": "stream",
     "text": [
      "32 29\n"
     ]
    }
   ],
   "source": [
    "K = 3\n",
    "n_candidates = 4\n",
    "\n",
    "num_max_boxes = len(boxes)\n",
    "num_max_remain = num_max_boxes - K\n",
    "print(num_max_boxes, num_max_remain)"
   ]
  },
  {
   "cell_type": "code",
   "execution_count": 19,
   "id": "038e048c",
   "metadata": {
    "ExecuteTime": {
     "end_time": "2021-04-28T01:04:40.325655Z",
     "start_time": "2021-04-28T01:04:39.850753Z"
    }
   },
   "outputs": [
    {
     "data": {
      "text/plain": [
       "625"
      ]
     },
     "execution_count": 19,
     "metadata": {},
     "output_type": "execute_result"
    }
   ],
   "source": [
    "big = np.zeros((397,229))\n",
    "cnt = 0\n",
    "for i in range(len(bboxes)):\n",
    "    for j in range(len(bboxes[i])):\n",
    "        h = np.sum(bboxes[i][j])\n",
    "        if h > 110:cnt += 1\n",
    "        big[i][j] = h\n",
    "cnt"
   ]
  },
  {
   "cell_type": "code",
   "execution_count": 20,
   "id": "6cd4a735",
   "metadata": {
    "ExecuteTime": {
     "end_time": "2021-04-28T01:04:45.617779Z",
     "start_time": "2021-04-28T01:04:45.600744Z"
    }
   },
   "outputs": [
    {
     "data": {
      "text/plain": [
       "7562500"
      ]
     },
     "execution_count": 20,
     "metadata": {},
     "output_type": "execute_result"
    }
   ],
   "source": [
    "625*12100"
   ]
  },
  {
   "cell_type": "code",
   "execution_count": 16,
   "id": "f6d07cda",
   "metadata": {
    "ExecuteTime": {
     "end_time": "2021-04-28T01:03:37.434758Z",
     "start_time": "2021-04-28T01:03:37.420013Z"
    }
   },
   "outputs": [
    {
     "data": {
      "text/plain": [
       "array([[ 74.,  74.,  74., ..., 110., 110., 110.],\n",
       "       [ 74.,  74.,  74., ..., 110., 110., 110.],\n",
       "       [ 74.,  74.,  74., ..., 110., 110., 110.],\n",
       "       ...,\n",
       "       [110., 110., 110., ..., 110., 110., 110.],\n",
       "       [110., 110., 110., ..., 110., 110., 110.],\n",
       "       [110., 110., 110., ..., 110., 110., 110.]])"
      ]
     },
     "execution_count": 16,
     "metadata": {},
     "output_type": "execute_result"
    }
   ],
   "source": [
    "big"
   ]
  },
  {
   "cell_type": "code",
   "execution_count": 17,
   "id": "10643c75",
   "metadata": {
    "ExecuteTime": {
     "end_time": "2021-04-28T00:30:08.677503Z",
     "start_time": "2021-04-28T00:30:08.621139Z"
    }
   },
   "outputs": [
    {
     "data": {
      "text/plain": [
       "((397, 229, 110), (397, 229))"
      ]
     },
     "execution_count": 17,
     "metadata": {},
     "output_type": "execute_result"
    }
   ],
   "source": [
    "env = Bpp3DEnv_RealData(length=397,breadth=229,height=110,\n",
    "                       bboxes=bboxes,bboxes_h=big)\n",
    "env.reset()\n",
    "env.container.shape, env.container_h.shape"
   ]
  },
  {
   "cell_type": "code",
   "execution_count": 18,
   "id": "f2d0d4ca",
   "metadata": {
    "ExecuteTime": {
     "end_time": "2021-04-28T00:30:10.838193Z",
     "start_time": "2021-04-28T00:30:10.819125Z"
    }
   },
   "outputs": [
    {
     "data": {
      "text/plain": [
       "3"
      ]
     },
     "execution_count": 18,
     "metadata": {},
     "output_type": "execute_result"
    }
   ],
   "source": [
    "boxes_all = np.array(boxes).copy()\n",
    "r_boxes = boxes_all.copy()\n",
    "state = env.container.copy()\n",
    "k = min(K, len(r_boxes))\n",
    "k"
   ]
  },
  {
   "cell_type": "code",
   "execution_count": 19,
   "id": "51ed2504",
   "metadata": {
    "ExecuteTime": {
     "end_time": "2021-04-28T00:30:11.754170Z",
     "start_time": "2021-04-28T00:30:11.734321Z"
    }
   },
   "outputs": [
    {
     "data": {
      "text/plain": [
       "array([[56, 53, 24],\n",
       "       [56, 53, 24],\n",
       "       [56, 53, 24],\n",
       "       [56, 53, 24],\n",
       "       [56, 53, 24],\n",
       "       [56, 53, 24],\n",
       "       [56, 53, 24],\n",
       "       [56, 53, 24],\n",
       "       [56, 53, 24],\n",
       "       [56, 53, 24],\n",
       "       [56, 53, 24],\n",
       "       [47, 35, 24],\n",
       "       [47, 35, 24],\n",
       "       [47, 35, 24],\n",
       "       [47, 35, 24],\n",
       "       [47, 35, 24],\n",
       "       [47, 35, 24],\n",
       "       [47, 35, 24],\n",
       "       [47, 35, 24],\n",
       "       [47, 35, 24],\n",
       "       [47, 35, 24],\n",
       "       [47, 35, 24],\n",
       "       [47, 35, 24],\n",
       "       [47, 35, 24],\n",
       "       [47, 35, 24],\n",
       "       [47, 35, 24],\n",
       "       [47, 35, 24],\n",
       "       [47, 35, 24],\n",
       "       [47, 35, 24],\n",
       "       [47, 35, 24],\n",
       "       [47, 35, 24],\n",
       "       [47, 35, 24]], dtype=int64)"
      ]
     },
     "execution_count": 19,
     "metadata": {},
     "output_type": "execute_result"
    }
   ],
   "source": [
    "r_boxes"
   ]
  },
  {
   "cell_type": "code",
   "execution_count": 20,
   "id": "330d536a",
   "metadata": {
    "ExecuteTime": {
     "end_time": "2021-04-28T00:30:13.371180Z",
     "start_time": "2021-04-28T00:30:13.352526Z"
    }
   },
   "outputs": [],
   "source": [
    "selected = cbn_select_boxes(r_boxes[:n_candidates],k)\n",
    "s_order = get_selected_order(selected, k)"
   ]
  },
  {
   "cell_type": "code",
   "execution_count": 21,
   "id": "e2f02219",
   "metadata": {
    "ExecuteTime": {
     "end_time": "2021-04-28T00:30:13.737381Z",
     "start_time": "2021-04-28T00:30:13.731396Z"
    }
   },
   "outputs": [
    {
     "data": {
      "text/plain": [
       "(array([[[56, 53, 24],\n",
       "         [56, 53, 24],\n",
       "         [56, 53, 24]]], dtype=int64),\n",
       " array([[[56, 53, 24],\n",
       "         [56, 53, 24],\n",
       "         [56, 53, 24]]], dtype=int64))"
      ]
     },
     "execution_count": 21,
     "metadata": {},
     "output_type": "execute_result"
    }
   ],
   "source": [
    "s_order, selected"
   ]
  },
  {
   "cell_type": "code",
   "execution_count": 28,
   "id": "be8a07a3",
   "metadata": {
    "ExecuteTime": {
     "end_time": "2021-04-28T00:32:39.833636Z",
     "start_time": "2021-04-28T00:32:39.819678Z"
    }
   },
   "outputs": [],
   "source": [
    "def raw_to_input(container, s_order, r_boxes, num_max_remain, env_l=20, env_b=20, env_h=20): # K, \n",
    "    # input (L, B), (N, k, 3), (N, num_max_remain, 3)\n",
    "    # return (N, L*B), (N, k, 3), (N, num_max_remain, 3), N은 조합*순열 수\n",
    "    #  s_order = np.array(s_order)/20, \n",
    "    container = np.array([container]*len(s_order)).reshape((-1, env_l,env_b,1))\n",
    "    print(get_remain(s_order[0], r_boxes))\n",
    "    r_boxes = np.array([padding_boxes(get_remain(s_boxes, r_boxes), num_max_remain) for s_boxes in s_order]) #(N, num_max_remain, 3)\n",
    "    # s_order = np.array([padding_boxes(s_boxes, K) for s_boxes in s_order])\n",
    "    # s_order = s_order.astype('int')\n",
    "    container,r_boxes = np.array(container)/env_h, np.array(r_boxes)/env_l #scaline\n",
    "    container = container.astype(np.float32)\n",
    "    r_boxes = r_boxes.astype(np.float32)\n",
    "    return container, r_boxes #s_order, "
   ]
  },
  {
   "cell_type": "code",
   "execution_count": 29,
   "id": "5c90cbf0",
   "metadata": {
    "ExecuteTime": {
     "end_time": "2021-04-28T00:32:43.018664Z",
     "start_time": "2021-04-28T00:32:42.137098Z"
    }
   },
   "outputs": [
    {
     "name": "stdout",
     "output_type": "stream",
     "text": [
      "[[56 53 24]\n",
      " [56 53 24]\n",
      " [56 53 24]\n",
      " [56 53 24]\n",
      " [56 53 24]\n",
      " [56 53 24]\n",
      " [56 53 24]\n",
      " [56 53 24]\n",
      " [47 35 24]\n",
      " [47 35 24]\n",
      " [47 35 24]\n",
      " [47 35 24]\n",
      " [47 35 24]\n",
      " [47 35 24]\n",
      " [47 35 24]\n",
      " [47 35 24]\n",
      " [47 35 24]\n",
      " [47 35 24]\n",
      " [47 35 24]\n",
      " [47 35 24]\n",
      " [47 35 24]\n",
      " [47 35 24]\n",
      " [47 35 24]\n",
      " [47 35 24]\n",
      " [47 35 24]\n",
      " [47 35 24]\n",
      " [47 35 24]\n",
      " [47 35 24]\n",
      " [47 35 24]]\n"
     ]
    }
   ],
   "source": [
    "state_h = env.update_h().copy()\n",
    "in_state, in_r_boxes = raw_to_input(state_h,s_order,r_boxes,num_max_remain,\n",
    "                                   397,229,110)"
   ]
  },
  {
   "cell_type": "code",
   "execution_count": 25,
   "id": "87c03a46",
   "metadata": {
    "ExecuteTime": {
     "end_time": "2021-04-28T00:30:59.741031Z",
     "start_time": "2021-04-28T00:30:59.732308Z"
    }
   },
   "outputs": [
    {
     "name": "stdout",
     "output_type": "stream",
     "text": [
      "17010088.0\n"
     ]
    }
   ],
   "source": [
    "print(np.sum(state_h))"
   ]
  },
  {
   "cell_type": "code",
   "execution_count": 226,
   "id": "b0ffb4a2",
   "metadata": {
    "ExecuteTime": {
     "end_time": "2021-04-28T00:05:46.162141Z",
     "start_time": "2021-04-28T00:05:46.151403Z"
    }
   },
   "outputs": [],
   "source": [
    "def get_selected_location(s_order, pred_pos_org, used_boxes_org, state_org,\n",
    "                         bboxes, big):\n",
    "    # 정해진 순서에 따라 하나씩 적재\n",
    "    s_locs, pred_pos_c, used_boxes_c, next_state_c, num_loaded_box_c  = [],[],[],[],[]\n",
    "    next_cube_c = []\n",
    "    for boxes in s_order:\n",
    "        env = Bpp3DEnv_RealData(length=397,breadth=229,height=110,\n",
    "                       bboxes=bboxes,bboxes_h=big)\n",
    "        state = state_org.copy()\n",
    "        next_state = np.zeros((397,229))\n",
    "        env.convert_state(state)\n",
    "        pred_pos = pred_pos_org.copy()\n",
    "        used_boxes = used_boxes_org.copy()\n",
    "        num_loaded_box = 0\n",
    "        s_loc = np.zeros((397,229,110))\n",
    "        for box in boxes:\n",
    "            if np.sum(box)==0:\n",
    "                f_upleft = []\n",
    "            else:\n",
    "                f_upleft = get_f_upleft(box, env)\n",
    "            if len(f_upleft) == 0:\n",
    "                continue\n",
    "            xyz = get_locxyz(f_upleft, env.container_h) #높이 반환\n",
    "            fixted_xyz = fixed_pos(xyz) # 가능한 적재 위치 중 하나 선택\n",
    "            xy = fixted_xyz[:2].astype('int')\n",
    "            next_state = env.step(xy,box[0],box[1],box[2]).copy()########################\n",
    "            num_loaded_box += 1\n",
    "            pred_pos.append(fixted_xyz)\n",
    "            used_boxes.append(box)\n",
    "            # location\n",
    "            x,y,z = fixted_xyz.astype('int')\n",
    "            l,b,h = box\n",
    "            s_loc[x:x+l, y:y+b, z:z+h] = 1\n",
    "            \n",
    "        s_locs.append(s_loc)\n",
    "        pred_pos_c.append(pred_pos)\n",
    "        used_boxes_c.append(used_boxes)\n",
    "        #next_state_c.append(next_state) #############################\n",
    "        next_state_h = env.update_h().copy()\n",
    "        next_state_c.append(next_state_h)\n",
    "        next_cube = env.container.copy()\n",
    "        next_cube_c.append(next_cube)\n",
    "        num_loaded_box_c.append(num_loaded_box)\n",
    "        \n",
    "    s_locs = np.stack(s_locs) #(N, 20,20,20)\n",
    "    # fig = plt.figure()\n",
    "    # ax = fig.gca(projection='3d')\n",
    "    # ax.set_aspect('auto')\n",
    "    # ax.voxels(s_locs[1], edgecolor=\"k\")\n",
    "    # plt.show()\n",
    "    return s_locs, pred_pos_c, used_boxes_c, next_state_c, num_loaded_box_c, next_cube_c"
   ]
  },
  {
   "cell_type": "code",
   "execution_count": 227,
   "id": "e3e4245b",
   "metadata": {
    "ExecuteTime": {
     "end_time": "2021-04-28T00:05:52.876613Z",
     "start_time": "2021-04-28T00:05:47.079479Z"
    }
   },
   "outputs": [],
   "source": [
    "pred_pos, used_boxes = [],[]\n",
    "s_loc_c, pred_pos_c, used_boxes_c, next_state_c, num_loaded_box_c, next_cube_c = get_selected_location(s_order, pred_pos, used_boxes, state, bboxes, big)"
   ]
  },
  {
   "cell_type": "code",
   "execution_count": 228,
   "id": "006a9905",
   "metadata": {
    "ExecuteTime": {
     "end_time": "2021-04-28T00:05:53.889282Z",
     "start_time": "2021-04-28T00:05:53.794450Z"
    }
   },
   "outputs": [
    {
     "data": {
      "text/plain": [
       "(1, 397, 229, 2)"
      ]
     },
     "execution_count": 228,
     "metadata": {},
     "output_type": "execute_result"
    }
   ],
   "source": [
    "loaded_mh_c = np.array([get_loaded_mh(s_loc, env.length, env.breadth,\n",
    "                                     env.height) for s_loc in s_loc_c])\n",
    "loaded_mh_c.shape"
   ]
  },
  {
   "cell_type": "code",
   "execution_count": 229,
   "id": "6993741b",
   "metadata": {
    "ExecuteTime": {
     "end_time": "2021-04-28T00:05:55.848147Z",
     "start_time": "2021-04-28T00:05:55.792908Z"
    }
   },
   "outputs": [
    {
     "data": {
      "text/plain": [
       "0"
      ]
     },
     "execution_count": 229,
     "metadata": {},
     "output_type": "execute_result"
    }
   ],
   "source": [
    "action_idx = agent.get_action(in_state, loaded_mh_c, in_r_boxes)\n",
    "action_idx"
   ]
  },
  {
   "cell_type": "code",
   "execution_count": 230,
   "id": "dd779a9c",
   "metadata": {
    "ExecuteTime": {
     "end_time": "2021-04-28T00:06:03.300569Z",
     "start_time": "2021-04-28T00:06:03.284602Z"
    }
   },
   "outputs": [
    {
     "data": {
      "text/plain": [
       "array([[[1, 1, 1, ..., 0, 0, 0],\n",
       "        [1, 1, 1, ..., 0, 0, 0],\n",
       "        [1, 1, 1, ..., 0, 0, 0],\n",
       "        ...,\n",
       "        [1, 1, 1, ..., 1, 1, 1],\n",
       "        [1, 1, 1, ..., 1, 1, 1],\n",
       "        [1, 1, 1, ..., 1, 1, 1]],\n",
       "\n",
       "       [[1, 1, 1, ..., 0, 0, 0],\n",
       "        [1, 1, 1, ..., 0, 0, 0],\n",
       "        [1, 1, 1, ..., 0, 0, 0],\n",
       "        ...,\n",
       "        [1, 1, 1, ..., 1, 1, 1],\n",
       "        [1, 1, 1, ..., 1, 1, 1],\n",
       "        [1, 1, 1, ..., 1, 1, 1]],\n",
       "\n",
       "       [[1, 1, 1, ..., 0, 0, 0],\n",
       "        [1, 1, 1, ..., 0, 0, 0],\n",
       "        [1, 1, 1, ..., 0, 0, 0],\n",
       "        ...,\n",
       "        [1, 1, 1, ..., 1, 1, 1],\n",
       "        [1, 1, 1, ..., 1, 1, 1],\n",
       "        [1, 1, 1, ..., 1, 1, 1]],\n",
       "\n",
       "       ...,\n",
       "\n",
       "       [[1, 1, 1, ..., 1, 1, 1],\n",
       "        [1, 1, 1, ..., 1, 1, 1],\n",
       "        [1, 1, 1, ..., 1, 1, 1],\n",
       "        ...,\n",
       "        [1, 1, 1, ..., 1, 1, 1],\n",
       "        [1, 1, 1, ..., 1, 1, 1],\n",
       "        [1, 1, 1, ..., 1, 1, 1]],\n",
       "\n",
       "       [[1, 1, 1, ..., 1, 1, 1],\n",
       "        [1, 1, 1, ..., 1, 1, 1],\n",
       "        [1, 1, 1, ..., 1, 1, 1],\n",
       "        ...,\n",
       "        [1, 1, 1, ..., 1, 1, 1],\n",
       "        [1, 1, 1, ..., 1, 1, 1],\n",
       "        [1, 1, 1, ..., 1, 1, 1]],\n",
       "\n",
       "       [[1, 1, 1, ..., 1, 1, 1],\n",
       "        [1, 1, 1, ..., 1, 1, 1],\n",
       "        [1, 1, 1, ..., 1, 1, 1],\n",
       "        ...,\n",
       "        [1, 1, 1, ..., 1, 1, 1],\n",
       "        [1, 1, 1, ..., 1, 1, 1],\n",
       "        [1, 1, 1, ..., 1, 1, 1]]])"
      ]
     },
     "execution_count": 230,
     "metadata": {},
     "output_type": "execute_result"
    }
   ],
   "source": [
    "state"
   ]
  },
  {
   "cell_type": "code",
   "execution_count": 231,
   "id": "167fdc76",
   "metadata": {
    "ExecuteTime": {
     "end_time": "2021-04-28T00:06:04.847872Z",
     "start_time": "2021-04-28T00:06:04.824779Z"
    }
   },
   "outputs": [
    {
     "data": {
      "text/plain": [
       "1.70093565976663"
      ]
     },
     "execution_count": 231,
     "metadata": {},
     "output_type": "execute_result"
    }
   ],
   "source": [
    "env.terminal_reward()"
   ]
  },
  {
   "cell_type": "code",
   "execution_count": 232,
   "id": "ef24109d",
   "metadata": {
    "ExecuteTime": {
     "end_time": "2021-04-28T00:06:06.722602Z",
     "start_time": "2021-04-28T00:06:05.842279Z"
    }
   },
   "outputs": [],
   "source": [
    "env.convert_state(next_cube_c[action_idx])"
   ]
  },
  {
   "cell_type": "code",
   "execution_count": 233,
   "id": "e6b6e433",
   "metadata": {
    "ExecuteTime": {
     "end_time": "2021-04-28T00:06:06.737423Z",
     "start_time": "2021-04-28T00:06:06.723566Z"
    }
   },
   "outputs": [
    {
     "data": {
      "text/plain": [
       "1.7223043409133407"
      ]
     },
     "execution_count": 233,
     "metadata": {},
     "output_type": "execute_result"
    }
   ],
   "source": [
    "env.terminal_reward()"
   ]
  },
  {
   "cell_type": "code",
   "execution_count": 234,
   "id": "221957e1",
   "metadata": {
    "ExecuteTime": {
     "end_time": "2021-04-28T00:08:05.104755Z",
     "start_time": "2021-04-28T00:08:05.085502Z"
    }
   },
   "outputs": [
    {
     "data": {
      "text/plain": [
       "3"
      ]
     },
     "execution_count": 234,
     "metadata": {},
     "output_type": "execute_result"
    }
   ],
   "source": [
    "next_state = env.container.copy()\n",
    "next_state_h = env.container_h.copy()\n",
    "num_loaded_box = num_loaded_box_c[action_idx]\n",
    "num_loaded_box"
   ]
  },
  {
   "cell_type": "code",
   "execution_count": 235,
   "id": "a4643edb",
   "metadata": {
    "ExecuteTime": {
     "end_time": "2021-04-28T00:08:34.344335Z",
     "start_time": "2021-04-28T00:08:34.329959Z"
    }
   },
   "outputs": [
    {
     "data": {
      "text/plain": [
       "array([[56, 53, 24],\n",
       "       [56, 53, 24],\n",
       "       [56, 53, 24],\n",
       "       [56, 53, 24],\n",
       "       [56, 53, 24],\n",
       "       [56, 53, 24],\n",
       "       [56, 53, 24],\n",
       "       [56, 53, 24],\n",
       "       [47, 35, 24],\n",
       "       [47, 35, 24],\n",
       "       [47, 35, 24],\n",
       "       [47, 35, 24],\n",
       "       [47, 35, 24],\n",
       "       [47, 35, 24],\n",
       "       [47, 35, 24],\n",
       "       [47, 35, 24],\n",
       "       [47, 35, 24],\n",
       "       [47, 35, 24],\n",
       "       [47, 35, 24],\n",
       "       [47, 35, 24],\n",
       "       [47, 35, 24],\n",
       "       [47, 35, 24],\n",
       "       [47, 35, 24],\n",
       "       [47, 35, 24],\n",
       "       [47, 35, 24],\n",
       "       [47, 35, 24],\n",
       "       [47, 35, 24],\n",
       "       [47, 35, 24],\n",
       "       [47, 35, 24]], dtype=int64)"
      ]
     },
     "execution_count": 235,
     "metadata": {},
     "output_type": "execute_result"
    }
   ],
   "source": [
    "new_used_boxes = get_remain(used_boxes, used_boxes_c[action_idx])\n",
    "r_boxes = get_remain(new_used_boxes, r_boxes)\n",
    "r_boxes"
   ]
  },
  {
   "cell_type": "code",
   "execution_count": null,
   "id": "a5bad403",
   "metadata": {},
   "outputs": [],
   "source": []
  },
  {
   "cell_type": "code",
   "execution_count": null,
   "id": "ed548a77",
   "metadata": {},
   "outputs": [],
   "source": []
  },
  {
   "cell_type": "code",
   "execution_count": null,
   "id": "4636fe72",
   "metadata": {},
   "outputs": [],
   "source": []
  },
  {
   "cell_type": "code",
   "execution_count": null,
   "id": "a368fb0e",
   "metadata": {},
   "outputs": [],
   "source": []
  },
  {
   "cell_type": "code",
   "execution_count": null,
   "id": "b7ce6096",
   "metadata": {},
   "outputs": [],
   "source": []
  },
  {
   "cell_type": "code",
   "execution_count": null,
   "id": "71e68904",
   "metadata": {},
   "outputs": [],
   "source": []
  },
  {
   "cell_type": "code",
   "execution_count": null,
   "id": "1275f48c",
   "metadata": {},
   "outputs": [],
   "source": []
  },
  {
   "cell_type": "code",
   "execution_count": null,
   "id": "0edf39a6",
   "metadata": {},
   "outputs": [],
   "source": []
  },
  {
   "cell_type": "code",
   "execution_count": 163,
   "id": "ee155847",
   "metadata": {
    "ExecuteTime": {
     "end_time": "2021-04-27T23:56:39.022871Z",
     "start_time": "2021-04-27T23:56:39.013831Z"
    }
   },
   "outputs": [
    {
     "data": {
      "text/plain": [
       "10000430"
      ]
     },
     "execution_count": 163,
     "metadata": {},
     "output_type": "execute_result"
    }
   ],
   "source": [
    "env.length * env.breadth * env.height"
   ]
  },
  {
   "cell_type": "code",
   "execution_count": 164,
   "id": "78294baf",
   "metadata": {
    "ExecuteTime": {
     "end_time": "2021-04-27T23:56:44.773657Z",
     "start_time": "2021-04-27T23:56:44.754041Z"
    }
   },
   "outputs": [
    {
     "data": {
      "text/plain": [
       "17035526"
      ]
     },
     "execution_count": 164,
     "metadata": {},
     "output_type": "execute_result"
    }
   ],
   "source": [
    "np.sum(env.container)"
   ]
  },
  {
   "cell_type": "code",
   "execution_count": null,
   "id": "e0ef8876",
   "metadata": {},
   "outputs": [],
   "source": []
  },
  {
   "cell_type": "code",
   "execution_count": 85,
   "id": "ff97ee60",
   "metadata": {
    "ExecuteTime": {
     "end_time": "2021-04-27T23:34:25.135485Z",
     "start_time": "2021-04-27T23:34:25.078489Z"
    }
   },
   "outputs": [],
   "source": [
    "env = Bpp3DEnv_RealData(length=397,breadth=229,height=110,\n",
    "                       bboxes=bboxes,bboxes_h=big)\n",
    "env.reset()"
   ]
  },
  {
   "cell_type": "code",
   "execution_count": 86,
   "id": "2a1c2e9b",
   "metadata": {
    "ExecuteTime": {
     "end_time": "2021-04-27T23:34:29.739982Z",
     "start_time": "2021-04-27T23:34:29.725020Z"
    }
   },
   "outputs": [
    {
     "data": {
      "text/plain": [
       "((397, 229, 110), (397, 229))"
      ]
     },
     "execution_count": 86,
     "metadata": {},
     "output_type": "execute_result"
    }
   ],
   "source": [
    "env.container.shape, env.container_h.shape"
   ]
  },
  {
   "cell_type": "code",
   "execution_count": 57,
   "id": "9b90ea16",
   "metadata": {
    "ExecuteTime": {
     "end_time": "2021-04-27T23:22:55.084169Z",
     "start_time": "2021-04-27T23:22:55.074436Z"
    }
   },
   "outputs": [
    {
     "data": {
      "text/plain": [
       "(397, 229, 110)"
      ]
     },
     "execution_count": 57,
     "metadata": {},
     "output_type": "execute_result"
    }
   ],
   "source": [
    "bboxes.shape"
   ]
  },
  {
   "cell_type": "code",
   "execution_count": 60,
   "id": "1a2ec605",
   "metadata": {
    "ExecuteTime": {
     "end_time": "2021-04-27T23:23:58.143443Z",
     "start_time": "2021-04-27T23:23:58.135011Z"
    }
   },
   "outputs": [
    {
     "data": {
      "text/plain": [
       "array([[0., 0., 0., 0., 0.],\n",
       "       [0., 0., 0., 0., 0.],\n",
       "       [0., 0., 0., 0., 0.],\n",
       "       [0., 0., 0., 0., 0.],\n",
       "       [0., 0., 0., 0., 0.]])"
      ]
     },
     "execution_count": 60,
     "metadata": {},
     "output_type": "execute_result"
    }
   ],
   "source": [
    "a = np.zeros((5,5))\n",
    "a"
   ]
  },
  {
   "cell_type": "code",
   "execution_count": 64,
   "id": "de3129d1",
   "metadata": {
    "ExecuteTime": {
     "end_time": "2021-04-27T23:24:51.785147Z",
     "start_time": "2021-04-27T23:24:51.766808Z"
    }
   },
   "outputs": [
    {
     "data": {
      "text/plain": [
       "array([[1., 2., 3., 4., 5.],\n",
       "       [1., 2., 3., 4., 5.],\n",
       "       [1., 2., 3., 4., 5.],\n",
       "       [1., 2., 3., 4., 5.],\n",
       "       [1., 2., 3., 4., 5.]])"
      ]
     },
     "execution_count": 64,
     "metadata": {},
     "output_type": "execute_result"
    }
   ],
   "source": [
    "for i in range(len(a[0])):\n",
    "    a[i] = [1,2,3,4,5]\n",
    "a"
   ]
  },
  {
   "cell_type": "code",
   "execution_count": 59,
   "id": "dfb8085e",
   "metadata": {
    "ExecuteTime": {
     "end_time": "2021-04-27T23:23:13.512518Z",
     "start_time": "2021-04-27T23:23:13.504597Z"
    }
   },
   "outputs": [
    {
     "data": {
      "text/plain": [
       "(397, 229)"
      ]
     },
     "execution_count": 59,
     "metadata": {},
     "output_type": "execute_result"
    }
   ],
   "source": [
    "big = np.zeros((397,229))\n",
    "big.shape"
   ]
  },
  {
   "cell_type": "code",
   "execution_count": 73,
   "id": "89fc55f5",
   "metadata": {
    "ExecuteTime": {
     "end_time": "2021-04-27T23:27:55.864483Z",
     "start_time": "2021-04-27T23:27:55.846670Z"
    }
   },
   "outputs": [
    {
     "data": {
      "text/plain": [
       "60"
      ]
     },
     "execution_count": 73,
     "metadata": {},
     "output_type": "execute_result"
    }
   ],
   "source": [
    "np.sum(bboxes[0][0])"
   ]
  },
  {
   "cell_type": "code",
   "execution_count": 82,
   "id": "cc7fb92b",
   "metadata": {
    "ExecuteTime": {
     "end_time": "2021-04-27T23:32:07.480737Z",
     "start_time": "2021-04-27T23:32:07.074845Z"
    }
   },
   "outputs": [
    {
     "data": {
      "text/plain": [
       "array([[ 60.,  60.,  60., ..., 110., 110., 110.],\n",
       "       [ 60.,  60.,  60., ..., 110., 110., 110.],\n",
       "       [ 60.,  60.,  60., ..., 110., 110., 110.],\n",
       "       ...,\n",
       "       [110., 110., 110., ..., 110., 110., 110.],\n",
       "       [110., 110., 110., ..., 110., 110., 110.],\n",
       "       [110., 110., 110., ..., 110., 110., 110.]])"
      ]
     },
     "execution_count": 82,
     "metadata": {},
     "output_type": "execute_result"
    }
   ],
   "source": [
    "for i in range(len(bboxes)):\n",
    "    for j in range(len(bboxes[i])):\n",
    "        h = np.sum(bboxes[i][j])\n",
    "        if h <= 110:\n",
    "            big[i][j] = h"
   ]
  },
  {
   "cell_type": "code",
   "execution_count": null,
   "id": "75a978a7",
   "metadata": {},
   "outputs": [],
   "source": []
  }
 ],
 "metadata": {
  "kernelspec": {
   "display_name": "RL",
   "language": "python",
   "name": "rl"
  },
  "language_info": {
   "codemirror_mode": {
    "name": "ipython",
    "version": 3
   },
   "file_extension": ".py",
   "mimetype": "text/x-python",
   "name": "python",
   "nbconvert_exporter": "python",
   "pygments_lexer": "ipython3",
   "version": "3.7.10"
  }
 },
 "nbformat": 4,
 "nbformat_minor": 5
}
