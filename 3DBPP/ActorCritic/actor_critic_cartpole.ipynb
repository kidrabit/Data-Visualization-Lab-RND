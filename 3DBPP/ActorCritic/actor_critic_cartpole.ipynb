{
 "cells": [
  {
   "cell_type": "code",
   "execution_count": 1,
   "metadata": {
    "ExecuteTime": {
     "end_time": "2021-04-22T00:46:53.409121Z",
     "start_time": "2021-04-22T00:46:50.477865Z"
    }
   },
   "outputs": [
    {
     "data": {
      "text/plain": [
       "[name: \"/device:CPU:0\"\n",
       " device_type: \"CPU\"\n",
       " memory_limit: 268435456\n",
       " locality {\n",
       " }\n",
       " incarnation: 8829874231919889264,\n",
       " name: \"/device:GPU:0\"\n",
       " device_type: \"GPU\"\n",
       " memory_limit: 4949437312\n",
       " locality {\n",
       "   bus_id: 1\n",
       "   links {\n",
       "   }\n",
       " }\n",
       " incarnation: 11336632949792778470\n",
       " physical_device_desc: \"device: 0, name: NVIDIA GeForce RTX 2060, pci bus id: 0000:01:00.0, compute capability: 7.5\"]"
      ]
     },
     "execution_count": 1,
     "metadata": {},
     "output_type": "execute_result"
    }
   ],
   "source": [
    "from tensorflow.python.client import device_lib\n",
    "device_lib.list_local_devices()"
   ]
  },
  {
   "cell_type": "code",
   "execution_count": 2,
   "metadata": {
    "ExecuteTime": {
     "end_time": "2021-04-22T00:46:53.424603Z",
     "start_time": "2021-04-22T00:46:53.410076Z"
    }
   },
   "outputs": [
    {
     "name": "stdout",
     "output_type": "stream",
     "text": [
      "WARNING:tensorflow:From <ipython-input-2-46ff889b56b7>:2: is_gpu_available (from tensorflow.python.framework.test_util) is deprecated and will be removed in a future version.\n",
      "Instructions for updating:\n",
      "Use `tf.config.list_physical_devices('GPU')` instead.\n",
      "True\n"
     ]
    }
   ],
   "source": [
    "import tensorflow as tf\n",
    "print(tf.test.is_gpu_available())"
   ]
  },
  {
   "cell_type": "code",
   "execution_count": 3,
   "metadata": {
    "ExecuteTime": {
     "end_time": "2021-04-22T00:46:53.499836Z",
     "start_time": "2021-04-22T00:46:53.426598Z"
    }
   },
   "outputs": [
    {
     "name": "stdout",
     "output_type": "stream",
     "text": [
      "True\n"
     ]
    }
   ],
   "source": [
    "x = tf.random.uniform([3, 3])\n",
    "print(x.device.endswith('GPU:0'))"
   ]
  },
  {
   "cell_type": "code",
   "execution_count": 4,
   "metadata": {
    "ExecuteTime": {
     "end_time": "2021-04-22T00:46:57.378915Z",
     "start_time": "2021-04-22T00:46:57.071162Z"
    },
    "id": "tT4N3qYviUJr"
   },
   "outputs": [],
   "source": [
    "import collections\n",
    "import gym\n",
    "import numpy as np\n",
    "import tensorflow as tf\n",
    "import tqdm\n",
    "\n",
    "from matplotlib import pyplot as plt\n",
    "from tensorflow.keras import layers\n",
    "\n",
    "env = gym.make(\"CartPole-v0\")\n",
    "\n",
    "seed = 42\n",
    "env.seed(seed)\n",
    "tf.random.set_seed(seed)\n",
    "np.random.seed(seed)\n",
    "\n",
    "eps = np.finfo(np.float32).eps.item()"
   ]
  },
  {
   "cell_type": "code",
   "execution_count": 4,
   "metadata": {
    "ExecuteTime": {
     "end_time": "2021-04-22T00:45:41.127466Z",
     "start_time": "2021-04-22T00:45:41.120484Z"
    }
   },
   "outputs": [],
   "source": [
    "import os\n",
    "import tensorflow as tf\n",
    "tf.config.set_visible_devices([], 'GPU')"
   ]
  },
  {
   "cell_type": "code",
   "execution_count": null,
   "metadata": {
    "ExecuteTime": {
     "end_time": "2021-04-22T00:44:29.942264Z",
     "start_time": "2021-04-22T00:44:29.914457Z"
    }
   },
   "outputs": [],
   "source": []
  },
  {
   "cell_type": "code",
   "execution_count": 8,
   "metadata": {
    "ExecuteTime": {
     "end_time": "2021-04-21T19:21:38.119849Z",
     "start_time": "2021-04-21T19:21:38.101399Z"
    }
   },
   "outputs": [
    {
     "name": "stdout",
     "output_type": "stream",
     "text": [
      "Observe\n",
      "Cart Position: -0.0126, Cart Velocity: -0.0016\n",
      "Stick Angle: 0.0421, Stick Turnover Ratio: -0.0018\n",
      "State\n",
      "Cart Position: -0.0126, Cart Velocity: -0.1973\n",
      "Stick Angle: 0.042, Stick Turnover Ratio: 0.3039\n",
      "Reward: 1.0, Done: False\n"
     ]
    }
   ],
   "source": [
    "observe = env.reset()\n",
    "state, reward, done, _ = env.step(0)\n",
    "print('Observe')\n",
    "print('Cart Position: {}, Cart Velocity: {}'.format(round(observe[0],4), round(observe[1],4)))\n",
    "print('Stick Angle: {}, Stick Turnover Ratio: {}'.format(round(observe[2],4), round(observe[3],4)))\n",
    "print('State')\n",
    "print('Cart Position: {}, Cart Velocity: {}'.format(round(state[0],4), round(state[1],4)))\n",
    "print('Stick Angle: {}, Stick Turnover Ratio: {}'.format(round(state[2],4), round(state[3],4)))\n",
    "print('Reward: {}, Done: {}'.format(reward, done))"
   ]
  },
  {
   "cell_type": "code",
   "execution_count": 34,
   "metadata": {
    "ExecuteTime": {
     "end_time": "2021-04-21T19:53:30.801162Z",
     "start_time": "2021-04-21T19:53:30.780215Z"
    }
   },
   "outputs": [
    {
     "data": {
      "text/plain": [
       "(1, (8000, 1))"
      ]
     },
     "execution_count": 34,
     "metadata": {},
     "output_type": "execute_result"
    }
   ],
   "source": [
    "box_x, box_y, box_z = 20,20,20\n",
    "state = []\n",
    "action_space = []\n",
    "for i in range(box_x):\n",
    "    state.append([])\n",
    "    for j in range(box_y):\n",
    "        state[i].append([])\n",
    "        for k in range(box_z):\n",
    "            state[i][j].append(0)\n",
    "            action_space.append([i,j,k])\n",
    "state[0][4][2] = 1\n",
    "state = np.array(state)\n",
    "state = state.reshape(-1, 1)\n",
    "np.sum(state), state.shape"
   ]
  },
  {
   "cell_type": "code",
   "execution_count": 18,
   "metadata": {
    "ExecuteTime": {
     "end_time": "2021-04-21T19:38:09.293101Z",
     "start_time": "2021-04-21T19:38:09.272129Z"
    }
   },
   "outputs": [],
   "source": [
    "class Env:\n",
    "    def __init__(self, box_x, box_y, box_z):\n",
    "        self.box_x, self.box_y, self.box_z = box_x, box_y, box_z\n",
    "        self.state = []\n",
    "        self.action_space = []\n",
    "        for i in range(box_x):\n",
    "            self.state.append([])\n",
    "            for j in range(box_y):\n",
    "                self.state[i].append([])\n",
    "                for k in range(box_z):\n",
    "                    self.state[i][j].append(0)\n",
    "                    self.action_space.append([i,j,k])\n",
    "        \n",
    "    def step(self, box, action):\n",
    "        size, pos = box\n",
    "        \n",
    "        \n",
    "        reward = sum(self.state) / 8000\n",
    "        return self.state, reward, done\n",
    "    \n",
    "    def masking(self, box):\n",
    "        size, pos = box\n",
    "        \n",
    "        possible_action_space = []\n",
    "        \n",
    "        possible_x = []\n",
    "        possible_y = []\n",
    "        possible_z = []\n",
    "        \n",
    "        possible_action_space = [possible_x, possible_y, possible_z]\n",
    "        \n",
    "        return possible_action_space\n",
    "    \n",
    "    def reset(self):\n",
    "        for i in range(len(self.state)):\n",
    "            for j in range(len(self.state[i])):\n",
    "                for k in range(len(self.state[i][j])):\n",
    "                    self.state[i][j][k] = True\n",
    "        \n",
    "        return self.state"
   ]
  },
  {
   "cell_type": "code",
   "execution_count": 19,
   "metadata": {
    "ExecuteTime": {
     "end_time": "2021-04-21T19:38:09.880619Z",
     "start_time": "2021-04-21T19:38:09.861768Z"
    }
   },
   "outputs": [],
   "source": [
    "env = Env(20,20,20)"
   ]
  },
  {
   "cell_type": "code",
   "execution_count": 5,
   "metadata": {
    "ExecuteTime": {
     "end_time": "2021-04-22T00:47:02.748478Z",
     "start_time": "2021-04-22T00:47:02.729533Z"
    },
    "id": "aXKbbMC-kmuv"
   },
   "outputs": [],
   "source": [
    "class ActorCritic(tf.keras.Model):\n",
    "    def __init__(self, num_actions, num_hidden_units):\n",
    "        super().__init__()\n",
    "        self.common = layers.Dense(num_hidden_units, activation=\"relu\")\n",
    "        self.actor = layers.Dense(num_actions)\n",
    "        self.critic = layers.Dense(1)\n",
    "        \n",
    "    def call(self, inputs):\n",
    "        x = self.common(inputs)\n",
    "        return self.actor(x), self.critic(x)"
   ]
  },
  {
   "cell_type": "code",
   "execution_count": 6,
   "metadata": {
    "ExecuteTime": {
     "end_time": "2021-04-22T00:47:02.944356Z",
     "start_time": "2021-04-22T00:47:02.926276Z"
    },
    "id": "nWyxJgjLn68c"
   },
   "outputs": [],
   "source": [
    "num_actions = env.action_space.n  # 2\n",
    "num_hidden_units = 128\n",
    "\n",
    "model = ActorCritic(num_actions, num_hidden_units)"
   ]
  },
  {
   "cell_type": "code",
   "execution_count": 7,
   "metadata": {
    "ExecuteTime": {
     "end_time": "2021-04-22T00:47:03.459676Z",
     "start_time": "2021-04-22T00:47:03.453725Z"
    },
    "id": "5URrbGlDSAGx"
   },
   "outputs": [],
   "source": [
    "def env_step(action):\n",
    "    state, reward, done, _ = env.step(action)\n",
    "    return (state.astype(np.float32), np.array(reward, np.int32), \n",
    "            np.array(done, np.int32))\n",
    "\n",
    "def tf_env_step(action):\n",
    "    return tf.numpy_function(env_step, [action], [tf.float32, tf.int32, tf.int32])"
   ]
  },
  {
   "cell_type": "code",
   "execution_count": 8,
   "metadata": {
    "ExecuteTime": {
     "end_time": "2021-04-22T00:47:03.670542Z",
     "start_time": "2021-04-22T00:47:03.661565Z"
    },
    "id": "a4qVRV063Cl9"
   },
   "outputs": [],
   "source": [
    "def run_episode(initial_state, model, max_steps):\n",
    "    action_probs = tf.TensorArray(dtype=tf.float32, size=0, dynamic_size=True)\n",
    "    values = tf.TensorArray(dtype=tf.float32, size=0, dynamic_size=True)\n",
    "    rewards = tf.TensorArray(dtype=tf.int32, size=0, dynamic_size=True)\n",
    "    \n",
    "    initial_state_shape = initial_state.shape\n",
    "    state = initial_state\n",
    "    \n",
    "    for t in range(max_steps):\n",
    "        state = tf.expand_dims(state, 0)\n",
    "        action_logits_t, value = model(state)\n",
    "        \n",
    "        action = tf.random.categorical(action_logits_t, 1)[0, 0]\n",
    "        action_probs_t = tf.nn.softmax(action_logits_t)\n",
    "\n",
    "        values = values.write(t, tf.squeeze(value))\n",
    "        action_probs = action_probs.write(t, action_probs_t[0, action])\n",
    "        \n",
    "        state, reward, done = tf_env_step(action)\n",
    "        \n",
    "        state.set_shape(initial_state_shape)\n",
    "        rewards = rewards.write(t, reward)\n",
    "        \n",
    "        if done.numpy() == 1:\n",
    "            break\n",
    "            \n",
    "    action_probs = action_probs.stack()\n",
    "    values = values.stack()\n",
    "    rewards = rewards.stack()\n",
    "\n",
    "    return action_probs, values, rewards"
   ]
  },
  {
   "cell_type": "code",
   "execution_count": 9,
   "metadata": {
    "ExecuteTime": {
     "end_time": "2021-04-22T00:47:03.942284Z",
     "start_time": "2021-04-22T00:47:03.932382Z"
    },
    "id": "jpEwFyl315dl"
   },
   "outputs": [],
   "source": [
    "def get_expected_return(rewards, gamma, standardize = True):\n",
    "    n = tf.shape(rewards)[0]\n",
    "    returns = tf.TensorArray(dtype=tf.float32, size=n)\n",
    "    \n",
    "    rewards = tf.cast(rewards[::-1], dtype=tf.float32)\n",
    "    discounted_sum = tf.constant(0.0)\n",
    "    discounted_sum_shape = discounted_sum.shape\n",
    "    \n",
    "    for i in tf.range(n):\n",
    "        reward = rewards[i]\n",
    "        discounted_sum = reward + gamma * discounted_sum\n",
    "        discounted_sum.set_shape(discounted_sum_shape)\n",
    "        returns = returns.write(i, discounted_sum)\n",
    "    returns = returns.stack()[::-1]\n",
    "    \n",
    "    if standardize:\n",
    "        returns = ((returns - tf.math.reduce_mean(returns)) /\n",
    "                   (tf.math.reduce_std(returns) + eps))\n",
    "\n",
    "    return returns"
   ]
  },
  {
   "cell_type": "code",
   "execution_count": 10,
   "metadata": {
    "ExecuteTime": {
     "end_time": "2021-04-22T00:47:04.183768Z",
     "start_time": "2021-04-22T00:47:04.176782Z"
    },
    "id": "9EXwbEez6n9m"
   },
   "outputs": [],
   "source": [
    "huber_loss = tf.keras.losses.Huber(reduction=tf.keras.losses.Reduction.SUM)\n",
    "\n",
    "def compute_loss(action_probs, values, returns):\n",
    "    advantage = returns - values\n",
    "    action_log_probs = tf.math.log(action_probs)\n",
    "    \n",
    "    actor_loss = -tf.math.reduce_sum(action_log_probs * advantage)\n",
    "    critic_loss = huber_loss(values, returns)\n",
    "\n",
    "    return actor_loss + critic_loss"
   ]
  },
  {
   "cell_type": "code",
   "execution_count": 11,
   "metadata": {
    "ExecuteTime": {
     "end_time": "2021-04-22T00:47:04.684331Z",
     "start_time": "2021-04-22T00:47:04.668525Z"
    },
    "id": "QoccrkF3IFCg"
   },
   "outputs": [],
   "source": [
    "optimizer = tf.keras.optimizers.Adam(learning_rate=0.01)\n",
    "\n",
    "def train_step(initial_state, model, optimizer, gamma, max_steps_per_episode):\n",
    "    with tf.GradientTape() as tape:\n",
    "        action_probs, values, rewards = run_episode(initial_state, model, max_steps_per_episode)\n",
    "        returns = get_expected_return(rewards, gamma)\n",
    "        \n",
    "        action_probs, values, returns = [tf.expand_dims(x, 1) for x in [action_probs, values, returns]] \n",
    "        \n",
    "        loss = compute_loss(action_probs, values, returns)\n",
    "    grads = tape.gradient(loss, model.trainable_variables)\n",
    "    optimizer.apply_gradients(zip(grads, model.trainable_variables))\n",
    "    episode_reward = tf.math.reduce_sum(rewards)\n",
    "\n",
    "    return episode_reward"
   ]
  },
  {
   "cell_type": "code",
   "execution_count": 36,
   "metadata": {
    "ExecuteTime": {
     "end_time": "2021-04-22T00:38:47.063920Z",
     "start_time": "2021-04-22T00:38:47.039175Z"
    }
   },
   "outputs": [
    {
     "ename": "AttributeError",
     "evalue": "module 'tensorflow' has no attribute 'ConfigProto'",
     "output_type": "error",
     "traceback": [
      "\u001b[1;31m---------------------------------------------------------------------------\u001b[0m",
      "\u001b[1;31mAttributeError\u001b[0m                            Traceback (most recent call last)",
      "\u001b[1;32m<ipython-input-36-f73da46626eb>\u001b[0m in \u001b[0;36m<module>\u001b[1;34m\u001b[0m\n\u001b[1;32m----> 1\u001b[1;33m config = tf.ConfigProto(\n\u001b[0m\u001b[0;32m      2\u001b[0m         \u001b[0mdevice_count\u001b[0m \u001b[1;33m=\u001b[0m \u001b[1;33m{\u001b[0m\u001b[1;34m'GPU'\u001b[0m\u001b[1;33m:\u001b[0m \u001b[1;36m0\u001b[0m\u001b[1;33m}\u001b[0m\u001b[1;33m\u001b[0m\u001b[1;33m\u001b[0m\u001b[0m\n\u001b[0;32m      3\u001b[0m     )\n",
      "\u001b[1;31mAttributeError\u001b[0m: module 'tensorflow' has no attribute 'ConfigProto'"
     ]
    }
   ],
   "source": [
    "config = tf.ConfigProto(\n",
    "        device_count = {'GPU': 0}\n",
    "    )"
   ]
  },
  {
   "cell_type": "code",
   "execution_count": 12,
   "metadata": {
    "ExecuteTime": {
     "end_time": "2021-04-22T01:44:07.890693Z",
     "start_time": "2021-04-22T00:47:06.921645Z"
    },
    "colab": {
     "base_uri": "https://localhost:8080/"
    },
    "id": "kbmBxnzLiUJx",
    "outputId": "deff3588-3e30-4d2a-ffe4-c6a7d5241053",
    "scrolled": true
   },
   "outputs": [
    {
     "name": "stderr",
     "output_type": "stream",
     "text": [
      "Episode 5035:  50%|███████████▌           | 5035/10000 [57:00<56:13,  1.47it/s, episode_reward=200, running_reward=195]"
     ]
    },
    {
     "name": "stdout",
     "output_type": "stream",
     "text": [
      "\n",
      "Solved at episode 5035: average reward: 195.02!\n",
      "Wall time: 57min\n"
     ]
    },
    {
     "name": "stderr",
     "output_type": "stream",
     "text": [
      "\n"
     ]
    }
   ],
   "source": [
    "%%time\n",
    "\n",
    "max_episodes = 10000\n",
    "max_steps_per_episode = 1000\n",
    "\n",
    "reward_threshold = 195\n",
    "running_reward = 0\n",
    "\n",
    "gamma = 0.99\n",
    "with tqdm.trange(max_episodes) as t:\n",
    "    for i in t:\n",
    "        initial_state = tf.constant(env.reset(), dtype=tf.float32)\n",
    "        episode_reward = int(train_step(initial_state, model, optimizer, gamma, max_steps_per_episode))\n",
    "\n",
    "        running_reward = episode_reward*0.01 + running_reward*.99\n",
    "\n",
    "        t.set_description(f'Episode {i}')\n",
    "        t.set_postfix(episode_reward=episode_reward, running_reward=running_reward)\n",
    "\n",
    "        if i % 10 == 0:\n",
    "            pass\n",
    "\n",
    "        if running_reward > reward_threshold:  \n",
    "            break\n",
    "\n",
    "print(f'\\nSolved at episode {i}: average reward: {running_reward:.2f}!')"
   ]
  },
  {
   "cell_type": "code",
   "execution_count": 13,
   "metadata": {
    "ExecuteTime": {
     "end_time": "2021-04-22T08:27:02.586451Z",
     "start_time": "2021-04-22T08:26:56.521920Z"
    }
   },
   "outputs": [
    {
     "name": "stderr",
     "output_type": "stream",
     "text": [
      "Episode 5:   0%|                          | 6/10000 [00:05<2:43:00,  1.02it/s, episode_reward=200, running_reward=11.7]\n"
     ]
    },
    {
     "ename": "KeyboardInterrupt",
     "evalue": "",
     "output_type": "error",
     "traceback": [
      "\u001b[1;31m---------------------------------------------------------------------------\u001b[0m",
      "\u001b[1;31mKeyboardInterrupt\u001b[0m                         Traceback (most recent call last)",
      "\u001b[1;32m<timed exec>\u001b[0m in \u001b[0;36m<module>\u001b[1;34m\u001b[0m\n",
      "\u001b[1;32m<ipython-input-11-54a7184313b2>\u001b[0m in \u001b[0;36mtrain_step\u001b[1;34m(initial_state, model, optimizer, gamma, max_steps_per_episode)\u001b[0m\n\u001b[0;32m      9\u001b[0m \u001b[1;33m\u001b[0m\u001b[0m\n\u001b[0;32m     10\u001b[0m         \u001b[0mloss\u001b[0m \u001b[1;33m=\u001b[0m \u001b[0mcompute_loss\u001b[0m\u001b[1;33m(\u001b[0m\u001b[0maction_probs\u001b[0m\u001b[1;33m,\u001b[0m \u001b[0mvalues\u001b[0m\u001b[1;33m,\u001b[0m \u001b[0mreturns\u001b[0m\u001b[1;33m)\u001b[0m\u001b[1;33m\u001b[0m\u001b[1;33m\u001b[0m\u001b[0m\n\u001b[1;32m---> 11\u001b[1;33m     \u001b[0mgrads\u001b[0m \u001b[1;33m=\u001b[0m \u001b[0mtape\u001b[0m\u001b[1;33m.\u001b[0m\u001b[0mgradient\u001b[0m\u001b[1;33m(\u001b[0m\u001b[0mloss\u001b[0m\u001b[1;33m,\u001b[0m \u001b[0mmodel\u001b[0m\u001b[1;33m.\u001b[0m\u001b[0mtrainable_variables\u001b[0m\u001b[1;33m)\u001b[0m\u001b[1;33m\u001b[0m\u001b[1;33m\u001b[0m\u001b[0m\n\u001b[0m\u001b[0;32m     12\u001b[0m     \u001b[0moptimizer\u001b[0m\u001b[1;33m.\u001b[0m\u001b[0mapply_gradients\u001b[0m\u001b[1;33m(\u001b[0m\u001b[0mzip\u001b[0m\u001b[1;33m(\u001b[0m\u001b[0mgrads\u001b[0m\u001b[1;33m,\u001b[0m \u001b[0mmodel\u001b[0m\u001b[1;33m.\u001b[0m\u001b[0mtrainable_variables\u001b[0m\u001b[1;33m)\u001b[0m\u001b[1;33m)\u001b[0m\u001b[1;33m\u001b[0m\u001b[1;33m\u001b[0m\u001b[0m\n\u001b[0;32m     13\u001b[0m     \u001b[0mepisode_reward\u001b[0m \u001b[1;33m=\u001b[0m \u001b[0mtf\u001b[0m\u001b[1;33m.\u001b[0m\u001b[0mmath\u001b[0m\u001b[1;33m.\u001b[0m\u001b[0mreduce_sum\u001b[0m\u001b[1;33m(\u001b[0m\u001b[0mrewards\u001b[0m\u001b[1;33m)\u001b[0m\u001b[1;33m\u001b[0m\u001b[1;33m\u001b[0m\u001b[0m\n",
      "\u001b[1;32m~\\anaconda3\\envs\\RL\\lib\\site-packages\\tensorflow\\python\\eager\\backprop.py\u001b[0m in \u001b[0;36mgradient\u001b[1;34m(self, target, sources, output_gradients, unconnected_gradients)\u001b[0m\n\u001b[0;32m   1084\u001b[0m         \u001b[0moutput_gradients\u001b[0m\u001b[1;33m=\u001b[0m\u001b[0moutput_gradients\u001b[0m\u001b[1;33m,\u001b[0m\u001b[1;33m\u001b[0m\u001b[1;33m\u001b[0m\u001b[0m\n\u001b[0;32m   1085\u001b[0m         \u001b[0msources_raw\u001b[0m\u001b[1;33m=\u001b[0m\u001b[0mflat_sources_raw\u001b[0m\u001b[1;33m,\u001b[0m\u001b[1;33m\u001b[0m\u001b[1;33m\u001b[0m\u001b[0m\n\u001b[1;32m-> 1086\u001b[1;33m         unconnected_gradients=unconnected_gradients)\n\u001b[0m\u001b[0;32m   1087\u001b[0m \u001b[1;33m\u001b[0m\u001b[0m\n\u001b[0;32m   1088\u001b[0m     \u001b[1;32mif\u001b[0m \u001b[1;32mnot\u001b[0m \u001b[0mself\u001b[0m\u001b[1;33m.\u001b[0m\u001b[0m_persistent\u001b[0m\u001b[1;33m:\u001b[0m\u001b[1;33m\u001b[0m\u001b[1;33m\u001b[0m\u001b[0m\n",
      "\u001b[1;32m~\\anaconda3\\envs\\RL\\lib\\site-packages\\tensorflow\\python\\eager\\imperative_grad.py\u001b[0m in \u001b[0;36mimperative_grad\u001b[1;34m(tape, target, sources, output_gradients, sources_raw, unconnected_gradients)\u001b[0m\n\u001b[0;32m     75\u001b[0m       \u001b[0moutput_gradients\u001b[0m\u001b[1;33m,\u001b[0m\u001b[1;33m\u001b[0m\u001b[1;33m\u001b[0m\u001b[0m\n\u001b[0;32m     76\u001b[0m       \u001b[0msources_raw\u001b[0m\u001b[1;33m,\u001b[0m\u001b[1;33m\u001b[0m\u001b[1;33m\u001b[0m\u001b[0m\n\u001b[1;32m---> 77\u001b[1;33m       compat.as_str(unconnected_gradients.value))\n\u001b[0m",
      "\u001b[1;32m~\\anaconda3\\envs\\RL\\lib\\site-packages\\tensorflow\\python\\eager\\backprop.py\u001b[0m in \u001b[0;36m_gradient_function\u001b[1;34m(op_name, attr_tuple, num_inputs, inputs, outputs, out_grads, skip_input_indices, forward_pass_name_scope)\u001b[0m\n\u001b[0;32m    160\u001b[0m       \u001b[0mgradient_name_scope\u001b[0m \u001b[1;33m+=\u001b[0m \u001b[0mforward_pass_name_scope\u001b[0m \u001b[1;33m+\u001b[0m \u001b[1;34m\"/\"\u001b[0m\u001b[1;33m\u001b[0m\u001b[1;33m\u001b[0m\u001b[0m\n\u001b[0;32m    161\u001b[0m     \u001b[1;32mwith\u001b[0m \u001b[0mops\u001b[0m\u001b[1;33m.\u001b[0m\u001b[0mname_scope\u001b[0m\u001b[1;33m(\u001b[0m\u001b[0mgradient_name_scope\u001b[0m\u001b[1;33m)\u001b[0m\u001b[1;33m:\u001b[0m\u001b[1;33m\u001b[0m\u001b[1;33m\u001b[0m\u001b[0m\n\u001b[1;32m--> 162\u001b[1;33m       \u001b[1;32mreturn\u001b[0m \u001b[0mgrad_fn\u001b[0m\u001b[1;33m(\u001b[0m\u001b[0mmock_op\u001b[0m\u001b[1;33m,\u001b[0m \u001b[1;33m*\u001b[0m\u001b[0mout_grads\u001b[0m\u001b[1;33m)\u001b[0m\u001b[1;33m\u001b[0m\u001b[1;33m\u001b[0m\u001b[0m\n\u001b[0m\u001b[0;32m    163\u001b[0m   \u001b[1;32melse\u001b[0m\u001b[1;33m:\u001b[0m\u001b[1;33m\u001b[0m\u001b[1;33m\u001b[0m\u001b[0m\n\u001b[0;32m    164\u001b[0m     \u001b[1;32mreturn\u001b[0m \u001b[0mgrad_fn\u001b[0m\u001b[1;33m(\u001b[0m\u001b[0mmock_op\u001b[0m\u001b[1;33m,\u001b[0m \u001b[1;33m*\u001b[0m\u001b[0mout_grads\u001b[0m\u001b[1;33m)\u001b[0m\u001b[1;33m\u001b[0m\u001b[1;33m\u001b[0m\u001b[0m\n",
      "\u001b[1;32m~\\anaconda3\\envs\\RL\\lib\\site-packages\\tensorflow\\python\\ops\\array_grad.py\u001b[0m in \u001b[0;36m_StridedSliceGrad\u001b[1;34m(op, grad)\u001b[0m\n\u001b[0;32m    272\u001b[0m   \u001b[1;31m# We could choose any of {begin|end|strides}.dtype since they are required to\u001b[0m\u001b[1;33m\u001b[0m\u001b[1;33m\u001b[0m\u001b[1;33m\u001b[0m\u001b[0m\n\u001b[0;32m    273\u001b[0m   \u001b[1;31m# be the same.\u001b[0m\u001b[1;33m\u001b[0m\u001b[1;33m\u001b[0m\u001b[1;33m\u001b[0m\u001b[0m\n\u001b[1;32m--> 274\u001b[1;33m   \u001b[0mx\u001b[0m \u001b[1;33m=\u001b[0m \u001b[0marray_ops\u001b[0m\u001b[1;33m.\u001b[0m\u001b[0mshape\u001b[0m\u001b[1;33m(\u001b[0m\u001b[0mop\u001b[0m\u001b[1;33m.\u001b[0m\u001b[0minputs\u001b[0m\u001b[1;33m[\u001b[0m\u001b[1;36m0\u001b[0m\u001b[1;33m]\u001b[0m\u001b[1;33m,\u001b[0m \u001b[0mout_type\u001b[0m\u001b[1;33m=\u001b[0m\u001b[0mbegin\u001b[0m\u001b[1;33m.\u001b[0m\u001b[0mdtype\u001b[0m\u001b[1;33m)\u001b[0m\u001b[1;33m\u001b[0m\u001b[1;33m\u001b[0m\u001b[0m\n\u001b[0m\u001b[0;32m    275\u001b[0m \u001b[1;33m\u001b[0m\u001b[0m\n\u001b[0;32m    276\u001b[0m   \u001b[0mx_static\u001b[0m \u001b[1;33m=\u001b[0m \u001b[0mtensor_util\u001b[0m\u001b[1;33m.\u001b[0m\u001b[0mconstant_value\u001b[0m\u001b[1;33m(\u001b[0m\u001b[0mx\u001b[0m\u001b[1;33m)\u001b[0m\u001b[1;33m\u001b[0m\u001b[1;33m\u001b[0m\u001b[0m\n",
      "\u001b[1;32m~\\anaconda3\\envs\\RL\\lib\\site-packages\\tensorflow\\python\\util\\dispatch.py\u001b[0m in \u001b[0;36mwrapper\u001b[1;34m(*args, **kwargs)\u001b[0m\n\u001b[0;32m    199\u001b[0m     \u001b[1;34m\"\"\"Call target, and fall back on dispatchers if there is a TypeError.\"\"\"\u001b[0m\u001b[1;33m\u001b[0m\u001b[1;33m\u001b[0m\u001b[0m\n\u001b[0;32m    200\u001b[0m     \u001b[1;32mtry\u001b[0m\u001b[1;33m:\u001b[0m\u001b[1;33m\u001b[0m\u001b[1;33m\u001b[0m\u001b[0m\n\u001b[1;32m--> 201\u001b[1;33m       \u001b[1;32mreturn\u001b[0m \u001b[0mtarget\u001b[0m\u001b[1;33m(\u001b[0m\u001b[1;33m*\u001b[0m\u001b[0margs\u001b[0m\u001b[1;33m,\u001b[0m \u001b[1;33m**\u001b[0m\u001b[0mkwargs\u001b[0m\u001b[1;33m)\u001b[0m\u001b[1;33m\u001b[0m\u001b[1;33m\u001b[0m\u001b[0m\n\u001b[0m\u001b[0;32m    202\u001b[0m     \u001b[1;32mexcept\u001b[0m \u001b[1;33m(\u001b[0m\u001b[0mTypeError\u001b[0m\u001b[1;33m,\u001b[0m \u001b[0mValueError\u001b[0m\u001b[1;33m)\u001b[0m\u001b[1;33m:\u001b[0m\u001b[1;33m\u001b[0m\u001b[1;33m\u001b[0m\u001b[0m\n\u001b[0;32m    203\u001b[0m       \u001b[1;31m# Note: convert_to_eager_tensor currently raises a ValueError, not a\u001b[0m\u001b[1;33m\u001b[0m\u001b[1;33m\u001b[0m\u001b[1;33m\u001b[0m\u001b[0m\n",
      "\u001b[1;32m~\\anaconda3\\envs\\RL\\lib\\site-packages\\tensorflow\\python\\ops\\array_ops.py\u001b[0m in \u001b[0;36mshape\u001b[1;34m(input, name, out_type)\u001b[0m\n\u001b[0;32m    647\u001b[0m     \u001b[0mA\u001b[0m\u001b[0;31m \u001b[0m\u001b[0;31m`\u001b[0m\u001b[0mTensor\u001b[0m\u001b[0;31m`\u001b[0m \u001b[0mof\u001b[0m \u001b[0mtype\u001b[0m\u001b[0;31m \u001b[0m\u001b[0;31m`\u001b[0m\u001b[0mout_type\u001b[0m\u001b[0;31m`\u001b[0m\u001b[1;33m.\u001b[0m\u001b[1;33m\u001b[0m\u001b[1;33m\u001b[0m\u001b[0m\n\u001b[0;32m    648\u001b[0m   \"\"\"\n\u001b[1;32m--> 649\u001b[1;33m   \u001b[1;32mreturn\u001b[0m \u001b[0mshape_internal\u001b[0m\u001b[1;33m(\u001b[0m\u001b[0minput\u001b[0m\u001b[1;33m,\u001b[0m \u001b[0mname\u001b[0m\u001b[1;33m,\u001b[0m \u001b[0moptimize\u001b[0m\u001b[1;33m=\u001b[0m\u001b[1;32mTrue\u001b[0m\u001b[1;33m,\u001b[0m \u001b[0mout_type\u001b[0m\u001b[1;33m=\u001b[0m\u001b[0mout_type\u001b[0m\u001b[1;33m)\u001b[0m\u001b[1;33m\u001b[0m\u001b[1;33m\u001b[0m\u001b[0m\n\u001b[0m\u001b[0;32m    650\u001b[0m \u001b[1;33m\u001b[0m\u001b[0m\n\u001b[0;32m    651\u001b[0m \u001b[1;33m\u001b[0m\u001b[0m\n",
      "\u001b[1;32m~\\anaconda3\\envs\\RL\\lib\\site-packages\\tensorflow\\python\\ops\\array_ops.py\u001b[0m in \u001b[0;36mshape_internal\u001b[1;34m(input, name, optimize, out_type)\u001b[0m\n\u001b[0;32m    675\u001b[0m         \u001b[1;32mif\u001b[0m \u001b[0moptimize\u001b[0m \u001b[1;32mand\u001b[0m \u001b[0minput_shape\u001b[0m\u001b[1;33m.\u001b[0m\u001b[0mis_fully_defined\u001b[0m\u001b[1;33m(\u001b[0m\u001b[1;33m)\u001b[0m\u001b[1;33m:\u001b[0m\u001b[1;33m\u001b[0m\u001b[1;33m\u001b[0m\u001b[0m\n\u001b[0;32m    676\u001b[0m           \u001b[1;32mreturn\u001b[0m \u001b[0mconstant\u001b[0m\u001b[1;33m(\u001b[0m\u001b[0minput_shape\u001b[0m\u001b[1;33m.\u001b[0m\u001b[0mas_list\u001b[0m\u001b[1;33m(\u001b[0m\u001b[1;33m)\u001b[0m\u001b[1;33m,\u001b[0m \u001b[0mout_type\u001b[0m\u001b[1;33m,\u001b[0m \u001b[0mname\u001b[0m\u001b[1;33m=\u001b[0m\u001b[0mname\u001b[0m\u001b[1;33m)\u001b[0m\u001b[1;33m\u001b[0m\u001b[1;33m\u001b[0m\u001b[0m\n\u001b[1;32m--> 677\u001b[1;33m       \u001b[1;32mreturn\u001b[0m \u001b[0mgen_array_ops\u001b[0m\u001b[1;33m.\u001b[0m\u001b[0mshape\u001b[0m\u001b[1;33m(\u001b[0m\u001b[0minput\u001b[0m\u001b[1;33m,\u001b[0m \u001b[0mname\u001b[0m\u001b[1;33m=\u001b[0m\u001b[0mname\u001b[0m\u001b[1;33m,\u001b[0m \u001b[0mout_type\u001b[0m\u001b[1;33m=\u001b[0m\u001b[0mout_type\u001b[0m\u001b[1;33m)\u001b[0m\u001b[1;33m\u001b[0m\u001b[1;33m\u001b[0m\u001b[0m\n\u001b[0m\u001b[0;32m    678\u001b[0m \u001b[1;33m\u001b[0m\u001b[0m\n\u001b[0;32m    679\u001b[0m \u001b[1;33m\u001b[0m\u001b[0m\n",
      "\u001b[1;32m~\\anaconda3\\envs\\RL\\lib\\site-packages\\tensorflow\\python\\ops\\gen_array_ops.py\u001b[0m in \u001b[0;36mshape\u001b[1;34m(input, out_type, name)\u001b[0m\n\u001b[0;32m   9155\u001b[0m     \u001b[1;32mtry\u001b[0m\u001b[1;33m:\u001b[0m\u001b[1;33m\u001b[0m\u001b[1;33m\u001b[0m\u001b[0m\n\u001b[0;32m   9156\u001b[0m       _result = pywrap_tfe.TFE_Py_FastPathExecute(\n\u001b[1;32m-> 9157\u001b[1;33m         _ctx, \"Shape\", name, input, \"out_type\", out_type)\n\u001b[0m\u001b[0;32m   9158\u001b[0m       \u001b[1;32mreturn\u001b[0m \u001b[0m_result\u001b[0m\u001b[1;33m\u001b[0m\u001b[1;33m\u001b[0m\u001b[0m\n\u001b[0;32m   9159\u001b[0m     \u001b[1;32mexcept\u001b[0m \u001b[0m_core\u001b[0m\u001b[1;33m.\u001b[0m\u001b[0m_NotOkStatusException\u001b[0m \u001b[1;32mas\u001b[0m \u001b[0me\u001b[0m\u001b[1;33m:\u001b[0m\u001b[1;33m\u001b[0m\u001b[1;33m\u001b[0m\u001b[0m\n",
      "\u001b[1;31mKeyboardInterrupt\u001b[0m: "
     ]
    }
   ],
   "source": [
    "%%time\n",
    "\n",
    "max_episodes = 10000\n",
    "max_steps_per_episode = 1000\n",
    "\n",
    "reward_threshold = 195\n",
    "running_reward = 0\n",
    "\n",
    "gamma = 0.99\n",
    "with tqdm.trange(max_episodes) as t:\n",
    "    for i in t:\n",
    "        initial_state = tf.constant(env.reset(), dtype=tf.float32)\n",
    "        episode_reward = int(train_step(initial_state, model, optimizer, gamma, max_steps_per_episode))\n",
    "\n",
    "        running_reward = episode_reward*0.01 + running_reward*.99\n",
    "\n",
    "        t.set_description(f'Episode {i}')\n",
    "        t.set_postfix(episode_reward=episode_reward, running_reward=running_reward)\n",
    "\n",
    "        if i % 10 == 0:\n",
    "            pass\n",
    "\n",
    "        if running_reward > reward_threshold:  \n",
    "            break\n",
    "\n",
    "print(f'\\nSolved at episode {i}: average reward: {running_reward:.2f}!')"
   ]
  },
  {
   "cell_type": "code",
   "execution_count": 10,
   "metadata": {
    "ExecuteTime": {
     "end_time": "2021-04-04T12:19:43.457987Z",
     "start_time": "2021-04-04T12:19:43.445990Z"
    }
   },
   "outputs": [],
   "source": [
    "from IPython import display as ipythondisplay\n",
    "from PIL import Image\n",
    "from pyvirtualdisplay import Display"
   ]
  },
  {
   "cell_type": "code",
   "execution_count": 21,
   "metadata": {
    "ExecuteTime": {
     "end_time": "2021-04-04T12:19:44.793385Z",
     "start_time": "2021-04-04T12:19:44.788400Z"
    }
   },
   "outputs": [],
   "source": [
    "def render_episode(env, model, max_steps): \n",
    "    screen = env.render(mode='rgb_array')\n",
    "    im = Image.fromarray(screen)\n",
    "\n",
    "    images = [im]\n",
    "    \n",
    "    state = tf.constant(env.reset(), dtype=tf.float32)\n",
    "    for i in range(1, max_steps + 1):\n",
    "        state = tf.expand_dims(state, 0)\n",
    "        action_probs, _ = model(state)\n",
    "        action = np.argmax(np.squeeze(action_probs))\n",
    "\n",
    "        state, _, done, _ = env.step(action)\n",
    "        state = tf.constant(state, dtype=tf.float32)\n",
    "\n",
    "        if i % 10 == 0:\n",
    "            screen = env.render(mode='rgb_array')\n",
    "            images.append(Image.fromarray(screen))\n",
    "            \n",
    "        if done:\n",
    "            break\n",
    "    return images"
   ]
  },
  {
   "cell_type": "code",
   "execution_count": 22,
   "metadata": {
    "ExecuteTime": {
     "end_time": "2021-04-04T12:19:44.855219Z",
     "start_time": "2021-04-04T12:19:44.794384Z"
    }
   },
   "outputs": [],
   "source": [
    "images = render_episode(env, model, max_steps_per_episode)\n",
    "image_file = 'cartpole-v0.gif'\n",
    "\n",
    "images[0].save(image_file, save_all=True, append_images=images[1:], loop=0, duration=1)"
   ]
  },
  {
   "cell_type": "code",
   "execution_count": 23,
   "metadata": {
    "ExecuteTime": {
     "end_time": "2021-04-04T12:19:44.863198Z",
     "start_time": "2021-04-04T12:19:44.857216Z"
    }
   },
   "outputs": [
    {
     "data": {
      "text/html": [
       "<img src=\"data:image/gif;base64,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\"/>"
      ],
      "text/plain": [
       "<IPython.core.display.HTML object>"
      ]
     },
     "execution_count": 23,
     "metadata": {},
     "output_type": "execute_result"
    }
   ],
   "source": [
    "import tensorflow_docs.vis.embed as embed\n",
    "embed.embed_file(image_file)"
   ]
  },
  {
   "cell_type": "code",
   "execution_count": null,
   "metadata": {},
   "outputs": [],
   "source": []
  }
 ],
 "metadata": {
  "colab": {
   "collapsed_sections": [
    "_jQ1tEQCxwRx"
   ],
   "name": "actor_critic.ipynb",
   "provenance": [],
   "toc_visible": true
  },
  "kernelspec": {
   "display_name": "RL",
   "language": "python",
   "name": "rl"
  },
  "language_info": {
   "codemirror_mode": {
    "name": "ipython",
    "version": 3
   },
   "file_extension": ".py",
   "mimetype": "text/x-python",
   "name": "python",
   "nbconvert_exporter": "python",
   "pygments_lexer": "ipython3",
   "version": "3.7.10"
  }
 },
 "nbformat": 4,
 "nbformat_minor": 1
}
