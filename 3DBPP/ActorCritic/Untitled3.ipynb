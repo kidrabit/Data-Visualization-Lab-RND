{
 "cells": [
  {
   "cell_type": "code",
   "execution_count": 1,
   "id": "11b970e4",
   "metadata": {
    "ExecuteTime": {
     "end_time": "2021-05-09T07:46:27.504211Z",
     "start_time": "2021-05-09T07:46:24.363936Z"
    }
   },
   "outputs": [],
   "source": [
    "import os\n",
    "import random\n",
    "import math\n",
    "import time\n",
    "import numpy as np\n",
    "import tensorflow as tf\n",
    "import matplotlib.pyplot as plt\n",
    "\n",
    "from collections import deque\n",
    "from tensorflow.keras.optimizers import Adam\n",
    "from tensorflow.keras import Sequential\n",
    "from tensorflow.keras.layers import Dense, Conv1D, MaxPooling1D, Flatten, concatenate, Conv2D, MaxPooling2D\n",
    "import tensorflow.keras.losses as kls\n",
    "#import tensorflow_probability as tfp\n",
    "\n",
    "from libs.utils import *\n",
    "from libs.generate_boxes import  *"
   ]
  },
  {
   "cell_type": "code",
   "execution_count": 6,
   "id": "ef42fbf7",
   "metadata": {
    "ExecuteTime": {
     "end_time": "2021-05-09T07:47:16.359805Z",
     "start_time": "2021-05-09T07:47:16.344845Z"
    }
   },
   "outputs": [],
   "source": [
    "class Actor(tf.keras.Model):\n",
    "    def __init__(self, state_size, selected_size, remain_size, output_size):\n",
    "        super(Actor, self).__init__()\n",
    "        \n",
    "        l1, b1, k1 = state_size\n",
    "        self.state_size = (l1*b1*k1,)\n",
    "        self.case_dnn1 = Dense(64, activation='relu', input_shape=self.state_size)\n",
    "        self.case_dnn2 = Dense(64, activation='relu')\n",
    "        \n",
    "        l2, b2, k2 = selected_size\n",
    "        self.selected_size = (l2*b2*k2,)\n",
    "        self.select_dnn1 = Dense(64, activation='relu', input_shape=self.selected_size)\n",
    "        self.select_dnn2 = Dense(64, activation='relu')\n",
    "        \n",
    "        l3, b3, k3 = remain_size\n",
    "        self.remain_size = (l3*b3*k3,)\n",
    "        self.remain_dnn1 = Dense(128, activation='relu', input_shape=self.remain_size)\n",
    "        self.remain_dnn2 = Dense(128, activation='relu')\n",
    "        \n",
    "        self.d1 = Dense(256, activation='relu')\n",
    "        self.d2 = Dense(256, activation='relu')\n",
    "        self.d3 = Dense(128, activation='relu')\n",
    "        self.out = Dense(output_size, activation='softmax')\n",
    "        \n",
    "    def call(self, cb_list):\n",
    "        c, s, r = cb_list[0], cb_list[1], cb_list[2]\n",
    "        c = tf.reshape(c, [-1, self.state_size[0]])\n",
    "        s = tf.reshape(s, [-1, self.selected_size[0]])\n",
    "        r = tf.reshape(r, [-1, self.remain_size[0]])\n",
    "        \n",
    "        c = self.case_dnn1(c)\n",
    "        c = self.case_dnn2(c)\n",
    "        \n",
    "        s = self.select_dnn1(s)\n",
    "        s = self.select_dnn2(s)\n",
    "        \n",
    "        r = self.remain_dnn1(r)\n",
    "        r = self.remain_dnn2(r)\n",
    "        \n",
    "        x = concatenate([c,s,r])\n",
    "        x = self.d1(x)\n",
    "        x = self.d2(x)\n",
    "        x = self.d3(x)\n",
    "        q = self.out(x)\n",
    "        return q"
   ]
  },
  {
   "cell_type": "code",
   "execution_count": 7,
   "id": "986bd8f2",
   "metadata": {
    "ExecuteTime": {
     "end_time": "2021-05-09T07:47:18.706204Z",
     "start_time": "2021-05-09T07:47:18.689253Z"
    }
   },
   "outputs": [],
   "source": [
    "class Critic(tf.keras.Model):\n",
    "    def __init__(self, state_size, selected_size, remain_size, output_size):\n",
    "        super(Critic, self).__init__()\n",
    "        \n",
    "        l1, b1, k1 = state_size\n",
    "        self.state_size = (l1*b1*k1,)\n",
    "        self.case_dnn1 = Dense(64, activation='relu', input_shape=self.state_size)\n",
    "        self.case_dnn2 = Dense(64, activation='relu')\n",
    "        \n",
    "        l2, b2, k2 = selected_size\n",
    "        self.selected_size = (l2*b2*k2,)\n",
    "        self.select_dnn1 = Dense(64, activation='relu', input_shape=self.selected_size)\n",
    "        self.select_dnn2 = Dense(64, activation='relu')\n",
    "        \n",
    "        l3, b3, k3 = remain_size\n",
    "        self.remain_size = (l3*b3*k3,)\n",
    "        self.remain_dnn1 = Dense(128, activation='relu', input_shape=self.remain_size)\n",
    "        self.remain_dnn2 = Dense(128, activation='relu')\n",
    "        \n",
    "        self.d1 = Dense(256, activation='relu')\n",
    "        self.d2 = Dense(256, activation='relu')\n",
    "        self.d3 = Dense(128, activation='relu')\n",
    "        self.out = Dense(output_size, activation='softmax')\n",
    "        \n",
    "    def call(self, cb_list):\n",
    "        c, s, r = cb_list[0], cb_list[1], cb_list[2]\n",
    "        c = tf.reshape(c, [-1, self.state_size[0]])\n",
    "        s = tf.reshape(s, [-1, self.selected_size[0]])\n",
    "        r = tf.reshape(r, [-1, self.remain_size[0]])\n",
    "        \n",
    "        c = self.case_dnn1(c)\n",
    "        c = self.case_dnn2(c)\n",
    "        \n",
    "        s = self.select_dnn1(s)\n",
    "        s = self.select_dnn2(s)\n",
    "        \n",
    "        r = self.remain_dnn1(r)\n",
    "        r = self.remain_dnn2(r)\n",
    "        \n",
    "        x = concatenate([c,s,r])\n",
    "        x = self.d1(x)\n",
    "        x = self.d2(x)\n",
    "        x = self.d3(x)\n",
    "        q = self.out(x)\n",
    "        return q"
   ]
  },
  {
   "cell_type": "code",
   "execution_count": 43,
   "id": "a223030a",
   "metadata": {
    "ExecuteTime": {
     "end_time": "2021-05-09T08:14:12.829235Z",
     "start_time": "2021-05-09T08:14:12.820265Z"
    }
   },
   "outputs": [],
   "source": [
    "N_MDD = 7\n",
    "K = 4\n",
    "n_candidates = 4"
   ]
  },
  {
   "cell_type": "code",
   "execution_count": 44,
   "id": "a4ff2658",
   "metadata": {
    "ExecuteTime": {
     "end_time": "2021-05-09T08:14:12.981081Z",
     "start_time": "2021-05-09T08:14:12.969113Z"
    }
   },
   "outputs": [],
   "source": [
    "boxes_multi1 = [np.array([[20, 20,  4],\n",
    "         [20,  4,  4],\n",
    "         [20,  4,  4],\n",
    "         [20,  4,  4],\n",
    "         [20,  4,  4],\n",
    "         [20,  4,  4],\n",
    "         [20, 20,  4],\n",
    "         [20, 20,  4],\n",
    "         [20, 20,  4]])]"
   ]
  },
  {
   "cell_type": "code",
   "execution_count": 87,
   "id": "fe13e290",
   "metadata": {
    "ExecuteTime": {
     "end_time": "2021-05-09T08:20:30.785151Z",
     "start_time": "2021-05-09T08:20:30.769227Z"
    }
   },
   "outputs": [
    {
     "name": "stdout",
     "output_type": "stream",
     "text": [
      "num_max_boxes 9 num_max_remain 9\n"
     ]
    }
   ],
   "source": [
    "num_max_boxes = len(boxes_multi1[0])\n",
    "num_max_remain = num_max_boxes\n",
    "print('num_max_boxes',num_max_boxes,'num_max_remain',num_max_remain)"
   ]
  },
  {
   "cell_type": "code",
   "execution_count": 88,
   "id": "419a17c8",
   "metadata": {
    "ExecuteTime": {
     "end_time": "2021-05-09T08:20:30.982752Z",
     "start_time": "2021-05-09T08:20:30.975771Z"
    }
   },
   "outputs": [],
   "source": [
    "env = Bpp3DEnv()"
   ]
  },
  {
   "cell_type": "code",
   "execution_count": 89,
   "id": "dbe8697d",
   "metadata": {
    "ExecuteTime": {
     "end_time": "2021-05-09T08:20:31.135466Z",
     "start_time": "2021-05-09T08:20:31.128512Z"
    }
   },
   "outputs": [],
   "source": [
    "state_size = (20, 20, 1)\n",
    "selected_size = (20, 20, 2)\n",
    "remain_size = (20, 20, num_max_remain)\n",
    "output_size = 1"
   ]
  },
  {
   "cell_type": "code",
   "execution_count": 90,
   "id": "c7aa73b7",
   "metadata": {
    "ExecuteTime": {
     "end_time": "2021-05-09T08:20:31.285170Z",
     "start_time": "2021-05-09T08:20:31.264227Z"
    }
   },
   "outputs": [],
   "source": [
    "actor = Actor(state_size, selected_size, remain_size, output_size)\n",
    "critic = Critic(state_size, selected_size, remain_size, output_size)"
   ]
  },
  {
   "cell_type": "code",
   "execution_count": 91,
   "id": "f6701fc1",
   "metadata": {
    "ExecuteTime": {
     "end_time": "2021-05-09T08:20:31.437218Z",
     "start_time": "2021-05-09T08:20:31.431262Z"
    }
   },
   "outputs": [],
   "source": [
    "actor_opt = Adam(1e-4)\n",
    "critic_opt = Adam(1e-4)"
   ]
  },
  {
   "cell_type": "code",
   "execution_count": 92,
   "id": "2d9e60ed",
   "metadata": {
    "ExecuteTime": {
     "end_time": "2021-05-09T08:20:31.589066Z",
     "start_time": "2021-05-09T08:20:31.576103Z"
    }
   },
   "outputs": [],
   "source": [
    "avg_actor_loss, avg_critic_loss = 0, 0"
   ]
  },
  {
   "cell_type": "code",
   "execution_count": 93,
   "id": "9b92169f",
   "metadata": {
    "ExecuteTime": {
     "end_time": "2021-05-09T08:20:31.756136Z",
     "start_time": "2021-05-09T08:20:31.745130Z"
    }
   },
   "outputs": [],
   "source": [
    "env.reset()\n",
    "done = False\n",
    "step = 0"
   ]
  },
  {
   "cell_type": "code",
   "execution_count": 94,
   "id": "dbe0cd2a",
   "metadata": {
    "ExecuteTime": {
     "end_time": "2021-05-09T08:20:31.891676Z",
     "start_time": "2021-05-09T08:20:31.881702Z"
    }
   },
   "outputs": [],
   "source": [
    "history, h_load, h_remain_size, h_load_size = [],[],[],[]\n",
    "next_history, next_load, next_remain_size, next_load_size = [],[],[],[]\n",
    "used_boxes, pred_pos = [],[]\n",
    "rewards, values, prob_l, dones = [], [], [], []"
   ]
  },
  {
   "cell_type": "code",
   "execution_count": 95,
   "id": "f4a43525",
   "metadata": {
    "ExecuteTime": {
     "end_time": "2021-05-09T08:20:32.763663Z",
     "start_time": "2021-05-09T08:20:32.744715Z"
    }
   },
   "outputs": [
    {
     "data": {
      "text/plain": [
       "(numpy.ndarray,\n",
       " array([[20, 20,  4],\n",
       "        [20,  4,  4],\n",
       "        [20,  4,  4],\n",
       "        [20,  4,  4],\n",
       "        [20,  4,  4],\n",
       "        [20,  4,  4],\n",
       "        [20, 20,  4],\n",
       "        [20, 20,  4],\n",
       "        [20, 20,  4]]),\n",
       " (9, 3))"
      ]
     },
     "execution_count": 95,
     "metadata": {},
     "output_type": "execute_result"
    }
   ],
   "source": [
    "boxes_all = np.array(boxes_multi1[0]).copy()\n",
    "r_boxes = boxes_all.copy()\n",
    "type(r_boxes), r_boxes, r_boxes.shape"
   ]
  },
  {
   "cell_type": "code",
   "execution_count": 96,
   "id": "b3b6ba49",
   "metadata": {
    "ExecuteTime": {
     "end_time": "2021-05-09T08:20:33.786163Z",
     "start_time": "2021-05-09T08:20:32.936067Z"
    }
   },
   "outputs": [],
   "source": [
    "while not done:\n",
    "    state = env.container.copy()\n",
    "    state_h = env.update_h().copy()\n",
    "    step += 1\n",
    "    \n",
    "    k = min(K, len(r_boxes))\n",
    "    selected = cbn_select_boxes(r_boxes[:n_candidates], k)\n",
    "    s_order = get_selected_order(selected, k)\n",
    "    s_loc_c, num_loaded_box_c, loading_size_c, loading_pos_c, next_cube_c , next_state_c = get_selected_location(s_order, state) \n",
    "    loaded_mh_c = np.array([get_loaded_mh(s_loc, env.length, env.breadth, env.height) for s_loc in s_loc_c] ) # 3D -> 2D\n",
    "    in_state, in_r_boxes, in_loading = raw2input(state_h, len(s_loc_c), r_boxes, num_max_remain, K, loading_size_c, env.height)\n",
    "\n",
    "    s_order, s_loc_c, num_loaded_box_c, loading_size_c, loading_pos_c, next_cube_c , next_state_c, loaded_mh_c, in_state, in_r_boxes, in_loading =\\\n",
    "        get_unique(s_order, s_loc_c, num_loaded_box_c, loading_size_c, loading_pos_c, next_cube_c , next_state_c, loaded_mh_c, in_state, in_r_boxes, in_loading)\n",
    "    \n",
    "    if len(s_loc_c) == 1:\n",
    "        action_idx = 0\n",
    "    else:\n",
    "        probs = actor([in_state, loaded_mh_c, in_r_boxes])\n",
    "        argmax_idx = np.where(probs == tf.math.reduce_max(probs))\n",
    "        action_idx = argmax_idx[0][0]\n",
    "        prob_l.append(probs[action_idx])\n",
    "\n",
    "        value = critic([in_state, loaded_mh_c, in_r_boxes])\n",
    "        argmax_idx = np.where(value == tf.math.reduce_max(value))\n",
    "        value = argmax_idx[0][0]\n",
    "        values.append(value)\n",
    "        \n",
    "    env.convert_state(next_cube_c[action_idx]) \n",
    "    num_loaded_box = num_loaded_box_c[action_idx]\n",
    "    if num_loaded_box != 0:\n",
    "        new_used_boxes = loading_size_c[action_idx]\n",
    "        r_boxes = get_remain(new_used_boxes, r_boxes)\n",
    "    else:\n",
    "        r_boxes = get_remain(s_order[action_idx], r_boxes)\n",
    "    used_boxes = used_boxes + loading_size_c[action_idx]\n",
    "    pred_pos = pred_pos + loading_pos_c[action_idx]  \n",
    "    if len(r_boxes) == 0 or np.sum(env.container_h != env.height) == 0:\n",
    "        done = True\n",
    "    dones.append(done)\n",
    "        \n",
    "    if len(s_loc_c) != 1 or done:\n",
    "        history.append(in_state[action_idx])\n",
    "        h_load.append(loaded_mh_c[action_idx])\n",
    "        h_remain_size.append(in_r_boxes[action_idx])\n",
    "        h_load_size.append(in_loading[action_idx])\n",
    "\n",
    "        next_state = env.container.copy()\n",
    "        next_state_h = env.container_h.copy() \n",
    "        if done:\n",
    "            in_next_history = next_state_h.reshape((1, env.length, env.breadth, 1))\n",
    "            loaded_mh_c = np.zeros((1, env.length, env.breadth, 2))\n",
    "            in_next_remains = np.zeros((1, env.length, env.breadth, num_max_remain))\n",
    "            in_next_loading = np.zeros((1, env.length, env.breadth, K))\n",
    "        else:\n",
    "            k = min(K, len(r_boxes))\n",
    "            selected = cbn_select_boxes(r_boxes[:n_candidates], k)\n",
    "            s_order = get_selected_order(selected, k)\n",
    "            s_loc_c, num_loaded_box_c, loading_size_c, loading_pos_c, next_cube_c , next_state_c  =\\\n",
    "                get_selected_location(s_order, next_state)\n",
    "            loaded_mh_c = np.array( [get_loaded_mh(s_loc, env.length, env.breadth, env.height) for s_loc in s_loc_c] )\n",
    "            in_next_history, in_next_remains, in_next_loading =\\\n",
    "                raw2input(next_state_h, len(s_loc_c), r_boxes, num_max_remain,  K, loading_size_c, env.height)\n",
    "\n",
    "        s_order, s_loc_c, num_loaded_box_c, loading_size_c, loading_pos_c, next_cube_c , next_state_c, loaded_mh_c, in_next_history, in_next_remains, in_next_loading =\\\n",
    "            get_unique(s_order, s_loc_c, num_loaded_box_c, loading_size_c, loading_pos_c, next_cube_c , next_state_c, loaded_mh_c, in_next_history, in_next_remains, in_next_loading)\n",
    "\n",
    "        next_history.append(in_next_history)\n",
    "        next_load.append(loaded_mh_c)\n",
    "        next_remain_size.append(in_next_remains)\n",
    "        next_load_size.append(in_next_loading)"
   ]
  },
  {
   "cell_type": "code",
   "execution_count": 104,
   "id": "fdaff413",
   "metadata": {
    "ExecuteTime": {
     "end_time": "2021-05-09T08:23:16.566368Z",
     "start_time": "2021-05-09T08:23:16.553402Z"
    }
   },
   "outputs": [
    {
     "data": {
      "text/plain": [
       "[0.792, 0.8]"
      ]
     },
     "execution_count": 104,
     "metadata": {},
     "output_type": "execute_result"
    }
   ],
   "source": [
    "if done:\n",
    "    N = len(history)\n",
    "    for i in range(N):\n",
    "        reward = (0.99 ** (N-i-1)) * env.terminal_reward()\n",
    "        rewards.append(reward)\n",
    "rewards"
   ]
  },
  {
   "cell_type": "code",
   "execution_count": 98,
   "id": "ebb028d3",
   "metadata": {
    "ExecuteTime": {
     "end_time": "2021-05-09T08:22:39.989305Z",
     "start_time": "2021-05-09T08:22:39.976339Z"
    }
   },
   "outputs": [],
   "source": [
    "next_value = critic([in_next_history, loaded_mh_c, in_next_remains])\n",
    "argmax_idx = np.where(next_value == tf.math.reduce_max(next_value))\n",
    "next_value = argmax_idx[0][0]\n",
    "values.append(next_value)"
   ]
  },
  {
   "cell_type": "code",
   "execution_count": 101,
   "id": "72eea71a",
   "metadata": {
    "ExecuteTime": {
     "end_time": "2021-05-09T08:23:05.283925Z",
     "start_time": "2021-05-09T08:23:05.272922Z"
    }
   },
   "outputs": [],
   "source": [
    "g = 0\n",
    "lmbda = 0.95\n",
    "gamma = 0.99\n",
    "returns = []"
   ]
  },
  {
   "cell_type": "code",
   "execution_count": 108,
   "id": "76db74bd",
   "metadata": {
    "ExecuteTime": {
     "end_time": "2021-05-09T08:23:25.566592Z",
     "start_time": "2021-05-09T08:23:25.553627Z"
    }
   },
   "outputs": [
    {
     "name": "stdout",
     "output_type": "stream",
     "text": [
      "0.8 0.8 0.8\n",
      "0.792 0.792 0.792\n"
     ]
    }
   ],
   "source": [
    "for i in reversed(range(len(rewards))):\n",
    "    delta = rewards[i] + gamma * values[i + 1] * dones[i] - values[i]\n",
    "    g = delta + gamma * lmbda * dones[i] * g\n",
    "    print(delta, g, g+values[i])\n",
    "    returns.append(g + values[i])"
   ]
  },
  {
   "cell_type": "code",
   "execution_count": 109,
   "id": "a94c6c6e",
   "metadata": {
    "ExecuteTime": {
     "end_time": "2021-05-09T08:23:38.254244Z",
     "start_time": "2021-05-09T08:23:38.248261Z"
    }
   },
   "outputs": [],
   "source": [
    "returns.reverse()"
   ]
  },
  {
   "cell_type": "code",
   "execution_count": 110,
   "id": "178a4cfe",
   "metadata": {
    "ExecuteTime": {
     "end_time": "2021-05-09T08:23:47.425256Z",
     "start_time": "2021-05-09T08:23:47.408301Z"
    }
   },
   "outputs": [
    {
     "data": {
      "text/plain": [
       "array([-0.99999998,  0.99999998])"
      ]
     },
     "execution_count": 110,
     "metadata": {},
     "output_type": "execute_result"
    }
   ],
   "source": [
    "adv = np.array(returns, dtype=np.float32) - values[:-1]\n",
    "adv = (adv - np.mean(adv)) / (np.std(adv) + 1e-10)\n",
    "adv"
   ]
  },
  {
   "cell_type": "code",
   "execution_count": 114,
   "id": "0ac7c151",
   "metadata": {
    "ExecuteTime": {
     "end_time": "2021-05-09T08:24:54.111456Z",
     "start_time": "2021-05-09T08:24:54.105482Z"
    }
   },
   "outputs": [
    {
     "data": {
      "text/plain": [
       "[<tf.Tensor: shape=(1,), dtype=float32, numpy=array([1.], dtype=float32)>,\n",
       " <tf.Tensor: shape=(1,), dtype=float32, numpy=array([1.], dtype=float32)>]"
      ]
     },
     "execution_count": 114,
     "metadata": {},
     "output_type": "execute_result"
    }
   ],
   "source": [
    "prob_l"
   ]
  },
  {
   "cell_type": "code",
   "execution_count": 115,
   "id": "cbe4538d",
   "metadata": {
    "ExecuteTime": {
     "end_time": "2021-05-09T08:25:14.779981Z",
     "start_time": "2021-05-09T08:25:14.770045Z"
    }
   },
   "outputs": [
    {
     "data": {
      "text/plain": [
       "[<tf.Tensor: shape=(1,), dtype=float32, numpy=array([1.], dtype=float32)>,\n",
       " <tf.Tensor: shape=(1,), dtype=float32, numpy=array([1.], dtype=float32)>]"
      ]
     },
     "execution_count": 115,
     "metadata": {},
     "output_type": "execute_result"
    }
   ],
   "source": [
    "np.reshape(prob_l, (len(prob_l), 1))\n",
    "prob_l"
   ]
  },
  {
   "cell_type": "code",
   "execution_count": 116,
   "id": "c523d1d5",
   "metadata": {
    "ExecuteTime": {
     "end_time": "2021-05-09T08:25:44.748094Z",
     "start_time": "2021-05-09T08:25:44.737116Z"
    }
   },
   "outputs": [
    {
     "data": {
      "text/plain": [
       "array([[1.],\n",
       "       [1.]], dtype=float32)"
      ]
     },
     "execution_count": 116,
     "metadata": {},
     "output_type": "execute_result"
    }
   ],
   "source": [
    "probs = np.stack(prob_l, axis=0)\n",
    "probs"
   ]
  },
  {
   "cell_type": "code",
   "execution_count": 117,
   "id": "3ce8af4f",
   "metadata": {
    "ExecuteTime": {
     "end_time": "2021-05-09T08:26:13.182517Z",
     "start_time": "2021-05-09T08:26:11.624684Z"
    }
   },
   "outputs": [
    {
     "data": {
      "text/plain": [
       "<tf.Tensor: shape=(2,), dtype=float64, numpy=array([0.792, 0.8  ])>"
      ]
     },
     "execution_count": 117,
     "metadata": {},
     "output_type": "execute_result"
    }
   ],
   "source": [
    "discnt_rewards = tf.reshape(returns, (len(returns),))\n",
    "discnt_rewards"
   ]
  },
  {
   "cell_type": "code",
   "execution_count": 118,
   "id": "691bba1a",
   "metadata": {
    "ExecuteTime": {
     "end_time": "2021-05-09T08:26:28.279486Z",
     "start_time": "2021-05-09T08:26:28.265523Z"
    }
   },
   "outputs": [
    {
     "data": {
      "text/plain": [
       "<tf.Tensor: shape=(2,), dtype=float64, numpy=array([-0.99999998,  0.99999998])>"
      ]
     },
     "execution_count": 118,
     "metadata": {},
     "output_type": "execute_result"
    }
   ],
   "source": [
    "adv  = tf.reshape(adv, (len(adv),))\n",
    "adv"
   ]
  },
  {
   "cell_type": "code",
   "execution_count": 119,
   "id": "c85efb16",
   "metadata": {
    "ExecuteTime": {
     "end_time": "2021-05-09T08:26:50.037844Z",
     "start_time": "2021-05-09T08:26:50.013906Z"
    }
   },
   "outputs": [
    {
     "data": {
      "text/plain": [
       "<tf.Tensor: shape=(2, 1), dtype=float32, numpy=\n",
       "array([[1.],\n",
       "       [1.]], dtype=float32)>"
      ]
     },
     "execution_count": 119,
     "metadata": {},
     "output_type": "execute_result"
    }
   ],
   "source": [
    "old_p = probs\n",
    "old_p = tf.reshape(old_p, (len(old_p),1))\n",
    "old_p"
   ]
  },
  {
   "cell_type": "code",
   "execution_count": 141,
   "id": "fda3743e",
   "metadata": {
    "ExecuteTime": {
     "end_time": "2021-05-09T08:33:59.086124Z",
     "start_time": "2021-05-09T08:33:59.074156Z"
    }
   },
   "outputs": [],
   "source": [
    "def actor_loss(p, adv, old_p, c_loss):\n",
    "    probability = p\n",
    "    entropy = tf.reduce_mean(tf.math.negative(tf.math.multiply(probability, tf.math.log(probability))))\n",
    "    sur1, sur2 = [], []\n",
    "    \n",
    "    for pb, t, op in zip(probability, adv, old_p):\n",
    "        t = tf.constant(t)\n",
    "        op = tf.constant(op)\n",
    "        ratio = tf.math.divide(pb, op)\n",
    "        t = tf.cast(t, dtype='float32')\n",
    "        s1 = tf.math.multiply(ratio, t)\n",
    "        s2 = tf.math.multiply(tf.clip_by_value(ratio, 1.0-0.2, 1.0 + 0.2), t)\n",
    "        sur1.append(s1)\n",
    "        sur2.append(s2)\n",
    "    sr1 = tf.stack(sur1)\n",
    "    sr2 = tf.stack(sur2)\n",
    "    loss = tf.math.negative(tf.reduce_mean(tf.math.minimum(sr1, sr2)) - c_loss + 0.001 * entropy)\n",
    "    return loss"
   ]
  },
  {
   "cell_type": "code",
   "execution_count": 142,
   "id": "db7622e5",
   "metadata": {
    "ExecuteTime": {
     "end_time": "2021-05-09T08:34:01.644749Z",
     "start_time": "2021-05-09T08:34:01.610839Z"
    }
   },
   "outputs": [],
   "source": [
    "with tf.GradientTape() as tape1, tf.GradientTape() as tape2:\n",
    "    p = actor([history, h_load, h_remain_size])\n",
    "    v = critic([history, h_load, h_remain_size])\n",
    "    v = tf.reshape(v, (len(v),))\n",
    "    c_loss = 0.5 * kls.mean_squared_error(discnt_rewards, v)\n",
    "    a_loss = actor_loss(p, adv, old_p, c_loss)"
   ]
  },
  {
   "cell_type": "code",
   "execution_count": null,
   "id": "eb5dea12",
   "metadata": {},
   "outputs": [],
   "source": []
  },
  {
   "cell_type": "code",
   "execution_count": null,
   "id": "73cd49ee",
   "metadata": {},
   "outputs": [],
   "source": []
  },
  {
   "cell_type": "code",
   "execution_count": null,
   "id": "9597f78f",
   "metadata": {},
   "outputs": [],
   "source": []
  },
  {
   "cell_type": "code",
   "execution_count": null,
   "id": "d9a9559a",
   "metadata": {},
   "outputs": [],
   "source": []
  },
  {
   "cell_type": "code",
   "execution_count": null,
   "id": "3b0813fb",
   "metadata": {},
   "outputs": [],
   "source": [
    "next_history[i], next_load[i], next_remain_size[i]"
   ]
  },
  {
   "cell_type": "code",
   "execution_count": 83,
   "id": "ddda551f",
   "metadata": {
    "ExecuteTime": {
     "end_time": "2021-05-09T08:20:07.960556Z",
     "start_time": "2021-05-09T08:20:07.944629Z"
    }
   },
   "outputs": [],
   "source": [
    "state = env.container.copy()\n",
    "state_h = env.update_h().copy()"
   ]
  },
  {
   "cell_type": "code",
   "execution_count": null,
   "id": "7c6348e6",
   "metadata": {},
   "outputs": [],
   "source": []
  },
  {
   "cell_type": "code",
   "execution_count": null,
   "id": "42902afb",
   "metadata": {},
   "outputs": [],
   "source": [
    "in_state, in_r_boxes, in_loading = raw2input(state_h, len(s_loc_c), r_boxes, num_max_remain, K, loading_size_c, env.height)"
   ]
  },
  {
   "cell_type": "code",
   "execution_count": null,
   "id": "c68c0453",
   "metadata": {},
   "outputs": [],
   "source": []
  },
  {
   "cell_type": "code",
   "execution_count": 18,
   "id": "dbf50c9f",
   "metadata": {
    "ExecuteTime": {
     "end_time": "2021-05-09T07:50:37.037909Z",
     "start_time": "2021-05-09T07:50:37.024944Z"
    }
   },
   "outputs": [
    {
     "data": {
      "text/plain": [
       "(numpy.ndarray, numpy.ndarray, (20, 20, 20), (20, 20))"
      ]
     },
     "execution_count": 18,
     "metadata": {},
     "output_type": "execute_result"
    }
   ],
   "source": [
    "state = env.container.copy()\n",
    "state_h = env.update_h().copy()\n",
    "type(state), type(state_h), state.shape, state_h.shape"
   ]
  },
  {
   "cell_type": "code",
   "execution_count": 19,
   "id": "ba635076",
   "metadata": {
    "ExecuteTime": {
     "end_time": "2021-05-09T07:50:50.952241Z",
     "start_time": "2021-05-09T07:50:50.760663Z"
    }
   },
   "outputs": [],
   "source": [
    "k = min(K, len(r_boxes))\n",
    "selected = cbn_select_boxes(r_boxes[:n_candidates], k)\n",
    "s_order = get_selected_order(selected, k)\n",
    "s_loc_c, num_loaded_box_c, loading_size_c, loading_pos_c, next_cube_c , next_state_c = get_selected_location(s_order, state) \n",
    "loaded_mh_c = np.array([get_loaded_mh(s_loc, env.length, env.breadth, env.height) for s_loc in s_loc_c] ) # 3D -> 2D\n",
    "in_state, in_r_boxes, in_loading = raw2input(state_h, len(s_loc_c), r_boxes, num_max_remain, K, loading_size_c, env.height)\n",
    "\n",
    "s_order, s_loc_c, num_loaded_box_c, loading_size_c, loading_pos_c, next_cube_c , next_state_c, loaded_mh_c, in_state, in_r_boxes, in_loading =\\\n",
    "    get_unique(s_order, s_loc_c, num_loaded_box_c, loading_size_c, loading_pos_c, next_cube_c , next_state_c, loaded_mh_c, in_state, in_r_boxes, in_loading)"
   ]
  },
  {
   "cell_type": "code",
   "execution_count": 21,
   "id": "d08d91e3",
   "metadata": {
    "ExecuteTime": {
     "end_time": "2021-05-09T07:51:43.681729Z",
     "start_time": "2021-05-09T07:51:43.664775Z"
    }
   },
   "outputs": [
    {
     "data": {
      "text/plain": [
       "4"
      ]
     },
     "execution_count": 21,
     "metadata": {},
     "output_type": "execute_result"
    }
   ],
   "source": [
    "len(s_loc_c)"
   ]
  },
  {
   "cell_type": "code",
   "execution_count": 23,
   "id": "2fca725f",
   "metadata": {
    "ExecuteTime": {
     "end_time": "2021-05-09T07:52:14.885056Z",
     "start_time": "2021-05-09T07:52:14.304475Z"
    }
   },
   "outputs": [
    {
     "data": {
      "text/plain": [
       "<tf.Tensor: shape=(4, 1), dtype=float32, numpy=\n",
       "array([[1.],\n",
       "       [1.],\n",
       "       [1.],\n",
       "       [1.]], dtype=float32)>"
      ]
     },
     "execution_count": 23,
     "metadata": {},
     "output_type": "execute_result"
    }
   ],
   "source": [
    "probs = actor([in_state, loaded_mh_c, in_r_boxes])\n",
    "probs"
   ]
  },
  {
   "cell_type": "code",
   "execution_count": 25,
   "id": "fa1f14b6",
   "metadata": {
    "ExecuteTime": {
     "end_time": "2021-05-09T07:52:44.309444Z",
     "start_time": "2021-05-09T07:52:44.273068Z"
    }
   },
   "outputs": [
    {
     "data": {
      "text/plain": [
       "(array([0, 1, 2, 3], dtype=int64), array([0, 0, 0, 0], dtype=int64))"
      ]
     },
     "execution_count": 25,
     "metadata": {},
     "output_type": "execute_result"
    }
   ],
   "source": [
    "argmax_idx = np.where(probs == tf.math.reduce_max(probs))\n",
    "argmax_idx"
   ]
  },
  {
   "cell_type": "code",
   "execution_count": 26,
   "id": "bec1d798",
   "metadata": {
    "ExecuteTime": {
     "end_time": "2021-05-09T07:52:53.812375Z",
     "start_time": "2021-05-09T07:52:53.800406Z"
    }
   },
   "outputs": [
    {
     "data": {
      "text/plain": [
       "0"
      ]
     },
     "execution_count": 26,
     "metadata": {},
     "output_type": "execute_result"
    }
   ],
   "source": [
    "action_idx = argmax_idx[0][0]\n",
    "action_idx"
   ]
  },
  {
   "cell_type": "code",
   "execution_count": 28,
   "id": "ea23a4be",
   "metadata": {
    "ExecuteTime": {
     "end_time": "2021-05-09T07:53:21.607753Z",
     "start_time": "2021-05-09T07:53:21.568855Z"
    }
   },
   "outputs": [
    {
     "data": {
      "text/plain": [
       "0"
      ]
     },
     "execution_count": 28,
     "metadata": {},
     "output_type": "execute_result"
    }
   ],
   "source": [
    "value = critic([in_state, loaded_mh_c, in_r_boxes])\n",
    "argmax_idx = np.where(value == tf.math.reduce_max(value))\n",
    "value = argmax_idx[0][0]\n",
    "value"
   ]
  },
  {
   "cell_type": "markdown",
   "id": "ec51e3a4",
   "metadata": {},
   "source": [
    "### probs"
   ]
  },
  {
   "cell_type": "code",
   "execution_count": 32,
   "id": "bfbaa62a",
   "metadata": {
    "ExecuteTime": {
     "end_time": "2021-05-09T08:06:34.778167Z",
     "start_time": "2021-05-09T08:06:34.769191Z"
    }
   },
   "outputs": [],
   "source": [
    "probs = probs[action_idx]"
   ]
  },
  {
   "cell_type": "code",
   "execution_count": 33,
   "id": "9b3e6553",
   "metadata": {
    "ExecuteTime": {
     "end_time": "2021-05-09T08:06:46.237167Z",
     "start_time": "2021-05-09T08:06:46.233174Z"
    }
   },
   "outputs": [],
   "source": [
    "probs_l = []\n",
    "probs_l.append(probs)"
   ]
  },
  {
   "cell_type": "code",
   "execution_count": 34,
   "id": "f70dad76",
   "metadata": {
    "ExecuteTime": {
     "end_time": "2021-05-09T08:07:18.270138Z",
     "start_time": "2021-05-09T08:07:18.265152Z"
    }
   },
   "outputs": [],
   "source": [
    "values = []\n",
    "values.append(value)"
   ]
  },
  {
   "cell_type": "code",
   "execution_count": 35,
   "id": "150dc025",
   "metadata": {
    "ExecuteTime": {
     "end_time": "2021-05-09T08:07:34.465151Z",
     "start_time": "2021-05-09T08:07:34.448195Z"
    }
   },
   "outputs": [],
   "source": [
    "env.convert_state(next_cube_c[action_idx]) \n",
    "num_loaded_box = num_loaded_box_c[action_idx]\n",
    "if num_loaded_box != 0:\n",
    "    new_used_boxes = loading_size_c[action_idx]\n",
    "    r_boxes = get_remain(new_used_boxes, r_boxes)\n",
    "else:\n",
    "    r_boxes = get_remain(s_order[action_idx], r_boxes)\n",
    "used_boxes = used_boxes + loading_size_c[action_idx]\n",
    "pred_pos = pred_pos + loading_pos_c[action_idx]  \n",
    "if len(r_boxes) == 0 or np.sum(env.container_h != env.height) == 0:\n",
    "    done = True"
   ]
  },
  {
   "cell_type": "code",
   "execution_count": 36,
   "id": "5440fcbd",
   "metadata": {
    "ExecuteTime": {
     "end_time": "2021-05-09T08:07:40.267209Z",
     "start_time": "2021-05-09T08:07:40.257236Z"
    }
   },
   "outputs": [],
   "source": [
    "dones = []\n",
    "dones.append(done)"
   ]
  },
  {
   "cell_type": "code",
   "execution_count": 38,
   "id": "ae2b248d",
   "metadata": {
    "ExecuteTime": {
     "end_time": "2021-05-09T08:08:29.232282Z",
     "start_time": "2021-05-09T08:08:28.944499Z"
    }
   },
   "outputs": [],
   "source": [
    "if len(s_loc_c) != 1 or done:\n",
    "    history.append(in_state[action_idx])\n",
    "    h_load.append(loaded_mh_c[action_idx])\n",
    "    h_remain_size.append(in_r_boxes[action_idx])\n",
    "    h_load_size.append(in_loading[action_idx])\n",
    "\n",
    "    next_state = env.container.copy()\n",
    "    next_state_h = env.container_h.copy() \n",
    "    if done:\n",
    "        in_next_history = next_state_h.reshape((1, env.length, env.breadth, 1))\n",
    "        loaded_mh_c = np.zeros((1, env.length, env.breadth, 2))\n",
    "        in_next_remains = np.zeros((1, env.length, env.breadth, num_max_remain))\n",
    "        in_next_loading = np.zeros((1, env.length, env.breadth, K))\n",
    "    else:\n",
    "        k = min(K, len(r_boxes))\n",
    "        selected = cbn_select_boxes(r_boxes[:n_candidates], k)\n",
    "        s_order = get_selected_order(selected, k)\n",
    "        s_loc_c, num_loaded_box_c, loading_size_c, loading_pos_c, next_cube_c , next_state_c  =\\\n",
    "            get_selected_location(s_order, next_state)\n",
    "        loaded_mh_c = np.array( [get_loaded_mh(s_loc, env.length, env.breadth, env.height) for s_loc in s_loc_c] )\n",
    "        in_next_history, in_next_remains, in_next_loading =\\\n",
    "            raw2input(next_state_h, len(s_loc_c), r_boxes, num_max_remain,  K, loading_size_c, env.height)\n",
    "\n",
    "    s_order, s_loc_c, num_loaded_box_c, loading_size_c, loading_pos_c, next_cube_c , next_state_c, loaded_mh_c, in_next_history, in_next_remains, in_next_loading =\\\n",
    "        get_unique(s_order, s_loc_c, num_loaded_box_c, loading_size_c, loading_pos_c, next_cube_c , next_state_c, loaded_mh_c, in_next_history, in_next_remains, in_next_loading)\n",
    "\n",
    "    next_history.append(in_next_history)\n",
    "    next_load.append(loaded_mh_c)\n",
    "    next_remain_size.append(in_next_remains)\n",
    "    next_load_size.append(in_next_loading)"
   ]
  },
  {
   "cell_type": "code",
   "execution_count": 40,
   "id": "9bbb5da3",
   "metadata": {
    "ExecuteTime": {
     "end_time": "2021-05-09T08:09:21.279986Z",
     "start_time": "2021-05-09T08:09:21.273004Z"
    }
   },
   "outputs": [],
   "source": [
    "rewards.append(env.terminal_reward())"
   ]
  },
  {
   "cell_type": "code",
   "execution_count": null,
   "id": "c8adb0f6",
   "metadata": {},
   "outputs": [],
   "source": []
  },
  {
   "cell_type": "code",
   "execution_count": null,
   "id": "e68e8ec0",
   "metadata": {},
   "outputs": [],
   "source": []
  },
  {
   "cell_type": "code",
   "execution_count": null,
   "id": "2508be2c",
   "metadata": {},
   "outputs": [],
   "source": []
  },
  {
   "cell_type": "code",
   "execution_count": null,
   "id": "89f67280",
   "metadata": {},
   "outputs": [],
   "source": []
  },
  {
   "cell_type": "code",
   "execution_count": null,
   "id": "05e151b7",
   "metadata": {},
   "outputs": [],
   "source": []
  },
  {
   "cell_type": "code",
   "execution_count": null,
   "id": "723524c6",
   "metadata": {},
   "outputs": [],
   "source": []
  },
  {
   "cell_type": "code",
   "execution_count": null,
   "id": "5fed4d49",
   "metadata": {},
   "outputs": [],
   "source": []
  },
  {
   "cell_type": "code",
   "execution_count": null,
   "id": "5e51a77d",
   "metadata": {},
   "outputs": [],
   "source": []
  },
  {
   "cell_type": "code",
   "execution_count": null,
   "id": "ad45ac7d",
   "metadata": {},
   "outputs": [],
   "source": []
  },
  {
   "cell_type": "code",
   "execution_count": null,
   "id": "eb736ae8",
   "metadata": {},
   "outputs": [],
   "source": []
  },
  {
   "cell_type": "code",
   "execution_count": null,
   "id": "1850422e",
   "metadata": {},
   "outputs": [],
   "source": []
  },
  {
   "cell_type": "code",
   "execution_count": null,
   "id": "39ae9b21",
   "metadata": {},
   "outputs": [],
   "source": []
  },
  {
   "cell_type": "code",
   "execution_count": null,
   "id": "ff3f4a26",
   "metadata": {},
   "outputs": [],
   "source": []
  },
  {
   "cell_type": "code",
   "execution_count": null,
   "id": "25bce70d",
   "metadata": {},
   "outputs": [],
   "source": []
  },
  {
   "cell_type": "code",
   "execution_count": null,
   "id": "8cd60b7e",
   "metadata": {},
   "outputs": [],
   "source": [
    "for e in range(num_episode):\n",
    "    st=time.time()\n",
    "    \n",
    "    boxes_multi,gt_pos = generation_3dbox(case_size=[[20,20,20]], min_s = 1, N_mdd=N_MDD)\n",
    "    \n",
    "    env.reset()\n",
    "    done = False\n",
    "    step = 0\n",
    "    \n",
    "    history, h_load, h_remain_size, h_load_size = [],[],[],[]\n",
    "    next_history, next_load, next_remain_size, next_load_size = [],[],[],[]\n",
    "    used_boxes, pred_pos = [],[]\n",
    "    rewards, values, prob_l, dones = [], [], [], []\n",
    "    \n",
    "    boxes_all = np.array(boxes_multi)[0].copy()\n",
    "    r_boxes = boxes_all.copy()\n",
    "\n",
    "    while not done:\n",
    "        state = env.container.copy()\n",
    "        state_h = env.update_h().copy()\n",
    "        step += 1\n",
    "        \n",
    "        k = min(K, len(r_boxes))\n",
    "        selected = cbn_select_boxes(r_boxes[:n_candidates], k)\n",
    "        s_order = get_selected_order(selected, k)\n",
    "        s_loc_c, num_loaded_box_c, loading_size_c, loading_pos_c, next_cube_c , next_state_c = get_selected_location(s_order, state) \n",
    "        loaded_mh_c = np.array([get_loaded_mh(s_loc, env.length, env.breadth, env.height) for s_loc in s_loc_c] ) # 3D -> 2D\n",
    "        in_state, in_r_boxes, in_loading = raw2input(state_h, len(s_loc_c), r_boxes, num_max_remain, K, loading_size_c, env.height)\n",
    "        \n",
    "        s_order, s_loc_c, num_loaded_box_c, loading_size_c, loading_pos_c, next_cube_c , next_state_c, loaded_mh_c, in_state, in_r_boxes, in_loading =\\\n",
    "            get_unique(s_order, s_loc_c, num_loaded_box_c, loading_size_c, loading_pos_c, next_cube_c , next_state_c, loaded_mh_c, in_state, in_r_boxes, in_loading)\n",
    "        \n",
    "        if len(s_loc_c) == 1:\n",
    "            action_idx = 0\n",
    "        else:\n",
    "            prob, action_idx = agent.get_action(in_state, loaded_mh_c, in_r_boxes)\n",
    "            value = agent.get_value(in_state, loaded_mh_c, in_r_boxes)\n",
    "            prob_l.append(prob)\n",
    "            values.append(value)\n",
    "        \n",
    "        env.convert_state(next_cube_c[action_idx]) \n",
    "        num_loaded_box = num_loaded_box_c[action_idx]\n",
    "        if num_loaded_box != 0:\n",
    "            new_used_boxes = loading_size_c[action_idx]\n",
    "            r_boxes = get_remain(new_used_boxes, r_boxes)\n",
    "        else:\n",
    "            r_boxes = get_remain(s_order[action_idx], r_boxes)\n",
    "        used_boxes = used_boxes + loading_size_c[action_idx]\n",
    "        pred_pos = pred_pos + loading_pos_c[action_idx]  \n",
    "        if len(r_boxes) == 0 or np.sum(env.container_h != env.height) == 0:\n",
    "            done = True\n",
    "\n",
    "        if len(s_loc_c) != 1 or done:\n",
    "            dones.append(done)\n",
    "            history.append(in_state[action_idx])\n",
    "            h_load.append(loaded_mh_c[action_idx])\n",
    "            h_remain_size.append(in_r_boxes[action_idx])\n",
    "            h_load_size.append(in_loading[action_idx])\n",
    "            \n",
    "            next_state = env.container.copy()\n",
    "            next_state_h = env.container_h.copy() \n",
    "            if done:\n",
    "                in_next_history = next_state_h.reshape((1, env.length, env.breadth, 1))\n",
    "                loaded_mh_c = np.zeros((1, env.length, env.breadth, 2))\n",
    "                in_next_remains = np.zeros((1, env.length, env.breadth, num_max_remain))\n",
    "                in_next_loading = np.zeros((1, env.length, env.breadth, K))\n",
    "            else:\n",
    "                k = min(K, len(r_boxes))\n",
    "                selected = cbn_select_boxes(r_boxes[:n_candidates], k)\n",
    "                s_order = get_selected_order(selected, k)\n",
    "                s_loc_c, num_loaded_box_c, loading_size_c, loading_pos_c, next_cube_c , next_state_c  =\\\n",
    "                    get_selected_location(s_order, next_state)\n",
    "                loaded_mh_c = np.array( [get_loaded_mh(s_loc, env.length, env.breadth, env.height) for s_loc in s_loc_c] )\n",
    "                in_next_history, in_next_remains, in_next_loading =\\\n",
    "                    raw2input(next_state_h, len(s_loc_c), r_boxes, num_max_remain,  K, loading_size_c, env.height)\n",
    "\n",
    "            s_order, s_loc_c, num_loaded_box_c, loading_size_c, loading_pos_c, next_cube_c , next_state_c, loaded_mh_c, in_next_history, in_next_remains, in_next_loading =\\\n",
    "                get_unique(s_order, s_loc_c, num_loaded_box_c, loading_size_c, loading_pos_c, next_cube_c , next_state_c, loaded_mh_c, in_next_history, in_next_remains, in_next_loading)\n",
    "\n",
    "            next_history.append(in_next_history)\n",
    "            next_load.append(loaded_mh_c)\n",
    "            next_remain_size.append(in_next_remains)\n",
    "            next_load_size.append(in_next_loading)\n",
    "                \n",
    "        if done:\n",
    "            N = len(history)\n",
    "            for i in range(N):\n",
    "                reward=(agent.gamma**(N-i-1))*env.terminal_reward()\n",
    "                rewards.append(reward)\n",
    "                \n",
    "            next_value = agent.get_value(in_next_history, loaded_mh_c, in_next_remains)\n",
    "            values.append(next_value)\n",
    "            print(len(rewards), len(values), len(dones), len(s_loc_c))\n",
    "            \n",
    "            g = 0\n",
    "            lmbda = 0.95\n",
    "            gamma = agent.gamma\n",
    "            returns = []\n",
    "            \n",
    "            for i in reversed(range(len(rewards))):\n",
    "                delta = rewards[i] + gamma * values[i+1] * dones[i] - values[i]\n",
    "                g = delta + gamma * lmbda * dones[i] * g\n",
    "                returns.append(g + values[i])\n",
    "            returns.reverse()\n",
    "            print(len(returns), len(values))\n",
    "            adv = np.array(returns, dtype=np.float64) - values[:-1]\n",
    "            adv = (adv - np.mean(adv)) / (np.std(adv) + 1e-10)\n",
    "            probs = np.stack(prob_l, axis=0)\n",
    "            \n",
    "            agent.train(history, h_load, h_remain_size, returns, adv, probs)\n",
    "            avg_actor_loss_l.append(agent.avg_actor_loss)\n",
    "            avg_critic_loss_l.append(agent.avg_critic_loss)\n",
    "\n",
    "    log = \"=====episode: {:5d} | \".format(e)\n",
    "    log += \"reward(): {:.3f}| \".format(env.terminal_reward())\n",
    "    log += \"avg actor loss : {:6f} \".format(agent.avg_actor_loss / float(step))\n",
    "    log += \"avg critic loss : {:6f} \".format(agent.avg_critic_loss / float(step))\n",
    "    log += \"time: {:.3f}\".format(time.time()-st)\n",
    "    print(log)\n",
    "    agent.avg_actor_loss, agent.avg_critic_loss = 0, 0"
   ]
  },
  {
   "cell_type": "code",
   "execution_count": null,
   "id": "a0d9f168",
   "metadata": {},
   "outputs": [],
   "source": []
  },
  {
   "cell_type": "code",
   "execution_count": null,
   "id": "1a930519",
   "metadata": {},
   "outputs": [],
   "source": []
  },
  {
   "cell_type": "code",
   "execution_count": null,
   "id": "1b4f4116",
   "metadata": {},
   "outputs": [],
   "source": []
  },
  {
   "cell_type": "code",
   "execution_count": null,
   "id": "f11083c2",
   "metadata": {},
   "outputs": [],
   "source": []
  },
  {
   "cell_type": "code",
   "execution_count": null,
   "id": "c19e116e",
   "metadata": {},
   "outputs": [],
   "source": []
  },
  {
   "cell_type": "code",
   "execution_count": null,
   "id": "d3ddfcdd",
   "metadata": {},
   "outputs": [],
   "source": []
  },
  {
   "cell_type": "code",
   "execution_count": null,
   "id": "265b5acd",
   "metadata": {},
   "outputs": [],
   "source": []
  },
  {
   "cell_type": "code",
   "execution_count": null,
   "id": "bc6e8cde",
   "metadata": {},
   "outputs": [],
   "source": []
  },
  {
   "cell_type": "code",
   "execution_count": null,
   "id": "490953d0",
   "metadata": {},
   "outputs": [],
   "source": []
  },
  {
   "cell_type": "code",
   "execution_count": null,
   "id": "660d6994",
   "metadata": {},
   "outputs": [],
   "source": []
  },
  {
   "cell_type": "code",
   "execution_count": null,
   "id": "3eb4ac05",
   "metadata": {},
   "outputs": [],
   "source": []
  },
  {
   "cell_type": "code",
   "execution_count": null,
   "id": "142d1cbe",
   "metadata": {},
   "outputs": [],
   "source": []
  }
 ],
 "metadata": {
  "kernelspec": {
   "display_name": "RL",
   "language": "python",
   "name": "rl"
  },
  "language_info": {
   "codemirror_mode": {
    "name": "ipython",
    "version": 3
   },
   "file_extension": ".py",
   "mimetype": "text/x-python",
   "name": "python",
   "nbconvert_exporter": "python",
   "pygments_lexer": "ipython3",
   "version": "3.7.10"
  }
 },
 "nbformat": 4,
 "nbformat_minor": 5
}
