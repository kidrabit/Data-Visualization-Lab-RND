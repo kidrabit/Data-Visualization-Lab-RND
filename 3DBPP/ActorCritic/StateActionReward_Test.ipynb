{
 "cells": [
  {
   "cell_type": "code",
   "execution_count": 46,
   "id": "f2190656",
   "metadata": {
    "ExecuteTime": {
     "end_time": "2021-04-22T14:58:46.154459Z",
     "start_time": "2021-04-22T14:58:46.149473Z"
    }
   },
   "outputs": [],
   "source": [
    "import numpy as np\n",
    "import matplotlib.pyplot as plt\n",
    "from random import shuffle"
   ]
  },
  {
   "cell_type": "code",
   "execution_count": 47,
   "id": "0af86fc5",
   "metadata": {
    "ExecuteTime": {
     "end_time": "2021-04-22T14:58:46.413994Z",
     "start_time": "2021-04-22T14:58:46.407047Z"
    }
   },
   "outputs": [],
   "source": [
    "def box_cornel(upleft,bxl,bxb):\n",
    "    return [upleft,[upleft[0],upleft[1]+bxb-1],[upleft[0]+bxl-1,upleft[1]],[upleft[0]+bxl-1,upleft[1]+bxb-1]]"
   ]
  },
  {
   "cell_type": "code",
   "execution_count": 48,
   "id": "8db530fd",
   "metadata": {
    "ExecuteTime": {
     "end_time": "2021-04-22T14:58:46.534920Z",
     "start_time": "2021-04-22T14:58:46.528968Z"
    }
   },
   "outputs": [],
   "source": [
    "def cornel(upleft,bxl,bxb):\n",
    "    return [upleft,[upleft[0],upleft[1]+bxb],[upleft[0]+bxl,upleft[1]],[upleft[0]+bxl,upleft[1]+bxb]]"
   ]
  },
  {
   "cell_type": "code",
   "execution_count": 49,
   "id": "5f8035a7",
   "metadata": {
    "ExecuteTime": {
     "end_time": "2021-04-22T14:58:46.916965Z",
     "start_time": "2021-04-22T14:58:46.909017Z"
    }
   },
   "outputs": [],
   "source": [
    "def whole_upleft(tl,tr,bl, br,bxl,bxb):\n",
    "    upleft_list=[]\n",
    "    upleft_list += cornel(tl,-bxl,-bxb)\n",
    "    upleft_list += cornel([tr[0],tr[1]-bxb+1],-bxl,+bxb)\n",
    "    upleft_list += cornel([bl[0]-bxl+1,bl[1]],+bxl,-bxb)\n",
    "    upleft_list += cornel([br[0]-bxl+1,br[1]-bxb+1],+bxl,+bxb)\n",
    "    return upleft_list"
   ]
  },
  {
   "cell_type": "code",
   "execution_count": 50,
   "id": "5970208f",
   "metadata": {
    "ExecuteTime": {
     "end_time": "2021-04-22T14:58:47.099052Z",
     "start_time": "2021-04-22T14:58:47.092050Z"
    }
   },
   "outputs": [],
   "source": [
    "def next_state(state,upleft,bxl,bxb):\n",
    "    nx_state=state.copy()\n",
    "    nx_state[upleft[0]:upleft[0]+bxl,upleft[1]:upleft[1]+bxb]=1\n",
    "    return nx_state"
   ]
  },
  {
   "cell_type": "code",
   "execution_count": 51,
   "id": "fee4bb4d",
   "metadata": {
    "ExecuteTime": {
     "end_time": "2021-04-22T14:58:47.358230Z",
     "start_time": "2021-04-22T14:58:47.351283Z"
    }
   },
   "outputs": [],
   "source": [
    "def feasible_location(state,whole_upleft_list,bxl,bxb,bxh=None,state_H=None,is2d=True):\n",
    "    # state: current container, w_upleft: whole upleft list\n",
    "    state_L=state.shape[0]\n",
    "    state_B=state.shape[1]\n",
    "    f_upleft=whole_upleft_list.copy()\n",
    "    f_upleft = np.array(f_upleft)\n",
    "\n",
    "    new_array = [tuple(row) for row in f_upleft]\n",
    "    f_upleft = np.unique(new_array, axis=0)\n",
    "\n",
    "    f_upleft=f_upleft[((f_upleft[:,0]>=0) & (f_upleft[:,1]>=0) & (f_upleft[:,0]+bxl<=state_L) & (f_upleft[:,1]+bxb<=state_B))]\n",
    "\n",
    "    idx=[]\n",
    "    if is2d:\n",
    "\n",
    "        for i,[j,k] in  enumerate(f_upleft):\n",
    "            if np.sum(state[j:j+bxl,k:k+bxb]) >=1: idx.append(i)\n",
    "    else:\n",
    "        for i,[j,k] in enumerate(f_upleft):\n",
    "            if np.sum(state[j:j+bxl,k:k+bxb] != state[j,k] ) >= 1: idx.append(i)\n",
    "            elif state[j,k]+bxh > state_H: idx.append(i)\n",
    "    f_upleft=np.delete(f_upleft,idx,axis=0)\n",
    "    return f_upleft"
   ]
  },
  {
   "cell_type": "code",
   "execution_count": 52,
   "id": "b1157db4",
   "metadata": {
    "ExecuteTime": {
     "end_time": "2021-04-22T14:58:47.540169Z",
     "start_time": "2021-04-22T14:58:47.522090Z"
    }
   },
   "outputs": [],
   "source": [
    "def action_options_list(f_upleft_list):\n",
    "    action_options=[]\n",
    "    for i,j in f_upleft_list:\n",
    "        action_option=np.zeros((20,20))\n",
    "        action_option[i,j]=1\n",
    "        action_options.append(action_option)\n",
    "    return action_options"
   ]
  },
  {
   "cell_type": "code",
   "execution_count": 53,
   "id": "4b86f517",
   "metadata": {
    "ExecuteTime": {
     "end_time": "2021-04-22T14:58:47.768660Z",
     "start_time": "2021-04-22T14:58:47.755694Z"
    }
   },
   "outputs": [],
   "source": [
    "class Bpp3DEnv():\n",
    "    def __init__(self):\n",
    "        super(Bpp3DEnv, self).__init__()\n",
    "        self.length=20\n",
    "        self.breadth=20\n",
    "        self.height=20\n",
    "        self.container=np.zeros((self.length,self.breadth))\n",
    "        \n",
    "    def step(self, upleft,bxl,bxb,bxh):\n",
    "        self.container[upleft[0]:upleft[0]+bxl,upleft[1]:upleft[1]+bxb] += bxh \n",
    "        return self.container\n",
    "    \n",
    "    def reset(self):\n",
    "        self.container=np.zeros((self.length,self.breadth))\n",
    "\n",
    "    def terminal_reward(self):\n",
    "        return np.sum(self.container)/(self.length*self.breadth*self.height)"
   ]
  },
  {
   "cell_type": "code",
   "execution_count": 54,
   "id": "5ad9c1cd",
   "metadata": {
    "ExecuteTime": {
     "end_time": "2021-04-22T14:58:48.118157Z",
     "start_time": "2021-04-22T14:58:48.108215Z"
    }
   },
   "outputs": [
    {
     "name": "stdout",
     "output_type": "stream",
     "text": [
      "16\n"
     ]
    }
   ],
   "source": [
    "container = np.zeros((20,20))\n",
    "c_ct = container.copy()\n",
    "w_upleft = whole_upleft(*box_cornel([0,0],20,20),1,2)\n",
    "print(len(w_upleft))"
   ]
  },
  {
   "cell_type": "code",
   "execution_count": 55,
   "id": "c78c3645",
   "metadata": {
    "ExecuteTime": {
     "end_time": "2021-04-22T14:58:49.411353Z",
     "start_time": "2021-04-22T14:58:49.400407Z"
    }
   },
   "outputs": [
    {
     "name": "stdout",
     "output_type": "stream",
     "text": [
      "32\n"
     ]
    }
   ],
   "source": [
    "c_ct=next_state(c_ct,[0,0],10,10)\n",
    "w_upleft += whole_upleft(*box_cornel([0,0],10,10),1,2)\n",
    "print(len(w_upleft))"
   ]
  },
  {
   "cell_type": "code",
   "execution_count": 56,
   "id": "89e58908",
   "metadata": {
    "ExecuteTime": {
     "end_time": "2021-04-22T14:58:49.779221Z",
     "start_time": "2021-04-22T14:58:49.768250Z"
    }
   },
   "outputs": [
    {
     "name": "stdout",
     "output_type": "stream",
     "text": [
      "48\n"
     ]
    }
   ],
   "source": [
    "c_ct=next_state(c_ct,[13,17],7,3)\n",
    "w_upleft += whole_upleft(*box_cornel([13,17],7,3),1,2)\n",
    "print(len(w_upleft))"
   ]
  },
  {
   "cell_type": "code",
   "execution_count": 57,
   "id": "bb1f72d9",
   "metadata": {
    "ExecuteTime": {
     "end_time": "2021-04-22T14:58:50.846755Z",
     "start_time": "2021-04-22T14:58:50.827495Z"
    }
   },
   "outputs": [],
   "source": [
    "def generation_2dbox(N_epi=1,c_l=20,c_b=20):\n",
    "    #c_l, c_h: length, height\n",
    "    np.random.seed(seed=100)\n",
    "    epi_input=[]\n",
    "    epi_gt_upleft=[]\n",
    "    \n",
    "    for i in range(N_epi):\n",
    "        N_mdd=np.random.choice(list(range(25,30)), 1)\n",
    "        \n",
    "        X_input=[[c_l,c_b]]\n",
    "        gt_upleft=[[0,0]]\n",
    "        #X_input=[[int(c_l/2),int(c_b/2)]]*4 #4분할\n",
    "        #gt_upleft=[[0,0],[int(c_l/2),0],[0,int(c_b/2)],[int(c_l/2),int(c_b/2)]]\n",
    "        #N_mdd-=4\n",
    "        \n",
    "        while(len(X_input)<N_mdd):\n",
    "            idx=np.random.choice(list(range(len(X_input))), 1)[0]#pop an item randomly from X_input\n",
    "            pop_item=X_input.pop(idx)#[l, b]\n",
    "            pop_gt_upleft=gt_upleft.pop(idx)\n",
    "            idx=np.random.choice([0,1],1)[0]#choose an axis randomly\n",
    "            \n",
    "            if pop_item[idx]<=3:#if pop_item[idx]==1:\n",
    "                X_input.append(pop_item)\n",
    "                gt_upleft.append(pop_gt_upleft)\n",
    "            else:#item split\n",
    "                #pos=np.random.choice(list(range(1,pop_item[idx]-1)),1)[0]\n",
    "                pos=np.random.choice(list(range(1+1,pop_item[idx]-1)),1)[0]#choose a position randomly - distance\n",
    "                #item L,B\n",
    "                item1=pop_item.copy()\n",
    "                item2=pop_item.copy()\n",
    "                item1[idx]=pos\n",
    "                item2[idx]=pop_item[idx]-pos\n",
    "                X_input+=[item1,item2]\n",
    "                #gt upleft\n",
    "                itme2_upleft=pop_gt_upleft.copy()\n",
    "                itme2_upleft[idx] += pos\n",
    "                gt_upleft+=[pop_gt_upleft,itme2_upleft]\n",
    "        \n",
    "        # 랜덤 순서\n",
    "        #z = list(zip(X_input, gt_upleft))\n",
    "        #shuffle(z)\n",
    "        #X_input, gt_upleft = zip(*z)\n",
    "        \n",
    "        #크기순 정렬\n",
    "        #s=[i*j for i,j in X_input]\n",
    "        #s_idx=sorted(range(len(s)), key=lambda k: s[k])\n",
    "        #X_input=np.array(X_input)[list(reversed(s_idx))]\n",
    "        #gt_upleft=np.array(gt_upleft)[list(reversed(s_idx))]\n",
    "        \n",
    "        epi_input.append(X_input)\n",
    "        epi_gt_upleft.append(gt_upleft)\n",
    "    return epi_input,epi_gt_upleft#np.array(X_input)#_input"
   ]
  },
  {
   "cell_type": "code",
   "execution_count": 58,
   "id": "02e779c7",
   "metadata": {
    "ExecuteTime": {
     "end_time": "2021-04-22T14:58:51.319727Z",
     "start_time": "2021-04-22T14:58:51.306762Z"
    }
   },
   "outputs": [
    {
     "data": {
      "text/plain": [
       "[[3, 3],\n",
       " [2, 3],\n",
       " [4, 17],\n",
       " [5, 3],\n",
       " [2, 2],\n",
       " [3, 17],\n",
       " [2, 3],\n",
       " [4, 3],\n",
       " [2, 17],\n",
       " [2, 17],\n",
       " [5, 9],\n",
       " [2, 6],\n",
       " [2, 3],\n",
       " [3, 3],\n",
       " [2, 2],\n",
       " [8, 3],\n",
       " [3, 3],\n",
       " [2, 3],\n",
       " [2, 3],\n",
       " [2, 3],\n",
       " [2, 6],\n",
       " [2, 3],\n",
       " [2, 3],\n",
       " [3, 2],\n",
       " [2, 2]]"
      ]
     },
     "execution_count": 58,
     "metadata": {},
     "output_type": "execute_result"
    }
   ],
   "source": [
    "boxes,gt_tmp=generation_2dbox(N_epi=1,c_l=20,c_b=20)#N,2\n",
    "boxes = boxes[0]\n",
    "boxes"
   ]
  },
  {
   "cell_type": "code",
   "execution_count": 59,
   "id": "9b53538f",
   "metadata": {
    "ExecuteTime": {
     "end_time": "2021-04-22T14:58:56.107385Z",
     "start_time": "2021-04-22T14:58:56.088402Z"
    }
   },
   "outputs": [
    {
     "data": {
      "text/plain": [
       "[3, 3]"
      ]
     },
     "execution_count": 59,
     "metadata": {},
     "output_type": "execute_result"
    }
   ],
   "source": [
    "box = boxes[0]\n",
    "box"
   ]
  },
  {
   "cell_type": "code",
   "execution_count": 60,
   "id": "62879eae",
   "metadata": {
    "ExecuteTime": {
     "end_time": "2021-04-22T14:58:58.662395Z",
     "start_time": "2021-04-22T14:58:58.644443Z"
    }
   },
   "outputs": [
    {
     "data": {
      "text/plain": [
       "(5,\n",
       " array([[ 0, 10],\n",
       "        [ 9, 10],\n",
       "        [10,  0],\n",
       "        [10,  8],\n",
       "        [10, 10]]))"
      ]
     },
     "execution_count": 60,
     "metadata": {},
     "output_type": "execute_result"
    }
   ],
   "source": [
    "f_upleft = feasible_location(c_ct,w_upleft, box[0], box[1])\n",
    "len(f_upleft), f_upleft"
   ]
  },
  {
   "cell_type": "code",
   "execution_count": 61,
   "id": "ec9c26be",
   "metadata": {
    "ExecuteTime": {
     "end_time": "2021-04-22T14:59:01.387818Z",
     "start_time": "2021-04-22T14:59:01.380827Z"
    }
   },
   "outputs": [],
   "source": [
    "def action_options_list(f_upleft_list):\n",
    "    action_options=[]\n",
    "    for i,j in f_upleft_list:\n",
    "        action_option=np.zeros((20,20))\n",
    "        action_option[i,j]=1\n",
    "        action_options.append(action_option.flatten())\n",
    "    return action_options\n",
    "\n",
    "a_op=action_options_list(f_upleft)"
   ]
  },
  {
   "cell_type": "code",
   "execution_count": 62,
   "id": "df7c7ab7",
   "metadata": {
    "ExecuteTime": {
     "end_time": "2021-04-22T14:59:01.752872Z",
     "start_time": "2021-04-22T14:59:01.748884Z"
    },
    "scrolled": false
   },
   "outputs": [
    {
     "data": {
      "text/plain": [
       "5"
      ]
     },
     "execution_count": 62,
     "metadata": {},
     "output_type": "execute_result"
    }
   ],
   "source": [
    "len(a_op)"
   ]
  },
  {
   "cell_type": "code",
   "execution_count": 63,
   "id": "b18270ba",
   "metadata": {
    "ExecuteTime": {
     "end_time": "2021-04-22T14:59:02.732241Z",
     "start_time": "2021-04-22T14:59:02.626405Z"
    }
   },
   "outputs": [
    {
     "data": {
      "image/png": "[encoded data removed]",
      "text/plain": [
       "<Figure size 432x288 with 1 Axes>"
      ]
     },
     "metadata": {
      "needs_background": "light"
     },
     "output_type": "display_data"
    }
   ],
   "source": [
    "tmp=c_ct.copy()\n",
    "for i in f_upleft: tmp[(i[0],i[1])] = 0.5\n",
    "plt.imshow(tmp)\n",
    "plt.grid()"
   ]
  },
  {
   "cell_type": "code",
   "execution_count": 64,
   "id": "57241095",
   "metadata": {
    "ExecuteTime": {
     "end_time": "2021-04-22T14:59:07.237771Z",
     "start_time": "2021-04-22T14:59:07.103989Z"
    }
   },
   "outputs": [
    {
     "data": {
      "image/png": "[encoded data removed]",
      "text/plain": [
       "<Figure size 432x288 with 1 Axes>"
      ]
     },
     "metadata": {
      "needs_background": "light"
     },
     "output_type": "display_data"
    }
   ],
   "source": [
    "tmp=c_ct.copy()\n",
    "for i in f_upleft: tmp[(i[0],i[1])] = 0.5\n",
    "plt.imshow(tmp)\n",
    "plt.grid()"
   ]
  },
  {
   "cell_type": "code",
   "execution_count": 65,
   "id": "98a170d2",
   "metadata": {
    "ExecuteTime": {
     "end_time": "2021-04-22T14:59:08.306892Z",
     "start_time": "2021-04-22T14:59:08.204739Z"
    }
   },
   "outputs": [
    {
     "data": {
      "image/png": "[encoded data removed]",
      "text/plain": [
       "<Figure size 432x288 with 1 Axes>"
      ]
     },
     "metadata": {
      "needs_background": "light"
     },
     "output_type": "display_data"
    }
   ],
   "source": [
    "tmp=c_ct.copy()\n",
    "for i in f_upleft: tmp[(i[0],i[1])] = 0.5\n",
    "plt.imshow(tmp)\n",
    "plt.grid()"
   ]
  },
  {
   "cell_type": "code",
   "execution_count": 66,
   "id": "f3aa28a0",
   "metadata": {
    "ExecuteTime": {
     "end_time": "2021-04-22T14:59:09.504232Z",
     "start_time": "2021-04-22T14:59:08.819045Z"
    }
   },
   "outputs": [
    {
     "data": {
      "image/png": "[encoded data removed]",
      "text/plain": [
       "<Figure size 1080x432 with 12 Axes>"
      ]
     },
     "metadata": {},
     "output_type": "display_data"
    }
   ],
   "source": [
    "fig, axs = plt.subplots(2,6, figsize=(15, 6), facecolor='w', edgecolor='k')\n",
    "fig.subplots_adjust(hspace = .5, wspace=.001)\n",
    "axs = axs.ravel()\n",
    "\n",
    "i=0\n",
    "for r,c in f_upleft:\n",
    "    tmp=c_ct.copy()\n",
    "    tmp[r:r+1,c:c+2] = 1\n",
    "    axs[i].imshow(tmp);i+=1"
   ]
  },
  {
   "cell_type": "code",
   "execution_count": 44,
   "id": "de4195a0",
   "metadata": {
    "ExecuteTime": {
     "end_time": "2021-04-22T14:58:19.129732Z",
     "start_time": "2021-04-22T14:58:19.116798Z"
    }
   },
   "outputs": [],
   "source": [
    "env = Bpp3DEnv()\n",
    "env.reset()"
   ]
  },
  {
   "cell_type": "code",
   "execution_count": 45,
   "id": "ea610671",
   "metadata": {
    "ExecuteTime": {
     "end_time": "2021-04-22T14:58:19.677527Z",
     "start_time": "2021-04-22T14:58:19.666525Z"
    }
   },
   "outputs": [],
   "source": [
    "import utils"
   ]
  },
  {
   "cell_type": "code",
   "execution_count": 70,
   "id": "4d748882",
   "metadata": {
    "ExecuteTime": {
     "end_time": "2021-04-22T15:09:03.700050Z",
     "start_time": "2021-04-22T15:09:03.684093Z"
    }
   },
   "outputs": [
    {
     "ename": "TypeError",
     "evalue": "file must have 'read' and 'readline' attributes",
     "output_type": "error",
     "traceback": [
      "\u001b[1;31m---------------------------------------------------------------------------\u001b[0m",
      "\u001b[1;31mTypeError\u001b[0m                                 Traceback (most recent call last)",
      "\u001b[1;32m<ipython-input-70-79158bc9f7f9>\u001b[0m in \u001b[0;36m<module>\u001b[1;34m\u001b[0m\n\u001b[0;32m      1\u001b[0m \u001b[1;32mimport\u001b[0m \u001b[0mpickle\u001b[0m\u001b[1;33m\u001b[0m\u001b[1;33m\u001b[0m\u001b[0m\n\u001b[1;32m----> 2\u001b[1;33m \u001b[0mdata\u001b[0m \u001b[1;33m=\u001b[0m \u001b[0mpickle\u001b[0m\u001b[1;33m.\u001b[0m\u001b[0mload\u001b[0m\u001b[1;33m(\u001b[0m\u001b[1;34m'preprocessed_data/GA.pickle'\u001b[0m\u001b[1;33m)\u001b[0m\u001b[1;33m\u001b[0m\u001b[1;33m\u001b[0m\u001b[0m\n\u001b[0m",
      "\u001b[1;31mTypeError\u001b[0m: file must have 'read' and 'readline' attributes"
     ]
    }
   ],
   "source": [
    "import pickle\n",
    "data = pickle.load('preprocessed_data/GA.pickle')"
   ]
  },
  {
   "cell_type": "code",
   "execution_count": 71,
   "id": "d045d2d5",
   "metadata": {
    "ExecuteTime": {
     "end_time": "2021-04-22T15:09:04.111056Z",
     "start_time": "2021-04-22T15:09:04.099088Z"
    }
   },
   "outputs": [
    {
     "ename": "NameError",
     "evalue": "name 'data' is not defined",
     "output_type": "error",
     "traceback": [
      "\u001b[1;31m---------------------------------------------------------------------------\u001b[0m",
      "\u001b[1;31mNameError\u001b[0m                                 Traceback (most recent call last)",
      "\u001b[1;32m<ipython-input-71-c5d84736ba45>\u001b[0m in \u001b[0;36m<module>\u001b[1;34m\u001b[0m\n\u001b[1;32m----> 1\u001b[1;33m \u001b[0mdata\u001b[0m\u001b[1;33m\u001b[0m\u001b[1;33m\u001b[0m\u001b[0m\n\u001b[0m",
      "\u001b[1;31mNameError\u001b[0m: name 'data' is not defined"
     ]
    }
   ],
   "source": [
    "data"
   ]
  },
  {
   "cell_type": "code",
   "execution_count": null,
   "id": "f71edf52",
   "metadata": {},
   "outputs": [],
   "source": []
  }
 ],
 "metadata": {
  "kernelspec": {
   "display_name": "learning",
   "language": "python",
   "name": "learning"
  },
  "language_info": {
   "codemirror_mode": {
    "name": "ipython",
    "version": 3
   },
   "file_extension": ".py",
   "mimetype": "text/x-python",
   "name": "python",
   "nbconvert_exporter": "python",
   "pygments_lexer": "ipython3",
   "version": "3.7.10"
  }
 },
 "nbformat": 4,
 "nbformat_minor": 5
}
