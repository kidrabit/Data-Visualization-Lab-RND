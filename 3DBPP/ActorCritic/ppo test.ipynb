{
 "cells": [
  {
   "cell_type": "code",
   "execution_count": 15,
   "id": "09d1d9c6",
   "metadata": {
    "ExecuteTime": {
     "end_time": "2021-05-04T06:36:50.516746Z",
     "start_time": "2021-05-04T06:36:40.963687Z"
    }
   },
   "outputs": [
    {
     "name": "stdout",
     "output_type": "stream",
     "text": [
      "Collecting tensorflow_probability\n",
      "  Downloading tensorflow_probability-0.12.2-py2.py3-none-any.whl (4.8 MB)\n",
      "Requirement already satisfied: decorator in c:\\users\\vfgtr\\anaconda3\\envs\\rl-cupy\\lib\\site-packages (from tensorflow_probability) (5.0.6)\n",
      "Requirement already satisfied: cloudpickle>=1.3 in c:\\users\\vfgtr\\anaconda3\\envs\\rl-cupy\\lib\\site-packages (from tensorflow_probability) (1.6.0)\n",
      "Requirement already satisfied: numpy>=1.13.3 in c:\\users\\vfgtr\\anaconda3\\envs\\rl-cupy\\lib\\site-packages (from tensorflow_probability) (1.19.2)\n",
      "Requirement already satisfied: gast>=0.3.2 in c:\\users\\vfgtr\\anaconda3\\envs\\rl-cupy\\lib\\site-packages (from tensorflow_probability) (0.3.3)\n",
      "Collecting dm-tree\n",
      "  Downloading dm_tree-0.1.6-cp37-cp37m-win_amd64.whl (75 kB)\n",
      "Requirement already satisfied: six>=1.10.0 in c:\\users\\vfgtr\\anaconda3\\envs\\rl-cupy\\lib\\site-packages (from tensorflow_probability) (1.15.0)\n",
      "Installing collected packages: dm-tree, tensorflow-probability\n",
      "Successfully installed dm-tree-0.1.6 tensorflow-probability-0.12.2\n"
     ]
    }
   ],
   "source": [
    "!pip install tensorflow_probability"
   ]
  },
  {
   "cell_type": "code",
   "execution_count": 1,
   "id": "c9d62523",
   "metadata": {
    "ExecuteTime": {
     "end_time": "2021-05-04T06:40:12.944512Z",
     "start_time": "2021-05-04T06:40:10.756621Z"
    }
   },
   "outputs": [
    {
     "data": {
      "text/plain": [
       "'2.4.1'"
      ]
     },
     "execution_count": 1,
     "metadata": {},
     "output_type": "execute_result"
    }
   ],
   "source": [
    "import tensorflow as tf \n",
    "tf.__version__"
   ]
  },
  {
   "cell_type": "code",
   "execution_count": 2,
   "id": "e6f611fc",
   "metadata": {
    "ExecuteTime": {
     "end_time": "2021-05-04T06:40:13.589035Z",
     "start_time": "2021-05-04T06:40:12.945540Z"
    }
   },
   "outputs": [
    {
     "data": {
      "text/plain": [
       "[name: \"/device:CPU:0\"\n",
       " device_type: \"CPU\"\n",
       " memory_limit: 268435456\n",
       " locality {\n",
       " }\n",
       " incarnation: 5906980945621592247,\n",
       " name: \"/device:GPU:0\"\n",
       " device_type: \"GPU\"\n",
       " memory_limit: 4949437312\n",
       " locality {\n",
       "   bus_id: 1\n",
       "   links {\n",
       "   }\n",
       " }\n",
       " incarnation: 214375221417780296\n",
       " physical_device_desc: \"device: 0, name: NVIDIA GeForce RTX 2060, pci bus id: 0000:01:00.0, compute capability: 7.5\"]"
      ]
     },
     "execution_count": 2,
     "metadata": {},
     "output_type": "execute_result"
    }
   ],
   "source": [
    "from tensorflow.python.client import device_lib\n",
    "device_lib.list_local_devices()"
   ]
  },
  {
   "cell_type": "code",
   "execution_count": 3,
   "id": "d5e4745d",
   "metadata": {
    "ExecuteTime": {
     "end_time": "2021-05-04T06:40:15.124631Z",
     "start_time": "2021-05-04T06:40:14.635583Z"
    }
   },
   "outputs": [],
   "source": [
    "import numpy as np\n",
    "import tensorflow as tf \n",
    "import gym\n",
    "import tensorflow_probability as tfp\n",
    "import tensorflow.keras.losses as kls"
   ]
  },
  {
   "cell_type": "code",
   "execution_count": 4,
   "id": "cbeb6549",
   "metadata": {
    "ExecuteTime": {
     "end_time": "2021-05-04T06:40:18.471687Z",
     "start_time": "2021-05-04T06:40:18.450743Z"
    }
   },
   "outputs": [],
   "source": [
    "env= gym.make(\"CartPole-v0\")\n",
    "low = env.observation_space.low\n",
    "high = env.observation_space.high"
   ]
  },
  {
   "cell_type": "code",
   "execution_count": 5,
   "id": "6f5af9fd",
   "metadata": {
    "ExecuteTime": {
     "end_time": "2021-05-04T06:40:27.806648Z",
     "start_time": "2021-05-04T06:40:27.797673Z"
    }
   },
   "outputs": [],
   "source": [
    "class critic(tf.keras.Model):\n",
    "    def __init__(self):\n",
    "        super().__init__()\n",
    "        self.d1 = tf.keras.layers.Dense(128,activation='relu')\n",
    "        self.v = tf.keras.layers.Dense(1, activation = None)\n",
    "\n",
    "    def call(self, input_data):\n",
    "        x = self.d1(input_data)\n",
    "        v = self.v(x)\n",
    "        return v\n",
    "\n",
    "class actor(tf.keras.Model):\n",
    "    def __init__(self):\n",
    "        super().__init__()\n",
    "        self.d1 = tf.keras.layers.Dense(128,activation='relu')\n",
    "        self.a = tf.keras.layers.Dense(2,activation='softmax')\n",
    "\n",
    "    def call(self, input_data):\n",
    "        x = self.d1(input_data)\n",
    "        a = self.a(x)\n",
    "        return a"
   ]
  },
  {
   "cell_type": "code",
   "execution_count": 6,
   "id": "cdea0e7f",
   "metadata": {
    "ExecuteTime": {
     "end_time": "2021-05-04T06:41:22.266628Z",
     "start_time": "2021-05-04T06:41:22.251691Z"
    }
   },
   "outputs": [],
   "source": [
    "class agent():\n",
    "    def __init__(self, gamma = 0.99):\n",
    "        self.gamma = gamma\n",
    "        self.a_opt = tf.keras.optimizers.Adam(learning_rate=7e-3)\n",
    "        self.c_opt = tf.keras.optimizers.Adam(learning_rate=7e-3)\n",
    "        self.actor = actor()\n",
    "        self.critic = critic()\n",
    "        self.clip_pram = 0.2\n",
    "\n",
    "          \n",
    "    def act(self,state):\n",
    "        prob = self.actor(np.array([state]))\n",
    "        prob = prob.numpy()\n",
    "        dist = tfp.distributions.Categorical(probs=prob, dtype=tf.float32)\n",
    "        action = dist.sample()\n",
    "        return int(action.numpy()[0])\n",
    "    \n",
    "    def actor_loss(self, probs, actions, adv, old_probs, closs):\n",
    "        \n",
    "        probability = probs      \n",
    "        entropy = tf.reduce_mean(tf.math.negative(tf.math.multiply(probability,tf.math.log(probability))))\n",
    "        sur1 = []\n",
    "        sur2 = []\n",
    "        \n",
    "        for pb, t, op in zip(probability, adv, old_probs):\n",
    "                        t =  tf.constant(t)\n",
    "                        op =  tf.constant(op)\n",
    "                        ratio = tf.math.divide(pb,op)\n",
    "                        s1 = tf.math.multiply(ratio,t)\n",
    "                        s2 =  tf.math.multiply(tf.clip_by_value(ratio, 1.0 - self.clip_pram, 1.0 + self.clip_pram),t)\n",
    "                        sur1.append(s1)\n",
    "                        sur2.append(s2)\n",
    "\n",
    "        sr1 = tf.stack(sur1)\n",
    "        sr2 = tf.stack(sur2)\n",
    "\n",
    "        loss = tf.math.negative(tf.reduce_mean(tf.math.minimum(sr1, sr2)) - closs + 0.001 * entropy)\n",
    "        return loss\n",
    "    \n",
    "    def learn(self, states, actions,  adv , old_probs, discnt_rewards):\n",
    "        discnt_rewards = tf.reshape(discnt_rewards, (len(discnt_rewards),))\n",
    "        adv = tf.reshape(adv, (len(adv),))\n",
    "\n",
    "        old_p = old_probs\n",
    "\n",
    "        old_p = tf.reshape(old_p, (len(old_p),2))\n",
    "        with tf.GradientTape() as tape1, tf.GradientTape() as tape2:\n",
    "            p = self.actor(states, training=True)\n",
    "            v =  self.critic(states,training=True)\n",
    "            v = tf.reshape(v, (len(v),))\n",
    "            td = tf.math.subtract(discnt_rewards, v)\n",
    "            c_loss = 0.5 * kls.mean_squared_error(discnt_rewards, v)\n",
    "            a_loss = self.actor_loss(p, actions, adv, old_probs, c_loss)\n",
    "            \n",
    "        grads1 = tape1.gradient(a_loss, self.actor.trainable_variables)\n",
    "        grads2 = tape2.gradient(c_loss, self.critic.trainable_variables)\n",
    "        self.a_opt.apply_gradients(zip(grads1, self.actor.trainable_variables))\n",
    "        self.c_opt.apply_gradients(zip(grads2, self.critic.trainable_variables))\n",
    "        return a_loss, c_loss"
   ]
  },
  {
   "cell_type": "code",
   "execution_count": 7,
   "id": "adcc7d0f",
   "metadata": {
    "ExecuteTime": {
     "end_time": "2021-05-04T06:41:27.165271Z",
     "start_time": "2021-05-04T06:41:27.147319Z"
    }
   },
   "outputs": [],
   "source": [
    "def test_reward(env):\n",
    "    total_reward = 0\n",
    "    state = env.reset()\n",
    "    done = False\n",
    "    while not done:\n",
    "        action = np.argmax(agentoo7.actor(np.array([state])).numpy())\n",
    "        next_state, reward, done, _ = env.step(action)\n",
    "        state = next_state\n",
    "        total_reward += reward\n",
    "\n",
    "    return total_reward"
   ]
  },
  {
   "cell_type": "code",
   "execution_count": 8,
   "id": "a34e3a9f",
   "metadata": {
    "ExecuteTime": {
     "end_time": "2021-05-04T06:41:44.041570Z",
     "start_time": "2021-05-04T06:41:44.035622Z"
    }
   },
   "outputs": [],
   "source": [
    "def preprocess1(states, actions, rewards, done, values, gamma):\n",
    "    g = 0\n",
    "    lmbda = 0.95\n",
    "    returns = []\n",
    "    for i in reversed(range(len(rewards))):\n",
    "        delta = rewards[i] + gamma * values[i + 1] * done[i] - values[i]\n",
    "        g = delta + gamma * lmbda * dones[i] * g\n",
    "        returns.append(g + values[i])\n",
    "\n",
    "    returns.reverse()\n",
    "    adv = np.array(returns, dtype=np.float32) - values[:-1]\n",
    "    adv = (adv - np.mean(adv)) / (np.std(adv) + 1e-10)\n",
    "    states = np.array(states, dtype=np.float32)\n",
    "    actions = np.array(actions, dtype=np.int32)\n",
    "    returns = np.array(returns, dtype=np.float32)\n",
    "    return states, actions, returns, adv"
   ]
  },
  {
   "cell_type": "code",
   "execution_count": 9,
   "id": "e2b0fe8e",
   "metadata": {
    "ExecuteTime": {
     "end_time": "2021-05-04T06:45:50.484088Z",
     "start_time": "2021-05-04T06:42:27.604478Z"
    },
    "scrolled": false
   },
   "outputs": [
    {
     "name": "stdout",
     "output_type": "stream",
     "text": [
      "new episode\n",
      "total test reward is 37.6\n",
      "best reward=37.6\n",
      "INFO:tensorflow:Assets written to: model_actor_0_37.6\\assets\n",
      "INFO:tensorflow:Assets written to: model_critic_0_37.6\\assets\n",
      "new episode\n",
      "total test reward is 102.6\n",
      "best reward=102.6\n",
      "INFO:tensorflow:Assets written to: model_actor_1_102.6\\assets\n",
      "INFO:tensorflow:Assets written to: model_critic_1_102.6\\assets\n",
      "new episode\n",
      "total test reward is 70.8\n",
      "new episode\n",
      "total test reward is 52.8\n",
      "new episode\n",
      "total test reward is 49.4\n",
      "new episode\n",
      "total test reward is 83.8\n",
      "new episode\n",
      "total test reward is 103.0\n",
      "best reward=103.0\n",
      "INFO:tensorflow:Assets written to: model_actor_6_103.0\\assets\n",
      "INFO:tensorflow:Assets written to: model_critic_6_103.0\\assets\n",
      "new episode\n",
      "total test reward is 82.0\n",
      "new episode\n",
      "total test reward is 73.6\n",
      "new episode\n",
      "total test reward is 63.8\n",
      "new episode\n",
      "total test reward is 116.4\n",
      "best reward=116.4\n",
      "INFO:tensorflow:Assets written to: model_actor_10_116.4\\assets\n",
      "INFO:tensorflow:Assets written to: model_critic_10_116.4\\assets\n",
      "new episode\n",
      "total test reward is 74.0\n",
      "new episode\n",
      "total test reward is 87.4\n",
      "new episode\n",
      "total test reward is 158.4\n",
      "best reward=158.4\n",
      "INFO:tensorflow:Assets written to: model_actor_13_158.4\\assets\n",
      "INFO:tensorflow:Assets written to: model_critic_13_158.4\\assets\n",
      "new episode\n",
      "total test reward is 172.6\n",
      "best reward=172.6\n",
      "INFO:tensorflow:Assets written to: model_actor_14_172.6\\assets\n",
      "INFO:tensorflow:Assets written to: model_critic_14_172.6\\assets\n",
      "new episode\n",
      "total test reward is 155.6\n",
      "new episode\n",
      "total test reward is 179.4\n",
      "best reward=179.4\n",
      "INFO:tensorflow:Assets written to: model_actor_16_179.4\\assets\n",
      "INFO:tensorflow:Assets written to: model_critic_16_179.4\\assets\n",
      "new episode\n",
      "total test reward is 186.2\n",
      "best reward=186.2\n",
      "INFO:tensorflow:Assets written to: model_actor_17_186.2\\assets\n",
      "INFO:tensorflow:Assets written to: model_critic_17_186.2\\assets\n",
      "new episode\n",
      "total test reward is 89.2\n",
      "new episode\n",
      "total test reward is 116.0\n",
      "new episode\n",
      "total test reward is 145.8\n",
      "new episode\n",
      "total test reward is 139.6\n",
      "new episode\n",
      "total test reward is 80.8\n",
      "new episode\n",
      "total test reward is 67.0\n",
      "new episode\n",
      "total test reward is 82.8\n",
      "new episode\n",
      "total test reward is 121.6\n",
      "new episode\n",
      "total test reward is 191.0\n",
      "best reward=191.0\n",
      "INFO:tensorflow:Assets written to: model_actor_26_191.0\\assets\n",
      "INFO:tensorflow:Assets written to: model_critic_26_191.0\\assets\n",
      "new episode\n",
      "total test reward is 191.8\n",
      "best reward=191.8\n",
      "INFO:tensorflow:Assets written to: model_actor_27_191.8\\assets\n",
      "INFO:tensorflow:Assets written to: model_critic_27_191.8\\assets\n",
      "new episode\n",
      "total test reward is 143.8\n",
      "new episode\n",
      "total test reward is 130.6\n",
      "new episode\n",
      "total test reward is 129.4\n",
      "new episode\n",
      "total test reward is 190.8\n",
      "new episode\n",
      "total test reward is 168.8\n",
      "new episode\n",
      "total test reward is 140.8\n",
      "new episode\n",
      "total test reward is 197.2\n",
      "best reward=197.2\n",
      "INFO:tensorflow:Assets written to: model_actor_34_197.2\\assets\n",
      "INFO:tensorflow:Assets written to: model_critic_34_197.2\\assets\n",
      "new episode\n",
      "total test reward is 179.2\n",
      "new episode\n",
      "total test reward is 147.6\n",
      "new episode\n",
      "total test reward is 150.6\n",
      "new episode\n",
      "total test reward is 122.0\n",
      "new episode\n",
      "total test reward is 99.8\n",
      "new episode\n",
      "total test reward is 94.2\n",
      "new episode\n",
      "total test reward is 92.4\n",
      "new episode\n",
      "total test reward is 163.4\n",
      "new episode\n",
      "total test reward is 115.4\n",
      "new episode\n",
      "total test reward is 117.8\n",
      "new episode\n",
      "total test reward is 162.4\n",
      "new episode\n",
      "total test reward is 117.8\n",
      "new episode\n",
      "total test reward is 41.6\n",
      "new episode\n",
      "total test reward is 85.8\n",
      "new episode\n",
      "total test reward is 112.8\n",
      "new episode\n",
      "total test reward is 97.4\n",
      "new episode\n",
      "total test reward is 82.8\n",
      "new episode\n",
      "total test reward is 98.6\n",
      "new episode\n",
      "total test reward is 112.2\n",
      "new episode\n",
      "total test reward is 162.8\n",
      "new episode\n",
      "total test reward is 146.4\n",
      "new episode\n",
      "total test reward is 164.6\n",
      "new episode\n",
      "total test reward is 72.0\n",
      "new episode\n",
      "total test reward is 159.8\n",
      "new episode\n",
      "total test reward is 200.0\n",
      "best reward=200.0\n",
      "INFO:tensorflow:Assets written to: model_actor_59_200.0\\assets\n",
      "INFO:tensorflow:Assets written to: model_critic_59_200.0\\assets\n"
     ]
    }
   ],
   "source": [
    "tf.random.set_seed(336699)\n",
    "agentoo7 = agent()\n",
    "steps = 5000\n",
    "ep_reward = []\n",
    "total_avgr = []\n",
    "target = False \n",
    "best_reward = 0\n",
    "avg_rewards_list = []\n",
    "\n",
    "\n",
    "for s in range(steps):\n",
    "    if target == True:\n",
    "          break\n",
    "            \n",
    "    done = False\n",
    "    state = env.reset()\n",
    "    all_aloss = []\n",
    "    all_closs = []\n",
    "    rewards = []\n",
    "    states = []\n",
    "    actions = []\n",
    "    probs = []\n",
    "    dones = []\n",
    "    values = []\n",
    "    print(\"new episode\")\n",
    "\n",
    "    for e in range(128):\n",
    "        action = agentoo7.act(state)\n",
    "        value = agentoo7.critic(np.array([state])).numpy()\n",
    "        next_state, reward, done, _ = env.step(action)\n",
    "        dones.append(1-done)\n",
    "        rewards.append(reward)\n",
    "        states.append(state)\n",
    "        actions.append(action)\n",
    "        prob = agentoo7.actor(np.array([state]))\n",
    "        probs.append(prob[0])\n",
    "        values.append(value[0][0])\n",
    "        state = next_state\n",
    "        if done:\n",
    "            env.reset()\n",
    "            \n",
    "    value = agentoo7.critic(np.array([state])).numpy()\n",
    "    values.append(value[0][0])\n",
    "    np.reshape(probs, (len(probs),2))\n",
    "    probs = np.stack(probs, axis=0)\n",
    "\n",
    "    states, actions,returns, adv  = preprocess1(states, actions, \n",
    "                                                rewards, dones, values, 1)\n",
    "\n",
    "    for epocs in range(10):\n",
    "        al,cl = agentoo7.learn(states, actions, adv, probs, returns)\n",
    "        \n",
    "    avg_reward = np.mean([test_reward(env) for _ in range(5)])\n",
    "    print(f\"total test reward is {avg_reward}\")\n",
    "    avg_rewards_list.append(avg_reward)\n",
    "    if avg_reward > best_reward:\n",
    "        print('best reward=' + str(avg_reward))\n",
    "        agentoo7.actor.save('model_actor_{}_{}'.format(s, avg_reward), save_format=\"tf\")\n",
    "        agentoo7.critic.save('model_critic_{}_{}'.format(s, avg_reward), save_format=\"tf\")\n",
    "        best_reward = avg_reward\n",
    "    if best_reward == 200:\n",
    "        target = True\n",
    "    env.reset()\n",
    "env.close()"
   ]
  },
  {
   "cell_type": "code",
   "execution_count": 10,
   "id": "7c81b18a",
   "metadata": {
    "ExecuteTime": {
     "end_time": "2021-05-04T06:45:50.695637Z",
     "start_time": "2021-05-04T06:45:50.486097Z"
    }
   },
   "outputs": [],
   "source": [
    "import matplotlib.pyplot as plt"
   ]
  },
  {
   "cell_type": "code",
   "execution_count": 11,
   "id": "35032eb7",
   "metadata": {
    "ExecuteTime": {
     "end_time": "2021-05-04T06:45:50.861419Z",
     "start_time": "2021-05-04T06:45:50.697500Z"
    }
   },
   "outputs": [
    {
     "data": {
      "image/png": "[encoded data removed]",
      "text/plain": [
       "<Figure size 432x288 with 1 Axes>"
      ]
     },
     "metadata": {
      "needs_background": "light"
     },
     "output_type": "display_data"
    }
   ],
   "source": [
    "ep = [i  for i in range(len(avg_rewards_list))]\n",
    "plt.plot( range(len(avg_rewards_list)),avg_rewards_list,'b')\n",
    "plt.title(\"Avg Test Aeward Vs Test Episods\")\n",
    "plt.xlabel(\"Test Episods\")\n",
    "plt.ylabel(\"Average Test Reward\")\n",
    "plt.grid(True)\n",
    "plt.show()"
   ]
  },
  {
   "cell_type": "code",
   "execution_count": null,
   "id": "275afc0c",
   "metadata": {},
   "outputs": [],
   "source": []
  }
 ],
 "metadata": {
  "kernelspec": {
   "display_name": "RL",
   "language": "python",
   "name": "rl"
  },
  "language_info": {
   "codemirror_mode": {
    "name": "ipython",
    "version": 3
   },
   "file_extension": ".py",
   "mimetype": "text/x-python",
   "name": "python",
   "nbconvert_exporter": "python",
   "pygments_lexer": "ipython3",
   "version": "3.7.10"
  }
 },
 "nbformat": 4,
 "nbformat_minor": 5
}
