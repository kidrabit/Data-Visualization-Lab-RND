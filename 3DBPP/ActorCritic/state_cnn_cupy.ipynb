{
 "cells": [
  {
   "cell_type": "code",
   "execution_count": 1,
   "id": "3d4e18b2",
   "metadata": {
    "ExecuteTime": {
     "end_time": "2021-05-03T09:07:01.055745Z",
     "start_time": "2021-05-03T09:06:58.480133Z"
    }
   },
   "outputs": [],
   "source": [
    "import pickle\n",
    "import itertools\n",
    "import os\n",
    "import random\n",
    "import math\n",
    "import time\n",
    "import collections\n",
    "import numpy as np\n",
    "import pandas as pd\n",
    "import tensorflow as tf\n",
    "import matplotlib.pyplot as plt\n",
    "\n",
    "from collections import deque\n",
    "from tensorflow.keras.optimizers import Adam\n",
    "from tensorflow.keras import Sequential\n",
    "from tensorflow.keras.layers import Dense, Conv1D, MaxPooling1D, Flatten, concatenate, Conv2D, MaxPooling2D\n",
    "\n",
    "from libs_cupy.utils import *\n",
    "from libs_cupy.generate_boxes import  *\n",
    "import cupy as cp"
   ]
  },
  {
   "cell_type": "code",
   "execution_count": 2,
   "id": "655c8b7a",
   "metadata": {
    "ExecuteTime": {
     "end_time": "2021-05-03T09:07:01.070706Z",
     "start_time": "2021-05-03T09:07:01.056743Z"
    }
   },
   "outputs": [],
   "source": [
    "os.environ['TF_CPP_MIN_LOG_LEVEL'] = '0'\n",
    "tf.get_logger().setLevel('INFO')\n",
    "tf.keras.backend.floatx()\n",
    "\n",
    "plt.style.use('fivethirtyeight')\n",
    "plt.rcParams['figure.figsize'] = (20,10)"
   ]
  },
  {
   "cell_type": "code",
   "execution_count": 3,
   "id": "425496b3",
   "metadata": {
    "ExecuteTime": {
     "end_time": "2021-05-03T09:07:01.085667Z",
     "start_time": "2021-05-03T09:07:01.071704Z"
    }
   },
   "outputs": [],
   "source": [
    "def load_bbox(r_boxes, env, agent):\n",
    "    step = 0\n",
    "    done = False\n",
    "    \n",
    "    used_boxes, pred_pos, actions = [],[],[]\n",
    "    history, remains, comb, s_orders = [],[],[],[]\n",
    "    next_history, next_comb, next_remains, next_s_orders = [],[],[],[]\n",
    "    \n",
    "    while not done:\n",
    "        state = env.container.copy()\n",
    "        state_h = env.update_h().copy()\n",
    "        step += 1\n",
    "        k = min(K, len(r_boxes))\n",
    "        \n",
    "        selected = cbn_select_boxes(r_boxes[:n_candidates], k)\n",
    "        s_order = get_selected_order(selected, k)\n",
    "        s_loc_c, pred_pos_c, used_boxes_c, next_state_c, num_loaded_box_c,next_cube_c = get_selected_location(s_order, pred_pos, used_boxes, state)\n",
    "        loaded_mh_c = cp.array([get_loaded_mh(s_loc, env.length, env.breadth,\n",
    "                                             env.height) for s_loc in s_loc_c])\n",
    "        in_state, in_r_boxes = raw_to_input(state_h, s_order, r_boxes,\n",
    "                                          num_max_remain, env.height)\n",
    "        \n",
    "        action_idx = agent.get_action(in_state, loaded_mh_c, in_r_boxes)\n",
    "        print(len(loaded_mh_c), action_idx)\n",
    "        \n",
    "        history.append(in_state[action_idx])\n",
    "        loaded_mh = get_loaded_mh(s_loc_c[action_idx], env.length,\n",
    "                                 env.breadth, env.height)\n",
    "        comb.append(loaded_mh)\n",
    "        actions.append(action_idx)\n",
    "        remains.append(in_r_boxes[action_idx])\n",
    "        \n",
    "        env.convert_state(next_cube_c[action_idx])\n",
    "        \n",
    "        next_state = env.container.copy()\n",
    "        next_state_h = env.container_h.copy()\n",
    "        next_history.append(next_state_h)\n",
    "        \n",
    "        num_loaded_box = num_loaded_box_c[action_idx]\n",
    "        if num_loaded_box != 0:\n",
    "            new_used_boxes = get_remain(used_boxes, used_boxes_c[action_idx])\n",
    "            r_boxes = get_remain(new_used_boxes, r_boxes)\n",
    "        else:\n",
    "            r_boxes = get_remain(s_order[action_idx], r_boxes)\n",
    "        \n",
    "        used_boxes = used_boxes_c[action_idx]\n",
    "        pred_pos = pred_pos_c[action_idx]\n",
    "        \n",
    "        if len(r_boxes) == 0:\n",
    "            done = True\n",
    "            next_remains.append(cp.zeros((num_max_remain, 3)))\n",
    "            next_comb.append(cp.zeros((1, env.length, env.breadth, 2)))\n",
    "            next_s_orders.append(cp.zeros((1,1,3)))\n",
    "        else:\n",
    "            next_remains.append(r_boxes)\n",
    "            k = min(K, len(r_boxes))\n",
    "            selected = cbn_select_boxes(r_boxes[:n_candidates], k)\n",
    "            s_order = get_selected_order(selected, k)\n",
    "            s_loc_c,_,_,_,_,_ = get_selected_location(s_order, pred_pos,\n",
    "                                                     used_boxes, next_state)\n",
    "            loaded_mh_c = cp.array([get_loaded_mh(s_loc, env.length,env.breadth,\n",
    "                                                  env.height) for s_loc in s_loc_c])\n",
    "            next_comb.append(loaded_mh_c)\n",
    "            next_s_orders.append(s_order)\n",
    "            \n",
    "            if cp.sum(env.container_h != env.height) == 0:\n",
    "                done = True\n",
    "    \n",
    "    tr_b = env.terminal_reward()\n",
    "    return tr_b, step, history, used_boxes, remains, comb, pred_pos, actions, s_orders, next_history, next_comb, next_remains, next_s_orders, r_boxes"
   ]
  },
  {
   "cell_type": "code",
   "execution_count": 4,
   "id": "9dd06b81",
   "metadata": {
    "ExecuteTime": {
     "end_time": "2021-05-03T09:07:01.506350Z",
     "start_time": "2021-05-03T09:07:01.086664Z"
    }
   },
   "outputs": [],
   "source": [
    "mi = 'U1'; t='PP'\n",
    "with open('data/preprocessed_packing/'+mi + '_'+ t +'_r.pickle', 'rb') as handle: \n",
    "    boxes_multi = pickle.load(handle)\n",
    "for i in range(len(boxes_multi)):\n",
    "    boxes_multi[i] = boxes_multi[i][:,:3]//10\n",
    "\n",
    "bboxes = cp.load('data/preprocessed_pcked/bboxes1.npy')\n",
    "bboxes = bboxes[:, :, :, :, 0]\n",
    "for i in range(len(boxes_multi)):\n",
    "    if cp.sum(boxes_multi[i][:,0]>198) or cp.sum(boxes_multi[i][:,1]>114) or cp.sum(boxes_multi[i][:,2]>110):\n",
    "        print('n', i)"
   ]
  },
  {
   "cell_type": "code",
   "execution_count": 5,
   "id": "d0e967d5",
   "metadata": {
    "ExecuteTime": {
     "end_time": "2021-05-03T09:07:01.521132Z",
     "start_time": "2021-05-03T09:07:01.507136Z"
    }
   },
   "outputs": [
    {
     "data": {
      "text/plain": [
       "(32,\n",
       " array([[56, 53, 24],\n",
       "        [56, 53, 24],\n",
       "        [56, 53, 24],\n",
       "        [56, 53, 24],\n",
       "        [56, 53, 24],\n",
       "        [56, 53, 24],\n",
       "        [56, 53, 24],\n",
       "        [56, 53, 24],\n",
       "        [56, 53, 24],\n",
       "        [56, 53, 24],\n",
       "        [56, 53, 24],\n",
       "        [47, 35, 24],\n",
       "        [47, 35, 24],\n",
       "        [47, 35, 24],\n",
       "        [47, 35, 24],\n",
       "        [47, 35, 24],\n",
       "        [47, 35, 24],\n",
       "        [47, 35, 24],\n",
       "        [47, 35, 24],\n",
       "        [47, 35, 24],\n",
       "        [47, 35, 24],\n",
       "        [47, 35, 24],\n",
       "        [47, 35, 24],\n",
       "        [47, 35, 24],\n",
       "        [47, 35, 24],\n",
       "        [47, 35, 24],\n",
       "        [47, 35, 24],\n",
       "        [47, 35, 24],\n",
       "        [47, 35, 24],\n",
       "        [47, 35, 24],\n",
       "        [47, 35, 24],\n",
       "        [47, 35, 24]], dtype=int64))"
      ]
     },
     "execution_count": 5,
     "metadata": {},
     "output_type": "execute_result"
    }
   ],
   "source": [
    "len(boxes_multi[0]), boxes_multi[0]"
   ]
  },
  {
   "cell_type": "code",
   "execution_count": 6,
   "id": "367f951b",
   "metadata": {
    "ExecuteTime": {
     "end_time": "2021-05-03T09:07:01.536061Z",
     "start_time": "2021-05-03T09:07:01.522099Z"
    }
   },
   "outputs": [],
   "source": [
    "class ActorCritic_UseCNN(tf.keras.Model):\n",
    "    def __init__(self, state_size, selected_size, remain_size, output_size):\n",
    "        super(ActorCritic_UseCNN, self).__init__()\n",
    "        \n",
    "        self.case_cnn1 = Conv2D(filters=16, kernel_size=3, activation='relu',\n",
    "                               padding='valid', input_shape=state_size)\n",
    "        self.case_cnn2 = Conv2D(filters=16, kernel_size=3, activation='relu',\n",
    "                               padding='valid')\n",
    "        \n",
    "        self.select_cnn1 = Conv2D(filters=16, kernel_size=3, activation='relu',\n",
    "                                 padding='valid', input_shape=selected_size)\n",
    "        self.select_cnn2 = Conv2D(filters=16, kernel_size=3, activation='relu',\n",
    "                                 padding='valid')\n",
    "        \n",
    "        cs_size = state_size[:2] + (state_size[2] + selected_size[2], )\n",
    "        self.cs_cnn1 = Conv2D(filters=16, kernel_size=3, activation='relu',\n",
    "                             padding='valid', input_shape=cs_size)\n",
    "        self.cs_cnn2 = Conv2D(filters=16, kernel_size=3, activation='relu',\n",
    "                             padding='valid')\n",
    "        \n",
    "        self.remain_cnn1 = Conv1D(filters=32, kernel_size=2, activation='relu',\n",
    "                                 padding='same', input_shape=remain_size)\n",
    "        self.remain_cnn2 = Conv1D(filters=32, kernel_size=2, activation='relu',\n",
    "                                 padding='same')\n",
    "        \n",
    "        self.d1 = Dense(512, activation='relu')\n",
    "        self.d2 = Dense(256, activation='relu')\n",
    "        self.d3 = Dense(128, activation='relu')\n",
    "        self.out = Dense(output_size)\n",
    "    \n",
    "    def call(self, cb_list):\n",
    "        c,s,r = cb_list[0], cb_list[1], cb_list[2]\n",
    "        cs = tf.concat([c,s],-1)\n",
    "        \n",
    "        c = self.case_cnn1(c)\n",
    "        c = MaxPooling2D(pool_size=(2,2))(c)\n",
    "        c = self.case_cnn2(c)\n",
    "        c = MaxPooling2D(pool_size=(2,2))(c)\n",
    "        c = Flatten()(c)\n",
    "        \n",
    "        s = self.select_cnn1(s)\n",
    "        s = MaxPooling2D(pool_size=(2,2))(s)\n",
    "        s = self.select_cnn2(s)\n",
    "        s = MaxPooling2D(pool_size=(2,2))(s)\n",
    "        s = Flatten()(s)\n",
    "        \n",
    "        cs = self.cs_cnn1(cs)\n",
    "        cs = MaxPooling2D(pool_size=(2,2))(cs)\n",
    "        cs = self.cs_cnn2(cs)\n",
    "        cs = MaxPooling2D(pool_size=(2,2))(cs)\n",
    "        cs = Flatten()(cs)\n",
    "        \n",
    "        r = self.remain_cnn1(r)\n",
    "        r = self.remain_cnn2(r)\n",
    "        r = MaxPooling1D(pool_size=1)(r)\n",
    "        r = Flatten()(r)\n",
    "        \n",
    "        x = concatenate([c,s,cs,r])\n",
    "        x = self.d1(x)\n",
    "        x = self.d2(x)\n",
    "        x = self.d3(x)\n",
    "        q = self.out(x)\n",
    "        return q"
   ]
  },
  {
   "cell_type": "code",
   "execution_count": 7,
   "id": "4822acc1",
   "metadata": {
    "ExecuteTime": {
     "end_time": "2021-05-03T09:07:01.551021Z",
     "start_time": "2021-05-03T09:07:01.538056Z"
    }
   },
   "outputs": [],
   "source": [
    "class ActorCritic_ExceptCNN(tf.keras.Model):\n",
    "    def __init__(self, state_size, selected_size, remain_size, output_size):\n",
    "        super(ActorCritic_ExceptCNN, self).__init__()\n",
    "        \n",
    "        l1, b1, k1 = state_size\n",
    "        self.state_size = (l1 * b1 * k1, )\n",
    "        self.case_dnn1 = Dense(256, activation='relu', input_shape = self.state_size)\n",
    "        self.case_dnn2 = Dense(256, activation='relu')\n",
    "        \n",
    "        l2, b2, k2 = selected_size\n",
    "        self.selected_size = (l2 * b2 * k2, )\n",
    "        self.select_dnn1 = Dense(256, activation='relu', \n",
    "                                 input_shape = self.state_size)\n",
    "        self.select_dnn2 = Dense(256, activation='relu')\n",
    "        \n",
    "        self.cs_size = (l1*b1*k1 + l2*b2*k2, )\n",
    "        self.cs_dnn1 = Dense(256, activation='relu', input_shape = self.cs_size)\n",
    "        self.cs_dnn2 = Dense(256, activation='relu')\n",
    "        \n",
    "        r, k = remain_size\n",
    "        self.remain_size = (r*k, )\n",
    "        self.remain_dnn1 = Dense(256, activation='relu', \n",
    "                                 input_shape=self.remain_size)\n",
    "        self.remain_dnn2 = Dense(256, activation='relu')\n",
    "        \n",
    "        self.fc1 = Dense(512, activation='relu')\n",
    "        self.fc2 = Dense(256, activation='relu')\n",
    "        self.fc3 = Dense(128, activation='relu')\n",
    "        self.fc_out = Dense(output_size)\n",
    "        \n",
    "    def call(self, cb_list):\n",
    "        c,s,r = cb_list[0], cb_list[1], cb_list[2]\n",
    "        \n",
    "        c = tf.reshape(c, [-1, self.state_size[0]])\n",
    "        s = tf.reshape(s, [-1, self.selected_size[0]])\n",
    "        r = tf.reshape(r, [-1, self.remain_size[0]])\n",
    "        cs = tf.concat([c,s], -1)\n",
    "        \n",
    "        c = self.case_dnn1(c)\n",
    "        c = self.case_dnn2(c)\n",
    "        \n",
    "        s = self.select_dnn1(s)\n",
    "        s = self.select_dnn2(s)\n",
    "        \n",
    "        cs = self.cs_dnn1(cs)\n",
    "        cs = self.cs_dnn2(cs)\n",
    "        \n",
    "        r = self.remain_dnn1(r)\n",
    "        r = self.remain_dnn2(r)\n",
    "        \n",
    "        x = concatenate([c,s,cs,r])\n",
    "        x = self.fc1(x)\n",
    "        x = self.fc2(x)\n",
    "        x = self.fc3(x)\n",
    "        q = self.fc_out(x)\n",
    "        return q"
   ]
  },
  {
   "cell_type": "code",
   "execution_count": 8,
   "id": "7696982b",
   "metadata": {
    "ExecuteTime": {
     "end_time": "2021-05-03T09:07:01.566042Z",
     "start_time": "2021-05-03T09:07:01.553015Z"
    }
   },
   "outputs": [],
   "source": [
    "class ActorCritic_OnlyDense(tf.keras.Model):\n",
    "    def __init__(self, state_size, selected_size, remain_size, output_size):\n",
    "        super(ActorCritic_OnlyDense, self).__init__()\n",
    "        \n",
    "        self.d1 = Dense(512, activation='relu')\n",
    "        self.d2 = Dense(256, activation='relu')\n",
    "        self.d3 = Dense(128, activation='relu')\n",
    "        self.out = Dense(output_size)\n",
    "        \n",
    "    def call(self, cb_list):\n",
    "        c,s,r = cb_list[0], cb_list[1], cb_list[2]\n",
    "        cs = tf.concat([c,s], -1)\n",
    "        \n",
    "        c = Flatten()(c)\n",
    "        s = Flatten()(s)\n",
    "        cs = Flatten()(cs)\n",
    "        r = Flatten()(r)\n",
    "        \n",
    "        x = concatenate([c,s,cs,r])\n",
    "        x = self.d1(x)\n",
    "        x = self.d2(x)\n",
    "        x = self.d3(x)\n",
    "        q = self.out(x)\n",
    "        \n",
    "        return q"
   ]
  },
  {
   "cell_type": "code",
   "execution_count": 9,
   "id": "8681bd89",
   "metadata": {
    "ExecuteTime": {
     "end_time": "2021-05-03T09:07:01.581018Z",
     "start_time": "2021-05-03T09:07:01.567039Z"
    }
   },
   "outputs": [],
   "source": [
    "class ActorCriticAgent:\n",
    "    def __init__(self, L=20,B=20,H=20,n_remains=5,lr=1e-8,gamma=0.99,model_num=1):\n",
    "        \n",
    "        self.state_size = (L,B,1)\n",
    "        self.selected_size = (L,B,2)\n",
    "        self.remain_size = (n_remains, 3)\n",
    "        self.output_size = 1\n",
    "        \n",
    "        self.gamma = gamma\n",
    "        self.lr = lr\n",
    "        \n",
    "        if model_num == 0: #Use CNN\n",
    "            self.actor = ActorCritic_UseCNN(self.state_size, self.selected_size,\n",
    "                                           self.remain_size, self.output_size)\n",
    "            self.critic = ActorCritic_UseCNN(self.state_size, self.selected_size,\n",
    "                                            self.remain_size, self.output_size)\n",
    "        elif model_num == 1: #Use DNN\n",
    "            self.actor = ActorCritic_ExceptCNN(self.state_size, self.selected_size,\n",
    "                                              self.remain_size, self.output_size)\n",
    "            self.critic = ActorCritic_ExceptCNN(self.state_size, self.selected_size,\n",
    "                                               self.remain_size, self.output_size)\n",
    "        else: #Use Small DNN\n",
    "            self.actor = ActorCritic_OnlyDense(self.state_size, self.selected_size,\n",
    "                                              self.remain_size, self.output_size)\n",
    "            self.critic = ActorCritic_OnlyDense(self.state_size, self.selected_size,\n",
    "                                               self.remain_size, self.output_size)\n",
    "        \n",
    "        self.memory = deque(maxlen=500)\n",
    "        \n",
    "        self.actor_optimizer = Adam(self.lr)\n",
    "        self.critic_optimizer = Adam(self.lr)\n",
    "        self.avg_actor_loss, self.avg_critic_loss = 0, 0\n",
    "        \n",
    "    def get_action(self, state, s_locs, r_boxes):\n",
    "        state = cp.asnumpy(state)\n",
    "        s_locs = cp.asnumpy(s_locs)\n",
    "        r_boxes = cp.asnumpy(r_boxes)\n",
    "        actor = self.actor([state, s_locs, r_boxes])\n",
    "        print(actor)\n",
    "        argmax_idx = np.where(actor == tf.math.reduce_max(actor))\n",
    "        action_idx = argmax_idx[0][0]\n",
    "        return action_idx\n",
    "    \n",
    "    def append_sample(self, history, s_boxes, remains, action, reward, last, t_history, t_s_boxes, t_remains):\n",
    "        self.memory.append(( history, s_boxes, remains, action, reward, last, t_history, t_s_boxes, t_remains))\n",
    "        \n",
    "    def train(self):\n",
    "        batch = random.sample(self.memory, len(self.memory))\n",
    "        \n",
    "        history = cp.array([sample[0] for sample in batch])\n",
    "        s_boxes = cp.array([sample[1] for sample in batch])\n",
    "        remains = cp.array([sample[2] for sample in batch])\n",
    "        action = cp.array([sample[3] for sample in batch])\n",
    "        reward = cp.array([sample[4] for sample in batch])\n",
    "        dones = cp.array([sample[5] for sample in batch])\n",
    "        next_history = [sample[6] for sample in batch]\n",
    "        next_s_boxes = [sample[7] for sample in batch]\n",
    "        next_remains = [sample[8] for sample in batch]\n",
    "        \n",
    "        with tf.GradientTape() as actor_tape, tf.GradientTape() as critic_tape:\n",
    "            actor = self.actor([history, s_boxes, remains])\n",
    "            value = self.critic([history, s_boxes, remains])\n",
    "            \n",
    "            print('actor')\n",
    "            print(actor)\n",
    "            print('value')\n",
    "            print(value)\n",
    "            \n",
    "            targets = []\n",
    "            action_idx = cp.stack([cp.arange(len(self.memory)),action],axis=1)\n",
    "            print(action_idx)\n",
    "            acts = tf.gather_nd(actor, action_idx, batch_dims=0, name=None)\n",
    "            predicts = tf.gather_nd(value, action_idx, batch_dims=0, name=None)\n",
    "            \n",
    "            for i in range(len(self.memory)):\n",
    "                next_value = self.critic([next_history[i],next_s_boxes[i],\n",
    "                                         next_remains[i]])\n",
    "                next_max_value = tf.math.reduce_max(next_value)\n",
    "                targets.append([(1-0.75)*reward[i] + (1-dones[i])*0.75*next_max_value])\n",
    "            \n",
    "            targets = cp.array(targets)\n",
    "            actor_loss = tf.reduce_mean(tf.square(targets - acts))\n",
    "            critic_loss = tf.reduce_mean(tf.square(targets - predicts))\n",
    "            \n",
    "            self.avg_actor_loss += actor_loss.numpy()\n",
    "            self.avg_critic_loss += critic_loss.numpy()\n",
    "        \n",
    "        actor_grads = actor_tape.gradient(actor_loss, self.actor.trainable_variables)\n",
    "        critic_grads = critic_tape.gradient(critic_loss, self.critic.trainable_variables)\n",
    "        self.actor_optimizer.apply_gradients(zip(actor_grads,\n",
    "                                                self.actor.trainable_variables))\n",
    "        self.critic_optimizer.apply_gradients(zip(critic_grads,\n",
    "                                                 self.critic.trainable_variables))"
   ]
  },
  {
   "cell_type": "code",
   "execution_count": null,
   "id": "e1f781bf",
   "metadata": {},
   "outputs": [],
   "source": []
  },
  {
   "cell_type": "code",
   "execution_count": 10,
   "id": "c618a5b2",
   "metadata": {
    "ExecuteTime": {
     "end_time": "2021-05-03T09:07:02.269263Z",
     "start_time": "2021-05-03T09:07:01.581998Z"
    }
   },
   "outputs": [
    {
     "name": "stdout",
     "output_type": "stream",
     "text": [
      "num_max_boxes 100 num_max_remain 100\n"
     ]
    }
   ],
   "source": [
    "num_episode = 1000\n",
    "env1 = Bpp3DEnv(198, 114, 110, bboxes[0])\n",
    "env2 = Bpp3DEnv(198, 114, 110, bboxes[1])\n",
    "env3 = Bpp3DEnv(198, 114, 110, bboxes[2])\n",
    "env4 = Bpp3DEnv(198, 114, 110, bboxes[3])\n",
    "env_all = [env1, env2, env3, env4]\n",
    "\n",
    "tr_l, h_fill, avg_loss_l,history_eps,used_boxes_eps  = [],[],[],[],[]\n",
    "\n",
    "num_max_boxes = 100 #len(boxes_multi)\n",
    "K = 3\n",
    "n_candidates = 3 #4\n",
    "num_max_remain = num_max_boxes #-K\n",
    "agent = ActorCriticAgent(L=198, B=114, H=110, n_remains = num_max_remain,  \n",
    "                 lr=1e-4, gamma = 0.99, model_num = 1)\n",
    "print('num_max_boxes',num_max_boxes,'num_max_remain',num_max_remain)"
   ]
  },
  {
   "cell_type": "code",
   "execution_count": null,
   "id": "c9cabf21",
   "metadata": {},
   "outputs": [],
   "source": []
  },
  {
   "cell_type": "code",
   "execution_count": 11,
   "id": "96679eb5",
   "metadata": {
    "ExecuteTime": {
     "end_time": "2021-05-03T09:07:11.605859Z",
     "start_time": "2021-05-03T09:07:02.270254Z"
    },
    "scrolled": false
   },
   "outputs": [
    {
     "name": "stdout",
     "output_type": "stream",
     "text": [
      "================== 0 (32, 3)\n"
     ]
    },
    {
     "name": "stderr",
     "output_type": "stream",
     "text": [
      "C:\\Users\\vfgtr\\anaconda3\\envs\\RL-CUPY\\lib\\site-packages\\ipykernel_launcher.py:4: VisibleDeprecationWarning: Creating an ndarray from ragged nested sequences (which is a list-or-tuple of lists-or-tuples-or ndarrays with different lengths or shapes) is deprecated. If you meant to do this, you must specify 'dtype=object' when creating the ndarray\n",
      "  after removing the cwd from sys.path.\n"
     ]
    },
    {
     "name": "stdout",
     "output_type": "stream",
     "text": [
      "tf.Tensor([[-0.7240225]], shape=(1, 1), dtype=float32)\n",
      "1 0\n"
     ]
    },
    {
     "ename": "ValueError",
     "evalue": "The truth value of an array with more than one element is ambiguous. Use a.any() or a.all()",
     "output_type": "error",
     "traceback": [
      "\u001b[1;31m---------------------------------------------------------------------------\u001b[0m",
      "\u001b[1;31mValueError\u001b[0m                                Traceback (most recent call last)",
      "\u001b[1;32m<ipython-input-11-3bd8b9933b4c>\u001b[0m in \u001b[0;36m<module>\u001b[1;34m\u001b[0m\n\u001b[0;32m     13\u001b[0m         \u001b[0menv_t\u001b[0m \u001b[1;33m=\u001b[0m \u001b[0mtime\u001b[0m\u001b[1;33m.\u001b[0m\u001b[0mtime\u001b[0m\u001b[1;33m(\u001b[0m\u001b[1;33m)\u001b[0m\u001b[1;33m\u001b[0m\u001b[1;33m\u001b[0m\u001b[0m\n\u001b[0;32m     14\u001b[0m         \u001b[1;33m(\u001b[0m\u001b[0menv_all\u001b[0m\u001b[1;33m[\u001b[0m\u001b[0mi\u001b[0m\u001b[1;33m]\u001b[0m\u001b[1;33m)\u001b[0m\u001b[1;33m.\u001b[0m\u001b[0mreset\u001b[0m\u001b[1;33m(\u001b[0m\u001b[1;33m)\u001b[0m\u001b[1;33m\u001b[0m\u001b[1;33m\u001b[0m\u001b[0m\n\u001b[1;32m---> 15\u001b[1;33m         \u001b[0mr\u001b[0m \u001b[1;33m=\u001b[0m \u001b[0mload_bbox\u001b[0m\u001b[1;33m(\u001b[0m\u001b[0mr_boxes\u001b[0m\u001b[1;33m[\u001b[0m\u001b[1;33m:\u001b[0m\u001b[0mnum_max_remain\u001b[0m\u001b[1;33m]\u001b[0m\u001b[1;33m,\u001b[0m \u001b[0menv_all\u001b[0m\u001b[1;33m[\u001b[0m\u001b[0mi\u001b[0m\u001b[1;33m]\u001b[0m\u001b[1;33m,\u001b[0m \u001b[0magent\u001b[0m\u001b[1;33m)\u001b[0m\u001b[1;33m\u001b[0m\u001b[1;33m\u001b[0m\u001b[0m\n\u001b[0m\u001b[0;32m     16\u001b[0m         \u001b[0mprint\u001b[0m\u001b[1;33m(\u001b[0m\u001b[0mi\u001b[0m\u001b[1;33m,\u001b[0m \u001b[0mr\u001b[0m\u001b[1;33m[\u001b[0m\u001b[1;36m0\u001b[0m\u001b[1;33m]\u001b[0m\u001b[1;33m,\u001b[0m \u001b[0mlen\u001b[0m\u001b[1;33m(\u001b[0m\u001b[0mr\u001b[0m\u001b[1;33m[\u001b[0m\u001b[1;36m3\u001b[0m\u001b[1;33m]\u001b[0m\u001b[1;33m)\u001b[0m\u001b[1;33m,\u001b[0m \u001b[0mtime\u001b[0m\u001b[1;33m.\u001b[0m\u001b[0mtime\u001b[0m\u001b[1;33m(\u001b[0m\u001b[1;33m)\u001b[0m\u001b[1;33m-\u001b[0m\u001b[0menv_t\u001b[0m\u001b[1;33m)\u001b[0m\u001b[1;33m\u001b[0m\u001b[1;33m\u001b[0m\u001b[0m\n\u001b[0;32m     17\u001b[0m         \u001b[0mbbox_results\u001b[0m\u001b[1;33m.\u001b[0m\u001b[0mappend\u001b[0m\u001b[1;33m(\u001b[0m\u001b[0mr\u001b[0m\u001b[1;33m)\u001b[0m\u001b[1;33m\u001b[0m\u001b[1;33m\u001b[0m\u001b[0m\n",
      "\u001b[1;32m<ipython-input-3-71d77435ad9b>\u001b[0m in \u001b[0;36mload_bbox\u001b[1;34m(r_boxes, env, agent)\u001b[0m\n\u001b[0;32m     40\u001b[0m         \u001b[1;32mif\u001b[0m \u001b[0mnum_loaded_box\u001b[0m \u001b[1;33m!=\u001b[0m \u001b[1;36m0\u001b[0m\u001b[1;33m:\u001b[0m\u001b[1;33m\u001b[0m\u001b[1;33m\u001b[0m\u001b[0m\n\u001b[0;32m     41\u001b[0m             \u001b[0mnew_used_boxes\u001b[0m \u001b[1;33m=\u001b[0m \u001b[0mget_remain\u001b[0m\u001b[1;33m(\u001b[0m\u001b[0mused_boxes\u001b[0m\u001b[1;33m,\u001b[0m \u001b[0mused_boxes_c\u001b[0m\u001b[1;33m[\u001b[0m\u001b[0maction_idx\u001b[0m\u001b[1;33m]\u001b[0m\u001b[1;33m)\u001b[0m\u001b[1;33m\u001b[0m\u001b[1;33m\u001b[0m\u001b[0m\n\u001b[1;32m---> 42\u001b[1;33m             \u001b[0mr_boxes\u001b[0m \u001b[1;33m=\u001b[0m \u001b[0mget_remain\u001b[0m\u001b[1;33m(\u001b[0m\u001b[0mnew_used_boxes\u001b[0m\u001b[1;33m,\u001b[0m \u001b[0mr_boxes\u001b[0m\u001b[1;33m)\u001b[0m\u001b[1;33m\u001b[0m\u001b[1;33m\u001b[0m\u001b[0m\n\u001b[0m\u001b[0;32m     43\u001b[0m         \u001b[1;32melse\u001b[0m\u001b[1;33m:\u001b[0m\u001b[1;33m\u001b[0m\u001b[1;33m\u001b[0m\u001b[0m\n\u001b[0;32m     44\u001b[0m             \u001b[0mr_boxes\u001b[0m \u001b[1;33m=\u001b[0m \u001b[0mget_remain\u001b[0m\u001b[1;33m(\u001b[0m\u001b[0ms_order\u001b[0m\u001b[1;33m[\u001b[0m\u001b[0maction_idx\u001b[0m\u001b[1;33m]\u001b[0m\u001b[1;33m,\u001b[0m \u001b[0mr_boxes\u001b[0m\u001b[1;33m)\u001b[0m\u001b[1;33m\u001b[0m\u001b[1;33m\u001b[0m\u001b[0m\n",
      "\u001b[1;32m~\\Jupyter Notebook Workspace\\Glovis Workspace\\libs_cupy\\utils.py\u001b[0m in \u001b[0;36mget_remain\u001b[1;34m(s_boxes, r_boxes)\u001b[0m\n\u001b[0;32m     51\u001b[0m \u001b[1;32mdef\u001b[0m \u001b[0mget_remain\u001b[0m\u001b[1;33m(\u001b[0m\u001b[0ms_boxes\u001b[0m\u001b[1;33m,\u001b[0m \u001b[0mr_boxes\u001b[0m\u001b[1;33m)\u001b[0m\u001b[1;33m:\u001b[0m\u001b[1;33m\u001b[0m\u001b[1;33m\u001b[0m\u001b[0m\n\u001b[0;32m     52\u001b[0m     \u001b[1;32mfor\u001b[0m \u001b[0mi\u001b[0m \u001b[1;32min\u001b[0m \u001b[0ms_boxes\u001b[0m\u001b[1;33m:\u001b[0m\u001b[1;33m\u001b[0m\u001b[1;33m\u001b[0m\u001b[0m\n\u001b[1;32m---> 53\u001b[1;33m         \u001b[1;32mif\u001b[0m \u001b[0mi\u001b[0m \u001b[1;32min\u001b[0m \u001b[0mr_boxes\u001b[0m\u001b[1;33m:\u001b[0m\u001b[1;33m\u001b[0m\u001b[1;33m\u001b[0m\u001b[0m\n\u001b[0m\u001b[0;32m     54\u001b[0m             \u001b[0mdrop_idx\u001b[0m \u001b[1;33m=\u001b[0m \u001b[0mcp\u001b[0m\u001b[1;33m.\u001b[0m\u001b[0mwhere\u001b[0m\u001b[1;33m(\u001b[0m\u001b[0mcp\u001b[0m\u001b[1;33m.\u001b[0m\u001b[0mall\u001b[0m\u001b[1;33m(\u001b[0m\u001b[0mi\u001b[0m\u001b[1;33m==\u001b[0m\u001b[0mr_boxes\u001b[0m\u001b[1;33m,\u001b[0m\u001b[0maxis\u001b[0m\u001b[1;33m=\u001b[0m\u001b[1;36m1\u001b[0m\u001b[1;33m)\u001b[0m\u001b[1;33m)\u001b[0m\u001b[1;33m[\u001b[0m\u001b[1;36m0\u001b[0m\u001b[1;33m]\u001b[0m\u001b[1;33m[\u001b[0m\u001b[1;36m0\u001b[0m\u001b[1;33m]\u001b[0m\u001b[1;33m\u001b[0m\u001b[1;33m\u001b[0m\u001b[0m\n\u001b[0;32m     55\u001b[0m             \u001b[0mr_boxes\u001b[0m \u001b[1;33m=\u001b[0m \u001b[0mcp\u001b[0m\u001b[1;33m.\u001b[0m\u001b[0mdelete\u001b[0m\u001b[1;33m(\u001b[0m\u001b[0mr_boxes\u001b[0m\u001b[1;33m,\u001b[0m \u001b[1;33m(\u001b[0m\u001b[0mdrop_idx\u001b[0m\u001b[1;33m)\u001b[0m\u001b[1;33m,\u001b[0m \u001b[0maxis\u001b[0m\u001b[1;33m=\u001b[0m\u001b[1;36m0\u001b[0m\u001b[1;33m)\u001b[0m\u001b[1;33m\u001b[0m\u001b[1;33m\u001b[0m\u001b[0m\n",
      "\u001b[1;32mcupy\\_core\\core.pyx\u001b[0m in \u001b[0;36mcupy._core.core.ndarray.__nonzero__\u001b[1;34m()\u001b[0m\n",
      "\u001b[1;31mValueError\u001b[0m: The truth value of an array with more than one element is ambiguous. Use a.any() or a.all()"
     ]
    }
   ],
   "source": [
    "agent = ActorCriticAgent(L=198, B=114, H=110, n_remains = num_max_remain,  \n",
    "                 lr=1e-4, gamma = 0.99, model_num = 2)\n",
    "st=time.time()\n",
    "boxes_all = np.array(boxes_multi)[0].copy()\n",
    "boxes_all = cp.array(boxes_all)\n",
    "r_boxes = boxes_all.copy()\n",
    "used_boxes, predicts, h_results, h_idx = [], [], [], []\n",
    "\n",
    "while len(r_boxes) > 0:\n",
    "    print('==================', len(used_boxes), r_boxes.shape)\n",
    "    bbox_results = []\n",
    "    for i in range(4):\n",
    "        env_t = time.time()\n",
    "        (env_all[i]).reset()\n",
    "        r = load_bbox(r_boxes[:num_max_remain], env_all[i], agent)\n",
    "        print(i, r[0], len(r[3]), time.time()-env_t)\n",
    "        bbox_results.append(r)\n",
    "    idx = np.argmax([bbox_results[0][0],bbox_results[1][0],bbox_results[2][0],bbox_results[3][0]])    \n",
    "    tr_b, sp, history, u_b, remains, comb, pred_pos, actions, s_orders, \\\n",
    "        t_history, t_combs, t_remains, t_s_orders, r_b = bbox_results[idx]\n",
    "    if len(u_b)==0:\n",
    "          break\n",
    "    h_results.append(bbox_results)\n",
    "    h_idx.append(idx)\n",
    "    used_boxes = used_boxes + u_b\n",
    "    r_boxes = get_remain(used_boxes, boxes_all)\n",
    "\n",
    "h_path = [r[i] for r,i in zip(h_results,h_idx) ]\n",
    "print(time.time() - st)"
   ]
  },
  {
   "cell_type": "code",
   "execution_count": null,
   "id": "df25ae9c",
   "metadata": {},
   "outputs": [],
   "source": []
  }
 ],
 "metadata": {
  "kernelspec": {
   "display_name": "RL-CUPY",
   "language": "python",
   "name": "rl-cupy"
  },
  "language_info": {
   "codemirror_mode": {
    "name": "ipython",
    "version": 3
   },
   "file_extension": ".py",
   "mimetype": "text/x-python",
   "name": "python",
   "nbconvert_exporter": "python",
   "pygments_lexer": "ipython3",
   "version": "3.7.10"
  }
 },
 "nbformat": 4,
 "nbformat_minor": 5
}
