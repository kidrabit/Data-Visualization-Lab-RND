{
 "cells": [
  {
   "cell_type": "code",
   "execution_count": 96,
   "id": "fb5b22d0",
   "metadata": {
    "ExecuteTime": {
     "end_time": "2021-05-27T20:52:33.867051Z",
     "start_time": "2021-05-27T20:52:33.850877Z"
    }
   },
   "outputs": [],
   "source": [
    "import tensorflow as tf\n",
    "gpu_devices = tf.config.experimental.list_physical_devices(\"GPU\")\n",
    "for device in gpu_devices:\n",
    "    tf.config.experimental.set_memory_growth(device, True)"
   ]
  },
  {
   "cell_type": "code",
   "execution_count": 97,
   "id": "99332bb4",
   "metadata": {
    "ExecuteTime": {
     "end_time": "2021-05-27T20:52:34.017829Z",
     "start_time": "2021-05-27T20:52:34.006648Z"
    }
   },
   "outputs": [],
   "source": [
    "from IPython.core.interactiveshell import InteractiveShell\n",
    "InteractiveShell.ast_node_interactivity = \"all\""
   ]
  },
  {
   "cell_type": "code",
   "execution_count": 98,
   "id": "ed592590",
   "metadata": {
    "ExecuteTime": {
     "end_time": "2021-05-27T20:52:34.184352Z",
     "start_time": "2021-05-27T20:52:34.176373Z"
    }
   },
   "outputs": [],
   "source": [
    "import random\n",
    "import numpy as np\n",
    "import pandas as pd\n",
    "import matplotlib.pyplot as plt\n",
    "import tensorflow as tf\n",
    "import tensorflow.keras.backend as kb\n",
    "\n",
    "from libs.feature_extraction import *\n",
    "from libs.make_model import *"
   ]
  },
  {
   "cell_type": "code",
   "execution_count": 99,
   "id": "aac2e266",
   "metadata": {
    "ExecuteTime": {
     "end_time": "2021-05-27T20:52:34.366162Z",
     "start_time": "2021-05-27T20:52:34.357027Z"
    }
   },
   "outputs": [],
   "source": [
    "from sklearn.preprocessing import MinMaxScaler\n",
    "from sklearn.model_selection import GridSearchCV\n",
    "from sklearn.metrics import classification_report, confusion_matrix, ConfusionMatrixDisplay"
   ]
  },
  {
   "cell_type": "code",
   "execution_count": 100,
   "id": "727ef1a2",
   "metadata": {
    "ExecuteTime": {
     "end_time": "2021-05-27T20:52:34.561926Z",
     "start_time": "2021-05-27T20:52:34.542844Z"
    }
   },
   "outputs": [],
   "source": [
    "from tensorflow.keras import Sequential\n",
    "from tensorflow.keras.models import Model\n",
    "from tensorflow.keras.layers import Dense, Conv1D, MaxPooling1D, LSTM, GRU, Dropout, SimpleRNN, concatenate, Input, Flatten\n",
    "from tensorflow.keras.utils import plot_model\n",
    "from tensorflow.keras.wrappers.scikit_learn import KerasClassifier\n",
    "from tensorflow.keras.callbacks import ModelCheckpoint, EarlyStopping\n",
    "from tensorflow.keras.utils import to_categorical"
   ]
  },
  {
   "cell_type": "code",
   "execution_count": 101,
   "id": "0dc73296",
   "metadata": {
    "ExecuteTime": {
     "end_time": "2021-05-27T20:52:35.185778Z",
     "start_time": "2021-05-27T20:52:35.175588Z"
    }
   },
   "outputs": [],
   "source": [
    "import warnings\n",
    "warnings.filterwarnings(action='ignore')\n",
    "\n",
    "import tensorflow as tf\n",
    "tf.get_logger().setLevel('ERROR')"
   ]
  },
  {
   "cell_type": "code",
   "execution_count": 102,
   "id": "f4c3311f",
   "metadata": {
    "ExecuteTime": {
     "end_time": "2021-05-27T20:52:35.382987Z",
     "start_time": "2021-05-27T20:52:35.374821Z"
    }
   },
   "outputs": [],
   "source": [
    "from matplotlib import font_manager, rc\n",
    "\n",
    "path = 'c:/Windows/Fonts/malgun.ttf'\n",
    "font_name = font_manager.FontProperties(fname=path).get_name()\n",
    "rc('font',family=font_name)\n",
    "\n",
    "plt.style.use('fivethirtyeight')\n",
    "plt.rcParams['axes.unicode_minus'] = False\n",
    "plt.rcParams['figure.figsize'] = (20,10)"
   ]
  },
  {
   "cell_type": "code",
   "execution_count": 103,
   "id": "f89bc905",
   "metadata": {
    "ExecuteTime": {
     "end_time": "2021-05-27T20:52:35.580167Z",
     "start_time": "2021-05-27T20:52:35.574184Z"
    }
   },
   "outputs": [],
   "source": [
    "file_names = ['KOSPI대형주', 'KOSPI중형주', 'KOSPI소형주', 'KOSPI',\n",
    "             'KOSPI200', 'KOSDAQ', 'KOSDAQ150']\n",
    "open_file_names = ['KOSPI']#, 'KOSPI200', 'KOSDAQ', 'KOSDAQ150']"
   ]
  },
  {
   "cell_type": "code",
   "execution_count": 104,
   "id": "791dcfb5",
   "metadata": {
    "ExecuteTime": {
     "end_time": "2021-05-27T20:52:36.732507Z",
     "start_time": "2021-05-27T20:52:36.721099Z"
    }
   },
   "outputs": [],
   "source": [
    "def get_pred_price(df, col, shift=1, bounds=0):\n",
    "    df['pred_price'] = np.where(df[col].shift(-shift) > df[col] + bounds, 1, 0)\n",
    "    return df"
   ]
  },
  {
   "cell_type": "code",
   "execution_count": 105,
   "id": "08be81bf",
   "metadata": {
    "ExecuteTime": {
     "end_time": "2021-05-27T20:52:36.913726Z",
     "start_time": "2021-05-27T20:52:36.904748Z"
    }
   },
   "outputs": [],
   "source": [
    "def scailing_df(df):\n",
    "    scaler = MinMaxScaler()\n",
    "    scaled = scaler.fit_transform(df)\n",
    "    df_scaled = pd.DataFrame(scaled, columns=df.columns, index=df.index)\n",
    "    return df_scaled, scaler"
   ]
  },
  {
   "cell_type": "code",
   "execution_count": 106,
   "id": "41538ff9",
   "metadata": {
    "ExecuteTime": {
     "end_time": "2021-05-27T20:52:37.096311Z",
     "start_time": "2021-05-27T20:52:37.076864Z"
    }
   },
   "outputs": [],
   "source": [
    "def windowing_dataset(feature, label, window_size):\n",
    "    feature_list = []\n",
    "    label_list = []\n",
    "    \n",
    "    for i in range(len(feature) - window_size):\n",
    "        feature_list.append(np.array(feature.iloc[i:i+window_size]))\n",
    "        label_list.append(np.array(label.iloc[i+window_size-1]))\n",
    "    return np.array(feature_list), np.array(label_list)"
   ]
  },
  {
   "cell_type": "code",
   "execution_count": 107,
   "id": "b5651996",
   "metadata": {
    "ExecuteTime": {
     "end_time": "2021-05-27T20:52:38.881987Z",
     "start_time": "2021-05-27T20:52:38.873597Z"
    }
   },
   "outputs": [],
   "source": [
    "def make_dataset(df, train, test, window):\n",
    "    train_test_set = []\n",
    "    data_list = [train, test]\n",
    "    feature_list = df.columns.difference(['pred_price'])\n",
    "    target = 'pred_price'\n",
    "    \n",
    "    for data in data_list:\n",
    "        feature, label = data[feature_list], data[target]\n",
    "        train_test_set.append(windowing_dataset(feature, label, window))\n",
    "    return train_test_set, feature_list"
   ]
  },
  {
   "cell_type": "code",
   "execution_count": 108,
   "id": "c988af5b",
   "metadata": {
    "ExecuteTime": {
     "end_time": "2021-05-27T20:53:01.080572Z",
     "start_time": "2021-05-27T20:52:39.626172Z"
    },
    "scrolled": true
   },
   "outputs": [
    {
     "name": "stdout",
     "output_type": "stream",
     "text": [
      "Loading...\n",
      "Finish Moving Average\n",
      "Loading...\n",
      "Finish Volatility\n",
      "Loading...\n",
      "Finish Volume\n",
      "Loading...\n",
      "Finish Momentum\n",
      "Loading...\n",
      "Finish All\n",
      "Number of Features: 66\n",
      "Number of Datas: 3001\n"
     ]
    }
   ],
   "source": [
    "ex_df = {}\n",
    "for open_files in open_file_names:\n",
    "    ex_df[open_files] = get_extraction_df(open_files, open_files, 'Add')\n",
    "    ex_df[open_files] = Feature_Extraction(ex_df[open_files])"
   ]
  },
  {
   "cell_type": "code",
   "execution_count": 109,
   "id": "2fbe48fd",
   "metadata": {
    "ExecuteTime": {
     "end_time": "2021-05-27T20:53:01.110458Z",
     "start_time": "2021-05-27T20:53:01.082570Z"
    }
   },
   "outputs": [],
   "source": [
    "df = ex_df['KOSPI']\n",
    "up_df = {}\n",
    "up_df['0'] = get_pred_price(df.copy(), 'close', bounds=0)\n",
    "up_df['10'] = get_pred_price(df.copy(), 'close', bounds=10)\n",
    "up_df['20'] = get_pred_price(df.copy(), 'close', bounds=20)\n",
    "up_df['30'] = get_pred_price(df.copy(), 'close', bounds=30)\n",
    "up_df['50'] = get_pred_price(df.copy(), 'close', bounds=50)"
   ]
  },
  {
   "cell_type": "code",
   "execution_count": 110,
   "id": "8084742d",
   "metadata": {
    "ExecuteTime": {
     "end_time": "2021-05-27T20:53:12.484409Z",
     "start_time": "2021-05-27T20:53:12.474483Z"
    }
   },
   "outputs": [
    {
     "data": {
      "text/plain": [
       "{0: 261, 1: 340}"
      ]
     },
     "execution_count": 110,
     "metadata": {},
     "output_type": "execute_result"
    }
   ],
   "source": [
    "train_len = int(3000 * 0.8)\n",
    "test = up_df['0'][train_len:]\n",
    "u,c = np.unique(test['pred_price'], return_counts=True)\n",
    "dict(zip(u,c))"
   ]
  },
  {
   "cell_type": "code",
   "execution_count": 111,
   "id": "676ee2ee",
   "metadata": {
    "ExecuteTime": {
     "end_time": "2021-05-27T20:53:18.145214Z",
     "start_time": "2021-05-27T20:53:18.129252Z"
    }
   },
   "outputs": [
    {
     "data": {
      "text/plain": [
       "{0: 395, 1: 206}"
      ]
     },
     "execution_count": 111,
     "metadata": {},
     "output_type": "execute_result"
    }
   ],
   "source": [
    "train_len = int(3000 * 0.8)\n",
    "test = up_df['10'][train_len:]\n",
    "u,c = np.unique(test['pred_price'], return_counts=True)\n",
    "dict(zip(u,c))"
   ]
  },
  {
   "cell_type": "code",
   "execution_count": 112,
   "id": "13367d11",
   "metadata": {
    "ExecuteTime": {
     "end_time": "2021-05-27T20:53:22.481169Z",
     "start_time": "2021-05-27T20:53:22.475189Z"
    }
   },
   "outputs": [
    {
     "data": {
      "text/plain": [
       "{0: 476, 1: 125}"
      ]
     },
     "execution_count": 112,
     "metadata": {},
     "output_type": "execute_result"
    }
   ],
   "source": [
    "train_len = int(3000 * 0.8)\n",
    "test = up_df['20'][train_len:]\n",
    "u,c = np.unique(test['pred_price'], return_counts=True)\n",
    "dict(zip(u,c))"
   ]
  },
  {
   "cell_type": "code",
   "execution_count": 113,
   "id": "e36cc7f7",
   "metadata": {
    "ExecuteTime": {
     "end_time": "2021-05-27T20:53:25.927108Z",
     "start_time": "2021-05-27T20:53:25.916354Z"
    }
   },
   "outputs": [
    {
     "data": {
      "text/plain": [
       "{0: 526, 1: 75}"
      ]
     },
     "execution_count": 113,
     "metadata": {},
     "output_type": "execute_result"
    }
   ],
   "source": [
    "train_len = int(3000 * 0.8)\n",
    "test = up_df['30'][train_len:]\n",
    "u,c = np.unique(test['pred_price'], return_counts=True)\n",
    "dict(zip(u,c))"
   ]
  },
  {
   "cell_type": "code",
   "execution_count": 114,
   "id": "888833dd",
   "metadata": {
    "ExecuteTime": {
     "end_time": "2021-05-27T20:53:27.380429Z",
     "start_time": "2021-05-27T20:53:27.368459Z"
    }
   },
   "outputs": [
    {
     "data": {
      "text/plain": [
       "{0: 582, 1: 19}"
      ]
     },
     "execution_count": 114,
     "metadata": {},
     "output_type": "execute_result"
    }
   ],
   "source": [
    "train_len = int(3000 * 0.8)\n",
    "test = up_df['50'][train_len:]\n",
    "u,c = np.unique(test['pred_price'], return_counts=True)\n",
    "dict(zip(u,c))"
   ]
  },
  {
   "cell_type": "code",
   "execution_count": 116,
   "id": "fbcac4bb",
   "metadata": {
    "ExecuteTime": {
     "end_time": "2021-05-27T20:53:58.981006Z",
     "start_time": "2021-05-27T20:53:58.966967Z"
    }
   },
   "outputs": [],
   "source": [
    "from sklearn.metrics import precision_recall_fscore_support\n",
    "from sklearn.metrics import classification_report"
   ]
  },
  {
   "cell_type": "code",
   "execution_count": 117,
   "id": "2750473c",
   "metadata": {
    "ExecuteTime": {
     "end_time": "2021-05-27T20:55:03.086565Z",
     "start_time": "2021-05-27T20:54:01.804931Z"
    },
    "scrolled": false
   },
   "outputs": [
    {
     "name": "stdout",
     "output_type": "stream",
     "text": [
      "Upper Bounds: 0\n",
      "Short Data Shape: (2399, 1, 66) (2399,) (600, 1, 66) (600,)\n",
      "Middle Data Shape: (2378, 22, 66) (2378,) (579, 22, 66) (579,)\n",
      "Long Data Shape: (2340, 60, 66) (2340,) (541, 60, 66) (541,)\n",
      "Reshape Data...\n",
      "Short Data Shape: (2340, 1, 66) (541, 1, 66)\n",
      "Middle Data Shape: (2340, 22, 66) (541, 22, 66)\n",
      "Epoch 1/15\n",
      "74/74 [==============================] - 2s 12ms/step - loss: 1.2886 - acc: 0.5237 - val_loss: 0.7314 - val_acc: 0.4787\n",
      "Epoch 2/15\n",
      "74/74 [==============================] - 1s 9ms/step - loss: 0.6978 - acc: 0.5517 - val_loss: 0.7642 - val_acc: 0.4288\n",
      "Epoch 3/15\n",
      "74/74 [==============================] - 1s 9ms/step - loss: 0.7060 - acc: 0.5326 - val_loss: 0.6989 - val_acc: 0.5582\n",
      "Epoch 4/15\n",
      "74/74 [==============================] - 1s 8ms/step - loss: 0.6919 - acc: 0.5542 - val_loss: 0.7017 - val_acc: 0.5139\n",
      "Epoch 5/15\n",
      "74/74 [==============================] - 1s 8ms/step - loss: 0.6836 - acc: 0.5557 - val_loss: 0.7157 - val_acc: 0.5009\n",
      "Epoch 6/15\n",
      "74/74 [==============================] - 1s 9ms/step - loss: 0.6775 - acc: 0.5691 - val_loss: 0.7398 - val_acc: 0.4713\n",
      "Epoch 7/15\n",
      "74/74 [==============================] - 1s 9ms/step - loss: 0.6780 - acc: 0.5808 - val_loss: 0.7011 - val_acc: 0.5323\n",
      "Epoch 8/15\n",
      "74/74 [==============================] - 1s 8ms/step - loss: 0.6682 - acc: 0.5931 - val_loss: 0.7492 - val_acc: 0.5028\n",
      "Epoch 9/15\n",
      "74/74 [==============================] - 1s 8ms/step - loss: 0.6619 - acc: 0.5988 - val_loss: 0.6870 - val_acc: 0.5749\n",
      "Epoch 10/15\n",
      "74/74 [==============================] - 1s 8ms/step - loss: 0.6751 - acc: 0.5838 - val_loss: 0.7351 - val_acc: 0.5083\n",
      "Epoch 11/15\n",
      "74/74 [==============================] - 1s 9ms/step - loss: 0.6490 - acc: 0.6135 - val_loss: 0.7348 - val_acc: 0.4954\n",
      "Epoch 12/15\n",
      "74/74 [==============================] - 1s 9ms/step - loss: 0.6666 - acc: 0.5834 - val_loss: 0.6965 - val_acc: 0.5360\n",
      "Epoch 13/15\n",
      "74/74 [==============================] - 1s 9ms/step - loss: 0.6502 - acc: 0.6090 - val_loss: 0.7087 - val_acc: 0.5379\n",
      "Epoch 14/15\n",
      "74/74 [==============================] - 1s 9ms/step - loss: 0.6531 - acc: 0.6179 - val_loss: 0.7831 - val_acc: 0.4787\n",
      "Epoch 15/15\n",
      "74/74 [==============================] - 1s 9ms/step - loss: 0.6566 - acc: 0.6008 - val_loss: 0.7631 - val_acc: 0.5231\n",
      "[1 1 1 1 1 1 1 1 1 1 1 1 1 1 0 0 0 0 0 0 0 0 0 1 1 0 0 0 0 1 1 0 1 1 0 1 1\n",
      " 1 1 1 1 0 1 1 1 0 0 1 1 1 0 1 1 1 1 0 0 0 0 0 0 0 0 0 1 1 1 1 1 1 1 1 1 0\n",
      " 1 1 0 1 1 1 0 1 1 1 1 1 1 0 1 0 0 0 0 1 1 1 1 0 0 0 1 1 0 1 0 0 0 1 1 0 0\n",
      " 1 1 0 0 0 1 0 1 1 1 1 1 1 1 1 1 1 1 1 1 1 1 1 1 1 1 1 1 1 1 1 0 0 0 0 0 0\n",
      " 0 0 0 0 0 0 1 1 1 0 0 0 1 1 1 0 1 1 1 1 1 1 0 0 0 0 0 1 1 1 0 1 1 1 1 1 0\n",
      " 1 1 1 1 0 1 1 1 1 1 1 1 1 1 0 0 0 0 0 0 0 0 0 0 0 0 0 0 0 0 0 0 0 0 0 0 0\n",
      " 0 0 1 0 0 1 1 1 1 1 1 1 1 1 0 1 1 1 0 0 0 0 0 0 0 0 0 0 0 0 0 0 1 0 1 1 1\n",
      " 0 0 0 0 1 1 0 0 1 0 0 0 1 1 0 0 0 0 0 0 0 0 0 1 0 0 0 0 0 0 1 1 1 1 1 1 0\n",
      " 0 0 0 0 0 1 0 0 0 0 0 1 1 0 1 0 0 0 1 1 1 1 1 1 1 1 1 1 1 1 1 1 1 1 1 1 1\n",
      " 1 1 1 1 0 0 0 0 0 0 1 1 1 1 1 1 1 1 1 1 0 0 1 0 0 0 0 0 0 0 0 0 0 0 0 0 0\n",
      " 0 0 0 0 0 0 0 0 0 0 0 0 0 0 0 0 0 0 0 0 0 0 0 0 0 0 0 0 0 0 0 0 0 0 0 0 0\n",
      " 0 0 0 0 0 1 1 1 1 0 0 0 1 0 0 0 0 0 0 0 0 0 0 0 0 0 0 0 0 0 0 0 0 0 0 0 0\n",
      " 0 0 0 0 0 0 1 1 0 1 1 1 1 0 0 1 0 0 0 0 0 0 0 0 0 0 0 0 0 0 0 0 0 0 0 1 1\n",
      " 0 0 0 1 1 0 0 0 0 0 0 0 0 0 0 0 0 0 0 0 0 0 0 0 0 0 0 0 0 0 0 0 0 0 0 0 0\n",
      " 0 0 0 1 0 0 0 0 0 0 0 0 0 0 0 0 0 0 0 0 0 0 0]\n",
      "[1 0 1 0 0 1 1 0 0 1 1 0 1 0 1 0 1 1 1 1 1 0 1 1 1 0 1 1 0 0 0 0 1 1 1 1 0\n",
      " 1 0 1 0 1 1 0 1 0 0 0 0 0 0 1 1 0 1 1 1 0 0 1 1 0 1 0 0 1 1 1 1 1 1 1 1 1\n",
      " 1 1 1 1 0 0 1 1 1 0 0 0 1 0 1 0 0 0 0 1 0 1 1 0 0 0 1 1 0 0 0 1 0 1 1 1 0\n",
      " 1 1 1 1 0 0 0 0 1 1 1 0 1 0 1 1 0 0 0 0 1 1 0 0 1 1 1 0 1 0 0 1 0 1 0 0 0\n",
      " 0 1 0 0 0 0 0 0 1 1 1 0 1 0 1 1 1 0 0 0 1 1 0 1 1 0 1 1 1 1 1 1 1 1 1 1 1\n",
      " 1 1 0 1 0 1 1 0 0 1 1 0 1 1 1 1 0 0 1 1 0 1 1 1 0 0 1 1 1 1 1 1 0 0 1 0 1\n",
      " 1 0 0 0 0 1 1 0 1 0 0 1 0 0 0 1 1 1 1 1 1 0 1 0 1 1 0 0 1 1 0 0 1 0 1 0 1\n",
      " 1 1 1 0 1 1 1 0 1 0 0 1 0 0 0 1 1 1 0 0 1 1 0 1 0 0 1 0 0 0 1 0 0 0 1 1 1\n",
      " 1 0 0 1 0 0 0 0 0 0 0 1 0 1 1 0 1 0 1 0 1 1 1 1 0 1 1 0 1 0 1 0 0 1 1 0 1\n",
      " 1 1 0 1 0 1 0 0 1 0 1 1 1 1 1 0 1 1 1 0 1 1 1 1 1 1 1 1 1 0 0 0 1 1 0 1 0\n",
      " 1 1 0 1 0 1 0 1 1 1 0 0 1 0 1 0 1 0 1 0 1 0 0 0 1 1 1 1 0 1 1 1 1 1 1 1 1\n",
      " 1 0 0 1 0 1 1 1 1 0 1 0 1 1 1 0 1 1 0 1 1 1 1 0 0 1 0 0 1 0 1 1 1 1 1 1 1\n",
      " 1 0 0 0 0 1 1 1 0 1 0 0 1 0 0 1 1 1 1 1 1 1 1 0 1 1 0 1 1 1 1 1 0 1 1 0 1\n",
      " 1 1 1 1 0 1 0 1 0 0 1 0 1 1 0 1 1 1 1 1 1 1 0 1 1 0 0 1 1 0 0 1 1 1 0 1 0\n",
      " 0 0 0 1 1 1 0 1 0 0 1 1 1 0 0 1 0 0 0 1 0 1 1]\n",
      "540 540\n",
      "{0: 330, 1: 210}\n",
      "              precision    recall  f1-score   support\n",
      "\n",
      "           0       0.45      0.66      0.54       225\n",
      "           1       0.64      0.43      0.51       315\n",
      "\n",
      "    accuracy                           0.52       540\n",
      "   macro avg       0.54      0.54      0.52       540\n",
      "weighted avg       0.56      0.52      0.52       540\n",
      "\n",
      "Date: 5\n",
      "100.26%, 100.29%\n",
      "Date: 22\n",
      "101.12%, 100.74%\n",
      "Date: 60\n",
      "103.24%, 103.3%\n",
      "Date: 120\n",
      "107.11%, 107.08%\n",
      "Date: 255\n",
      "85.57%, 112.23%\n",
      "Date: 540\n",
      "131.19%, 133.27%\n",
      "\n",
      "Upper Bounds: 10\n",
      "Short Data Shape: (2399, 1, 66) (2399,) (600, 1, 66) (600,)\n",
      "Middle Data Shape: (2378, 22, 66) (2378,) (579, 22, 66) (579,)\n",
      "Long Data Shape: (2340, 60, 66) (2340,) (541, 60, 66) (541,)\n",
      "Reshape Data...\n",
      "Short Data Shape: (2340, 1, 66) (541, 1, 66)\n",
      "Middle Data Shape: (2340, 22, 66) (541, 22, 66)\n",
      "Epoch 1/15\n",
      "74/74 [==============================] - 2s 13ms/step - loss: 1.1932 - acc: 0.6722 - val_loss: 0.7091 - val_acc: 0.6488\n",
      "Epoch 2/15\n",
      "74/74 [==============================] - 1s 9ms/step - loss: 0.6281 - acc: 0.6805 - val_loss: 0.9470 - val_acc: 0.6488\n",
      "Epoch 3/15\n",
      "74/74 [==============================] - 1s 9ms/step - loss: 0.5994 - acc: 0.7201 - val_loss: 0.8758 - val_acc: 0.6488\n",
      "Epoch 4/15\n",
      "74/74 [==============================] - 1s 8ms/step - loss: 0.5635 - acc: 0.7303 - val_loss: 0.6969 - val_acc: 0.6488\n",
      "Epoch 5/15\n",
      "74/74 [==============================] - 1s 9ms/step - loss: 0.5689 - acc: 0.7301 - val_loss: 0.6627 - val_acc: 0.6322\n",
      "Epoch 6/15\n",
      "74/74 [==============================] - 1s 9ms/step - loss: 0.5695 - acc: 0.7442 - val_loss: 0.7262 - val_acc: 0.6488\n",
      "Epoch 7/15\n",
      "74/74 [==============================] - 1s 8ms/step - loss: 0.5872 - acc: 0.7161 - val_loss: 0.8593 - val_acc: 0.6488\n",
      "Epoch 8/15\n",
      "74/74 [==============================] - 1s 9ms/step - loss: 0.5771 - acc: 0.7312 - val_loss: 0.8332 - val_acc: 0.6488\n",
      "Epoch 9/15\n",
      "74/74 [==============================] - 1s 8ms/step - loss: 0.5607 - acc: 0.7421 - val_loss: 0.6940 - val_acc: 0.6617\n",
      "Epoch 10/15\n",
      "74/74 [==============================] - 1s 8ms/step - loss: 0.5525 - acc: 0.7285 - val_loss: 0.7196 - val_acc: 0.6525\n",
      "Epoch 11/15\n",
      "74/74 [==============================] - 1s 8ms/step - loss: 0.5401 - acc: 0.7469 - val_loss: 0.9084 - val_acc: 0.6488\n",
      "Epoch 12/15\n",
      "74/74 [==============================] - 1s 8ms/step - loss: 0.5395 - acc: 0.7458 - val_loss: 0.8006 - val_acc: 0.6506\n",
      "Epoch 13/15\n",
      "74/74 [==============================] - 1s 8ms/step - loss: 0.5405 - acc: 0.7447 - val_loss: 0.8602 - val_acc: 0.6506\n",
      "Epoch 14/15\n",
      "74/74 [==============================] - 1s 8ms/step - loss: 0.5226 - acc: 0.7511 - val_loss: 0.8519 - val_acc: 0.6488\n",
      "Epoch 15/15\n",
      "74/74 [==============================] - 1s 8ms/step - loss: 0.5067 - acc: 0.7593 - val_loss: 0.7421 - val_acc: 0.6580\n",
      "[0 0 0 0 0 0 0 0 0 0 0 0 0 0 0 0 0 0 0 0 0 0 0 0 0 0 0 0 0 0 0 0 0 0 0 0 0\n",
      " 0 0 0 0 0 0 0 0 0 0 0 0 0 0 0 0 0 0 0 0 0 0 0 0 0 0 0 0 0 0 0 0 0 0 0 0 0\n",
      " 0 0 0 0 0 0 0 0 0 0 0 0 0 0 0 0 0 0 0 0 0 0 0 0 0 0 0 0 0 0 0 0 0 0 0 0 0\n",
      " 0 0 0 0 0 0 0 0 0 0 0 0 0 0 0 0 0 0 0 0 0 0 0 0 0 0 0 0 0 0 0 0 0 0 0 0 0\n",
      " 0 0 0 0 0 0 1 0 0 0 0 0 0 0 0 0 0 0 0 0 0 0 0 0 0 0 0 0 0 0 0 0 0 0 0 0 0\n",
      " 0 0 0 0 0 0 0 0 0 0 0 0 0 0 0 0 0 0 0 0 0 0 0 0 0 0 0 0 0 0 0 0 0 0 0 0 0\n",
      " 0 0 0 0 0 0 0 0 0 0 0 0 1 0 0 0 0 0 0 0 0 0 0 0 0 0 0 0 0 0 0 0 0 0 0 0 0\n",
      " 0 0 0 0 0 0 0 0 0 0 0 0 0 0 0 0 0 0 0 0 0 0 0 0 0 0 0 0 0 0 0 0 0 1 1 0 0\n",
      " 0 0 0 0 0 0 0 0 0 0 0 0 0 0 0 0 0 0 0 0 0 0 1 0 0 0 0 0 0 0 0 0 0 0 0 0 0\n",
      " 0 0 0 0 0 0 0 0 0 0 0 0 0 0 0 0 1 0 0 0 0 0 0 0 0 0 0 0 0 0 0 0 0 0 0 0 0\n",
      " 0 0 0 0 0 0 0 0 0 0 0 0 0 0 0 0 0 0 0 0 0 0 0 0 0 0 0 0 0 0 0 0 0 0 0 0 0\n",
      " 0 0 0 0 0 1 1 1 0 0 0 0 0 0 0 0 0 0 0 0 0 0 0 0 0 0 0 0 0 0 0 0 0 0 0 0 0\n",
      " 0 0 0 0 0 0 0 0 0 0 0 0 0 0 0 1 0 0 0 0 0 0 0 0 0 0 0 0 0 0 0 0 0 0 0 0 1\n",
      " 0 0 0 0 0 0 0 0 0 0 0 0 0 0 0 0 0 0 0 0 0 0 0 0 0 0 0 0 0 0 0 0 0 0 0 0 0\n",
      " 0 0 0 0 0 0 0 0 0 0 0 0 0 0 0 0 0 0 0 0 0 0 0]\n",
      "[1 0 0 0 0 0 1 0 0 1 1 0 1 0 1 0 1 0 0 1 0 0 1 1 1 0 0 1 0 0 0 0 0 0 1 1 0\n",
      " 1 0 1 0 0 0 0 0 0 0 0 0 0 0 0 1 0 0 1 0 0 0 0 0 0 0 0 0 1 1 0 1 0 0 0 0 1\n",
      " 0 0 0 0 0 0 0 0 0 0 0 0 1 0 0 0 0 0 0 0 0 0 1 0 0 0 0 0 0 0 0 0 0 1 0 1 0\n",
      " 0 0 1 1 0 0 0 0 0 1 0 0 0 0 0 1 0 0 0 0 1 0 0 0 0 1 0 0 0 0 0 1 0 0 0 0 0\n",
      " 0 0 0 0 0 0 0 0 1 1 0 0 1 0 1 1 0 0 0 0 0 1 0 1 0 0 1 1 0 1 1 1 1 0 0 0 1\n",
      " 0 0 0 0 0 1 0 0 0 0 1 0 1 1 0 1 0 0 0 1 0 0 0 0 0 0 0 1 1 1 0 0 0 0 1 0 1\n",
      " 1 0 0 0 0 0 1 0 0 0 0 0 0 0 0 1 0 0 0 1 1 0 1 0 0 0 0 0 0 0 0 0 0 0 1 0 1\n",
      " 1 1 0 0 1 0 1 0 1 0 0 0 0 0 0 1 0 1 0 0 1 1 0 1 0 0 0 0 0 0 1 0 0 0 1 1 1\n",
      " 1 0 0 0 0 0 0 0 0 0 0 1 0 1 1 0 1 0 1 0 1 0 1 1 0 1 1 0 1 0 1 0 0 1 1 0 1\n",
      " 1 1 0 1 0 1 0 0 1 0 0 0 1 0 0 0 1 1 0 0 0 1 1 1 0 1 0 0 0 0 0 0 1 0 0 0 0\n",
      " 0 1 0 1 0 1 0 1 1 1 0 0 0 0 1 0 1 0 1 0 1 0 0 0 1 1 0 0 0 0 1 1 1 0 1 1 1\n",
      " 0 0 0 1 0 1 1 1 0 0 0 0 1 1 1 0 1 1 0 1 0 1 1 0 0 0 0 0 0 0 0 1 1 1 0 1 0\n",
      " 1 0 0 0 0 0 1 1 0 0 0 0 1 0 0 1 1 1 1 0 1 0 1 0 1 1 0 0 0 0 1 1 0 1 0 0 1\n",
      " 1 1 1 1 0 1 0 1 0 0 1 0 0 0 0 1 1 0 1 1 1 1 0 1 1 0 0 1 0 0 0 1 1 1 0 1 0\n",
      " 0 0 0 1 1 1 0 1 0 0 1 1 1 0 0 1 0 0 0 1 0 1 1]\n",
      "540 540\n",
      "{0: 529, 1: 11}\n"
     ]
    },
    {
     "name": "stdout",
     "output_type": "stream",
     "text": [
      "              precision    recall  f1-score   support\n",
      "\n",
      "           0       0.66      0.99      0.79       351\n",
      "           1       0.73      0.04      0.08       189\n",
      "\n",
      "    accuracy                           0.66       540\n",
      "   macro avg       0.69      0.52      0.44       540\n",
      "weighted avg       0.68      0.66      0.54       540\n",
      "\n",
      "Date: 5\n",
      "100.11%, 100.27%\n",
      "Date: 22\n",
      "100.46%, 100.58%\n",
      "Date: 60\n",
      "101.34%, 103.19%\n",
      "Date: 120\n",
      "101.5%, 104.02%\n",
      "Date: 255\n",
      "101.5%, 111.68%\n",
      "Date: 540\n",
      "112.62%, 131.58%\n",
      "\n",
      "Upper Bounds: 20\n",
      "Short Data Shape: (2399, 1, 66) (2399,) (600, 1, 66) (600,)\n",
      "Middle Data Shape: (2378, 22, 66) (2378,) (579, 22, 66) (579,)\n",
      "Long Data Shape: (2340, 60, 66) (2340,) (541, 60, 66) (541,)\n",
      "Reshape Data...\n",
      "Short Data Shape: (2340, 1, 66) (541, 1, 66)\n",
      "Middle Data Shape: (2340, 22, 66) (541, 22, 66)\n",
      "Epoch 1/15\n",
      "74/74 [==============================] - 2s 12ms/step - loss: 0.8767 - acc: 0.8015 - val_loss: 0.5306 - val_acc: 0.7819\n",
      "Epoch 2/15\n",
      "74/74 [==============================] - 1s 9ms/step - loss: 0.3581 - acc: 0.8917 - val_loss: 0.6649 - val_acc: 0.7819\n",
      "Epoch 3/15\n",
      "74/74 [==============================] - 1s 9ms/step - loss: 0.3491 - acc: 0.8866 - val_loss: 0.6973 - val_acc: 0.7819\n",
      "Epoch 4/15\n",
      "74/74 [==============================] - 1s 8ms/step - loss: 0.3320 - acc: 0.8902 - val_loss: 0.7556 - val_acc: 0.7819\n",
      "Epoch 5/15\n",
      "74/74 [==============================] - 1s 8ms/step - loss: 0.3151 - acc: 0.8919 - val_loss: 0.5631 - val_acc: 0.7819\n",
      "Epoch 6/15\n",
      "74/74 [==============================] - 1s 8ms/step - loss: 0.3392 - acc: 0.8878 - val_loss: 0.7142 - val_acc: 0.7819\n",
      "Epoch 7/15\n",
      "74/74 [==============================] - 1s 8ms/step - loss: 0.3198 - acc: 0.8898 - val_loss: 0.6677 - val_acc: 0.7819\n",
      "Epoch 8/15\n",
      "74/74 [==============================] - 1s 9ms/step - loss: 0.3148 - acc: 0.8944 - val_loss: 0.7088 - val_acc: 0.7819\n",
      "Epoch 9/15\n",
      "74/74 [==============================] - 1s 8ms/step - loss: 0.3205 - acc: 0.8907 - val_loss: 0.9679 - val_acc: 0.7819\n",
      "Epoch 10/15\n",
      "74/74 [==============================] - 1s 8ms/step - loss: 0.3150 - acc: 0.8934 - val_loss: 0.7477 - val_acc: 0.7819\n",
      "Epoch 11/15\n",
      "74/74 [==============================] - 1s 8ms/step - loss: 0.3222 - acc: 0.8838 - val_loss: 0.6197 - val_acc: 0.7800\n",
      "Epoch 12/15\n",
      "74/74 [==============================] - 1s 9ms/step - loss: 0.3177 - acc: 0.8881 - val_loss: 0.6169 - val_acc: 0.7819\n",
      "Epoch 13/15\n",
      "74/74 [==============================] - 1s 8ms/step - loss: 0.3114 - acc: 0.8883 - val_loss: 0.6303 - val_acc: 0.7819\n",
      "Epoch 14/15\n",
      "74/74 [==============================] - 1s 8ms/step - loss: 0.3115 - acc: 0.8903 - val_loss: 0.7395 - val_acc: 0.7819\n",
      "Epoch 15/15\n",
      "74/74 [==============================] - 1s 9ms/step - loss: 0.2981 - acc: 0.8977 - val_loss: 0.5584 - val_acc: 0.7486\n",
      "[0 0 0 0 1 1 1 0 0 1 1 0 0 0 0 0 0 0 0 0 0 0 0 0 0 0 0 0 0 0 0 0 0 0 0 0 0\n",
      " 0 0 0 0 0 0 0 0 0 0 0 0 0 0 0 0 0 0 0 0 0 0 0 0 0 0 0 0 0 0 0 0 0 0 0 0 0\n",
      " 0 0 0 0 0 0 0 0 0 0 0 0 0 0 0 0 0 0 0 0 0 0 0 0 0 0 0 0 0 0 0 0 0 1 1 0 0\n",
      " 0 0 0 0 0 0 0 0 0 0 0 0 0 0 0 0 0 0 0 0 0 0 0 1 1 1 0 0 0 0 0 0 0 0 0 0 0\n",
      " 0 1 0 0 1 1 0 0 0 0 0 0 0 0 0 0 0 0 0 0 1 1 1 1 0 0 0 0 0 0 0 0 0 0 0 0 0\n",
      " 0 0 0 0 0 0 0 0 0 0 0 0 0 0 0 0 0 0 0 0 0 0 0 0 0 0 0 0 0 0 0 0 0 0 0 0 0\n",
      " 0 0 0 0 0 0 0 0 0 0 0 0 1 0 0 0 0 0 0 0 0 0 0 0 0 0 0 0 0 0 0 0 0 0 0 0 0\n",
      " 0 0 0 0 0 0 0 0 0 0 0 0 0 0 0 0 0 0 0 0 0 0 0 0 0 0 0 0 0 0 0 0 0 0 1 0 0\n",
      " 0 0 0 0 0 0 1 1 1 1 1 1 1 1 1 0 1 0 0 0 0 0 0 0 0 0 0 0 0 0 0 0 0 1 0 0 0\n",
      " 0 0 0 0 0 0 0 0 0 1 1 1 1 0 0 0 0 1 0 0 0 0 0 0 0 0 0 0 0 0 0 0 0 0 0 0 0\n",
      " 0 0 0 0 0 0 0 0 0 0 0 0 0 0 0 0 0 0 0 0 0 0 0 0 0 0 0 0 0 0 0 0 0 0 0 0 0\n",
      " 0 0 0 0 0 0 0 0 0 0 0 0 0 0 0 0 0 0 0 0 0 0 0 0 0 0 0 0 0 0 0 0 0 0 0 0 0\n",
      " 0 0 0 0 0 0 0 0 0 0 0 1 1 0 0 0 0 0 0 0 0 0 0 0 0 0 0 0 0 0 0 0 0 1 0 0 0\n",
      " 0 0 0 0 0 0 0 0 0 0 0 0 0 0 0 0 0 0 0 0 0 0 0 0 0 0 0 0 0 0 0 0 0 0 0 0 0\n",
      " 0 0 0 0 0 0 0 0 0 0 0 0 0 0 0 0 0 0 0 0 0 0 0]\n",
      "[0 0 0 0 0 0 0 0 0 0 1 0 1 0 0 0 1 0 0 0 0 0 0 0 1 0 0 1 0 0 0 0 0 0 0 1 0\n",
      " 0 0 1 0 0 0 0 0 0 0 0 0 0 0 0 0 0 0 1 0 0 0 0 0 0 0 0 0 0 1 0 1 0 0 0 0 0\n",
      " 0 0 0 0 0 0 0 0 0 0 0 0 1 0 0 0 0 0 0 0 0 0 0 0 0 0 0 0 0 0 0 0 0 0 0 1 0\n",
      " 0 0 1 0 0 0 0 0 0 1 0 0 0 0 0 0 0 0 0 0 0 0 0 0 0 1 0 0 0 0 0 1 0 0 0 0 0\n",
      " 0 0 0 0 0 0 0 0 0 0 0 0 0 0 0 1 0 0 0 0 0 0 0 1 0 0 1 0 0 0 0 0 0 0 0 0 0\n",
      " 0 0 0 0 0 0 0 0 0 0 1 0 0 1 0 0 0 0 0 1 0 0 0 0 0 0 0 0 1 0 0 0 0 0 0 0 0\n",
      " 1 0 0 0 0 0 1 0 0 0 0 0 0 0 0 1 0 0 0 1 1 0 1 0 0 0 0 0 0 0 0 0 0 0 1 0 1\n",
      " 0 1 0 0 0 0 0 0 1 0 0 0 0 0 0 1 0 1 0 0 1 0 0 0 0 0 0 0 0 0 1 0 0 0 0 0 1\n",
      " 1 0 0 0 0 0 0 0 0 0 0 1 0 1 1 0 1 0 1 0 1 0 1 1 0 1 1 0 1 0 1 0 0 0 0 0 1\n",
      " 0 0 0 1 0 0 0 0 0 0 0 0 1 0 0 0 1 1 0 0 0 1 1 1 0 1 0 0 0 0 0 0 1 0 0 0 0\n",
      " 0 1 0 1 0 0 0 1 0 1 0 0 0 0 1 0 0 0 0 0 1 0 0 0 0 1 0 0 0 0 1 1 1 0 1 1 0\n",
      " 0 0 0 0 0 1 1 1 0 0 0 0 1 0 1 0 0 0 0 1 0 1 0 0 0 0 0 0 0 0 0 1 0 1 0 1 0\n",
      " 0 0 0 0 0 0 0 0 0 0 0 0 0 0 0 1 1 0 1 0 1 0 1 0 0 1 0 0 0 0 1 0 0 1 0 0 1\n",
      " 1 1 1 0 0 1 0 1 0 0 0 0 0 0 0 1 1 0 0 1 1 1 0 1 1 0 0 1 0 0 0 1 1 1 0 1 0\n",
      " 0 0 0 1 1 1 0 1 0 0 0 1 0 0 0 1 0 0 0 1 0 1 1]\n",
      "540 540\n",
      "{0: 502, 1: 38}\n",
      "              precision    recall  f1-score   support\n",
      "\n",
      "           0       0.79      0.93      0.85       423\n",
      "           1       0.26      0.09      0.13       117\n",
      "\n",
      "    accuracy                           0.75       540\n",
      "   macro avg       0.53      0.51      0.49       540\n",
      "weighted avg       0.67      0.75      0.70       540\n",
      "\n",
      "Date: 5\n",
      "99.99%, 100.18%\n",
      "Date: 22\n",
      "100.0%, 100.72%\n",
      "Date: 60\n",
      "99.82%, 102.2%\n",
      "Date: 120\n",
      "98.76%, 103.2%\n",
      "Date: 255\n",
      "102.4%, 109.42%\n",
      "Date: 540\n",
      "98.37%, 120.84%\n",
      "\n",
      "Upper Bounds: 30\n",
      "Short Data Shape: (2399, 1, 66) (2399,) (600, 1, 66) (600,)\n",
      "Middle Data Shape: (2378, 22, 66) (2378,) (579, 22, 66) (579,)\n",
      "Long Data Shape: (2340, 60, 66) (2340,) (541, 60, 66) (541,)\n",
      "Reshape Data...\n",
      "Short Data Shape: (2340, 1, 66) (541, 1, 66)\n",
      "Middle Data Shape: (2340, 22, 66) (541, 22, 66)\n",
      "Epoch 1/15\n",
      "74/74 [==============================] - 2s 12ms/step - loss: 0.2384 - acc: 0.9610 - val_loss: 0.5759 - val_acc: 0.8669\n",
      "Epoch 2/15\n",
      "74/74 [==============================] - 1s 9ms/step - loss: 0.1808 - acc: 0.9605 - val_loss: 0.5941 - val_acc: 0.8669\n",
      "Epoch 3/15\n",
      "74/74 [==============================] - 1s 8ms/step - loss: 0.1664 - acc: 0.9526 - val_loss: 0.6275 - val_acc: 0.8669\n",
      "Epoch 4/15\n",
      "74/74 [==============================] - 1s 8ms/step - loss: 0.1583 - acc: 0.9567 - val_loss: 0.8720 - val_acc: 0.8669\n",
      "Epoch 5/15\n",
      "74/74 [==============================] - 1s 9ms/step - loss: 0.1629 - acc: 0.9590 - val_loss: 0.6742 - val_acc: 0.8669\n",
      "Epoch 6/15\n",
      "74/74 [==============================] - 1s 8ms/step - loss: 0.1729 - acc: 0.9536 - val_loss: 0.6843 - val_acc: 0.8669\n",
      "Epoch 7/15\n",
      "74/74 [==============================] - 1s 8ms/step - loss: 0.1349 - acc: 0.9634 - val_loss: 0.6383 - val_acc: 0.8669\n",
      "Epoch 8/15\n",
      "74/74 [==============================] - 1s 8ms/step - loss: 0.1451 - acc: 0.9593 - val_loss: 1.0704 - val_acc: 0.8669\n",
      "Epoch 9/15\n",
      "74/74 [==============================] - 1s 9ms/step - loss: 0.1425 - acc: 0.9603 - val_loss: 0.7054 - val_acc: 0.8669\n",
      "Epoch 10/15\n",
      "74/74 [==============================] - 1s 8ms/step - loss: 0.1316 - acc: 0.9651 - val_loss: 0.7024 - val_acc: 0.8669\n",
      "Epoch 11/15\n",
      "74/74 [==============================] - 1s 8ms/step - loss: 0.1482 - acc: 0.9550 - val_loss: 0.6732 - val_acc: 0.8669\n",
      "Epoch 12/15\n",
      "74/74 [==============================] - 1s 8ms/step - loss: 0.1463 - acc: 0.9576 - val_loss: 0.6956 - val_acc: 0.8669\n",
      "Epoch 13/15\n",
      "74/74 [==============================] - 1s 8ms/step - loss: 0.1400 - acc: 0.9513 - val_loss: 0.5971 - val_acc: 0.8669\n",
      "Epoch 14/15\n",
      "74/74 [==============================] - 1s 9ms/step - loss: 0.1123 - acc: 0.9650 - val_loss: 0.8473 - val_acc: 0.8669\n",
      "Epoch 15/15\n",
      "74/74 [==============================] - 1s 9ms/step - loss: 0.1254 - acc: 0.9636 - val_loss: 0.7281 - val_acc: 0.8669\n",
      "[0 0 0 0 0 0 0 0 0 0 0 0 0 0 0 0 0 0 0 0 0 0 0 0 0 0 0 0 0 0 0 0 0 0 0 0 0\n",
      " 0 0 0 0 0 0 0 0 0 0 0 0 0 0 0 0 0 0 0 0 0 0 0 0 0 0 0 0 0 0 0 0 0 0 0 0 0\n",
      " 0 0 0 0 0 0 0 0 0 0 0 0 0 0 0 0 0 0 0 0 0 0 0 0 0 0 0 0 0 0 0 0 0 0 0 0 0\n",
      " 0 0 0 0 0 0 0 0 0 0 0 0 0 0 0 0 0 0 0 0 0 0 0 0 0 0 0 0 0 0 0 0 0 0 0 0 0\n",
      " 0 0 0 0 0 0 0 0 0 0 0 0 0 0 0 0 0 0 0 0 0 0 0 0 0 0 0 0 0 0 0 0 0 0 0 0 0\n",
      " 0 0 0 0 0 0 0 0 0 0 0 0 0 0 0 0 0 0 0 0 0 0 0 0 0 0 0 0 0 0 0 0 0 0 0 0 0\n",
      " 0 0 0 0 0 0 0 0 0 0 0 0 0 0 0 0 0 0 0 0 0 0 0 0 0 0 0 0 0 0 0 0 0 0 0 0 0\n",
      " 0 0 0 0 0 0 0 0 0 0 0 0 0 0 0 0 0 0 0 0 0 0 0 0 0 0 0 0 0 0 0 0 0 0 0 0 0\n",
      " 0 0 0 0 0 0 0 0 0 0 0 0 0 0 0 0 0 0 0 0 0 0 0 0 0 0 0 0 0 0 0 0 0 0 0 0 0\n",
      " 0 0 0 0 0 0 0 0 0 0 0 0 0 0 0 0 0 0 0 0 0 0 0 0 0 0 0 0 0 0 0 0 0 0 0 0 0\n",
      " 0 0 0 0 0 0 0 0 0 0 0 0 0 0 0 0 0 0 0 0 0 0 0 0 0 0 0 0 0 0 0 0 0 0 0 0 0\n",
      " 0 0 0 0 0 0 0 0 0 0 0 0 0 0 0 0 0 0 0 0 0 0 0 0 0 0 0 0 0 0 0 0 0 0 0 0 0\n",
      " 0 0 0 0 0 0 0 0 0 0 0 0 0 0 0 0 0 0 0 0 0 0 0 0 0 0 0 0 0 0 0 0 0 0 0 0 0\n",
      " 0 0 0 0 0 0 0 0 0 0 0 0 0 0 0 0 0 0 0 0 0 0 0 0 0 0 0 0 0 0 0 0 0 0 0 0 0\n",
      " 0 0 0 0 0 0 0 0 0 0 0 0 0 0 0 0 0 0 0 0 0 0 0]\n",
      "[0 0 0 0 0 0 0 0 0 0 0 0 1 0 0 0 1 0 0 0 0 0 0 0 1 0 0 0 0 0 0 0 0 0 0 0 0\n",
      " 0 0 0 0 0 0 0 0 0 0 0 0 0 0 0 0 0 0 0 0 0 0 0 0 0 0 0 0 0 0 0 0 0 0 0 0 0\n",
      " 0 0 0 0 0 0 0 0 0 0 0 0 1 0 0 0 0 0 0 0 0 0 0 0 0 0 0 0 0 0 0 0 0 0 0 0 0\n",
      " 0 0 0 0 0 0 0 0 0 0 0 0 0 0 0 0 0 0 0 0 0 0 0 0 0 0 0 0 0 0 0 0 0 0 0 0 0\n",
      " 0 0 0 0 0 0 0 0 0 0 0 0 0 0 0 0 0 0 0 0 0 0 0 1 0 0 0 0 0 0 0 0 0 0 0 0 0\n",
      " 0 0 0 0 0 0 0 0 0 0 0 0 0 0 0 0 0 0 0 0 0 0 0 0 0 0 0 0 1 0 0 0 0 0 0 0 0\n",
      " 0 0 0 0 0 0 0 0 0 0 0 0 0 0 0 0 0 0 0 1 1 0 0 0 0 0 0 0 0 0 0 0 0 0 0 0 1\n",
      " 0 0 0 0 0 0 0 0 0 0 0 0 0 0 0 1 0 1 0 0 0 0 0 0 0 0 0 0 0 0 0 0 0 0 0 0 1\n",
      " 0 0 0 0 0 0 0 0 0 0 0 1 0 1 1 0 1 0 1 0 1 0 1 1 0 0 0 0 1 0 1 0 0 0 0 0 1\n",
      " 0 0 0 1 0 0 0 0 0 0 0 0 1 0 0 0 0 1 0 0 0 1 0 1 0 1 0 0 0 0 0 0 1 0 0 0 0\n",
      " 0 1 0 0 0 0 0 0 0 1 0 0 0 0 1 0 0 0 0 0 1 0 0 0 0 1 0 0 0 0 0 1 1 0 1 1 0\n",
      " 0 0 0 0 0 1 0 1 0 0 0 0 0 0 1 0 0 0 0 0 0 1 0 0 0 0 0 0 0 0 0 0 0 1 0 0 0\n",
      " 0 0 0 0 0 0 0 0 0 0 0 0 0 0 0 1 1 0 1 0 1 0 1 0 0 1 0 0 0 0 1 0 0 0 0 0 1\n",
      " 1 0 1 0 0 1 0 0 0 0 0 0 0 0 0 0 1 0 0 1 1 1 0 1 1 0 0 0 0 0 0 1 0 1 0 1 0\n",
      " 0 0 0 1 1 1 0 1 0 0 0 1 0 0 0 0 0 0 0 1 0 1 1]\n"
     ]
    },
    {
     "name": "stdout",
     "output_type": "stream",
     "text": [
      "540 540\n",
      "{0: 540}\n",
      "              precision    recall  f1-score   support\n",
      "\n",
      "           0       0.87      1.00      0.93       469\n",
      "           1       0.00      0.00      0.00        71\n",
      "\n",
      "    accuracy                           0.87       540\n",
      "   macro avg       0.43      0.50      0.46       540\n",
      "weighted avg       0.75      0.87      0.81       540\n",
      "\n",
      "Date: 5\n",
      "100.0%, 100.13%\n",
      "Date: 22\n",
      "100.0%, 100.18%\n",
      "Date: 60\n",
      "100.0%, 101.52%\n",
      "Date: 120\n",
      "100.0%, 100.22%\n",
      "Date: 255\n",
      "100.0%, 103.71%\n",
      "Date: 540\n",
      "100.0%, 114.09%\n",
      "\n",
      "Upper Bounds: 50\n",
      "Short Data Shape: (2399, 1, 66) (2399,) (600, 1, 66) (600,)\n",
      "Middle Data Shape: (2378, 22, 66) (2378,) (579, 22, 66) (579,)\n",
      "Long Data Shape: (2340, 60, 66) (2340,) (541, 60, 66) (541,)\n",
      "Reshape Data...\n",
      "Short Data Shape: (2340, 1, 66) (541, 1, 66)\n",
      "Middle Data Shape: (2340, 22, 66) (541, 22, 66)\n",
      "Epoch 1/15\n",
      "74/74 [==============================] - 2s 14ms/step - loss: 0.1299 - acc: 0.9938 - val_loss: 0.4533 - val_acc: 0.9667\n",
      "Epoch 2/15\n",
      "74/74 [==============================] - 1s 11ms/step - loss: 0.0868 - acc: 0.9904 - val_loss: 0.3822 - val_acc: 0.9667\n",
      "Epoch 3/15\n",
      "74/74 [==============================] - 1s 11ms/step - loss: 0.0625 - acc: 0.9909 - val_loss: 0.2503 - val_acc: 0.9667\n",
      "Epoch 4/15\n",
      "74/74 [==============================] - 1s 9ms/step - loss: 0.0484 - acc: 0.9919 - val_loss: 0.2127 - val_acc: 0.9667\n",
      "Epoch 5/15\n",
      "74/74 [==============================] - 1s 9ms/step - loss: 0.0309 - acc: 0.9925 - val_loss: 0.2093 - val_acc: 0.9667\n",
      "Epoch 6/15\n",
      "74/74 [==============================] - 1s 9ms/step - loss: 0.0228 - acc: 0.9948 - val_loss: 0.2217 - val_acc: 0.9667\n",
      "Epoch 7/15\n",
      "74/74 [==============================] - 1s 9ms/step - loss: 0.0280 - acc: 0.9941 - val_loss: 0.1838 - val_acc: 0.9667\n",
      "Epoch 8/15\n",
      "74/74 [==============================] - 1s 9ms/step - loss: 0.0298 - acc: 0.9942 - val_loss: 0.2036 - val_acc: 0.9667\n",
      "Epoch 9/15\n",
      "74/74 [==============================] - 1s 9ms/step - loss: 0.0290 - acc: 0.9931 - val_loss: 0.2079 - val_acc: 0.9667\n",
      "Epoch 10/15\n",
      "74/74 [==============================] - 1s 10ms/step - loss: 0.0391 - acc: 0.9898 - val_loss: 0.2742 - val_acc: 0.9667\n",
      "Epoch 11/15\n",
      "74/74 [==============================] - 1s 9ms/step - loss: 0.0290 - acc: 0.9932 - val_loss: 0.2154 - val_acc: 0.9667\n",
      "Epoch 12/15\n",
      "74/74 [==============================] - 1s 10ms/step - loss: 0.0229 - acc: 0.9934 - val_loss: 0.2681 - val_acc: 0.9667\n",
      "Epoch 13/15\n",
      "74/74 [==============================] - 1s 9ms/step - loss: 0.0187 - acc: 0.9931 - val_loss: 0.2266 - val_acc: 0.9667\n",
      "Epoch 14/15\n",
      "74/74 [==============================] - 1s 9ms/step - loss: 0.0139 - acc: 0.9958 - val_loss: 0.2591 - val_acc: 0.9667\n",
      "Epoch 15/15\n",
      "74/74 [==============================] - 1s 9ms/step - loss: 0.0228 - acc: 0.9932 - val_loss: 0.3106 - val_acc: 0.9667\n",
      "[0 0 0 0 0 0 0 0 0 0 0 0 0 0 0 0 0 0 0 0 0 0 0 0 0 0 0 0 0 0 0 0 0 0 0 0 0\n",
      " 0 0 0 0 0 0 0 0 0 0 0 0 0 0 0 0 0 0 0 0 0 0 0 0 0 0 0 0 0 0 0 0 0 0 0 0 0\n",
      " 0 0 0 0 0 0 0 0 0 0 0 0 0 0 0 0 0 0 0 0 0 0 0 0 0 0 0 0 0 0 0 0 0 0 0 0 0\n",
      " 0 0 0 0 0 0 0 0 0 0 0 0 0 0 0 0 0 0 0 0 0 0 0 0 0 0 0 0 0 0 0 0 0 0 0 0 0\n",
      " 0 0 0 0 0 0 0 0 0 0 0 0 0 0 0 0 0 0 0 0 0 0 0 0 0 0 0 0 0 0 0 0 0 0 0 0 0\n",
      " 0 0 0 0 0 0 0 0 0 0 0 0 0 0 0 0 0 0 0 0 0 0 0 0 0 0 0 0 0 0 0 0 0 0 0 0 0\n",
      " 0 0 0 0 0 0 0 0 0 0 0 0 0 0 0 0 0 0 0 0 0 0 0 0 0 0 0 0 0 0 0 0 0 0 0 0 0\n",
      " 0 0 0 0 0 0 0 0 0 0 0 0 0 0 0 0 0 0 0 0 0 0 0 0 0 0 0 0 0 0 0 0 0 0 0 0 0\n",
      " 0 0 0 0 0 0 0 0 0 0 0 0 0 0 0 0 0 0 0 0 0 0 0 0 0 0 0 0 0 0 0 0 0 0 0 0 0\n",
      " 0 0 0 0 0 0 0 0 0 0 0 0 0 0 0 0 0 0 0 0 0 0 0 0 0 0 0 0 0 0 0 0 0 0 0 0 0\n",
      " 0 0 0 0 0 0 0 0 0 0 0 0 0 0 0 0 0 0 0 0 0 0 0 0 0 0 0 0 0 0 0 0 0 0 0 0 0\n",
      " 0 0 0 0 0 0 0 0 0 0 0 0 0 0 0 0 0 0 0 0 0 0 0 0 0 0 0 0 0 0 0 0 0 0 0 0 0\n",
      " 0 0 0 0 0 0 0 0 0 0 0 0 0 0 0 0 0 0 0 0 0 0 0 0 0 0 0 0 0 0 0 0 0 0 0 0 0\n",
      " 0 0 0 0 0 0 0 0 0 0 0 0 0 0 0 0 0 0 0 0 0 0 0 0 0 0 0 0 0 0 0 0 0 0 0 0 0\n",
      " 0 0 0 0 0 0 0 0 0 0 0 0 0 0 0 0 0 0 0 0 0 0 0]\n",
      "[0 0 0 0 0 0 0 0 0 0 0 0 0 0 0 0 0 0 0 0 0 0 0 0 0 0 0 0 0 0 0 0 0 0 0 0 0\n",
      " 0 0 0 0 0 0 0 0 0 0 0 0 0 0 0 0 0 0 0 0 0 0 0 0 0 0 0 0 0 0 0 0 0 0 0 0 0\n",
      " 0 0 0 0 0 0 0 0 0 0 0 0 0 0 0 0 0 0 0 0 0 0 0 0 0 0 0 0 0 0 0 0 0 0 0 0 0\n",
      " 0 0 0 0 0 0 0 0 0 0 0 0 0 0 0 0 0 0 0 0 0 0 0 0 0 0 0 0 0 0 0 0 0 0 0 0 0\n",
      " 0 0 0 0 0 0 0 0 0 0 0 0 0 0 0 0 0 0 0 0 0 0 0 0 0 0 0 0 0 0 0 0 0 0 0 0 0\n",
      " 0 0 0 0 0 0 0 0 0 0 0 0 0 0 0 0 0 0 0 0 0 0 0 0 0 0 0 0 0 0 0 0 0 0 0 0 0\n",
      " 0 0 0 0 0 0 0 0 0 0 0 0 0 0 0 0 0 0 0 0 0 0 0 0 0 0 0 0 0 0 0 0 0 0 0 0 0\n",
      " 0 0 0 0 0 0 0 0 0 0 0 0 0 0 0 0 0 1 0 0 0 0 0 0 0 0 0 0 0 0 0 0 0 0 0 0 0\n",
      " 0 0 0 0 0 0 0 0 0 0 0 1 0 1 1 0 0 0 0 0 0 0 1 0 0 0 0 0 0 0 1 0 0 0 0 0 0\n",
      " 0 0 0 0 0 0 0 0 0 0 0 0 0 0 0 0 0 0 0 0 0 0 0 1 0 0 0 0 0 0 0 0 1 0 0 0 0\n",
      " 0 0 0 0 0 0 0 0 0 0 0 0 0 0 0 0 0 0 0 0 0 0 0 0 0 0 0 0 0 0 0 0 0 0 0 0 0\n",
      " 0 0 0 0 0 0 0 0 0 0 0 0 0 0 0 0 0 0 0 0 0 0 0 0 0 0 0 0 0 0 0 0 0 0 0 0 0\n",
      " 0 0 0 0 0 0 0 0 0 0 0 0 0 0 0 0 0 0 1 0 0 0 0 0 0 0 0 0 0 0 0 0 0 0 0 0 0\n",
      " 0 0 0 0 0 1 0 0 0 0 0 0 0 0 0 0 0 0 0 1 1 0 0 1 1 0 0 0 0 0 0 1 0 0 0 1 0\n",
      " 0 0 0 1 0 0 0 0 0 0 0 0 0 0 0 0 0 0 0 1 0 0 0]\n",
      "540 540\n",
      "{0: 540}\n",
      "              precision    recall  f1-score   support\n",
      "\n",
      "           0       0.97      1.00      0.98       522\n",
      "           1       0.00      0.00      0.00        18\n",
      "\n",
      "    accuracy                           0.97       540\n",
      "   macro avg       0.48      0.50      0.49       540\n",
      "weighted avg       0.93      0.97      0.95       540\n",
      "\n",
      "Date: 5\n",
      "100.0%, 100.05%\n",
      "Date: 22\n",
      "100.0%, 100.41%\n",
      "Date: 60\n",
      "100.0%, 100.51%\n",
      "Date: 120\n",
      "100.0%, 98.24%\n",
      "Date: 255\n",
      "100.0%, 100.46%\n",
      "Date: 540\n",
      "100.0%, 104.57%\n",
      "\n"
     ]
    }
   ],
   "source": [
    "window = (1, 22, 60)\n",
    "epoch = 15\n",
    "batch_size = 32\n",
    "dropout_rate = 0.5\n",
    "for key, df in up_df.items():\n",
    "    df, scaler = scailing_df(df)\n",
    "    train_len = int(3000 * 0.8)\n",
    "    train, test = df[:train_len], df[train_len:]\n",
    "    \n",
    "    print('Upper Bounds:',key)\n",
    "    ttset, features = make_dataset(df, train, test,window[0])\n",
    "    (short_x_train, short_y_train), (short_x_test, short_y_test) = ttset\n",
    "    ttset, features = make_dataset(df, train, test, window[1])\n",
    "    (mid_x_train, mid_y_train), (mid_x_test, mid_y_test) = ttset\n",
    "    ttset, features = make_dataset(df, train, test, window[2])\n",
    "    (long_x_train, long_y_train), (long_x_test, long_y_test) = ttset\n",
    "    \n",
    "    print('Short Data Shape:', end = ' ')\n",
    "    print(short_x_train.shape, short_y_train.shape, short_x_test.shape, short_y_test.shape)\n",
    "    print('Middle Data Shape:', end = ' ')\n",
    "    print(mid_x_train.shape, mid_y_train.shape, mid_x_test.shape, mid_y_test.shape)\n",
    "    print('Long Data Shape:', end = ' ')\n",
    "    print(long_x_train.shape, long_y_train.shape, long_x_test.shape, long_y_test.shape)\n",
    "    \n",
    "    y_train = to_categorical(long_y_train, 2, dtype='int32')\n",
    "    y_test = to_categorical(long_y_test, 2, dtype='int32')\n",
    "    \n",
    "    model, callbacks = create_model(model_n = 'multi-cnn',\n",
    "                                 dropout_rate = dropout_rate, \n",
    "                                 path = 'd.h5',\n",
    "                                 multi_input = True,\n",
    "                                 short_x_train = short_x_train,\n",
    "                                 mid_x_train = mid_x_train,\n",
    "                                 long_x_train = long_x_train)\n",
    "    \n",
    "    short_x_train_t = short_x_train[:-(window[2] - window[0])]\n",
    "    mid_x_train_t = mid_x_train[:-(window[2] - window[1])]\n",
    "    short_x_test_t = short_x_test[:-(window[2] - window[0])]\n",
    "    mid_x_test_t = mid_x_test[:-(window[2] - window[1])]\n",
    "            \n",
    "    print('Reshape Data...')\n",
    "    print('Short Data Shape:', end = ' ')\n",
    "    print(short_x_train_t.shape, short_x_test_t.shape)\n",
    "    print('Middle Data Shape:', end = ' ')\n",
    "    print(mid_x_train_t.shape, mid_x_test_t.shape)\n",
    "    \n",
    "    hist = model.fit([short_x_train_t, mid_x_train_t, long_x_train], y_train,\n",
    "                            epochs=epoch, batch_size=batch_size,\n",
    "                            validation_data=([short_x_test_t, mid_x_test_t,\n",
    "                                              long_x_test], y_test),\n",
    "                            callbacks=callbacks,\n",
    "                            verbose=1)\n",
    "    \n",
    "    pred = model.predict([short_x_test_t, mid_x_test_t, long_x_test])\n",
    "    y_pred = np.argmax(pred, axis=1)\n",
    "    y_true = np.argmax(y_test, axis=1)\n",
    "    \n",
    "    print(y_pred)\n",
    "    print(y_true)\n",
    "    reverse = scaler.inverse_transform(test)\n",
    "    reverse_df = pd.DataFrame(reverse, columns = test.columns,\n",
    "                             index = test.index)\n",
    "    close = reverse_df['close'].values\n",
    "    close = close[window[2]:]\n",
    "    y_true = y_true[:-1]\n",
    "    y_pred = y_pred[:-1]\n",
    "    \n",
    "    print(len(y_true), len(y_pred))\n",
    "    unique, counts = np.unique(y_pred, return_counts=True)\n",
    "    print(dict(zip(unique, counts)))\n",
    "    print(classification_report(y_true, y_pred))\n",
    "    date_lists = [5,22,60,120,255,len(y_pred)]\n",
    "    for date in date_lists:\n",
    "        y_pred_t = y_pred.copy()\n",
    "        y_true_t = y_true.copy()\n",
    "\n",
    "        y_pred_t = y_pred_t[len(y_pred) % date:]\n",
    "        y_true_t = y_true_t[(len(y_true)) % date:]\n",
    "        #print(y_pred_t.shape, y_true_t.shape)\n",
    "        y_pred_t = y_pred_t.reshape(len(y_pred_t) // date, date)\n",
    "        y_true_t = y_true_t.reshape(len(y_true_t) // date, date)\n",
    "        #print(y_pred_t.shape, y_true_t.shape)\n",
    "\n",
    "        pred_profit_list = []\n",
    "        actual_profit_list = []\n",
    "        idx = 0\n",
    "        for y_p, y_t in zip(y_pred_t, y_true_t):\n",
    "            init_money = 1000000\n",
    "            pred_m = init_money\n",
    "            actual_m = init_money\n",
    "            for i in range(len(y_p)):\n",
    "                predict = y_p[i]\n",
    "                actual = y_t[i]\n",
    "\n",
    "                today_close = close[idx]\n",
    "                next_day_close = close[idx+1]\n",
    "                idx += 1\n",
    "                profit_ratio = round(next_day_close / today_close, 2)\n",
    "\n",
    "                if predict == 1:\n",
    "                    pred_m *= profit_ratio\n",
    "                if actual == 1:\n",
    "                    actual_m *= profit_ratio\n",
    "            pred_profit_list.append(pred_m / 1000000)\n",
    "            actual_profit_list.append(actual_m / 1000000)\n",
    "\n",
    "        pred_profit_list = np.array(pred_profit_list)\n",
    "        actual_profit_list = np.array(actual_profit_list)\n",
    "        #print(pred_profit_list.shape, actual_profit_list.shape)\\\n",
    "        print('Date:',date)\n",
    "        print(str(round(np.mean(pred_profit_list)*100, 2)) + '%,',\n",
    "              str(round(np.mean(actual_profit_list)*100, 2)) + '%')\n",
    "    \n",
    "    print('')"
   ]
  },
  {
   "cell_type": "code",
   "execution_count": null,
   "id": "9f90bd2b",
   "metadata": {},
   "outputs": [],
   "source": []
  }
 ],
 "metadata": {
  "kernelspec": {
   "display_name": "learn_v2",
   "language": "python",
   "name": "learn_v2"
  },
  "language_info": {
   "codemirror_mode": {
    "name": "ipython",
    "version": 3
   },
   "file_extension": ".py",
   "mimetype": "text/x-python",
   "name": "python",
   "nbconvert_exporter": "python",
   "pygments_lexer": "ipython3",
   "version": "3.7.10"
  }
 },
 "nbformat": 4,
 "nbformat_minor": 5
}
