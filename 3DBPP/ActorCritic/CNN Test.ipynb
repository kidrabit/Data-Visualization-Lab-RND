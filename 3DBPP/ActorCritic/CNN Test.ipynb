{
 "cells": [
  {
   "cell_type": "code",
   "execution_count": 3,
   "id": "4fa2266b",
   "metadata": {
    "ExecuteTime": {
     "end_time": "2021-04-25T20:27:43.421856Z",
     "start_time": "2021-04-25T20:26:47.510469Z"
    }
   },
   "outputs": [
    {
     "name": "stdout",
     "output_type": "stream",
     "text": [
      "Downloading data from https://storage.googleapis.com/tensorflow/tf-keras-datasets/mnist.npz\n",
      "11493376/11490434 [==============================] - 1s 0us/step\n",
      "x_train shape: (60000, 28, 28, 1)\n",
      "60000 train samples\n",
      "10000 test samples\n",
      "Model: \"sequential\"\n",
      "_________________________________________________________________\n",
      "Layer (type)                 Output Shape              Param #   \n",
      "=================================================================\n",
      "conv2d (Conv2D)              (None, 28, 28, 32)        832       \n",
      "_________________________________________________________________\n",
      "max_pooling2d (MaxPooling2D) (None, 14, 14, 32)        0         \n",
      "_________________________________________________________________\n",
      "conv2d_1 (Conv2D)            (None, 14, 14, 64)        8256      \n",
      "_________________________________________________________________\n",
      "max_pooling2d_1 (MaxPooling2 (None, 7, 7, 64)          0         \n",
      "_________________________________________________________________\n",
      "dropout (Dropout)            (None, 7, 7, 64)          0         \n",
      "_________________________________________________________________\n",
      "flatten (Flatten)            (None, 3136)              0         \n",
      "_________________________________________________________________\n",
      "dense (Dense)                (None, 1000)              3137000   \n",
      "_________________________________________________________________\n",
      "dropout_1 (Dropout)          (None, 1000)              0         \n",
      "_________________________________________________________________\n",
      "dense_1 (Dense)              (None, 10)                10010     \n",
      "=================================================================\n",
      "Total params: 3,156,098\n",
      "Trainable params: 3,156,098\n",
      "Non-trainable params: 0\n",
      "_________________________________________________________________\n",
      "Epoch 1/12\n",
      "469/469 [==============================] - 11s 9ms/step - loss: 0.4198 - accuracy: 0.8632 - val_loss: 0.0485 - val_accuracy: 0.9843\n",
      "Epoch 2/12\n",
      "469/469 [==============================] - 4s 8ms/step - loss: 0.0614 - accuracy: 0.9804 - val_loss: 0.0300 - val_accuracy: 0.9900\n",
      "Epoch 3/12\n",
      "469/469 [==============================] - 4s 8ms/step - loss: 0.0459 - accuracy: 0.9860 - val_loss: 0.0325 - val_accuracy: 0.9898\n",
      "Epoch 4/12\n",
      "469/469 [==============================] - 4s 8ms/step - loss: 0.0383 - accuracy: 0.9875 - val_loss: 0.0252 - val_accuracy: 0.9913\n",
      "Epoch 5/12\n",
      "469/469 [==============================] - 4s 8ms/step - loss: 0.0298 - accuracy: 0.9903 - val_loss: 0.0214 - val_accuracy: 0.9928\n",
      "Epoch 6/12\n",
      "469/469 [==============================] - 4s 8ms/step - loss: 0.0267 - accuracy: 0.9916 - val_loss: 0.0232 - val_accuracy: 0.9925\n",
      "Epoch 7/12\n",
      "469/469 [==============================] - 4s 8ms/step - loss: 0.0238 - accuracy: 0.9920 - val_loss: 0.0247 - val_accuracy: 0.9923\n",
      "Epoch 8/12\n",
      "469/469 [==============================] - 4s 8ms/step - loss: 0.0195 - accuracy: 0.9937 - val_loss: 0.0202 - val_accuracy: 0.9930\n",
      "Epoch 9/12\n",
      "469/469 [==============================] - 4s 8ms/step - loss: 0.0183 - accuracy: 0.9940 - val_loss: 0.0204 - val_accuracy: 0.9935\n",
      "Epoch 10/12\n",
      "469/469 [==============================] - 4s 8ms/step - loss: 0.0162 - accuracy: 0.9947 - val_loss: 0.0226 - val_accuracy: 0.9933\n",
      "Epoch 11/12\n",
      "469/469 [==============================] - 4s 8ms/step - loss: 0.0135 - accuracy: 0.9958 - val_loss: 0.0216 - val_accuracy: 0.9928\n",
      "Epoch 12/12\n",
      "469/469 [==============================] - 4s 8ms/step - loss: 0.0135 - accuracy: 0.9953 - val_loss: 0.0213 - val_accuracy: 0.9931\n",
      "Test loss: 0.021339096128940582\n",
      "Test accuracy: 0.9930999875068665\n"
     ]
    }
   ],
   "source": [
    "import sys\n",
    "import tensorflow as tf\n",
    "from tensorflow.keras.models import Sequential\n",
    "from tensorflow.keras.layers import Dense, Dropout, Flatten\n",
    "from tensorflow.keras.layers import Conv2D, MaxPooling2D\n",
    "import numpy as np\n",
    "\n",
    "img_rows = 28\n",
    "img_cols = 28\n",
    "\n",
    "(x_train, y_train), (x_test, y_test) = tf.keras.datasets.mnist.load_data()\n",
    "\n",
    "input_shape = (img_rows, img_cols, 1)\n",
    "x_train = x_train.reshape(x_train.shape[0], img_rows, img_cols, 1)\n",
    "x_test = x_test.reshape(x_test.shape[0], img_rows, img_cols, 1)\n",
    "\n",
    "x_train = x_train.astype('float32') / 255.\n",
    "x_test = x_test.astype('float32') / 255.\n",
    "\n",
    "print('x_train shape:', x_train.shape)\n",
    "print(x_train.shape[0], 'train samples')\n",
    "print(x_test.shape[0], 'test samples')\n",
    "\n",
    "batch_size = 128\n",
    "num_classes = 10\n",
    "epochs = 12  #여러번 학습하면 좋겠지만 시간관계상 3번만 학습하고 결과를 확인합니다.\n",
    "\n",
    "y_train = tf.keras.utils.to_categorical(y_train, num_classes)\n",
    "y_test = tf.keras.utils.to_categorical(y_test, num_classes)\n",
    "\n",
    "model = Sequential()\n",
    "model.add(Conv2D(32, kernel_size=(5, 5), strides=(1, 1), padding='same', activation='relu', input_shape=input_shape))\n",
    "model.add(MaxPooling2D(pool_size=(2, 2), strides=(2, 2)))\n",
    "model.add(Conv2D(64, (2, 2), activation='relu', padding='same'))\n",
    "model.add(MaxPooling2D(pool_size=(2, 2)))\n",
    "model.add(Dropout(0.25))\n",
    "model.add(Flatten())\n",
    "model.add(Dense(1000, activation='relu'))\n",
    "model.add(Dropout(0.5))\n",
    "model.add(Dense(num_classes, activation='softmax'))\n",
    "model.summary()\n",
    "\n",
    "model.compile(loss='categorical_crossentropy', optimizer='adam', metrics=['accuracy'])\n",
    "hist = model.fit(x_train, y_train, batch_size=batch_size, epochs=epochs, verbose=1, validation_data=(x_test, y_test))\n",
    "\n",
    "score = model.evaluate(x_test, y_test, verbose=0)\n",
    "print('Test loss:', score[0])\n",
    "print('Test accuracy:', score[1])"
   ]
  },
  {
   "cell_type": "code",
   "execution_count": 4,
   "id": "fd5a3fa7",
   "metadata": {
    "ExecuteTime": {
     "end_time": "2021-04-25T20:27:44.204700Z",
     "start_time": "2021-04-25T20:27:43.422854Z"
    }
   },
   "outputs": [
    {
     "data": {
      "text/plain": [
       "(10000, 10)"
      ]
     },
     "execution_count": 4,
     "metadata": {},
     "output_type": "execute_result"
    }
   ],
   "source": [
    "import random\n",
    "import matplotlib.pyplot as plt\n",
    "\n",
    "predicted_result = model.predict(x_test)\n",
    "predicted_result.shape"
   ]
  },
  {
   "cell_type": "code",
   "execution_count": 5,
   "id": "e9fe3c3e",
   "metadata": {
    "ExecuteTime": {
     "end_time": "2021-04-25T20:27:44.220358Z",
     "start_time": "2021-04-25T20:27:44.206551Z"
    }
   },
   "outputs": [
    {
     "data": {
      "text/plain": [
       "array([[1.9152972e-13, 6.1332289e-10, 7.3452925e-13, ..., 1.0000000e+00,\n",
       "        1.9051758e-13, 2.3901090e-09],\n",
       "       [1.2087696e-09, 1.8999651e-09, 1.0000000e+00, ..., 1.3648626e-12,\n",
       "        1.9371599e-14, 9.1623545e-15],\n",
       "       [7.0766726e-09, 9.9999845e-01, 3.9874205e-08, ..., 1.4388930e-07,\n",
       "        3.5742389e-08, 4.3124199e-10],\n",
       "       ...,\n",
       "       [5.1517014e-17, 1.2314930e-11, 3.1190962e-14, ..., 4.1281985e-11,\n",
       "        5.8624869e-11, 8.7572216e-10],\n",
       "       [6.0381069e-14, 3.2568093e-15, 1.5039260e-19, ..., 4.1890406e-16,\n",
       "        2.0502133e-10, 1.2418840e-14],\n",
       "       [2.0597790e-08, 5.4117344e-12, 2.8019977e-11, ..., 9.8849235e-17,\n",
       "        9.8909131e-11, 8.2835018e-14]], dtype=float32)"
      ]
     },
     "execution_count": 5,
     "metadata": {},
     "output_type": "execute_result"
    }
   ],
   "source": [
    "predicted_result"
   ]
  },
  {
   "cell_type": "code",
   "execution_count": 6,
   "id": "1992b5e3",
   "metadata": {
    "ExecuteTime": {
     "end_time": "2021-04-25T20:28:19.820139Z",
     "start_time": "2021-04-25T20:28:19.811161Z"
    }
   },
   "outputs": [
    {
     "data": {
      "text/plain": [
       "(28, 28, 1)"
      ]
     },
     "execution_count": 6,
     "metadata": {},
     "output_type": "execute_result"
    }
   ],
   "source": [
    "input_shape"
   ]
  },
  {
   "cell_type": "code",
   "execution_count": null,
   "id": "32f99ebe",
   "metadata": {},
   "outputs": [],
   "source": []
  }
 ],
 "metadata": {
  "kernelspec": {
   "display_name": "RL",
   "language": "python",
   "name": "rl"
  },
  "language_info": {
   "codemirror_mode": {
    "name": "ipython",
    "version": 3
   },
   "file_extension": ".py",
   "mimetype": "text/x-python",
   "name": "python",
   "nbconvert_exporter": "python",
   "pygments_lexer": "ipython3",
   "version": "3.7.10"
  }
 },
 "nbformat": 4,
 "nbformat_minor": 5
}
