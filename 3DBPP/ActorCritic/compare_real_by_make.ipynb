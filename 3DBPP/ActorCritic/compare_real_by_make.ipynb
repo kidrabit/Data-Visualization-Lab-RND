{
 "cells": [
  {
   "cell_type": "code",
   "execution_count": 1,
   "id": "69563f61",
   "metadata": {
    "ExecuteTime": {
     "end_time": "2021-04-27T23:44:53.843218Z",
     "start_time": "2021-04-27T23:44:49.982681Z"
    }
   },
   "outputs": [],
   "source": [
    "import pandas as pd\n",
    "import numpy as np\n",
    "import pickle\n",
    "import itertools\n",
    "import os\n",
    "import random\n",
    "import math\n",
    "import time\n",
    "import numpy as np\n",
    "import tensorflow as tf\n",
    "import matplotlib.pyplot as plt\n",
    "\n",
    "from collections import deque\n",
    "from tensorflow.keras.optimizers import Adam\n",
    "from tensorflow.keras import Sequential\n",
    "from tensorflow.keras.layers import Dense, Conv1D, MaxPooling1D, Flatten, concatenate, Conv2D, MaxPooling2D\n",
    "\n",
    "from libs.utils import *\n",
    "from libs.generate_boxes import  *"
   ]
  },
  {
   "cell_type": "code",
   "execution_count": 2,
   "id": "a71d0b09",
   "metadata": {
    "ExecuteTime": {
     "end_time": "2021-04-27T23:44:53.857824Z",
     "start_time": "2021-04-27T23:44:53.844684Z"
    }
   },
   "outputs": [],
   "source": [
    "os.environ['TF_CPP_MIN_LOG_LEVEL'] = '0'\n",
    "tf.get_logger().setLevel('INFO')\n",
    "tf.keras.backend.floatx()\n",
    "\n",
    "plt.style.use('fivethirtyeight')\n",
    "plt.rcParams['figure.figsize'] = (20,10)"
   ]
  },
  {
   "cell_type": "code",
   "execution_count": 5,
   "id": "3933f68a",
   "metadata": {
    "ExecuteTime": {
     "end_time": "2021-04-27T23:45:34.071351Z",
     "start_time": "2021-04-27T23:45:34.063333Z"
    }
   },
   "outputs": [],
   "source": [
    "N_MDD = 32\n",
    "boxes, gt_pos = generation_3dbox_random(case_size=[[20,20,20]],min_s=1,\n",
    "                                        N_mdd = N_MDD)\n",
    "boxes = boxes[0]"
   ]
  },
  {
   "cell_type": "code",
   "execution_count": 6,
   "id": "681ec0e1",
   "metadata": {
    "ExecuteTime": {
     "end_time": "2021-04-27T23:45:36.188142Z",
     "start_time": "2021-04-27T23:45:36.179037Z"
    }
   },
   "outputs": [
    {
     "name": "stdout",
     "output_type": "stream",
     "text": [
      "32 29\n"
     ]
    }
   ],
   "source": [
    "K = 3\n",
    "n_candidates = 4\n",
    "\n",
    "num_max_boxes = len(boxes)\n",
    "num_max_remain = num_max_boxes - K\n",
    "print(num_max_boxes, num_max_remain)"
   ]
  },
  {
   "cell_type": "code",
   "execution_count": 7,
   "id": "6baa82b9",
   "metadata": {
    "ExecuteTime": {
     "end_time": "2021-04-27T23:45:57.208737Z",
     "start_time": "2021-04-27T23:45:57.198518Z"
    }
   },
   "outputs": [
    {
     "data": {
      "text/plain": [
       "((20, 20, 20), (20, 20))"
      ]
     },
     "execution_count": 7,
     "metadata": {},
     "output_type": "execute_result"
    }
   ],
   "source": [
    "env = Bpp3DEnv()\n",
    "env.reset()\n",
    "env.container.shape, env.container_h.shape"
   ]
  },
  {
   "cell_type": "code",
   "execution_count": 9,
   "id": "7fdd745e",
   "metadata": {
    "ExecuteTime": {
     "end_time": "2021-04-27T23:46:07.671736Z",
     "start_time": "2021-04-27T23:46:07.661685Z"
    }
   },
   "outputs": [
    {
     "data": {
      "text/plain": [
       "3"
      ]
     },
     "execution_count": 9,
     "metadata": {},
     "output_type": "execute_result"
    }
   ],
   "source": [
    "boxes_all = np.array(boxes).copy()\n",
    "r_boxes = boxes_all.copy()\n",
    "k = min(K, len(r_boxes))\n",
    "k"
   ]
  },
  {
   "cell_type": "code",
   "execution_count": 15,
   "id": "017c7a28",
   "metadata": {
    "ExecuteTime": {
     "end_time": "2021-04-27T23:49:08.940799Z",
     "start_time": "2021-04-27T23:49:08.932825Z"
    }
   },
   "outputs": [
    {
     "data": {
      "text/plain": [
       "array([[ 2, 17,  4],\n",
       "       [ 2, 17,  4],\n",
       "       [ 2, 17,  4],\n",
       "       [ 2, 17,  4],\n",
       "       [ 2, 17,  4],\n",
       "       [ 2, 17,  4],\n",
       "       [ 2, 17,  4],\n",
       "       [ 2, 17,  4],\n",
       "       [ 2, 17,  4],\n",
       "       [ 2, 17,  4],\n",
       "       [ 2, 17,  4],\n",
       "       [ 2, 17,  4],\n",
       "       [ 2, 17,  4],\n",
       "       [ 2, 17,  4],\n",
       "       [ 2, 17,  4],\n",
       "       [ 2, 17,  4],\n",
       "       [ 2, 17,  4],\n",
       "       [ 2, 17,  4],\n",
       "       [ 2, 17,  4],\n",
       "       [ 2, 17,  4],\n",
       "       [ 2, 17,  4],\n",
       "       [ 2, 17,  4],\n",
       "       [ 2, 17,  4],\n",
       "       [ 2, 17,  4],\n",
       "       [ 2, 17,  4],\n",
       "       [ 2, 17,  4],\n",
       "       [ 2, 17,  4],\n",
       "       [ 2, 17,  4],\n",
       "       [ 2, 17,  4],\n",
       "       [ 2, 17,  4],\n",
       "       [ 2, 17,  4],\n",
       "       [ 2, 17,  4]])"
      ]
     },
     "execution_count": 15,
     "metadata": {},
     "output_type": "execute_result"
    }
   ],
   "source": [
    "box = r_boxes[0]\n",
    "r_list = []\n",
    "for i in range(32):\n",
    "    r_list.append(box)\n",
    "r_list = np.array(r_list)\n",
    "r_list"
   ]
  },
  {
   "cell_type": "code",
   "execution_count": 16,
   "id": "f0ca3a81",
   "metadata": {
    "ExecuteTime": {
     "end_time": "2021-04-27T23:49:16.214137Z",
     "start_time": "2021-04-27T23:49:16.205616Z"
    }
   },
   "outputs": [],
   "source": [
    "selected = cbn_select_boxes(r_list[:n_candidates],k)\n",
    "s_order = get_selected_order(selected, k)"
   ]
  },
  {
   "cell_type": "code",
   "execution_count": 17,
   "id": "acc2baad",
   "metadata": {
    "ExecuteTime": {
     "end_time": "2021-04-27T23:49:16.787987Z",
     "start_time": "2021-04-27T23:49:16.779934Z"
    }
   },
   "outputs": [
    {
     "data": {
      "text/plain": [
       "(array([[[ 2, 17,  4],\n",
       "         [ 2, 17,  4],\n",
       "         [ 2, 17,  4]]]),\n",
       " array([[[ 2, 17,  4],\n",
       "         [ 2, 17,  4],\n",
       "         [ 2, 17,  4]]]))"
      ]
     },
     "execution_count": 17,
     "metadata": {},
     "output_type": "execute_result"
    }
   ],
   "source": [
    "s_order, selected"
   ]
  },
  {
   "cell_type": "code",
   "execution_count": null,
   "id": "77630a3c",
   "metadata": {},
   "outputs": [],
   "source": []
  }
 ],
 "metadata": {
  "kernelspec": {
   "display_name": "RL",
   "language": "python",
   "name": "rl"
  },
  "language_info": {
   "codemirror_mode": {
    "name": "ipython",
    "version": 3
   },
   "file_extension": ".py",
   "mimetype": "text/x-python",
   "name": "python",
   "nbconvert_exporter": "python",
   "pygments_lexer": "ipython3",
   "version": "3.7.10"
  }
 },
 "nbformat": 4,
 "nbformat_minor": 5
}
