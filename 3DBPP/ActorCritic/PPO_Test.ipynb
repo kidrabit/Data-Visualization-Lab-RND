{
 "cells": [
  {
   "cell_type": "code",
   "execution_count": 1,
   "id": "dc8fe297",
   "metadata": {
    "ExecuteTime": {
     "end_time": "2021-05-23T18:42:33.133638Z",
     "start_time": "2021-05-23T18:42:28.342312Z"
    }
   },
   "outputs": [],
   "source": [
    "import os, os.path\n",
    "import random\n",
    "import numpy as np\n",
    "import math\n",
    "import matplotlib.pyplot as plt\n",
    "import time\n",
    "import tensorflow as tf\n",
    "from collections import deque\n",
    "import itertools\n",
    "from sklearn.utils import shuffle\n",
    "from tensorflow.keras.optimizers import Adam\n",
    "from tensorflow.keras.layers import Dense\n",
    "import tensorflow.keras.losses as kls\n",
    "from libs.utils import *\n",
    "from libs.generate_boxes import *\n",
    "from libs.dqn import *"
   ]
  },
  {
   "cell_type": "code",
   "execution_count": 2,
   "id": "537f68a8",
   "metadata": {
    "ExecuteTime": {
     "end_time": "2021-05-23T18:42:33.148516Z",
     "start_time": "2021-05-23T18:42:33.135549Z"
    }
   },
   "outputs": [
    {
     "data": {
      "text/plain": [
       "'float32'"
      ]
     },
     "execution_count": 2,
     "metadata": {},
     "output_type": "execute_result"
    }
   ],
   "source": [
    "os.environ[\"CUDA_VISIBLE_DEVICES\"]=\"0\"\n",
    "tf_device='/gpu:0'\n",
    "tf.get_logger().setLevel('INFO')\n",
    "tf.keras.backend.floatx()"
   ]
  },
  {
   "cell_type": "code",
   "execution_count": 3,
   "id": "24f96fa2",
   "metadata": {
    "ExecuteTime": {
     "end_time": "2021-05-23T18:42:33.164235Z",
     "start_time": "2021-05-23T18:42:33.152272Z"
    }
   },
   "outputs": [],
   "source": [
    "num_episode = 1500\n",
    "global_step = 0\n",
    "tr_l, h_fill, tr_r, avg_loss_l,history_eps,used_boxes_eps  = [],[],[],[],[],[]\n",
    "N_MDD = 7\n",
    "K = 4\n",
    "n_candidates =4"
   ]
  },
  {
   "cell_type": "code",
   "execution_count": 4,
   "id": "87e3b3b6",
   "metadata": {
    "ExecuteTime": {
     "end_time": "2021-05-23T18:42:34.172986Z",
     "start_time": "2021-05-23T18:42:34.152887Z"
    }
   },
   "outputs": [],
   "source": [
    "boxes_multi1 = [np.array([[20, 20,  4],\n",
    "         [20,  4,  4],\n",
    "         [20,  4,  4],\n",
    "         [20,  4,  4],\n",
    "         [20,  4,  4],\n",
    "         [20,  4,  4],\n",
    "         [20, 20,  4],\n",
    "         [20, 20,  4],\n",
    "         [20, 20,  4]])]\n",
    "gt_pos1 = [np.array([[ 0,  0,  0],\n",
    "         [ 0,  0,  4],\n",
    "         [ 0,  4,  4],\n",
    "         [ 0,  8,  4],\n",
    "         [ 0, 12,  4],\n",
    "         [ 0, 16,  4],\n",
    "         [ 0,  0,  8],\n",
    "         [ 0,  0, 12],\n",
    "         [ 0,  0, 16]])]\n",
    "\n",
    "boxes_multi2 = [np.array([[20, 20,  5],\n",
    "        [ 4, 20,  5],\n",
    "        [ 4, 20,  5],\n",
    "        [ 4, 20,  5],\n",
    "        [ 4, 20,  5],\n",
    "        [ 4, 20,  5],\n",
    "        [10, 20,  5],\n",
    "        [10, 20,  5],\n",
    "        [20, 20,  5]])]\n",
    "\n",
    "gt_pos2 = [np.array([[ 0,  0,  0],\n",
    "        [ 0,  0,  5],\n",
    "        [ 4,  0,  5],\n",
    "        [ 8,  0,  5],\n",
    "        [12,  0,  5],\n",
    "        [16,  0,  5],\n",
    "        [ 0,  0, 10],\n",
    "        [10,  0, 10],\n",
    "        [ 0,  0, 15]])]"
   ]
  },
  {
   "cell_type": "code",
   "execution_count": 5,
   "id": "689e2333",
   "metadata": {
    "ExecuteTime": {
     "end_time": "2021-05-23T18:42:36.797282Z",
     "start_time": "2021-05-23T18:42:36.783681Z"
    }
   },
   "outputs": [
    {
     "name": "stdout",
     "output_type": "stream",
     "text": [
      "num_max_boxes 9 num_max_remain 9\n"
     ]
    }
   ],
   "source": [
    "num_max_boxes = max(len(boxes_multi1[0]), len(boxes_multi2[0]))\n",
    "num_max_remain = num_max_boxes\n",
    "print('num_max_boxes',num_max_boxes,'num_max_remain',num_max_remain)"
   ]
  },
  {
   "cell_type": "code",
   "execution_count": 6,
   "id": "a83a36fe",
   "metadata": {
    "ExecuteTime": {
     "end_time": "2021-05-23T18:42:39.328839Z",
     "start_time": "2021-05-23T18:42:39.320300Z"
    }
   },
   "outputs": [],
   "source": [
    "env=Bpp3DEnv()"
   ]
  },
  {
   "cell_type": "code",
   "execution_count": 7,
   "id": "aaaf12d2",
   "metadata": {
    "ExecuteTime": {
     "end_time": "2021-05-23T18:42:41.535703Z",
     "start_time": "2021-05-23T18:42:41.516974Z"
    }
   },
   "outputs": [],
   "source": [
    "class PPO_Actor(tf.keras.Model):\n",
    "    def __init__(self, state_size, selected_size, remain_size, loading_size, output_size):\n",
    "        super(PPO_Actor, self).__init__()\n",
    "        \n",
    "        l1, b1, k1 = state_size\n",
    "        self.state_size = (l1*b1*k1,)\n",
    "        self.case_dnn1 = Dense(64, activation='relu', input_shape=self.state_size)\n",
    "        self.case_dnn2 = Dense(64, activation='relu')\n",
    "        \n",
    "        l2, b2, k2 = selected_size\n",
    "        self.selected_size = (l2*b2*k2,)\n",
    "        self.select_dnn1 = Dense(64, activation='relu', input_shape=self.selected_size)\n",
    "        self.select_dnn2 = Dense(64, activation='relu')\n",
    "        \n",
    "        l3, b3, k3 = remain_size\n",
    "        self.remain_size = (l3*b3*k3,)\n",
    "        self.remain_dnn1 = Dense(128, activation='relu', input_shape=self.remain_size)\n",
    "        self.remain_dnn2 = Dense(128, activation='relu')\n",
    "        \n",
    "        l4, b4, k4 = loading_size\n",
    "        self.loading_size = (l4*b4*k4,)\n",
    "        self.loading_dnn1 = Dense(128, activation='relu', input_shape=self.loading_size)\n",
    "        self.loading_dnn2 = Dense(128, activation='relu')\n",
    "        \n",
    "        self.fc1 = Dense(256, activation='relu')\n",
    "        self.fc2 = Dense(128, activation='relu')\n",
    "        self.fc_out = Dense(output_size)\n",
    "        \n",
    "    def call(self, cb_list):\n",
    "        c,s,r,l = cb_list[0], cb_list[1], cb_list[2], cb_list[3]\n",
    "        c = tf.reshape(c, [-1, self.state_size[0]])\n",
    "        s = tf.reshape(s, [-1, self.selected_size[0]])\n",
    "        r = tf.reshape(r, [-1, self.remain_size[0]])\n",
    "        l = tf.reshape(l, [-1, self.loading_size[0]])\n",
    "        \n",
    "        c = self.case_dnn1(c)\n",
    "        c = self.case_dnn2(c)\n",
    "        \n",
    "        s = self.select_dnn1(s)\n",
    "        s = self.select_dnn2(s)\n",
    "        \n",
    "        r = self.remain_dnn1(r)\n",
    "        r = self.remain_dnn2(r)\n",
    "        \n",
    "        l = self.loading_dnn1(l)\n",
    "        l = self.loading_dnn2(l)\n",
    "        \n",
    "        x = concatenate([c,s,r,l])\n",
    "        x = self.fc1(x)\n",
    "        x = self.fc2(x)\n",
    "        q = self.fc_out(x)\n",
    "        return q"
   ]
  },
  {
   "cell_type": "code",
   "execution_count": 8,
   "id": "1080e24f",
   "metadata": {
    "ExecuteTime": {
     "end_time": "2021-05-23T18:42:44.135353Z",
     "start_time": "2021-05-23T18:42:44.117844Z"
    }
   },
   "outputs": [],
   "source": [
    "class PPO_Critic(tf.keras.Model):\n",
    "    def __init__(self, state_size, selected_size, remain_size, loading_size, output_size):\n",
    "        super(PPO_Critic, self).__init__()\n",
    "        \n",
    "        l1, b1, k1 = state_size\n",
    "        self.state_size = (l1*b1*k1,)\n",
    "        self.case_dnn1 = Dense(64, activation='relu', input_shape=self.state_size)\n",
    "        self.case_dnn2 = Dense(64, activation='relu')\n",
    "        \n",
    "        l2, b2, k2 = selected_size\n",
    "        self.selected_size = (l2*b2*k2,)\n",
    "        self.select_dnn1 = Dense(64, activation='relu', input_shape=self.selected_size)\n",
    "        self.select_dnn2 = Dense(64, activation='relu')\n",
    "        \n",
    "        l3, b3, k3 = remain_size\n",
    "        self.remain_size = (l3*b3*k3,)\n",
    "        self.remain_dnn1 = Dense(128, activation='relu', input_shape=self.remain_size)\n",
    "        self.remain_dnn2 = Dense(128, activation='relu')\n",
    "        \n",
    "        l4, b4, k4 = loading_size\n",
    "        self.loading_size = (l4*b4*k4,)\n",
    "        self.loading_dnn1 = Dense(128, activation='relu', input_shape=self.loading_size)\n",
    "        self.loading_dnn2 = Dense(128, activation='relu')\n",
    "        \n",
    "        self.fc1 = Dense(256, activation='relu')\n",
    "        self.fc2 = Dense(128, activation='relu')\n",
    "        self.fc_out = Dense(output_size)\n",
    "        \n",
    "    def call(self, cb_list):\n",
    "        c,s,r,l = cb_list[0], cb_list[1], cb_list[2], cb_list[3]\n",
    "        c = tf.reshape(c, [-1, self.state_size[0]])\n",
    "        s = tf.reshape(s, [-1, self.selected_size[0]])\n",
    "        r = tf.reshape(r, [-1, self.remain_size[0]])\n",
    "        l = tf.reshape(l, [-1, self.loading_size[0]])\n",
    "        \n",
    "        c = self.case_dnn1(c)\n",
    "        c = self.case_dnn2(c)\n",
    "        \n",
    "        s = self.select_dnn1(s)\n",
    "        s = self.select_dnn2(s)\n",
    "        \n",
    "        r = self.remain_dnn1(r)\n",
    "        r = self.remain_dnn2(r)\n",
    "        \n",
    "        l = self.loading_dnn1(l)\n",
    "        l = self.loading_dnn2(l)\n",
    "        \n",
    "        x = concatenate([c,s,r,l])\n",
    "        x = self.fc1(x)\n",
    "        x = self.fc2(x)\n",
    "        q = self.fc_out(x)\n",
    "        return q"
   ]
  },
  {
   "cell_type": "code",
   "execution_count": 9,
   "id": "d9412c93",
   "metadata": {
    "ExecuteTime": {
     "end_time": "2021-05-23T18:42:46.794881Z",
     "start_time": "2021-05-23T18:42:46.694525Z"
    }
   },
   "outputs": [],
   "source": [
    "class PPOAgent():\n",
    "    def __init__(self, L=20, B=20, H=20, n_remains=5, n_loading=3, lr=1e-8):\n",
    "        self.state_size = (L,B,1)\n",
    "        self.selected_size = (L,B,2)\n",
    "        self.remain_size=(L,B,n_remains)\n",
    "        self.loading_size=(L,B,n_loading)\n",
    "        self.output_size=1\n",
    "        \n",
    "        self.discount_factor=0.99\n",
    "        self.gamma = 0.9\n",
    "        self.clip_pram = 0.2\n",
    "        self.learning_rate=lr\n",
    "        \n",
    "        self.actor = PPO_Actor(self.state_size, self.selected_size, self.remain_size, self.loading_size, self.output_size)\n",
    "        self.critic = PPO_Critic(self.state_size, self.selected_size, self.remain_size, self.loading_size, self.output_size)\n",
    "        \n",
    "        self.actor_optimizer = Adam(self.learning_rate)\n",
    "        self.critic_optimizer = Adam(self.learning_rate)\n",
    "        \n",
    "        self.avg_actor_loss = 0\n",
    "        self.avg_critic_loss = 0\n",
    "        \n",
    "    def get_action(self, state, loaded_mh_c, r_boxes, loading):\n",
    "        probs = self.actor([state, loaded_mh_c, r_boxes, loading])\n",
    "        argmax_idx = np.where(probs == tf.math.reduce_max(probs))\n",
    "        action_idx = argmax_idx[0][0]\n",
    "        return probs[action_idx], action_idx\n",
    "        \n",
    "    def get_value(self, state, loaded_mh_c, r_boxes, loading):\n",
    "        value = self.critic([state, loaded_mh_c, r_boxes, loading])\n",
    "        argmax_idx = np.where(value == tf.math.reduce_max(value))\n",
    "        value = argmax_idx[0][0]\n",
    "        return value\n",
    "    \n",
    "    def get_actor_loss(self, probs, advantage, old_probs, critic_loss):\n",
    "        probability = probs\n",
    "        entropy = tf.reduce_mean(tf.math.negative(tf.math.multiply(probability, tf.math.log(probability))))\n",
    "        entropy = tf.math.abs(entropy) #삭제 가능하도록\n",
    "        sr1, sr2 = [], []\n",
    "\n",
    "        for prob, adv, old_prob in zip(probability, advantage, old_probs):\n",
    "            adv = tf.constant(adv)\n",
    "            old_prob = tf.constant(old_prob)\n",
    "            ratio = tf.math.divide(prob, old_prob)\n",
    "            adv = tf.cast(adv, dtype='float32')\n",
    "            s1 = tf.math.multiply(ratio, adv)\n",
    "            s2 = tf.math.multiply(tf.clip_by_value(ratio, 1.0-self.clip_pram, 1.0 + self.clip_pram), adv)\n",
    "            sr1.append(s1)\n",
    "            sr2.append(s2)\n",
    "        sr1 = tf.stack(sr1)\n",
    "        sr2 = tf.stack(sr2)\n",
    "        act_loss = tf.math.negative(tf.reduce_mean(tf.math.minimum(sr1, sr2)) - critic_loss + 0.001 * entropy)\n",
    "        return act_loss\n",
    "    \n",
    "    def train(self, state, loaded_mh_c, r_boxes, loaded, returns, adv, probs):\n",
    "        discnt_rewards = tf.reshape(returns, (len(returns),))\n",
    "        adv = tf.reshape(adv, (len(adv),))\n",
    "        old_probs = probs\n",
    "        old_probs = tf.reshape(old_probs, (len(old_probs),1))\n",
    "        old_probs = tf.math.abs(old_probs) #삭제 가능하도록\n",
    "        \n",
    "        state = np.array(state)\n",
    "        loaded_mh_c = np.array(loaded_mh_c)\n",
    "        r_boxes = np.array(r_boxes)\n",
    "        loaded = np.array(loaded)\n",
    "        \n",
    "        with tf.GradientTape() as actor_tape, tf.GradientTape() as critic_tape:\n",
    "            prob = self.actor([state, loaded_mh_c, r_boxes, loaded])\n",
    "            prob = tf.math.abs(prob) #삭제 가능하도록\n",
    "            value = self.critic([state, loaded_mh_c, r_boxes, loaded])\n",
    "            value = tf.reshape(value, (len(value),))\n",
    "            critic_loss = 0.5 * kls.mean_squared_error(discnt_rewards, value)\n",
    "            actor_loss = self.get_actor_loss(prob, adv, old_probs, critic_loss)\n",
    "            self.avg_actor_loss += actor_loss.numpy()\n",
    "            self.avg_critic_loss += critic_loss.numpy()\n",
    "                \n",
    "        actor_grads = actor_tape.gradient(actor_loss, self.actor.trainable_variables)\n",
    "        critic_grads = critic_tape.gradient(critic_loss, self.critic.trainable_variables)\n",
    "        self.actor_optimizer.apply_gradients(zip(actor_grads, self.actor.trainable_variables))\n",
    "        self.critic_optimizer.apply_gradients(zip(critic_grads, self.critic.trainable_variables))"
   ]
  },
  {
   "cell_type": "code",
   "execution_count": 10,
   "id": "372b7487",
   "metadata": {
    "ExecuteTime": {
     "end_time": "2021-05-23T18:42:53.269090Z",
     "start_time": "2021-05-23T18:42:51.081832Z"
    }
   },
   "outputs": [],
   "source": [
    "agent = PPOAgent(L=20, B=20, H=20, n_remains=num_max_remain, n_loading=K, lr=1e-4)"
   ]
  },
  {
   "cell_type": "code",
   "execution_count": 11,
   "id": "5361aa56",
   "metadata": {
    "ExecuteTime": {
     "end_time": "2021-05-23T18:42:54.670534Z",
     "start_time": "2021-05-23T18:42:54.652976Z"
    }
   },
   "outputs": [],
   "source": [
    " def terminal_rewards(state, gamma, reward):\n",
    "    terminal_rewards = []\n",
    "    for i in range(len(state)):\n",
    "        rewards = (gamma ** (len(state) - i - 1)) * reward\n",
    "        terminal_rewards.append(rewards)\n",
    "    return terminal_rewards"
   ]
  },
  {
   "cell_type": "code",
   "execution_count": 12,
   "id": "babd5e6a",
   "metadata": {
    "ExecuteTime": {
     "end_time": "2021-05-23T18:42:57.643787Z",
     "start_time": "2021-05-23T18:42:57.634672Z"
    }
   },
   "outputs": [],
   "source": [
    "def get_discnt_reward(rewards, values, next_values, done):\n",
    "    g = 0\n",
    "    lmbda = 0.95\n",
    "    gamma = 0.99\n",
    "    returns = []\n",
    "    \n",
    "    for i in reversed(range(len(rewards))):\n",
    "        delta = rewards[i] + gamma * next_values[i] * dones[i] - values[i]\n",
    "        g = delta + gamma * lmbda * dones[i] * g\n",
    "        returns.append(g + values[i])\n",
    "    returns.reverse()\n",
    "    return returns"
   ]
  },
  {
   "cell_type": "code",
   "execution_count": 13,
   "id": "7c6a19bc",
   "metadata": {
    "ExecuteTime": {
     "end_time": "2021-05-23T18:42:59.694111Z",
     "start_time": "2021-05-23T18:42:59.685226Z"
    }
   },
   "outputs": [],
   "source": [
    "def get_advantage(returns, values):\n",
    "    advantage = np.array(returns) - values\n",
    "    advantage = (advantage - np.mean(advantage)) / (np.std(advantage))\n",
    "    return advantage"
   ]
  },
  {
   "cell_type": "code",
   "execution_count": 15,
   "id": "23568af8",
   "metadata": {
    "ExecuteTime": {
     "end_time": "2021-05-23T18:44:37.467839Z",
     "start_time": "2021-05-23T18:44:37.459779Z"
    }
   },
   "outputs": [],
   "source": [
    "st = time.time()\n",
    "    \n",
    "#if e%2 == 1: boxes_multi,gt_pos = boxes_multi1.copy(), gt_pos1.copy()\n",
    "boxes_multi,gt_pos = boxes_multi2.copy(), gt_pos2.copy()\n",
    "\n",
    "env.reset()\n",
    "done = False\n",
    "step = 0\n",
    "\n",
    "history, h_load, h_remain_size, h_load_size = [],[],[],[]\n",
    "values, prob_l, dones, next_values = [],[],[],[]\n",
    "used_boxes, pred_pos = [],[]\n",
    "\n",
    "boxes_all = np.array(boxes_multi)[0].copy()\n",
    "r_boxes = boxes_all.copy()"
   ]
  },
  {
   "cell_type": "code",
   "execution_count": 16,
   "id": "e88835c0",
   "metadata": {
    "ExecuteTime": {
     "end_time": "2021-05-23T18:44:45.675743Z",
     "start_time": "2021-05-23T18:44:45.648873Z"
    }
   },
   "outputs": [],
   "source": [
    "state = env.container_s.copy()\n",
    "state_h = env.container_h.copy()\n",
    "step += 1\n",
    "\n",
    "k = min(K, len(r_boxes))\n",
    "selected = cbn_select_boxes(r_boxes[:n_candidates], k)\n",
    "s_order = get_selected_order(selected, k)\n",
    "\n",
    "num_loaded_c, loading_size_c, loading_pos_c, next_state_c, next_h_c, loaded_mh_c = get_selected_location(s_order, state, state_h, env.height)\n",
    "in_state, in_r_boxes, in_loading = raw2input(state_h, len(num_loaded_c), r_boxes, num_max_remain, K, loading_size_c, env.height)"
   ]
  },
  {
   "cell_type": "code",
   "execution_count": 17,
   "id": "c6229bcc",
   "metadata": {
    "ExecuteTime": {
     "end_time": "2021-05-23T18:44:51.961731Z",
     "start_time": "2021-05-23T18:44:51.944368Z"
    }
   },
   "outputs": [
    {
     "data": {
      "text/plain": [
       "[4, 4, 4, 4]"
      ]
     },
     "execution_count": 17,
     "metadata": {},
     "output_type": "execute_result"
    }
   ],
   "source": [
    "num_loaded_c"
   ]
  },
  {
   "cell_type": "code",
   "execution_count": 18,
   "id": "02447e5f",
   "metadata": {
    "ExecuteTime": {
     "end_time": "2021-05-23T18:45:03.496585Z",
     "start_time": "2021-05-23T18:45:02.763670Z"
    }
   },
   "outputs": [],
   "source": [
    "prob, action_idx = agent.get_action(in_state, np.array(loaded_mh_c), in_r_boxes, in_loading)\n",
    "value = agent.get_value(in_state, loaded_mh_c, in_r_boxes, in_loading)\n",
    "prob_l.append(prob)\n",
    "values.append(value)"
   ]
  },
  {
   "cell_type": "code",
   "execution_count": 19,
   "id": "9fa21755",
   "metadata": {
    "ExecuteTime": {
     "end_time": "2021-05-23T18:45:05.388679Z",
     "start_time": "2021-05-23T18:45:05.380700Z"
    }
   },
   "outputs": [
    {
     "data": {
      "text/plain": [
       "0"
      ]
     },
     "execution_count": 19,
     "metadata": {},
     "output_type": "execute_result"
    }
   ],
   "source": [
    "value"
   ]
  },
  {
   "cell_type": "code",
   "execution_count": 20,
   "id": "f75c6aad",
   "metadata": {
    "ExecuteTime": {
     "end_time": "2021-05-23T18:45:06.218821Z",
     "start_time": "2021-05-23T18:45:06.198874Z"
    }
   },
   "outputs": [
    {
     "data": {
      "text/plain": [
       "<tf.Tensor: shape=(1,), dtype=float32, numpy=array([-0.01892245], dtype=float32)>"
      ]
     },
     "execution_count": 20,
     "metadata": {},
     "output_type": "execute_result"
    }
   ],
   "source": [
    "prob"
   ]
  },
  {
   "cell_type": "code",
   "execution_count": 21,
   "id": "073387e8",
   "metadata": {
    "ExecuteTime": {
     "end_time": "2021-05-23T18:45:07.976884Z",
     "start_time": "2021-05-23T18:45:07.966912Z"
    }
   },
   "outputs": [
    {
     "data": {
      "text/plain": [
       "0"
      ]
     },
     "execution_count": 21,
     "metadata": {},
     "output_type": "execute_result"
    }
   ],
   "source": [
    "action_idx"
   ]
  },
  {
   "cell_type": "code",
   "execution_count": null,
   "id": "c68dacd0",
   "metadata": {},
   "outputs": [],
   "source": []
  }
 ],
 "metadata": {
  "kernelspec": {
   "display_name": "RL",
   "language": "python",
   "name": "rl"
  },
  "language_info": {
   "codemirror_mode": {
    "name": "ipython",
    "version": 3
   },
   "file_extension": ".py",
   "mimetype": "text/x-python",
   "name": "python",
   "nbconvert_exporter": "python",
   "pygments_lexer": "ipython3",
   "version": "3.7.10"
  }
 },
 "nbformat": 4,
 "nbformat_minor": 5
}
