{
 "cells": [
  {
   "cell_type": "code",
   "execution_count": 1,
   "metadata": {},
   "outputs": [],
   "source": [
    "import numpy as np\n",
    "import matplotlib.pyplot as plt\n",
    "from utils_test1 import generation_2dbox\n",
    "from utils_test1 import generation_3dbox"
   ]
  },
  {
   "cell_type": "code",
   "execution_count": 2,
   "metadata": {},
   "outputs": [
    {
     "name": "stdout",
     "output_type": "stream",
     "text": [
      "400\n"
     ]
    },
    {
     "data": {
      "text/plain": [
       "<matplotlib.image.AxesImage at 0x1e80e87c908>"
      ]
     },
     "execution_count": 2,
     "metadata": {},
     "output_type": "execute_result"
    },
    {
     "data": {
      "image/png": "[encoded data removed]",
      "text/plain": [
       "<Figure size 432x288 with 1 Axes>"
      ]
     },
     "metadata": {
      "needs_background": "light"
     },
     "output_type": "display_data"
    }
   ],
   "source": [
    "#generated 2d box\n",
    "tmp,gt_tmp=generation_2dbox(N_epi=1,c_l=20,c_b=20)\n",
    "tmp=tmp[0]\n",
    "print(np.sum(np.array(tmp)[:,0]*np.array(tmp)[:,1]))#20*20\n",
    "gt_tmp=gt_tmp[0]\n",
    "gt_disp=np.zeros((20,20))\n",
    "for i in range(len(tmp)):\n",
    "    gt_disp[gt_tmp[i][0]:gt_tmp[i][0]+tmp[i][0],gt_tmp[i][1]:gt_tmp[i][1]+tmp[i][1]]=i\n",
    "plt.imshow(gt_disp,cmap='tab20')"
   ]
  },
  {
   "cell_type": "code",
   "execution_count": 3,
   "metadata": {},
   "outputs": [
    {
     "name": "stdout",
     "output_type": "stream",
     "text": [
      "8000.0\n"
     ]
    }
   ],
   "source": [
    "#generated 3d box\n",
    "tmp,gt_tmp=generation_3dbox(N_epi=1,c_l=20,c_b=20,c_h=20)\n",
    "tmp=tmp[0]\n",
    "print(np.sum(np.array(tmp)[:,0]*np.array(tmp)[:,1]*np.array(tmp)[:,2]))#20*20*20\n",
    "gt_tmp=gt_tmp[0]\n",
    "gt_disp=np.zeros((20,20,20))\n",
    "for i in range(len(tmp)):\n",
    "    gt_disp[gt_tmp[i][0]:gt_tmp[i][0]+tmp[i][0],gt_tmp[i][1]:gt_tmp[i][1]+tmp[i][1]]=i"
   ]
  }
 ],
 "metadata": {
  "kernelspec": {
   "display_name": "Python 3",
   "language": "python",
   "name": "python3"
  },
  "language_info": {
   "codemirror_mode": {
    "name": "ipython",
    "version": 3
   },
   "file_extension": ".py",
   "mimetype": "text/x-python",
   "name": "python",
   "nbconvert_exporter": "python",
   "pygments_lexer": "ipython3",
   "version": "3.6.12"
  }
 },
 "nbformat": 4,
 "nbformat_minor": 4
}
