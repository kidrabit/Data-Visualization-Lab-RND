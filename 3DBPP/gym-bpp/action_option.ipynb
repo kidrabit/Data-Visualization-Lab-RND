{
 "cells": [
  {
   "cell_type": "code",
   "execution_count": 1,
   "metadata": {
    "scrolled": true
   },
   "outputs": [
    {
     "name": "stdout",
     "output_type": "stream",
     "text": [
      "16\n",
      "32\n",
      "48\n"
     ]
    },
    {
     "data": {
      "text/plain": [
       "12"
      ]
     },
     "execution_count": 1,
     "metadata": {},
     "output_type": "execute_result"
    }
   ],
   "source": [
    "import numpy as np\n",
    "import matplotlib.pyplot as plt\n",
    "from utils import whole_upleft,next_state, box_cornel, feasible_location\n",
    "\n",
    "'''#initialize\n",
    "container=np.zeros((20,20))\n",
    "#inputdata=generationg_input(N_epi=1)[0]\n",
    "\n",
    "box_LB=[[10,10],[7,3],[1,2]]\n",
    "c_ct=container.copy()\n",
    "f_upleft=[]#corner_list=[]\n",
    "f_upleft += whole_upleft(*box_cornel([0,0],20,20),1,2)#corner_list+=cornel([0,0],10,10)\n",
    "\n",
    "#box 1\n",
    "c_ct[0:10,0:10]=1\n",
    "f_upleft += whole_upleft(*box_cornel([0,0],10,10),1,2)#corner_list+=cornel([0,0],10,10)\n",
    "#box 2\n",
    "c_ct[-7:20,-3:20]=1\n",
    "f_upleft += whole_upleft(*box_cornel([13,17],7,3),1,2)#corner_list+=cornel([13,17],7,3)\n",
    "\n",
    "#remove - outside the container\n",
    "f_upleft = np.array(f_upleft)\n",
    "f_upleft=f_upleft[((f_upleft[:,0]>=0) & (f_upleft[:,1]>=0) & (f_upleft[:,0]<20) & (f_upleft[:,1]<20))]\n",
    "#remove - duplicated\n",
    "new_array = [tuple(row) for row in f_upleft]\n",
    "f_upleft = np.unique(new_array, axis=0)\n",
    "#remove - height>=1\n",
    "idx=[]\n",
    "for i,j in  enumerate(f_upleft):\n",
    "    # print(np.sum(c_ct[i:i+1,j:j+2]))\n",
    "    if np.sum(c_ct[j[0]:j[0]+1,j[1]:j[1]+2]) >=1: idx.append(i)#f_upleft.remove([i,j])#del f_upleft[i]\n",
    "f_upleft=np.delete(f_upleft,idx,axis=0)\n",
    "#remove - 상이한 높이(보류)\n",
    "\n",
    "len(f_upleft) #12'''\n",
    "\n",
    "#initialize\n",
    "container=np.zeros((20,20))\n",
    "c_ct=container.copy()\n",
    "w_upleft = whole_upleft(*box_cornel([0,0],20,20),1,2)#corner_list+=cornel([0,0],10,10)\n",
    "print(len(w_upleft))\n",
    "\n",
    "#box 1\n",
    "c_ct=next_state(c_ct,[0,0],10,10)\n",
    "w_upleft += whole_upleft(*box_cornel([0,0],10,10),1,2)#corner_list+=cornel([0,0],10,10)\n",
    "print(len(w_upleft))\n",
    "#box 2\n",
    "c_ct=next_state(c_ct,[13,17],7,3)\n",
    "w_upleft += whole_upleft(*box_cornel([13,17],7,3),1,2)#corner_list+=cornel([13,17],7,3)\n",
    "print(len(w_upleft))\n",
    "\n",
    "#new box\n",
    "f_upleft = feasible_location(c_ct,w_upleft)\n",
    "len(f_upleft) #12"
   ]
  },
  {
   "cell_type": "code",
   "execution_count": 2,
   "metadata": {},
   "outputs": [
    {
     "data": {
      "text/plain": [
       "array([[ 0, 10],\n",
       "       [ 0, 18],\n",
       "       [ 9, 10],\n",
       "       [10,  0],\n",
       "       [10,  8],\n",
       "       [10, 10],\n",
       "       [12, 15],\n",
       "       [12, 17],\n",
       "       [12, 18],\n",
       "       [13, 15],\n",
       "       [19,  0],\n",
       "       [19, 15]])"
      ]
     },
     "execution_count": 2,
     "metadata": {},
     "output_type": "execute_result"
    }
   ],
   "source": [
    "f_upleft"
   ]
  },
  {
   "cell_type": "code",
   "execution_count": 3,
   "metadata": {},
   "outputs": [],
   "source": [
    "def action_options_list(f_upleft_list):\n",
    "    action_options=[]\n",
    "    for i,j in f_upleft_list:\n",
    "        action_option=np.zeros((20,20))\n",
    "        action_option[i,j]=1\n",
    "        action_options.append(action_option.flatten())\n",
    "    return action_options\n",
    "\n",
    "a_op=action_options_list(f_upleft)"
   ]
  },
  {
   "cell_type": "code",
   "execution_count": 4,
   "metadata": {},
   "outputs": [
    {
     "data": {
      "text/plain": [
       "(400,)"
      ]
     },
     "execution_count": 4,
     "metadata": {},
     "output_type": "execute_result"
    }
   ],
   "source": [
    "a_op[0].shape"
   ]
  },
  {
   "cell_type": "code",
   "execution_count": 33,
   "metadata": {
    "scrolled": true
   },
   "outputs": [
    {
     "data": {
      "image/png": "[encoded data removed]",
      "text/plain": [
       "<Figure size 432x288 with 1 Axes>"
      ]
     },
     "metadata": {
      "needs_background": "light"
     },
     "output_type": "display_data"
    }
   ],
   "source": [
    "tmp=c_ct.copy()\n",
    "for i in f_upleft: tmp[(i[0],i[1])] = 0.5\n",
    "plt.imshow(tmp)\n",
    "plt.grid()"
   ]
  },
  {
   "cell_type": "code",
   "execution_count": 41,
   "metadata": {},
   "outputs": [
    {
     "data": {
      "image/png": "[encoded data removed]",
      "text/plain": [
       "<Figure size 432x288 with 1 Axes>"
      ]
     },
     "metadata": {
      "needs_background": "light"
     },
     "output_type": "display_data"
    }
   ],
   "source": [
    "tmp=c_ct.copy()\n",
    "for i in f_upleft: tmp[(i[0],i[1])] = 0.5\n",
    "plt.imshow(tmp)\n",
    "plt.grid()"
   ]
  },
  {
   "cell_type": "code",
   "execution_count": 5,
   "metadata": {},
   "outputs": [
    {
     "data": {
      "image/png": "[encoded data removed]",
      "text/plain": [
       "<Figure size 432x288 with 1 Axes>"
      ]
     },
     "metadata": {
      "needs_background": "light"
     },
     "output_type": "display_data"
    }
   ],
   "source": [
    "tmp=c_ct.copy()\n",
    "for i in f_upleft: tmp[(i[0],i[1])] = 0.5\n",
    "plt.imshow(tmp)\n",
    "plt.grid()"
   ]
  },
  {
   "cell_type": "code",
   "execution_count": 6,
   "metadata": {},
   "outputs": [
    {
     "data": {
      "image/png": "[encoded data removed]",
      "text/plain": [
       "<Figure size 1080x432 with 12 Axes>"
      ]
     },
     "metadata": {},
     "output_type": "display_data"
    }
   ],
   "source": [
    "fig, axs = plt.subplots(2,6, figsize=(15, 6), facecolor='w', edgecolor='k')\n",
    "fig.subplots_adjust(hspace = .5, wspace=.001)\n",
    "axs = axs.ravel()\n",
    "\n",
    "# for i in range(10):\n",
    "#     axs[i].contourf(np.random.rand(10,10),5,cmap=plt.cm.Oranges)\n",
    "#     axs[i].set_title(str(250+i))\n",
    "i=0\n",
    "for r,c in f_upleft:\n",
    "    tmp=c_ct.copy()\n",
    "    tmp[r:r+1,c:c+2] = 1\n",
    "    axs[i].imshow(tmp);i+=1\n",
    "    #fig.add_subplot(()).imshow(tmp)\n",
    "    #fig.grid()"
   ]
  }
 ],
 "metadata": {
  "kernelspec": {
   "display_name": "Python 3",
   "language": "python",
   "name": "python3"
  },
  "language_info": {
   "codemirror_mode": {
    "name": "ipython",
    "version": 3
   },
   "file_extension": ".py",
   "mimetype": "text/x-python",
   "name": "python",
   "nbconvert_exporter": "python",
   "pygments_lexer": "ipython3",
   "version": "3.6.12"
  }
 },
 "nbformat": 4,
 "nbformat_minor": 4
}
