{
 "cells": [
  {
   "cell_type": "code",
   "execution_count": 1,
   "metadata": {},
   "outputs": [],
   "source": [
    "import numpy as np\n",
    "import random\n",
    "import math\n",
    "import operator as op\n",
    "from functools import reduce\n",
    "import itertools\n",
    "import time\n",
    "#list(itertools.combinations(list(range(10)),2))\n",
    "def ncr(n, r):\n",
    "    r = min(r, n-r)\n",
    "    numer = reduce(op.mul, range(n, n-r, -1), 1)\n",
    "    denom = reduce(op.mul, range(1, r+1), 1)\n",
    "    return numer / denom\n",
    "\n",
    "def cable_area_select(n_cable,n_case,area_list):\n",
    "    \"\"\"\n",
    "    n_cable: # of selected cables\n",
    "    n_case: # of cases\n",
    "    area_list: area(%) list ex)[0.0,0.5,1.0] meaning 0% 50% 100%\n",
    "    \"\"\"\n",
    "    cable_idx=list(range(40))#cable_idx=list(range(1,41))\n",
    "    #getting combination idx 40_C_n_cable\n",
    "    #comb=list(itertools.combinations(cable_idx,n_cable))#cases of selecting cable => memory error\n",
    "    #no combi\n",
    "    area=np.ones((n_case,40))\n",
    "    if n_cable!=40:\n",
    "        #selected_case=random.sample(list(range(len(comb))), n_case)#select combination idx w/o replacement => memory error\n",
    "        #selected_cable= [list(comb[i]) for i in selected_case]#select cable => memory error\n",
    "        selected_cable=[]\n",
    "        for i in range(n_case):\n",
    "            combi=random.sample(cable_idx, n_cable)\n",
    "            combi.sort()\n",
    "            while(combi in selected_cable):\n",
    "                combi=random.sample(cable_idx, n_cable)\n",
    "                combi.sort()\n",
    "            selected_cable.append(combi)\n",
    "            area[i,combi]=random.choices(area_list, k=n_cable)\n",
    "        area=area.tolist()\n",
    "    else:#exist combi\n",
    "        #selected_cable=[cable_idx]*n_case\n",
    "        area=[random.choices(area_list, k=n_cable) for i in range(n_case)]\n",
    "    #selected_area=[random.choices(area_list, k=n_cable) for i in range(n_case)]#select area: sampling with replacement\n",
    "    #selected_case=[[selected_cable[i],selected_area[i]] for i in range(n_case)]\n",
    "    return area\n",
    "#case1=cable_select(n_cable=2,n_case=50,area_list=(np.arange(90)/100).tolist());print(case1) #test code\n",
    "\n",
    "def area_select(case_list,area_listz_f,area_list_r):\n",
    "    n_cable=len(case_list[0]);n_case=len(case_list)\n",
    "    '''\n",
    "    c1=[[case_list[i],[area_listz_f[0]]*n_cable] for i in range(n_case)]\n",
    "    c2=[[case_list[i],[area_listz_f[1]]*n_cable] for i in range(n_case)]\n",
    "    c3=[[case_list[i],[area_listz_f[2]]*n_cable] for i in range(n_case)]\n",
    "    selected_area=[random.choices(area_list_r, k=n_cable) for i in range(n_case)]\n",
    "    c4=[[case_list[i],selected_area[i]] for i in range(n_case)]\n",
    "    '''\n",
    "    c1=np.ones((n_case,40));c2=np.ones((n_case,40));c3=np.ones((n_case,40));c4=np.ones((n_case,40))\n",
    "    idx=np.array([(i,j) for i in range(len(case_list)) for j in case_list[i]])\n",
    "    c1[idx[:,0],idx[:,1]]=area_listz_f[0]\n",
    "    c2[idx[:,0],idx[:,1]]=area_listz_f[1]\n",
    "    c3[idx[:,0],idx[:,1]]=area_listz_f[2]\n",
    "    c4[idx[:,0],idx[:,1]]=random.choices(area_list_r, k=n_case*n_cable)\n",
    "    return c1.tolist(),c2.tolist(),c3.tolist(),c4.tolist()"
   ]
  },
  {
   "cell_type": "code",
   "execution_count": 2,
   "metadata": {},
   "outputs": [],
   "source": [
    "case={}\n",
    "#####random cable -random area\n",
    "#select 2 cable, area=0~90 -> 25 case\n",
    "case['case1']=cable_area_select(n_cable=2,n_case=25,area_list=(np.arange(90)/100).tolist())\n",
    "#select 20 cable, area=0~90 -> 25 case\n",
    "case['case2']=cable_area_select(n_cable=20,n_case=25,area_list=(np.arange(90)/100).tolist())\n",
    "#select 40 cable, area=0~90 -> 100case\n",
    "case['case3']=cable_area_select(n_cable=40,n_case=100,area_list=(np.arange(90)/100).tolist())\n",
    "\n",
    "#####fixed cable-fixed area & fixed cable -random area\n",
    "fixed_cable=[1,3,5,6,8,10,20,18,16,15,13,11,21,23,25,26,28,30,40,38,63,35,33,31]\n",
    "fixed_area=[0.2,0.4,0.6]\n",
    "\n",
    "## of fixed cables=3\n",
    "case4=[[1,3,5],[6,8,10],[20,18,16],[15,13,11],[21,23,25],[26,28,30],[40,38,36],[35,33,31]]\n",
    "case4=np.array(case4)-1\n",
    "case['case4_1'],case['case4_2'],case['case4_3'],case['case4_4']=area_select(case4,fixed_area,(np.arange(90)/100).tolist())\n",
    "\n",
    "## of fixed cables=6\n",
    "case5=[[1,3,5,6,8,10],[20,18,16,15,13,11],[21,23,25,26,28,30],[40,38,36,35,33,31],\n",
    "       [26,28,30,40,38,36],[6,8,10,20,18,16]]\n",
    "case5=np.array(case5)-1\n",
    "case['case5_1'],case['case5_2'],case['case5_3'],case['case5_4']=area_select(case5,fixed_area,(np.arange(90)/100).tolist())\n",
    "\n",
    "## of fixed cables=12\n",
    "case6=[[1,3,5,6,8,10,20,18,16,15,13,11],[21,23,25,26,28,30,40,38,36,35,33,31],\n",
    "       [1,3,5,6,8,10,40,38,36,35,33,31],[21,23,25,26,28,30,20,18,16,15,13,11],\n",
    "       [1,3,5,6,8,10,21,23,25,26,28,30],[20,18,16,15,13,11,40,38,36,35,33,31]]\n",
    "case6=np.array(case6)-1\n",
    "case['case6_1'],case['case6_2'],case['case6_3'],case['case6_4']=area_select(case6,fixed_area,(np.arange(90)/100).tolist())\n",
    "\n",
    "## of fixed cables=8\n",
    "case7=[[1,10,20,11,21,30,40,31],[5,6,16,15,25,26,36,35],[3,8,18,13,23,28,38,33],\n",
    "       [1,8,20,13,21,28,40,33],[1,10,20,11,21,30,40,31],[3,6,18,15,23,26,38,35],\n",
    "      [3,10,18,11,23,30,38,31],[5,8,16,13,25,28,36,33],[5,10,16,11,25,30,36,31]]\n",
    "case7=np.array(case7)-1\n",
    "case['case7_1'],case['case7_2'],case['case7_3'],case['case7_4']=area_select(case7,fixed_area,(np.arange(90)/100).tolist())"
   ]
  },
  {
   "cell_type": "code",
   "execution_count": 3,
   "metadata": {},
   "outputs": [],
   "source": [
    "# with open(\"data_rq0420/case1.txt\", \"w\") as output:\n",
    "#     output.write(str(case1))\n",
    "case_idx=list(case.keys())\n",
    "for idx in case_idx:\n",
    "    with open('data_rq0420/'+idx+'.txt', 'w') as f:\n",
    "        for item in case[idx]:\n",
    "            f.write(\"%s\\n\" % item)"
   ]
  },
  {
   "cell_type": "code",
   "execution_count": 4,
   "metadata": {
    "scrolled": true
   },
   "outputs": [
    {
     "name": "stdout",
     "output_type": "stream",
     "text": [
      
     ]
    }
   ],
   "source": [
    "case_idx=list(case.keys())\n",
    "for idx in case_idx:\n",
    "    print(len(case[idx]))"
   ]
  },
  {
   "cell_type": "code",
   "execution_count": null,
   "metadata": {},
   "outputs": [],
   "source": []
  }
 ],
 "metadata": {
  "kernelspec": {
   "display_name": "Python 3",
   "language": "python",
   "name": "python3"
  },
  "language_info": {
   "codemirror_mode": {
    "name": "ipython",
    "version": 3
   },
   "file_extension": ".py",
   "mimetype": "text/x-python",
   "name": "python",
   "nbconvert_exporter": "python",
   "pygments_lexer": "ipython3",
   "version": "3.6.9"
  }
 },
 "nbformat": 4,
 "nbformat_minor": 2
}
