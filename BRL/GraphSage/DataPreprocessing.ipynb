{
 "cells": [
  {
   "cell_type": "code",
   "execution_count": 1,
   "metadata": {
    "scrolled": true
   },
   "outputs": [
    {
     "name": "stderr",
     "output_type": "stream",
     "text": [
      "Using backend: pytorch\n"
     ]
    },
    {
     "name": "stdout",
     "output_type": "stream",
     "text": [
      "[6, 14, 20, 28, 36, 45, 53, 59, 67, 75, 81, 82, 88, 89, 94, 97, 98, 101, 104, 105] 20\n",
      "[0, 1, 2, 3, 4, 5, 7, 8, 9, 10, 11, 12, 13, 15, 16, 17, 18, 19, 21, 22, 23, 24, 25, 26, 27, 29, 30, 31, 32, 33, 34, 35, 37, 38, 39, 40, 41, 42, 43, 44, 46, 47, 48, 49, 50, 51, 52, 54, 55, 56, 57, 58, 60, 61, 62, 63, 64, 65, 66, 68, 69, 70, 71, 72, 73, 74, 76, 77, 78, 79, 80, 83, 84, 85, 86, 87, 90, 91, 92, 93, 95, 96, 99, 100, 102, 103] 86\n",
      "(26387, 106, 12) (26387, 40)\n"
     ]
    }
   ],
   "source": [
    "import numpy as np\n",
    "import pickle\n",
    "import math\n",
    "import os\n",
    "import matplotlib.pyplot as plt\n",
    "from utils_sage import get_cableidx\n",
    "import collections\n",
    "###################\n",
    "nth_case_list=np.arange(1,440+1)\n",
    "n_f1=6\n",
    "n_f2=7\n",
    "n_f=12\n",
    "n_node=106\n",
    "###################\n",
    "\n",
    "###cable data\n",
    "#a=[3463.605,3078.76,2693.915,2309.07,1924.225,1539.38,1154.535,769.69,384.845,0]\n",
    "a=[9,8,7,6,5,4,3,2,1,0]\n",
    "cable_list=[]#[[3848.45]*40] #440-idx,cable_no,[40] #k=0\n",
    "for e in range(1,41):\n",
    "    for j in a:\n",
    "        #k=k+1;print(k-1,e-1,j)#filename, elementidx, area-float\n",
    "        c=[10]*40#c=[3848.45]*40\n",
    "        c[e-1]=j\n",
    "        #cable_list.append([k-1,e-1,c])\n",
    "        cable_list.append(c)\n",
    "len(cable_list)\n",
    "###node ddata - included nodes\n",
    "node_cable= get_cableidx()#e.copy()\n",
    "in_cable=list(range(3,40,4))#[3,7,11,15,19,23,27,31,35,39]\n",
    "node_cable1=node_cable[:,1]-1\n",
    "node_cable2=node_cable[:,2]-1\n",
    "# out_cable=set(list(range(40)))- set(in_cable);out_cable=list(out_cable)\n",
    "# out_node=np.append(node_cable1[out_cable],node_cable2[out_cable]); out_node=list(set(out_node))\n",
    "# in_node=set(list(range(106)))-set(out_node);in_node=list(in_node)\n",
    "in_node=np.append(node_cable1[in_cable],node_cable2[in_cable]).tolist()\n",
    "in_node.sort()\n",
    "print(in_node,len(in_node))\n",
    "out_node=list(set(range(106))-set(in_node))\n",
    "print(out_node,len(out_node))\n",
    "#node ddata - node signal\n",
    "with open(\"data_sage/node_signal_list.pkl\", 'rb') as pickle_file:\n",
    "    _node_signal_list = pickle.load(pickle_file)\n",
    "    \n",
    "_node_signal_list=_node_signal_list[1:]#########classifcation\n",
    "\n",
    "#node data\n",
    "x_list=[]\n",
    "y_list=[]\n",
    "for i in range(len(_node_signal_list)):\n",
    "    node_signal=_node_signal_list[i]\n",
    "    cable=cable_list[i]\n",
    "    data = np.concatenate([node_signal], axis=-1)\n",
    "    x_list.append(data)\n",
    "    y_list.append([cable]*len(data))\n",
    "x=np.concatenate(x_list,axis=0)\n",
    "y=np.concatenate(y_list,axis=0)\n",
    "print(x.shape,y.shape)#(26387, 106, 12) (26387, 40)#(15418, 12, 106, 7) (15418, 12, 106, 7)*106),dtype='int8')\n",
    "\n",
    "########################################\n",
    "# time_step=4\n",
    "# x_offsets = np.sort(np.concatenate((np.arange(0, time_step, 1),)))\n",
    "# ########################################\n",
    "# x_list=[]\n",
    "# y_list=[]\n",
    "# for i in range(len(_node_signal_list)):\n",
    "#     node_signal=_node_signal_list[i]\n",
    "#     cable=cable_list[i]\n",
    "#     data = np.concatenate([node_signal], axis=-1)\n",
    "#     x_t=[]#(s,12,106,12)\n",
    "#     for t in range(0,len(data)-time_step+1):\n",
    "#         x_t.append(data[t + x_offsets, ...])\n",
    "#     #print(len(x_t),np.array(x_t).shape)\n",
    "#     x_t=np.array(x_t).reshape((-1,n_node*time_step,n_f))\n",
    "#     x_list.append(x_t)\n",
    "#     y_list.append([cable]*len(x_t))\n",
    "# x=np.concatenate(x_list,axis=0)\n",
    "# y=np.concatenate(y_list,axis=0)\n",
    "# print(x.shape,y.shape)#(22056, 1272, 12) (22056, 40)"
   ]
  },
  {
   "cell_type": "code",
   "execution_count": 2,
   "metadata": {
    "scrolled": true
   },
   "outputs": [
    {
     "name": "stdout",
     "output_type": "stream",
     "text": [
      "0 -1.743677 23.5342 -2.3115765e-08 0.9999999\n",
      "1 -48.85317 51.611217 -8.438093e-09 1.0000002\n",
      "2 -35.922775 42.27882 9.00136e-10 1.0\n",
      "3 -57.401787 30.076107 1.8471882e-08 1.0\n",
      "4 -77.90262 51.637733 3.6851022e-09 1.0000002\n",
      "5 -38.00022 110.11309 -2.7720097e-09 1.0\n",
      "6 -8.738964 5.914165 9.359232e-08 0.9999998\n",
      "7 -27.905714 27.91171 -6.991602e-08 0.99999976\n",
      "8 -5.412336 1.3196024 -3.0517338e-08 1.0000001\n",
      "9 -9.597588 9.592666 -8.9031635e-09 1.0\n",
      "10 -4.4488354 4.673789 1.0916195e-08 1.0000001\n",
      "11 -26.082317 26.082935 1.1347169e-09 0.9999999\n",
      "(26387, 106, 12)\n",
      "9.86547068632281 0.9528649553387615\n",
      "(26387, 106, 12) (26387, 40)\n",
      "(21109, 106, 12) (2638, 106, 12) (2640, 106, 12) (21109, 40) (2638, 40) (2640, 40)\n"
     ]
    }
   ],
   "source": [
    "########delete 86 nodes#######\n",
    "N=len(x)\n",
    "# x=np.concatenate([x,np.zeros((N,n_node,1))],axis=2)#add empty node feature\n",
    "# x[:,in_node,:]=1\n",
    "# n_f=x.shape[2]#13\n",
    "#############################\n",
    "\n",
    "#scale-features\n",
    "features=x.copy()\n",
    "for i in range(n_f):\n",
    "    #mini=np.min(features[...,i].flatten());maxi=np.max(features[...,i].flatten());print(mini,maxi)\n",
    "    #features[...,i]=(features[...,i]-mini)/(maxi-mini)\n",
    "    m=np.mean(features[...,i].flatten());std=np.std(features[...,i].flatten())\n",
    "    features[...,i]=(features[...,i]-m)/std\n",
    "    print(i,np.min(features[...,i]),np.max(features[...,i]),np.mean(features[...,i]),np.std(features[...,i]))\n",
    "print(features.shape)\n",
    "#scale-label\n",
    "print(np.mean(y.flatten()),np.std(y.flatten()))\n",
    "#label=(y-np.mean(y.flatten()))/np.std(y.flatten())\n",
    "label=y.copy()\n",
    "print(features.shape,label.shape)#(149, 106, 6) (149, 40) (185, 2) (185, 2)\n",
    "\n",
    "#train/val/test split\n",
    "indices = np.random.permutation(len(features))\n",
    "n_training=int(len(features)*0.8)\n",
    "n_val=int(len(features)*0.1)\n",
    "n_test=len(features)-n_training-n_val\n",
    "training_idx, val_idx,test_idx = indices[:n_training], indices[n_training:n_training+n_val], indices[-n_test:]\n",
    "f_training, f_val, f_test = features[training_idx],features[val_idx], features[test_idx]\n",
    "l_training, l_val, l_test = label[training_idx],label[val_idx], label[test_idx]\n",
    "print(f_training.shape,f_val.shape,f_test.shape,l_training.shape,l_val.shape,l_test.shape)#(21173, 106, 6) (2646, 106, 6) (2648, 106, 6) (21173, 40) (2646, 40) (2648, 40)"
   ]
  },
  {
   "cell_type": "code",
   "execution_count": 3,
   "metadata": {},
   "outputs": [
    {
     "name": "stdout",
     "output_type": "stream",
     "text": [
      "(2797022, 12)\n",
      "(2797022, 1)\n"
     ]
    }
   ],
   "source": [
    "#mask\n",
    "mask=np.array([False]*106);mask[node_cable1]=True\n",
    "mask_traini=np.array([mask]*n_training);mask_vali=np.array([mask]*n_val);mask_testi=np.array([mask]*n_test)#np.concatenate()\n",
    "mask_train=np.concatenate([mask_traini,np.zeros_like(mask_vali, dtype=bool),np.zeros_like(mask_testi, dtype=bool)],axis=0)\n",
    "mask_val=np.concatenate([np.zeros_like(mask_traini, dtype=bool),mask_vali,np.zeros_like(mask_testi, dtype=bool)],axis=0)\n",
    "mask_test=np.concatenate([np.zeros_like(mask_traini, dtype=bool),np.zeros_like(mask_vali, dtype=bool),mask_testi],axis=0)\n",
    "mask_train=mask_train.reshape((-1,1));mask_val=mask_val.reshape((-1,1));mask_test=mask_test.reshape((-1,1))\n",
    "mask_train.shape,mask_val.shape,mask_test.shape#((2797022, 1), (2797022, 1), (2797022, 1))\n",
    "\n",
    "#features\n",
    "features=np.concatenate([f_training.reshape((-1,n_f)),f_val.reshape((-1,n_f)),f_test.reshape((-1,n_f))])\n",
    "print(features.shape)#(2797022, 12)\n",
    "\n",
    "#labels\n",
    "'''\n",
    "#labeling for graph classification\n",
    "label_train=np.argmax((l_training!=l_training[0][0]),axis=1)\n",
    "label_val=np.argmax((l_val!=l_training[0][0]),axis=1)\n",
    "label_test=np.argmax((l_test!=l_training[0][0]),axis=1)\n",
    "labels=np.concatenate([label_train,label_val,label_test],axis=0)'''\n",
    "label_train=np.zeros((n_training,106));label_train[:,node_cable1]=l_training\n",
    "label_val=np.zeros((n_val,106));label_val[:,node_cable1]=l_val\n",
    "label_test=np.zeros((n_test,106));label_test[:,node_cable1]=l_test\n",
    "labels=np.concatenate([label_train.reshape((-1,1)),label_val.reshape((-1,1)),label_test.reshape((-1,1))],axis=0)\n",
    "print(labels.shape)#(2797022, 1)\n",
    "print(collections.Counter(labels.flatten()))"
   ]
  },
  {
   "cell_type": "code",
   "execution_count": 5,
   "metadata": {},
   "outputs": [],
   "source": [
    "data_path='data_sage/'\n",
    "\n",
    "np.savez_compressed(data_path+'features',features)\n",
    "np.savez_compressed(data_path+'labels',labels)\n",
    "np.savez_compressed(data_path+'mask_train',mask_train)\n",
    "np.savez_compressed(data_path+'mask_val',mask_val)\n",
    "np.savez_compressed(data_path+'mask_test',mask_test)"
   ]
  },
  {
   "cell_type": "code",
   "execution_count": 48,
   "metadata": {},
   "outputs": [
    {
     "data": {
      "text/plain": [
       "(476, 2)"
      ]
     },
     "execution_count": 48,
     "metadata": {},
     "output_type": "execute_result"
    }
   ],
   "source": [
    "import numpy as np\n",
    "import pickle\n",
    "import collections\n",
    "adj_mx=np.load('data_sage/sensor_graph/adj_wself.npy')\n",
    "edge_data=[[i,j] for i,j in zip(np.where(adj_mx==1)[0],np.where(adj_mx==1)[1])];edge_data=np.array(edge_data)\n",
    "edge_data.shape#(476, 2)\n",
    "#multiple graphy adj mx\n",
    "adj=edge_data.copy();N=26387\n",
    "adj=np.concatenate([adj]*N)#adj.shape(12560212, 2)\n",
    "n_edge=edge_data.shape[0]#476\n",
    "gidx=[[i]*n_edge for i in range(0,106*(N),106)]\n",
    "gidx=np.array(gidx)\n",
    "gidx=gidx.flatten()\n",
    "gidx=np.stack([gidx,gidx],axis=1)\n",
    "adj=adj+gidx#(12560212, 2)"
   ]
  },
  {
   "cell_type": "code",
   "execution_count": 64,
   "metadata": {},
   "outputs": [],
   "source": [
    "np.savez_compressed('data_sage/edge_data',adj)"
   ]
  }
 ],
 "metadata": {
  "kernelspec": {
   "display_name": "python3610",
   "language": "python",
   "name": "python36"
  },
  "language_info": {
   "codemirror_mode": {
    "name": "ipython",
    "version": 3
   },
   "file_extension": ".py",
   "mimetype": "text/x-python",
   "name": "python",
   "nbconvert_exporter": "python",
   "pygments_lexer": "ipython3",
   "version": "3.6.10"
  }
 },
 "nbformat": 4,
 "nbformat_minor": 4
}
