{
 "cells": [
  {
   "cell_type": "code",
   "execution_count": null,
   "metadata": {},
   "outputs": [],
   "source": [
    "import numpy as np\n",
    "import pandas as pd\n",
    "import pickle\n",
    "import math\n",
    "import os\n",
    "import matplotlib.pyplot as plt\n",
    "###################\n",
    "disp=[];nf=[]\n",
    "for i in range(12001):\n",
    "    df=pd.read_excel('data/raw_data/12000_displacements/CaseJuly'+str(i+1)+'.xlsx')\n",
    "    nf.append(df.iloc[0,:7].values.astype('float64'))\n",
    "    df=df.values[2:,list(range(3,3*7+1,3))]#df=df.values[1:,3]\n",
    "    disp.append(df)\n",
    "\n",
    "disp=np.stack(disp,axis=0)\n",
    "nf=np.stack(nf,axis=0)\n",
    "print(disp.shape,nf.shape)\n",
    "disp=disp.astype('float64')\n",
    "print(np.min(disp),np.max(disp),np.mean(disp),np.std(disp))\n",
    "print(np.min(nf),np.max(nf),np.mean(nf),np.std(nf))\n",
    "np.save('data/disp',disp)\n",
    "np.save('data/nf',nf)\n",
    "\n",
    "area=pd.read_excel('data/raw_data/12000_displacements/INPUT_12000.xlsx')\n",
    "area=area.values[:,1:];print(area.shape)#(12000, 120)\n",
    "np.save('data/data_cablearea',area)"
   ]
  },
  {
   "cell_type": "code",
   "execution_count": 8,
   "metadata": {},
   "outputs": [
    {
     "name": "stdout",
     "output_type": "stream",
     "text": [
      "0 358\n",
      "num node:  365\n",
      "num edge:  486.0\n"
     ]
    }
   ],
   "source": [
    "import numpy as np\n",
    "import pandas as pd\n",
    "import pickle\n",
    "import math\n",
    "import matplotlib.pyplot as plt\n",
    "\n",
    "node_loc=(pd.read_excel('data/raw_data/node_location.xlsx',header=None).values)\n",
    "element_cable=(pd.read_excel('data/raw_data/element_cable.xlsx').iloc[:,[1,2,4,5]]).values\n",
    "element_tower=(pd.read_excel('data/raw_data/element_tower.xlsx').iloc[:,[1,2,4,5]]).values\n",
    "element_girder=(pd.read_excel('data/raw_data/element_girder.xlsx').iloc[:,[1,2,4,5]]).values\n",
    "element_crossbeam=(pd.read_excel('data/raw_data/element_crossbeam.xlsx').iloc[:,[1,2,4,5]]).values\n",
    "element_virtual=(pd.read_excel('data/raw_data/element_virtual.xlsx',header=None)).values\n",
    "element_virtual=element_virtual-1\n",
    "elements=np.concatenate((element_cable,element_tower,element_girder,element_crossbeam),axis=0)\n",
    "elements[:,[0,1]]=elements[:,[0,1]]-1\n",
    "print(np.min(elements[:,[0,1]]),np.max(elements[:,[0,1]]))\n",
    "#adj_mx\n",
    "num_node=len(node_loc);print('num node: ',num_node)\n",
    "adj_mx = np.zeros((num_node, num_node), dtype=np.float32)\n",
    "adj_mx[elements[:,0],elements[:,1]]=1\n",
    "adj_mx[element_virtual[:,0],element_virtual[:,1]]=1\n",
    "adj_mx = np.maximum(adj_mx, adj_mx.transpose())#symmetric\n",
    "print('num edge: ',np.sum(adj_mx)/2)\n",
    "###node features\n",
    "#e_mx\n",
    "e_mx=np.zeros((num_node, num_node), dtype=np.float32)\n",
    "e_mx[elements[:,0],elements[:,1]]=elements[:,2]\n",
    "e_mx = np.maximum(e_mx, e_mx.transpose())#symmetric\n",
    "#area_mx\n",
    "area_mx=np.zeros((num_node, num_node), dtype=np.float32)\n",
    "area_mx[elements[:,0],elements[:,1]]=elements[:,3]\n",
    "area_mx = np.maximum(area_mx, area_mx.transpose())#symmetric\n",
    "#dist_mx\n",
    "dist_mx = np.zeros((num_node, num_node), dtype=np.float32)\n",
    "dist_mx[:] = np.inf\n",
    "for i in range(num_node):\n",
    "    for j in range(num_node):\n",
    "        x = float(node_loc[i][0]) - float(node_loc[j][0])\n",
    "        y = float(node_loc[i][1]) - float(node_loc[j][1])\n",
    "        z = float(node_loc[i][2]) - float(node_loc[j][2])\n",
    "        x = math.pow(x,2)\n",
    "        y = math.pow(y,2)\n",
    "        z = math.pow(z,2)\n",
    "        dis = math.sqrt(x+y+z)\n",
    "        dist_mx[i, j] = dis\n",
    "dist_mx=adj_mx*dist_mx\n",
    "dist_mx = np.maximum(dist_mx, dist_mx.transpose())#symmetric\n",
    "#virtual node\n",
    "virtual_mx=np.zeros((num_node, num_node), dtype=np.float32)\n",
    "virtual_mx[element_virtual[:,0],element_virtual[:,1]]=1\n",
    "virtual_mx = np.maximum(virtual_mx, virtual_mx.transpose())#symmetric\n",
    "\n",
    "# np.save('data/sensor_graph/adj_mx',adj_mx)\n",
    "# np.save('data/sensor_graph/e_mx',e_mx)\n",
    "# np.save('data/sensor_graph/area_mx',area_mx)\n",
    "# np.save('data/sensor_graph/dist_mx',dist_mx)\n",
    "# np.save('data/sensor_graph/virtual_mx',virtual_mx)"
   ]
  }
 ],
 "metadata": {
  "kernelspec": {
   "display_name": "Python 3",
   "language": "python",
   "name": "python3"
  },
  "language_info": {
   "codemirror_mode": {
    "name": "ipython",
    "version": 3
   },
   "file_extension": ".py",
   "mimetype": "text/x-python",
   "name": "python",
   "nbconvert_exporter": "python",
   "pygments_lexer": "ipython3",
   "version": "3.7.4"
  }
 },
 "nbformat": 4,
 "nbformat_minor": 2
}
