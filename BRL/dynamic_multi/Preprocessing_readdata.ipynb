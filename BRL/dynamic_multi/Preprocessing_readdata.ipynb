{
 "cells": [
  {
   "cell_type": "code",
   "execution_count": 1,
   "metadata": {},
   "outputs": [
    {
     "name": "stdout",
     "output_type": "stream",
     "text": [
      "(12000, 120)\n",
      "(121, 120)\n"
     ]
    }
   ],
   "source": [
    "import numpy as np\n",
    "import pandas as pd\n",
    "import pickle\n",
    "import math\n",
    "import os\n",
    "import matplotlib.pyplot as plt\n",
    "###################\n",
    "#disp & nf data\n",
    "disp=[];nf=[]\n",
    "for i in range(12000):\n",
    "    df=pd.read_excel('data/raw_data/12000cases/CaseJuly'+str(i+1)+'.xlsx')\n",
    "    nf.append(df.iloc[0,:7].values.astype('float64'))\n",
    "    df=df.values[2:,list(range(3,3*7+1,3))]#df=df.values[1:,3]\n",
    "    disp.append(df)\n",
    "\n",
    "for i in range(121):\n",
    "    df=pd.read_excel('data/raw_data/121cases_99_99/Case-08-20.'+str(i)+'.xlsx')\n",
    "    nf.append(df.iloc[0,:7].values.astype('float64'))\n",
    "    df=df.values[2:,list(range(3,3*7+1,3))]#df=df.values[1:,3]\n",
    "    disp.append(df)\n",
    "    \n",
    "disp=np.stack(disp,axis=0)\n",
    "nf=np.stack(nf,axis=0)\n",
    "print(disp.shape,nf.shape)\n",
    "disp=disp.astype('float64')\n",
    "print(np.min(disp),np.max(disp),np.mean(disp),np.std(disp))\n",
    "print(np.min(nf),np.max(nf),np.mean(nf),np.std(nf))\n",
    "np.save('data/disp',disp)\n",
    "np.save('data/nf',nf)\n",
    "\n",
    "#area data\n",
    "area=pd.read_excel('data/raw_data/12000cases/INPUT_12000.xlsx')\n",
    "area=area.values[:,1:];print(area.shape)#(12000, 120)\n",
    "\n",
    "area2=pd.read_excel('data/raw_data/121cases_99_99/Case/INPUT_120.xlsx')\n",
    "area2=area2.values[:,1:];print(area2.shape)\n",
    "\n",
    "area=np.concatenate((area,area2),axis=0)\n",
    "np.save('data/data_cablearea',area)"
   ]
  },
  {
   "cell_type": "code",
   "execution_count": 1,
   "metadata": {},
   "outputs": [
    {
     "name": "stdout",
     "output_type": "stream",
     "text": [
      "multidamage_1\n",
      "multidamage_2\n",
      "multidamage_3\n",
      "multidamage_4\n",
      "(55000, 365, 7) (55000, 7)\n",
      "-1.0 1.0 -0.03725372321987086 0.3643339274707541\n",
      "0.2825976374837506 1.590558445070064 1.0023826613664841 0.4263608059685357\n"
     ]
    }
   ],
   "source": [
    "import numpy as np\n",
    "import pandas as pd\n",
    "import pickle\n",
    "import math\n",
    "import os\n",
    "import matplotlib.pyplot as plt\n",
    "###################\n",
    "disp=[];nf=[]\n",
    "f_names=['multidamage_1','multidamage_2','multidamage_3','multidamage_4']\n",
    "n_files=[range(20000),range(20000,4000),range(40000,60000),range(60000,75000)]\n",
    "for i,f in enumerate(f_names):\n",
    "    print(f,len(disp))\n",
    "    for j in n_files[i]:\n",
    "        df=pd.read_excel('data/raw_data/'+f+'/Mul'+str(j+1)+'.xlsx')\n",
    "        nf.append(df.iloc[0,:7].values.astype('float64'))\n",
    "        df=df.values[2:,list(range(3,3*7+1,3))]#df=df.values[1:,3]\n",
    "        disp.append(df)\n",
    "    \n",
    "disp=np.stack(disp,axis=0)\n",
    "nf=np.stack(nf,axis=0)\n",
    "print(disp.shape,nf.shape)\n",
    "disp=disp.astype('float64')\n",
    "print(np.min(disp),np.max(disp),np.mean(disp),np.std(disp))\n",
    "print(np.min(nf),np.max(nf),np.mean(nf),np.std(nf))\n",
    "np.save('data/disp_multi',disp)\n",
    "np.save('data/nf_multi',nf)\n",
    "\n",
    "area=pd.read_excel('data/raw_data/multidamage_1/CASES/INPUT.xlsx')\n",
    "area=area.values[1:,1:];print(area.shape)#exclude no damage\n",
    "np.save('data/data_cablearea_multi',area)"
   ]
  },
  {
   "cell_type": "code",
   "execution_count": 1,
   "metadata": {
    "scrolled": true
   },
   "outputs": [
    {
     "name": "stdout",
     "output_type": "stream",
     "text": [
      "0 358\n",
      "num node:  365\n",
      "num edge:  486.0\n",
      "120.0 48.0 192.0 120.0\n"
     ]
    }
   ],
   "source": [
    "import numpy as np\n",
    "import pandas as pd\n",
    "import pickle\n",
    "import math\n",
    "import matplotlib.pyplot as plt\n",
    "\n",
    "node_loc=(pd.read_excel('data/raw_data/node_location.xlsx',header=None).values)\n",
    "element_cable=(pd.read_excel('data/raw_data/element_cable.xlsx').iloc[:,[1,2,4,5]]).values\n",
    "element_tower=(pd.read_excel('data/raw_data/element_tower.xlsx').iloc[:,[1,2,4,5]]).values\n",
    "element_girder=(pd.read_excel('data/raw_data/element_girder.xlsx').iloc[:,[1,2,4,5]]).values\n",
    "element_crossbeam=(pd.read_excel('data/raw_data/element_crossbeam.xlsx').iloc[:,[1,2,4,5]]).values\n",
    "element_virtual=(pd.read_excel('data/raw_data/element_virtual.xlsx',header=None)).values\n",
    "element_virtual=element_virtual-1\n",
    "elements=np.concatenate((element_cable,element_tower,element_girder,element_crossbeam),axis=0)\n",
    "elements[:,[0,1]]=elements[:,[0,1]]-1\n",
    "print(np.min(elements[:,[0,1]]),np.max(elements[:,[0,1]]))\n",
    "#adj_mx\n",
    "num_node=len(node_loc);print('num node: ',num_node)\n",
    "adj_mx = np.zeros((num_node, num_node), dtype=np.float32)\n",
    "adj_mx[elements[:,0],elements[:,1]]=1\n",
    "adj_mx[element_virtual[:,0],element_virtual[:,1]]=1\n",
    "#adj_mx = np.maximum(adj_mx, adj_mx.transpose())#symmetric\n",
    "print('num edge: ',np.sum(adj_mx))\n",
    "\n",
    "#dist_mx\n",
    "dist_mx = np.zeros((num_node, num_node), dtype=np.float32)\n",
    "dist_mx[:] = np.inf\n",
    "for i in range(num_node):\n",
    "    for j in range(num_node):\n",
    "        x = float(node_loc[i][0]) - float(node_loc[j][0])\n",
    "        y = float(node_loc[i][1]) - float(node_loc[j][1])\n",
    "        z = float(node_loc[i][2]) - float(node_loc[j][2])\n",
    "        x = math.pow(x,2)\n",
    "        y = math.pow(y,2)\n",
    "        z = math.pow(z,2)\n",
    "        dis = math.sqrt(x+y+z)\n",
    "        dist_mx[i, j] = dis\n",
    "dist_mx=adj_mx*dist_mx\n",
    "dist_mx = np.maximum(dist_mx, dist_mx.transpose())#symmetric\n",
    "#virtual node\n",
    "virtual_mx=np.zeros((num_node, num_node), dtype=np.float32)\n",
    "virtual_mx[element_virtual[:,0],element_virtual[:,1]]=1\n",
    "virtual_mx = np.maximum(virtual_mx, virtual_mx.transpose())#symmetric\n",
    "\n",
    "type_c_mx=np.zeros((num_node, num_node), dtype=np.float32)\n",
    "type_t_mx=type_c_mx.copy();type_g_mx=type_c_mx.copy();type_cb_mx=type_c_mx.copy()\n",
    "type_c_mx[element_cable[:,0]-1,element_cable[:,1]-1]=1\n",
    "type_t_mx[element_tower[:,0]-1,element_tower[:,1]-1]=1\n",
    "type_g_mx[element_girder[:,0]-1,element_girder[:,1]-1]=1\n",
    "type_cb_mx[element_crossbeam[:,0]-1,element_crossbeam[:,1]-1]=1\n",
    "print(np.sum(type_c_mx),np.sum(type_t_mx),np.sum(type_g_mx),np.sum(type_cb_mx))\n",
    "\n",
    "np.save('data/sensor_graph/adj_mx',adj_mx)\n",
    "np.save('data/sensor_graph/dist_mx',dist_mx)\n",
    "np.save('data/sensor_graph/virtual_mx',virtual_mx)\n",
    "np.save('data/sensor_graph/type_c_mx',type_c_mx)\n",
    "np.save('data/sensor_graph/type_t_mx',type_t_mx)\n",
    "np.save('data/sensor_graph/type_g_mx',type_g_mx)\n",
    "np.save('data/sensor_graph/type_cb_mx',type_cb_mx)"
   ]
  }
 ],
 "metadata": {
  "kernelspec": {
   "display_name": "Python 3",
   "language": "python",
   "name": "python3"
  },
  "language_info": {
   "codemirror_mode": {
    "name": "ipython",
    "version": 3
   },
   "file_extension": ".py",
   "mimetype": "text/x-python",
   "name": "python",
   "nbconvert_exporter": "python",
   "pygments_lexer": "ipython3",
   "version": "3.7.4"
  }
 },
 "nbformat": 4,
 "nbformat_minor": 2
}
