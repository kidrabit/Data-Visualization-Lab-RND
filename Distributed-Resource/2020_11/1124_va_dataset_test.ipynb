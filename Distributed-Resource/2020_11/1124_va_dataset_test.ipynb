{
 "cells": [
  {
   "cell_type": "markdown",
   "metadata": {},
   "source": [
    "# VA input data (.csv) 생성"
   ]
  },
  {
   "cell_type": "code",
   "execution_count": 1,
   "metadata": {},
   "outputs": [],
   "source": [
    "import os\n",
    "import fnmatch\n",
    "from pandas import read_csv\n",
    "import numpy as np\n",
    "import pandas as pd\n",
    "from sklearn.preprocessing import MinMaxScaler\n",
    "\n",
    "\n",
    "data_dir   = '../Data' #'C:/Users/VISLAB_PHY/Desktop/Workspace/Data'\n",
    "date_start = '10190901'\n",
    "date_end   = '30191201'\n",
    "err_date_list =   [ '20190912',\n",
    "                    '20191122',\n",
    "                    '20191130',\n",
    "                    '20191217',\n",
    "                    '20200501',\n",
    "                    '20200502',\n",
    "                    '20191028',\n",
    "                    '20191107',\n",
    "                    '20191108',\n",
    "                    '20191109',\n",
    "                    '20191110',\n",
    "                    '20191111',\n",
    "                    '20191112',\n",
    "                    '20200214',\n",
    "                    '20200307',\n",
    "                    '20200308',\n",
    "                    '20200309',\n",
    "                    '20200310',\n",
    "                    '20200328',\n",
    "                    '20200329',\n",
    "                    '20200625',\n",
    "                    '20200809']"
   ]
  },
  {
   "cell_type": "markdown",
   "metadata": {},
   "source": [
    "### WEATHER .csv"
   ]
  },
  {
   "cell_type": "code",
   "execution_count": 39,
   "metadata": {},
   "outputs": [
    {
     "name": "stdout",
     "output_type": "stream",
     "text": [
      "13\n",
      "OBS_ASOS_TIM_20200929025447.csv\n"
     ]
    }
   ],
   "source": [
    "#############################################\n",
    "# 종관기상관측\n",
    "#############################################\n",
    "# pow 파일 load\n",
    "file_list   = os.listdir(data_dir)\n",
    "print(len(file_list))\n",
    "for filename in os.listdir(data_dir):\n",
    "    if fnmatch.fnmatch(filename, 'OBS_ASOS_TIM_*.csv'):\n",
    "        print(filename)\n",
    "\n",
    "        # load csv data\n",
    "        dataset = read_csv(data_dir+'/'+filename, encoding='CP949')\n",
    "        dataset.drop(['지점','지점명'], axis=1, inplace=True)\n",
    "        dataset.drop(['기온 QC플래그','강수량 QC플래그','풍속 QC플래그','풍향 QC플래그','습도 QC플래그'], axis=1, inplace=True)\n",
    "        dataset.drop(['현지기압 QC플래그','해면기압 QC플래그','일조 QC플래그','지면온도 QC플래그'], axis=1, inplace=True)\n",
    "        dataset.drop(['5cm 지중온도(°C)','10cm 지중온도(°C)','20cm 지중온도(°C)','30cm 지중온도(°C)'], axis=1, inplace=True)\n",
    "        dataset.drop(['3시간신적설(cm)','일사(MJ/m2)','운형(운형약어)','지면상태(지면상태코드)','현상번호(국내식)'], axis=1, inplace=True)\n",
    "\n",
    "        # set column name\n",
    "        dataset.columns = ['ymdhms', 'temprt', 'rain', 'wnd_spd', 'wnd_dir', 'humdt','steampressr',\n",
    "                           'dewpnt', 'pressr','seapressr','sunshine','snow','cloud','cloud2','mincloud','visiblt','grd_temprt']\n",
    "\n",
    "        # set NA data (관측값 0이 누적되어 결측된 경우. 0으로 세팅)\n",
    "        dataset['rain'].fillna(0, inplace=True)     #강수량\n",
    "        dataset['sunshine'].fillna(0, inplace=True) #일조\n",
    "        dataset['snow'].fillna(0, inplace=True)     #적설량\n",
    "\n",
    "        #일시 패턴 변환(2019-08-20 5:00 -> 2019082005)\n",
    "        dataset['ymdhms'] = dataset['ymdhms'].str[0:4]+dataset['ymdhms'].str[5:7]+dataset['ymdhms'].str[8:10]+dataset['ymdhms'].str[11:13]\n",
    "        # pow측정값 중 결측값 많은 일자 제거\n",
    "        dataset = dataset[(dataset['ymdhms'].str[0:8]>=date_start) & (dataset['ymdhms'].str[0:8]<date_end)]\n",
    "        for err_date in err_date_list:\n",
    "            idx_err = dataset[dataset['ymdhms'].str.startswith(err_date)].index\n",
    "            dataset = dataset.drop(idx_err)\n",
    "            \n",
    "        # save file (test용)\n",
    "        dataset.to_csv(data_dir+\"/va_weather.csv\",mode='w',index=False)\n",
    "        weather_dataset = dataset"
   ]
  },
  {
   "cell_type": "markdown",
   "metadata": {},
   "source": [
    "### POW .csv"
   ]
  },
  {
   "cell_type": "code",
   "execution_count": 16,
   "metadata": {},
   "outputs": [
    {
     "name": "stdout",
     "output_type": "stream",
     "text": [
      "337\n"
     ]
    }
   ],
   "source": [
    "#############################################\n",
    "# 태양광 전력\n",
    "#############################################\n",
    "\n",
    "# pow 파일 load\n",
    "dir_path    = data_dir+\"/pow_24/UR00000126_csv\"\n",
    "file_list   = os.listdir(dir_path)\n",
    "print(len(file_list))\n",
    "hrPow  = []    \n",
    "\n",
    "# pow측정값 에러가 큰 일자 제거\n",
    "for filename in file_list:\n",
    "    if (filename[:-4] not in err_date_list):\n",
    "        if ((filename[:-4]>=date_start) & (filename<date_end)):\n",
    "            filedata = pd.read_csv(dir_path+'/'+filename).values[:,0]\n",
    "            hrPow.append(filedata)\n",
    "\n",
    "#낮시간 추출 (5~20시)\n",
    "pow_dataset = pd.DataFrame(hrPow)\n",
    "pow_dataset[23] = 0\n",
    "#pow_dataset =pow_dataset.iloc[:,powhr_start:powhr_end+1]\n",
    "\n",
    "# 결측값 보간, reshape\n",
    "pow_dataset = pow_dataset.interpolate(method='linear')\n",
    "pow_dataset = pow_dataset.values.reshape(-1,1)\n",
    "pow_dataset = pd.DataFrame(pow_dataset)\n",
    "pow_dataset.columns = ['pow']\n",
    "pow_dataset.to_csv(data_dir+\"/va_pow.csv\",mode='w',index=False)\n"
   ]
  },
  {
   "cell_type": "markdown",
   "metadata": {},
   "source": [
    "### TOTAL .csv"
   ]
  },
  {
   "cell_type": "code",
   "execution_count": 18,
   "metadata": {},
   "outputs": [],
   "source": [
    "df_temp = np.concatenate((pow_dataset, weather_dataset),axis=-1)#(984,7)\n",
    "#col_list =  col_list[0:data_dim]\n",
    "col_list = dataset.columns.values\n",
    "col_list = np.insert(col_list, 0, 'pow')\n",
    "\n",
    "total_dataset = pd.DataFrame(data=df_temp, columns= [col_list])\n",
    "total_dataset.to_csv(data_dir+\"/va_total.csv\",mode='w',index=False)"
   ]
  },
  {
   "cell_type": "markdown",
   "metadata": {},
   "source": [
    "### PEARSON CORRELATION"
   ]
  },
  {
   "cell_type": "code",
   "execution_count": 56,
   "metadata": {
    "scrolled": true
   },
   "outputs": [
    {
     "data": {
      "text/html": [
       "<div>\n",
       "<style scoped>\n",
       "    .dataframe tbody tr th:only-of-type {\n",
       "        vertical-align: middle;\n",
       "    }\n",
       "\n",
       "    .dataframe tbody tr th {\n",
       "        vertical-align: top;\n",
       "    }\n",
       "\n",
       "    .dataframe thead tr th {\n",
       "        text-align: left;\n",
       "    }\n",
       "</style>\n",
       "<table border=\"1\" class=\"dataframe\">\n",
       "  <thead>\n",
       "    <tr>\n",
       "      <th></th>\n",
       "      <th>pow</th>\n",
       "      <th>ymdhms</th>\n",
       "      <th>temprt</th>\n",
       "      <th>rain</th>\n",
       "      <th>wnd_spd</th>\n",
       "      <th>wnd_dir</th>\n",
       "      <th>humdt</th>\n",
       "      <th>steampressr</th>\n",
       "      <th>dewpnt</th>\n",
       "      <th>pressr</th>\n",
       "      <th>seapressr</th>\n",
       "      <th>sunshine</th>\n",
       "      <th>snow</th>\n",
       "      <th>cloud</th>\n",
       "      <th>cloud2</th>\n",
       "      <th>mincloud</th>\n",
       "      <th>visiblt</th>\n",
       "      <th>grd_temprt</th>\n",
       "    </tr>\n",
       "  </thead>\n",
       "  <tbody>\n",
       "    <tr>\n",
       "      <th>pow</th>\n",
       "      <td>1.0</td>\n",
       "      <td>0.101944</td>\n",
       "      <td>0.150462</td>\n",
       "      <td>-0.085057</td>\n",
       "      <td>0.385014</td>\n",
       "      <td>0.252846</td>\n",
       "      <td>-0.553287</td>\n",
       "      <td>-0.164608</td>\n",
       "      <td>-0.166242</td>\n",
       "      <td>0.054445</td>\n",
       "      <td>0.037591</td>\n",
       "      <td>0.739553</td>\n",
       "      <td>-0.028469</td>\n",
       "      <td>-0.249402</td>\n",
       "      <td>-0.248543</td>\n",
       "      <td>0.006577</td>\n",
       "      <td>0.343229</td>\n",
       "      <td>0.29424</td>\n",
       "    </tr>\n",
       "  </tbody>\n",
       "</table>\n",
       "</div>"
      ],
      "text/plain": [
       "     pow    ymdhms    temprt      rain   wnd_spd   wnd_dir     humdt  \\\n",
       "pow  1.0  0.101944  0.150462 -0.085057  0.385014  0.252846 -0.553287   \n",
       "\n",
       "    steampressr    dewpnt    pressr seapressr  sunshine      snow     cloud  \\\n",
       "pow   -0.164608 -0.166242  0.054445  0.037591  0.739553 -0.028469 -0.249402   \n",
       "\n",
       "       cloud2  mincloud   visiblt grd_temprt  \n",
       "pow -0.248543  0.006577  0.343229    0.29424  "
      ]
     },
     "metadata": {},
     "output_type": "display_data"
    },
    {
     "name": "stdout",
     "output_type": "stream",
     "text": [
      "     pow    ymdhms    temprt      rain   wnd_spd   wnd_dir     humdt  \\\n",
      "pow  1.0  0.101944  0.150462 -0.085057  0.385014  0.252846 -0.553287   \n",
      "\n",
      "    steampressr    dewpnt    pressr seapressr  sunshine      snow     cloud  \\\n",
      "pow   -0.164608 -0.166242  0.054445  0.037591  0.739553 -0.028469 -0.249402   \n",
      "\n",
      "       cloud2  mincloud   visiblt grd_temprt  \n",
      "pow -0.248543  0.006577  0.343229    0.29424  \n",
      "<class 'pandas.core.frame.DataFrame'>\n",
      "      pow    ymdhms    temprt     rain   wnd_spd   wnd_dir     humdt  \\\n",
      "0     0.0  0.000000  0.741117  0.00000  0.019231  0.000000  0.988636   \n",
      "1     0.0  0.000001  0.741117  0.00000  0.009615  0.000000  0.977273   \n",
      "2     0.0  0.000002  0.730964  0.00000  0.038462  0.000000  0.988636   \n",
      "3     0.0  0.000003  0.713198  0.00000  0.028846  0.000000  0.988636   \n",
      "4     0.0  0.000004  0.708122  0.00000  0.000000  0.000000  0.988636   \n",
      "...   ...       ...       ...      ...       ...       ...       ...   \n",
      "8011  0.0  0.999996  0.837563  0.00000  0.038462  0.000000  0.943182   \n",
      "8012  0.0  0.999997  0.824873  0.00241  0.115385  0.250000  0.977273   \n",
      "8013  0.0  0.999998  0.850254  0.00000  0.086538  0.138889  0.909091   \n",
      "8014  0.0  0.999999  0.857868  0.00000  0.182692  0.388889  0.886364   \n",
      "8015  0.0  1.000000  0.855330  0.00000  0.192308  0.444444  0.875000   \n",
      "\n",
      "     steampressr    dewpnt    pressr seapressr sunshine snow cloud cloud2  \\\n",
      "0       0.740061  0.898305  0.482609  0.461066      0.0  0.0   0.5    0.4   \n",
      "1       0.730887  0.894068  0.480435  0.459016      0.0  0.0   0.7    0.7   \n",
      "2       0.721713  0.889831  0.473913  0.452869      0.0  0.0   0.6    0.2   \n",
      "3       0.691131  0.875000  0.469565  0.450820      0.0  0.0   0.3    0.0   \n",
      "4       0.681957  0.870763  0.476087  0.456967      0.0  0.0   0.2    0.0   \n",
      "...          ...       ...       ...       ...      ...  ...   ...    ...   \n",
      "8011    0.902141  0.963983  0.347826  0.325820      0.0  0.0   NaN    NaN   \n",
      "8012    0.902141  0.963983  0.352174  0.331967      0.0  0.0   NaN    NaN   \n",
      "8013    0.896024  0.961864  0.367391  0.344262      0.0  0.0   NaN    NaN   \n",
      "8014    0.896024  0.961864  0.384783  0.360656      0.0  0.0   NaN    NaN   \n",
      "8015    0.877676  0.955508  0.391304  0.366803      0.0  0.0   NaN    NaN   \n",
      "\n",
      "      mincloud   visiblt grd_temprt  \n",
      "0     0.148649  0.031583   0.523810  \n",
      "1     0.175676  0.031029   0.520282  \n",
      "2     0.175676  0.024657   0.507937  \n",
      "3          NaN  0.022995   0.497354  \n",
      "4          NaN  0.024657   0.490300  \n",
      "...        ...       ...        ...  \n",
      "8011       NaN  0.119684   0.573192  \n",
      "8012       NaN  0.052500   0.560847  \n",
      "8013       NaN  0.163180   0.555556  \n",
      "8014       NaN  0.207231   0.550265  \n",
      "8015       NaN  0.232442   0.546737  \n",
      "\n",
      "[8016 rows x 18 columns]\n"
     ]
    }
   ],
   "source": [
    "# correlation 위한 minmax scaler\n",
    "\n",
    "\n",
    "\n",
    "scaler = MinMaxScaler(feature_range = (0, 1))\n",
    "scaled_total = scaler.fit_transform(total_dataset.values)\n",
    "df_total = pd.DataFrame(scaled_total, columns=total_dataset.columns, index=list(total_dataset.index.values))\n",
    "\n",
    "corr = df_total.corr('pearson')\n",
    "corr = corr.iloc[0:1,:]\n",
    "display(corr)\n",
    "print(corr)\n",
    "print(type(corr))\n",
    "print(df_total)"
   ]
  },
  {
   "cell_type": "code",
   "execution_count": 54,
   "metadata": {},
   "outputs": [
    {
     "data": {
      "text/plain": [
       "'[{\"(\\'pow\\',)\":1.0,\"(\\'ymdhms\\',)\":0.1019436574,\"(\\'temprt\\',)\":0.1504616378,\"(\\'rain\\',)\":-0.0850566725,\"(\\'wnd_spd\\',)\":0.3850139107,\"(\\'wnd_dir\\',)\":0.2528462302,\"(\\'humdt\\',)\":-0.5532867373,\"(\\'steampressr\\',)\":-0.1646079651,\"(\\'dewpnt\\',)\":-0.1662420735,\"(\\'pressr\\',)\":0.0544445658,\"(\\'seapressr\\',)\":0.0375909448,\"(\\'sunshine\\',)\":0.7395530803,\"(\\'snow\\',)\":-0.0284692386,\"(\\'cloud\\',)\":-0.2494015037,\"(\\'cloud2\\',)\":-0.2485428769,\"(\\'mincloud\\',)\":0.0065765615,\"(\\'visiblt\\',)\":0.3432285658,\"(\\'grd_temprt\\',)\":0.2942399588}]'"
      ]
     },
     "metadata": {},
     "output_type": "display_data"
    }
   ],
   "source": [
    "result = corr.to_json(orient=\"records\")\n",
    "display(result)"
   ]
  }
 ],
 "metadata": {
  "kernelspec": {
   "display_name": "Python 3",
   "language": "python",
   "name": "python3"
  },
  "language_info": {
   "codemirror_mode": {
    "name": "ipython",
    "version": 3
   },
   "file_extension": ".py",
   "mimetype": "text/x-python",
   "name": "python",
   "nbconvert_exporter": "python",
   "pygments_lexer": "ipython3",
   "version": "3.7.0"
  }
 },
 "nbformat": 4,
 "nbformat_minor": 4
}
