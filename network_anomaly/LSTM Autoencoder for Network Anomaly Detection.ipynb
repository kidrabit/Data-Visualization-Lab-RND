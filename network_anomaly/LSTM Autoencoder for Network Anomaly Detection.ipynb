{
 "cells": [
  {
   "cell_type": "markdown",
   "metadata": {
    "id": "haDl53nO8Oe6"
   },
   "source": [
    "# **Project: LSTM Autoencoder for Network Anomaly Detection**\n",
    "\n",
    "### **Instructions:**\n",
    "\n",
    "In this project, we will create and train an LSTM-based autoencoder to detect anomalies in the KDD99 network traffic dataset. \n",
    "\n",
    "Note that KDD99 does not include timestamps as a feature. The simplest approach to making these discrete datapoints into time-domain data is to assume that each datapoint occurs at the timestep immediately after the previous datapoint. However, more sophisticated approaches can also be adopted (e.g., grouping by TCP connections). The choice of serialization technique (i.e., conversion into time-domain) is up to you.\n",
    "\n",
    "This project must be implemented in a Jupyer Notebook, and must be compatible with Google Colab (i.e., if you are using a particular library that is not on Colab by default, your notebook must install it via !pip install ... ). Your notebook must also contain a section on performance analysis, where you report the performance of your IDS model via performance metrics and/or plots (similar to Section 5).\n",
    "\n",
    "**A very important note:** You should not expect very high detection rates from your model. "
   ]
  },
  {
   "cell_type": "markdown",
   "metadata": {
    "id": "_2t-Cnfh-ahS"
   },
   "source": [
    "## Read in KDD99 Data Set"
   ]
  },
  {
   "cell_type": "code",
   "execution_count": 1,
   "metadata": {
    "colab": {
     "base_uri": "https://localhost:8080/",
     "height": 90
    },
    "id": "3PFGJcB88M6I",
    "outputId": "210a6453-f368-42ea-a527-931ba330869d"
   },
   "outputs": [
    {
     "name": "stdout",
     "output_type": "stream",
     "text": [
      "C:\\Users\\sBumS\\.keras\\datasets\\kddcup.data_10_percent.gz\n"
     ]
    }
   ],
   "source": [
    "#importing required libraries\n",
    "\n",
    "import pandas as pd\n",
    "import numpy as np\n",
    "import tensorflow as tf\n",
    "from tensorflow import keras\n",
    "import pandas as pd\n",
    "import seaborn as sns\n",
    "import matplotlib.pyplot as plt\n",
    "from sklearn import metrics\n",
    "\n",
    "from tensorflow.keras.utils import get_file\n",
    "try:\n",
    "    path = get_file('kddcup.data_10_percent.gz', origin='http://kdd.ics.uci.edu/databases/kddcup99/kddcup.data_10_percent.gz')\n",
    "except:\n",
    "    print('Error downloading')\n",
    "    raise\n",
    "\n",
    "print(path) "
   ]
  },
  {
   "cell_type": "code",
   "execution_count": 2,
   "metadata": {
    "colab": {
     "base_uri": "https://localhost:8080/",
     "height": 35
    },
    "id": "HbiUbM0NPOMy",
    "outputId": "e9cd571b-1323-41b2-a2b7-3051b62d3b1b"
   },
   "outputs": [
    {
     "name": "stdout",
     "output_type": "stream",
     "text": [
      "Read 494021 rows.\n"
     ]
    }
   ],
   "source": [
    "# This file is a CSV, just no CSV extension or headers\n",
    "# Download from: http://kdd.ics.uci.edu/databases/kddcup99/kddcup99.html\n",
    "df = pd.read_csv(path, header=None)\n",
    "print(\"Read {} rows.\".format(len(df)))"
   ]
  },
  {
   "cell_type": "code",
   "execution_count": 3,
   "metadata": {
    "colab": {
     "base_uri": "https://localhost:8080/",
     "height": 220
    },
    "id": "MX5AmlE6POBA",
    "outputId": "b969e96f-9a43-4ddf-d6ff-9e148f18a877"
   },
   "outputs": [
    {
     "data": {
      "text/html": [
       "<div>\n",
       "<style scoped>\n",
       "    .dataframe tbody tr th:only-of-type {\n",
       "        vertical-align: middle;\n",
       "    }\n",
       "\n",
       "    .dataframe tbody tr th {\n",
       "        vertical-align: top;\n",
       "    }\n",
       "\n",
       "    .dataframe thead th {\n",
       "        text-align: right;\n",
       "    }\n",
       "</style>\n",
       "<table border=\"1\" class=\"dataframe\">\n",
       "  <thead>\n",
       "    <tr style=\"text-align: right;\">\n",
       "      <th></th>\n",
       "      <th>duration</th>\n",
       "      <th>protocol_type</th>\n",
       "      <th>service</th>\n",
       "      <th>flag</th>\n",
       "      <th>src_bytes</th>\n",
       "      <th>dst_bytes</th>\n",
       "      <th>land</th>\n",
       "      <th>wrong_fragment</th>\n",
       "      <th>urgent</th>\n",
       "      <th>hot</th>\n",
       "      <th>...</th>\n",
       "      <th>dst_host_srv_count</th>\n",
       "      <th>dst_host_same_srv_rate</th>\n",
       "      <th>dst_host_diff_srv_rate</th>\n",
       "      <th>dst_host_same_src_port_rate</th>\n",
       "      <th>dst_host_srv_diff_host_rate</th>\n",
       "      <th>dst_host_serror_rate</th>\n",
       "      <th>dst_host_srv_serror_rate</th>\n",
       "      <th>dst_host_rerror_rate</th>\n",
       "      <th>dst_host_srv_rerror_rate</th>\n",
       "      <th>outcome</th>\n",
       "    </tr>\n",
       "  </thead>\n",
       "  <tbody>\n",
       "    <tr>\n",
       "      <th>0</th>\n",
       "      <td>0</td>\n",
       "      <td>tcp</td>\n",
       "      <td>http</td>\n",
       "      <td>SF</td>\n",
       "      <td>181</td>\n",
       "      <td>5450</td>\n",
       "      <td>0</td>\n",
       "      <td>0</td>\n",
       "      <td>0</td>\n",
       "      <td>0</td>\n",
       "      <td>...</td>\n",
       "      <td>9</td>\n",
       "      <td>1.0</td>\n",
       "      <td>0.0</td>\n",
       "      <td>0.11</td>\n",
       "      <td>0.0</td>\n",
       "      <td>0.0</td>\n",
       "      <td>0.0</td>\n",
       "      <td>0.0</td>\n",
       "      <td>0.0</td>\n",
       "      <td>normal.</td>\n",
       "    </tr>\n",
       "    <tr>\n",
       "      <th>1</th>\n",
       "      <td>0</td>\n",
       "      <td>tcp</td>\n",
       "      <td>http</td>\n",
       "      <td>SF</td>\n",
       "      <td>239</td>\n",
       "      <td>486</td>\n",
       "      <td>0</td>\n",
       "      <td>0</td>\n",
       "      <td>0</td>\n",
       "      <td>0</td>\n",
       "      <td>...</td>\n",
       "      <td>19</td>\n",
       "      <td>1.0</td>\n",
       "      <td>0.0</td>\n",
       "      <td>0.05</td>\n",
       "      <td>0.0</td>\n",
       "      <td>0.0</td>\n",
       "      <td>0.0</td>\n",
       "      <td>0.0</td>\n",
       "      <td>0.0</td>\n",
       "      <td>normal.</td>\n",
       "    </tr>\n",
       "    <tr>\n",
       "      <th>2</th>\n",
       "      <td>0</td>\n",
       "      <td>tcp</td>\n",
       "      <td>http</td>\n",
       "      <td>SF</td>\n",
       "      <td>235</td>\n",
       "      <td>1337</td>\n",
       "      <td>0</td>\n",
       "      <td>0</td>\n",
       "      <td>0</td>\n",
       "      <td>0</td>\n",
       "      <td>...</td>\n",
       "      <td>29</td>\n",
       "      <td>1.0</td>\n",
       "      <td>0.0</td>\n",
       "      <td>0.03</td>\n",
       "      <td>0.0</td>\n",
       "      <td>0.0</td>\n",
       "      <td>0.0</td>\n",
       "      <td>0.0</td>\n",
       "      <td>0.0</td>\n",
       "      <td>normal.</td>\n",
       "    </tr>\n",
       "    <tr>\n",
       "      <th>3</th>\n",
       "      <td>0</td>\n",
       "      <td>tcp</td>\n",
       "      <td>http</td>\n",
       "      <td>SF</td>\n",
       "      <td>219</td>\n",
       "      <td>1337</td>\n",
       "      <td>0</td>\n",
       "      <td>0</td>\n",
       "      <td>0</td>\n",
       "      <td>0</td>\n",
       "      <td>...</td>\n",
       "      <td>39</td>\n",
       "      <td>1.0</td>\n",
       "      <td>0.0</td>\n",
       "      <td>0.03</td>\n",
       "      <td>0.0</td>\n",
       "      <td>0.0</td>\n",
       "      <td>0.0</td>\n",
       "      <td>0.0</td>\n",
       "      <td>0.0</td>\n",
       "      <td>normal.</td>\n",
       "    </tr>\n",
       "    <tr>\n",
       "      <th>4</th>\n",
       "      <td>0</td>\n",
       "      <td>tcp</td>\n",
       "      <td>http</td>\n",
       "      <td>SF</td>\n",
       "      <td>217</td>\n",
       "      <td>2032</td>\n",
       "      <td>0</td>\n",
       "      <td>0</td>\n",
       "      <td>0</td>\n",
       "      <td>0</td>\n",
       "      <td>...</td>\n",
       "      <td>49</td>\n",
       "      <td>1.0</td>\n",
       "      <td>0.0</td>\n",
       "      <td>0.02</td>\n",
       "      <td>0.0</td>\n",
       "      <td>0.0</td>\n",
       "      <td>0.0</td>\n",
       "      <td>0.0</td>\n",
       "      <td>0.0</td>\n",
       "      <td>normal.</td>\n",
       "    </tr>\n",
       "  </tbody>\n",
       "</table>\n",
       "<p>5 rows × 42 columns</p>\n",
       "</div>"
      ],
      "text/plain": [
       "   duration protocol_type service flag  src_bytes  dst_bytes  land  \\\n",
       "0         0           tcp    http   SF        181       5450     0   \n",
       "1         0           tcp    http   SF        239        486     0   \n",
       "2         0           tcp    http   SF        235       1337     0   \n",
       "3         0           tcp    http   SF        219       1337     0   \n",
       "4         0           tcp    http   SF        217       2032     0   \n",
       "\n",
       "   wrong_fragment  urgent  hot  ...  dst_host_srv_count  \\\n",
       "0               0       0    0  ...                   9   \n",
       "1               0       0    0  ...                  19   \n",
       "2               0       0    0  ...                  29   \n",
       "3               0       0    0  ...                  39   \n",
       "4               0       0    0  ...                  49   \n",
       "\n",
       "   dst_host_same_srv_rate  dst_host_diff_srv_rate  \\\n",
       "0                     1.0                     0.0   \n",
       "1                     1.0                     0.0   \n",
       "2                     1.0                     0.0   \n",
       "3                     1.0                     0.0   \n",
       "4                     1.0                     0.0   \n",
       "\n",
       "   dst_host_same_src_port_rate  dst_host_srv_diff_host_rate  \\\n",
       "0                         0.11                          0.0   \n",
       "1                         0.05                          0.0   \n",
       "2                         0.03                          0.0   \n",
       "3                         0.03                          0.0   \n",
       "4                         0.02                          0.0   \n",
       "\n",
       "   dst_host_serror_rate  dst_host_srv_serror_rate  dst_host_rerror_rate  \\\n",
       "0                   0.0                       0.0                   0.0   \n",
       "1                   0.0                       0.0                   0.0   \n",
       "2                   0.0                       0.0                   0.0   \n",
       "3                   0.0                       0.0                   0.0   \n",
       "4                   0.0                       0.0                   0.0   \n",
       "\n",
       "   dst_host_srv_rerror_rate  outcome  \n",
       "0                       0.0  normal.  \n",
       "1                       0.0  normal.  \n",
       "2                       0.0  normal.  \n",
       "3                       0.0  normal.  \n",
       "4                       0.0  normal.  \n",
       "\n",
       "[5 rows x 42 columns]"
      ]
     },
     "execution_count": 3,
     "metadata": {},
     "output_type": "execute_result"
    }
   ],
   "source": [
    "# The CSV file has no column heads, so add them\n",
    "df.columns = ['duration','protocol_type','service','flag','src_bytes','dst_bytes','land','wrong_fragment','urgent','hot',\n",
    "              'num_failed_logins','logged_in','num_compromised','root_shell', 'su_attempted','num_root','num_file_creations','num_shells',\n",
    "              'num_access_files','num_outbound_cmds','is_host_login','is_guest_login','count','srv_count','serror_rate','srv_serror_rate',\n",
    "              'rerror_rate','srv_rerror_rate','same_srv_rate','diff_srv_rate','srv_diff_host_rate','dst_host_count','dst_host_srv_count',\n",
    "              'dst_host_same_srv_rate','dst_host_diff_srv_rate','dst_host_same_src_port_rate','dst_host_srv_diff_host_rate','dst_host_serror_rate',\n",
    "              'dst_host_srv_serror_rate','dst_host_rerror_rate','dst_host_srv_rerror_rate','outcome']\n",
    "\n",
    "# displaying the contents\n",
    "df.head()"
   ]
  },
  {
   "cell_type": "markdown",
   "metadata": {
    "id": "Tkxa5l5xDLRx"
   },
   "source": [
    "## Data Preprocessing"
   ]
  },
  {
   "cell_type": "code",
   "execution_count": 4,
   "metadata": {
    "colab": {
     "base_uri": "https://localhost:8080/",
     "height": 35
    },
    "id": "gNddKIhZPETx",
    "outputId": "7a2e061e-74ea-4514-e87a-65bf2c67de30"
   },
   "outputs": [
    {
     "data": {
      "text/plain": [
       "(494021, 42)"
      ]
     },
     "execution_count": 4,
     "metadata": {},
     "output_type": "execute_result"
    }
   ],
   "source": [
    "# For now, just drop NA's (rows with missing values)\n",
    "df.dropna(inplace=True,axis=1) \n",
    "df.shape"
   ]
  },
  {
   "cell_type": "code",
   "execution_count": 5,
   "metadata": {
    "colab": {
     "base_uri": "https://localhost:8080/",
     "height": 781
    },
    "id": "EY5w2pjiDKA8",
    "outputId": "5499ffbe-82d0-4844-fe0c-862345800ae0"
   },
   "outputs": [
    {
     "data": {
      "text/plain": [
       "duration                         int64\n",
       "protocol_type                   object\n",
       "service                         object\n",
       "flag                            object\n",
       "src_bytes                        int64\n",
       "dst_bytes                        int64\n",
       "land                             int64\n",
       "wrong_fragment                   int64\n",
       "urgent                           int64\n",
       "hot                              int64\n",
       "num_failed_logins                int64\n",
       "logged_in                        int64\n",
       "num_compromised                  int64\n",
       "root_shell                       int64\n",
       "su_attempted                     int64\n",
       "num_root                         int64\n",
       "num_file_creations               int64\n",
       "num_shells                       int64\n",
       "num_access_files                 int64\n",
       "num_outbound_cmds                int64\n",
       "is_host_login                    int64\n",
       "is_guest_login                   int64\n",
       "count                            int64\n",
       "srv_count                        int64\n",
       "serror_rate                    float64\n",
       "srv_serror_rate                float64\n",
       "rerror_rate                    float64\n",
       "srv_rerror_rate                float64\n",
       "same_srv_rate                  float64\n",
       "diff_srv_rate                  float64\n",
       "srv_diff_host_rate             float64\n",
       "dst_host_count                   int64\n",
       "dst_host_srv_count               int64\n",
       "dst_host_same_srv_rate         float64\n",
       "dst_host_diff_srv_rate         float64\n",
       "dst_host_same_src_port_rate    float64\n",
       "dst_host_srv_diff_host_rate    float64\n",
       "dst_host_serror_rate           float64\n",
       "dst_host_srv_serror_rate       float64\n",
       "dst_host_rerror_rate           float64\n",
       "dst_host_srv_rerror_rate       float64\n",
       "outcome                         object\n",
       "dtype: object"
      ]
     },
     "execution_count": 5,
     "metadata": {},
     "output_type": "execute_result"
    }
   ],
   "source": [
    "df.dtypes"
   ]
  },
  {
   "cell_type": "code",
   "execution_count": 6,
   "metadata": {
    "colab": {
     "base_uri": "https://localhost:8080/",
     "height": 461
    },
    "id": "uJH9xUF48Ljr",
    "outputId": "2ee5497e-90c5-48f9-c658-22081ab70eee"
   },
   "outputs": [
    {
     "data": {
      "text/plain": [
       "outcome\n",
       "back.                 2203\n",
       "buffer_overflow.        30\n",
       "ftp_write.               8\n",
       "guess_passwd.           53\n",
       "imap.                   12\n",
       "ipsweep.              1247\n",
       "land.                   21\n",
       "loadmodule.              9\n",
       "multihop.                7\n",
       "neptune.            107201\n",
       "nmap.                  231\n",
       "normal.              97278\n",
       "perl.                    3\n",
       "phf.                     4\n",
       "pod.                   264\n",
       "portsweep.            1040\n",
       "rootkit.                10\n",
       "satan.                1589\n",
       "smurf.              280790\n",
       "spy.                     2\n",
       "teardrop.              979\n",
       "warezclient.          1020\n",
       "warezmaster.            20\n",
       "Name: outcome, dtype: int64"
      ]
     },
     "execution_count": 6,
     "metadata": {},
     "output_type": "execute_result"
    }
   ],
   "source": [
    "df.groupby('outcome')['outcome'].count()"
   ]
  },
  {
   "cell_type": "markdown",
   "metadata": {
    "id": "49nClouCDBWQ"
   },
   "source": [
    "## Encoding numeric and text data:"
   ]
  },
  {
   "cell_type": "code",
   "execution_count": 7,
   "metadata": {
    "id": "ignXAw75-o1i"
   },
   "outputs": [],
   "source": [
    "# Encode a numeric column as zscores\n",
    "def encode_numeric_zscore(df, name, mean=None, sd=None):\n",
    "    if mean is None:\n",
    "        mean = df[name].mean()\n",
    "\n",
    "    if sd is None:\n",
    "        sd = df[name].std()\n",
    "\n",
    "    df[name] = (df[name] - mean) / sd\n",
    "    \n",
    "# Encode text values to dummy variables(i.e. [1,0,0],[0,1,0],[0,0,1] for red,green,blue)\n",
    "def encode_text_dummy(df, name):\n",
    "    dummies = pd.get_dummies(df[name])\n",
    "    for x in dummies.columns:\n",
    "        dummy_name = f\"{name}-{x}\"\n",
    "        df[dummy_name] = dummies[x]\n",
    "    df.drop(name, axis=1, inplace=True)"
   ]
  },
  {
   "cell_type": "code",
   "execution_count": 8,
   "metadata": {
    "id": "zRp2aY8AC-uE"
   },
   "outputs": [],
   "source": [
    "#encoding the feature vector\n",
    "text_col =['protocol_type', 'service', 'flag', 'land', 'logged_in', 'is_host_login', 'is_guest_login', ]\n",
    "\n",
    "for i in df.columns:\n",
    "  if i not in text_col:\n",
    "    if i != 'outcome':\n",
    "      encode_numeric_zscore(df, i)\n",
    "\n",
    "for x in text_col:\n",
    "  encode_text_dummy(df, x)"
   ]
  },
  {
   "cell_type": "code",
   "execution_count": 9,
   "metadata": {
    "colab": {
     "base_uri": "https://localhost:8080/",
     "height": 266
    },
    "id": "-TqbJf4IOKGi",
    "outputId": "fff24138-2278-4e12-b46b-fca92c0fe8f7"
   },
   "outputs": [
    {
     "data": {
      "text/html": [
       "<div>\n",
       "<style scoped>\n",
       "    .dataframe tbody tr th:only-of-type {\n",
       "        vertical-align: middle;\n",
       "    }\n",
       "\n",
       "    .dataframe tbody tr th {\n",
       "        vertical-align: top;\n",
       "    }\n",
       "\n",
       "    .dataframe thead th {\n",
       "        text-align: right;\n",
       "    }\n",
       "</style>\n",
       "<table border=\"1\" class=\"dataframe\">\n",
       "  <thead>\n",
       "    <tr style=\"text-align: right;\">\n",
       "      <th></th>\n",
       "      <th>duration</th>\n",
       "      <th>src_bytes</th>\n",
       "      <th>dst_bytes</th>\n",
       "      <th>wrong_fragment</th>\n",
       "      <th>urgent</th>\n",
       "      <th>hot</th>\n",
       "      <th>num_failed_logins</th>\n",
       "      <th>num_compromised</th>\n",
       "      <th>root_shell</th>\n",
       "      <th>su_attempted</th>\n",
       "      <th>...</th>\n",
       "      <th>flag-S3</th>\n",
       "      <th>flag-SF</th>\n",
       "      <th>flag-SH</th>\n",
       "      <th>land-0</th>\n",
       "      <th>land-1</th>\n",
       "      <th>logged_in-0</th>\n",
       "      <th>logged_in-1</th>\n",
       "      <th>is_host_login-0</th>\n",
       "      <th>is_guest_login-0</th>\n",
       "      <th>is_guest_login-1</th>\n",
       "    </tr>\n",
       "  </thead>\n",
       "  <tbody>\n",
       "    <tr>\n",
       "      <th>0</th>\n",
       "      <td>-0.067792</td>\n",
       "      <td>-0.002879</td>\n",
       "      <td>0.138664</td>\n",
       "      <td>-0.04772</td>\n",
       "      <td>-0.002571</td>\n",
       "      <td>-0.044136</td>\n",
       "      <td>-0.009782</td>\n",
       "      <td>-0.005679</td>\n",
       "      <td>-0.010552</td>\n",
       "      <td>-0.004676</td>\n",
       "      <td>...</td>\n",
       "      <td>0</td>\n",
       "      <td>1</td>\n",
       "      <td>0</td>\n",
       "      <td>1</td>\n",
       "      <td>0</td>\n",
       "      <td>0</td>\n",
       "      <td>1</td>\n",
       "      <td>1</td>\n",
       "      <td>1</td>\n",
       "      <td>0</td>\n",
       "    </tr>\n",
       "    <tr>\n",
       "      <th>1</th>\n",
       "      <td>-0.067792</td>\n",
       "      <td>-0.002820</td>\n",
       "      <td>-0.011578</td>\n",
       "      <td>-0.04772</td>\n",
       "      <td>-0.002571</td>\n",
       "      <td>-0.044136</td>\n",
       "      <td>-0.009782</td>\n",
       "      <td>-0.005679</td>\n",
       "      <td>-0.010552</td>\n",
       "      <td>-0.004676</td>\n",
       "      <td>...</td>\n",
       "      <td>0</td>\n",
       "      <td>1</td>\n",
       "      <td>0</td>\n",
       "      <td>1</td>\n",
       "      <td>0</td>\n",
       "      <td>0</td>\n",
       "      <td>1</td>\n",
       "      <td>1</td>\n",
       "      <td>1</td>\n",
       "      <td>0</td>\n",
       "    </tr>\n",
       "    <tr>\n",
       "      <th>2</th>\n",
       "      <td>-0.067792</td>\n",
       "      <td>-0.002824</td>\n",
       "      <td>0.014179</td>\n",
       "      <td>-0.04772</td>\n",
       "      <td>-0.002571</td>\n",
       "      <td>-0.044136</td>\n",
       "      <td>-0.009782</td>\n",
       "      <td>-0.005679</td>\n",
       "      <td>-0.010552</td>\n",
       "      <td>-0.004676</td>\n",
       "      <td>...</td>\n",
       "      <td>0</td>\n",
       "      <td>1</td>\n",
       "      <td>0</td>\n",
       "      <td>1</td>\n",
       "      <td>0</td>\n",
       "      <td>0</td>\n",
       "      <td>1</td>\n",
       "      <td>1</td>\n",
       "      <td>1</td>\n",
       "      <td>0</td>\n",
       "    </tr>\n",
       "    <tr>\n",
       "      <th>3</th>\n",
       "      <td>-0.067792</td>\n",
       "      <td>-0.002840</td>\n",
       "      <td>0.014179</td>\n",
       "      <td>-0.04772</td>\n",
       "      <td>-0.002571</td>\n",
       "      <td>-0.044136</td>\n",
       "      <td>-0.009782</td>\n",
       "      <td>-0.005679</td>\n",
       "      <td>-0.010552</td>\n",
       "      <td>-0.004676</td>\n",
       "      <td>...</td>\n",
       "      <td>0</td>\n",
       "      <td>1</td>\n",
       "      <td>0</td>\n",
       "      <td>1</td>\n",
       "      <td>0</td>\n",
       "      <td>0</td>\n",
       "      <td>1</td>\n",
       "      <td>1</td>\n",
       "      <td>1</td>\n",
       "      <td>0</td>\n",
       "    </tr>\n",
       "    <tr>\n",
       "      <th>4</th>\n",
       "      <td>-0.067792</td>\n",
       "      <td>-0.002842</td>\n",
       "      <td>0.035214</td>\n",
       "      <td>-0.04772</td>\n",
       "      <td>-0.002571</td>\n",
       "      <td>-0.044136</td>\n",
       "      <td>-0.009782</td>\n",
       "      <td>-0.005679</td>\n",
       "      <td>-0.010552</td>\n",
       "      <td>-0.004676</td>\n",
       "      <td>...</td>\n",
       "      <td>0</td>\n",
       "      <td>1</td>\n",
       "      <td>0</td>\n",
       "      <td>1</td>\n",
       "      <td>0</td>\n",
       "      <td>0</td>\n",
       "      <td>1</td>\n",
       "      <td>1</td>\n",
       "      <td>1</td>\n",
       "      <td>0</td>\n",
       "    </tr>\n",
       "  </tbody>\n",
       "</table>\n",
       "<p>5 rows × 121 columns</p>\n",
       "</div>"
      ],
      "text/plain": [
       "   duration  src_bytes  dst_bytes  wrong_fragment    urgent       hot  \\\n",
       "0 -0.067792  -0.002879   0.138664        -0.04772 -0.002571 -0.044136   \n",
       "1 -0.067792  -0.002820  -0.011578        -0.04772 -0.002571 -0.044136   \n",
       "2 -0.067792  -0.002824   0.014179        -0.04772 -0.002571 -0.044136   \n",
       "3 -0.067792  -0.002840   0.014179        -0.04772 -0.002571 -0.044136   \n",
       "4 -0.067792  -0.002842   0.035214        -0.04772 -0.002571 -0.044136   \n",
       "\n",
       "   num_failed_logins  num_compromised  root_shell  su_attempted  ...  flag-S3  \\\n",
       "0          -0.009782        -0.005679   -0.010552     -0.004676  ...        0   \n",
       "1          -0.009782        -0.005679   -0.010552     -0.004676  ...        0   \n",
       "2          -0.009782        -0.005679   -0.010552     -0.004676  ...        0   \n",
       "3          -0.009782        -0.005679   -0.010552     -0.004676  ...        0   \n",
       "4          -0.009782        -0.005679   -0.010552     -0.004676  ...        0   \n",
       "\n",
       "   flag-SF  flag-SH  land-0  land-1  logged_in-0  logged_in-1  \\\n",
       "0        1        0       1       0            0            1   \n",
       "1        1        0       1       0            0            1   \n",
       "2        1        0       1       0            0            1   \n",
       "3        1        0       1       0            0            1   \n",
       "4        1        0       1       0            0            1   \n",
       "\n",
       "   is_host_login-0  is_guest_login-0  is_guest_login-1  \n",
       "0                1                 1                 0  \n",
       "1                1                 1                 0  \n",
       "2                1                 1                 0  \n",
       "3                1                 1                 0  \n",
       "4                1                 1                 0  \n",
       "\n",
       "[5 rows x 121 columns]"
      ]
     },
     "execution_count": 9,
     "metadata": {},
     "output_type": "execute_result"
    }
   ],
   "source": [
    "df.dropna(inplace=True,axis=1)\n",
    "df[0:5]"
   ]
  },
  {
   "cell_type": "code",
   "execution_count": 10,
   "metadata": {
    "colab": {
     "base_uri": "https://localhost:8080/",
     "height": 35
    },
    "id": "yTki_IrySDcY",
    "outputId": "a968481a-6032-4322-bbd1-f41a7709c756"
   },
   "outputs": [
    {
     "data": {
      "text/plain": [
       "array([1, 0], dtype=uint8)"
      ]
     },
     "execution_count": 10,
     "metadata": {},
     "output_type": "execute_result"
    }
   ],
   "source": [
    "df['protocol_type-tcp'].unique()"
   ]
  },
  {
   "cell_type": "code",
   "execution_count": 11,
   "metadata": {
    "colab": {
     "base_uri": "https://localhost:8080/",
     "height": 52
    },
    "id": "WQULPidDTeiP",
    "outputId": "8f5cca59-3a24-48a7-ea37-5ba0c90a9a26"
   },
   "outputs": [
    {
     "name": "stdout",
     "output_type": "stream",
     "text": [
      "Normal count: 97278\n",
      "Attack count: 396743\n"
     ]
    }
   ],
   "source": [
    "normal_mask = df['outcome']=='normal.'\n",
    "attack_mask = df['outcome']!='normal.'\n",
    "\n",
    "df.drop('outcome',axis=1,inplace=True)\n",
    "\n",
    "df_normal = df[normal_mask]\n",
    "df_attack = df[attack_mask]\n",
    "\n",
    "print(f\"Normal count: {len(df_normal)}\")\n",
    "print(f\"Attack count: {len(df_attack)}\")"
   ]
  },
  {
   "cell_type": "code",
   "execution_count": 12,
   "metadata": {
    "id": "sS_snYlWTgCY"
   },
   "outputs": [],
   "source": [
    "# This is the numeric feature vector, as it goes to the neural net\n",
    "x_normal = df_normal.values\n",
    "x_attack = df_attack.values"
   ]
  },
  {
   "cell_type": "code",
   "execution_count": 13,
   "metadata": {
    "colab": {
     "base_uri": "https://localhost:8080/",
     "height": 52
    },
    "id": "HQMsrgUoUfbr",
    "outputId": "24ada8c4-55d3-443b-f309-adea5f76d50a"
   },
   "outputs": [
    {
     "name": "stdout",
     "output_type": "stream",
     "text": [
      "Normal train count: 68094\n",
      "Normal test count: 29184\n"
     ]
    }
   ],
   "source": [
    "from sklearn.model_selection import train_test_split\n",
    "\n",
    "x_normal_train, x_normal_test = train_test_split(x_normal, test_size=0.3, random_state=12)\n",
    "\n",
    "print(f\"Normal train count: {len(x_normal_train)}\")\n",
    "print(f\"Normal test count: {len(x_normal_test)}\")"
   ]
  },
  {
   "cell_type": "code",
   "execution_count": 14,
   "metadata": {
    "colab": {
     "base_uri": "https://localhost:8080/",
     "height": 35
    },
    "id": "ijFqQmC9Ul-I",
    "outputId": "d8289d85-9616-4aac-b50b-0030893f2e8f"
   },
   "outputs": [
    {
     "data": {
      "text/plain": [
       "((68094, 120), (29184, 120))"
      ]
     },
     "execution_count": 14,
     "metadata": {},
     "output_type": "execute_result"
    }
   ],
   "source": [
    "x_normal_train.shape, x_normal_test.shape"
   ]
  },
  {
   "cell_type": "code",
   "execution_count": 15,
   "metadata": {
    "id": "SQLElOnrXdNc"
   },
   "outputs": [],
   "source": [
    "#Scaling the dataset \n",
    "from sklearn.preprocessing import StandardScaler\n",
    "\n",
    "sc = StandardScaler()\n",
    "\n",
    "x_normal_train = sc.fit_transform(x_normal_train)\n",
    "x_normal_test = sc.fit_transform(x_normal_test)\n",
    "x_normal = sc.fit_transform(x_normal)\n",
    "x_attack = sc.fit_transform(x_attack)"
   ]
  },
  {
   "cell_type": "markdown",
   "metadata": {
    "id": "hGz3EXfypegL"
   },
   "source": [
    "We already know that the KDD99 dataset doesn't include timestamps as a feature. So, lets consider simplest approach to making these datapoints into time-domain data i.e., to assume that each datapoint occurs at the timestep immediately after the previous datapoint."
   ]
  },
  {
   "cell_type": "code",
   "execution_count": 16,
   "metadata": {
    "id": "eiPGMrHOYL57"
   },
   "outputs": [],
   "source": [
    "x_normal_train = pd.DataFrame(x_normal_train)\n",
    "x_normal_test = pd.DataFrame(x_normal_test)\n",
    "x_attack = pd.DataFrame(x_attack)\n",
    "x_normal = pd.DataFrame(x_normal)"
   ]
  },
  {
   "cell_type": "code",
   "execution_count": 17,
   "metadata": {
    "id": "mexyPTQ8Tf8Z"
   },
   "outputs": [],
   "source": [
    "#function to convert to time domain dataset\n",
    "def create_dataset(X, time_steps):\n",
    "    Xs = []\n",
    "    for i in range(len(X) - time_steps):\n",
    "        v = X.iloc[i:(i + time_steps)].values\n",
    "        Xs.append(v)\n",
    "    return np.array(Xs)"
   ]
  },
  {
   "cell_type": "code",
   "execution_count": 18,
   "metadata": {
    "colab": {
     "base_uri": "https://localhost:8080/",
     "height": 35
    },
    "id": "jGJNP1LKTf2H",
    "outputId": "d960b18c-28cc-47c8-e11e-5c6dff2d66b9"
   },
   "outputs": [
    {
     "name": "stdout",
     "output_type": "stream",
     "text": [
      "(68093, 1, 120)\n"
     ]
    }
   ],
   "source": [
    "# reshape to [samples, time_steps, n_features]\n",
    "\n",
    "TIME_STEPS = 1\n",
    "Xnormal_train = create_dataset(x_normal_train, TIME_STEPS)\n",
    "print(Xnormal_train.shape)"
   ]
  },
  {
   "cell_type": "code",
   "execution_count": 19,
   "metadata": {
    "colab": {
     "base_uri": "https://localhost:8080/",
     "height": 35
    },
    "id": "vgaJUwHYV0HP",
    "outputId": "eb7b9f28-ecfa-4042-ea1d-8a673e960706"
   },
   "outputs": [
    {
     "name": "stdout",
     "output_type": "stream",
     "text": [
      "(29183, 1, 120)\n"
     ]
    }
   ],
   "source": [
    "Xnormal_test = create_dataset(x_normal_test, TIME_STEPS)\n",
    "print(Xnormal_test.shape)"
   ]
  },
  {
   "cell_type": "code",
   "execution_count": 20,
   "metadata": {
    "colab": {
     "base_uri": "https://localhost:8080/",
     "height": 35
    },
    "id": "dNUaZvSczcLE",
    "outputId": "bb9aeee5-2707-4418-dba0-87010b46b1cb"
   },
   "outputs": [
    {
     "name": "stdout",
     "output_type": "stream",
     "text": [
      "(396742, 1, 120)\n"
     ]
    }
   ],
   "source": [
    "Xattack = create_dataset(x_attack, TIME_STEPS)\n",
    "print(Xattack.shape)"
   ]
  },
  {
   "cell_type": "code",
   "execution_count": 21,
   "metadata": {
    "colab": {
     "base_uri": "https://localhost:8080/",
     "height": 35
    },
    "id": "i6Hx1JaVEQpn",
    "outputId": "9ef10339-5116-413b-d1a0-dab68d456b6b"
   },
   "outputs": [
    {
     "name": "stdout",
     "output_type": "stream",
     "text": [
      "(396742, 1, 120)\n"
     ]
    }
   ],
   "source": [
    "Xnormal = create_dataset(x_normal,TIME_STEPS)\n",
    "print(Xattack.shape)"
   ]
  },
  {
   "cell_type": "markdown",
   "metadata": {
    "id": "s1LwRkvRjUjU"
   },
   "source": [
    "## LSTM Autoencoder Model Architecture:"
   ]
  },
  {
   "cell_type": "code",
   "execution_count": 22,
   "metadata": {
    "colab": {
     "base_uri": "https://localhost:8080/",
     "height": 372
    },
    "id": "oDKT-smgCaOu",
    "outputId": "7d2ecaed-593c-4fbf-cd1b-97d06be7a845"
   },
   "outputs": [
    {
     "name": "stdout",
     "output_type": "stream",
     "text": [
      "Model: \"sequential\"\n",
      "_________________________________________________________________\n",
      "Layer (type)                 Output Shape              Param #   \n",
      "=================================================================\n",
      "lstm (LSTM)                  (None, 64)                47360     \n",
      "_________________________________________________________________\n",
      "dropout (Dropout)            (None, 64)                0         \n",
      "_________________________________________________________________\n",
      "repeat_vector (RepeatVector) (None, 1, 64)             0         \n",
      "_________________________________________________________________\n",
      "lstm_1 (LSTM)                (None, 1, 32)             12416     \n",
      "_________________________________________________________________\n",
      "dropout_1 (Dropout)          (None, 1, 32)             0         \n",
      "_________________________________________________________________\n",
      "time_distributed (TimeDistri (None, 1, 120)            3960      \n",
      "=================================================================\n",
      "Total params: 63,736\n",
      "Trainable params: 63,736\n",
      "Non-trainable params: 0\n",
      "_________________________________________________________________\n"
     ]
    }
   ],
   "source": [
    "model = keras.Sequential()\n",
    "model.add(keras.layers.LSTM(units=64, input_shape=(Xnormal_train.shape[1], Xnormal_train.shape[2])))\n",
    "model.add(keras.layers.Dropout(rate=0.5))\n",
    "model.add(keras.layers.RepeatVector(n=Xnormal_train.shape[1]))\n",
    "model.add(keras.layers.LSTM(units=32, return_sequences=True))\n",
    "model.add(keras.layers.Dropout(rate=0.2))\n",
    "model.add(keras.layers.TimeDistributed(keras.layers.Dense(units=Xnormal_train.shape[2])))\n",
    "\n",
    "model.compile(loss='mae', optimizer='adam', metrics=['accuracy'])\n",
    "model.summary()"
   ]
  },
  {
   "cell_type": "markdown",
   "metadata": {
    "id": "rwif8JwDh2nY"
   },
   "source": [
    "## LSTM Autoencoder Model Training:"
   ]
  },
  {
   "cell_type": "code",
   "execution_count": 23,
   "metadata": {
    "colab": {
     "base_uri": "https://localhost:8080/",
     "height": 570
    },
    "id": "R6ppHeDjlEKI",
    "outputId": "ba059b04-b23f-4e3f-e64b-ab76b0003434"
   },
   "outputs": [
    {
     "name": "stdout",
     "output_type": "stream",
     "text": [
      "Epoch 1/15\n",
      "426/426 [==============================] - 2s 5ms/step - loss: 0.1052 - accuracy: 0.1657 - val_loss: 0.0610 - val_accuracy: 0.2731\n",
      "Epoch 2/15\n",
      "426/426 [==============================] - 2s 4ms/step - loss: 0.0645 - accuracy: 0.3343 - val_loss: 0.0506 - val_accuracy: 0.3526\n",
      "Epoch 3/15\n",
      "426/426 [==============================] - 2s 4ms/step - loss: 0.0592 - accuracy: 0.3601 - val_loss: 0.0475 - val_accuracy: 0.3027\n",
      "Epoch 4/15\n",
      "426/426 [==============================] - 2s 4ms/step - loss: 0.0559 - accuracy: 0.3752 - val_loss: 0.0461 - val_accuracy: 0.3121\n",
      "Epoch 5/15\n",
      "426/426 [==============================] - 1s 4ms/step - loss: 0.0537 - accuracy: 0.3669 - val_loss: 0.0452 - val_accuracy: 0.3125\n",
      "Epoch 6/15\n",
      "426/426 [==============================] - 2s 4ms/step - loss: 0.0524 - accuracy: 0.3701 - val_loss: 0.0449 - val_accuracy: 0.3141\n",
      "Epoch 7/15\n",
      "426/426 [==============================] - 2s 4ms/step - loss: 0.0515 - accuracy: 0.3745 - val_loss: 0.0444 - val_accuracy: 0.3149\n",
      "Epoch 8/15\n",
      "426/426 [==============================] - 2s 4ms/step - loss: 0.0506 - accuracy: 0.3798 - val_loss: 0.0438 - val_accuracy: 0.3314\n",
      "Epoch 9/15\n",
      "426/426 [==============================] - 2s 4ms/step - loss: 0.0499 - accuracy: 0.3975 - val_loss: 0.0427 - val_accuracy: 0.3337\n",
      "Epoch 10/15\n",
      "426/426 [==============================] - 2s 4ms/step - loss: 0.0490 - accuracy: 0.4408 - val_loss: 0.0414 - val_accuracy: 0.4475\n",
      "Epoch 11/15\n",
      "426/426 [==============================] - 2s 4ms/step - loss: 0.0476 - accuracy: 0.4954 - val_loss: 0.0395 - val_accuracy: 0.4446\n",
      "Epoch 12/15\n",
      "426/426 [==============================] - 2s 4ms/step - loss: 0.0467 - accuracy: 0.5070 - val_loss: 0.0387 - val_accuracy: 0.4447\n",
      "Epoch 13/15\n",
      "426/426 [==============================] - 2s 4ms/step - loss: 0.0462 - accuracy: 0.5095 - val_loss: 0.0383 - val_accuracy: 0.4497\n",
      "Epoch 14/15\n",
      "426/426 [==============================] - 2s 4ms/step - loss: 0.0456 - accuracy: 0.5240 - val_loss: 0.0377 - val_accuracy: 0.4931\n",
      "Epoch 15/15\n",
      "426/426 [==============================] - 2s 4ms/step - loss: 0.0453 - accuracy: 0.5418 - val_loss: 0.0373 - val_accuracy: 0.5036\n"
     ]
    }
   ],
   "source": [
    "history = model.fit(\n",
    "    Xnormal_train, Xnormal_train,\n",
    "    epochs=15,\n",
    "    batch_size=128,\n",
    "    validation_split=0.2, \n",
    "    shuffle = False\n",
    ")"
   ]
  },
  {
   "cell_type": "code",
   "execution_count": 24,
   "metadata": {
    "colab": {
     "base_uri": "https://localhost:8080/",
     "height": 266
    },
    "id": "aWaAqcwx4Axp",
    "outputId": "10e0292d-5e02-44c0-fabf-e516ad5a5f00"
   },
   "outputs": [
    {
     "data": {
      "image/png": "[encoded data removed]",
      "text/plain": [
       "<Figure size 432x288 with 1 Axes>"
      ]
     },
     "metadata": {
      "needs_background": "light"
     },
     "output_type": "display_data"
    }
   ],
   "source": [
    "plt.plot(history.history['loss'], label='train')\n",
    "plt.plot(history.history['val_loss'], label='validation')\n",
    "plt.legend();"
   ]
  },
  {
   "cell_type": "markdown",
   "metadata": {
    "id": "hNCyk6cdiEQy"
   },
   "source": [
    "## Model Evaluation:"
   ]
  },
  {
   "cell_type": "code",
   "execution_count": 25,
   "metadata": {
    "colab": {
     "base_uri": "https://localhost:8080/",
     "height": 35
    },
    "id": "7nGehivhNKXt",
    "outputId": "bb3d763e-230c-4db2-8bff-dc76dd86c17b"
   },
   "outputs": [
    {
     "data": {
      "text/plain": [
       "(68093, 120)"
      ]
     },
     "execution_count": 25,
     "metadata": {},
     "output_type": "execute_result"
    }
   ],
   "source": [
    "X_train_pred = model.predict(Xnormal_train)\n",
    "\n",
    "train_mae_loss = np.mean(np.abs(X_train_pred - Xnormal_train), axis=1)\n",
    "train_mae_loss.shape"
   ]
  },
  {
   "cell_type": "code",
   "execution_count": 26,
   "metadata": {
    "colab": {
     "base_uri": "https://localhost:8080/",
     "height": 268
    },
    "id": "vngf35TONPyE",
    "outputId": "67023318-79a0-4c88-afea-a45a9398af29"
   },
   "outputs": [
    {
     "name": "stderr",
     "output_type": "stream",
     "text": [
      "C:\\Users\\sBumS\\anaconda3\\lib\\site-packages\\seaborn\\distributions.py:2551: FutureWarning: `distplot` is a deprecated function and will be removed in a future version. Please adapt your code to use either `displot` (a figure-level function with similar flexibility) or `histplot` (an axes-level function for histograms).\n",
      "  warnings.warn(msg, FutureWarning)\n"
     ]
    },
    {
     "data": {
      "image/png": "[encoded data removed]",
      "text/plain": [
       "<Figure size 432x288 with 1 Axes>"
      ]
     },
     "metadata": {
      "needs_background": "light"
     },
     "output_type": "display_data"
    }
   ],
   "source": [
    "sns.distplot(train_mae_loss, bins=10, kde=True);"
   ]
  },
  {
   "cell_type": "code",
   "execution_count": 27,
   "metadata": {
    "colab": {
     "base_uri": "https://localhost:8080/",
     "height": 35
    },
    "id": "H9bfyAXzNUVX",
    "outputId": "83ca021f-d1a7-49eb-c193-f4aa695f2a54"
   },
   "outputs": [
    {
     "data": {
      "text/plain": [
       "(29183, 120)"
      ]
     },
     "execution_count": 27,
     "metadata": {},
     "output_type": "execute_result"
    }
   ],
   "source": [
    "X_test_pred = model.predict(Xnormal_test)\n",
    "\n",
    "test_mae_loss = np.mean(np.abs(X_test_pred - Xnormal_test), axis=1)\n",
    "test_mae_loss.shape"
   ]
  },
  {
   "cell_type": "code",
   "execution_count": 28,
   "metadata": {
    "colab": {
     "base_uri": "https://localhost:8080/",
     "height": 265
    },
    "id": "C9Hv-Lp7Ohx0",
    "outputId": "a9e18269-96d9-41ce-f222-0178b68e3991"
   },
   "outputs": [
    {
     "name": "stderr",
     "output_type": "stream",
     "text": [
      "C:\\Users\\sBumS\\anaconda3\\lib\\site-packages\\seaborn\\distributions.py:2551: FutureWarning: `distplot` is a deprecated function and will be removed in a future version. Please adapt your code to use either `displot` (a figure-level function with similar flexibility) or `histplot` (an axes-level function for histograms).\n",
      "  warnings.warn(msg, FutureWarning)\n"
     ]
    },
    {
     "data": {
      "image/png": "[encoded data removed]",
      "text/plain": [
       "<Figure size 432x288 with 1 Axes>"
      ]
     },
     "metadata": {
      "needs_background": "light"
     },
     "output_type": "display_data"
    }
   ],
   "source": [
    "sns.distplot(test_mae_loss, bins=10, kde=True);"
   ]
  },
  {
   "cell_type": "code",
   "execution_count": 29,
   "metadata": {
    "colab": {
     "base_uri": "https://localhost:8080/",
     "height": 35
    },
    "id": "XGZLWcy-Oq8a",
    "outputId": "15038a70-515b-4ec0-d77d-58ad2f948542"
   },
   "outputs": [
    {
     "data": {
      "text/plain": [
       "(97277, 120)"
      ]
     },
     "execution_count": 29,
     "metadata": {},
     "output_type": "execute_result"
    }
   ],
   "source": [
    "X_normal_pred = model.predict(Xnormal)\n",
    "\n",
    "normal_mae_loss = np.mean(np.abs(X_normal_pred - Xnormal), axis=1)\n",
    "normal_mae_loss.shape"
   ]
  },
  {
   "cell_type": "code",
   "execution_count": 30,
   "metadata": {
    "colab": {
     "base_uri": "https://localhost:8080/",
     "height": 265
    },
    "id": "rp1Bqz3SO10M",
    "outputId": "541ec672-4871-4be4-972e-b3428f74406d"
   },
   "outputs": [
    {
     "name": "stderr",
     "output_type": "stream",
     "text": [
      "C:\\Users\\sBumS\\anaconda3\\lib\\site-packages\\seaborn\\distributions.py:2551: FutureWarning: `distplot` is a deprecated function and will be removed in a future version. Please adapt your code to use either `displot` (a figure-level function with similar flexibility) or `histplot` (an axes-level function for histograms).\n",
      "  warnings.warn(msg, FutureWarning)\n"
     ]
    },
    {
     "data": {
      "image/png": "[encoded data removed]",
      "text/plain": [
       "<Figure size 432x288 with 1 Axes>"
      ]
     },
     "metadata": {
      "needs_background": "light"
     },
     "output_type": "display_data"
    }
   ],
   "source": [
    "sns.distplot(normal_mae_loss, bins=10, kde=True);"
   ]
  },
  {
   "cell_type": "code",
   "execution_count": 31,
   "metadata": {
    "colab": {
     "base_uri": "https://localhost:8080/",
     "height": 35
    },
    "id": "SSByT_hdO_rI",
    "outputId": "47421e55-f33b-4e06-c3e8-7818f93d0b34"
   },
   "outputs": [
    {
     "data": {
      "text/plain": [
       "(396742, 120)"
      ]
     },
     "execution_count": 31,
     "metadata": {},
     "output_type": "execute_result"
    }
   ],
   "source": [
    "X_attack_pred = model.predict(Xattack)\n",
    "\n",
    "attack_mae_loss = np.mean(np.abs(X_attack_pred - Xattack), axis=1)\n",
    "attack_mae_loss.shape"
   ]
  },
  {
   "cell_type": "code",
   "execution_count": 32,
   "metadata": {
    "colab": {
     "base_uri": "https://localhost:8080/",
     "height": 265
    },
    "id": "jhxKLUoIPAaO",
    "outputId": "85b6f24b-4e46-4f0b-db9d-366cf3c56c89"
   },
   "outputs": [
    {
     "name": "stderr",
     "output_type": "stream",
     "text": [
      "C:\\Users\\sBumS\\anaconda3\\lib\\site-packages\\seaborn\\distributions.py:2551: FutureWarning: `distplot` is a deprecated function and will be removed in a future version. Please adapt your code to use either `displot` (a figure-level function with similar flexibility) or `histplot` (an axes-level function for histograms).\n",
      "  warnings.warn(msg, FutureWarning)\n"
     ]
    },
    {
     "data": {
      "image/png": "[encoded data removed]",
      "text/plain": [
       "<Figure size 432x288 with 1 Axes>"
      ]
     },
     "metadata": {
      "needs_background": "light"
     },
     "output_type": "display_data"
    }
   ],
   "source": [
    "sns.distplot(attack_mae_loss, bins=10, kde=True);"
   ]
  },
  {
   "cell_type": "code",
   "execution_count": 33,
   "metadata": {
    "colab": {
     "base_uri": "https://localhost:8080/",
     "height": 230
    },
    "id": "pt7QwhdLJuvu",
    "outputId": "01b5e8b1-bcb5-4bd3-a32d-bd1288ae8793"
   },
   "outputs": [
    {
     "name": "stdout",
     "output_type": "stream",
     "text": [
      "2128/2128 [==============================] - 7s 3ms/step - loss: 0.0369 - accuracy: 0.5075\n",
      "\n",
      " Sample Loss(MAE) & Accuracy Scores (Train): 0.036869991570711136 0.5074677467346191 \n",
      "\n",
      "912/912 [==============================] - 3s 3ms/step - loss: 0.0476 - accuracy: 0.5065\n",
      "\n",
      "Out of Sample Loss(MAE) & Accuracy Scores (Test): 0.047556862235069275 0.5064592361450195 \n",
      "\n",
      "12399/12399 [==============================] - 44s 4ms/step - loss: 0.1694 - accuracy: 0.0017\n",
      "\n",
      "Attack Underway Loss(MAE) & Accuracy Scores (Anomaly): 0.1693747490644455 0.0017391655128449202 \n",
      "\n"
     ]
    }
   ],
   "source": [
    "score1 = model.evaluate(Xnormal_train, Xnormal_train)\n",
    "print(\"\\n Sample Loss(MAE) & Accuracy Scores (Train):\", score1[0], score1[1], \"\\n\") \n",
    "\n",
    "score2 = model.evaluate(Xnormal_test, Xnormal_test)\n",
    "print(\"\\nOut of Sample Loss(MAE) & Accuracy Scores (Test):\", score2[0], score2[1], \"\\n\") \n",
    "\n",
    "score3 = model.evaluate(Xattack, Xattack)\n",
    "print(\"\\nAttack Underway Loss(MAE) & Accuracy Scores (Anomaly):\", score3[0], score3[1], \"\\n\") "
   ]
  },
  {
   "cell_type": "markdown",
   "metadata": {
    "id": "5SE9ZAAngTZg"
   },
   "source": [
    "**Conclusion:** The accuracy of model prediction on normal train and test sets is almost similarm aroung 0.48. Where as the model accuracy when trained on the anomaly or attack data is 0.0047 which is no way comaprable to the normal data accuracy. \n",
    "\n",
    "It is the same even with the loss, Mean Absolute Error (mae). The normal train and test sets have mae around 0.04 and the anomaly ot attack data has a mae of 0.16. From this we can detect the anomaly if any in the data. "
   ]
  }
 ],
 "metadata": {
  "colab": {
   "collapsed_sections": [],
   "machine_shape": "hm",
   "name": "LSTM Autoencoder for Network Anomaly Detection.ipynb",
   "provenance": [],
   "toc_visible": true
  },
  "kernelspec": {
   "display_name": "Python 3",
   "language": "python",
   "name": "python3"
  },
  "language_info": {
   "codemirror_mode": {
    "name": "ipython",
    "version": 3
   },
   "file_extension": ".py",
   "mimetype": "text/x-python",
   "name": "python",
   "nbconvert_exporter": "python",
   "pygments_lexer": "ipython3",
   "version": "3.8.5"
  }
 },
 "nbformat": 4,
 "nbformat_minor": 1
}
