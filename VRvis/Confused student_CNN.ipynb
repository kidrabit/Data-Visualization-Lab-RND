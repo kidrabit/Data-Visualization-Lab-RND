{
 "cells": [
  {
   "cell_type": "code",
   "execution_count": 114,
   "metadata": {},
   "outputs": [],
   "source": [
    "import keras\n",
    "import seaborn as sns\n",
    "import pandas as pd\n",
    "import numpy as np\n",
    "import matplotlib.pyplot as plt\n",
    "\n",
    "from sklearn.model_selection import train_test_split\n",
    "from sklearn.linear_model import LogisticRegression\n",
    "from sklearn.metrics import classification_report\n",
    "from sklearn.metrics import confusion_matrix\n",
    "from sklearn.preprocessing import StandardScaler\n",
    "from sklearn.neighbors import KNeighborsClassifier\n",
    "\n",
    "from keras.layers import Dense\n",
    "\n",
    "from keras import optimizers\n",
    "from keras.layers import Dense, Activation, Flatten, Conv2D, MaxPooling2D\n",
    "from keras.utils.np_utils import to_categorical\n",
    "\n",
    "%matplotlib inline"
   ]
  },
  {
   "cell_type": "code",
   "execution_count": 115,
   "metadata": {},
   "outputs": [],
   "source": [
    "from numpy import genfromtxt\n",
    "EEG = genfromtxt(\"Confusion during MOOC/EEG_data.csv\", delimiter=\",\")"
   ]
  },
  {
   "cell_type": "code",
   "execution_count": 116,
   "metadata": {},
   "outputs": [],
   "source": [
    "#6의 raw데이터에 이상이 있으므로 6을 제외하고 분석\n",
    "EEG=EEG[1:,:]\n",
    "EEG=pd.DataFrame(EEG)"
   ]
  },
  {
   "cell_type": "code",
   "execution_count": 117,
   "metadata": {},
   "outputs": [
    {
     "name": "stdout",
     "output_type": "stream",
     "text": [
      "(12811, 15) (1275,)\n"
     ]
    }
   ],
   "source": [
    "remove_6=EEG[EEG[0]==6].index\n",
    "print(EEG.shape, remove_6.shape)"
   ]
  },
  {
   "cell_type": "code",
   "execution_count": 118,
   "metadata": {},
   "outputs": [
    {
     "name": "stdout",
     "output_type": "stream",
     "text": [
      "(11536, 15)\n"
     ]
    }
   ],
   "source": [
    "EEG=EEG.drop(remove_6)\n",
    "print(EEG.shape)"
   ]
  },
  {
   "cell_type": "code",
   "execution_count": 119,
   "metadata": {},
   "outputs": [],
   "source": [
    "c_EEG=EEG[EEG[14]==0].index\n",
    "nc_EEG=EEG[EEG[14]==1].index"
   ]
  },
  {
   "cell_type": "code",
   "execution_count": 165,
   "metadata": {},
   "outputs": [],
   "source": [
    "ConfusedEEG=EEG.drop(c_EEG)\n",
    "NonConfusedEEG=EEG.drop(nc_EEG)"
   ]
  },
  {
   "cell_type": "code",
   "execution_count": 166,
   "metadata": {},
   "outputs": [],
   "source": [
    "ConfusedEEG=ConfusedEEG.values\n",
    "NonConfusedEEG=NonConfusedEEG.values"
   ]
  },
  {
   "cell_type": "code",
   "execution_count": 167,
   "metadata": {},
   "outputs": [],
   "source": [
    "import random\n",
    "index=[]\n",
    "for i in range(7) :\n",
    "    index.append(random.randint(0,5606))\n",
    "    \n",
    "NonConfusedEEG=pd.DataFrame(NonConfusedEEG)\n",
    "NonConfusedEEG=NonConfusedEEG.drop(index)\n",
    "NonConfusedEEG=NonConfusedEEG.values"
   ]
  },
  {
   "cell_type": "code",
   "execution_count": 168,
   "metadata": {},
   "outputs": [],
   "source": [
    "index=[]\n",
    "for i in range(29) :\n",
    "    index.append(random.randint(0,5928))\n",
    "    \n",
    "ConfusedEEG=pd.DataFrame(ConfusedEEG)\n",
    "ConfusedEEG=ConfusedEEG.drop(index)\n",
    "ConfusedEEG=ConfusedEEG.values"
   ]
  },
  {
   "cell_type": "code",
   "execution_count": 170,
   "metadata": {},
   "outputs": [
    {
     "name": "stdout",
     "output_type": "stream",
     "text": [
      "(5900, 15) (5600, 15)\n"
     ]
    }
   ],
   "source": [
    "X=ConfusedEEG\n",
    "NX=NonConfusedEEG"
   ]
  },
  {
   "cell_type": "code",
   "execution_count": null,
   "metadata": {},
   "outputs": [],
   "source": [
    "#동영상, raw, 주파수 data 사용\n",
    "X1=pd.DataFrame(X)\n",
    "X1=X1.drop(X1.columns[[0,2,3,13,14]], axis='columns')\n",
    "#사람 정보, raw, 주파수 data 사용\n",
    "X2=pd.DataFrame(X)\n",
    "X2=X2.drop(X2.columns[[1,2,3,13,14]], axis='columns')\n",
    "#동영상, raw, 주파수 data 사용\n",
    "X3=pd.DataFrame(X)\n",
    "X3=X3.drop(X3.columns[[0,2,3,4,13,14]], axis='columns')\n",
    "#사람 정보, 주파수 data 사용\n",
    "X4=pd.DataFrame(X)\n",
    "X4=X4.drop(X4.columns[[1,2,3,4,13,14]], axis='columns')"
   ]
  },
  {
   "cell_type": "code",
   "execution_count": 172,
   "metadata": {},
   "outputs": [],
   "source": [
    "#동영상, raw, 주파수 data 사용\n",
    "NX1=pd.DataFrame(NX)\n",
    "NX1=NX1.drop(NX1.columns[[0,2,3,13,14]], axis='columns')\n",
    "#사람 정보, raw, 주파수 data 사용\n",
    "NX2=pd.DataFrame(NX)\n",
    "NX2=NX2.drop(NX2.columns[[1,2,3,13,14]], axis='columns')\n",
    "#동영상, raw, 주파수 data 사용\n",
    "NX3=pd.DataFrame(NX)\n",
    "NX3=NX3.drop(NX3.columns[[0,2,3,4,13,14]], axis='columns')\n",
    "#사람 정보, 주파수 data 사용\n",
    "NX4=pd.DataFrame(NX)\n",
    "NX4=NX4.drop(NX4.columns[[1,2,3,4,13,14]], axis='columns')"
   ]
  },
  {
   "cell_type": "code",
   "execution_count": 173,
   "metadata": {},
   "outputs": [
    {
     "name": "stdout",
     "output_type": "stream",
     "text": [
      "(5900, 10) (5900, 10) (5900, 9) (5900, 9)\n",
      "(5600, 10) (5600, 10) (5600, 9) (5600, 9)\n"
     ]
    }
   ],
   "source": [
    "X1=X1.values\n",
    "X2=X2.values\n",
    "X3=X3.values\n",
    "X4=X4.values\n",
    "\n",
    "NX1=NX1.values\n",
    "NX2=NX2.values\n",
    "NX3=NX3.values\n",
    "NX4=NX4.values\n",
    "\n",
    "print(X1.shape, X2.shape, X3.shape, X4.shape)\n",
    "print(NX1.shape, NX2.shape, NX3.shape, NX4.shape)"
   ]
  },
  {
   "cell_type": "code",
   "execution_count": 185,
   "metadata": {},
   "outputs": [
    {
     "name": "stdout",
     "output_type": "stream",
     "text": [
      "(5900, 9) (5600, 9)\n"
     ]
    }
   ],
   "source": [
    "#X=X1\n",
    "#X=X2\n",
    "#X=X3\n",
    "X=X4\n",
    "\n",
    "#NX=NX1\n",
    "#NX=NX2\n",
    "#NX=NX3\n",
    "NX=NX4\n",
    "\n",
    "print(X.shape, NX.shape)"
   ]
  },
  {
   "cell_type": "code",
   "execution_count": 186,
   "metadata": {},
   "outputs": [],
   "source": [
    "#정규화\n",
    "from sklearn.preprocessing import MinMaxScaler\n",
    "scaler=MinMaxScaler()\n",
    "X[:]=scaler.fit_transform(X[:])\n",
    "NX[:]=scaler.fit_transform(NX[:])"
   ]
  },
  {
   "cell_type": "code",
   "execution_count": 187,
   "metadata": {},
   "outputs": [
    {
     "name": "stdout",
     "output_type": "stream",
     "text": [
      "(10, 9)\n"
     ]
    }
   ],
   "source": [
    "X = X.reshape(590,10, 9)\n",
    "NX = NX.reshape(560,10, 9)\n",
    "print(X[0].shape)"
   ]
  },
  {
   "cell_type": "code",
   "execution_count": 197,
   "metadata": {},
   "outputs": [
    {
     "data": {
      "image/png": "[encoded data removed]",
      "text/plain": [
       "<Figure size 432x288 with 4 Axes>"
      ]
     },
     "metadata": {
      "needs_background": "light"
     },
     "output_type": "display_data"
    }
   ],
   "source": [
    "plt.subplot(221)\n",
    "plt.imshow(X[1], cmap='gray')\n",
    "\n",
    "plt.subplot(222)\n",
    "plt.imshow(NX[1], cmap='gray')\n",
    "\n",
    "plt.subplot(223)\n",
    "plt.imshow(X[300], cmap='gray')\n",
    "\n",
    "plt.subplot(224)\n",
    "plt.imshow(NX[300], cmap='gray')\n",
    "\n",
    "plt.show()"
   ]
  },
  {
   "cell_type": "code",
   "execution_count": 208,
   "metadata": {},
   "outputs": [
    {
     "name": "stdout",
     "output_type": "stream",
     "text": [
      "(1150, 1)\n"
     ]
    }
   ],
   "source": [
    "label_X= np.zeros((590,1))\n",
    "label_NX=np.ones((560,1))\n",
    "label=np.r_[label_X,label_NX]\n",
    "print(label.shape)"
   ]
  },
  {
   "cell_type": "code",
   "execution_count": 211,
   "metadata": {},
   "outputs": [
    {
     "name": "stdout",
     "output_type": "stream",
     "text": [
      "(1150, 10, 9)\n"
     ]
    }
   ],
   "source": [
    "data=np.r_[X,NX]\n",
    "print(data.shape)"
   ]
  },
  {
   "cell_type": "code",
   "execution_count": 209,
   "metadata": {},
   "outputs": [
    {
     "name": "stdout",
     "output_type": "stream",
     "text": [
      "(1150, 10, 9) (1150, 1)\n"
     ]
    }
   ],
   "source": []
  },
  {
   "cell_type": "code",
   "execution_count": 212,
   "metadata": {},
   "outputs": [],
   "source": [
    "X_train, X_test, y_train, y_test = train_test_split(data, label, test_size=0.3, random_state=14)"
   ]
  },
  {
   "cell_type": "code",
   "execution_count": 214,
   "metadata": {},
   "outputs": [
    {
     "name": "stdout",
     "output_type": "stream",
     "text": [
      "(805, 2) (345, 2)\n"
     ]
    }
   ],
   "source": [
    "from tensorflow.keras import utils as np_utils\n",
    "#one-hot encoding\n",
    "y_train      = np_utils.to_categorical(y_train)\n",
    "y_test       = np_utils.to_categorical(y_test)\n",
    "\n",
    "print(y_train.shape, y_test.shape)"
   ]
  },
  {
   "cell_type": "code",
   "execution_count": 213,
   "metadata": {},
   "outputs": [
    {
     "name": "stdout",
     "output_type": "stream",
     "text": [
      "(805, 10, 9, 1) (345, 10, 9, 1)\n"
     ]
    }
   ],
   "source": [
    "X_train = X_train.reshape(X_train.shape[0], X_train.shape[1], X_train.shape[2],1)\n",
    "X_test = X_test.reshape(X_test.shape[0], X_test.shape[1], X_test.shape[2],1)\n",
    "\n",
    "print(X_train.shape, X_test.shape)"
   ]
  },
  {
   "cell_type": "code",
   "execution_count": 216,
   "metadata": {},
   "outputs": [],
   "source": [
    "from keras.models import Sequential, Model \n",
    "from keras.utils import np_utils\n",
    "from keras.layers import  BatchNormalization,Dense, Conv2D, Convolution2D, MaxPooling2D, Dropout, Flatten, TimeDistributed, InputLayer, LSTM\n",
    "from keras.layers import Input, Reshape, Activation, add, Add\n",
    "from keras.utils.vis_utils import model_to_dot\n",
    "from keras.utils.vis_utils import plot_model"
   ]
  },
  {
   "cell_type": "code",
   "execution_count": 217,
   "metadata": {},
   "outputs": [
    {
     "name": "stdout",
     "output_type": "stream",
     "text": [
      "Model: \"sequential_1\"\n",
      "_________________________________________________________________\n",
      "Layer (type)                 Output Shape              Param #   \n",
      "=================================================================\n",
      "conv2d_1 (Conv2D)            (None, 10, 9, 50)         250       \n",
      "_________________________________________________________________\n",
      "activation_1 (Activation)    (None, 10, 9, 50)         0         \n",
      "_________________________________________________________________\n",
      "conv2d_2 (Conv2D)            (None, 10, 9, 50)         10050     \n",
      "_________________________________________________________________\n",
      "activation_2 (Activation)    (None, 10, 9, 50)         0         \n",
      "_________________________________________________________________\n",
      "max_pooling2d_1 (MaxPooling2 (None, 5, 4, 50)          0         \n",
      "_________________________________________________________________\n",
      "conv2d_3 (Conv2D)            (None, 5, 4, 50)          10050     \n",
      "_________________________________________________________________\n",
      "activation_3 (Activation)    (None, 5, 4, 50)          0         \n",
      "_________________________________________________________________\n",
      "conv2d_4 (Conv2D)            (None, 5, 4, 50)          10050     \n",
      "_________________________________________________________________\n",
      "activation_4 (Activation)    (None, 5, 4, 50)          0         \n",
      "_________________________________________________________________\n",
      "flatten_1 (Flatten)          (None, 1000)              0         \n",
      "_________________________________________________________________\n",
      "dense_1 (Dense)              (None, 50)                50050     \n",
      "_________________________________________________________________\n",
      "dense_2 (Dense)              (None, 2)                 102       \n",
      "=================================================================\n",
      "Total params: 80,552\n",
      "Trainable params: 80,552\n",
      "Non-trainable params: 0\n",
      "_________________________________________________________________\n"
     ]
    }
   ],
   "source": [
    "def basic_cnn():\n",
    "    model = Sequential()\n",
    "\n",
    "    model.add(Conv2D(input_shape = (X_train.shape[1], X_train.shape[2], X_train.shape[3]), filters = 50, kernel_size = (2,2), strides = (1,1), padding = 'same'))\n",
    "    model.add(Activation('relu'))\n",
    "    model.add(Conv2D(filters = 50, kernel_size = (2,2), strides = (1,1), padding = 'same'))\n",
    "    model.add(Activation('relu'))\n",
    "    \n",
    "    model.add(MaxPooling2D(pool_size = (2,2)))\n",
    "    \n",
    "    model.add(Conv2D(filters = 50, kernel_size = (2,2), strides = (1,1), padding = 'same'))\n",
    "    model.add(Activation('relu'))\n",
    "    model.add(Conv2D(filters = 50, kernel_size = (2,2), strides = (1,1), padding = 'same'))\n",
    "    model.add(Activation('relu'))\n",
    "\n",
    "    # prior layer should be flattend to be connected to dense layers\n",
    "    model.add(Flatten())\n",
    "    \n",
    "    \n",
    "    # final layer with 10 neurons to classify the instances\n",
    "    model.add(Dense(50, activation = 'relu'))\n",
    "    \n",
    "    # final layer with 10 neurons to classify the instances\n",
    "    model.add(Dense(2, activation = 'softmax'))\n",
    "\n",
    "    adam = optimizers.Adam(lr = 0.001)\n",
    "    model.compile(loss = 'categorical_crossentropy', optimizer = adam, metrics = ['accuracy'])\n",
    "\n",
    "    return model\n",
    "\n",
    "model = basic_cnn()\n",
    "model.summary()"
   ]
  },
  {
   "cell_type": "code",
   "execution_count": null,
   "metadata": {
    "scrolled": true
   },
   "outputs": [
    {
     "name": "stdout",
     "output_type": "stream",
     "text": [
      "Train on 805 samples, validate on 345 samples\n",
      "Epoch 1/500\n",
      "805/805 [==============================] - 0s 142us/step - loss: 3.6317e-06 - accuracy: 1.0000 - val_loss: 0.4853 - val_accuracy: 0.9623\n",
      "Epoch 2/500\n",
      "805/805 [==============================] - 0s 125us/step - loss: 3.7626e-06 - accuracy: 1.0000 - val_loss: 0.4831 - val_accuracy: 0.9623\n",
      "Epoch 3/500\n",
      "805/805 [==============================] - 0s 125us/step - loss: 3.5888e-06 - accuracy: 1.0000 - val_loss: 0.4863 - val_accuracy: 0.9623\n",
      "Epoch 4/500\n",
      "805/805 [==============================] - 0s 124us/step - loss: 3.5226e-06 - accuracy: 1.0000 - val_loss: 0.4860 - val_accuracy: 0.9623\n",
      "Epoch 5/500\n",
      "805/805 [==============================] - 0s 123us/step - loss: 4.7672e-06 - accuracy: 1.0000 - val_loss: 0.4798 - val_accuracy: 0.9623\n",
      "Epoch 6/500\n",
      "805/805 [==============================] - 0s 123us/step - loss: 4.1541e-06 - accuracy: 1.0000 - val_loss: 0.4908 - val_accuracy: 0.9623\n",
      "Epoch 7/500\n",
      "805/805 [==============================] - 0s 124us/step - loss: 3.4476e-06 - accuracy: 1.0000 - val_loss: 0.4928 - val_accuracy: 0.9623\n",
      "Epoch 8/500\n",
      "805/805 [==============================] - 0s 121us/step - loss: 3.3919e-06 - accuracy: 1.0000 - val_loss: 0.4938 - val_accuracy: 0.9623\n",
      "Epoch 9/500\n",
      "805/805 [==============================] - 0s 125us/step - loss: 3.2871e-06 - accuracy: 1.0000 - val_loss: 0.4925 - val_accuracy: 0.9623\n",
      "Epoch 10/500\n",
      "805/805 [==============================] - 0s 123us/step - loss: 3.1852e-06 - accuracy: 1.0000 - val_loss: 0.4920 - val_accuracy: 0.9623\n",
      "Epoch 11/500\n",
      "805/805 [==============================] - 0s 121us/step - loss: 3.2783e-06 - accuracy: 1.0000 - val_loss: 0.4926 - val_accuracy: 0.9623\n",
      "Epoch 12/500\n",
      "805/805 [==============================] - 0s 123us/step - loss: 3.1095e-06 - accuracy: 1.0000 - val_loss: 0.4947 - val_accuracy: 0.9623\n",
      "Epoch 13/500\n",
      "805/805 [==============================] - 0s 121us/step - loss: 3.3205e-06 - accuracy: 1.0000 - val_loss: 0.4964 - val_accuracy: 0.9623\n",
      "Epoch 14/500\n",
      "805/805 [==============================] - 0s 115us/step - loss: 3.1914e-06 - accuracy: 1.0000 - val_loss: 0.4933 - val_accuracy: 0.9623\n",
      "Epoch 15/500\n",
      "805/805 [==============================] - 0s 121us/step - loss: 2.9965e-06 - accuracy: 1.0000 - val_loss: 0.4958 - val_accuracy: 0.9623\n",
      "Epoch 16/500\n",
      "805/805 [==============================] - 0s 126us/step - loss: 3.0399e-06 - accuracy: 1.0000 - val_loss: 0.4948 - val_accuracy: 0.9623\n",
      "Epoch 17/500\n",
      "805/805 [==============================] - 0s 120us/step - loss: 2.9216e-06 - accuracy: 1.0000 - val_loss: 0.4954 - val_accuracy: 0.9623\n",
      "Epoch 18/500\n",
      "805/805 [==============================] - 0s 121us/step - loss: 2.9311e-06 - accuracy: 1.0000 - val_loss: 0.4963 - val_accuracy: 0.9623\n",
      "Epoch 19/500\n",
      "805/805 [==============================] - 0s 124us/step - loss: 2.9847e-06 - accuracy: 1.0000 - val_loss: 0.4950 - val_accuracy: 0.9623\n",
      "Epoch 20/500\n",
      "805/805 [==============================] - 0s 124us/step - loss: 2.8732e-06 - accuracy: 1.0000 - val_loss: 0.4983 - val_accuracy: 0.9623\n",
      "Epoch 21/500\n",
      "805/805 [==============================] - 0s 120us/step - loss: 2.8403e-06 - accuracy: 1.0000 - val_loss: 0.4993 - val_accuracy: 0.9623\n",
      "Epoch 22/500\n",
      "805/805 [==============================] - 0s 126us/step - loss: 3.0618e-06 - accuracy: 1.0000 - val_loss: 0.5010 - val_accuracy: 0.9623\n",
      "Epoch 23/500\n",
      "805/805 [==============================] - 0s 119us/step - loss: 2.8004e-06 - accuracy: 1.0000 - val_loss: 0.5011 - val_accuracy: 0.9623\n",
      "Epoch 24/500\n",
      "805/805 [==============================] - 0s 124us/step - loss: 2.8242e-06 - accuracy: 1.0000 - val_loss: 0.5033 - val_accuracy: 0.9623\n",
      "Epoch 25/500\n",
      "805/805 [==============================] - 0s 128us/step - loss: 2.7263e-06 - accuracy: 1.0000 - val_loss: 0.5012 - val_accuracy: 0.9623\n",
      "Epoch 26/500\n",
      "805/805 [==============================] - 0s 128us/step - loss: 2.6225e-06 - accuracy: 1.0000 - val_loss: 0.5008 - val_accuracy: 0.9623\n",
      "Epoch 27/500\n",
      "805/805 [==============================] - 0s 123us/step - loss: 2.5906e-06 - accuracy: 1.0000 - val_loss: 0.5019 - val_accuracy: 0.9623\n",
      "Epoch 28/500\n",
      "805/805 [==============================] - 0s 121us/step - loss: 2.5581e-06 - accuracy: 1.0000 - val_loss: 0.5027 - val_accuracy: 0.9623\n",
      "Epoch 29/500\n",
      "805/805 [==============================] - 0s 124us/step - loss: 2.6233e-06 - accuracy: 1.0000 - val_loss: 0.5046 - val_accuracy: 0.9623\n",
      "Epoch 30/500\n",
      "805/805 [==============================] - 0s 123us/step - loss: 2.6247e-06 - accuracy: 1.0000 - val_loss: 0.5018 - val_accuracy: 0.9623\n",
      "Epoch 31/500\n",
      "805/805 [==============================] - ETA: 0s - loss: 1.7747e-06 - accuracy: 1.00 - 0s 120us/step - loss: 2.4509e-06 - accuracy: 1.0000 - val_loss: 0.5044 - val_accuracy: 0.9623\n",
      "Epoch 32/500\n",
      "805/805 [==============================] - 0s 123us/step - loss: 2.4549e-06 - accuracy: 1.0000 - val_loss: 0.5070 - val_accuracy: 0.9623\n",
      "Epoch 33/500\n",
      "805/805 [==============================] - 0s 123us/step - loss: 4.1805e-06 - accuracy: 1.0000 - val_loss: 0.5152 - val_accuracy: 0.9623\n",
      "Epoch 34/500\n",
      "805/805 [==============================] - 0s 125us/step - loss: 2.6648e-06 - accuracy: 1.0000 - val_loss: 0.5036 - val_accuracy: 0.9623\n",
      "Epoch 35/500\n",
      "805/805 [==============================] - 0s 124us/step - loss: 2.4624e-06 - accuracy: 1.0000 - val_loss: 0.5038 - val_accuracy: 0.9623\n",
      "Epoch 36/500\n",
      "805/805 [==============================] - 0s 124us/step - loss: 2.3871e-06 - accuracy: 1.0000 - val_loss: 0.5081 - val_accuracy: 0.9623\n",
      "Epoch 37/500\n",
      "805/805 [==============================] - 0s 131us/step - loss: 2.2978e-06 - accuracy: 1.0000 - val_loss: 0.5087 - val_accuracy: 0.9623\n",
      "Epoch 38/500\n",
      "805/805 [==============================] - 0s 131us/step - loss: 2.2636e-06 - accuracy: 1.0000 - val_loss: 0.5080 - val_accuracy: 0.9623\n",
      "Epoch 39/500\n",
      "805/805 [==============================] - 0s 128us/step - loss: 2.2479e-06 - accuracy: 1.0000 - val_loss: 0.5090 - val_accuracy: 0.9623\n",
      "Epoch 40/500\n",
      "805/805 [==============================] - 0s 130us/step - loss: 2.2020e-06 - accuracy: 1.0000 - val_loss: 0.5085 - val_accuracy: 0.9623\n",
      "Epoch 41/500\n",
      "805/805 [==============================] - 0s 124us/step - loss: 2.1902e-06 - accuracy: 1.0000 - val_loss: 0.5091 - val_accuracy: 0.9623\n",
      "Epoch 42/500\n",
      "805/805 [==============================] - 0s 124us/step - loss: 2.1575e-06 - accuracy: 1.0000 - val_loss: 0.5105 - val_accuracy: 0.9623\n",
      "Epoch 43/500\n",
      "805/805 [==============================] - 0s 123us/step - loss: 2.1464e-06 - accuracy: 1.0000 - val_loss: 0.5110 - val_accuracy: 0.9623\n",
      "Epoch 44/500\n",
      "805/805 [==============================] - 0s 124us/step - loss: 2.1089e-06 - accuracy: 1.0000 - val_loss: 0.5121 - val_accuracy: 0.9623\n",
      "Epoch 45/500\n",
      "805/805 [==============================] - 0s 124us/step - loss: 2.0753e-06 - accuracy: 1.0000 - val_loss: 0.5118 - val_accuracy: 0.9623\n",
      "Epoch 46/500\n",
      "805/805 [==============================] - 0s 120us/step - loss: 2.0562e-06 - accuracy: 1.0000 - val_loss: 0.5126 - val_accuracy: 0.9623\n",
      "Epoch 47/500\n",
      "805/805 [==============================] - 0s 121us/step - loss: 2.0408e-06 - accuracy: 1.0000 - val_loss: 0.5118 - val_accuracy: 0.9623\n",
      "Epoch 48/500\n",
      "805/805 [==============================] - 0s 126us/step - loss: 2.0010e-06 - accuracy: 1.0000 - val_loss: 0.5132 - val_accuracy: 0.9623\n",
      "Epoch 49/500\n",
      "805/805 [==============================] - 0s 131us/step - loss: 2.0128e-06 - accuracy: 1.0000 - val_loss: 0.5142 - val_accuracy: 0.9623\n",
      "Epoch 50/500\n",
      "805/805 [==============================] - 0s 126us/step - loss: 2.0261e-06 - accuracy: 1.0000 - val_loss: 0.5147 - val_accuracy: 0.9623\n",
      "Epoch 51/500\n",
      "805/805 [==============================] - 0s 125us/step - loss: 1.9808e-06 - accuracy: 1.0000 - val_loss: 0.5157 - val_accuracy: 0.9623\n",
      "Epoch 52/500\n",
      "805/805 [==============================] - 0s 123us/step - loss: 1.9371e-06 - accuracy: 1.0000 - val_loss: 0.5162 - val_accuracy: 0.9623\n",
      "Epoch 53/500\n",
      "805/805 [==============================] - 0s 135us/step - loss: 1.9263e-06 - accuracy: 1.0000 - val_loss: 0.5179 - val_accuracy: 0.9623\n",
      "Epoch 54/500\n",
      "805/805 [==============================] - 0s 135us/step - loss: 1.8933e-06 - accuracy: 1.0000 - val_loss: 0.5175 - val_accuracy: 0.9623\n",
      "Epoch 55/500\n"
     ]
    },
    {
     "name": "stdout",
     "output_type": "stream",
     "text": [
      "805/805 [==============================] - 0s 124us/step - loss: 1.8610e-06 - accuracy: 1.0000 - val_loss: 0.5175 - val_accuracy: 0.9623\n",
      "Epoch 56/500\n",
      "805/805 [==============================] - 0s 123us/step - loss: 1.8699e-06 - accuracy: 1.0000 - val_loss: 0.5188 - val_accuracy: 0.9623\n",
      "Epoch 57/500\n",
      "805/805 [==============================] - 0s 120us/step - loss: 1.9026e-06 - accuracy: 1.0000 - val_loss: 0.5161 - val_accuracy: 0.9623\n",
      "Epoch 58/500\n",
      "805/805 [==============================] - 0s 125us/step - loss: 1.8640e-06 - accuracy: 1.0000 - val_loss: 0.5218 - val_accuracy: 0.9623\n",
      "Epoch 59/500\n",
      "805/805 [==============================] - 0s 125us/step - loss: 1.8791e-06 - accuracy: 1.0000 - val_loss: 0.5208 - val_accuracy: 0.9623\n",
      "Epoch 60/500\n",
      "805/805 [==============================] - 0s 125us/step - loss: 1.7820e-06 - accuracy: 1.0000 - val_loss: 0.5177 - val_accuracy: 0.9623\n",
      "Epoch 61/500\n",
      "805/805 [==============================] - 0s 129us/step - loss: 1.7538e-06 - accuracy: 1.0000 - val_loss: 0.5186 - val_accuracy: 0.9623\n",
      "Epoch 62/500\n",
      "805/805 [==============================] - 0s 120us/step - loss: 1.7642e-06 - accuracy: 1.0000 - val_loss: 0.5193 - val_accuracy: 0.9623\n",
      "Epoch 63/500\n",
      "805/805 [==============================] - 0s 126us/step - loss: 1.8649e-06 - accuracy: 1.0000 - val_loss: 0.5156 - val_accuracy: 0.9623\n",
      "Epoch 64/500\n",
      "805/805 [==============================] - 0s 113us/step - loss: 1.7272e-06 - accuracy: 1.0000 - val_loss: 0.5196 - val_accuracy: 0.9623\n",
      "Epoch 65/500\n",
      "805/805 [==============================] - 0s 145us/step - loss: 1.6690e-06 - accuracy: 1.0000 - val_loss: 0.5224 - val_accuracy: 0.9623\n",
      "Epoch 66/500\n",
      "600/805 [=====================>........] - ETA: 0s - loss: 1.4308e-06 - accuracy: 1.0000"
     ]
    }
   ],
   "source": [
    "hist=model.fit(X_train, y_train, epochs=500, batch_size=50, validation_data=(X_test,y_test))"
   ]
  },
  {
   "cell_type": "code",
   "execution_count": null,
   "metadata": {
    "scrolled": true
   },
   "outputs": [],
   "source": [
    "%matplotlib inline\n",
    "import matplotlib.pyplot as plt\n",
    "\n",
    "fig, loss_ax = plt.subplots()\n",
    "\n",
    "acc_ax = loss_ax.twinx()\n",
    "\n",
    "loss_ax.plot(hist.history['loss'], 'y', label='train loss')\n",
    "loss_ax.plot(hist.history['val_loss'], 'r', label='val loss')\n",
    "\n",
    "acc_ax.plot(hist.history['accuracy'], 'b', label='train acc')\n",
    "acc_ax.plot(hist.history['val_accuracy'], 'g', label='val acc')\n",
    "\n",
    "loss_ax.set_xlabel('epoch')\n",
    "loss_ax.set_ylabel('loss')\n",
    "acc_ax.set_ylabel('accuray')\n",
    "\n",
    "loss_ax.legend(loc='upper left')\n",
    "acc_ax.legend(loc='lower left')\n",
    "\n",
    "plt.show()\n",
    "\n",
    "results = model.evaluate(X_test, y_test)\n",
    "print('Test accuracy: ', results[1])"
   ]
  }
 ],
 "metadata": {
  "kernelspec": {
   "display_name": "env",
   "language": "python",
   "name": "env"
  },
  "language_info": {
   "codemirror_mode": {
    "name": "ipython",
    "version": 3
   },
   "file_extension": ".py",
   "mimetype": "text/x-python",
   "name": "python",
   "nbconvert_exporter": "python",
   "pygments_lexer": "ipython3",
   "version": "3.7.7"
  }
 },
 "nbformat": 4,
 "nbformat_minor": 4
}
