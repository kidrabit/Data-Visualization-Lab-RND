{
 "cells": [
  {
   "cell_type": "code",
   "execution_count": 1,
   "metadata": {},
   "outputs": [
    {
     "name": "stdout",
     "output_type": "stream",
     "text": [
      "Requirement already satisfied: mne in c:\\anaconda3\\envs\\env\\lib\\site-packages (0.20.8)\n",
      "Requirement already satisfied: scipy>=0.17.1 in c:\\anaconda3\\envs\\env\\lib\\site-packages (from mne) (1.4.1)\n",
      "Requirement already satisfied: numpy>=1.11.3 in c:\\anaconda3\\envs\\env\\lib\\site-packages (from mne) (1.18.5)\n",
      "Note: you may need to restart the kernel to use updated packages.\n"
     ]
    }
   ],
   "source": [
    "pip install mne"
   ]
  },
  {
   "cell_type": "code",
   "execution_count": 2,
   "metadata": {},
   "outputs": [],
   "source": [
    "import keras\n",
    "import pandas as pd\n",
    "import numpy as np\n",
    "import mne\n",
    "import matplotlib.pyplot as plt\n",
    "\n",
    "from sklearn.preprocessing import MinMaxScaler\n",
    "from keras.utils import np_utils\n",
    "from keras.utils.np_utils import to_categorical\n",
    "\n",
    "from sklearn.model_selection import train_test_split\n",
    "from keras.layers import Input, Reshape, Activation, add, Add\n",
    "from keras.layers import  BatchNormalization,Dense, Conv2D, Convolution2D, MaxPooling2D, Dropout, Flatten, TimeDistributed, InputLayer, LSTM\n",
    "from keras.models import Sequential, Model \n",
    "from keras import optimizers\n",
    "\n",
    "from keras import backend as K\n",
    "from sklearn.metrics import recall_score \n",
    "from sklearn.metrics import precision_score \n",
    "from sklearn.metrics import f1_score \n",
    "\n",
    "%matplotlib inline"
   ]
  },
  {
   "cell_type": "code",
   "execution_count": 3,
   "metadata": {},
   "outputs": [],
   "source": [
    "def recall(y_target, y_pred):\n",
    "    y_target_yn = K.round(K.clip(y_target, 0, 1))\n",
    "    y_pred_yn = K.round(K.clip(y_pred, 0, 1))\n",
    "    count_true_positive = K.sum(y_target_yn * y_pred_yn) \n",
    "    count_true_positive_false_negative = K.sum(y_target_yn)\n",
    "    recall = count_true_positive / (count_true_positive_false_negative + K.epsilon())\n",
    "    return recall\n",
    "\n",
    "\n",
    "def precision(y_target, y_pred):\n",
    "    y_pred_yn = K.round(K.clip(y_pred, 0, 1))\n",
    "    y_target_yn = K.round(K.clip(y_target, 0, 1))\n",
    "    count_true_positive = K.sum(y_target_yn * y_pred_yn)\n",
    "    count_true_positive_false_positive = K.sum(y_pred_yn)\n",
    "    precision = count_true_positive / (count_true_positive_false_positive + K.epsilon())\n",
    "    return precision\n",
    "\n",
    "\n",
    "def f1score(y_target, y_pred):\n",
    "    _recall = recall(y_target, y_pred)\n",
    "    _precision = precision(y_target, y_pred)\n",
    "    _f1score = ( 2 * _recall * _precision) / (_recall + _precision+ K.epsilon())\n",
    "    return _f1score"
   ]
  },
  {
   "cell_type": "code",
   "execution_count": 4,
   "metadata": {},
   "outputs": [],
   "source": [
    "def reshapeLinearData(eeg):\n",
    "    data=[]\n",
    "    data=np.r_[eeg[0],eeg[1]]\n",
    "    for i in range(2,len(eeg)):\n",
    "        data=np.r_[data,eeg[i]]\n",
    "    return data"
   ]
  },
  {
   "cell_type": "code",
   "execution_count": 5,
   "metadata": {},
   "outputs": [],
   "source": [
    "def getData(src) :\n",
    "    data = mne.io.read_raw_edf(src)\n",
    "    raw_data = data.get_data()\n",
    "    #info = data.info\n",
    "    #channels = data.ch_names\n",
    "    raw_data=raw_data[2:16]\n",
    "    return raw_data#, info, channels"
   ]
  },
  {
   "cell_type": "code",
   "execution_count": 6,
   "metadata": {},
   "outputs": [],
   "source": [
    "def drawGraph(hist, X_test, y_test) :\n",
    "    fig, loss_ax = plt.subplots()\n",
    "\n",
    "    acc_ax = loss_ax.twinx()\n",
    "\n",
    "    loss_ax.plot(hist.history['loss'], 'y', label='train loss')\n",
    "    loss_ax.plot(hist.history['val_loss'], 'r', label='val loss')\n",
    "\n",
    "    acc_ax.plot(hist.history['accuracy'], 'b', label='train acc')\n",
    "    acc_ax.plot(hist.history['val_accuracy'], 'g', label='val acc')\n",
    "\n",
    "    loss_ax.set_xlabel('epoch')\n",
    "    loss_ax.set_ylabel('loss')\n",
    "    acc_ax.set_ylabel('accuray')\n",
    "\n",
    "    loss_ax.legend(loc='upper left')\n",
    "    acc_ax.legend(loc='lower left')\n",
    "\n",
    "    plt.show()\n",
    "    return\n",
    "\n",
    "def drawGraph2(hist, X_test, y_test) :\n",
    "    fig, rec_ax = plt.subplots()\n",
    "\n",
    "    pre_ax = rec_ax.twinx()\n",
    "\n",
    "    rec_ax.plot(hist.history['recall'], 'y', label='train recall')\n",
    "    rec_ax.plot(hist.history['val_recall'], 'r', label='val recall')\n",
    "\n",
    "    pre_ax.plot(hist.history['precision'], 'b', label='train precision')\n",
    "    pre_ax.plot(hist.history['val_precision'], 'g', label='val precision')\n",
    "\n",
    "    rec_ax.set_xlabel('epoch')\n",
    "    rec_ax.set_ylabel('recall')\n",
    "    pre_ax.set_ylabel('precision')\n",
    "\n",
    "    rec_ax.legend(loc='upper left')\n",
    "    pre_ax.legend(loc='lower left')\n",
    "    \n",
    "    _loss, _acc, _precision, _recall, _f1score = model.evaluate(X_test, y_test)\n",
    "    print('loss: {:.3f}, accuracy: {:.3f}, precision: {:.3f}, recall: {:.3f}, f1score: {:.3f}'.format(_loss, _acc, _precision, _recall, _f1score))\n",
    "\n",
    "    plt.show()\n",
    "    return"
   ]
  },
  {
   "cell_type": "code",
   "execution_count": 68,
   "metadata": {},
   "outputs": [],
   "source": [
    "def filterData(df) :\n",
    "    df=pd.DataFrame(df)\n",
    "    for i in range(0,14) :\n",
    "        idx=df[df[i] > 5].index\n",
    "        df=df.drop(idx)\n",
    "    return df"
   ]
  },
  {
   "cell_type": "code",
   "execution_count": 7,
   "metadata": {},
   "outputs": [
    {
     "name": "stdout",
     "output_type": "stream",
     "text": [
      "Extracting EDF parameters from C:\\Cognitive-Mental-workload-EEG-Data\\S01\\1-Back\\S01-01-25.09.2016.10.21.24.edf...\n",
      "EDF file detected\n",
      "Setting channel info structure...\n",
      "Creating raw.info structure...\n",
      "Extracting EDF parameters from C:\\Cognitive-Mental-workload-EEG-Data\\S01\\2-Back\\S01-01-25.09.2016.10.27.55.edf...\n",
      "EDF file detected\n",
      "Setting channel info structure...\n",
      "Creating raw.info structure...\n",
      "Extracting EDF parameters from C:\\Cognitive-Mental-workload-EEG-Data\\S01\\Dual-1-Back\\S01-01-25.09.2016.10.35.36.edf...\n",
      "EDF file detected\n",
      "Setting channel info structure...\n",
      "Creating raw.info structure...\n",
      "Extracting EDF parameters from C:\\Cognitive-Mental-workload-EEG-Data\\S01\\Dual-2-Back\\S01-01-25.09.2016.10.45.01.edf...\n",
      "EDF file detected\n",
      "Setting channel info structure...\n",
      "Creating raw.info structure...\n",
      "Extracting EDF parameters from C:\\Cognitive-Mental-workload-EEG-Data\\S01\\Idle\\S01-01-25.09.2016.10.52.46.edf...\n",
      "EDF file detected\n",
      "Setting channel info structure...\n",
      "Creating raw.info structure...\n"
     ]
    }
   ],
   "source": [
    "S01_1_Back=getData(\"C:/Cognitive-Mental-workload-EEG-Data/S01/1-Back/S01-01-25.09.2016.10.21.24.edf\")\n",
    "S01_2_Back=getData(\"C:/Cognitive-Mental-workload-EEG-Data/S01/2-Back/S01-01-25.09.2016.10.27.55.edf\")\n",
    "S01_Dual_1_Back=getData(\"C:/Cognitive-Mental-workload-EEG-Data/S01/Dual-1-Back/S01-01-25.09.2016.10.35.36.edf\")\n",
    "S01_Dual_2_Back=getData(\"C:/Cognitive-Mental-workload-EEG-Data/S01/Dual-2-Back/S01-01-25.09.2016.10.45.01.edf\")\n",
    "S01_Idle=getData(\"C:/Cognitive-Mental-workload-EEG-Data/S01/Idle/S01-01-25.09.2016.10.52.46.edf\")"
   ]
  },
  {
   "cell_type": "code",
   "execution_count": 8,
   "metadata": {},
   "outputs": [
    {
     "name": "stdout",
     "output_type": "stream",
     "text": [
      "Extracting EDF parameters from C:\\Cognitive-Mental-workload-EEG-Data\\S02\\1-Back\\S02-01-25.09.2016.11.25.53.edf...\n",
      "EDF file detected\n",
      "Setting channel info structure...\n",
      "Creating raw.info structure...\n",
      "Extracting EDF parameters from C:\\Cognitive-Mental-workload-EEG-Data\\S02\\2-Back\\S02-01-25.09.2016.11.58.29.edf...\n",
      "EDF file detected\n",
      "Setting channel info structure...\n",
      "Creating raw.info structure...\n",
      "Extracting EDF parameters from C:\\Cognitive-Mental-workload-EEG-Data\\S02\\Dual-1-Back\\S02-01-25.09.2016.11.42.51.edf...\n",
      "EDF file detected\n",
      "Setting channel info structure...\n",
      "Creating raw.info structure...\n",
      "Extracting EDF parameters from C:\\Cognitive-Mental-workload-EEG-Data\\S02\\Dual-2-Back\\S02-01-25.09.2016.11.53.46.edf...\n",
      "EDF file detected\n",
      "Setting channel info structure...\n",
      "Creating raw.info structure...\n",
      "Extracting EDF parameters from C:\\Cognitive-Mental-workload-EEG-Data\\S02\\Idle\\S02-01-25.09.2016.11.12.43.edf...\n",
      "EDF file detected\n",
      "Setting channel info structure...\n",
      "Creating raw.info structure...\n"
     ]
    }
   ],
   "source": [
    "S02_1_Back=getData(\"C:/Cognitive-Mental-workload-EEG-Data/S02/1-Back/S02-01-25.09.2016.11.25.53.edf\")\n",
    "S02_2_Back=getData(\"C:/Cognitive-Mental-workload-EEG-Data/S02/2-Back/S02-01-25.09.2016.11.58.29.edf\")\n",
    "S02_Dual_1_Back=getData(\"C:/Cognitive-Mental-workload-EEG-Data/S02/Dual-1-Back/S02-01-25.09.2016.11.42.51.edf\")\n",
    "S02_Dual_2_Back=getData(\"C:/Cognitive-Mental-workload-EEG-Data/S02/Dual-2-Back/S02-01-25.09.2016.11.53.46.edf\")\n",
    "S02_Idle=getData(\"C:/Cognitive-Mental-workload-EEG-Data/S02/Idle/S02-01-25.09.2016.11.12.43.edf\")"
   ]
  },
  {
   "cell_type": "code",
   "execution_count": 9,
   "metadata": {},
   "outputs": [
    {
     "name": "stdout",
     "output_type": "stream",
     "text": [
      "Extracting EDF parameters from C:\\Cognitive-Mental-workload-EEG-Data\\S03\\1-Back\\S03-01-25.09.2016.12.18.39.edf...\n",
      "EDF file detected\n",
      "Setting channel info structure...\n",
      "Creating raw.info structure...\n",
      "Extracting EDF parameters from C:\\Cognitive-Mental-workload-EEG-Data\\S03\\2-Back\\S03-01-25.09.2016.12.23.01.edf...\n",
      "EDF file detected\n",
      "Setting channel info structure...\n",
      "Creating raw.info structure...\n",
      "Extracting EDF parameters from C:\\Cognitive-Mental-workload-EEG-Data\\S03\\Dual-1-Back\\S03-01-25.09.2016.12.27.56.edf...\n",
      "EDF file detected\n",
      "Setting channel info structure...\n",
      "Creating raw.info structure...\n",
      "Extracting EDF parameters from C:\\Cognitive-Mental-workload-EEG-Data\\S03\\Dual-2-Back\\S03-01-25.09.2016.12.32.14.edf...\n",
      "EDF file detected\n",
      "Setting channel info structure...\n",
      "Creating raw.info structure...\n",
      "Extracting EDF parameters from C:\\Cognitive-Mental-workload-EEG-Data\\S03\\Idle\\S03-01-25.09.2016.12.37.32.edf...\n",
      "EDF file detected\n",
      "Setting channel info structure...\n",
      "Creating raw.info structure...\n"
     ]
    }
   ],
   "source": [
    "S03_1_Back=getData(\"C:/Cognitive-Mental-workload-EEG-Data/S03/1-Back/S03-01-25.09.2016.12.18.39.edf\")\n",
    "S03_2_Back=getData(\"C:/Cognitive-Mental-workload-EEG-Data/S03/2-Back/S03-01-25.09.2016.12.23.01.edf\")\n",
    "S03_Dual_1_Back=getData(\"C:/Cognitive-Mental-workload-EEG-Data/S03/Dual-1-Back/S03-01-25.09.2016.12.27.56.edf\")\n",
    "S03_Dual_2_Back=getData(\"C:/Cognitive-Mental-workload-EEG-Data/S03/Dual-2-Back/S03-01-25.09.2016.12.32.14.edf\")\n",
    "S03_Idle=getData(\"C:/Cognitive-Mental-workload-EEG-Data/S03/Idle/S03-01-25.09.2016.12.37.32.edf\")"
   ]
  },
  {
   "cell_type": "code",
   "execution_count": 10,
   "metadata": {},
   "outputs": [
    {
     "name": "stdout",
     "output_type": "stream",
     "text": [
      "Extracting EDF parameters from C:\\Cognitive-Mental-workload-EEG-Data\\S04\\1-Back\\S04-01-27.09.2016.17.32.39.edf...\n",
      "EDF file detected\n",
      "Setting channel info structure...\n",
      "Creating raw.info structure...\n",
      "Extracting EDF parameters from C:\\Cognitive-Mental-workload-EEG-Data\\S04\\1-Back\\S04-01-27.09.2016.17.34.40.edf...\n",
      "EDF file detected\n",
      "Setting channel info structure...\n",
      "Creating raw.info structure...\n",
      "Extracting EDF parameters from C:\\Cognitive-Mental-workload-EEG-Data\\S04\\2-Back\\S04-01-27.09.2016.17.38.23.edf...\n",
      "EDF file detected\n",
      "Setting channel info structure...\n",
      "Creating raw.info structure...\n",
      "Extracting EDF parameters from C:\\Cognitive-Mental-workload-EEG-Data\\S04\\Dual-1-Back\\S04-01-27.09.2016.17.43.22.edf...\n",
      "EDF file detected\n",
      "Setting channel info structure...\n",
      "Creating raw.info structure...\n",
      "Extracting EDF parameters from C:\\Cognitive-Mental-workload-EEG-Data\\S04\\Dual-2-Back\\S04-01-27.09.2016.17.46.53.edf...\n",
      "EDF file detected\n",
      "Setting channel info structure...\n",
      "Creating raw.info structure...\n",
      "Extracting EDF parameters from C:\\Cognitive-Mental-workload-EEG-Data\\S04\\Idle\\S04-01-27.09.2016.17.51.54.edf...\n",
      "EDF file detected\n",
      "Setting channel info structure...\n",
      "Creating raw.info structure...\n"
     ]
    }
   ],
   "source": [
    "S04_1_Back_1=getData(\"C:/Cognitive-Mental-workload-EEG-Data/S04/1-Back/S04-01-27.09.2016.17.32.39.edf\")\n",
    "S04_1_Back_2=getData(\"C:/Cognitive-Mental-workload-EEG-Data/S04/1-Back/S04-01-27.09.2016.17.34.40.edf\")\n",
    "S04_2_Back=getData(\"C:/Cognitive-Mental-workload-EEG-Data/S04/2-Back/S04-01-27.09.2016.17.38.23.edf\")\n",
    "S04_Dual_1_Back=getData(\"C:/Cognitive-Mental-workload-EEG-Data/S04/Dual-1-Back/S04-01-27.09.2016.17.43.22.edf\")\n",
    "S04_Dual_2_Back=getData(\"C:/Cognitive-Mental-workload-EEG-Data/S04/Dual-2-Back/S04-01-27.09.2016.17.46.53.edf\")\n",
    "S04_Idle=getData(\"C:/Cognitive-Mental-workload-EEG-Data/S04/Idle/S04-01-27.09.2016.17.51.54.edf\")"
   ]
  },
  {
   "cell_type": "code",
   "execution_count": 11,
   "metadata": {},
   "outputs": [
    {
     "name": "stdout",
     "output_type": "stream",
     "text": [
      "Extracting EDF parameters from C:\\Cognitive-Mental-workload-EEG-Data\\S05\\1-Back\\S05-01-27.09.2016.18.08.39.edf...\n",
      "EDF file detected\n",
      "Setting channel info structure...\n",
      "Creating raw.info structure...\n",
      "Extracting EDF parameters from C:\\Cognitive-Mental-workload-EEG-Data\\S05\\2-Back\\S05-01-27.09.2016.18.12.18.edf...\n",
      "EDF file detected\n",
      "Setting channel info structure...\n",
      "Creating raw.info structure...\n",
      "Extracting EDF parameters from C:\\Cognitive-Mental-workload-EEG-Data\\S05\\Dual-1-Back\\S05-01-27.09.2016.18.16.18.edf...\n",
      "EDF file detected\n",
      "Setting channel info structure...\n",
      "Creating raw.info structure...\n",
      "Extracting EDF parameters from C:\\Cognitive-Mental-workload-EEG-Data\\S05\\Dual-2-Back\\S05-01-27.09.2016.18.20.17.edf...\n",
      "EDF file detected\n",
      "Setting channel info structure...\n",
      "Creating raw.info structure...\n",
      "Extracting EDF parameters from C:\\Cognitive-Mental-workload-EEG-Data\\S05\\Idle\\S05-01-27.09.2016.18.24.46.edf...\n",
      "EDF file detected\n",
      "Setting channel info structure...\n",
      "Creating raw.info structure...\n"
     ]
    }
   ],
   "source": [
    "S05_1_Back=getData(\"C:/Cognitive-Mental-workload-EEG-Data/S05/1-Back/S05-01-27.09.2016.18.08.39.edf\")\n",
    "S05_2_Back=getData(\"C:/Cognitive-Mental-workload-EEG-Data/S05/2-Back/S05-01-27.09.2016.18.12.18.edf\")\n",
    "S05_Dual_1_Back=getData(\"C:/Cognitive-Mental-workload-EEG-Data/S05/Dual-1-Back/S05-01-27.09.2016.18.16.18.edf\")\n",
    "S05_Dual_2_Back=getData(\"C:/Cognitive-Mental-workload-EEG-Data/S05/Dual-2-Back/S05-01-27.09.2016.18.20.17.edf\")\n",
    "S05_Idle=getData(\"C:/Cognitive-Mental-workload-EEG-Data/S05/Idle/S05-01-27.09.2016.18.24.46.edf\")"
   ]
  },
  {
   "cell_type": "code",
   "execution_count": 12,
   "metadata": {},
   "outputs": [],
   "source": [
    "S01_1_Back=S01_1_Back.T\n",
    "S01_2_Back=S01_2_Back.T\n",
    "S01_Dual_1_Back=S01_Dual_1_Back.T\n",
    "S01_Dual_2_Back=S01_Dual_2_Back.T\n",
    "S01_Idle=S01_Idle.T\n",
    "\n",
    "S02_1_Back=S02_1_Back.T\n",
    "S02_2_Back=S02_2_Back.T\n",
    "S02_Dual_1_Back=S02_Dual_1_Back.T\n",
    "S02_Dual_2_Back=S02_Dual_2_Back.T\n",
    "S02_Idle=S02_Idle.T\n",
    "\n",
    "S03_1_Back=S03_1_Back.T\n",
    "S03_2_Back=S03_2_Back.T\n",
    "S03_Dual_1_Back=S03_Dual_1_Back.T\n",
    "S03_Dual_2_Back=S03_Dual_2_Back.T\n",
    "S03_Idle=S03_Idle.T\n",
    "\n",
    "S04_1_Back_1=S04_1_Back_1.T\n",
    "S04_1_Back_2=S04_1_Back_2.T\n",
    "S04_2_Back=S04_2_Back.T\n",
    "S04_Dual_1_Back=S04_Dual_1_Back.T\n",
    "S04_Dual_2_Back=S04_Dual_2_Back.T\n",
    "S04_Idle=S04_Idle.T\n",
    "\n",
    "S05_1_Back=S05_1_Back.T\n",
    "S05_2_Back=S05_2_Back.T\n",
    "S05_Dual_1_Back=S05_Dual_1_Back.T\n",
    "S05_Dual_2_Back=S05_Dual_2_Back.T\n",
    "S05_Idle=S05_Idle.T"
   ]
  },
  {
   "cell_type": "code",
   "execution_count": 13,
   "metadata": {},
   "outputs": [],
   "source": [
    "Back_1=np.r_[S01_1_Back,S02_1_Back]\n",
    "Back_1=np.r_[Back_1,S03_1_Back]\n",
    "Back_1=np.r_[Back_1,S04_1_Back_1]\n",
    "Back_1=np.r_[Back_1,S04_1_Back_2]\n",
    "Back_1=np.r_[Back_1,S05_1_Back]"
   ]
  },
  {
   "cell_type": "code",
   "execution_count": 14,
   "metadata": {},
   "outputs": [],
   "source": [
    "Back_2=np.r_[S01_2_Back,S02_2_Back]\n",
    "Back_2=np.r_[Back_2,S03_2_Back]\n",
    "Back_2=np.r_[Back_2,S04_2_Back]\n",
    "Back_2=np.r_[Back_2,S05_2_Back]"
   ]
  },
  {
   "cell_type": "code",
   "execution_count": 15,
   "metadata": {},
   "outputs": [],
   "source": [
    "Dual_1_Back=np.r_[S01_Dual_1_Back,S02_Dual_1_Back]\n",
    "Dual_1_Back=np.r_[Dual_1_Back,S03_Dual_1_Back]\n",
    "Dual_1_Back=np.r_[Dual_1_Back,S04_Dual_1_Back]\n",
    "Dual_1_Back=np.r_[Dual_1_Back,S05_Dual_1_Back]"
   ]
  },
  {
   "cell_type": "code",
   "execution_count": 16,
   "metadata": {},
   "outputs": [],
   "source": [
    "Dual_2_Back=np.r_[S01_Dual_2_Back,S02_Dual_2_Back]\n",
    "Dual_2_Back=np.r_[Dual_2_Back,S03_Dual_2_Back]\n",
    "Dual_2_Back=np.r_[Dual_2_Back,S04_Dual_2_Back]\n",
    "Dual_2_Back=np.r_[Dual_2_Back,S05_Dual_2_Back]"
   ]
  },
  {
   "cell_type": "code",
   "execution_count": 17,
   "metadata": {},
   "outputs": [],
   "source": [
    "Idle=np.r_[S01_Idle,S02_Idle]\n",
    "Idle=np.r_[Idle,S03_Idle]\n",
    "Idle=np.r_[Idle,S04_Idle]\n",
    "Idle=np.r_[Idle,S05_Idle]"
   ]
  },
  {
   "cell_type": "code",
   "execution_count": 18,
   "metadata": {},
   "outputs": [
    {
     "name": "stdout",
     "output_type": "stream",
     "text": [
      "(127232, 14) (114688, 14) (117376, 14) (111872, 14) (119040, 14)\n"
     ]
    }
   ],
   "source": [
    "print(Back_1.shape, Back_2.shape, Dual_1_Back.shape, Dual_2_Back.shape, Idle.shape)"
   ]
  },
  {
   "cell_type": "code",
   "execution_count": 19,
   "metadata": {},
   "outputs": [],
   "source": [
    "Back_1=Back_1*1000\n",
    "Back_2=Back_2*1000\n",
    "Dual_1_Back=Dual_1_Back*1000\n",
    "Dual_2_Back=Dual_2_Back*1000\n",
    "Idle=Idle*1000"
   ]
  },
  {
   "cell_type": "code",
   "execution_count": 20,
   "metadata": {},
   "outputs": [],
   "source": [
    "Back1=pd.DataFrame(Back_1)\n",
    "Back2=pd.DataFrame(Back_2)\n",
    "Dual1=pd.DataFrame(Dual_1_Back)\n",
    "Dual2=pd.DataFrame(Dual_2_Back)\n",
    "Idle=pd.DataFrame(Idle)"
   ]
  },
  {
   "cell_type": "code",
   "execution_count": 70,
   "metadata": {},
   "outputs": [
    {
     "data": {
      "text/html": [
       "<div>\n",
       "<style scoped>\n",
       "    .dataframe tbody tr th:only-of-type {\n",
       "        vertical-align: middle;\n",
       "    }\n",
       "\n",
       "    .dataframe tbody tr th {\n",
       "        vertical-align: top;\n",
       "    }\n",
       "\n",
       "    .dataframe thead th {\n",
       "        text-align: right;\n",
       "    }\n",
       "</style>\n",
       "<table border=\"1\" class=\"dataframe\">\n",
       "  <thead>\n",
       "    <tr style=\"text-align: right;\">\n",
       "      <th></th>\n",
       "      <th>0</th>\n",
       "      <th>1</th>\n",
       "      <th>2</th>\n",
       "      <th>3</th>\n",
       "      <th>4</th>\n",
       "      <th>5</th>\n",
       "      <th>6</th>\n",
       "      <th>7</th>\n",
       "      <th>8</th>\n",
       "      <th>9</th>\n",
       "      <th>10</th>\n",
       "      <th>11</th>\n",
       "      <th>12</th>\n",
       "      <th>13</th>\n",
       "    </tr>\n",
       "  </thead>\n",
       "  <tbody>\n",
       "    <tr>\n",
       "      <th>0</th>\n",
       "      <td>4.175897</td>\n",
       "      <td>4.173846</td>\n",
       "      <td>4.170256</td>\n",
       "      <td>4.170256</td>\n",
       "      <td>4.179487</td>\n",
       "      <td>4.175897</td>\n",
       "      <td>4.174872</td>\n",
       "      <td>4.177949</td>\n",
       "      <td>4.181026</td>\n",
       "      <td>4.161026</td>\n",
       "      <td>4.176923</td>\n",
       "      <td>4.190256</td>\n",
       "      <td>4.173846</td>\n",
       "      <td>4.146667</td>\n",
       "    </tr>\n",
       "    <tr>\n",
       "      <th>1</th>\n",
       "      <td>4.175385</td>\n",
       "      <td>4.175897</td>\n",
       "      <td>4.163590</td>\n",
       "      <td>4.171282</td>\n",
       "      <td>4.188205</td>\n",
       "      <td>4.177949</td>\n",
       "      <td>4.177436</td>\n",
       "      <td>4.175385</td>\n",
       "      <td>4.178462</td>\n",
       "      <td>4.170769</td>\n",
       "      <td>4.178462</td>\n",
       "      <td>4.191282</td>\n",
       "      <td>4.181026</td>\n",
       "      <td>4.144103</td>\n",
       "    </tr>\n",
       "    <tr>\n",
       "      <th>2</th>\n",
       "      <td>4.178974</td>\n",
       "      <td>4.172308</td>\n",
       "      <td>4.170769</td>\n",
       "      <td>4.168205</td>\n",
       "      <td>4.170769</td>\n",
       "      <td>4.196410</td>\n",
       "      <td>4.184615</td>\n",
       "      <td>4.173333</td>\n",
       "      <td>4.177436</td>\n",
       "      <td>4.169744</td>\n",
       "      <td>4.175385</td>\n",
       "      <td>4.196923</td>\n",
       "      <td>4.170769</td>\n",
       "      <td>4.145128</td>\n",
       "    </tr>\n",
       "    <tr>\n",
       "      <th>3</th>\n",
       "      <td>4.193333</td>\n",
       "      <td>4.194872</td>\n",
       "      <td>4.176410</td>\n",
       "      <td>4.188205</td>\n",
       "      <td>4.184615</td>\n",
       "      <td>4.206154</td>\n",
       "      <td>4.188718</td>\n",
       "      <td>4.187692</td>\n",
       "      <td>4.200000</td>\n",
       "      <td>4.179487</td>\n",
       "      <td>4.195385</td>\n",
       "      <td>4.216410</td>\n",
       "      <td>4.187179</td>\n",
       "      <td>4.167179</td>\n",
       "    </tr>\n",
       "    <tr>\n",
       "      <th>4</th>\n",
       "      <td>4.160000</td>\n",
       "      <td>4.160513</td>\n",
       "      <td>4.150769</td>\n",
       "      <td>4.156410</td>\n",
       "      <td>4.183590</td>\n",
       "      <td>4.155385</td>\n",
       "      <td>4.143590</td>\n",
       "      <td>4.144615</td>\n",
       "      <td>4.173846</td>\n",
       "      <td>4.154359</td>\n",
       "      <td>4.165641</td>\n",
       "      <td>4.184103</td>\n",
       "      <td>4.162051</td>\n",
       "      <td>4.133333</td>\n",
       "    </tr>\n",
       "    <tr>\n",
       "      <th>...</th>\n",
       "      <td>...</td>\n",
       "      <td>...</td>\n",
       "      <td>...</td>\n",
       "      <td>...</td>\n",
       "      <td>...</td>\n",
       "      <td>...</td>\n",
       "      <td>...</td>\n",
       "      <td>...</td>\n",
       "      <td>...</td>\n",
       "      <td>...</td>\n",
       "      <td>...</td>\n",
       "      <td>...</td>\n",
       "      <td>...</td>\n",
       "      <td>...</td>\n",
       "    </tr>\n",
       "    <tr>\n",
       "      <th>127227</th>\n",
       "      <td>4.205128</td>\n",
       "      <td>4.206154</td>\n",
       "      <td>4.211282</td>\n",
       "      <td>4.203077</td>\n",
       "      <td>4.225641</td>\n",
       "      <td>4.230769</td>\n",
       "      <td>4.231282</td>\n",
       "      <td>4.195897</td>\n",
       "      <td>4.211282</td>\n",
       "      <td>4.219487</td>\n",
       "      <td>4.228205</td>\n",
       "      <td>4.201538</td>\n",
       "      <td>4.216923</td>\n",
       "      <td>4.199487</td>\n",
       "    </tr>\n",
       "    <tr>\n",
       "      <th>127228</th>\n",
       "      <td>4.222051</td>\n",
       "      <td>4.217436</td>\n",
       "      <td>4.231282</td>\n",
       "      <td>4.220513</td>\n",
       "      <td>4.234872</td>\n",
       "      <td>4.231282</td>\n",
       "      <td>4.254359</td>\n",
       "      <td>4.206154</td>\n",
       "      <td>4.222564</td>\n",
       "      <td>4.242051</td>\n",
       "      <td>4.243077</td>\n",
       "      <td>4.216410</td>\n",
       "      <td>4.232308</td>\n",
       "      <td>4.212308</td>\n",
       "    </tr>\n",
       "    <tr>\n",
       "      <th>127229</th>\n",
       "      <td>4.215385</td>\n",
       "      <td>4.206667</td>\n",
       "      <td>4.225641</td>\n",
       "      <td>4.210769</td>\n",
       "      <td>4.238462</td>\n",
       "      <td>4.234359</td>\n",
       "      <td>4.252308</td>\n",
       "      <td>4.195897</td>\n",
       "      <td>4.216410</td>\n",
       "      <td>4.233846</td>\n",
       "      <td>4.234359</td>\n",
       "      <td>4.212821</td>\n",
       "      <td>4.220000</td>\n",
       "      <td>4.206667</td>\n",
       "    </tr>\n",
       "    <tr>\n",
       "      <th>127230</th>\n",
       "      <td>4.229744</td>\n",
       "      <td>4.217949</td>\n",
       "      <td>4.238974</td>\n",
       "      <td>4.229231</td>\n",
       "      <td>4.258974</td>\n",
       "      <td>4.247692</td>\n",
       "      <td>4.250769</td>\n",
       "      <td>4.204615</td>\n",
       "      <td>4.229231</td>\n",
       "      <td>4.230769</td>\n",
       "      <td>4.248205</td>\n",
       "      <td>4.226667</td>\n",
       "      <td>4.230769</td>\n",
       "      <td>4.220000</td>\n",
       "    </tr>\n",
       "    <tr>\n",
       "      <th>127231</th>\n",
       "      <td>4.261026</td>\n",
       "      <td>4.245641</td>\n",
       "      <td>4.269231</td>\n",
       "      <td>4.258974</td>\n",
       "      <td>4.280000</td>\n",
       "      <td>4.251795</td>\n",
       "      <td>4.268718</td>\n",
       "      <td>4.231795</td>\n",
       "      <td>4.257949</td>\n",
       "      <td>4.260000</td>\n",
       "      <td>4.274359</td>\n",
       "      <td>4.252821</td>\n",
       "      <td>4.258462</td>\n",
       "      <td>4.250769</td>\n",
       "    </tr>\n",
       "  </tbody>\n",
       "</table>\n",
       "<p>127232 rows × 14 columns</p>\n",
       "</div>"
      ],
      "text/plain": [
       "               0         1         2         3         4         5         6  \\\n",
       "0       4.175897  4.173846  4.170256  4.170256  4.179487  4.175897  4.174872   \n",
       "1       4.175385  4.175897  4.163590  4.171282  4.188205  4.177949  4.177436   \n",
       "2       4.178974  4.172308  4.170769  4.168205  4.170769  4.196410  4.184615   \n",
       "3       4.193333  4.194872  4.176410  4.188205  4.184615  4.206154  4.188718   \n",
       "4       4.160000  4.160513  4.150769  4.156410  4.183590  4.155385  4.143590   \n",
       "...          ...       ...       ...       ...       ...       ...       ...   \n",
       "127227  4.205128  4.206154  4.211282  4.203077  4.225641  4.230769  4.231282   \n",
       "127228  4.222051  4.217436  4.231282  4.220513  4.234872  4.231282  4.254359   \n",
       "127229  4.215385  4.206667  4.225641  4.210769  4.238462  4.234359  4.252308   \n",
       "127230  4.229744  4.217949  4.238974  4.229231  4.258974  4.247692  4.250769   \n",
       "127231  4.261026  4.245641  4.269231  4.258974  4.280000  4.251795  4.268718   \n",
       "\n",
       "               7         8         9        10        11        12        13  \n",
       "0       4.177949  4.181026  4.161026  4.176923  4.190256  4.173846  4.146667  \n",
       "1       4.175385  4.178462  4.170769  4.178462  4.191282  4.181026  4.144103  \n",
       "2       4.173333  4.177436  4.169744  4.175385  4.196923  4.170769  4.145128  \n",
       "3       4.187692  4.200000  4.179487  4.195385  4.216410  4.187179  4.167179  \n",
       "4       4.144615  4.173846  4.154359  4.165641  4.184103  4.162051  4.133333  \n",
       "...          ...       ...       ...       ...       ...       ...       ...  \n",
       "127227  4.195897  4.211282  4.219487  4.228205  4.201538  4.216923  4.199487  \n",
       "127228  4.206154  4.222564  4.242051  4.243077  4.216410  4.232308  4.212308  \n",
       "127229  4.195897  4.216410  4.233846  4.234359  4.212821  4.220000  4.206667  \n",
       "127230  4.204615  4.229231  4.230769  4.248205  4.226667  4.230769  4.220000  \n",
       "127231  4.231795  4.257949  4.260000  4.274359  4.252821  4.258462  4.250769  \n",
       "\n",
       "[127232 rows x 14 columns]"
      ]
     },
     "execution_count": 70,
     "metadata": {},
     "output_type": "execute_result"
    }
   ],
   "source": [
    "test=pd.DataFrame(Back_1)\n",
    "test"
   ]
  },
  {
   "cell_type": "code",
   "execution_count": 72,
   "metadata": {},
   "outputs": [],
   "source": [
    "Back_1=filterData(Back_1)\n",
    "Back1=filterData(Back_1)\n",
    "Back2=filterData(Back_2)\n",
    "Dual1=filterData(Dual_1_Back)\n",
    "Dual2=filterData(Dual_2_Back)\n",
    "Idle=filterData(Idle)"
   ]
  },
  {
   "cell_type": "code",
   "execution_count": 73,
   "metadata": {},
   "outputs": [],
   "source": [
    "#결측값 제거 (0값 제거)\n",
    "Back1_idx = Back1[:].isin(['0'])\n",
    "Back2_idx=Back2[:].isin(['0'])\n",
    "Dual1_idx=Dual1[:].isin(['0'])\n",
    "Dual2_idx=Dual2[:].isin(['0'])\n",
    "Idle_idx=Idle[:].isin(['0'])\n",
    "\n",
    "Back1=Back1[~Back1_idx]\n",
    "Back2=Back2[~Back2_idx]\n",
    "Dual1=Dual1[~Dual1_idx]\n",
    "Dual2=Dual2[~Dual2_idx]\n",
    "Idle=Idle[~Idle_idx]\n",
    "\n",
    "Back1.dropna(inplace=True)\n",
    "Back2.dropna(inplace=True)\n",
    "Dual1.dropna(inplace=True)\n",
    "Dual2.dropna(inplace=True)\n",
    "Idle.dropna(inplace=True)\n",
    "\n",
    "Back1=Back1.values\n",
    "Back2=Back2.values\n",
    "Dual1=Dual1.values\n",
    "Dual2=Dual2.values\n",
    "Idle=Idle.values"
   ]
  },
  {
   "cell_type": "code",
   "execution_count": 74,
   "metadata": {},
   "outputs": [],
   "source": [
    "scaler=MinMaxScaler()\n",
    "Back_1[:]=scaler.fit_transform(Back_1[:])*255\n",
    "Back_2[:]=scaler.fit_transform(Back_2[:])*255\n",
    "Dual_1_Back[:]=scaler.fit_transform(Dual_1_Back[:])*255\n",
    "Dual_2_Back[:]=scaler.fit_transform(Dual_2_Back[:])*255\n",
    "Idle[:]=scaler.fit_transform(Idle[:])*255"
   ]
  },
  {
   "cell_type": "code",
   "execution_count": 75,
   "metadata": {},
   "outputs": [
    {
     "name": "stdout",
     "output_type": "stream",
     "text": [
      "(127170, 14) (114635, 14) (117376, 14) (111871, 14) (118739, 14)\n"
     ]
    }
   ],
   "source": [
    "print(Back1.shape, Back2.shape, Dual1.shape, Dual2.shape, Idle.shape)"
   ]
  },
  {
   "cell_type": "code",
   "execution_count": 76,
   "metadata": {},
   "outputs": [
    {
     "name": "stdout",
     "output_type": "stream",
     "text": [
      "(589791, 14)\n"
     ]
    }
   ],
   "source": [
    "data=np.r_[Back1, Back2]\n",
    "data=np.r_[data, Dual1]\n",
    "data=np.r_[data, Dual2]\n",
    "data=np.r_[data, Idle]\n",
    "print(data.shape)"
   ]
  },
  {
   "cell_type": "code",
   "execution_count": 77,
   "metadata": {},
   "outputs": [
    {
     "name": "stdout",
     "output_type": "stream",
     "text": [
      "(127170, 1) (114635, 1) (117376, 1) (111871, 1) (118739, 1)\n"
     ]
    }
   ],
   "source": [
    "label_0=np.zeros((len(Back1),1))\n",
    "label_1=np.ones((len(Back2),1))\n",
    "label_2=np.full((len(Dual1),1),2)\n",
    "label_3=np.full((len(Dual2),1),3)\n",
    "label_4=np.full((len(Idle),1),4)\n",
    "print(label_0.shape, label_1.shape, label_2.shape, label_3.shape, label_4.shape)"
   ]
  },
  {
   "cell_type": "code",
   "execution_count": 78,
   "metadata": {},
   "outputs": [
    {
     "name": "stdout",
     "output_type": "stream",
     "text": [
      "(589791, 1)\n"
     ]
    }
   ],
   "source": [
    "label=np.r_[label_0, label_1]\n",
    "label=np.r_[label, label_2]\n",
    "label=np.r_[label, label_3]\n",
    "label=np.r_[label, label_4]\n",
    "print(label.shape)"
   ]
  },
  {
   "cell_type": "code",
   "execution_count": 79,
   "metadata": {},
   "outputs": [
    {
     "name": "stdout",
     "output_type": "stream",
     "text": [
      "(589791, 14) (589791, 5)\n"
     ]
    }
   ],
   "source": [
    "label=to_categorical(label,5)\n",
    "print(data.shape, label.shape)"
   ]
  },
  {
   "cell_type": "code",
   "execution_count": 80,
   "metadata": {},
   "outputs": [
    {
     "name": "stdout",
     "output_type": "stream",
     "text": [
      "(412853, 14) (176938, 14) (412853, 5) (176938, 5)\n"
     ]
    }
   ],
   "source": [
    "X_train, X_test, y_train, y_test = train_test_split(data, label, test_size=0.3, random_state=None, shuffle=True, stratify=label)\n",
    "print(X_train.shape, X_test.shape, y_train.shape, y_test.shape)"
   ]
  },
  {
   "cell_type": "code",
   "execution_count": 81,
   "metadata": {},
   "outputs": [
    {
     "name": "stdout",
     "output_type": "stream",
     "text": [
      "Model: \"functional_1\"\n",
      "_________________________________________________________________\n",
      "Layer (type)                 Output Shape              Param #   \n",
      "=================================================================\n",
      "input_1 (InputLayer)         [(None, 14)]              0         \n",
      "_________________________________________________________________\n",
      "dense_2 (Dense)              (None, 150)               2250      \n",
      "_________________________________________________________________\n",
      "dropout_2 (Dropout)          (None, 150)               0         \n",
      "_________________________________________________________________\n",
      "dense_3 (Dense)              (None, 200)               30200     \n",
      "_________________________________________________________________\n",
      "dense_4 (Dense)              (None, 5)                 1005      \n",
      "=================================================================\n",
      "Total params: 33,455\n",
      "Trainable params: 33,455\n",
      "Non-trainable params: 0\n",
      "_________________________________________________________________\n"
     ]
    }
   ],
   "source": [
    "def model_create(eeg_data):\n",
    "    eeg_input=Input(shape=(14,)) #입력 정의\n",
    "    \n",
    "    eeg_output = Dense(50, activation='relu')(eeg_input)\n",
    "    eeg_output = Dropout(0.5)(eeg_output)\n",
    "    eeg_output = Dense(150, activation='relu')(eeg_input)\n",
    "    eeg_output = Dropout(0.5)(eeg_output)\n",
    "    eeg_output = Dense(150, activation='relu')(eeg_input)\n",
    "    eeg_output = Dropout(0.5)(eeg_output)\n",
    "    eeg_output = Dense(200, activation='relu')(eeg_output)\n",
    "    \n",
    "    model = Dense(5, activation='sigmoid')(eeg_output)\n",
    "    \n",
    "    model = keras.models.Model(inputs=eeg_input, outputs=model) \n",
    "    \n",
    "    model.compile(loss='binary_crossentropy', optimizer = 'adam', metrics=['accuracy', precision, recall, f1score])\n",
    "    \n",
    "    return model \n",
    "\n",
    "model=model_create(data)\n",
    "model.summary()"
   ]
  },
  {
   "cell_type": "code",
   "execution_count": 82,
   "metadata": {},
   "outputs": [
    {
     "name": "stdout",
     "output_type": "stream",
     "text": [
      "Epoch 1/30\n",
      "41286/41286 [==============================] - 28s 673us/step - loss: 0.3617 - accuracy: 0.4098 - precision: 0.8916 - recall: 0.2012 - f1score: 0.3164 - val_loss: 0.3593 - val_accuracy: 0.4169 - val_precision: 0.8963 - val_recall: 0.2013 - val_f1score: 0.3172\n",
      "Epoch 2/30\n",
      "41286/41286 [==============================] - 28s 682us/step - loss: 0.3599 - accuracy: 0.4137 - precision: 0.8929 - recall: 0.2010 - f1score: 0.3165 - val_loss: 0.3591 - val_accuracy: 0.4169 - val_precision: 0.8963 - val_recall: 0.2013 - val_f1score: 0.3172\n",
      "Epoch 3/30\n",
      "41286/41286 [==============================] - 28s 681us/step - loss: 0.3595 - accuracy: 0.4156 - precision: 0.8942 - recall: 0.2012 - f1score: 0.3166 - val_loss: 0.3604 - val_accuracy: 0.4158 - val_precision: 0.8963 - val_recall: 0.2013 - val_f1score: 0.3172\n",
      "Epoch 4/30\n",
      "41286/41286 [==============================] - 28s 676us/step - loss: 0.3592 - accuracy: 0.4159 - precision: 0.8939 - recall: 0.2013 - f1score: 0.3168 - val_loss: 0.3592 - val_accuracy: 0.4169 - val_precision: 0.8963 - val_recall: 0.2013 - val_f1score: 0.3172\n",
      "Epoch 5/30\n",
      "41286/41286 [==============================] - 28s 680us/step - loss: 0.3592 - accuracy: 0.4162 - precision: 0.8938 - recall: 0.2013 - f1score: 0.3168 - val_loss: 0.3591 - val_accuracy: 0.4169 - val_precision: 0.8963 - val_recall: 0.2013 - val_f1score: 0.3172\n",
      "Epoch 6/30\n",
      "41286/41286 [==============================] - 28s 687us/step - loss: 0.3594 - accuracy: 0.4164 - precision: 0.8918 - recall: 0.2012 - f1score: 0.3168 - val_loss: 0.3591 - val_accuracy: 0.4169 - val_precision: 0.8963 - val_recall: 0.2013 - val_f1score: 0.3172\n",
      "Epoch 7/30\n",
      "41286/41286 [==============================] - 28s 684us/step - loss: 0.3594 - accuracy: 0.4166 - precision: 0.8941 - recall: 0.2012 - f1score: 0.3168 - val_loss: 0.3592 - val_accuracy: 0.4169 - val_precision: 0.8963 - val_recall: 0.2013 - val_f1score: 0.3172\n",
      "Epoch 8/30\n",
      "41286/41286 [==============================] - 28s 682us/step - loss: 0.3591 - accuracy: 0.4167 - precision: 0.8950 - recall: 0.2013 - f1score: 0.3169 - val_loss: 0.3591 - val_accuracy: 0.4169 - val_precision: 0.8963 - val_recall: 0.2013 - val_f1score: 0.3172\n",
      "Epoch 9/30\n",
      "41286/41286 [==============================] - 28s 680us/step - loss: 0.3591 - accuracy: 0.4168 - precision: 0.8932 - recall: 0.2013 - f1score: 0.3168 - val_loss: 0.3591 - val_accuracy: 0.4169 - val_precision: 0.8963 - val_recall: 0.2013 - val_f1score: 0.3172\n",
      "Epoch 10/30\n",
      "41286/41286 [==============================] - 28s 675us/step - loss: 0.3591 - accuracy: 0.4169 - precision: 0.8956 - recall: 0.2013 - f1score: 0.3171 - val_loss: 0.3590 - val_accuracy: 0.4169 - val_precision: 0.8963 - val_recall: 0.2013 - val_f1score: 0.3172\n",
      "Epoch 11/30\n",
      "41286/41286 [==============================] - 28s 683us/step - loss: 0.3591 - accuracy: 0.4169 - precision: 0.8963 - recall: 0.2013 - f1score: 0.3171 - val_loss: 0.3591 - val_accuracy: 0.4169 - val_precision: 0.8963 - val_recall: 0.2013 - val_f1score: 0.3172\n",
      "Epoch 12/30\n",
      "41286/41286 [==============================] - 28s 686us/step - loss: 0.3591 - accuracy: 0.4169 - precision: 0.8952 - recall: 0.2013 - f1score: 0.3170 - val_loss: 0.3591 - val_accuracy: 0.4169 - val_precision: 0.8963 - val_recall: 0.2013 - val_f1score: 0.3172\n",
      "Epoch 13/30\n",
      "41286/41286 [==============================] - 29s 691us/step - loss: 0.3591 - accuracy: 0.4168 - precision: 0.8966 - recall: 0.2013 - f1score: 0.3171 - val_loss: 0.3593 - val_accuracy: 0.4169 - val_precision: 0.8963 - val_recall: 0.2013 - val_f1score: 0.3172\n",
      "Epoch 14/30\n",
      "41286/41286 [==============================] - 28s 686us/step - loss: 0.3591 - accuracy: 0.4169 - precision: 0.8966 - recall: 0.2013 - f1score: 0.3172 - val_loss: 0.3591 - val_accuracy: 0.4169 - val_precision: 0.8963 - val_recall: 0.2013 - val_f1score: 0.3172\n",
      "Epoch 15/30\n",
      "41286/41286 [==============================] - 28s 687us/step - loss: 0.3591 - accuracy: 0.4169 - precision: 0.8938 - recall: 0.2013 - f1score: 0.3169 - val_loss: 0.3591 - val_accuracy: 0.4169 - val_precision: 0.8963 - val_recall: 0.2013 - val_f1score: 0.3172\n",
      "Epoch 16/30\n",
      "41286/41286 [==============================] - 29s 693us/step - loss: 0.3591 - accuracy: 0.4169 - precision: 0.8966 - recall: 0.2013 - f1score: 0.3171 - val_loss: 0.3590 - val_accuracy: 0.4169 - val_precision: 0.8963 - val_recall: 0.2013 - val_f1score: 0.3172\n",
      "Epoch 17/30\n",
      "41286/41286 [==============================] - 28s 687us/step - loss: 0.3591 - accuracy: 0.4169 - precision: 0.8958 - recall: 0.2013 - f1score: 0.3169 - val_loss: 0.3591 - val_accuracy: 0.4169 - val_precision: 0.8963 - val_recall: 0.2013 - val_f1score: 0.3172\n",
      "Epoch 18/30\n",
      "41286/41286 [==============================] - 29s 697us/step - loss: 0.3591 - accuracy: 0.4169 - precision: 0.8945 - recall: 0.2013 - f1score: 0.3169 - val_loss: 0.3591 - val_accuracy: 0.4169 - val_precision: 0.8963 - val_recall: 0.2013 - val_f1score: 0.3172\n",
      "Epoch 19/30\n",
      "41286/41286 [==============================] - 28s 685us/step - loss: 0.3591 - accuracy: 0.4169 - precision: 0.8943 - recall: 0.2013 - f1score: 0.3169 - val_loss: 0.3591 - val_accuracy: 0.4169 - val_precision: 0.8963 - val_recall: 0.2013 - val_f1score: 0.3172\n",
      "Epoch 20/30\n",
      "41286/41286 [==============================] - 28s 681us/step - loss: 0.3591 - accuracy: 0.4169 - precision: 0.8935 - recall: 0.2013 - f1score: 0.3168 - val_loss: 0.3590 - val_accuracy: 0.4169 - val_precision: 0.8963 - val_recall: 0.2013 - val_f1score: 0.3172\n",
      "Epoch 21/30\n",
      "41286/41286 [==============================] - 29s 691us/step - loss: 0.3592 - accuracy: 0.4169 - precision: 0.8953 - recall: 0.2013 - f1score: 0.3170 - val_loss: 0.3591 - val_accuracy: 0.4169 - val_precision: 0.8963 - val_recall: 0.2013 - val_f1score: 0.3172\n",
      "Epoch 22/30\n",
      "41286/41286 [==============================] - 28s 677us/step - loss: 0.3591 - accuracy: 0.4169 - precision: 0.8951 - recall: 0.2013 - f1score: 0.3171 - val_loss: 0.3591 - val_accuracy: 0.4169 - val_precision: 0.8963 - val_recall: 0.2013 - val_f1score: 0.3172\n",
      "Epoch 23/30\n",
      "41286/41286 [==============================] - 28s 679us/step - loss: 0.3591 - accuracy: 0.4169 - precision: 0.8953 - recall: 0.2013 - f1score: 0.3170 - val_loss: 0.3590 - val_accuracy: 0.4169 - val_precision: 0.8963 - val_recall: 0.2013 - val_f1score: 0.3172\n",
      "Epoch 24/30\n",
      "41286/41286 [==============================] - 28s 679us/step - loss: 0.3591 - accuracy: 0.4169 - precision: 0.8912 - recall: 0.2013 - f1score: 0.3167 - val_loss: 0.3590 - val_accuracy: 0.4169 - val_precision: 0.8963 - val_recall: 0.2013 - val_f1score: 0.3172\n",
      "Epoch 25/30\n",
      "41286/41286 [==============================] - 28s 685us/step - loss: 0.3592 - accuracy: 0.4168 - precision: 0.8951 - recall: 0.2013 - f1score: 0.3169 - val_loss: 0.3591 - val_accuracy: 0.4169 - val_precision: 0.8963 - val_recall: 0.2013 - val_f1score: 0.3172\n",
      "Epoch 26/30\n",
      "41286/41286 [==============================] - 28s 681us/step - loss: 0.3591 - accuracy: 0.4169 - precision: 0.8926 - recall: 0.2013 - f1score: 0.3168 - val_loss: 0.3590 - val_accuracy: 0.4169 - val_precision: 0.8963 - val_recall: 0.2013 - val_f1score: 0.3172\n",
      "Epoch 27/30\n",
      "41286/41286 [==============================] - 29s 694us/step - loss: 0.3591 - accuracy: 0.4169 - precision: 0.8937 - recall: 0.2013 - f1score: 0.3169 - val_loss: 0.3591 - val_accuracy: 0.4169 - val_precision: 0.8963 - val_recall: 0.2013 - val_f1score: 0.3172\n",
      "Epoch 28/30\n",
      "41286/41286 [==============================] - 29s 690us/step - loss: 0.3591 - accuracy: 0.4169 - precision: 0.8959 - recall: 0.2013 - f1score: 0.3170 - val_loss: 0.3591 - val_accuracy: 0.4169 - val_precision: 0.8963 - val_recall: 0.2013 - val_f1score: 0.3172\n",
      "Epoch 29/30\n",
      "41286/41286 [==============================] - 28s 690us/step - loss: 0.3591 - accuracy: 0.4169 - precision: 0.8941 - recall: 0.2014 - f1score: 0.3169 - val_loss: 0.3591 - val_accuracy: 0.4169 - val_precision: 0.8963 - val_recall: 0.2013 - val_f1score: 0.3172\n",
      "Epoch 30/30\n",
      "41286/41286 [==============================] - 28s 685us/step - loss: 0.3591 - accuracy: 0.4169 - precision: 0.8934 - recall: 0.2013 - f1score: 0.3169 - val_loss: 0.3591 - val_accuracy: 0.4169 - val_precision: 0.8963 - val_recall: 0.2013 - val_f1score: 0.3172\n"
     ]
    }
   ],
   "source": [
    "hist=model.fit(X_train, y_train, epochs=30, batch_size=10, validation_data=(X_test,y_test))"
   ]
  },
  {
   "cell_type": "code",
   "execution_count": 83,
   "metadata": {},
   "outputs": [
    {
     "data": {
      "image/png": "[encoded data removed]",
      "text/plain": [
       "<Figure size 432x288 with 2 Axes>"
      ]
     },
     "metadata": {
      "needs_background": "light"
     },
     "output_type": "display_data"
    }
   ],
   "source": [
    "drawGraph(hist, X_test, y_test)"
   ]
  },
  {
   "cell_type": "code",
   "execution_count": 84,
   "metadata": {},
   "outputs": [
    {
     "name": "stdout",
     "output_type": "stream",
     "text": [
      "5530/5530 [==============================] - 2s 360us/step - loss: 0.3591 - accuracy: 0.4169 - precision: 0.9986 - recall: 0.2013 - f1score: 0.3296\n",
      "loss: 0.359, accuracy: 0.417, precision: 0.999, recall: 0.201, f1score: 0.330\n"
     ]
    },
    {
     "data": {
      "image/png": "[encoded data removed]",
      "text/plain": [
       "<Figure size 432x288 with 2 Axes>"
      ]
     },
     "metadata": {
      "needs_background": "light"
     },
     "output_type": "display_data"
    }
   ],
   "source": [
    "drawGraph2(hist, X_test, y_test)"
   ]
  },
  {
   "cell_type": "code",
   "execution_count": 85,
   "metadata": {},
   "outputs": [
    {
     "name": "stdout",
     "output_type": "stream",
     "text": [
      "(412853, 14, 1) (176938, 14, 1) (412853, 5) (176938, 5)\n",
      "Model: \"sequential\"\n",
      "_________________________________________________________________\n",
      "Layer (type)                 Output Shape              Param #   \n",
      "=================================================================\n",
      "lstm (LSTM)                  (None, 14, 50)            10400     \n",
      "_________________________________________________________________\n",
      "lstm_1 (LSTM)                (None, 5)                 1120      \n",
      "_________________________________________________________________\n",
      "activation (Activation)      (None, 5)                 0         \n",
      "=================================================================\n",
      "Total params: 11,520\n",
      "Trainable params: 11,520\n",
      "Non-trainable params: 0\n",
      "_________________________________________________________________\n"
     ]
    }
   ],
   "source": [
    "X_train = X_train.reshape(X_train.shape+ (1,))\n",
    "X_test = X_test.reshape(X_test.shape + (1,))\n",
    "\n",
    "print(X_train.shape, X_test.shape, y_train.shape, y_test.shape)\n",
    "\n",
    "def lstm_model():\n",
    "    model = Sequential()\n",
    "    model.add(LSTM(50, input_shape = (14,1), return_sequences = True))\n",
    "    model.add(LSTM(5, return_sequences = False))\n",
    "    model.add(Activation('sigmoid'))\n",
    "    \n",
    "    model.compile(loss = 'binary_crossentropy', optimizer = 'adam', metrics=['accuracy', precision, recall, f1score])\n",
    "    return model\n",
    "\n",
    "model = lstm_model()\n",
    "\n",
    "model.summary()"
   ]
  },
  {
   "cell_type": "code",
   "execution_count": null,
   "metadata": {},
   "outputs": [
    {
     "name": "stdout",
     "output_type": "stream",
     "text": [
      "Epoch 1/30\n",
      "51607/51607 [==============================] - 236s 5ms/step - loss: 0.4761 - accuracy: 0.3993 - precision: 0.7573 - recall: 0.1829 - f1score: 0.2840 - val_loss: 0.4883 - val_accuracy: 0.2671 - val_precision: 0.0000e+00 - val_recall: 0.0000e+00 - val_f1score: 0.0000e+00\n",
      "Epoch 2/30\n",
      "51607/51607 [==============================] - 234s 5ms/step - loss: 0.4884 - accuracy: 0.4121 - precision: 2.9066e-05 - recall: 4.8443e-06 - f1score: 8.1815e-06 - val_loss: 0.4883 - val_accuracy: 0.4169 - val_precision: 0.0000e+00 - val_recall: 0.0000e+00 - val_f1score: 0.0000e+00\n",
      "Epoch 3/30\n",
      "51607/51607 [==============================] - 230s 4ms/step - loss: 0.4884 - accuracy: 0.4169 - precision: 3.8754e-05 - recall: 4.8443e-06 - f1score: 8.6121e-06 - val_loss: 0.4883 - val_accuracy: 0.4169 - val_precision: 0.0000e+00 - val_recall: 0.0000e+00 - val_f1score: 0.0000e+00\n",
      "Epoch 4/30\n",
      "12043/51607 [======>.......................] - ETA: 2:40 - loss: 0.4882 - accuracy: 0.4174 - precision: 0.0000e+00 - recall: 0.0000e+00 - f1score: 0.0000e+00"
     ]
    }
   ],
   "source": [
    "hist=model.fit(X_train, y_train, epochs=30, batch_size=8, validation_data=(X_test,y_test))"
   ]
  },
  {
   "cell_type": "code",
   "execution_count": null,
   "metadata": {},
   "outputs": [],
   "source": [
    "drawGraph(hist, X_test, y_test)"
   ]
  },
  {
   "cell_type": "code",
   "execution_count": null,
   "metadata": {},
   "outputs": [],
   "source": [
    "drawGraph2(hist, X_test, y_test)"
   ]
  },
  {
   "cell_type": "code",
   "execution_count": null,
   "metadata": {},
   "outputs": [],
   "source": [
    "print(Back1.shape, Back2.shape, Dual1.shape, Dual2.shape, Idle.shape)"
   ]
  },
  {
   "cell_type": "code",
   "execution_count": null,
   "metadata": {},
   "outputs": [],
   "source": [
    "import random\n",
    "\n",
    "index1=[]\n",
    "for i in range(len(Back1)%14) :\n",
    "    index1.append(random.randint(0,len(Back1)-1))\n",
    "\n",
    "index2=[]\n",
    "for i in range(len(Back2)%14) :\n",
    "    index2.append(random.randint(0,len(Back2)-1))\n",
    "\n",
    "index3=[]\n",
    "for i in range(len(Dual1)%14) :\n",
    "    index3.append(random.randint(0,len(Dual1)-1))\n",
    "\n",
    "index4=[]\n",
    "for i in range(len(Dual2)%14) :\n",
    "    index4.append(random.randint(0,len(Dual2)-1))\n",
    "\n",
    "index5=[]\n",
    "for i in range(len(Idle)%14) :\n",
    "    index5.append(random.randint(0,len(Idle)-1))\n",
    "\n",
    "    \n",
    "Back2_c=pd.DataFrame(Back2)\n",
    "Dual1_c=pd.DataFrame(Dual1)\n",
    "Dual2_c=pd.DataFrame(Dual2)\n",
    "Idle_c=pd.DataFrame(Idle)\n",
    "\n",
    "Back2_c=Back2_c.drop(index1)\n",
    "Dual1_c=Dual1_c.drop(index)\n",
    "Dual2_c=Dual2_c.drop(index)\n",
    "Idle_c=Idle_c.drop(index)\n",
    "\n",
    "Back2_c=Back2_c.values\n",
    "Dual1_c=Dual1_c.values\n",
    "Dual2_c=Dual2_c.values\n",
    "Idle_c=Idle_c.values"
   ]
  },
  {
   "cell_type": "code",
   "execution_count": null,
   "metadata": {},
   "outputs": [],
   "source": [
    "Back1_c=Back1.reshape(-1,14,14)\n",
    "Back2_c=Back2_c.reshape(-1,14,14)\n",
    "Dual1_c=Dual1_c.reshape(-1,14,14)\n",
    "Dual2_c=Dual2_c.reshape(-1,14,14)\n",
    "Idle_c=Idle_c.reshape(-1,14,14)"
   ]
  },
  {
   "cell_type": "code",
   "execution_count": null,
   "metadata": {},
   "outputs": [],
   "source": [
    "print(Back1_c.shape, Back2_c.shape, Dual1_c.shape, Dual2_c.shape, Idle_c.shape)"
   ]
  },
  {
   "cell_type": "code",
   "execution_count": null,
   "metadata": {},
   "outputs": [],
   "source": [
    "eeg=np.r_[Back1_c, Back2_c]\n",
    "eeg=np.r_[eeg, Dual1_c]\n",
    "eeg=np.r_[eeg, Dual2_c]\n",
    "eeg=np.r_[eeg, Idle_c]\n",
    "print(eeg.shape)"
   ]
  },
  {
   "cell_type": "code",
   "execution_count": null,
   "metadata": {},
   "outputs": [],
   "source": [
    "label_0=np.zeros((len(Back1_c),1))\n",
    "label_1=np.ones((len(Back2_c),1))\n",
    "label_2=np.full((len(Dual1_c),1),2)\n",
    "label_3=np.full((len(Dual2_c),1),3)\n",
    "label_4=np.full((len(Idle_c),1),4)\n",
    "print(label_0.shape, label_1.shape, label_2.shape, label_3.shape, label_4.shape)"
   ]
  },
  {
   "cell_type": "code",
   "execution_count": null,
   "metadata": {},
   "outputs": [],
   "source": [
    "label=np.r_[label_0, label_1]\n",
    "label=np.r_[label, label_2]\n",
    "label=np.r_[label, label_3]\n",
    "label=np.r_[label, label_4]\n",
    "print(label.shape)"
   ]
  },
  {
   "cell_type": "code",
   "execution_count": null,
   "metadata": {},
   "outputs": [],
   "source": [
    "label=to_categorical(label,5)\n",
    "print(eeg.shape, label.shape)"
   ]
  },
  {
   "cell_type": "code",
   "execution_count": null,
   "metadata": {},
   "outputs": [],
   "source": [
    "plt.subplot(221)\n",
    "plt.imshow(eeg[0], cmap='gray')\n",
    "\n",
    "plt.subplot(222)\n",
    "plt.imshow(eeg[19000], cmap='gray')\n",
    "\n",
    "plt.subplot(223)\n",
    "plt.imshow(eeg[29000], cmap='gray')\n",
    "\n",
    "plt.subplot(224)\n",
    "plt.imshow(eeg[43000], cmap='gray')"
   ]
  },
  {
   "cell_type": "code",
   "execution_count": null,
   "metadata": {},
   "outputs": [],
   "source": [
    "X_train, X_test, y_train, y_test = train_test_split(eeg, label, test_size=0.3, random_state=None, shuffle=True, stratify=label)\n",
    "print(X_train.shape, X_test.shape, y_train.shape, y_test.shape)"
   ]
  },
  {
   "cell_type": "code",
   "execution_count": null,
   "metadata": {},
   "outputs": [],
   "source": [
    "X_train = X_train.reshape(X_train.shape+ (1,))\n",
    "X_test = X_test.reshape(X_test.shape + (1,))\n",
    "print(X_train.shape, X_test.shape, y_train.shape, y_test.shape)"
   ]
  },
  {
   "cell_type": "code",
   "execution_count": null,
   "metadata": {},
   "outputs": [],
   "source": [
    "def basic_cnn():\n",
    "    model = Sequential()\n",
    "\n",
    "    model.add(Conv2D(input_shape = (X_train.shape[1], X_train.shape[2], X_train.shape[3]), filters = 50, kernel_size = (2,2), strides = (1,1), padding = 'same'))\n",
    "    model.add(Activation('relu'))\n",
    "    model.add(Conv2D(filters = 50, kernel_size = (2,2), strides = (1,1), padding = 'same'))\n",
    "    model.add(Activation('relu'))\n",
    "    \n",
    "    model.add(MaxPooling2D(pool_size = (2,2)))\n",
    "    \n",
    "    model.add(Conv2D(filters = 50, kernel_size = (2,2), strides = (1,1), padding = 'same'))\n",
    "    model.add(Activation('relu'))\n",
    "    model.add(Conv2D(filters = 50, kernel_size = (2,2), strides = (1,1), padding = 'same'))\n",
    "    model.add(Activation('relu'))\n",
    "\n",
    "    # prior layer should be flattend to be connected to dense layers\n",
    "    model.add(Flatten())\n",
    "    \n",
    "    \n",
    "    # final layer with 10 neurons to classify the instances\n",
    "    model.add(Dense(50, activation = 'relu'))\n",
    "    \n",
    "    # final layer with 10 neurons to classify the instances\n",
    "    model.add(Dense(5, activation = 'softmax'))\n",
    "\n",
    "    adam = optimizers.Adam(lr = 0.001)\n",
    "    model.compile(loss = 'binary_crossentropy', optimizer = adam, metrics=['accuracy', precision, recall, f1score])\n",
    "    return model\n",
    "\n",
    "model = basic_cnn()\n",
    "model.summary()"
   ]
  },
  {
   "cell_type": "code",
   "execution_count": null,
   "metadata": {},
   "outputs": [],
   "source": [
    "hist=model.fit(X_train, y_train, epochs=20, batch_size=8, validation_data=(X_test,y_test))"
   ]
  },
  {
   "cell_type": "code",
   "execution_count": null,
   "metadata": {},
   "outputs": [],
   "source": [
    "drawGraph(hist, X_test, y_test)"
   ]
  },
  {
   "cell_type": "code",
   "execution_count": null,
   "metadata": {
    "scrolled": true
   },
   "outputs": [],
   "source": [
    "drawGraph2(hist, X_test, y_test)"
   ]
  },
  {
   "cell_type": "code",
   "execution_count": null,
   "metadata": {},
   "outputs": [],
   "source": []
  }
 ],
 "metadata": {
  "kernelspec": {
   "display_name": "env",
   "language": "python",
   "name": "env"
  },
  "language_info": {
   "codemirror_mode": {
    "name": "ipython",
    "version": 3
   },
   "file_extension": ".py",
   "mimetype": "text/x-python",
   "name": "python",
   "nbconvert_exporter": "python",
   "pygments_lexer": "ipython3",
   "version": "3.8.3"
  }
 },
 "nbformat": 4,
 "nbformat_minor": 4
}
