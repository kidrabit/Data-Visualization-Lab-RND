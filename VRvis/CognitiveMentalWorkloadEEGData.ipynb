{
 "cells": [
  {
   "cell_type": "code",
   "execution_count": 2,
   "metadata": {},
   "outputs": [
    {
     "name": "stdout",
     "output_type": "stream",
     "text": [
      "Collecting mneNote: you may need to restart the kernel to use updated packages.\n",
      "  Downloading mne-0.20.8-py3-none-any.whl (6.6 MB)\n",
      "Requirement already satisfied: numpy>=1.11.3 in c:\\anaconda3\\envs\\env\\lib\\site-packages (from mne) (1.18.5)\n",
      "Requirement already satisfied: scipy>=0.17.1 in c:\\anaconda3\\envs\\env\\lib\\site-packages (from mne) (1.4.1)\n",
      "Installing collected packages: mne\n",
      "Successfully installed mne-0.20.8\n",
      "\n"
     ]
    }
   ],
   "source": [
    "pip install mne"
   ]
  },
  {
   "cell_type": "code",
   "execution_count": 244,
   "metadata": {},
   "outputs": [],
   "source": [
    "import keras\n",
    "import pandas as pd\n",
    "import numpy as np\n",
    "import mne\n",
    "import matplotlib.pyplot as plt\n",
    "\n",
    "from sklearn.preprocessing import MinMaxScaler\n",
    "from keras.utils.np_utils import to_categorical\n",
    "\n",
    "from sklearn.model_selection import train_test_split\n",
    "from keras.layers import Input, Reshape, Activation, add, Add\n",
    "from keras.layers import  BatchNormalization,Dense, Conv2D, Convolution2D, MaxPooling2D, Dropout, Flatten, TimeDistributed, InputLayer, LSTM\n",
    "from keras.models import Sequential, Model \n",
    "\n",
    "from keras import backend as K\n",
    "from sklearn.metrics import recall_score \n",
    "from sklearn.metrics import precision_score \n",
    "from sklearn.metrics import f1_score \n",
    "\n",
    "%matplotlib inline"
   ]
  },
  {
   "cell_type": "code",
   "execution_count": 35,
   "metadata": {},
   "outputs": [],
   "source": [
    "def recall(y_target, y_pred):\n",
    "    y_target_yn = K.round(K.clip(y_target, 0, 1))\n",
    "    y_pred_yn = K.round(K.clip(y_pred, 0, 1))\n",
    "    count_true_positive = K.sum(y_target_yn * y_pred_yn) \n",
    "    count_true_positive_false_negative = K.sum(y_target_yn)\n",
    "    recall = count_true_positive / (count_true_positive_false_negative + K.epsilon())\n",
    "    return recall\n",
    "\n",
    "\n",
    "def precision(y_target, y_pred):\n",
    "    y_pred_yn = K.round(K.clip(y_pred, 0, 1))\n",
    "    y_target_yn = K.round(K.clip(y_target, 0, 1))\n",
    "    count_true_positive = K.sum(y_target_yn * y_pred_yn)\n",
    "    count_true_positive_false_positive = K.sum(y_pred_yn)\n",
    "    precision = count_true_positive / (count_true_positive_false_positive + K.epsilon())\n",
    "    return precision\n",
    "\n",
    "\n",
    "def f1score(y_target, y_pred):\n",
    "    _recall = recall(y_target, y_pred)\n",
    "    _precision = precision(y_target, y_pred)\n",
    "    _f1score = ( 2 * _recall * _precision) / (_recall + _precision+ K.epsilon())\n",
    "    return _f1score"
   ]
  },
  {
   "cell_type": "code",
   "execution_count": 69,
   "metadata": {},
   "outputs": [],
   "source": [
    "def reshapeLinearData(eeg):\n",
    "    data=[]\n",
    "    data=np.r_[eeg[0],eeg[1]]\n",
    "    for i in range(2,len(eeg)):\n",
    "        data=np.r_[data,eeg[i]]\n",
    "    return data"
   ]
  },
  {
   "cell_type": "code",
   "execution_count": 207,
   "metadata": {},
   "outputs": [],
   "source": [
    "def getData(src) :\n",
    "    data = mne.io.read_raw_edf(file)\n",
    "    raw_data = data.get_data()\n",
    "    #info = data.info\n",
    "    #channels = data.ch_names\n",
    "    raw_data=raw_data[2:16]\n",
    "    return raw_data#, info, channels"
   ]
  },
  {
   "cell_type": "code",
   "execution_count": 235,
   "metadata": {},
   "outputs": [],
   "source": [
    "def drawGraph(hist) :\n",
    "    fig, loss_ax = plt.subplots()\n",
    "\n",
    "    acc_ax = loss_ax.twinx()\n",
    "\n",
    "    loss_ax.plot(hist.history['loss'], 'y', label='train loss')\n",
    "    loss_ax.plot(hist.history['val_loss'], 'r', label='val loss')\n",
    "\n",
    "    acc_ax.plot(hist.history['accuracy'], 'b', label='train acc')\n",
    "    acc_ax.plot(hist.history['val_accuracy'], 'g', label='val acc')\n",
    "\n",
    "    loss_ax.set_xlabel('epoch')\n",
    "    loss_ax.set_ylabel('loss')\n",
    "    acc_ax.set_ylabel('accuray')\n",
    "\n",
    "    loss_ax.legend(loc='upper left')\n",
    "    acc_ax.legend(loc='lower left')\n",
    "\n",
    "    _loss, _acc, _precision, _recall, _f1score = model.evaluate(X_test, y_test)\n",
    "    \n",
    "    fig, rec_ax = plt.subplots()\n",
    "\n",
    "    pre_ax = rec_ax.twinx()\n",
    "\n",
    "    rec_ax.plot(hist.history['recall'], 'y', label='train recall')\n",
    "    rec_ax.plot(hist.history['val_recall'], 'r', label='val recall')\n",
    "\n",
    "    pre_ax.plot(hist.history['precision'], 'b', label='train precision')\n",
    "    pre_ax.plot(hist.history['val_precision'], 'g', label='val precision')\n",
    "\n",
    "    rec_ax.set_xlabel('epoch')\n",
    "    rec_ax.set_ylabel('recall')\n",
    "    pre_ax.set_ylabel('precision')\n",
    "\n",
    "    rec_ax.legend(loc='upper left')\n",
    "    pre_ax.legend(loc='lower left')\n",
    "    results = model.evaluate(X_test, y_test)\n",
    "    print('Test accuracy: ', results)\n",
    "    print('loss: {:.3f}, accuracy: {:.3f}, precision: {:.3f}, recall: {:.3f}, f1score: {:.3f}'.format(_loss, _acc, _precision, _recall, _f1score))\n",
    "\n",
    "    plt.show()\n",
    "    return"
   ]
  },
  {
   "cell_type": "code",
   "execution_count": 208,
   "metadata": {},
   "outputs": [
    {
     "name": "stdout",
     "output_type": "stream",
     "text": [
      "Extracting EDF parameters from C:\\Cognitive-Mental-workload-EEG-Data\\S01\\1-Back\\S01-01-25.09.2016.10.21.24.edf...\n",
      "EDF file detected\n",
      "Setting channel info structure...\n",
      "Creating raw.info structure...\n",
      "Extracting EDF parameters from C:\\Cognitive-Mental-workload-EEG-Data\\S01\\1-Back\\S01-01-25.09.2016.10.21.24.edf...\n",
      "EDF file detected\n",
      "Setting channel info structure...\n",
      "Creating raw.info structure...\n",
      "Extracting EDF parameters from C:\\Cognitive-Mental-workload-EEG-Data\\S01\\1-Back\\S01-01-25.09.2016.10.21.24.edf...\n",
      "EDF file detected\n",
      "Setting channel info structure...\n",
      "Creating raw.info structure...\n",
      "Extracting EDF parameters from C:\\Cognitive-Mental-workload-EEG-Data\\S01\\1-Back\\S01-01-25.09.2016.10.21.24.edf...\n",
      "EDF file detected\n",
      "Setting channel info structure...\n",
      "Creating raw.info structure...\n",
      "Extracting EDF parameters from C:\\Cognitive-Mental-workload-EEG-Data\\S01\\1-Back\\S01-01-25.09.2016.10.21.24.edf...\n",
      "EDF file detected\n",
      "Setting channel info structure...\n",
      "Creating raw.info structure...\n"
     ]
    }
   ],
   "source": [
    "S01_1_Back=getData(\"C:/Cognitive-Mental-workload-EEG-Data/S01/1-Back/S01-01-25.09.2016.10.21.24.edf\")\n",
    "S01_2_Back=getData(\"C:/Cognitive-Mental-workload-EEG-Data/S01/2-Back/S01-01-25.09.2016.10.27.55.edf\")\n",
    "S01_Dual_1_Back=getData(\"C:/Cognitive-Mental-workload-EEG-Data/S01/Dual-1-Back/S01-01-25.09.2016.10.35.36.edf\")\n",
    "S01_Dual_2_Back=getData(\"C:/Cognitive-Mental-workload-EEG-Data/S01/Dual-2-Back/S01-01-25.09.2016.10.45.01.edf\")\n",
    "S01_Idle=getData(\"C:/Cognitive-Mental-workload-EEG-Data/S01/Idle/S01-01-25.09.2016.10.52.46.edf\")"
   ]
  },
  {
   "cell_type": "code",
   "execution_count": 209,
   "metadata": {},
   "outputs": [
    {
     "name": "stdout",
     "output_type": "stream",
     "text": [
      "Extracting EDF parameters from C:\\Cognitive-Mental-workload-EEG-Data\\S01\\1-Back\\S01-01-25.09.2016.10.21.24.edf...\n",
      "EDF file detected\n",
      "Setting channel info structure...\n",
      "Creating raw.info structure...\n",
      "Extracting EDF parameters from C:\\Cognitive-Mental-workload-EEG-Data\\S01\\1-Back\\S01-01-25.09.2016.10.21.24.edf...\n",
      "EDF file detected\n",
      "Setting channel info structure...\n",
      "Creating raw.info structure...\n",
      "Extracting EDF parameters from C:\\Cognitive-Mental-workload-EEG-Data\\S01\\1-Back\\S01-01-25.09.2016.10.21.24.edf...\n",
      "EDF file detected\n",
      "Setting channel info structure...\n",
      "Creating raw.info structure...\n",
      "Extracting EDF parameters from C:\\Cognitive-Mental-workload-EEG-Data\\S01\\1-Back\\S01-01-25.09.2016.10.21.24.edf...\n",
      "EDF file detected\n",
      "Setting channel info structure...\n",
      "Creating raw.info structure...\n",
      "Extracting EDF parameters from C:\\Cognitive-Mental-workload-EEG-Data\\S01\\1-Back\\S01-01-25.09.2016.10.21.24.edf...\n",
      "EDF file detected\n",
      "Setting channel info structure...\n",
      "Creating raw.info structure...\n"
     ]
    }
   ],
   "source": [
    "S02_1_Back=getData(\"C:/Cognitive-Mental-workload-EEG-Data/S02/1-Back/S02-01-25.09.2016.11.25.53.edf\")\n",
    "S02_2_Back=getData(\"C:/Cognitive-Mental-workload-EEG-Data/S02/2-Back/S02-01-25.09.2016.11.58.29.edf\")\n",
    "S02_Dual_1_Back=getData(\"C:/Cognitive-Mental-workload-EEG-Data/S02/Dual-1-Back/S02-01-25.09.2016.11.42.51.edf\")\n",
    "S02_Dual_2_Back=getData(\"C:/Cognitive-Mental-workload-EEG-Data/S02/Dual-2-Back/S02-01-25.09.2016.11.53.46.edf\")\n",
    "S02_Idle=getData(\"C:/Cognitive-Mental-workload-EEG-Data/S02/Idle/S02-01-25.09.2016.11.12.43.edf\")"
   ]
  },
  {
   "cell_type": "code",
   "execution_count": 210,
   "metadata": {},
   "outputs": [
    {
     "name": "stdout",
     "output_type": "stream",
     "text": [
      "Extracting EDF parameters from C:\\Cognitive-Mental-workload-EEG-Data\\S01\\1-Back\\S01-01-25.09.2016.10.21.24.edf...\n",
      "EDF file detected\n",
      "Setting channel info structure...\n",
      "Creating raw.info structure...\n",
      "Extracting EDF parameters from C:\\Cognitive-Mental-workload-EEG-Data\\S01\\1-Back\\S01-01-25.09.2016.10.21.24.edf...\n",
      "EDF file detected\n",
      "Setting channel info structure...\n",
      "Creating raw.info structure...\n",
      "Extracting EDF parameters from C:\\Cognitive-Mental-workload-EEG-Data\\S01\\1-Back\\S01-01-25.09.2016.10.21.24.edf...\n",
      "EDF file detected\n",
      "Setting channel info structure...\n",
      "Creating raw.info structure...\n",
      "Extracting EDF parameters from C:\\Cognitive-Mental-workload-EEG-Data\\S01\\1-Back\\S01-01-25.09.2016.10.21.24.edf...\n",
      "EDF file detected\n",
      "Setting channel info structure...\n",
      "Creating raw.info structure...\n",
      "Extracting EDF parameters from C:\\Cognitive-Mental-workload-EEG-Data\\S01\\1-Back\\S01-01-25.09.2016.10.21.24.edf...\n",
      "EDF file detected\n",
      "Setting channel info structure...\n",
      "Creating raw.info structure...\n"
     ]
    }
   ],
   "source": [
    "S03_1_Back=getData(\"C:/Cognitive-Mental-workload-EEG-Data/S03/1-Back/S03-01-25.09.2016.12.18.39.edf\")\n",
    "S03_2_Back=getData(\"C:/Cognitive-Mental-workload-EEG-Data/S03/2-Back/S03-01-25.09.2016.12.23.01.edf\")\n",
    "S03_Dual_1_Back=getData(\"C:/Cognitive-Mental-workload-EEG-Data/S03/Dual-1-Back/S03-01-25.09.2016.12.27.56.edf\")\n",
    "S03_Dual_2_Back=getData(\"C:/Cognitive-Mental-workload-EEG-Data/S03/Dual-2-Back/S03-01-25.09.2016.12.32.14.edf\")\n",
    "S03_Idle=getData(\"C:/Cognitive-Mental-workload-EEG-Data/S03/Idle/S03-01-25.09.2016.12.37.32.edf\")"
   ]
  },
  {
   "cell_type": "code",
   "execution_count": 211,
   "metadata": {},
   "outputs": [
    {
     "name": "stdout",
     "output_type": "stream",
     "text": [
      "Extracting EDF parameters from C:\\Cognitive-Mental-workload-EEG-Data\\S01\\1-Back\\S01-01-25.09.2016.10.21.24.edf...\n",
      "EDF file detected\n",
      "Setting channel info structure...\n",
      "Creating raw.info structure...\n",
      "Extracting EDF parameters from C:\\Cognitive-Mental-workload-EEG-Data\\S01\\1-Back\\S01-01-25.09.2016.10.21.24.edf...\n",
      "EDF file detected\n",
      "Setting channel info structure...\n",
      "Creating raw.info structure...\n",
      "Extracting EDF parameters from C:\\Cognitive-Mental-workload-EEG-Data\\S01\\1-Back\\S01-01-25.09.2016.10.21.24.edf...\n",
      "EDF file detected\n",
      "Setting channel info structure...\n",
      "Creating raw.info structure...\n",
      "Extracting EDF parameters from C:\\Cognitive-Mental-workload-EEG-Data\\S01\\1-Back\\S01-01-25.09.2016.10.21.24.edf...\n",
      "EDF file detected\n",
      "Setting channel info structure...\n",
      "Creating raw.info structure...\n",
      "Extracting EDF parameters from C:\\Cognitive-Mental-workload-EEG-Data\\S01\\1-Back\\S01-01-25.09.2016.10.21.24.edf...\n",
      "EDF file detected\n",
      "Setting channel info structure...\n",
      "Creating raw.info structure...\n",
      "Extracting EDF parameters from C:\\Cognitive-Mental-workload-EEG-Data\\S01\\1-Back\\S01-01-25.09.2016.10.21.24.edf...\n",
      "EDF file detected\n",
      "Setting channel info structure...\n",
      "Creating raw.info structure...\n"
     ]
    }
   ],
   "source": [
    "S04_1_Back_1=getData(\"C:/Cognitive-Mental-workload-EEG-Data/S04/1-Back/S04-01-27.09.2016.17.32.39.edf\")\n",
    "S04_1_Back_2=getData(\"C:/Cognitive-Mental-workload-EEG-Data/S04/1-Back/S04-01-27.09.2016.17.34.40.edf\")\n",
    "S04_2_Back=getData(\"C:/Cognitive-Mental-workload-EEG-Data/S04/2-Back/S04-01-27.09.2016.17.38.23.edf\")\n",
    "S04_Dual_1_Back=getData(\"C:/Cognitive-Mental-workload-EEG-Data/S04/Dual-1-Back/S04-01-27.09.2016.17.43.22.edf\")\n",
    "S04_Dual_2_Back=getData(\"C:/Cognitive-Mental-workload-EEG-Data/S04/Dual-2-Back/S04-01-27.09.2016.17.46.53.edf\")\n",
    "S04_Idle=getData(\"C:/Cognitive-Mental-workload-EEG-Data/S04/Idle/S04-01-27.09.2016.17.51.54.edf\")"
   ]
  },
  {
   "cell_type": "code",
   "execution_count": 212,
   "metadata": {},
   "outputs": [
    {
     "name": "stdout",
     "output_type": "stream",
     "text": [
      "Extracting EDF parameters from C:\\Cognitive-Mental-workload-EEG-Data\\S01\\1-Back\\S01-01-25.09.2016.10.21.24.edf...\n",
      "EDF file detected\n",
      "Setting channel info structure...\n",
      "Creating raw.info structure...\n",
      "Extracting EDF parameters from C:\\Cognitive-Mental-workload-EEG-Data\\S01\\1-Back\\S01-01-25.09.2016.10.21.24.edf...\n",
      "EDF file detected\n",
      "Setting channel info structure...\n",
      "Creating raw.info structure...\n",
      "Extracting EDF parameters from C:\\Cognitive-Mental-workload-EEG-Data\\S01\\1-Back\\S01-01-25.09.2016.10.21.24.edf...\n",
      "EDF file detected\n",
      "Setting channel info structure...\n",
      "Creating raw.info structure...\n",
      "Extracting EDF parameters from C:\\Cognitive-Mental-workload-EEG-Data\\S01\\1-Back\\S01-01-25.09.2016.10.21.24.edf...\n",
      "EDF file detected\n",
      "Setting channel info structure...\n",
      "Creating raw.info structure...\n",
      "Extracting EDF parameters from C:\\Cognitive-Mental-workload-EEG-Data\\S01\\1-Back\\S01-01-25.09.2016.10.21.24.edf...\n",
      "EDF file detected\n",
      "Setting channel info structure...\n",
      "Creating raw.info structure...\n"
     ]
    }
   ],
   "source": [
    "S05_1_Back=getData(\"C:/Cognitive-Mental-workload-EEG-Data/S05/1-Back/S05-01-27.09.2016.18.08.39.edf\")\n",
    "S05_2_Back=getData(\"C:/Cognitive-Mental-workload-EEG-Data/S05/2-Back/S05-01-27.09.2016.18.12.18.edf\")\n",
    "S05_Dual_1_Back=getData(\"C:/Cognitive-Mental-workload-EEG-Data/S05/Dual-1-Back/S05-01-27.09.2016.18.16.18.edf\")\n",
    "S05_Dual_2_Back=getData(\"C:/Cognitive-Mental-workload-EEG-Data/S05/Dual-2-Back/S05-01-27.09.2016.18.20.17.edf\")\n",
    "S05_Idle=getData(\"C:/Cognitive-Mental-workload-EEG-Data/S05/Idle/S05-01-27.09.2016.18.24.46.edf\")"
   ]
  },
  {
   "cell_type": "code",
   "execution_count": 213,
   "metadata": {},
   "outputs": [],
   "source": [
    "S01_1_Back=S01_1_Back.T\n",
    "S01_2_Back=S01_2_Back.T\n",
    "S01_Dual_1_Back=S01_Dual_1_Back.T\n",
    "S01_Dual_2_Back=S01_Dual_2_Back.T\n",
    "S01_Idle=S01_Idle.T\n",
    "\n",
    "S02_1_Back=S02_1_Back.T\n",
    "S02_2_Back=S02_2_Back.T\n",
    "S02_Dual_1_Back=S02_Dual_1_Back.T\n",
    "S02_Dual_2_Back=S02_Dual_2_Back.T\n",
    "S02_Idle=S02_Idle.T\n",
    "\n",
    "S03_1_Back=S03_1_Back.T\n",
    "S03_2_Back=S03_2_Back.T\n",
    "S03_Dual_1_Back=S03_Dual_1_Back.T\n",
    "S03_Dual_2_Back=S03_Dual_2_Back.T\n",
    "S03_Idle=S03_Idle.T\n",
    "\n",
    "S04_1_Back_1=S04_1_Back_1.T\n",
    "S04_1_Back_2=S04_1_Back_2.T\n",
    "S04_2_Back=S04_2_Back.T\n",
    "S04_Dual_1_Back=S04_Dual_1_Back.T\n",
    "S04_Dual_2_Back=S04_Dual_2_Back.T\n",
    "S04_Idle=S04_Idle.T\n",
    "\n",
    "S05_1_Back=S05_1_Back.T\n",
    "S05_2_Back=S05_2_Back.T\n",
    "S05_Dual_1_Back=S05_Dual_1_Back.T\n",
    "S05_Dual_2_Back=S05_Dual_2_Back.T\n",
    "S05_Idle=S05_Idle.T"
   ]
  },
  {
   "cell_type": "code",
   "execution_count": 214,
   "metadata": {},
   "outputs": [],
   "source": [
    "Back_1=np.r_[S01_1_Back,S02_1_Back]\n",
    "Back_1=np.r_[Back_1,S03_1_Back]\n",
    "Back_1=np.r_[Back_1,S04_1_Back_1]\n",
    "Back_1=np.r_[Back_1,S04_1_Back_2]\n",
    "Back_1=np.r_[Back_1,S05_1_Back]"
   ]
  },
  {
   "cell_type": "code",
   "execution_count": 215,
   "metadata": {},
   "outputs": [],
   "source": [
    "Back_2=np.r_[S01_2_Back,S02_2_Back]\n",
    "Back_2=np.r_[Back_2,S03_2_Back]\n",
    "Back_2=np.r_[Back_2,S04_2_Back]\n",
    "Back_2=np.r_[Back_2,S05_2_Back]"
   ]
  },
  {
   "cell_type": "code",
   "execution_count": 216,
   "metadata": {},
   "outputs": [],
   "source": [
    "Dual_1_Back=np.r_[S01_Dual_1_Back,S02_Dual_1_Back]\n",
    "Dual_1_Back=np.r_[Dual_1_Back,S03_Dual_1_Back]\n",
    "Dual_1_Back=np.r_[Dual_1_Back,S04_Dual_1_Back]\n",
    "Dual_1_Back=np.r_[Dual_1_Back,S05_Dual_1_Back]"
   ]
  },
  {
   "cell_type": "code",
   "execution_count": 217,
   "metadata": {},
   "outputs": [],
   "source": [
    "Dual_2_Back=np.r_[S01_Dual_2_Back,S02_Dual_2_Back]\n",
    "Dual_2_Back=np.r_[Dual_2_Back,S03_Dual_2_Back]\n",
    "Dual_2_Back=np.r_[Dual_2_Back,S04_Dual_2_Back]\n",
    "Dual_2_Back=np.r_[Dual_2_Back,S05_Dual_2_Back]"
   ]
  },
  {
   "cell_type": "code",
   "execution_count": 218,
   "metadata": {},
   "outputs": [],
   "source": [
    "Idle=np.r_[S01_Idle,S02_Idle]\n",
    "Idle=np.r_[Idle,S03_Idle]\n",
    "Idle=np.r_[Idle,S04_Idle]\n",
    "Idle=np.r_[Idle,S05_Idle]"
   ]
  },
  {
   "cell_type": "code",
   "execution_count": 219,
   "metadata": {},
   "outputs": [],
   "source": [
    "scaler=MinMaxScaler()\n",
    "Back_1[:]=scaler.fit_transform(Back_1[:])*255\n",
    "Back_2[:]=scaler.fit_transform(Back_2[:])*255\n",
    "Dual_1_Back[:]=scaler.fit_transform(Dual_1_Back[:])*255\n",
    "Dual_2_Back[:]=scaler.fit_transform(Dual_2_Back[:])*255\n",
    "Idle[:]=scaler.fit_transform(Idle[:])*255"
   ]
  },
  {
   "cell_type": "code",
   "execution_count": 220,
   "metadata": {},
   "outputs": [
    {
     "name": "stdout",
     "output_type": "stream",
     "text": [
      "(141312, 14) (117760, 14) (117760, 14) (117760, 14) (117760, 14)\n"
     ]
    }
   ],
   "source": [
    "print(Back_1.shape, Back_2.shape, Dual_1_Back.shape, Dual_2_Back.shape, Idle.shape)"
   ]
  },
  {
   "cell_type": "code",
   "execution_count": 221,
   "metadata": {},
   "outputs": [
    {
     "data": {
      "text/html": [
       "<div>\n",
       "<style scoped>\n",
       "    .dataframe tbody tr th:only-of-type {\n",
       "        vertical-align: middle;\n",
       "    }\n",
       "\n",
       "    .dataframe tbody tr th {\n",
       "        vertical-align: top;\n",
       "    }\n",
       "\n",
       "    .dataframe thead th {\n",
       "        text-align: right;\n",
       "    }\n",
       "</style>\n",
       "<table border=\"1\" class=\"dataframe\">\n",
       "  <thead>\n",
       "    <tr style=\"text-align: right;\">\n",
       "      <th></th>\n",
       "      <th>0</th>\n",
       "      <th>1</th>\n",
       "      <th>2</th>\n",
       "      <th>3</th>\n",
       "      <th>4</th>\n",
       "      <th>5</th>\n",
       "      <th>6</th>\n",
       "      <th>7</th>\n",
       "      <th>8</th>\n",
       "      <th>9</th>\n",
       "      <th>10</th>\n",
       "      <th>11</th>\n",
       "      <th>12</th>\n",
       "      <th>13</th>\n",
       "    </tr>\n",
       "  </thead>\n",
       "  <tbody>\n",
       "    <tr>\n",
       "      <th>0</th>\n",
       "      <td>86.422594</td>\n",
       "      <td>93.136020</td>\n",
       "      <td>84.442623</td>\n",
       "      <td>89.0</td>\n",
       "      <td>74.553073</td>\n",
       "      <td>123.25</td>\n",
       "      <td>109.641694</td>\n",
       "      <td>106.776860</td>\n",
       "      <td>185.780031</td>\n",
       "      <td>106.363636</td>\n",
       "      <td>120.585683</td>\n",
       "      <td>73.118280</td>\n",
       "      <td>96.204545</td>\n",
       "      <td>71.220703</td>\n",
       "    </tr>\n",
       "    <tr>\n",
       "      <th>1</th>\n",
       "      <td>85.889121</td>\n",
       "      <td>95.705290</td>\n",
       "      <td>73.573770</td>\n",
       "      <td>91.0</td>\n",
       "      <td>78.589385</td>\n",
       "      <td>126.65</td>\n",
       "      <td>113.794788</td>\n",
       "      <td>103.264463</td>\n",
       "      <td>183.790952</td>\n",
       "      <td>119.318182</td>\n",
       "      <td>122.245119</td>\n",
       "      <td>74.946237</td>\n",
       "      <td>100.261364</td>\n",
       "      <td>68.730469</td>\n",
       "    </tr>\n",
       "    <tr>\n",
       "      <th>2</th>\n",
       "      <td>89.623431</td>\n",
       "      <td>91.209068</td>\n",
       "      <td>85.278689</td>\n",
       "      <td>85.0</td>\n",
       "      <td>70.516760</td>\n",
       "      <td>157.25</td>\n",
       "      <td>125.423453</td>\n",
       "      <td>100.454545</td>\n",
       "      <td>182.995320</td>\n",
       "      <td>117.954545</td>\n",
       "      <td>118.926247</td>\n",
       "      <td>85.000000</td>\n",
       "      <td>94.465909</td>\n",
       "      <td>69.726563</td>\n",
       "    </tr>\n",
       "    <tr>\n",
       "      <th>3</th>\n",
       "      <td>104.560669</td>\n",
       "      <td>119.471033</td>\n",
       "      <td>94.475410</td>\n",
       "      <td>124.0</td>\n",
       "      <td>76.927374</td>\n",
       "      <td>173.40</td>\n",
       "      <td>132.068404</td>\n",
       "      <td>120.123967</td>\n",
       "      <td>200.499220</td>\n",
       "      <td>130.909091</td>\n",
       "      <td>140.498915</td>\n",
       "      <td>119.731183</td>\n",
       "      <td>103.738636</td>\n",
       "      <td>91.142578</td>\n",
       "    </tr>\n",
       "    <tr>\n",
       "      <th>4</th>\n",
       "      <td>69.884937</td>\n",
       "      <td>76.435768</td>\n",
       "      <td>52.672131</td>\n",
       "      <td>62.0</td>\n",
       "      <td>76.452514</td>\n",
       "      <td>89.25</td>\n",
       "      <td>58.973941</td>\n",
       "      <td>61.115702</td>\n",
       "      <td>180.210608</td>\n",
       "      <td>97.500000</td>\n",
       "      <td>108.416486</td>\n",
       "      <td>62.150538</td>\n",
       "      <td>89.539773</td>\n",
       "      <td>58.271484</td>\n",
       "    </tr>\n",
       "    <tr>\n",
       "      <th>...</th>\n",
       "      <td>...</td>\n",
       "      <td>...</td>\n",
       "      <td>...</td>\n",
       "      <td>...</td>\n",
       "      <td>...</td>\n",
       "      <td>...</td>\n",
       "      <td>...</td>\n",
       "      <td>...</td>\n",
       "      <td>...</td>\n",
       "      <td>...</td>\n",
       "      <td>...</td>\n",
       "      <td>...</td>\n",
       "      <td>...</td>\n",
       "      <td>...</td>\n",
       "    </tr>\n",
       "    <tr>\n",
       "      <th>141307</th>\n",
       "      <td>64.550209</td>\n",
       "      <td>122.040302</td>\n",
       "      <td>86.114754</td>\n",
       "      <td>126.0</td>\n",
       "      <td>32.053073</td>\n",
       "      <td>159.80</td>\n",
       "      <td>174.429967</td>\n",
       "      <td>127.148760</td>\n",
       "      <td>193.736349</td>\n",
       "      <td>141.818182</td>\n",
       "      <td>157.646421</td>\n",
       "      <td>166.344086</td>\n",
       "      <td>115.329545</td>\n",
       "      <td>127.500000</td>\n",
       "    </tr>\n",
       "    <tr>\n",
       "      <th>141308</th>\n",
       "      <td>48.546025</td>\n",
       "      <td>118.828715</td>\n",
       "      <td>68.557377</td>\n",
       "      <td>123.0</td>\n",
       "      <td>34.902235</td>\n",
       "      <td>159.80</td>\n",
       "      <td>171.938111</td>\n",
       "      <td>118.719008</td>\n",
       "      <td>191.349454</td>\n",
       "      <td>155.454545</td>\n",
       "      <td>148.796095</td>\n",
       "      <td>150.806452</td>\n",
       "      <td>112.431818</td>\n",
       "      <td>123.017578</td>\n",
       "    </tr>\n",
       "    <tr>\n",
       "      <th>141309</th>\n",
       "      <td>42.677824</td>\n",
       "      <td>102.770781</td>\n",
       "      <td>63.540984</td>\n",
       "      <td>100.0</td>\n",
       "      <td>32.053073</td>\n",
       "      <td>124.95</td>\n",
       "      <td>149.511401</td>\n",
       "      <td>104.669421</td>\n",
       "      <td>181.404056</td>\n",
       "      <td>126.136364</td>\n",
       "      <td>133.861171</td>\n",
       "      <td>132.526882</td>\n",
       "      <td>108.085227</td>\n",
       "      <td>113.056641</td>\n",
       "    </tr>\n",
       "    <tr>\n",
       "      <th>141310</th>\n",
       "      <td>54.947699</td>\n",
       "      <td>129.748111</td>\n",
       "      <td>68.557377</td>\n",
       "      <td>143.0</td>\n",
       "      <td>36.801676</td>\n",
       "      <td>129.20</td>\n",
       "      <td>165.293160</td>\n",
       "      <td>124.338843</td>\n",
       "      <td>188.962559</td>\n",
       "      <td>143.863636</td>\n",
       "      <td>151.008677</td>\n",
       "      <td>152.634409</td>\n",
       "      <td>119.965909</td>\n",
       "      <td>128.496094</td>\n",
       "    </tr>\n",
       "    <tr>\n",
       "      <th>141311</th>\n",
       "      <td>40.010460</td>\n",
       "      <td>82.216625</td>\n",
       "      <td>44.311475</td>\n",
       "      <td>75.0</td>\n",
       "      <td>31.815642</td>\n",
       "      <td>75.65</td>\n",
       "      <td>110.472313</td>\n",
       "      <td>82.892562</td>\n",
       "      <td>168.276131</td>\n",
       "      <td>103.636364</td>\n",
       "      <td>115.054230</td>\n",
       "      <td>111.505376</td>\n",
       "      <td>88.090909</td>\n",
       "      <td>91.640625</td>\n",
       "    </tr>\n",
       "  </tbody>\n",
       "</table>\n",
       "<p>141312 rows × 14 columns</p>\n",
       "</div>"
      ],
      "text/plain": [
       "                 0           1          2      3          4       5  \\\n",
       "0        86.422594   93.136020  84.442623   89.0  74.553073  123.25   \n",
       "1        85.889121   95.705290  73.573770   91.0  78.589385  126.65   \n",
       "2        89.623431   91.209068  85.278689   85.0  70.516760  157.25   \n",
       "3       104.560669  119.471033  94.475410  124.0  76.927374  173.40   \n",
       "4        69.884937   76.435768  52.672131   62.0  76.452514   89.25   \n",
       "...            ...         ...        ...    ...        ...     ...   \n",
       "141307   64.550209  122.040302  86.114754  126.0  32.053073  159.80   \n",
       "141308   48.546025  118.828715  68.557377  123.0  34.902235  159.80   \n",
       "141309   42.677824  102.770781  63.540984  100.0  32.053073  124.95   \n",
       "141310   54.947699  129.748111  68.557377  143.0  36.801676  129.20   \n",
       "141311   40.010460   82.216625  44.311475   75.0  31.815642   75.65   \n",
       "\n",
       "                 6           7           8           9          10  \\\n",
       "0       109.641694  106.776860  185.780031  106.363636  120.585683   \n",
       "1       113.794788  103.264463  183.790952  119.318182  122.245119   \n",
       "2       125.423453  100.454545  182.995320  117.954545  118.926247   \n",
       "3       132.068404  120.123967  200.499220  130.909091  140.498915   \n",
       "4        58.973941   61.115702  180.210608   97.500000  108.416486   \n",
       "...            ...         ...         ...         ...         ...   \n",
       "141307  174.429967  127.148760  193.736349  141.818182  157.646421   \n",
       "141308  171.938111  118.719008  191.349454  155.454545  148.796095   \n",
       "141309  149.511401  104.669421  181.404056  126.136364  133.861171   \n",
       "141310  165.293160  124.338843  188.962559  143.863636  151.008677   \n",
       "141311  110.472313   82.892562  168.276131  103.636364  115.054230   \n",
       "\n",
       "                11          12          13  \n",
       "0        73.118280   96.204545   71.220703  \n",
       "1        74.946237  100.261364   68.730469  \n",
       "2        85.000000   94.465909   69.726563  \n",
       "3       119.731183  103.738636   91.142578  \n",
       "4        62.150538   89.539773   58.271484  \n",
       "...            ...         ...         ...  \n",
       "141307  166.344086  115.329545  127.500000  \n",
       "141308  150.806452  112.431818  123.017578  \n",
       "141309  132.526882  108.085227  113.056641  \n",
       "141310  152.634409  119.965909  128.496094  \n",
       "141311  111.505376   88.090909   91.640625  \n",
       "\n",
       "[141312 rows x 14 columns]"
      ]
     },
     "execution_count": 221,
     "metadata": {},
     "output_type": "execute_result"
    }
   ],
   "source": [
    "pd.DataFrame(Back_1)"
   ]
  },
  {
   "cell_type": "code",
   "execution_count": 222,
   "metadata": {},
   "outputs": [],
   "source": [
    "Back1=pd.DataFrame(Back_1)\n",
    "Back2=pd.DataFrame(Back_2)\n",
    "Dual1=pd.DataFrame(Dual_1_Back)\n",
    "Dual2=pd.DataFrame(Dual_2_Back)\n",
    "Idle=pd.DataFrame(Idle)"
   ]
  },
  {
   "cell_type": "code",
   "execution_count": 223,
   "metadata": {},
   "outputs": [],
   "source": [
    "#결측값 제거 (0값 제거)\n",
    "Back1_idx = Back1[:].isin(['0'])\n",
    "Back2_idx=Back2[:].isin(['0'])\n",
    "Dual1_idx=Dual1[:].isin(['0'])\n",
    "Dual2_idx=Dual2[:].isin(['0'])\n",
    "Idle_idx=Idle[:].isin(['0'])\n",
    "\n",
    "Back1=Back1[~Back1_idx]\n",
    "Back2=Back2[~Back2_idx]\n",
    "Dual1=Dual1[~Dual1_idx]\n",
    "Dual2=Dual2[~Dual2_idx]\n",
    "Idle=Idle[~Idle_idx]\n",
    "\n",
    "Back1.dropna(inplace=True)\n",
    "Back2.dropna(inplace=True)\n",
    "Dual1.dropna(inplace=True)\n",
    "Dual2.dropna(inplace=True)\n",
    "Idle.dropna(inplace=True)\n",
    "\n",
    "Back1=Back1.values\n",
    "Back2=Back2.values\n",
    "Dual1=Dual1.values\n",
    "Dual2=Dual2.values\n",
    "Idle=Idle.values"
   ]
  },
  {
   "cell_type": "code",
   "execution_count": 224,
   "metadata": {},
   "outputs": [
    {
     "name": "stdout",
     "output_type": "stream",
     "text": [
      "(141246, 14) (117705, 14) (117705, 14) (117705, 14) (117705, 14)\n"
     ]
    }
   ],
   "source": [
    "print(Back1.shape, Back2.shape, Dual1.shape, Dual2.shape, Idle.shape)"
   ]
  },
  {
   "cell_type": "code",
   "execution_count": 228,
   "metadata": {},
   "outputs": [
    {
     "name": "stdout",
     "output_type": "stream",
     "text": [
      "(612066, 14)\n"
     ]
    }
   ],
   "source": [
    "data=np.r_[Back1, Back2]\n",
    "data=np.r_[data, Dual1]\n",
    "data=np.r_[data, Dual2]\n",
    "data=np.r_[data, Idle]\n",
    "print(data.shape)"
   ]
  },
  {
   "cell_type": "code",
   "execution_count": 231,
   "metadata": {},
   "outputs": [
    {
     "name": "stdout",
     "output_type": "stream",
     "text": [
      "(141246, 1) (117705, 1) (117705, 1) (117705, 1) (117705, 1)\n"
     ]
    }
   ],
   "source": [
    "label_0=np.zeros((len(Back1),1))\n",
    "label_1=np.ones((len(Back2),1))\n",
    "label_2=np.full((len(Dual1),1),2)\n",
    "label_3=np.full((len(Dual2),1),3)\n",
    "label_4=np.full((len(Idle),1),4)\n",
    "print(label_0.shape, label_1.shape, label_2.shape, label_3.shape, label_4.shape)"
   ]
  },
  {
   "cell_type": "code",
   "execution_count": 230,
   "metadata": {},
   "outputs": [
    {
     "name": "stdout",
     "output_type": "stream",
     "text": [
      "(612066, 1)\n"
     ]
    }
   ],
   "source": [
    "label=np.r_[label_0, label_1]\n",
    "label=np.r_[label, label_2]\n",
    "label=np.r_[label, label_3]\n",
    "label=np.r_[label, label_4]\n",
    "print(label.shape)"
   ]
  },
  {
   "cell_type": "code",
   "execution_count": 233,
   "metadata": {},
   "outputs": [
    {
     "name": "stdout",
     "output_type": "stream",
     "text": [
      "(612066, 14) (612066, 5)\n"
     ]
    }
   ],
   "source": [
    "label=to_categorical(label,5)\n",
    "print(data.shape, label.shape)"
   ]
  },
  {
   "cell_type": "code",
   "execution_count": 239,
   "metadata": {},
   "outputs": [
    {
     "name": "stdout",
     "output_type": "stream",
     "text": [
      "(428446, 14) (183620, 14) (428446, 5) (183620, 5)\n"
     ]
    }
   ],
   "source": [
    "X_train, X_test, y_train, y_test = train_test_split(data, label, test_size=0.3, random_state=None, shuffle=True, stratify=label)\n",
    "print(X_train.shape, X_test.shape, y_train.shape, y_test.shape)"
   ]
  },
  {
   "cell_type": "code",
   "execution_count": 240,
   "metadata": {},
   "outputs": [
    {
     "name": "stdout",
     "output_type": "stream",
     "text": [
      "Model: \"functional_1\"\n",
      "_________________________________________________________________\n",
      "Layer (type)                 Output Shape              Param #   \n",
      "=================================================================\n",
      "input_1 (InputLayer)         [(None, 14)]              0         \n",
      "_________________________________________________________________\n",
      "dense_2 (Dense)              (None, 150)               2250      \n",
      "_________________________________________________________________\n",
      "dropout_2 (Dropout)          (None, 150)               0         \n",
      "_________________________________________________________________\n",
      "dense_3 (Dense)              (None, 200)               30200     \n",
      "_________________________________________________________________\n",
      "dense_4 (Dense)              (None, 5)                 1005      \n",
      "=================================================================\n",
      "Total params: 33,455\n",
      "Trainable params: 33,455\n",
      "Non-trainable params: 0\n",
      "_________________________________________________________________\n"
     ]
    }
   ],
   "source": [
    "def model_create(eeg_data):\n",
    "    eeg_input=Input(shape=(14,)) #입력 정의\n",
    "    \n",
    "    eeg_output = Dense(50, activation='relu')(eeg_input)\n",
    "    eeg_output = Dropout(0.5)(eeg_output)\n",
    "    eeg_output = Dense(150, activation='relu')(eeg_input)\n",
    "    eeg_output = Dropout(0.5)(eeg_output)\n",
    "    eeg_output = Dense(150, activation='relu')(eeg_input)\n",
    "    eeg_output = Dropout(0.5)(eeg_output)\n",
    "    eeg_output = Dense(200, activation='relu')(eeg_output)\n",
    "    \n",
    "    model = Dense(5, activation='sigmoid')(eeg_output)\n",
    "    \n",
    "    model = keras.models.Model(inputs=eeg_input, outputs=model) \n",
    "    \n",
    "    model.compile(loss='binary_crossentropy', optimizer = 'adam', metrics=['accuracy', precision, recall, f1score])\n",
    "    \n",
    "    return model \n",
    "\n",
    "model=model_create(data)\n",
    "model.summary()"
   ]
  },
  {
   "cell_type": "code",
   "execution_count": 245,
   "metadata": {},
   "outputs": [
    {
     "name": "stdout",
     "output_type": "stream",
     "text": [
      "Epoch 1/50\n",
      "42845/42845 [==============================] - 29s 681us/step - loss: 0.4997 - accuracy: 0.2308 - precision: 0.0000e+00 - recall: 0.0000e+00 - f1score: 0.0000e+00 - val_loss: 0.4997 - val_accuracy: 0.2308 - val_precision: 0.0000e+00 - val_recall: 0.0000e+00 - val_f1score: 0.0000e+00\n",
      "Epoch 2/50\n",
      "42845/42845 [==============================] - 29s 685us/step - loss: 0.4997 - accuracy: 0.2308 - precision: 0.0000e+00 - recall: 0.0000e+00 - f1score: 0.0000e+00 - val_loss: 0.4997 - val_accuracy: 0.2308 - val_precision: 0.0000e+00 - val_recall: 0.0000e+00 - val_f1score: 0.0000e+00\n",
      "Epoch 3/50\n",
      "42845/42845 [==============================] - 29s 684us/step - loss: 0.4997 - accuracy: 0.2308 - precision: 0.0000e+00 - recall: 0.0000e+00 - f1score: 0.0000e+00 - val_loss: 0.4997 - val_accuracy: 0.2308 - val_precision: 0.0000e+00 - val_recall: 0.0000e+00 - val_f1score: 0.0000e+00\n",
      "Epoch 4/50\n",
      "42845/42845 [==============================] - 29s 682us/step - loss: 0.4997 - accuracy: 0.2308 - precision: 0.0000e+00 - recall: 0.0000e+00 - f1score: 0.0000e+00 - val_loss: 0.4997 - val_accuracy: 0.2308 - val_precision: 0.0000e+00 - val_recall: 0.0000e+00 - val_f1score: 0.0000e+00\n",
      "Epoch 5/50\n",
      "42845/42845 [==============================] - 30s 690us/step - loss: 0.4997 - accuracy: 0.2308 - precision: 0.0000e+00 - recall: 0.0000e+00 - f1score: 0.0000e+00 - val_loss: 0.4997 - val_accuracy: 0.2308 - val_precision: 0.0000e+00 - val_recall: 0.0000e+00 - val_f1score: 0.0000e+00\n",
      "Epoch 6/50\n",
      "42845/42845 [==============================] - 30s 690us/step - loss: 0.4997 - accuracy: 0.2308 - precision: 0.0000e+00 - recall: 0.0000e+00 - f1score: 0.0000e+00 - val_loss: 0.4997 - val_accuracy: 0.2308 - val_precision: 0.0000e+00 - val_recall: 0.0000e+00 - val_f1score: 0.0000e+00\n",
      "Epoch 7/50\n",
      "42845/42845 [==============================] - 29s 678us/step - loss: 0.4997 - accuracy: 0.2308 - precision: 0.0000e+00 - recall: 0.0000e+00 - f1score: 0.0000e+00 - val_loss: 0.4997 - val_accuracy: 0.2308 - val_precision: 0.0000e+00 - val_recall: 0.0000e+00 - val_f1score: 0.0000e+00\n",
      "Epoch 8/50\n",
      "42845/42845 [==============================] - 29s 681us/step - loss: 0.4997 - accuracy: 0.2308 - precision: 0.0000e+00 - recall: 0.0000e+00 - f1score: 0.0000e+00 - val_loss: 0.4997 - val_accuracy: 0.2308 - val_precision: 0.0000e+00 - val_recall: 0.0000e+00 - val_f1score: 0.0000e+00\n",
      "Epoch 9/50\n",
      "42845/42845 [==============================] - 29s 687us/step - loss: 0.4997 - accuracy: 0.2308 - precision: 0.0000e+00 - recall: 0.0000e+00 - f1score: 0.0000e+00 - val_loss: 0.4997 - val_accuracy: 0.2308 - val_precision: 0.0000e+00 - val_recall: 0.0000e+00 - val_f1score: 0.0000e+00\n",
      "Epoch 10/50\n",
      "42845/42845 [==============================] - 29s 683us/step - loss: 0.4997 - accuracy: 0.2308 - precision: 0.0000e+00 - recall: 0.0000e+00 - f1score: 0.0000e+00 - val_loss: 0.4997 - val_accuracy: 0.2308 - val_precision: 0.0000e+00 - val_recall: 0.0000e+00 - val_f1score: 0.0000e+00\n",
      "Epoch 11/50\n",
      "42845/42845 [==============================] - 29s 687us/step - loss: 0.4997 - accuracy: 0.2308 - precision: 0.0000e+00 - recall: 0.0000e+00 - f1score: 0.0000e+00 - val_loss: 0.4997 - val_accuracy: 0.2308 - val_precision: 0.0000e+00 - val_recall: 0.0000e+00 - val_f1score: 0.0000e+00\n",
      "Epoch 12/50\n",
      "42845/42845 [==============================] - 29s 681us/step - loss: 0.4997 - accuracy: 0.2308 - precision: 0.0000e+00 - recall: 0.0000e+00 - f1score: 0.0000e+00 - val_loss: 0.4998 - val_accuracy: 0.2308 - val_precision: 0.0000e+00 - val_recall: 0.0000e+00 - val_f1score: 0.0000e+00\n",
      "Epoch 13/50\n",
      "42845/42845 [==============================] - 29s 680us/step - loss: 0.4997 - accuracy: 0.2308 - precision: 0.0000e+00 - recall: 0.0000e+00 - f1score: 0.0000e+00 - val_loss: 0.4997 - val_accuracy: 0.2308 - val_precision: 0.0000e+00 - val_recall: 0.0000e+00 - val_f1score: 0.0000e+00\n",
      "Epoch 14/50\n",
      "42845/42845 [==============================] - 29s 675us/step - loss: 0.4997 - accuracy: 0.2308 - precision: 0.0000e+00 - recall: 0.0000e+00 - f1score: 0.0000e+00 - val_loss: 0.4997 - val_accuracy: 0.2308 - val_precision: 0.0000e+00 - val_recall: 0.0000e+00 - val_f1score: 0.0000e+00\n",
      "Epoch 15/50\n",
      "42845/42845 [==============================] - 29s 679us/step - loss: 0.4997 - accuracy: 0.2308 - precision: 0.0000e+00 - recall: 0.0000e+00 - f1score: 0.0000e+00 - val_loss: 0.4997 - val_accuracy: 0.2308 - val_precision: 0.0000e+00 - val_recall: 0.0000e+00 - val_f1score: 0.0000e+00\n",
      "Epoch 16/50\n",
      "42845/42845 [==============================] - 29s 682us/step - loss: 0.4997 - accuracy: 0.2308 - precision: 0.0000e+00 - recall: 0.0000e+00 - f1score: 0.0000e+00 - val_loss: 0.4997 - val_accuracy: 0.2308 - val_precision: 0.0000e+00 - val_recall: 0.0000e+00 - val_f1score: 0.0000e+00\n",
      "Epoch 17/50\n",
      "42845/42845 [==============================] - 29s 685us/step - loss: 0.4997 - accuracy: 0.2308 - precision: 0.0000e+00 - recall: 0.0000e+00 - f1score: 0.0000e+00 - val_loss: 0.4997 - val_accuracy: 0.2308 - val_precision: 0.0000e+00 - val_recall: 0.0000e+00 - val_f1score: 0.0000e+00\n",
      "Epoch 18/50\n",
      "42845/42845 [==============================] - 29s 674us/step - loss: 0.4997 - accuracy: 0.2308 - precision: 0.0000e+00 - recall: 0.0000e+00 - f1score: 0.0000e+00 - val_loss: 0.4997 - val_accuracy: 0.2308 - val_precision: 0.0000e+00 - val_recall: 0.0000e+00 - val_f1score: 0.0000e+00\n",
      "Epoch 19/50\n",
      "32707/42845 [=====================>........] - ETA: 5s - loss: 0.4997 - accuracy: 0.2314 - precision: 0.0000e+00 - recall: 0.0000e+00 - f1score: 0.0000e+00"
     ]
    },
    {
     "ename": "KeyboardInterrupt",
     "evalue": "",
     "output_type": "error",
     "traceback": [
      "\u001b[1;31m---------------------------------------------------------------------------\u001b[0m",
      "\u001b[1;31mKeyboardInterrupt\u001b[0m                         Traceback (most recent call last)",
      "\u001b[1;32m<ipython-input-245-633999bac352>\u001b[0m in \u001b[0;36m<module>\u001b[1;34m\u001b[0m\n\u001b[1;32m----> 1\u001b[1;33m \u001b[0mhist\u001b[0m\u001b[1;33m=\u001b[0m\u001b[0mmodel\u001b[0m\u001b[1;33m.\u001b[0m\u001b[0mfit\u001b[0m\u001b[1;33m(\u001b[0m\u001b[0mX_train\u001b[0m\u001b[1;33m,\u001b[0m \u001b[0my_train\u001b[0m\u001b[1;33m,\u001b[0m \u001b[0mepochs\u001b[0m\u001b[1;33m=\u001b[0m\u001b[1;36m50\u001b[0m\u001b[1;33m,\u001b[0m \u001b[0mbatch_size\u001b[0m\u001b[1;33m=\u001b[0m\u001b[1;36m10\u001b[0m\u001b[1;33m,\u001b[0m \u001b[0mvalidation_data\u001b[0m\u001b[1;33m=\u001b[0m\u001b[1;33m(\u001b[0m\u001b[0mX_test\u001b[0m\u001b[1;33m,\u001b[0m\u001b[0my_test\u001b[0m\u001b[1;33m)\u001b[0m\u001b[1;33m)\u001b[0m\u001b[1;33m\u001b[0m\u001b[1;33m\u001b[0m\u001b[0m\n\u001b[0m",
      "\u001b[1;32mC:\\Anaconda3\\envs\\env\\lib\\site-packages\\tensorflow\\python\\keras\\engine\\training.py\u001b[0m in \u001b[0;36m_method_wrapper\u001b[1;34m(self, *args, **kwargs)\u001b[0m\n\u001b[0;32m    106\u001b[0m   \u001b[1;32mdef\u001b[0m \u001b[0m_method_wrapper\u001b[0m\u001b[1;33m(\u001b[0m\u001b[0mself\u001b[0m\u001b[1;33m,\u001b[0m \u001b[1;33m*\u001b[0m\u001b[0margs\u001b[0m\u001b[1;33m,\u001b[0m \u001b[1;33m**\u001b[0m\u001b[0mkwargs\u001b[0m\u001b[1;33m)\u001b[0m\u001b[1;33m:\u001b[0m\u001b[1;33m\u001b[0m\u001b[1;33m\u001b[0m\u001b[0m\n\u001b[0;32m    107\u001b[0m     \u001b[1;32mif\u001b[0m \u001b[1;32mnot\u001b[0m \u001b[0mself\u001b[0m\u001b[1;33m.\u001b[0m\u001b[0m_in_multi_worker_mode\u001b[0m\u001b[1;33m(\u001b[0m\u001b[1;33m)\u001b[0m\u001b[1;33m:\u001b[0m  \u001b[1;31m# pylint: disable=protected-access\u001b[0m\u001b[1;33m\u001b[0m\u001b[1;33m\u001b[0m\u001b[0m\n\u001b[1;32m--> 108\u001b[1;33m       \u001b[1;32mreturn\u001b[0m \u001b[0mmethod\u001b[0m\u001b[1;33m(\u001b[0m\u001b[0mself\u001b[0m\u001b[1;33m,\u001b[0m \u001b[1;33m*\u001b[0m\u001b[0margs\u001b[0m\u001b[1;33m,\u001b[0m \u001b[1;33m**\u001b[0m\u001b[0mkwargs\u001b[0m\u001b[1;33m)\u001b[0m\u001b[1;33m\u001b[0m\u001b[1;33m\u001b[0m\u001b[0m\n\u001b[0m\u001b[0;32m    109\u001b[0m \u001b[1;33m\u001b[0m\u001b[0m\n\u001b[0;32m    110\u001b[0m     \u001b[1;31m# Running inside `run_distribute_coordinator` already.\u001b[0m\u001b[1;33m\u001b[0m\u001b[1;33m\u001b[0m\u001b[1;33m\u001b[0m\u001b[0m\n",
      "\u001b[1;32mC:\\Anaconda3\\envs\\env\\lib\\site-packages\\tensorflow\\python\\keras\\engine\\training.py\u001b[0m in \u001b[0;36mfit\u001b[1;34m(self, x, y, batch_size, epochs, verbose, callbacks, validation_split, validation_data, shuffle, class_weight, sample_weight, initial_epoch, steps_per_epoch, validation_steps, validation_batch_size, validation_freq, max_queue_size, workers, use_multiprocessing)\u001b[0m\n\u001b[0;32m   1096\u001b[0m                 batch_size=batch_size):\n\u001b[0;32m   1097\u001b[0m               \u001b[0mcallbacks\u001b[0m\u001b[1;33m.\u001b[0m\u001b[0mon_train_batch_begin\u001b[0m\u001b[1;33m(\u001b[0m\u001b[0mstep\u001b[0m\u001b[1;33m)\u001b[0m\u001b[1;33m\u001b[0m\u001b[1;33m\u001b[0m\u001b[0m\n\u001b[1;32m-> 1098\u001b[1;33m               \u001b[0mtmp_logs\u001b[0m \u001b[1;33m=\u001b[0m \u001b[0mtrain_function\u001b[0m\u001b[1;33m(\u001b[0m\u001b[0miterator\u001b[0m\u001b[1;33m)\u001b[0m\u001b[1;33m\u001b[0m\u001b[1;33m\u001b[0m\u001b[0m\n\u001b[0m\u001b[0;32m   1099\u001b[0m               \u001b[1;32mif\u001b[0m \u001b[0mdata_handler\u001b[0m\u001b[1;33m.\u001b[0m\u001b[0mshould_sync\u001b[0m\u001b[1;33m:\u001b[0m\u001b[1;33m\u001b[0m\u001b[1;33m\u001b[0m\u001b[0m\n\u001b[0;32m   1100\u001b[0m                 \u001b[0mcontext\u001b[0m\u001b[1;33m.\u001b[0m\u001b[0masync_wait\u001b[0m\u001b[1;33m(\u001b[0m\u001b[1;33m)\u001b[0m\u001b[1;33m\u001b[0m\u001b[1;33m\u001b[0m\u001b[0m\n",
      "\u001b[1;32mC:\\Anaconda3\\envs\\env\\lib\\site-packages\\tensorflow\\python\\eager\\def_function.py\u001b[0m in \u001b[0;36m__call__\u001b[1;34m(self, *args, **kwds)\u001b[0m\n\u001b[0;32m    778\u001b[0m       \u001b[1;32melse\u001b[0m\u001b[1;33m:\u001b[0m\u001b[1;33m\u001b[0m\u001b[1;33m\u001b[0m\u001b[0m\n\u001b[0;32m    779\u001b[0m         \u001b[0mcompiler\u001b[0m \u001b[1;33m=\u001b[0m \u001b[1;34m\"nonXla\"\u001b[0m\u001b[1;33m\u001b[0m\u001b[1;33m\u001b[0m\u001b[0m\n\u001b[1;32m--> 780\u001b[1;33m         \u001b[0mresult\u001b[0m \u001b[1;33m=\u001b[0m \u001b[0mself\u001b[0m\u001b[1;33m.\u001b[0m\u001b[0m_call\u001b[0m\u001b[1;33m(\u001b[0m\u001b[1;33m*\u001b[0m\u001b[0margs\u001b[0m\u001b[1;33m,\u001b[0m \u001b[1;33m**\u001b[0m\u001b[0mkwds\u001b[0m\u001b[1;33m)\u001b[0m\u001b[1;33m\u001b[0m\u001b[1;33m\u001b[0m\u001b[0m\n\u001b[0m\u001b[0;32m    781\u001b[0m \u001b[1;33m\u001b[0m\u001b[0m\n\u001b[0;32m    782\u001b[0m       \u001b[0mnew_tracing_count\u001b[0m \u001b[1;33m=\u001b[0m \u001b[0mself\u001b[0m\u001b[1;33m.\u001b[0m\u001b[0m_get_tracing_count\u001b[0m\u001b[1;33m(\u001b[0m\u001b[1;33m)\u001b[0m\u001b[1;33m\u001b[0m\u001b[1;33m\u001b[0m\u001b[0m\n",
      "\u001b[1;32mC:\\Anaconda3\\envs\\env\\lib\\site-packages\\tensorflow\\python\\eager\\def_function.py\u001b[0m in \u001b[0;36m_call\u001b[1;34m(self, *args, **kwds)\u001b[0m\n\u001b[0;32m    805\u001b[0m       \u001b[1;31m# In this case we have created variables on the first call, so we run the\u001b[0m\u001b[1;33m\u001b[0m\u001b[1;33m\u001b[0m\u001b[1;33m\u001b[0m\u001b[0m\n\u001b[0;32m    806\u001b[0m       \u001b[1;31m# defunned version which is guaranteed to never create variables.\u001b[0m\u001b[1;33m\u001b[0m\u001b[1;33m\u001b[0m\u001b[1;33m\u001b[0m\u001b[0m\n\u001b[1;32m--> 807\u001b[1;33m       \u001b[1;32mreturn\u001b[0m \u001b[0mself\u001b[0m\u001b[1;33m.\u001b[0m\u001b[0m_stateless_fn\u001b[0m\u001b[1;33m(\u001b[0m\u001b[1;33m*\u001b[0m\u001b[0margs\u001b[0m\u001b[1;33m,\u001b[0m \u001b[1;33m**\u001b[0m\u001b[0mkwds\u001b[0m\u001b[1;33m)\u001b[0m  \u001b[1;31m# pylint: disable=not-callable\u001b[0m\u001b[1;33m\u001b[0m\u001b[1;33m\u001b[0m\u001b[0m\n\u001b[0m\u001b[0;32m    808\u001b[0m     \u001b[1;32melif\u001b[0m \u001b[0mself\u001b[0m\u001b[1;33m.\u001b[0m\u001b[0m_stateful_fn\u001b[0m \u001b[1;32mis\u001b[0m \u001b[1;32mnot\u001b[0m \u001b[1;32mNone\u001b[0m\u001b[1;33m:\u001b[0m\u001b[1;33m\u001b[0m\u001b[1;33m\u001b[0m\u001b[0m\n\u001b[0;32m    809\u001b[0m       \u001b[1;31m# Release the lock early so that multiple threads can perform the call\u001b[0m\u001b[1;33m\u001b[0m\u001b[1;33m\u001b[0m\u001b[1;33m\u001b[0m\u001b[0m\n",
      "\u001b[1;32mC:\\Anaconda3\\envs\\env\\lib\\site-packages\\tensorflow\\python\\eager\\function.py\u001b[0m in \u001b[0;36m__call__\u001b[1;34m(self, *args, **kwargs)\u001b[0m\n\u001b[0;32m   2827\u001b[0m     \u001b[1;32mwith\u001b[0m \u001b[0mself\u001b[0m\u001b[1;33m.\u001b[0m\u001b[0m_lock\u001b[0m\u001b[1;33m:\u001b[0m\u001b[1;33m\u001b[0m\u001b[1;33m\u001b[0m\u001b[0m\n\u001b[0;32m   2828\u001b[0m       \u001b[0mgraph_function\u001b[0m\u001b[1;33m,\u001b[0m \u001b[0margs\u001b[0m\u001b[1;33m,\u001b[0m \u001b[0mkwargs\u001b[0m \u001b[1;33m=\u001b[0m \u001b[0mself\u001b[0m\u001b[1;33m.\u001b[0m\u001b[0m_maybe_define_function\u001b[0m\u001b[1;33m(\u001b[0m\u001b[0margs\u001b[0m\u001b[1;33m,\u001b[0m \u001b[0mkwargs\u001b[0m\u001b[1;33m)\u001b[0m\u001b[1;33m\u001b[0m\u001b[1;33m\u001b[0m\u001b[0m\n\u001b[1;32m-> 2829\u001b[1;33m     \u001b[1;32mreturn\u001b[0m \u001b[0mgraph_function\u001b[0m\u001b[1;33m.\u001b[0m\u001b[0m_filtered_call\u001b[0m\u001b[1;33m(\u001b[0m\u001b[0margs\u001b[0m\u001b[1;33m,\u001b[0m \u001b[0mkwargs\u001b[0m\u001b[1;33m)\u001b[0m  \u001b[1;31m# pylint: disable=protected-access\u001b[0m\u001b[1;33m\u001b[0m\u001b[1;33m\u001b[0m\u001b[0m\n\u001b[0m\u001b[0;32m   2830\u001b[0m \u001b[1;33m\u001b[0m\u001b[0m\n\u001b[0;32m   2831\u001b[0m   \u001b[1;33m@\u001b[0m\u001b[0mproperty\u001b[0m\u001b[1;33m\u001b[0m\u001b[1;33m\u001b[0m\u001b[0m\n",
      "\u001b[1;32mC:\\Anaconda3\\envs\\env\\lib\\site-packages\\tensorflow\\python\\eager\\function.py\u001b[0m in \u001b[0;36m_filtered_call\u001b[1;34m(self, args, kwargs, cancellation_manager)\u001b[0m\n\u001b[0;32m   1841\u001b[0m       \u001b[0;31m`\u001b[0m\u001b[0margs\u001b[0m\u001b[0;31m`\u001b[0m \u001b[1;32mand\u001b[0m\u001b[0;31m \u001b[0m\u001b[0;31m`\u001b[0m\u001b[0mkwargs\u001b[0m\u001b[0;31m`\u001b[0m\u001b[1;33m.\u001b[0m\u001b[1;33m\u001b[0m\u001b[1;33m\u001b[0m\u001b[0m\n\u001b[0;32m   1842\u001b[0m     \"\"\"\n\u001b[1;32m-> 1843\u001b[1;33m     return self._call_flat(\n\u001b[0m\u001b[0;32m   1844\u001b[0m         [t for t in nest.flatten((args, kwargs), expand_composites=True)\n\u001b[0;32m   1845\u001b[0m          if isinstance(t, (ops.Tensor,\n",
      "\u001b[1;32mC:\\Anaconda3\\envs\\env\\lib\\site-packages\\tensorflow\\python\\eager\\function.py\u001b[0m in \u001b[0;36m_call_flat\u001b[1;34m(self, args, captured_inputs, cancellation_manager)\u001b[0m\n\u001b[0;32m   1921\u001b[0m         and executing_eagerly):\n\u001b[0;32m   1922\u001b[0m       \u001b[1;31m# No tape is watching; skip to running the function.\u001b[0m\u001b[1;33m\u001b[0m\u001b[1;33m\u001b[0m\u001b[1;33m\u001b[0m\u001b[0m\n\u001b[1;32m-> 1923\u001b[1;33m       return self._build_call_outputs(self._inference_function.call(\n\u001b[0m\u001b[0;32m   1924\u001b[0m           ctx, args, cancellation_manager=cancellation_manager))\n\u001b[0;32m   1925\u001b[0m     forward_backward = self._select_forward_and_backward_functions(\n",
      "\u001b[1;32mC:\\Anaconda3\\envs\\env\\lib\\site-packages\\tensorflow\\python\\eager\\function.py\u001b[0m in \u001b[0;36mcall\u001b[1;34m(self, ctx, args, cancellation_manager)\u001b[0m\n\u001b[0;32m    543\u001b[0m       \u001b[1;32mwith\u001b[0m \u001b[0m_InterpolateFunctionError\u001b[0m\u001b[1;33m(\u001b[0m\u001b[0mself\u001b[0m\u001b[1;33m)\u001b[0m\u001b[1;33m:\u001b[0m\u001b[1;33m\u001b[0m\u001b[1;33m\u001b[0m\u001b[0m\n\u001b[0;32m    544\u001b[0m         \u001b[1;32mif\u001b[0m \u001b[0mcancellation_manager\u001b[0m \u001b[1;32mis\u001b[0m \u001b[1;32mNone\u001b[0m\u001b[1;33m:\u001b[0m\u001b[1;33m\u001b[0m\u001b[1;33m\u001b[0m\u001b[0m\n\u001b[1;32m--> 545\u001b[1;33m           outputs = execute.execute(\n\u001b[0m\u001b[0;32m    546\u001b[0m               \u001b[0mstr\u001b[0m\u001b[1;33m(\u001b[0m\u001b[0mself\u001b[0m\u001b[1;33m.\u001b[0m\u001b[0msignature\u001b[0m\u001b[1;33m.\u001b[0m\u001b[0mname\u001b[0m\u001b[1;33m)\u001b[0m\u001b[1;33m,\u001b[0m\u001b[1;33m\u001b[0m\u001b[1;33m\u001b[0m\u001b[0m\n\u001b[0;32m    547\u001b[0m               \u001b[0mnum_outputs\u001b[0m\u001b[1;33m=\u001b[0m\u001b[0mself\u001b[0m\u001b[1;33m.\u001b[0m\u001b[0m_num_outputs\u001b[0m\u001b[1;33m,\u001b[0m\u001b[1;33m\u001b[0m\u001b[1;33m\u001b[0m\u001b[0m\n",
      "\u001b[1;32mC:\\Anaconda3\\envs\\env\\lib\\site-packages\\tensorflow\\python\\eager\\execute.py\u001b[0m in \u001b[0;36mquick_execute\u001b[1;34m(op_name, num_outputs, inputs, attrs, ctx, name)\u001b[0m\n\u001b[0;32m     57\u001b[0m   \u001b[1;32mtry\u001b[0m\u001b[1;33m:\u001b[0m\u001b[1;33m\u001b[0m\u001b[1;33m\u001b[0m\u001b[0m\n\u001b[0;32m     58\u001b[0m     \u001b[0mctx\u001b[0m\u001b[1;33m.\u001b[0m\u001b[0mensure_initialized\u001b[0m\u001b[1;33m(\u001b[0m\u001b[1;33m)\u001b[0m\u001b[1;33m\u001b[0m\u001b[1;33m\u001b[0m\u001b[0m\n\u001b[1;32m---> 59\u001b[1;33m     tensors = pywrap_tfe.TFE_Py_Execute(ctx._handle, device_name, op_name,\n\u001b[0m\u001b[0;32m     60\u001b[0m                                         inputs, attrs, num_outputs)\n\u001b[0;32m     61\u001b[0m   \u001b[1;32mexcept\u001b[0m \u001b[0mcore\u001b[0m\u001b[1;33m.\u001b[0m\u001b[0m_NotOkStatusException\u001b[0m \u001b[1;32mas\u001b[0m \u001b[0me\u001b[0m\u001b[1;33m:\u001b[0m\u001b[1;33m\u001b[0m\u001b[1;33m\u001b[0m\u001b[0m\n",
      "\u001b[1;31mKeyboardInterrupt\u001b[0m: "
     ]
    }
   ],
   "source": [
    "hist=model.fit(X_train, y_train, epochs=50, batch_size=10, validation_data=(X_test,y_test))"
   ]
  },
  {
   "cell_type": "code",
   "execution_count": null,
   "metadata": {},
   "outputs": [],
   "source": [
    "drawGraph(hist)"
   ]
  },
  {
   "cell_type": "code",
   "execution_count": null,
   "metadata": {},
   "outputs": [],
   "source": []
  }
 ],
 "metadata": {
  "kernelspec": {
   "display_name": "env",
   "language": "python",
   "name": "env"
  },
  "language_info": {
   "codemirror_mode": {
    "name": "ipython",
    "version": 3
   },
   "file_extension": ".py",
   "mimetype": "text/x-python",
   "name": "python",
   "nbconvert_exporter": "python",
   "pygments_lexer": "ipython3",
   "version": "3.8.3"
  }
 },
 "nbformat": 4,
 "nbformat_minor": 4
}
