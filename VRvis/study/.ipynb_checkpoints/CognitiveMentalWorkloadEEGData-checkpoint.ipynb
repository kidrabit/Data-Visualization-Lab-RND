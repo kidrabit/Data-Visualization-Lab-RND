{
 "cells": [
  {
   "cell_type": "code",
   "execution_count": 1,
   "metadata": {},
   "outputs": [
    {
     "name": "stdout",
     "output_type": "stream",
     "text": [
      "Requirement already satisfied: mne in c:\\anaconda3\\envs\\env\\lib\\site-packages (0.20.8)\n",
      "Requirement already satisfied: scipy>=0.17.1 in c:\\anaconda3\\envs\\env\\lib\\site-packages (from mne) (1.4.1)\n",
      "Requirement already satisfied: numpy>=1.11.3 in c:\\anaconda3\\envs\\env\\lib\\site-packages (from mne) (1.18.5)\n",
      "Note: you may need to restart the kernel to use updated packages.\n"
     ]
    }
   ],
   "source": [
    "pip install mne"
   ]
  },
  {
   "cell_type": "code",
   "execution_count": 2,
   "metadata": {},
   "outputs": [],
   "source": [
    "import keras\n",
    "import pandas as pd\n",
    "import numpy as np\n",
    "import mne\n",
    "import matplotlib.pyplot as plt\n",
    "\n",
    "from sklearn.preprocessing import MinMaxScaler\n",
    "from keras.utils import np_utils\n",
    "from keras.utils.np_utils import to_categorical\n",
    "\n",
    "from sklearn.model_selection import train_test_split\n",
    "from keras.layers import Input, Reshape, Activation, add, Add\n",
    "from keras.layers import  BatchNormalization,Dense, Conv2D, Convolution2D, MaxPooling2D, Dropout, Flatten, TimeDistributed, InputLayer, LSTM\n",
    "from keras.models import Sequential, Model \n",
    "from keras import optimizers\n",
    "\n",
    "from keras import backend as K\n",
    "from sklearn.metrics import recall_score \n",
    "from sklearn.metrics import precision_score \n",
    "from sklearn.metrics import f1_score \n",
    "\n",
    "%matplotlib inline"
   ]
  },
  {
   "cell_type": "code",
   "execution_count": 3,
   "metadata": {},
   "outputs": [],
   "source": [
    "def recall(y_target, y_pred):\n",
    "    y_target_yn = K.round(K.clip(y_target, 0, 1))\n",
    "    y_pred_yn = K.round(K.clip(y_pred, 0, 1))\n",
    "    count_true_positive = K.sum(y_target_yn * y_pred_yn) \n",
    "    count_true_positive_false_negative = K.sum(y_target_yn)\n",
    "    recall = count_true_positive / (count_true_positive_false_negative + K.epsilon())\n",
    "    return recall\n",
    "\n",
    "\n",
    "def precision(y_target, y_pred):\n",
    "    y_pred_yn = K.round(K.clip(y_pred, 0, 1))\n",
    "    y_target_yn = K.round(K.clip(y_target, 0, 1))\n",
    "    count_true_positive = K.sum(y_target_yn * y_pred_yn)\n",
    "    count_true_positive_false_positive = K.sum(y_pred_yn)\n",
    "    precision = count_true_positive / (count_true_positive_false_positive + K.epsilon())\n",
    "    return precision\n",
    "\n",
    "\n",
    "def f1score(y_target, y_pred):\n",
    "    _recall = recall(y_target, y_pred)\n",
    "    _precision = precision(y_target, y_pred)\n",
    "    _f1score = ( 2 * _recall * _precision) / (_recall + _precision+ K.epsilon())\n",
    "    return _f1score"
   ]
  },
  {
   "cell_type": "code",
   "execution_count": 4,
   "metadata": {},
   "outputs": [],
   "source": [
    "def reshapeLinearData(eeg):\n",
    "    data=[]\n",
    "    data=np.r_[eeg[0],eeg[1]]\n",
    "    for i in range(2,len(eeg)):\n",
    "        data=np.r_[data,eeg[i]]\n",
    "    return data"
   ]
  },
  {
   "cell_type": "code",
   "execution_count": 5,
   "metadata": {},
   "outputs": [],
   "source": [
    "def getData(src) :\n",
    "    data = mne.io.read_raw_edf(src)\n",
    "    raw_data = data.get_data()\n",
    "    #info = data.info\n",
    "    #channels = data.ch_names\n",
    "    raw_data=raw_data[2:16]\n",
    "    return raw_data#, info, channels"
   ]
  },
  {
   "cell_type": "code",
   "execution_count": 6,
   "metadata": {},
   "outputs": [],
   "source": [
    "def drawGraph(hist, X_test, y_test) :\n",
    "    fig, loss_ax = plt.subplots()\n",
    "\n",
    "    acc_ax = loss_ax.twinx()\n",
    "\n",
    "    loss_ax.plot(hist.history['loss'], 'y', label='train loss')\n",
    "    loss_ax.plot(hist.history['val_loss'], 'r', label='val loss')\n",
    "\n",
    "    acc_ax.plot(hist.history['accuracy'], 'b', label='train acc')\n",
    "    acc_ax.plot(hist.history['val_accuracy'], 'g', label='val acc')\n",
    "\n",
    "    loss_ax.set_xlabel('epoch')\n",
    "    loss_ax.set_ylabel('loss')\n",
    "    acc_ax.set_ylabel('accuray')\n",
    "\n",
    "    loss_ax.legend(loc='upper left')\n",
    "    acc_ax.legend(loc='lower left')\n",
    "\n",
    "    plt.show()\n",
    "    return\n",
    "\n",
    "def drawGraph2(hist, X_test, y_test) :\n",
    "    fig, rec_ax = plt.subplots()\n",
    "\n",
    "    pre_ax = rec_ax.twinx()\n",
    "\n",
    "    rec_ax.plot(hist.history['recall'], 'y', label='train recall')\n",
    "    rec_ax.plot(hist.history['val_recall'], 'r', label='val recall')\n",
    "\n",
    "    pre_ax.plot(hist.history['precision'], 'b', label='train precision')\n",
    "    pre_ax.plot(hist.history['val_precision'], 'g', label='val precision')\n",
    "\n",
    "    rec_ax.set_xlabel('epoch')\n",
    "    rec_ax.set_ylabel('recall')\n",
    "    pre_ax.set_ylabel('precision')\n",
    "\n",
    "    rec_ax.legend(loc='upper left')\n",
    "    pre_ax.legend(loc='lower left')\n",
    "    \n",
    "    _loss, _acc, _precision, _recall, _f1score = model.evaluate(X_test, y_test)\n",
    "    print('loss: {:.3f}, accuracy: {:.3f}, precision: {:.3f}, recall: {:.3f}, f1score: {:.3f}'.format(_loss, _acc, _precision, _recall, _f1score))\n",
    "\n",
    "    plt.show()\n",
    "    return"
   ]
  },
  {
   "cell_type": "code",
   "execution_count": 7,
   "metadata": {},
   "outputs": [
    {
     "name": "stdout",
     "output_type": "stream",
     "text": [
      "Extracting EDF parameters from C:\\Cognitive-Mental-workload-EEG-Data\\S01\\1-Back\\S01-01-25.09.2016.10.21.24.edf...\n",
      "EDF file detected\n",
      "Setting channel info structure...\n",
      "Creating raw.info structure...\n",
      "Extracting EDF parameters from C:\\Cognitive-Mental-workload-EEG-Data\\S01\\2-Back\\S01-01-25.09.2016.10.27.55.edf...\n",
      "EDF file detected\n",
      "Setting channel info structure...\n",
      "Creating raw.info structure...\n",
      "Extracting EDF parameters from C:\\Cognitive-Mental-workload-EEG-Data\\S01\\Dual-1-Back\\S01-01-25.09.2016.10.35.36.edf...\n",
      "EDF file detected\n",
      "Setting channel info structure...\n",
      "Creating raw.info structure...\n",
      "Extracting EDF parameters from C:\\Cognitive-Mental-workload-EEG-Data\\S01\\Dual-2-Back\\S01-01-25.09.2016.10.45.01.edf...\n",
      "EDF file detected\n",
      "Setting channel info structure...\n",
      "Creating raw.info structure...\n",
      "Extracting EDF parameters from C:\\Cognitive-Mental-workload-EEG-Data\\S01\\Idle\\S01-01-25.09.2016.10.52.46.edf...\n",
      "EDF file detected\n",
      "Setting channel info structure...\n",
      "Creating raw.info structure...\n"
     ]
    }
   ],
   "source": [
    "S01_1_Back=getData(\"C:/Cognitive-Mental-workload-EEG-Data/S01/1-Back/S01-01-25.09.2016.10.21.24.edf\")\n",
    "S01_2_Back=getData(\"C:/Cognitive-Mental-workload-EEG-Data/S01/2-Back/S01-01-25.09.2016.10.27.55.edf\")\n",
    "S01_Dual_1_Back=getData(\"C:/Cognitive-Mental-workload-EEG-Data/S01/Dual-1-Back/S01-01-25.09.2016.10.35.36.edf\")\n",
    "S01_Dual_2_Back=getData(\"C:/Cognitive-Mental-workload-EEG-Data/S01/Dual-2-Back/S01-01-25.09.2016.10.45.01.edf\")\n",
    "S01_Idle=getData(\"C:/Cognitive-Mental-workload-EEG-Data/S01/Idle/S01-01-25.09.2016.10.52.46.edf\")"
   ]
  },
  {
   "cell_type": "code",
   "execution_count": 8,
   "metadata": {},
   "outputs": [
    {
     "name": "stdout",
     "output_type": "stream",
     "text": [
      "Extracting EDF parameters from C:\\Cognitive-Mental-workload-EEG-Data\\S02\\1-Back\\S02-01-25.09.2016.11.25.53.edf...\n",
      "EDF file detected\n",
      "Setting channel info structure...\n",
      "Creating raw.info structure...\n",
      "Extracting EDF parameters from C:\\Cognitive-Mental-workload-EEG-Data\\S02\\2-Back\\S02-01-25.09.2016.11.58.29.edf...\n",
      "EDF file detected\n",
      "Setting channel info structure...\n",
      "Creating raw.info structure...\n",
      "Extracting EDF parameters from C:\\Cognitive-Mental-workload-EEG-Data\\S02\\Dual-1-Back\\S02-01-25.09.2016.11.42.51.edf...\n",
      "EDF file detected\n",
      "Setting channel info structure...\n",
      "Creating raw.info structure...\n",
      "Extracting EDF parameters from C:\\Cognitive-Mental-workload-EEG-Data\\S02\\Dual-2-Back\\S02-01-25.09.2016.11.53.46.edf...\n",
      "EDF file detected\n",
      "Setting channel info structure...\n",
      "Creating raw.info structure...\n",
      "Extracting EDF parameters from C:\\Cognitive-Mental-workload-EEG-Data\\S02\\Idle\\S02-01-25.09.2016.11.12.43.edf...\n",
      "EDF file detected\n",
      "Setting channel info structure...\n",
      "Creating raw.info structure...\n"
     ]
    }
   ],
   "source": [
    "S02_1_Back=getData(\"C:/Cognitive-Mental-workload-EEG-Data/S02/1-Back/S02-01-25.09.2016.11.25.53.edf\")\n",
    "S02_2_Back=getData(\"C:/Cognitive-Mental-workload-EEG-Data/S02/2-Back/S02-01-25.09.2016.11.58.29.edf\")\n",
    "S02_Dual_1_Back=getData(\"C:/Cognitive-Mental-workload-EEG-Data/S02/Dual-1-Back/S02-01-25.09.2016.11.42.51.edf\")\n",
    "S02_Dual_2_Back=getData(\"C:/Cognitive-Mental-workload-EEG-Data/S02/Dual-2-Back/S02-01-25.09.2016.11.53.46.edf\")\n",
    "S02_Idle=getData(\"C:/Cognitive-Mental-workload-EEG-Data/S02/Idle/S02-01-25.09.2016.11.12.43.edf\")"
   ]
  },
  {
   "cell_type": "code",
   "execution_count": 9,
   "metadata": {},
   "outputs": [
    {
     "name": "stdout",
     "output_type": "stream",
     "text": [
      "Extracting EDF parameters from C:\\Cognitive-Mental-workload-EEG-Data\\S03\\1-Back\\S03-01-25.09.2016.12.18.39.edf...\n",
      "EDF file detected\n",
      "Setting channel info structure...\n",
      "Creating raw.info structure...\n",
      "Extracting EDF parameters from C:\\Cognitive-Mental-workload-EEG-Data\\S03\\2-Back\\S03-01-25.09.2016.12.23.01.edf...\n",
      "EDF file detected\n",
      "Setting channel info structure...\n",
      "Creating raw.info structure...\n",
      "Extracting EDF parameters from C:\\Cognitive-Mental-workload-EEG-Data\\S03\\Dual-1-Back\\S03-01-25.09.2016.12.27.56.edf...\n",
      "EDF file detected\n",
      "Setting channel info structure...\n",
      "Creating raw.info structure...\n",
      "Extracting EDF parameters from C:\\Cognitive-Mental-workload-EEG-Data\\S03\\Dual-2-Back\\S03-01-25.09.2016.12.32.14.edf...\n",
      "EDF file detected\n",
      "Setting channel info structure...\n",
      "Creating raw.info structure...\n",
      "Extracting EDF parameters from C:\\Cognitive-Mental-workload-EEG-Data\\S03\\Idle\\S03-01-25.09.2016.12.37.32.edf...\n",
      "EDF file detected\n",
      "Setting channel info structure...\n",
      "Creating raw.info structure...\n"
     ]
    }
   ],
   "source": [
    "S03_1_Back=getData(\"C:/Cognitive-Mental-workload-EEG-Data/S03/1-Back/S03-01-25.09.2016.12.18.39.edf\")\n",
    "S03_2_Back=getData(\"C:/Cognitive-Mental-workload-EEG-Data/S03/2-Back/S03-01-25.09.2016.12.23.01.edf\")\n",
    "S03_Dual_1_Back=getData(\"C:/Cognitive-Mental-workload-EEG-Data/S03/Dual-1-Back/S03-01-25.09.2016.12.27.56.edf\")\n",
    "S03_Dual_2_Back=getData(\"C:/Cognitive-Mental-workload-EEG-Data/S03/Dual-2-Back/S03-01-25.09.2016.12.32.14.edf\")\n",
    "S03_Idle=getData(\"C:/Cognitive-Mental-workload-EEG-Data/S03/Idle/S03-01-25.09.2016.12.37.32.edf\")"
   ]
  },
  {
   "cell_type": "code",
   "execution_count": 10,
   "metadata": {},
   "outputs": [
    {
     "name": "stdout",
     "output_type": "stream",
     "text": [
      "Extracting EDF parameters from C:\\Cognitive-Mental-workload-EEG-Data\\S04\\1-Back\\S04-01-27.09.2016.17.32.39.edf...\n",
      "EDF file detected\n",
      "Setting channel info structure...\n",
      "Creating raw.info structure...\n",
      "Extracting EDF parameters from C:\\Cognitive-Mental-workload-EEG-Data\\S04\\1-Back\\S04-01-27.09.2016.17.34.40.edf...\n",
      "EDF file detected\n",
      "Setting channel info structure...\n",
      "Creating raw.info structure...\n",
      "Extracting EDF parameters from C:\\Cognitive-Mental-workload-EEG-Data\\S04\\2-Back\\S04-01-27.09.2016.17.38.23.edf...\n",
      "EDF file detected\n",
      "Setting channel info structure...\n",
      "Creating raw.info structure...\n",
      "Extracting EDF parameters from C:\\Cognitive-Mental-workload-EEG-Data\\S04\\Dual-1-Back\\S04-01-27.09.2016.17.43.22.edf...\n",
      "EDF file detected\n",
      "Setting channel info structure...\n",
      "Creating raw.info structure...\n",
      "Extracting EDF parameters from C:\\Cognitive-Mental-workload-EEG-Data\\S04\\Dual-2-Back\\S04-01-27.09.2016.17.46.53.edf...\n",
      "EDF file detected\n",
      "Setting channel info structure...\n",
      "Creating raw.info structure...\n",
      "Extracting EDF parameters from C:\\Cognitive-Mental-workload-EEG-Data\\S04\\Idle\\S04-01-27.09.2016.17.51.54.edf...\n",
      "EDF file detected\n",
      "Setting channel info structure...\n",
      "Creating raw.info structure...\n"
     ]
    }
   ],
   "source": [
    "S04_1_Back_1=getData(\"C:/Cognitive-Mental-workload-EEG-Data/S04/1-Back/S04-01-27.09.2016.17.32.39.edf\")\n",
    "S04_1_Back_2=getData(\"C:/Cognitive-Mental-workload-EEG-Data/S04/1-Back/S04-01-27.09.2016.17.34.40.edf\")\n",
    "S04_2_Back=getData(\"C:/Cognitive-Mental-workload-EEG-Data/S04/2-Back/S04-01-27.09.2016.17.38.23.edf\")\n",
    "S04_Dual_1_Back=getData(\"C:/Cognitive-Mental-workload-EEG-Data/S04/Dual-1-Back/S04-01-27.09.2016.17.43.22.edf\")\n",
    "S04_Dual_2_Back=getData(\"C:/Cognitive-Mental-workload-EEG-Data/S04/Dual-2-Back/S04-01-27.09.2016.17.46.53.edf\")\n",
    "S04_Idle=getData(\"C:/Cognitive-Mental-workload-EEG-Data/S04/Idle/S04-01-27.09.2016.17.51.54.edf\")"
   ]
  },
  {
   "cell_type": "code",
   "execution_count": 11,
   "metadata": {},
   "outputs": [
    {
     "name": "stdout",
     "output_type": "stream",
     "text": [
      "Extracting EDF parameters from C:\\Cognitive-Mental-workload-EEG-Data\\S05\\1-Back\\S05-01-27.09.2016.18.08.39.edf...\n",
      "EDF file detected\n",
      "Setting channel info structure...\n",
      "Creating raw.info structure...\n",
      "Extracting EDF parameters from C:\\Cognitive-Mental-workload-EEG-Data\\S05\\2-Back\\S05-01-27.09.2016.18.12.18.edf...\n",
      "EDF file detected\n",
      "Setting channel info structure...\n",
      "Creating raw.info structure...\n",
      "Extracting EDF parameters from C:\\Cognitive-Mental-workload-EEG-Data\\S05\\Dual-1-Back\\S05-01-27.09.2016.18.16.18.edf...\n",
      "EDF file detected\n",
      "Setting channel info structure...\n",
      "Creating raw.info structure...\n",
      "Extracting EDF parameters from C:\\Cognitive-Mental-workload-EEG-Data\\S05\\Dual-2-Back\\S05-01-27.09.2016.18.20.17.edf...\n",
      "EDF file detected\n",
      "Setting channel info structure...\n",
      "Creating raw.info structure...\n",
      "Extracting EDF parameters from C:\\Cognitive-Mental-workload-EEG-Data\\S05\\Idle\\S05-01-27.09.2016.18.24.46.edf...\n",
      "EDF file detected\n",
      "Setting channel info structure...\n",
      "Creating raw.info structure...\n"
     ]
    }
   ],
   "source": [
    "S05_1_Back=getData(\"C:/Cognitive-Mental-workload-EEG-Data/S05/1-Back/S05-01-27.09.2016.18.08.39.edf\")\n",
    "S05_2_Back=getData(\"C:/Cognitive-Mental-workload-EEG-Data/S05/2-Back/S05-01-27.09.2016.18.12.18.edf\")\n",
    "S05_Dual_1_Back=getData(\"C:/Cognitive-Mental-workload-EEG-Data/S05/Dual-1-Back/S05-01-27.09.2016.18.16.18.edf\")\n",
    "S05_Dual_2_Back=getData(\"C:/Cognitive-Mental-workload-EEG-Data/S05/Dual-2-Back/S05-01-27.09.2016.18.20.17.edf\")\n",
    "S05_Idle=getData(\"C:/Cognitive-Mental-workload-EEG-Data/S05/Idle/S05-01-27.09.2016.18.24.46.edf\")"
   ]
  },
  {
   "cell_type": "code",
   "execution_count": 12,
   "metadata": {},
   "outputs": [],
   "source": [
    "S01_1_Back=S01_1_Back.T\n",
    "S01_2_Back=S01_2_Back.T\n",
    "S01_Dual_1_Back=S01_Dual_1_Back.T\n",
    "S01_Dual_2_Back=S01_Dual_2_Back.T\n",
    "S01_Idle=S01_Idle.T\n",
    "\n",
    "S02_1_Back=S02_1_Back.T\n",
    "S02_2_Back=S02_2_Back.T\n",
    "S02_Dual_1_Back=S02_Dual_1_Back.T\n",
    "S02_Dual_2_Back=S02_Dual_2_Back.T\n",
    "S02_Idle=S02_Idle.T\n",
    "\n",
    "S03_1_Back=S03_1_Back.T\n",
    "S03_2_Back=S03_2_Back.T\n",
    "S03_Dual_1_Back=S03_Dual_1_Back.T\n",
    "S03_Dual_2_Back=S03_Dual_2_Back.T\n",
    "S03_Idle=S03_Idle.T\n",
    "\n",
    "S04_1_Back_1=S04_1_Back_1.T\n",
    "S04_1_Back_2=S04_1_Back_2.T\n",
    "S04_2_Back=S04_2_Back.T\n",
    "S04_Dual_1_Back=S04_Dual_1_Back.T\n",
    "S04_Dual_2_Back=S04_Dual_2_Back.T\n",
    "S04_Idle=S04_Idle.T\n",
    "\n",
    "S05_1_Back=S05_1_Back.T\n",
    "S05_2_Back=S05_2_Back.T\n",
    "S05_Dual_1_Back=S05_Dual_1_Back.T\n",
    "S05_Dual_2_Back=S05_Dual_2_Back.T\n",
    "S05_Idle=S05_Idle.T"
   ]
  },
  {
   "cell_type": "code",
   "execution_count": 13,
   "metadata": {},
   "outputs": [],
   "source": [
    "Back_1=np.r_[S01_1_Back,S02_1_Back]\n",
    "Back_1=np.r_[Back_1,S03_1_Back]\n",
    "Back_1=np.r_[Back_1,S04_1_Back_1]\n",
    "Back_1=np.r_[Back_1,S04_1_Back_2]\n",
    "Back_1=np.r_[Back_1,S05_1_Back]"
   ]
  },
  {
   "cell_type": "code",
   "execution_count": 14,
   "metadata": {},
   "outputs": [],
   "source": [
    "Back_2=np.r_[S01_2_Back,S02_2_Back]\n",
    "Back_2=np.r_[Back_2,S03_2_Back]\n",
    "Back_2=np.r_[Back_2,S04_2_Back]\n",
    "Back_2=np.r_[Back_2,S05_2_Back]"
   ]
  },
  {
   "cell_type": "code",
   "execution_count": 15,
   "metadata": {},
   "outputs": [],
   "source": [
    "Dual_1_Back=np.r_[S01_Dual_1_Back,S02_Dual_1_Back]\n",
    "Dual_1_Back=np.r_[Dual_1_Back,S03_Dual_1_Back]\n",
    "Dual_1_Back=np.r_[Dual_1_Back,S04_Dual_1_Back]\n",
    "Dual_1_Back=np.r_[Dual_1_Back,S05_Dual_1_Back]"
   ]
  },
  {
   "cell_type": "code",
   "execution_count": 16,
   "metadata": {},
   "outputs": [],
   "source": [
    "Dual_2_Back=np.r_[S01_Dual_2_Back,S02_Dual_2_Back]\n",
    "Dual_2_Back=np.r_[Dual_2_Back,S03_Dual_2_Back]\n",
    "Dual_2_Back=np.r_[Dual_2_Back,S04_Dual_2_Back]\n",
    "Dual_2_Back=np.r_[Dual_2_Back,S05_Dual_2_Back]"
   ]
  },
  {
   "cell_type": "code",
   "execution_count": 17,
   "metadata": {},
   "outputs": [],
   "source": [
    "Idle=np.r_[S01_Idle,S02_Idle]\n",
    "Idle=np.r_[Idle,S03_Idle]\n",
    "Idle=np.r_[Idle,S04_Idle]\n",
    "Idle=np.r_[Idle,S05_Idle]"
   ]
  },
  {
   "cell_type": "code",
   "execution_count": 18,
   "metadata": {},
   "outputs": [],
   "source": [
    "scaler=MinMaxScaler()\n",
    "Back_1[:]=scaler.fit_transform(Back_1[:])*255\n",
    "Back_2[:]=scaler.fit_transform(Back_2[:])*255\n",
    "Dual_1_Back[:]=scaler.fit_transform(Dual_1_Back[:])*255\n",
    "Dual_2_Back[:]=scaler.fit_transform(Dual_2_Back[:])*255\n",
    "Idle[:]=scaler.fit_transform(Idle[:])*255"
   ]
  },
  {
   "cell_type": "code",
   "execution_count": 19,
   "metadata": {},
   "outputs": [
    {
     "name": "stdout",
     "output_type": "stream",
     "text": [
      "(127232, 14) (114688, 14) (117376, 14) (111872, 14) (119040, 14)\n"
     ]
    }
   ],
   "source": [
    "print(Back_1.shape, Back_2.shape, Dual_1_Back.shape, Dual_2_Back.shape, Idle.shape)"
   ]
  },
  {
   "cell_type": "code",
   "execution_count": 20,
   "metadata": {},
   "outputs": [
    {
     "data": {
      "text/html": [
       "<div>\n",
       "<style scoped>\n",
       "    .dataframe tbody tr th:only-of-type {\n",
       "        vertical-align: middle;\n",
       "    }\n",
       "\n",
       "    .dataframe tbody tr th {\n",
       "        vertical-align: top;\n",
       "    }\n",
       "\n",
       "    .dataframe thead th {\n",
       "        text-align: right;\n",
       "    }\n",
       "</style>\n",
       "<table border=\"1\" class=\"dataframe\">\n",
       "  <thead>\n",
       "    <tr style=\"text-align: right;\">\n",
       "      <th></th>\n",
       "      <th>0</th>\n",
       "      <th>1</th>\n",
       "      <th>2</th>\n",
       "      <th>3</th>\n",
       "      <th>4</th>\n",
       "      <th>5</th>\n",
       "      <th>6</th>\n",
       "      <th>7</th>\n",
       "      <th>8</th>\n",
       "      <th>9</th>\n",
       "      <th>10</th>\n",
       "      <th>11</th>\n",
       "      <th>12</th>\n",
       "      <th>13</th>\n",
       "    </tr>\n",
       "  </thead>\n",
       "  <tbody>\n",
       "    <tr>\n",
       "      <th>0</th>\n",
       "      <td>162.111920</td>\n",
       "      <td>156.090682</td>\n",
       "      <td>163.629145</td>\n",
       "      <td>245.844477</td>\n",
       "      <td>178.229757</td>\n",
       "      <td>176.342926</td>\n",
       "      <td>172.537236</td>\n",
       "      <td>178.847649</td>\n",
       "      <td>196.020668</td>\n",
       "      <td>178.152870</td>\n",
       "      <td>219.704316</td>\n",
       "      <td>163.228106</td>\n",
       "      <td>224.024628</td>\n",
       "      <td>141.173071</td>\n",
       "    </tr>\n",
       "    <tr>\n",
       "      <th>1</th>\n",
       "      <td>162.107520</td>\n",
       "      <td>156.109436</td>\n",
       "      <td>163.571416</td>\n",
       "      <td>245.857823</td>\n",
       "      <td>178.311942</td>\n",
       "      <td>176.362075</td>\n",
       "      <td>172.563179</td>\n",
       "      <td>178.823706</td>\n",
       "      <td>195.972842</td>\n",
       "      <td>178.244729</td>\n",
       "      <td>219.722190</td>\n",
       "      <td>163.236834</td>\n",
       "      <td>224.108523</td>\n",
       "      <td>141.138473</td>\n",
       "    </tr>\n",
       "    <tr>\n",
       "      <th>2</th>\n",
       "      <td>162.138321</td>\n",
       "      <td>156.076616</td>\n",
       "      <td>163.633585</td>\n",
       "      <td>245.817785</td>\n",
       "      <td>178.147572</td>\n",
       "      <td>176.534411</td>\n",
       "      <td>172.635820</td>\n",
       "      <td>178.804552</td>\n",
       "      <td>195.953712</td>\n",
       "      <td>178.235060</td>\n",
       "      <td>219.686441</td>\n",
       "      <td>163.284841</td>\n",
       "      <td>223.988673</td>\n",
       "      <td>141.152312</td>\n",
       "    </tr>\n",
       "    <tr>\n",
       "      <th>3</th>\n",
       "      <td>162.261527</td>\n",
       "      <td>156.282912</td>\n",
       "      <td>163.682432</td>\n",
       "      <td>246.078036</td>\n",
       "      <td>178.278101</td>\n",
       "      <td>176.625366</td>\n",
       "      <td>172.677329</td>\n",
       "      <td>178.938631</td>\n",
       "      <td>196.374583</td>\n",
       "      <td>178.326919</td>\n",
       "      <td>219.918807</td>\n",
       "      <td>163.450684</td>\n",
       "      <td>224.180434</td>\n",
       "      <td>141.449853</td>\n",
       "    </tr>\n",
       "    <tr>\n",
       "      <th>4</th>\n",
       "      <td>161.975514</td>\n",
       "      <td>155.968780</td>\n",
       "      <td>163.460400</td>\n",
       "      <td>245.664303</td>\n",
       "      <td>178.268432</td>\n",
       "      <td>176.151442</td>\n",
       "      <td>172.220730</td>\n",
       "      <td>178.536393</td>\n",
       "      <td>195.886755</td>\n",
       "      <td>178.090020</td>\n",
       "      <td>219.573238</td>\n",
       "      <td>163.175735</td>\n",
       "      <td>223.886800</td>\n",
       "      <td>140.993162</td>\n",
       "    </tr>\n",
       "    <tr>\n",
       "      <th>...</th>\n",
       "      <td>...</td>\n",
       "      <td>...</td>\n",
       "      <td>...</td>\n",
       "      <td>...</td>\n",
       "      <td>...</td>\n",
       "      <td>...</td>\n",
       "      <td>...</td>\n",
       "      <td>...</td>\n",
       "      <td>...</td>\n",
       "      <td>...</td>\n",
       "      <td>...</td>\n",
       "      <td>...</td>\n",
       "      <td>...</td>\n",
       "      <td>...</td>\n",
       "    </tr>\n",
       "    <tr>\n",
       "      <th>127227</th>\n",
       "      <td>162.362731</td>\n",
       "      <td>156.386059</td>\n",
       "      <td>163.984397</td>\n",
       "      <td>246.271557</td>\n",
       "      <td>178.664853</td>\n",
       "      <td>176.855148</td>\n",
       "      <td>173.107984</td>\n",
       "      <td>179.015248</td>\n",
       "      <td>196.585018</td>\n",
       "      <td>178.704023</td>\n",
       "      <td>220.300124</td>\n",
       "      <td>163.324120</td>\n",
       "      <td>224.528000</td>\n",
       "      <td>141.885786</td>\n",
       "    </tr>\n",
       "    <tr>\n",
       "      <th>127228</th>\n",
       "      <td>162.507938</td>\n",
       "      <td>156.489207</td>\n",
       "      <td>164.157582</td>\n",
       "      <td>246.498443</td>\n",
       "      <td>178.751872</td>\n",
       "      <td>176.859935</td>\n",
       "      <td>173.341472</td>\n",
       "      <td>179.111019</td>\n",
       "      <td>196.795454</td>\n",
       "      <td>178.916749</td>\n",
       "      <td>220.472908</td>\n",
       "      <td>163.450684</td>\n",
       "      <td>224.707776</td>\n",
       "      <td>142.058776</td>\n",
       "    </tr>\n",
       "    <tr>\n",
       "      <th>127229</th>\n",
       "      <td>162.450735</td>\n",
       "      <td>156.390748</td>\n",
       "      <td>164.108735</td>\n",
       "      <td>246.371654</td>\n",
       "      <td>178.785713</td>\n",
       "      <td>176.888657</td>\n",
       "      <td>173.320718</td>\n",
       "      <td>179.015248</td>\n",
       "      <td>196.680671</td>\n",
       "      <td>178.839394</td>\n",
       "      <td>220.371621</td>\n",
       "      <td>163.420134</td>\n",
       "      <td>224.563956</td>\n",
       "      <td>141.982660</td>\n",
       "    </tr>\n",
       "    <tr>\n",
       "      <th>127230</th>\n",
       "      <td>162.573941</td>\n",
       "      <td>156.493896</td>\n",
       "      <td>164.224192</td>\n",
       "      <td>246.611886</td>\n",
       "      <td>178.979089</td>\n",
       "      <td>177.013122</td>\n",
       "      <td>173.305152</td>\n",
       "      <td>179.096654</td>\n",
       "      <td>196.919802</td>\n",
       "      <td>178.810386</td>\n",
       "      <td>220.532489</td>\n",
       "      <td>163.537969</td>\n",
       "      <td>224.689799</td>\n",
       "      <td>142.162569</td>\n",
       "    </tr>\n",
       "    <tr>\n",
       "      <th>127231</th>\n",
       "      <td>162.842352</td>\n",
       "      <td>156.747077</td>\n",
       "      <td>164.486190</td>\n",
       "      <td>246.998927</td>\n",
       "      <td>179.177299</td>\n",
       "      <td>177.051419</td>\n",
       "      <td>173.486754</td>\n",
       "      <td>179.350447</td>\n",
       "      <td>197.455456</td>\n",
       "      <td>179.085962</td>\n",
       "      <td>220.836351</td>\n",
       "      <td>163.760547</td>\n",
       "      <td>225.013395</td>\n",
       "      <td>142.577743</td>\n",
       "    </tr>\n",
       "  </tbody>\n",
       "</table>\n",
       "<p>127232 rows × 14 columns</p>\n",
       "</div>"
      ],
      "text/plain": [
       "                 0           1           2           3           4  \\\n",
       "0       162.111920  156.090682  163.629145  245.844477  178.229757   \n",
       "1       162.107520  156.109436  163.571416  245.857823  178.311942   \n",
       "2       162.138321  156.076616  163.633585  245.817785  178.147572   \n",
       "3       162.261527  156.282912  163.682432  246.078036  178.278101   \n",
       "4       161.975514  155.968780  163.460400  245.664303  178.268432   \n",
       "...            ...         ...         ...         ...         ...   \n",
       "127227  162.362731  156.386059  163.984397  246.271557  178.664853   \n",
       "127228  162.507938  156.489207  164.157582  246.498443  178.751872   \n",
       "127229  162.450735  156.390748  164.108735  246.371654  178.785713   \n",
       "127230  162.573941  156.493896  164.224192  246.611886  178.979089   \n",
       "127231  162.842352  156.747077  164.486190  246.998927  179.177299   \n",
       "\n",
       "                 5           6           7           8           9  \\\n",
       "0       176.342926  172.537236  178.847649  196.020668  178.152870   \n",
       "1       176.362075  172.563179  178.823706  195.972842  178.244729   \n",
       "2       176.534411  172.635820  178.804552  195.953712  178.235060   \n",
       "3       176.625366  172.677329  178.938631  196.374583  178.326919   \n",
       "4       176.151442  172.220730  178.536393  195.886755  178.090020   \n",
       "...            ...         ...         ...         ...         ...   \n",
       "127227  176.855148  173.107984  179.015248  196.585018  178.704023   \n",
       "127228  176.859935  173.341472  179.111019  196.795454  178.916749   \n",
       "127229  176.888657  173.320718  179.015248  196.680671  178.839394   \n",
       "127230  177.013122  173.305152  179.096654  196.919802  178.810386   \n",
       "127231  177.051419  173.486754  179.350447  197.455456  179.085962   \n",
       "\n",
       "                10          11          12          13  \n",
       "0       219.704316  163.228106  224.024628  141.173071  \n",
       "1       219.722190  163.236834  224.108523  141.138473  \n",
       "2       219.686441  163.284841  223.988673  141.152312  \n",
       "3       219.918807  163.450684  224.180434  141.449853  \n",
       "4       219.573238  163.175735  223.886800  140.993162  \n",
       "...            ...         ...         ...         ...  \n",
       "127227  220.300124  163.324120  224.528000  141.885786  \n",
       "127228  220.472908  163.450684  224.707776  142.058776  \n",
       "127229  220.371621  163.420134  224.563956  141.982660  \n",
       "127230  220.532489  163.537969  224.689799  142.162569  \n",
       "127231  220.836351  163.760547  225.013395  142.577743  \n",
       "\n",
       "[127232 rows x 14 columns]"
      ]
     },
     "execution_count": 20,
     "metadata": {},
     "output_type": "execute_result"
    }
   ],
   "source": [
    "pd.DataFrame(Back_1)"
   ]
  },
  {
   "cell_type": "code",
   "execution_count": 21,
   "metadata": {},
   "outputs": [],
   "source": [
    "Back1=pd.DataFrame(Back_1)\n",
    "Back2=pd.DataFrame(Back_2)\n",
    "Dual1=pd.DataFrame(Dual_1_Back)\n",
    "Dual2=pd.DataFrame(Dual_2_Back)\n",
    "Idle=pd.DataFrame(Idle)"
   ]
  },
  {
   "cell_type": "code",
   "execution_count": 22,
   "metadata": {},
   "outputs": [],
   "source": [
    "#결측값 제거 (0값 제거)\n",
    "Back1_idx = Back1[:].isin(['0'])\n",
    "Back2_idx=Back2[:].isin(['0'])\n",
    "Dual1_idx=Dual1[:].isin(['0'])\n",
    "Dual2_idx=Dual2[:].isin(['0'])\n",
    "Idle_idx=Idle[:].isin(['0'])\n",
    "\n",
    "Back1=Back1[~Back1_idx]\n",
    "Back2=Back2[~Back2_idx]\n",
    "Dual1=Dual1[~Dual1_idx]\n",
    "Dual2=Dual2[~Dual2_idx]\n",
    "Idle=Idle[~Idle_idx]\n",
    "\n",
    "Back1.dropna(inplace=True)\n",
    "Back2.dropna(inplace=True)\n",
    "Dual1.dropna(inplace=True)\n",
    "Dual2.dropna(inplace=True)\n",
    "Idle.dropna(inplace=True)\n",
    "\n",
    "Back1=Back1.values\n",
    "Back2=Back2.values\n",
    "Dual1=Dual1.values\n",
    "Dual2=Dual2.values\n",
    "Idle=Idle.values"
   ]
  },
  {
   "cell_type": "code",
   "execution_count": 23,
   "metadata": {},
   "outputs": [
    {
     "name": "stdout",
     "output_type": "stream",
     "text": [
      "(127229, 14) (114682, 14) (117369, 14) (111866, 14) (119036, 14)\n"
     ]
    }
   ],
   "source": [
    "print(Back1.shape, Back2.shape, Dual1.shape, Dual2.shape, Idle.shape)"
   ]
  },
  {
   "cell_type": "code",
   "execution_count": 24,
   "metadata": {},
   "outputs": [
    {
     "name": "stdout",
     "output_type": "stream",
     "text": [
      "(590182, 14)\n"
     ]
    }
   ],
   "source": [
    "data=np.r_[Back1, Back2]\n",
    "data=np.r_[data, Dual1]\n",
    "data=np.r_[data, Dual2]\n",
    "data=np.r_[data, Idle]\n",
    "print(data.shape)"
   ]
  },
  {
   "cell_type": "code",
   "execution_count": 25,
   "metadata": {},
   "outputs": [
    {
     "name": "stdout",
     "output_type": "stream",
     "text": [
      "(127229, 1) (114682, 1) (117369, 1) (111866, 1) (119036, 1)\n"
     ]
    }
   ],
   "source": [
    "label_0=np.zeros((len(Back1),1))\n",
    "label_1=np.ones((len(Back2),1))\n",
    "label_2=np.full((len(Dual1),1),2)\n",
    "label_3=np.full((len(Dual2),1),3)\n",
    "label_4=np.full((len(Idle),1),4)\n",
    "print(label_0.shape, label_1.shape, label_2.shape, label_3.shape, label_4.shape)"
   ]
  },
  {
   "cell_type": "code",
   "execution_count": 26,
   "metadata": {},
   "outputs": [
    {
     "name": "stdout",
     "output_type": "stream",
     "text": [
      "(590182, 1)\n"
     ]
    }
   ],
   "source": [
    "label=np.r_[label_0, label_1]\n",
    "label=np.r_[label, label_2]\n",
    "label=np.r_[label, label_3]\n",
    "label=np.r_[label, label_4]\n",
    "print(label.shape)"
   ]
  },
  {
   "cell_type": "code",
   "execution_count": 27,
   "metadata": {},
   "outputs": [
    {
     "name": "stdout",
     "output_type": "stream",
     "text": [
      "(590182, 14) (590182, 5)\n"
     ]
    }
   ],
   "source": [
    "label=to_categorical(label,5)\n",
    "print(data.shape, label.shape)"
   ]
  },
  {
   "cell_type": "code",
   "execution_count": 28,
   "metadata": {},
   "outputs": [
    {
     "name": "stdout",
     "output_type": "stream",
     "text": [
      "(413127, 14) (177055, 14) (413127, 5) (177055, 5)\n"
     ]
    }
   ],
   "source": [
    "X_train, X_test, y_train, y_test = train_test_split(data, label, test_size=0.3, random_state=None, shuffle=True, stratify=label)\n",
    "print(X_train.shape, X_test.shape, y_train.shape, y_test.shape)"
   ]
  },
  {
   "cell_type": "code",
   "execution_count": 29,
   "metadata": {},
   "outputs": [
    {
     "name": "stdout",
     "output_type": "stream",
     "text": [
      "Model: \"functional_1\"\n",
      "_________________________________________________________________\n",
      "Layer (type)                 Output Shape              Param #   \n",
      "=================================================================\n",
      "input_1 (InputLayer)         [(None, 14)]              0         \n",
      "_________________________________________________________________\n",
      "dense_2 (Dense)              (None, 150)               2250      \n",
      "_________________________________________________________________\n",
      "dropout_2 (Dropout)          (None, 150)               0         \n",
      "_________________________________________________________________\n",
      "dense_3 (Dense)              (None, 200)               30200     \n",
      "_________________________________________________________________\n",
      "dense_4 (Dense)              (None, 5)                 1005      \n",
      "=================================================================\n",
      "Total params: 33,455\n",
      "Trainable params: 33,455\n",
      "Non-trainable params: 0\n",
      "_________________________________________________________________\n"
     ]
    }
   ],
   "source": [
    "def model_create(eeg_data):\n",
    "    eeg_input=Input(shape=(14,)) #입력 정의\n",
    "    \n",
    "    eeg_output = Dense(50, activation='relu')(eeg_input)\n",
    "    eeg_output = Dropout(0.5)(eeg_output)\n",
    "    eeg_output = Dense(150, activation='relu')(eeg_input)\n",
    "    eeg_output = Dropout(0.5)(eeg_output)\n",
    "    eeg_output = Dense(150, activation='relu')(eeg_input)\n",
    "    eeg_output = Dropout(0.5)(eeg_output)\n",
    "    eeg_output = Dense(200, activation='relu')(eeg_output)\n",
    "    \n",
    "    model = Dense(5, activation='sigmoid')(eeg_output)\n",
    "    \n",
    "    model = keras.models.Model(inputs=eeg_input, outputs=model) \n",
    "    \n",
    "    model.compile(loss='binary_crossentropy', optimizer = 'adam', metrics=['accuracy', precision, recall, f1score])\n",
    "    \n",
    "    return model \n",
    "\n",
    "model=model_create(data)\n",
    "model.summary()"
   ]
  },
  {
   "cell_type": "code",
   "execution_count": null,
   "metadata": {},
   "outputs": [
    {
     "name": "stdout",
     "output_type": "stream",
     "text": [
      "Epoch 1/50\n",
      "41313/41313 [==============================] - 28s 680us/step - loss: 0.0436 - accuracy: 0.9704 - precision: 0.9726 - recall: 0.9653 - f1score: 0.9685 - val_loss: 0.0484 - val_accuracy: 0.9914 - val_precision: 0.9867 - val_recall: 0.7945 - val_f1score: 0.8744\n",
      "Epoch 2/50\n",
      " 3470/41313 [=>............................] - ETA: 20s - loss: 0.0420 - accuracy: 0.9608 - precision: 0.9714 - recall: 0.9499 - f1score: 0.9597"
     ]
    }
   ],
   "source": [
    "hist=model.fit(X_train, y_train, epochs=50, batch_size=10, validation_data=(X_test,y_test))"
   ]
  },
  {
   "cell_type": "code",
   "execution_count": null,
   "metadata": {},
   "outputs": [],
   "source": [
    "drawGraph(hist, X_test, y_test)"
   ]
  },
  {
   "cell_type": "code",
   "execution_count": null,
   "metadata": {},
   "outputs": [],
   "source": [
    "drawGraph2(hist, X_test, y_test)"
   ]
  },
  {
   "cell_type": "code",
   "execution_count": null,
   "metadata": {},
   "outputs": [],
   "source": [
    "X_train = X_train.reshape(X_train.shape+ (1,))\n",
    "X_test = X_test.reshape(X_test.shape + (1,))\n",
    "\n",
    "print(X_train.shape, X_test.shape, y_train.shape, y_test.shape)\n",
    "\n",
    "def lstm_model():\n",
    "    model = Sequential()\n",
    "    model.add(LSTM(50, input_shape = (14,1), return_sequences = True))\n",
    "    model.add(LSTM(5, return_sequences = False))\n",
    "    model.add(Activation('sigmoid'))\n",
    "    \n",
    "    model.compile(loss = 'binary_crossentropy', optimizer = 'adam', metrics=['accuracy', precision, recall, f1score])\n",
    "    return model\n",
    "\n",
    "model = lstm_model()\n",
    "\n",
    "model.summary()"
   ]
  },
  {
   "cell_type": "code",
   "execution_count": null,
   "metadata": {},
   "outputs": [],
   "source": [
    "hist=model.fit(X_train, y_train, epochs=20, batch_size=10, validation_data=(X_test,y_test))"
   ]
  },
  {
   "cell_type": "code",
   "execution_count": null,
   "metadata": {},
   "outputs": [],
   "source": [
    "drawGraph(hist, X_test, y_test)"
   ]
  },
  {
   "cell_type": "code",
   "execution_count": 40,
   "metadata": {},
   "outputs": [
    {
     "ename": "KeyError",
     "evalue": "'recall'",
     "output_type": "error",
     "traceback": [
      "\u001b[1;31m---------------------------------------------------------------------------\u001b[0m",
      "\u001b[1;31mKeyError\u001b[0m                                  Traceback (most recent call last)",
      "\u001b[1;32m<ipython-input-40-fc06ad3dab6d>\u001b[0m in \u001b[0;36m<module>\u001b[1;34m\u001b[0m\n\u001b[1;32m----> 1\u001b[1;33m \u001b[0mdrawGraph2\u001b[0m\u001b[1;33m(\u001b[0m\u001b[0mhist\u001b[0m\u001b[1;33m,\u001b[0m \u001b[0mX_test\u001b[0m\u001b[1;33m,\u001b[0m \u001b[0my_test\u001b[0m\u001b[1;33m)\u001b[0m\u001b[1;33m\u001b[0m\u001b[1;33m\u001b[0m\u001b[0m\n\u001b[0m",
      "\u001b[1;32m<ipython-input-10-e94f3f2a0a8d>\u001b[0m in \u001b[0;36mdrawGraph2\u001b[1;34m(hist, X_test, y_test)\u001b[0m\n\u001b[0;32m     25\u001b[0m     \u001b[0mpre_ax\u001b[0m \u001b[1;33m=\u001b[0m \u001b[0mrec_ax\u001b[0m\u001b[1;33m.\u001b[0m\u001b[0mtwinx\u001b[0m\u001b[1;33m(\u001b[0m\u001b[1;33m)\u001b[0m\u001b[1;33m\u001b[0m\u001b[1;33m\u001b[0m\u001b[0m\n\u001b[0;32m     26\u001b[0m \u001b[1;33m\u001b[0m\u001b[0m\n\u001b[1;32m---> 27\u001b[1;33m     \u001b[0mrec_ax\u001b[0m\u001b[1;33m.\u001b[0m\u001b[0mplot\u001b[0m\u001b[1;33m(\u001b[0m\u001b[0mhist\u001b[0m\u001b[1;33m.\u001b[0m\u001b[0mhistory\u001b[0m\u001b[1;33m[\u001b[0m\u001b[1;34m'recall'\u001b[0m\u001b[1;33m]\u001b[0m\u001b[1;33m,\u001b[0m \u001b[1;34m'y'\u001b[0m\u001b[1;33m,\u001b[0m \u001b[0mlabel\u001b[0m\u001b[1;33m=\u001b[0m\u001b[1;34m'train recall'\u001b[0m\u001b[1;33m)\u001b[0m\u001b[1;33m\u001b[0m\u001b[1;33m\u001b[0m\u001b[0m\n\u001b[0m\u001b[0;32m     28\u001b[0m     \u001b[0mrec_ax\u001b[0m\u001b[1;33m.\u001b[0m\u001b[0mplot\u001b[0m\u001b[1;33m(\u001b[0m\u001b[0mhist\u001b[0m\u001b[1;33m.\u001b[0m\u001b[0mhistory\u001b[0m\u001b[1;33m[\u001b[0m\u001b[1;34m'val_recall'\u001b[0m\u001b[1;33m]\u001b[0m\u001b[1;33m,\u001b[0m \u001b[1;34m'r'\u001b[0m\u001b[1;33m,\u001b[0m \u001b[0mlabel\u001b[0m\u001b[1;33m=\u001b[0m\u001b[1;34m'val recall'\u001b[0m\u001b[1;33m)\u001b[0m\u001b[1;33m\u001b[0m\u001b[1;33m\u001b[0m\u001b[0m\n\u001b[0;32m     29\u001b[0m \u001b[1;33m\u001b[0m\u001b[0m\n",
      "\u001b[1;31mKeyError\u001b[0m: 'recall'"
     ]
    },
    {
     "data": {
      "image/png": "[encoded data removed]",
      "text/plain": [
       "<Figure size 432x288 with 2 Axes>"
      ]
     },
     "metadata": {
      "needs_background": "light"
     },
     "output_type": "display_data"
    }
   ],
   "source": [
    "drawGraph2(hist, X_test, y_test)"
   ]
  },
  {
   "cell_type": "code",
   "execution_count": null,
   "metadata": {},
   "outputs": [],
   "source": [
    "import random\n",
    "index=[]\n",
    "for i in range(7) :\n",
    "    index.append(random.randint(0,117705))\n",
    "    \n",
    "Back2_c=pd.DataFrame(Back2)\n",
    "Dual1_c=pd.DataFrame(Dual1)\n",
    "Dual2_c=pd.DataFrame(Dual2)\n",
    "Idle_c=pd.DataFrame(Idle)\n",
    "\n",
    "Back2_c=Back2_c.drop(index)\n",
    "Dual1_c=Dual1_c.drop(index)\n",
    "Dual2_c=Dual2_c.drop(index)\n",
    "Idle_c=Idle_c.drop(index)\n",
    "\n",
    "Back2_c=Back2_c.values\n",
    "Dual1_c=Dual1_c.values\n",
    "Dual2_c=Dual2_c.values\n",
    "Idle_c=Idle_c.values"
   ]
  },
  {
   "cell_type": "code",
   "execution_count": null,
   "metadata": {},
   "outputs": [],
   "source": [
    "Back1_c=Back1.reshape(-1,14,14)\n",
    "Back2_c=Back2_c.reshape(-1,14,14)\n",
    "Dual1_c=Dual1_c.reshape(-1,14,14)\n",
    "Dual2_c=Dual2_c.reshape(-1,14,14)\n",
    "Idle_c=Idle_c.reshape(-1,14,14)"
   ]
  },
  {
   "cell_type": "code",
   "execution_count": null,
   "metadata": {},
   "outputs": [],
   "source": [
    "print(Back1_c.shape, Back2_c.shape, Dual1_c.shape, Dual2_c.shape, Idle_c.shape)"
   ]
  },
  {
   "cell_type": "code",
   "execution_count": null,
   "metadata": {},
   "outputs": [],
   "source": [
    "eeg=np.r_[Back1_c, Back2_c]\n",
    "eeg=np.r_[eeg, Dual1_c]\n",
    "eeg=np.r_[eeg, Dual2_c]\n",
    "eeg=np.r_[eeg, Idle_c]\n",
    "print(eeg.shape)"
   ]
  },
  {
   "cell_type": "code",
   "execution_count": null,
   "metadata": {},
   "outputs": [],
   "source": [
    "label_0=np.zeros((len(Back1_c),1))\n",
    "label_1=np.ones((len(Back2_c),1))\n",
    "label_2=np.full((len(Dual1_c),1),2)\n",
    "label_3=np.full((len(Dual2_c),1),3)\n",
    "label_4=np.full((len(Idle_c),1),4)\n",
    "print(label_0.shape, label_1.shape, label_2.shape, label_3.shape, label_4.shape)"
   ]
  },
  {
   "cell_type": "code",
   "execution_count": null,
   "metadata": {},
   "outputs": [],
   "source": [
    "label=np.r_[label_0, label_1]\n",
    "label=np.r_[label, label_2]\n",
    "label=np.r_[label, label_3]\n",
    "label=np.r_[label, label_4]\n",
    "print(label.shape)"
   ]
  },
  {
   "cell_type": "code",
   "execution_count": null,
   "metadata": {},
   "outputs": [],
   "source": [
    "label=to_categorical(label,5)\n",
    "print(eeg.shape, label.shape)"
   ]
  },
  {
   "cell_type": "code",
   "execution_count": null,
   "metadata": {},
   "outputs": [],
   "source": [
    "plt.subplot(221)\n",
    "plt.imshow(eeg[0], cmap='gray')\n",
    "\n",
    "plt.subplot(222)\n",
    "plt.imshow(eeg[19000], cmap='gray')\n",
    "\n",
    "plt.subplot(223)\n",
    "plt.imshow(eeg[29000], cmap='gray')\n",
    "\n",
    "plt.subplot(224)\n",
    "plt.imshow(eeg[43000], cmap='gray')"
   ]
  },
  {
   "cell_type": "code",
   "execution_count": null,
   "metadata": {},
   "outputs": [],
   "source": [
    "X_train, X_test, y_train, y_test = train_test_split(eeg, label, test_size=0.3, random_state=None, shuffle=True, stratify=label)\n",
    "print(X_train.shape, X_test.shape, y_train.shape, y_test.shape)"
   ]
  },
  {
   "cell_type": "code",
   "execution_count": null,
   "metadata": {},
   "outputs": [],
   "source": [
    "X_train = X_train.reshape(X_train.shape+ (1,))\n",
    "X_test = X_test.reshape(X_test.shape + (1,))\n",
    "print(X_train.shape, X_test.shape, y_train.shape, y_test.shape)"
   ]
  },
  {
   "cell_type": "code",
   "execution_count": null,
   "metadata": {},
   "outputs": [],
   "source": [
    "def basic_cnn():\n",
    "    model = Sequential()\n",
    "\n",
    "    model.add(Conv2D(input_shape = (X_train.shape[1], X_train.shape[2], X_train.shape[3]), filters = 50, kernel_size = (2,2), strides = (1,1), padding = 'same'))\n",
    "    model.add(Activation('relu'))\n",
    "    model.add(Conv2D(filters = 50, kernel_size = (2,2), strides = (1,1), padding = 'same'))\n",
    "    model.add(Activation('relu'))\n",
    "    \n",
    "    model.add(MaxPooling2D(pool_size = (2,2)))\n",
    "    \n",
    "    model.add(Conv2D(filters = 50, kernel_size = (2,2), strides = (1,1), padding = 'same'))\n",
    "    model.add(Activation('relu'))\n",
    "    model.add(Conv2D(filters = 50, kernel_size = (2,2), strides = (1,1), padding = 'same'))\n",
    "    model.add(Activation('relu'))\n",
    "\n",
    "    # prior layer should be flattend to be connected to dense layers\n",
    "    model.add(Flatten())\n",
    "    \n",
    "    \n",
    "    # final layer with 10 neurons to classify the instances\n",
    "    model.add(Dense(50, activation = 'relu'))\n",
    "    \n",
    "    # final layer with 10 neurons to classify the instances\n",
    "    model.add(Dense(5, activation = 'softmax'))\n",
    "\n",
    "    adam = optimizers.Adam(lr = 0.001)\n",
    "    model.compile(loss = 'binary_crossentropy', optimizer = adam, metrics=['accuracy', precision, recall, f1score])\n",
    "    return model\n",
    "\n",
    "model = basic_cnn()\n",
    "model.summary()"
   ]
  },
  {
   "cell_type": "code",
   "execution_count": null,
   "metadata": {},
   "outputs": [],
   "source": [
    "hist=model.fit(X_train, y_train, epochs=10, batch_size=10, validation_data=(X_test,y_test))"
   ]
  },
  {
   "cell_type": "code",
   "execution_count": null,
   "metadata": {},
   "outputs": [],
   "source": [
    "drawGraph(hist, X_test, y_test)"
   ]
  },
  {
   "cell_type": "code",
   "execution_count": null,
   "metadata": {
    "scrolled": true
   },
   "outputs": [],
   "source": [
    "drawGraph2(hist, X_test, y_test)"
   ]
  },
  {
   "cell_type": "code",
   "execution_count": null,
   "metadata": {},
   "outputs": [],
   "source": []
  }
 ],
 "metadata": {
  "kernelspec": {
   "display_name": "Python 3",
   "language": "python",
   "name": "python3"
  },
  "language_info": {
   "codemirror_mode": {
    "name": "ipython",
    "version": 3
   },
   "file_extension": ".py",
   "mimetype": "text/x-python",
   "name": "python",
   "nbconvert_exporter": "python",
   "pygments_lexer": "ipython3",
   "version": "3.8.5"
  }
 },
 "nbformat": 4,
 "nbformat_minor": 4
}
