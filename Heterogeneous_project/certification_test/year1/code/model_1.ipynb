{
 "cells": [
  {
   "cell_type": "code",
   "execution_count": 1,
   "metadata": {},
   "outputs": [],
   "source": [
    "import tensorflow as tf\n",
    "import numpy as np\n",
    "import pandas as pd \n",
    "from sklearn.preprocessing import LabelEncoder "
   ]
  },
  {
   "cell_type": "markdown",
   "metadata": {},
   "source": [
    "## 학습 데이터 파일 로드"
   ]
  },
  {
   "cell_type": "code",
   "execution_count": 2,
   "metadata": {},
   "outputs": [],
   "source": [
    "train_dataset_df = pd.read_csv('../data/train.csv') \n",
    "#train_dataset_df.head()"
   ]
  },
  {
   "cell_type": "markdown",
   "metadata": {},
   "source": [
    "## 학습 데이터셋 인코딩"
   ]
  },
  {
   "cell_type": "code",
   "execution_count": 3,
   "metadata": {},
   "outputs": [],
   "source": [
    "labelencoder=LabelEncoder()\n",
    "\n",
    "for col in train_dataset_df.columns: \n",
    "    train_dataset_df[col] = labelencoder.fit_transform(train_dataset_df[col]) \n",
    "#train_dataset_df.head()"
   ]
  },
  {
   "cell_type": "code",
   "execution_count": 4,
   "metadata": {},
   "outputs": [],
   "source": [
    "#train_dataset_df.columns\n",
    "x_train = train_dataset_df[train_dataset_df.columns[1:]].to_numpy()\n",
    "y_train = train_dataset_df[train_dataset_df.columns[0]].to_numpy()\n",
    "y_train = tf.keras.utils.to_categorical(y_train, num_classes=2)\n",
    "#print(x_train)\n",
    "#print(y_train)\n",
    "#print(x_train.shape, y_train.shape)"
   ]
  },
  {
   "cell_type": "markdown",
   "metadata": {},
   "source": [
    "## 테스트 데이터 파일 로드"
   ]
  },
  {
   "cell_type": "code",
   "execution_count": 5,
   "metadata": {},
   "outputs": [],
   "source": [
    "test_dataset_df = pd.read_csv('../data/test-1.csv') \n",
    "#test_dataset_df.head()"
   ]
  },
  {
   "cell_type": "markdown",
   "metadata": {},
   "source": [
    "## 테스트 데이터셋 인코딩"
   ]
  },
  {
   "cell_type": "code",
   "execution_count": 6,
   "metadata": {},
   "outputs": [],
   "source": [
    "labelencoder=LabelEncoder()\n",
    "\n",
    "for col in test_dataset_df.columns: \n",
    "    test_dataset_df[col] = labelencoder.fit_transform(test_dataset_df[col]) \n",
    "#test_dataset_df.head()"
   ]
  },
  {
   "cell_type": "code",
   "execution_count": 7,
   "metadata": {},
   "outputs": [],
   "source": [
    "x_test = test_dataset_df[test_dataset_df.columns[1:]].to_numpy()\n",
    "y_test = test_dataset_df[test_dataset_df.columns[0]].to_numpy()\n",
    "y_test = tf.keras.utils.to_categorical(y_test, num_classes=2)\n",
    "#print(x_test)\n",
    "#print(y_test)\n",
    "#print(x_test.shape, y_test.shape)"
   ]
  },
  {
   "cell_type": "markdown",
   "metadata": {},
   "source": [
    "## 모델 생성"
   ]
  },
  {
   "cell_type": "code",
   "execution_count": 8,
   "metadata": {},
   "outputs": [],
   "source": [
    "model = tf.keras.Sequential([\n",
    "                             tf.keras.layers.Dense(units=48, activation='relu', input_shape=(22,)),\n",
    "                             tf.keras.layers.Dense(units=24, activation='relu'),\n",
    "                             tf.keras.layers.Dense(units=12, activation='relu'),\n",
    "                             tf.keras.layers.Dense(units=2, activation='sigmoid')\n",
    "])"
   ]
  },
  {
   "cell_type": "code",
   "execution_count": 9,
   "metadata": {},
   "outputs": [
    {
     "name": "stdout",
     "output_type": "stream",
     "text": [
      "Model: \"sequential\"\n",
      "_________________________________________________________________\n",
      "Layer (type)                 Output Shape              Param #   \n",
      "=================================================================\n",
      "dense (Dense)                (None, 48)                1104      \n",
      "_________________________________________________________________\n",
      "dense_1 (Dense)              (None, 24)                1176      \n",
      "_________________________________________________________________\n",
      "dense_2 (Dense)              (None, 12)                300       \n",
      "_________________________________________________________________\n",
      "dense_3 (Dense)              (None, 2)                 26        \n",
      "=================================================================\n",
      "Total params: 2,606\n",
      "Trainable params: 2,606\n",
      "Non-trainable params: 0\n",
      "_________________________________________________________________\n"
     ]
    },
    {
     "name": "stderr",
     "output_type": "stream",
     "text": [
      "c:\\python38\\lib\\site-packages\\keras\\optimizer_v2\\optimizer_v2.py:355: UserWarning: The `lr` argument is deprecated, use `learning_rate` instead.\n",
      "  warnings.warn(\n"
     ]
    }
   ],
   "source": [
    "model.compile(optimizer=tf.keras.optimizers.Adam(lr=0.07),\n",
    "              loss='binary_crossentropy', metrics=['Accuracy','TruePositives','TrueNegatives','FalseNegatives','FalsePositives'])\n",
    "\n",
    "model.summary()"
   ]
  },
  {
   "cell_type": "markdown",
   "metadata": {},
   "source": [
    "## 모델 학습 동작 테스트 - 시험 중 코드 테스트 용도"
   ]
  },
  {
   "cell_type": "code",
   "execution_count": 10,
   "metadata": {},
   "outputs": [
    {
     "name": "stdout",
     "output_type": "stream",
     "text": [
      "Epoch 1/25\n",
      "153/153 [==============================] - 1s 2ms/step - loss: 0.2617 - Accuracy: 0.8923 - true_positives: 4319.0000 - true_negatives: 4351.0000 - false_negatives: 555.0000 - false_positives: 523.0000 - val_loss: 0.8993 - val_Accuracy: 0.8351 - val_true_positives: 1358.0000 - val_true_negatives: 1356.0000 - val_false_negatives: 267.0000 - val_false_positives: 269.0000\n",
      "Epoch 2/25\n",
      "153/153 [==============================] - 0s 755us/step - loss: 0.1295 - Accuracy: 0.9577 - true_positives: 4664.0000 - true_negatives: 4650.0000 - false_negatives: 210.0000 - false_positives: 224.0000 - val_loss: 2.0443 - val_Accuracy: 0.7563 - val_true_positives: 1229.0000 - val_true_negatives: 1229.0000 - val_false_negatives: 396.0000 - val_false_positives: 396.0000\n",
      "Epoch 3/25\n",
      "153/153 [==============================] - 0s 761us/step - loss: 0.1027 - Accuracy: 0.9688 - true_positives: 4721.0000 - true_negatives: 4723.0000 - false_negatives: 153.0000 - false_positives: 151.0000 - val_loss: 0.2791 - val_Accuracy: 0.8948 - val_true_positives: 1453.0000 - val_true_negatives: 1456.0000 - val_false_negatives: 172.0000 - val_false_positives: 169.0000\n",
      "Epoch 4/25\n",
      "153/153 [==============================] - 0s 765us/step - loss: 0.0716 - Accuracy: 0.9725 - true_positives: 4740.0000 - true_negatives: 4740.0000 - false_negatives: 134.0000 - false_positives: 134.0000 - val_loss: 0.6692 - val_Accuracy: 0.8271 - val_true_positives: 1350.0000 - val_true_negatives: 1339.0000 - val_false_negatives: 275.0000 - val_false_positives: 286.0000\n",
      "Epoch 5/25\n",
      "153/153 [==============================] - 0s 761us/step - loss: 0.0624 - Accuracy: 0.9752 - true_positives: 4753.0000 - true_negatives: 4753.0000 - false_negatives: 121.0000 - false_positives: 121.0000 - val_loss: 0.5748 - val_Accuracy: 0.8615 - val_true_positives: 1400.0000 - val_true_negatives: 1400.0000 - val_false_negatives: 225.0000 - val_false_positives: 225.0000\n",
      "Epoch 6/25\n",
      "153/153 [==============================] - 0s 774us/step - loss: 0.0850 - Accuracy: 0.9678 - true_positives: 4717.0000 - true_negatives: 4717.0000 - false_negatives: 157.0000 - false_positives: 157.0000 - val_loss: 0.4452 - val_Accuracy: 0.8265 - val_true_positives: 1374.0000 - val_true_negatives: 1312.0000 - val_false_negatives: 251.0000 - val_false_positives: 313.0000\n"
     ]
    }
   ],
   "source": [
    "history = model.fit(x_train, y_train, epochs=25, batch_size=32, validation_split=0.25, callbacks=[tf.keras.callbacks.EarlyStopping(patience=3, monitor='val_loss')])"
   ]
  },
  {
   "cell_type": "markdown",
   "metadata": {},
   "source": [
    "## 모델 학습 및 준비된 모델 체크포인트 저장(공인 시험 인증 준비 단계) - 시험 중 실행 금지"
   ]
  },
  {
   "cell_type": "code",
   "execution_count": null,
   "metadata": {},
   "outputs": [],
   "source": [
    "#checkpoint_path = \"../models/trained_model_1/model_1.ckpt\"\n",
    "#cp_callback = tf.keras.callbacks.ModelCheckpoint(filepath=checkpoint_path, save_weights_only=True,verbose=1)\n",
    "#history = model.fit(x_train, y_train, epochs=25, batch_size=32, validation_split=0.25, callbacks=[tf.keras.callbacks.EarlyStopping(patience=3, monitor='val_loss'), cp_callback])"
   ]
  },
  {
   "cell_type": "markdown",
   "metadata": {},
   "source": [
    "## 모델 불러오기 (공인시험인증을 위한 준비된 모델 사용)"
   ]
  },
  {
   "cell_type": "code",
   "execution_count": 11,
   "metadata": {},
   "outputs": [
    {
     "data": {
      "text/plain": [
       "<tensorflow.python.training.tracking.util.CheckpointLoadStatus at 0x1efb0aeb070>"
      ]
     },
     "execution_count": 11,
     "metadata": {},
     "output_type": "execute_result"
    }
   ],
   "source": [
    "checkpoint_path = \"../models/trained_model_1/model_1.ckpt\"\n",
    "model.load_weights(checkpoint_path)"
   ]
  },
  {
   "cell_type": "markdown",
   "metadata": {},
   "source": [
    "## 모델 평가"
   ]
  },
  {
   "cell_type": "code",
   "execution_count": 12,
   "metadata": {},
   "outputs": [
    {
     "name": "stdout",
     "output_type": "stream",
     "text": [
      "17/17 [==============================] - 0s 499us/step - loss: 0.5038 - Accuracy: 0.8981 - true_positives: 485.0000 - true_negatives: 485.0000 - false_negatives: 55.0000 - false_positives: 55.0000\n"
     ]
    }
   ],
   "source": [
    "saveModelEval = model.evaluate(x_test, y_test)\n",
    "#print(\"[loss, accuracy, TP, TN, FN, FP]\")\n",
    "#print(saveModelEval)\n",
    "mLoss = saveModelEval[0]\n",
    "mAcc = saveModelEval[1]\n",
    "mTP = saveModelEval[2]\n",
    "mTN = saveModelEval[3]\n",
    "mFN = saveModelEval[4]\n",
    "mFP = saveModelEval[5]"
   ]
  },
  {
   "cell_type": "markdown",
   "metadata": {},
   "source": [
    "## Confusion matrix"
   ]
  },
  {
   "cell_type": "code",
   "execution_count": 13,
   "metadata": {},
   "outputs": [
    {
     "name": "stdout",
     "output_type": "stream",
     "text": [
      "TP = 485.000000\n",
      "TN = 485.000000\n",
      "FN = 55.000000\n",
      "FP = 55.000000\n",
      "Accuracy = (TP + TN)/(TP + FN + FP + TN))\n",
      "Accuracy = 0.898148\n"
     ]
    }
   ],
   "source": [
    "print(\"TP = %f\"%mTP)\n",
    "print(\"TN = %f\"%mTN)\n",
    "print(\"FN = %f\"%mFN)\n",
    "print(\"FP = %f\"%mFP)\n",
    "\n",
    "print(\"Accuracy = (TP + TN)/(TP + FN + FP + TN))\")\n",
    "print(\"Accuracy = %f\"%mAcc)"
   ]
  },
  {
   "cell_type": "code",
   "execution_count": null,
   "metadata": {},
   "outputs": [],
   "source": []
  }
 ],
 "metadata": {
  "kernelspec": {
   "display_name": "Python 3",
   "language": "python",
   "name": "python3"
  },
  "language_info": {
   "codemirror_mode": {
    "name": "ipython",
    "version": 3
   },
   "file_extension": ".py",
   "mimetype": "text/x-python",
   "name": "python",
   "nbconvert_exporter": "python",
   "pygments_lexer": "ipython3",
   "version": "3.8.3"
  }
 },
 "nbformat": 4,
 "nbformat_minor": 4
}
