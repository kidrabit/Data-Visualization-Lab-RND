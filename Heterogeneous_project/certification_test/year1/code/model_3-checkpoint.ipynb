{
 "cells": [
  {
   "cell_type": "code",
   "execution_count": 1,
   "metadata": {},
   "outputs": [],
   "source": [
    "import tensorflow as tf\n",
    "import numpy as np\n",
    "import pandas as pd \n",
    "from sklearn.preprocessing import LabelEncoder "
   ]
  },
  {
   "cell_type": "markdown",
   "metadata": {},
   "source": [
    "## 학습 데이터 파일 로드"
   ]
  },
  {
   "cell_type": "code",
   "execution_count": 2,
   "metadata": {},
   "outputs": [],
   "source": [
    "train_dataset_df = pd.read_csv('../data/train.csv') \n",
    "#train_dataset_df.head()"
   ]
  },
  {
   "cell_type": "markdown",
   "metadata": {},
   "source": [
    "## 학습 데이터셋 인코딩"
   ]
  },
  {
   "cell_type": "code",
   "execution_count": 3,
   "metadata": {},
   "outputs": [],
   "source": [
    "labelencoder=LabelEncoder()\n",
    "\n",
    "for col in train_dataset_df.columns: \n",
    "    train_dataset_df[col] = labelencoder.fit_transform(train_dataset_df[col]) \n",
    "#train_dataset_df.head()"
   ]
  },
  {
   "cell_type": "code",
   "execution_count": 4,
   "metadata": {},
   "outputs": [],
   "source": [
    "#train_dataset_df.columns\n",
    "x_train = train_dataset_df[train_dataset_df.columns[1:]].to_numpy()\n",
    "y_train = train_dataset_df[train_dataset_df.columns[0]].to_numpy()\n",
    "y_train = tf.keras.utils.to_categorical(y_train, num_classes=2)\n",
    "#print(x_train)\n",
    "#print(y_train)\n",
    "#print(x_train.shape, y_train.shape)"
   ]
  },
  {
   "cell_type": "markdown",
   "metadata": {},
   "source": [
    "## 테스트 데이터 파일 로드"
   ]
  },
  {
   "cell_type": "code",
   "execution_count": 5,
   "metadata": {},
   "outputs": [],
   "source": [
    "test_dataset_df = pd.read_csv('../data/test-3.csv') \n",
    "#test_dataset_df.head()"
   ]
  },
  {
   "cell_type": "markdown",
   "metadata": {},
   "source": [
    "## 테스트 데이터셋 인코딩"
   ]
  },
  {
   "cell_type": "code",
   "execution_count": 6,
   "metadata": {},
   "outputs": [],
   "source": [
    "labelencoder=LabelEncoder()\n",
    "\n",
    "for col in test_dataset_df.columns: \n",
    "    test_dataset_df[col] = labelencoder.fit_transform(test_dataset_df[col]) \n",
    "#test_dataset_df.head()"
   ]
  },
  {
   "cell_type": "code",
   "execution_count": 7,
   "metadata": {},
   "outputs": [],
   "source": [
    "x_test = test_dataset_df[test_dataset_df.columns[1:]].to_numpy()\n",
    "y_test = test_dataset_df[test_dataset_df.columns[0]].to_numpy()\n",
    "y_test = tf.keras.utils.to_categorical(y_test, num_classes=2)\n",
    "#print(x_test)\n",
    "#print(y_test)\n",
    "#print(x_test.shape, y_test.shape)"
   ]
  },
  {
   "cell_type": "markdown",
   "metadata": {},
   "source": [
    "## 모델 생성"
   ]
  },
  {
   "cell_type": "code",
   "execution_count": 8,
   "metadata": {},
   "outputs": [],
   "source": [
    "model = tf.keras.Sequential([\n",
    "                             tf.keras.layers.Dense(units=48, activation='relu', input_shape=(22,)),\n",
    "                             tf.keras.layers.Dense(units=24, activation='relu'),\n",
    "                             tf.keras.layers.Dense(units=12, activation='relu'),\n",
    "                             tf.keras.layers.Dense(units=2, activation='sigmoid')\n",
    "])"
   ]
  },
  {
   "cell_type": "code",
   "execution_count": 9,
   "metadata": {},
   "outputs": [
    {
     "name": "stdout",
     "output_type": "stream",
     "text": [
      "Model: \"sequential\"\n",
      "_________________________________________________________________\n",
      "Layer (type)                 Output Shape              Param #   \n",
      "=================================================================\n",
      "dense (Dense)                (None, 48)                1104      \n",
      "_________________________________________________________________\n",
      "dense_1 (Dense)              (None, 24)                1176      \n",
      "_________________________________________________________________\n",
      "dense_2 (Dense)              (None, 12)                300       \n",
      "_________________________________________________________________\n",
      "dense_3 (Dense)              (None, 2)                 26        \n",
      "=================================================================\n",
      "Total params: 2,606\n",
      "Trainable params: 2,606\n",
      "Non-trainable params: 0\n",
      "_________________________________________________________________\n"
     ]
    },
    {
     "name": "stderr",
     "output_type": "stream",
     "text": [
      "c:\\python38\\lib\\site-packages\\keras\\optimizer_v2\\optimizer_v2.py:355: UserWarning: The `lr` argument is deprecated, use `learning_rate` instead.\n",
      "  warnings.warn(\n"
     ]
    }
   ],
   "source": [
    "model.compile(optimizer=tf.keras.optimizers.Adam(lr=0.07),\n",
    "              loss='binary_crossentropy', metrics=['Accuracy','TruePositives','TrueNegatives','FalseNegatives','FalsePositives'])\n",
    "\n",
    "model.summary()"
   ]
  },
  {
   "cell_type": "markdown",
   "metadata": {},
   "source": [
    "## 모델 학습 동작 테스트 - 시험 중 코드 테스트 용도"
   ]
  },
  {
   "cell_type": "code",
   "execution_count": 10,
   "metadata": {},
   "outputs": [
    {
     "name": "stdout",
     "output_type": "stream",
     "text": [
      "Epoch 1/25\n",
      "153/153 [==============================] - 1s 2ms/step - loss: 0.3190 - Accuracy: 0.8777 - true_positives: 4281.0000 - true_negatives: 4278.0000 - false_negatives: 593.0000 - false_positives: 596.0000 - val_loss: 0.7739 - val_Accuracy: 0.7785 - val_true_positives: 1266.0000 - val_true_negatives: 1265.0000 - val_false_negatives: 359.0000 - val_false_positives: 360.0000\n",
      "Epoch 2/25\n",
      "153/153 [==============================] - 0s 761us/step - loss: 0.0902 - Accuracy: 0.9741 - true_positives: 4748.0000 - true_negatives: 4748.0000 - false_negatives: 126.0000 - false_positives: 126.0000 - val_loss: 0.7490 - val_Accuracy: 0.7982 - val_true_positives: 1297.0000 - val_true_negatives: 1297.0000 - val_false_negatives: 328.0000 - val_false_positives: 328.0000\n",
      "Epoch 3/25\n",
      "153/153 [==============================] - 0s 768us/step - loss: 0.0764 - Accuracy: 0.9719 - true_positives: 4738.0000 - true_negatives: 4737.0000 - false_negatives: 136.0000 - false_positives: 137.0000 - val_loss: 0.5708 - val_Accuracy: 0.8455 - val_true_positives: 1375.0000 - val_true_negatives: 1374.0000 - val_false_negatives: 250.0000 - val_false_positives: 251.0000\n",
      "Epoch 4/25\n",
      "153/153 [==============================] - 0s 800us/step - loss: 0.0713 - Accuracy: 0.9723 - true_positives: 4739.0000 - true_negatives: 4739.0000 - false_negatives: 135.0000 - false_positives: 135.0000 - val_loss: 0.4707 - val_Accuracy: 0.8898 - val_true_positives: 1446.0000 - val_true_negatives: 1446.0000 - val_false_negatives: 179.0000 - val_false_positives: 179.0000\n",
      "Epoch 5/25\n",
      "153/153 [==============================] - 0s 755us/step - loss: 0.0787 - Accuracy: 0.9703 - true_positives: 4729.0000 - true_negatives: 4730.0000 - false_negatives: 145.0000 - false_positives: 144.0000 - val_loss: 1.0694 - val_Accuracy: 0.8129 - val_true_positives: 1321.0000 - val_true_negatives: 1321.0000 - val_false_negatives: 304.0000 - val_false_positives: 304.0000\n",
      "Epoch 6/25\n",
      "153/153 [==============================] - 0s 781us/step - loss: 0.0589 - Accuracy: 0.9797 - true_positives: 4777.0000 - true_negatives: 4772.0000 - false_negatives: 97.0000 - false_positives: 102.0000 - val_loss: 0.7114 - val_Accuracy: 0.7532 - val_true_positives: 1224.0000 - val_true_negatives: 1224.0000 - val_false_negatives: 401.0000 - val_false_positives: 401.0000\n",
      "Epoch 7/25\n",
      "153/153 [==============================] - 0s 807us/step - loss: 0.0327 - Accuracy: 0.9928 - true_positives: 4839.0000 - true_negatives: 4839.0000 - false_negatives: 35.0000 - false_positives: 35.0000 - val_loss: 0.4375 - val_Accuracy: 0.8812 - val_true_positives: 1432.0000 - val_true_negatives: 1432.0000 - val_false_negatives: 193.0000 - val_false_positives: 193.0000\n",
      "Epoch 8/25\n",
      "153/153 [==============================] - 0s 800us/step - loss: 0.1031 - Accuracy: 0.9766 - true_positives: 4760.0000 - true_negatives: 4760.0000 - false_negatives: 114.0000 - false_positives: 114.0000 - val_loss: 0.8854 - val_Accuracy: 0.8025 - val_true_positives: 1304.0000 - val_true_negatives: 1304.0000 - val_false_negatives: 321.0000 - val_false_positives: 321.0000\n",
      "Epoch 9/25\n",
      "153/153 [==============================] - 0s 794us/step - loss: 0.0538 - Accuracy: 0.9883 - true_positives: 4817.0000 - true_negatives: 4817.0000 - false_negatives: 57.0000 - false_positives: 57.0000 - val_loss: 1.5181 - val_Accuracy: 0.5914 - val_true_positives: 961.0000 - val_true_negatives: 961.0000 - val_false_negatives: 664.0000 - val_false_positives: 664.0000\n",
      "Epoch 10/25\n",
      "153/153 [==============================] - 0s 787us/step - loss: 0.0377 - Accuracy: 0.9928 - true_positives: 4839.0000 - true_negatives: 4839.0000 - false_negatives: 35.0000 - false_positives: 35.0000 - val_loss: 0.6711 - val_Accuracy: 0.8480 - val_true_positives: 1378.0000 - val_true_negatives: 1378.0000 - val_false_negatives: 247.0000 - val_false_positives: 247.0000\n"
     ]
    }
   ],
   "source": [
    "history = model.fit(x_train, y_train, epochs=25, batch_size=32, validation_split=0.25, callbacks=[tf.keras.callbacks.EarlyStopping(patience=3, monitor='val_loss')])"
   ]
  },
  {
   "cell_type": "markdown",
   "metadata": {},
   "source": [
    "## 모델 학습 및 준비된 모델 체크포인트 저장(공인 시험 인증 준비 단계) - 시험 중 실행 금지"
   ]
  },
  {
   "cell_type": "code",
   "execution_count": null,
   "metadata": {},
   "outputs": [],
   "source": [
    "#checkpoint_path = \"../models/trained_model_3/model_3.ckpt\"\n",
    "#cp_callback = tf.keras.callbacks.ModelCheckpoint(filepath=checkpoint_path, save_weights_only=True,verbose=1)\n",
    "#history = model.fit(x_train, y_train, epochs=25, batch_size=32, validation_split=0.25, callbacks=[tf.keras.callbacks.EarlyStopping(patience=3, monitor='val_loss'), cp_callback])"
   ]
  },
  {
   "cell_type": "markdown",
   "metadata": {},
   "source": [
    "## 모델 불러오기 (공인시험인증을 위한 준비된 모델 사용)"
   ]
  },
  {
   "cell_type": "code",
   "execution_count": 11,
   "metadata": {},
   "outputs": [
    {
     "data": {
      "text/plain": [
       "<tensorflow.python.training.tracking.util.CheckpointLoadStatus at 0x22271d3a0a0>"
      ]
     },
     "execution_count": 11,
     "metadata": {},
     "output_type": "execute_result"
    }
   ],
   "source": [
    "checkpoint_path = \"../models/trained_model_3/model_3.ckpt\"\n",
    "model.load_weights(checkpoint_path)"
   ]
  },
  {
   "cell_type": "markdown",
   "metadata": {},
   "source": [
    "## 모델 평가"
   ]
  },
  {
   "cell_type": "code",
   "execution_count": 12,
   "metadata": {},
   "outputs": [
    {
     "name": "stdout",
     "output_type": "stream",
     "text": [
      "35/35 [==============================] - 0s 499us/step - loss: 0.9930 - Accuracy: 0.8441 - true_positives: 938.0000 - true_negatives: 937.0000 - false_negatives: 172.0000 - false_positives: 173.0000\n"
     ]
    }
   ],
   "source": [
    "saveModelEval = model.evaluate(x_test, y_test)\n",
    "#print(\"[loss, accuracy, TP, TN, FN, FP]\")\n",
    "#print(saveModelEval)\n",
    "mLoss = saveModelEval[0]\n",
    "mAcc = saveModelEval[1]\n",
    "mTP = saveModelEval[2]\n",
    "mTN = saveModelEval[3]\n",
    "mFN = saveModelEval[4]\n",
    "mFP = saveModelEval[5]"
   ]
  },
  {
   "cell_type": "markdown",
   "metadata": {},
   "source": [
    "## Confusion matrix"
   ]
  },
  {
   "cell_type": "code",
   "execution_count": 13,
   "metadata": {},
   "outputs": [
    {
     "name": "stdout",
     "output_type": "stream",
     "text": [
      "TP = 938.000000\n",
      "TN = 937.000000\n",
      "FN = 172.000000\n",
      "FP = 173.000000\n",
      "Accuracy = (TP + TN)/(TP + FN + FP + TN))\n",
      "Accuracy = 0.844144\n"
     ]
    }
   ],
   "source": [
    "print(\"TP = %f\"%mTP)\n",
    "print(\"TN = %f\"%mTN)\n",
    "print(\"FN = %f\"%mFN)\n",
    "print(\"FP = %f\"%mFP)\n",
    "\n",
    "print(\"Accuracy = (TP + TN)/(TP + FN + FP + TN))\")\n",
    "print(\"Accuracy = %f\"%mAcc)"
   ]
  },
  {
   "cell_type": "code",
   "execution_count": null,
   "metadata": {},
   "outputs": [],
   "source": []
  }
 ],
 "metadata": {
  "kernelspec": {
   "display_name": "Python 3",
   "language": "python",
   "name": "python3"
  },
  "language_info": {
   "codemirror_mode": {
    "name": "ipython",
    "version": 3
   },
   "file_extension": ".py",
   "mimetype": "text/x-python",
   "name": "python",
   "nbconvert_exporter": "python",
   "pygments_lexer": "ipython3",
   "version": "3.8.3"
  }
 },
 "nbformat": 4,
 "nbformat_minor": 4
}
