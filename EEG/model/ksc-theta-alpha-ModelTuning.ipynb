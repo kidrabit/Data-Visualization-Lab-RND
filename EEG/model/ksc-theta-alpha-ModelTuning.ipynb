{
 "cells": [
  {
   "cell_type": "code",
   "execution_count": 1,
   "id": "6a409700",
   "metadata": {},
   "outputs": [],
   "source": [
    "import os\n",
    "import pandas as pd\n",
    "import numpy as np"
   ]
  },
  {
   "cell_type": "code",
   "execution_count": 2,
   "id": "b283f812",
   "metadata": {},
   "outputs": [],
   "source": [
    "import warnings\n",
    "warnings.filterwarnings(action='ignore')\n",
    "\n",
    "import tensorflow as tf\n",
    "tf.get_logger().setLevel('ERROR')\n",
    "gpu_devices = tf.config.experimental.list_physical_devices(\"GPU\")\n",
    "for device in gpu_devices:\n",
    "    tf.config.experimental.set_memory_growth(device, True)"
   ]
  },
  {
   "cell_type": "markdown",
   "id": "9bfcb936",
   "metadata": {},
   "source": [
    "# Make Input"
   ]
  },
  {
   "cell_type": "code",
   "execution_count": 3,
   "id": "d959d193",
   "metadata": {
    "scrolled": false
   },
   "outputs": [],
   "source": [
    "def calculateWeight(tlx):\n",
    "    tlx_weight = {'Mental':[0], \n",
    "                  'Physical':[0], \n",
    "                  'Temporal':[0], \n",
    "                  'Effort':[0],\n",
    "                  'Performance':[0],\n",
    "                  'Frustration':[0],\n",
    "                  'Sum':[0]}\n",
    "    tlx_weight = pd.DataFrame(tlx_weight)\n",
    "    for i in range(len(tlx)):\n",
    "        score = [0,0,0,0,0,0,0]\n",
    "        for col1 in range(1,len(tlx.columns)):\n",
    "            for col2 in range(col1+1, len(tlx.columns)):\n",
    "                if tlx[tlx.columns[col1]][i] > tlx[tlx.columns[col2]][i]:\n",
    "                    score[col1-1]+=1\n",
    "                elif tlx[tlx.columns[col1]][i] < tlx[tlx.columns[col2]][i]:\n",
    "                    score[col2-1]+=1\n",
    "                else :\n",
    "                    score[col1-1]+=0.5\n",
    "                    score[col2-1]+=0.5\n",
    "                    \n",
    "        score[6] = score[0]+score[1]+score[2]+score[3]+score[4]+score[5]\n",
    "        tlx_weight.loc[i]=score\n",
    "    #print(tlx_weight.loc[0])\n",
    "    return tlx_weight\n",
    "\n",
    "def calculate_tlxLevel(tlx, tlx_weight):\n",
    "    result = {'Mental':[0], \n",
    "                  'Physical':[0], \n",
    "                  'Temporal':[0], \n",
    "                  'Effort':[0],\n",
    "                  'Performance':[0],\n",
    "                  'Frustration':[0],\n",
    "                  'Score':[0]}\n",
    "    result = pd.DataFrame(result)\n",
    "    for i in range(len(tlx)):\n",
    "        score = [0,0,0,0,0,0,0]\n",
    "        for col in range(len(tlx_weight.columns)-1):\n",
    "            score[col] = int(tlx[tlx.columns[col+1]].loc[i] * tlx_weight[tlx_weight.columns[col]].loc[i] )\n",
    "        score[6] =int((score[0]+score[1]+score[2]+score[3]+score[4]+score[5] )/ tlx_weight[tlx_weight.columns[6]].loc[i]/10 + 0.5)\n",
    "        if score[6]>10: score[6]=10\n",
    "        if score[6]<0: score[6]=0\n",
    "        result.loc[i]=score\n",
    "    return result['Score']"
   ]
  },
  {
   "cell_type": "code",
   "execution_count": 4,
   "id": "10b2845d",
   "metadata": {},
   "outputs": [],
   "source": [
    "def cal_theta_alpha(df):\n",
    "    col = ['POW.AF3.Theta', 'POW.AF3.Alpha', 'POW.F7.Theta', 'POW.F7.Alpha', \n",
    "           'POW.F3.Theta', 'POW.F3.Alpha', 'POW.FC5.Theta', 'POW.FC5.Alpha', \n",
    "           'POW.T7.Theta', 'POW.T7.Alpha', 'POW.P7.Theta', 'POW.P7.Alpha',\n",
    "           'POW.O1.Theta', 'POW.O1.Alpha', 'POW.O2.Theta', 'POW.O2.Alpha', \n",
    "           'POW.P8.Theta', 'POW.P8.Alpha', 'POW.T8.Theta', 'POW.T8.Alpha',\n",
    "           'POW.FC6.Theta', 'POW.FC6.Alpha',  'POW.F4.Theta', 'POW.F4.Alpha', \n",
    "           'POW.F8.Theta', 'POW.F8.Alpha','POW.AF4.Theta', 'POW.AF4.Alpha','MarkerValueInt']\n",
    "    col_rename = ['AF3.Theta', 'AF3.Alpha', 'F7.Theta','F7.Alpha', \n",
    "                               'F3.Theta', 'F3.Alpha', 'FC5.Theta', 'FC5.Alpha', \n",
    "                               'T7.Theta', 'T7.Alpha', 'P7.Theta', 'P7.Alpha', \n",
    "                               'O1.Theta', 'O1.Alpha', 'O2.Theta', 'O2.Alpha',\n",
    "                               'P8.Theta', 'P8.Alpha', 'T8.Theta','T8.Alpha',\n",
    "                               'FC6.Theta', 'FC6.Alpha', 'F4.Theta', 'F4.Alpha', \n",
    "                               'F8.Theta', 'F8.Alpha', 'AF4.Theta', 'AF4.Alpha','vis_name']\n",
    "    col2 = ['AF3', 'F7','F3', 'FC5', 'T7', 'P7', 'O1', 'O2',\n",
    "            'P8', 'T8', 'FC6', 'F4', 'F8', 'AF4','vis_name']\n",
    "    data_extraction = df[col]\n",
    "    data_extraction.columns = col_rename\n",
    "    \n",
    "    for i in range(0,len(col2)-1):\n",
    "        data_extraction[col2[i]]=data_extraction[col_rename[2*i]]/data_extraction[col_rename[2*i+1]]\n",
    "    result = data_extraction[col2]\n",
    "    return result\n",
    "\n",
    "def split_theta_alpha_data(df, label, end):\n",
    "    data_extraction = cal_theta_alpha(df)\n",
    "    rest = data_extraction[data_extraction.vis_name == 0].dropna(axis=0)\n",
    "    survey = data_extraction[data_extraction.vis_name == 100].dropna(axis=0)\n",
    "    \n",
    "    vis = data_extraction[data_extraction.vis_name == 1].reset_index(drop=True).dropna(axis=0)\n",
    "    vis['label'] = label[0]\n",
    "    vis.drop(['vis_name'], axis=1, inplace=True)\n",
    "    \n",
    "    for i in range(2,end):\n",
    "        df = data_extraction[data_extraction.vis_name == i].reset_index(drop=True)\n",
    "        df['label'] = label[i-1]\n",
    "        df.drop(['vis_name'], axis=1, inplace=True)\n",
    "        df = df.dropna(axis=0)\n",
    "        vis = pd.concat([vis,df], ignore_index=True, axis=0)\n",
    "    return rest, survey, vis"
   ]
  },
  {
   "cell_type": "code",
   "execution_count": 5,
   "id": "e83195eb",
   "metadata": {},
   "outputs": [],
   "source": [
    "src = 'C:/EEG data/User/'\n",
    "files = os.listdir(src)\n",
    "tlx=[]\n",
    "for f in files:\n",
    "    tlx.append(pd.read_csv(src+f))\n",
    "src = 'C:/EEG data/prepross/'\n",
    "datas = os.listdir(src)\n",
    "workloadLevel = []\n",
    "for t in tlx:\n",
    "    workloadLevel.append(calculate_tlxLevel(t, calculateWeight(t)))\n",
    "eegData=[]\n",
    "for d in datas:\n",
    "    eegData.append(pd.read_csv(src+d))"
   ]
  },
  {
   "cell_type": "code",
   "execution_count": 6,
   "id": "ae4f62b8",
   "metadata": {},
   "outputs": [],
   "source": [
    "cnt = 0\n",
    "for eeg, label in zip (eegData, workloadLevel):\n",
    "    if cnt == 0 :\n",
    "        rest, survey, vis = split_theta_alpha_data(eeg, label,21)\n",
    "        cnt+=1\n",
    "        continue\n",
    "    elif cnt == 6:\n",
    "        r, s, v = split_theta_alpha_data(eeg, label,21)\n",
    "    else:\n",
    "        r, s, v = split_theta_alpha_data(eeg, label, 22)\n",
    "    \n",
    "    rest = pd.concat([rest,r], ignore_index=True, axis=0)\n",
    "    survey = pd.concat([survey,s], ignore_index=True, axis=0)\n",
    "    vis = pd.concat([vis,v], ignore_index=True, axis=0)\n",
    "    cnt+=1"
   ]
  },
  {
   "cell_type": "code",
   "execution_count": 9,
   "id": "baaa88c0",
   "metadata": {},
   "outputs": [
    {
     "name": "stdout",
     "output_type": "stream",
     "text": [
      "(108212, 14) (108212, 11)\n"
     ]
    }
   ],
   "source": [
    "from tensorflow.keras.utils import to_categorical\n",
    "from sklearn.preprocessing import MinMaxScaler\n",
    "\n",
    "label=vis['label']\n",
    "label = to_categorical(label,11)\n",
    "data=vis.drop(['label'],axis=1)\n",
    "scaler = MinMaxScaler()\n",
    "scaled = scaler.fit_transform(data)\n",
    "data = pd.DataFrame(scaled, columns = data.columns, index=data.index)\n",
    "data\n",
    "print(data.shape, label.shape)"
   ]
  },
  {
   "cell_type": "code",
   "execution_count": 23,
   "id": "38cb9187",
   "metadata": {},
   "outputs": [
    {
     "name": "stdout",
     "output_type": "stream",
     "text": [
      "(64927, 14) (21642, 14) (21643, 14) (64927, 11) (21642, 11) (21643, 11)\n"
     ]
    }
   ],
   "source": [
    "from sklearn.model_selection import train_test_split\n",
    "\n",
    "x_train, x_test, y_train, y_test = train_test_split(data,label, train_size=0.6, \n",
    "                                                    random_state=True,\n",
    "                                                    stratify = label)\n",
    "x_valid, x_test, y_valid, y_test = train_test_split(x_test, y_test, train_size=0.5, \n",
    "                                                    random_state=True,\n",
    "                                                    stratify = y_test)\n",
    "\n",
    "print(x_train.shape, x_valid.shape, x_test.shape, y_train.shape, y_valid.shape, y_test.shape)"
   ]
  },
  {
   "cell_type": "markdown",
   "id": "4cf544e8",
   "metadata": {},
   "source": [
    "# Model Tuning"
   ]
  },
  {
   "cell_type": "code",
   "execution_count": 11,
   "id": "41550dce",
   "metadata": {},
   "outputs": [],
   "source": [
    "import matplotlib.pyplot as plt\n",
    "\n",
    "def drawResult(history):\n",
    "    fig, loss_ax = plt.subplots()\n",
    "    acc_ax = loss_ax.twinx()\n",
    "\n",
    "    loss_ax.plot(history.history['loss'], 'y', label='train loss')\n",
    "    loss_ax.plot(history.history['val_loss'], 'r', label='val loss')\n",
    "    loss_ax.set_xlabel('epoch')\n",
    "    loss_ax.set_ylabel('loss')\n",
    "    loss_ax.legend(loc='upper left')\n",
    "\n",
    "    acc_ax.plot(history.history['accuracy'], 'b', label='train acc')\n",
    "    acc_ax.plot(history.history['val_accuracy'], 'g', label='val acc')\n",
    "    acc_ax.set_ylabel('accuracy')\n",
    "    acc_ax.legend(loc='upper left')\n",
    "\n",
    "    plt.show()"
   ]
  },
  {
   "cell_type": "code",
   "execution_count": 12,
   "id": "e710343b",
   "metadata": {},
   "outputs": [],
   "source": [
    "from sklearn.metrics import f1_score\n",
    "\n",
    "def runModel(name, model, crossentropy, x_train, y_train, x_valid, y_valid):\n",
    "    early_stop = EarlyStopping(monitor='val_loss', patience=10)\n",
    "    model.compile(optimizer='adam', loss= crossentropy, metrics='accuracy')\n",
    "\n",
    "    history = model.fit(x_train, y_train, \n",
    "                        epochs = 300, \n",
    "                        validation_data = (x_valid, y_valid), \n",
    "                        callbacks=[early_stop], verbose=1)\n",
    "    drawResult(history)\n",
    "    \n",
    "    return model\n",
    "    \n",
    "def eval_model(model, x_test, y_test):\n",
    "    y_pred = model.predict(x_test)\n",
    "    return f1_score(y_test.argmax(axis=1), y_pred.argmax(axis=1), average='macro')"
   ]
  },
  {
   "cell_type": "code",
   "execution_count": 13,
   "id": "37c7dc24",
   "metadata": {},
   "outputs": [],
   "source": [
    "import autokeras as ak\n",
    "from tensorflow.keras.utils import plot_model\n",
    "from datetime import datetime\n",
    "\n",
    "from autokeras.keras_layers import ExpandLastDim, MultiCategoryEncoding\n",
    "from tensorflow.keras.models import Sequential\n",
    "from tensorflow.keras.layers import Conv1D, MaxPooling1D, GlobalMaxPooling1D\n",
    "from tensorflow.keras.layers import GlobalAveragePooling1D, LSTM\n",
    "from tensorflow.keras.layers import InputLayer, Dense, Flatten, Dropout\n",
    "from tensorflow.keras.callbacks import EarlyStopping\n",
    "\n",
    "from tensorflow.keras.layers.experimental.preprocessing import RandomTranslation, RandomFlip\n",
    "from tensorflow.keras.layers.experimental.preprocessing import Resizing\n",
    "from tensorflow.keras.layers import Concatenate\n",
    "from tensorflow.keras.applications import EfficientNetB7\n",
    "from sklearn.preprocessing import MinMaxScaler\n",
    "from sklearn.model_selection import train_test_split\n",
    "from tensorflow.keras.utils import to_categorical"
   ]
  },
  {
   "cell_type": "markdown",
   "id": "0ee44664",
   "metadata": {},
   "source": [
    "# DNN"
   ]
  },
  {
   "cell_type": "code",
   "execution_count": 15,
   "id": "e28c809d",
   "metadata": {
    "scrolled": true
   },
   "outputs": [
    {
     "name": "stdout",
     "output_type": "stream",
     "text": [
      "Epoch 1/300\n",
      "2029/2029 [==============================] - 6s 3ms/step - loss: 1.8025 - accuracy: 0.2807 - val_loss: 1.7563 - val_accuracy: 0.3105\n",
      "Epoch 2/300\n",
      "2029/2029 [==============================] - 6s 3ms/step - loss: 1.7364 - accuracy: 0.3023 - val_loss: 1.7116 - val_accuracy: 0.3088\n",
      "Epoch 3/300\n",
      "2029/2029 [==============================] - 6s 3ms/step - loss: 1.7071 - accuracy: 0.3072 - val_loss: 1.7092 - val_accuracy: 0.3063\n",
      "Epoch 4/300\n",
      "2029/2029 [==============================] - 6s 3ms/step - loss: 1.6930 - accuracy: 0.3102 - val_loss: 1.6910 - val_accuracy: 0.3030\n",
      "Epoch 5/300\n",
      "2029/2029 [==============================] - 6s 3ms/step - loss: 1.6793 - accuracy: 0.3149 - val_loss: 1.6782 - val_accuracy: 0.3134\n",
      "Epoch 6/300\n",
      "2029/2029 [==============================] - 6s 3ms/step - loss: 1.6697 - accuracy: 0.3203 - val_loss: 1.6678 - val_accuracy: 0.3244\n",
      "Epoch 7/300\n",
      "2029/2029 [==============================] - 6s 3ms/step - loss: 1.6596 - accuracy: 0.3270 - val_loss: 1.6577 - val_accuracy: 0.3296\n",
      "Epoch 8/300\n",
      "2029/2029 [==============================] - 5s 3ms/step - loss: 1.6525 - accuracy: 0.3276 - val_loss: 1.6574 - val_accuracy: 0.3222\n",
      "Epoch 9/300\n",
      "2029/2029 [==============================] - 5s 3ms/step - loss: 1.6451 - accuracy: 0.3305 - val_loss: 1.6724 - val_accuracy: 0.3303\n",
      "Epoch 10/300\n",
      "2029/2029 [==============================] - 6s 3ms/step - loss: 1.6393 - accuracy: 0.3341 - val_loss: 1.6459 - val_accuracy: 0.3407\n",
      "Epoch 11/300\n",
      "2029/2029 [==============================] - 6s 3ms/step - loss: 1.6332 - accuracy: 0.3357 - val_loss: 1.6525 - val_accuracy: 0.3299\n",
      "Epoch 12/300\n",
      "2029/2029 [==============================] - 6s 3ms/step - loss: 1.6284 - accuracy: 0.3375 - val_loss: 1.6264 - val_accuracy: 0.3458\n",
      "Epoch 13/300\n",
      "2029/2029 [==============================] - 5s 3ms/step - loss: 1.6248 - accuracy: 0.3414 - val_loss: 1.6147 - val_accuracy: 0.3476\n",
      "Epoch 14/300\n",
      "2029/2029 [==============================] - 5s 3ms/step - loss: 1.6209 - accuracy: 0.3423 - val_loss: 1.6089 - val_accuracy: 0.3568\n",
      "Epoch 15/300\n",
      "2029/2029 [==============================] - 5s 3ms/step - loss: 1.6143 - accuracy: 0.3446 - val_loss: 1.6117 - val_accuracy: 0.3516\n",
      "Epoch 16/300\n",
      "2029/2029 [==============================] - 5s 3ms/step - loss: 1.6120 - accuracy: 0.3455 - val_loss: 1.6192 - val_accuracy: 0.3533\n",
      "Epoch 17/300\n",
      "2029/2029 [==============================] - 6s 3ms/step - loss: 1.6069 - accuracy: 0.3468 - val_loss: 1.6364 - val_accuracy: 0.3387\n",
      "Epoch 18/300\n",
      "2029/2029 [==============================] - 5s 3ms/step - loss: 1.6041 - accuracy: 0.3501 - val_loss: 1.6069 - val_accuracy: 0.3448\n",
      "Epoch 19/300\n",
      "2029/2029 [==============================] - 5s 3ms/step - loss: 1.6010 - accuracy: 0.3508 - val_loss: 1.5984 - val_accuracy: 0.3511\n",
      "Epoch 20/300\n",
      "2029/2029 [==============================] - 5s 3ms/step - loss: 1.5960 - accuracy: 0.3541 - val_loss: 1.5885 - val_accuracy: 0.3623\n",
      "Epoch 21/300\n",
      "2029/2029 [==============================] - 5s 3ms/step - loss: 1.5925 - accuracy: 0.3557 - val_loss: 1.6041 - val_accuracy: 0.3512\n",
      "Epoch 22/300\n",
      "2029/2029 [==============================] - 6s 3ms/step - loss: 1.5894 - accuracy: 0.3573 - val_loss: 1.5969 - val_accuracy: 0.3599\n",
      "Epoch 23/300\n",
      "2029/2029 [==============================] - 5s 3ms/step - loss: 1.5855 - accuracy: 0.3581 - val_loss: 1.5959 - val_accuracy: 0.3576\n",
      "Epoch 24/300\n",
      "2029/2029 [==============================] - 5s 3ms/step - loss: 1.5822 - accuracy: 0.3572 - val_loss: 1.5839 - val_accuracy: 0.3708\n",
      "Epoch 25/300\n",
      "2029/2029 [==============================] - 5s 3ms/step - loss: 1.5781 - accuracy: 0.3618 - val_loss: 1.5989 - val_accuracy: 0.3550\n",
      "Epoch 26/300\n",
      "2029/2029 [==============================] - 6s 3ms/step - loss: 1.5759 - accuracy: 0.3617 - val_loss: 1.5818 - val_accuracy: 0.3645\n",
      "Epoch 27/300\n",
      "2029/2029 [==============================] - 6s 3ms/step - loss: 1.5711 - accuracy: 0.3659 - val_loss: 1.5831 - val_accuracy: 0.3615\n",
      "Epoch 28/300\n",
      "2029/2029 [==============================] - 6s 3ms/step - loss: 1.5689 - accuracy: 0.3646 - val_loss: 1.5758 - val_accuracy: 0.3696\n",
      "Epoch 29/300\n",
      "2029/2029 [==============================] - 5s 3ms/step - loss: 1.5646 - accuracy: 0.3678 - val_loss: 1.5775 - val_accuracy: 0.3667\n",
      "Epoch 30/300\n",
      "2029/2029 [==============================] - 5s 3ms/step - loss: 1.5611 - accuracy: 0.3688 - val_loss: 1.5707 - val_accuracy: 0.3700\n",
      "Epoch 31/300\n",
      "2029/2029 [==============================] - 5s 3ms/step - loss: 1.5578 - accuracy: 0.3707 - val_loss: 1.5735 - val_accuracy: 0.3644\n",
      "Epoch 32/300\n",
      "2029/2029 [==============================] - 5s 3ms/step - loss: 1.5535 - accuracy: 0.3748 - val_loss: 1.5805 - val_accuracy: 0.3595\n",
      "Epoch 33/300\n",
      "2029/2029 [==============================] - 6s 3ms/step - loss: 1.5496 - accuracy: 0.3737 - val_loss: 1.5618 - val_accuracy: 0.3686\n",
      "Epoch 34/300\n",
      "2029/2029 [==============================] - 6s 3ms/step - loss: 1.5451 - accuracy: 0.3752 - val_loss: 1.5688 - val_accuracy: 0.3613\n",
      "Epoch 35/300\n",
      "2029/2029 [==============================] - 5s 3ms/step - loss: 1.5432 - accuracy: 0.3759 - val_loss: 1.5563 - val_accuracy: 0.3780\n",
      "Epoch 36/300\n",
      "2029/2029 [==============================] - 5s 3ms/step - loss: 1.5400 - accuracy: 0.3785 - val_loss: 1.5491 - val_accuracy: 0.3806\n",
      "Epoch 37/300\n",
      "2029/2029 [==============================] - 5s 3ms/step - loss: 1.5364 - accuracy: 0.3792 - val_loss: 1.5496 - val_accuracy: 0.3795\n",
      "Epoch 38/300\n",
      "2029/2029 [==============================] - 6s 3ms/step - loss: 1.5318 - accuracy: 0.3805 - val_loss: 1.5583 - val_accuracy: 0.3726\n",
      "Epoch 39/300\n",
      "2029/2029 [==============================] - 5s 3ms/step - loss: 1.5303 - accuracy: 0.3838 - val_loss: 1.5562 - val_accuracy: 0.3799\n",
      "Epoch 40/300\n",
      "2029/2029 [==============================] - 5s 3ms/step - loss: 1.5267 - accuracy: 0.3826 - val_loss: 1.5706 - val_accuracy: 0.3678\n",
      "Epoch 41/300\n",
      "2029/2029 [==============================] - 5s 3ms/step - loss: 1.5231 - accuracy: 0.3874 - val_loss: 1.5449 - val_accuracy: 0.3839\n",
      "Epoch 42/300\n",
      "2029/2029 [==============================] - 5s 3ms/step - loss: 1.5187 - accuracy: 0.3871 - val_loss: 1.5384 - val_accuracy: 0.3830\n",
      "Epoch 43/300\n",
      "2029/2029 [==============================] - 5s 3ms/step - loss: 1.5161 - accuracy: 0.3888 - val_loss: 1.5409 - val_accuracy: 0.3835\n",
      "Epoch 44/300\n",
      "2029/2029 [==============================] - 5s 3ms/step - loss: 1.5132 - accuracy: 0.3892 - val_loss: 1.5512 - val_accuracy: 0.3780\n",
      "Epoch 45/300\n",
      "2029/2029 [==============================] - 6s 3ms/step - loss: 1.5095 - accuracy: 0.3903 - val_loss: 1.5469 - val_accuracy: 0.3800\n",
      "Epoch 46/300\n",
      "2029/2029 [==============================] - 6s 3ms/step - loss: 1.5050 - accuracy: 0.3927 - val_loss: 1.5359 - val_accuracy: 0.3867\n",
      "Epoch 47/300\n",
      "2029/2029 [==============================] - 5s 3ms/step - loss: 1.5002 - accuracy: 0.3959 - val_loss: 1.5368 - val_accuracy: 0.3859\n",
      "Epoch 48/300\n",
      "2029/2029 [==============================] - 5s 3ms/step - loss: 1.4973 - accuracy: 0.3965 - val_loss: 1.5256 - val_accuracy: 0.3892\n",
      "Epoch 49/300\n",
      "2029/2029 [==============================] - 6s 3ms/step - loss: 1.4958 - accuracy: 0.3994 - val_loss: 1.5439 - val_accuracy: 0.3812\n",
      "Epoch 50/300\n",
      "2029/2029 [==============================] - 5s 3ms/step - loss: 1.4910 - accuracy: 0.4005 - val_loss: 1.5246 - val_accuracy: 0.3902\n",
      "Epoch 51/300\n",
      "2029/2029 [==============================] - 6s 3ms/step - loss: 1.4886 - accuracy: 0.4024 - val_loss: 1.5215 - val_accuracy: 0.3950\n",
      "Epoch 52/300\n",
      "2029/2029 [==============================] - 6s 3ms/step - loss: 1.4848 - accuracy: 0.4019 - val_loss: 1.5261 - val_accuracy: 0.3879\n",
      "Epoch 53/300\n",
      "2029/2029 [==============================] - 6s 3ms/step - loss: 1.4811 - accuracy: 0.4030 - val_loss: 1.5330 - val_accuracy: 0.3840\n",
      "Epoch 54/300\n",
      "2029/2029 [==============================] - 5s 3ms/step - loss: 1.4804 - accuracy: 0.4040 - val_loss: 1.5208 - val_accuracy: 0.3903\n",
      "Epoch 55/300\n",
      "2029/2029 [==============================] - 6s 3ms/step - loss: 1.4749 - accuracy: 0.4048 - val_loss: 1.5255 - val_accuracy: 0.3864\n",
      "Epoch 56/300\n",
      "2029/2029 [==============================] - 6s 3ms/step - loss: 1.4712 - accuracy: 0.4067 - val_loss: 1.5205 - val_accuracy: 0.3969\n",
      "Epoch 57/300\n"
     ]
    },
    {
     "name": "stdout",
     "output_type": "stream",
     "text": [
      "2029/2029 [==============================] - 6s 3ms/step - loss: 1.4688 - accuracy: 0.4085 - val_loss: 1.5160 - val_accuracy: 0.3894\n",
      "Epoch 58/300\n",
      "2029/2029 [==============================] - 6s 3ms/step - loss: 1.4652 - accuracy: 0.4098 - val_loss: 1.5162 - val_accuracy: 0.3933\n",
      "Epoch 59/300\n",
      "2029/2029 [==============================] - 6s 3ms/step - loss: 1.4621 - accuracy: 0.4110 - val_loss: 1.5115 - val_accuracy: 0.3977\n",
      "Epoch 60/300\n",
      "2029/2029 [==============================] - 6s 3ms/step - loss: 1.4630 - accuracy: 0.4113 - val_loss: 1.5019 - val_accuracy: 0.3965\n",
      "Epoch 61/300\n",
      "2029/2029 [==============================] - 5s 3ms/step - loss: 1.4559 - accuracy: 0.4137 - val_loss: 1.5125 - val_accuracy: 0.4001\n",
      "Epoch 62/300\n",
      "2029/2029 [==============================] - 5s 3ms/step - loss: 1.4531 - accuracy: 0.4150 - val_loss: 1.5021 - val_accuracy: 0.4000\n",
      "Epoch 63/300\n",
      "2029/2029 [==============================] - 5s 3ms/step - loss: 1.4492 - accuracy: 0.4177 - val_loss: 1.4999 - val_accuracy: 0.3992\n",
      "Epoch 64/300\n",
      "2029/2029 [==============================] - 5s 3ms/step - loss: 1.4451 - accuracy: 0.4190 - val_loss: 1.5016 - val_accuracy: 0.3994\n",
      "Epoch 65/300\n",
      "2029/2029 [==============================] - 5s 3ms/step - loss: 1.4434 - accuracy: 0.4193 - val_loss: 1.5183 - val_accuracy: 0.3950\n",
      "Epoch 66/300\n",
      "2029/2029 [==============================] - 5s 3ms/step - loss: 1.4387 - accuracy: 0.4200 - val_loss: 1.5022 - val_accuracy: 0.4005\n",
      "Epoch 67/300\n",
      "2029/2029 [==============================] - 5s 3ms/step - loss: 1.4358 - accuracy: 0.4230 - val_loss: 1.5030 - val_accuracy: 0.4019\n",
      "Epoch 68/300\n",
      "2029/2029 [==============================] - 5s 3ms/step - loss: 1.4327 - accuracy: 0.4234 - val_loss: 1.5115 - val_accuracy: 0.3895\n",
      "Epoch 69/300\n",
      "2029/2029 [==============================] - 6s 3ms/step - loss: 1.4305 - accuracy: 0.4278 - val_loss: 1.4924 - val_accuracy: 0.4032\n",
      "Epoch 70/300\n",
      "2029/2029 [==============================] - 5s 3ms/step - loss: 1.4277 - accuracy: 0.4253 - val_loss: 1.5063 - val_accuracy: 0.3944\n",
      "Epoch 71/300\n",
      "2029/2029 [==============================] - 5s 3ms/step - loss: 1.4216 - accuracy: 0.4298 - val_loss: 1.4831 - val_accuracy: 0.4117\n",
      "Epoch 72/300\n",
      "2029/2029 [==============================] - 5s 3ms/step - loss: 1.4194 - accuracy: 0.4295 - val_loss: 1.4891 - val_accuracy: 0.4042\n",
      "Epoch 73/300\n",
      "2029/2029 [==============================] - 5s 3ms/step - loss: 1.4176 - accuracy: 0.4316 - val_loss: 1.4896 - val_accuracy: 0.4058\n",
      "Epoch 74/300\n",
      "2029/2029 [==============================] - 5s 3ms/step - loss: 1.4170 - accuracy: 0.4329 - val_loss: 1.4857 - val_accuracy: 0.4075\n",
      "Epoch 75/300\n",
      "2029/2029 [==============================] - 5s 3ms/step - loss: 1.4112 - accuracy: 0.4330 - val_loss: 1.4843 - val_accuracy: 0.4079\n",
      "Epoch 76/300\n",
      "2029/2029 [==============================] - 5s 3ms/step - loss: 1.4076 - accuracy: 0.4350 - val_loss: 1.4955 - val_accuracy: 0.3992\n",
      "Epoch 77/300\n",
      "2029/2029 [==============================] - 5s 3ms/step - loss: 1.4047 - accuracy: 0.4372 - val_loss: 1.4852 - val_accuracy: 0.4087\n",
      "Epoch 78/300\n",
      "2029/2029 [==============================] - 5s 3ms/step - loss: 1.4013 - accuracy: 0.4372 - val_loss: 1.4798 - val_accuracy: 0.4124\n",
      "Epoch 79/300\n",
      "2029/2029 [==============================] - 5s 3ms/step - loss: 1.3989 - accuracy: 0.4402 - val_loss: 1.4774 - val_accuracy: 0.4154\n",
      "Epoch 80/300\n",
      "2029/2029 [==============================] - 5s 3ms/step - loss: 1.3946 - accuracy: 0.4416 - val_loss: 1.4724 - val_accuracy: 0.4103\n",
      "Epoch 81/300\n",
      "2029/2029 [==============================] - 6s 3ms/step - loss: 1.3940 - accuracy: 0.4418 - val_loss: 1.4774 - val_accuracy: 0.4189\n",
      "Epoch 82/300\n",
      "2029/2029 [==============================] - 6s 3ms/step - loss: 1.3905 - accuracy: 0.4432 - val_loss: 1.4870 - val_accuracy: 0.4103\n",
      "Epoch 83/300\n",
      "2029/2029 [==============================] - 5s 3ms/step - loss: 1.3890 - accuracy: 0.4442 - val_loss: 1.4883 - val_accuracy: 0.4102\n",
      "Epoch 84/300\n",
      "2029/2029 [==============================] - 5s 3ms/step - loss: 1.3852 - accuracy: 0.4455 - val_loss: 1.4788 - val_accuracy: 0.4105\n",
      "Epoch 85/300\n",
      "2029/2029 [==============================] - 5s 3ms/step - loss: 1.3818 - accuracy: 0.4476 - val_loss: 1.4700 - val_accuracy: 0.4129\n",
      "Epoch 86/300\n",
      "2029/2029 [==============================] - 5s 3ms/step - loss: 1.3789 - accuracy: 0.4489 - val_loss: 1.4628 - val_accuracy: 0.4188\n",
      "Epoch 87/300\n",
      "2029/2029 [==============================] - 5s 3ms/step - loss: 1.3753 - accuracy: 0.4505 - val_loss: 1.4628 - val_accuracy: 0.4196\n",
      "Epoch 88/300\n",
      "2029/2029 [==============================] - 5s 3ms/step - loss: 1.3721 - accuracy: 0.4507 - val_loss: 1.4659 - val_accuracy: 0.4215\n",
      "Epoch 89/300\n",
      "2029/2029 [==============================] - 5s 3ms/step - loss: 1.3689 - accuracy: 0.4538 - val_loss: 1.4892 - val_accuracy: 0.4103\n",
      "Epoch 90/300\n",
      "2029/2029 [==============================] - 5s 3ms/step - loss: 1.3671 - accuracy: 0.4549 - val_loss: 1.4791 - val_accuracy: 0.4174\n",
      "Epoch 91/300\n",
      "2029/2029 [==============================] - 6s 3ms/step - loss: 1.3637 - accuracy: 0.4558 - val_loss: 1.4859 - val_accuracy: 0.4113\n",
      "Epoch 92/300\n",
      "2029/2029 [==============================] - 5s 3ms/step - loss: 1.3616 - accuracy: 0.4564 - val_loss: 1.4550 - val_accuracy: 0.4251\n",
      "Epoch 93/300\n",
      "2029/2029 [==============================] - 6s 3ms/step - loss: 1.3595 - accuracy: 0.4556 - val_loss: 1.4821 - val_accuracy: 0.4118\n",
      "Epoch 94/300\n",
      "2029/2029 [==============================] - 6s 3ms/step - loss: 1.3568 - accuracy: 0.4590 - val_loss: 1.4617 - val_accuracy: 0.4240\n",
      "Epoch 95/300\n",
      "2029/2029 [==============================] - 6s 3ms/step - loss: 1.3498 - accuracy: 0.4600 - val_loss: 1.4587 - val_accuracy: 0.4227\n",
      "Epoch 96/300\n",
      "2029/2029 [==============================] - 5s 3ms/step - loss: 1.3485 - accuracy: 0.4626 - val_loss: 1.4703 - val_accuracy: 0.4217\n",
      "Epoch 97/300\n",
      "2029/2029 [==============================] - 5s 3ms/step - loss: 1.3455 - accuracy: 0.4643 - val_loss: 1.4659 - val_accuracy: 0.4179\n",
      "Epoch 98/300\n",
      "2029/2029 [==============================] - 5s 3ms/step - loss: 1.3447 - accuracy: 0.4618 - val_loss: 1.4642 - val_accuracy: 0.4223\n",
      "Epoch 99/300\n",
      "2029/2029 [==============================] - 5s 3ms/step - loss: 1.3400 - accuracy: 0.4640 - val_loss: 1.4548 - val_accuracy: 0.4260\n",
      "Epoch 100/300\n",
      "2029/2029 [==============================] - 5s 3ms/step - loss: 1.3372 - accuracy: 0.4686 - val_loss: 1.4583 - val_accuracy: 0.4171\n",
      "Epoch 101/300\n",
      "2029/2029 [==============================] - 5s 3ms/step - loss: 1.3346 - accuracy: 0.4668 - val_loss: 1.4454 - val_accuracy: 0.4313\n",
      "Epoch 102/300\n",
      "2029/2029 [==============================] - 5s 3ms/step - loss: 1.3376 - accuracy: 0.4667 - val_loss: 1.4757 - val_accuracy: 0.4209\n",
      "Epoch 103/300\n",
      "2029/2029 [==============================] - 6s 3ms/step - loss: 1.3335 - accuracy: 0.4692 - val_loss: 1.4498 - val_accuracy: 0.4315\n",
      "Epoch 104/300\n",
      "2029/2029 [==============================] - 6s 3ms/step - loss: 1.3277 - accuracy: 0.4724 - val_loss: 1.4517 - val_accuracy: 0.4243\n",
      "Epoch 105/300\n",
      "2029/2029 [==============================] - 6s 3ms/step - loss: 1.3254 - accuracy: 0.4708 - val_loss: 1.4548 - val_accuracy: 0.4274\n",
      "Epoch 106/300\n",
      "2029/2029 [==============================] - 6s 3ms/step - loss: 1.3192 - accuracy: 0.4737 - val_loss: 1.4626 - val_accuracy: 0.4268\n",
      "Epoch 107/300\n",
      "2029/2029 [==============================] - 6s 3ms/step - loss: 1.3197 - accuracy: 0.4733 - val_loss: 1.4545 - val_accuracy: 0.4217\n",
      "Epoch 108/300\n",
      "2029/2029 [==============================] - 6s 3ms/step - loss: 1.3168 - accuracy: 0.4753 - val_loss: 1.4410 - val_accuracy: 0.4323\n",
      "Epoch 109/300\n",
      "2029/2029 [==============================] - 6s 3ms/step - loss: 1.3131 - accuracy: 0.4766 - val_loss: 1.4586 - val_accuracy: 0.4306\n",
      "Epoch 110/300\n",
      "2029/2029 [==============================] - 6s 3ms/step - loss: 1.3105 - accuracy: 0.4788 - val_loss: 1.4435 - val_accuracy: 0.4294\n",
      "Epoch 111/300\n",
      "2029/2029 [==============================] - 6s 3ms/step - loss: 1.3103 - accuracy: 0.4778 - val_loss: 1.4553 - val_accuracy: 0.4196\n",
      "Epoch 112/300\n",
      "2029/2029 [==============================] - 6s 3ms/step - loss: 1.3062 - accuracy: 0.4794 - val_loss: 1.4485 - val_accuracy: 0.4239\n",
      "Epoch 113/300\n"
     ]
    },
    {
     "name": "stdout",
     "output_type": "stream",
     "text": [
      "2029/2029 [==============================] - 6s 3ms/step - loss: 1.3014 - accuracy: 0.4804 - val_loss: 1.4372 - val_accuracy: 0.4354\n",
      "Epoch 114/300\n",
      "2029/2029 [==============================] - 6s 3ms/step - loss: 1.3020 - accuracy: 0.4845 - val_loss: 1.4463 - val_accuracy: 0.4302\n",
      "Epoch 115/300\n",
      "2029/2029 [==============================] - 6s 3ms/step - loss: 1.2975 - accuracy: 0.4821 - val_loss: 1.4440 - val_accuracy: 0.4382\n",
      "Epoch 116/300\n",
      "2029/2029 [==============================] - 6s 3ms/step - loss: 1.2956 - accuracy: 0.4841 - val_loss: 1.4396 - val_accuracy: 0.4322\n",
      "Epoch 117/300\n",
      "2029/2029 [==============================] - 6s 3ms/step - loss: 1.2936 - accuracy: 0.4868 - val_loss: 1.4480 - val_accuracy: 0.4318\n",
      "Epoch 118/300\n",
      "2029/2029 [==============================] - 6s 3ms/step - loss: 1.2962 - accuracy: 0.4871 - val_loss: 1.4381 - val_accuracy: 0.4341\n",
      "Epoch 119/300\n",
      "2029/2029 [==============================] - 6s 3ms/step - loss: 1.2861 - accuracy: 0.4907 - val_loss: 1.4233 - val_accuracy: 0.4410\n",
      "Epoch 120/300\n",
      "2029/2029 [==============================] - 6s 3ms/step - loss: 1.2872 - accuracy: 0.4899 - val_loss: 1.4332 - val_accuracy: 0.4333\n",
      "Epoch 121/300\n",
      "2029/2029 [==============================] - 6s 3ms/step - loss: 1.2806 - accuracy: 0.4902 - val_loss: 1.4438 - val_accuracy: 0.4321\n",
      "Epoch 122/300\n",
      "2029/2029 [==============================] - 6s 3ms/step - loss: 1.2802 - accuracy: 0.4906 - val_loss: 1.4515 - val_accuracy: 0.4323\n",
      "Epoch 123/300\n",
      "2029/2029 [==============================] - 6s 3ms/step - loss: 1.2778 - accuracy: 0.4929 - val_loss: 1.4650 - val_accuracy: 0.4311\n",
      "Epoch 124/300\n",
      "2029/2029 [==============================] - 6s 3ms/step - loss: 1.2749 - accuracy: 0.4938 - val_loss: 1.4329 - val_accuracy: 0.4411\n",
      "Epoch 125/300\n",
      "2029/2029 [==============================] - 6s 3ms/step - loss: 1.2714 - accuracy: 0.4961 - val_loss: 1.4392 - val_accuracy: 0.4361\n",
      "Epoch 126/300\n",
      "2029/2029 [==============================] - 6s 3ms/step - loss: 1.2710 - accuracy: 0.4953 - val_loss: 1.4271 - val_accuracy: 0.4427\n",
      "Epoch 127/300\n",
      "2029/2029 [==============================] - 6s 3ms/step - loss: 1.2674 - accuracy: 0.4963 - val_loss: 1.4256 - val_accuracy: 0.4368\n",
      "Epoch 128/300\n",
      "2029/2029 [==============================] - 6s 3ms/step - loss: 1.2688 - accuracy: 0.4961 - val_loss: 1.4287 - val_accuracy: 0.4363\n",
      "Epoch 129/300\n",
      "2029/2029 [==============================] - 6s 3ms/step - loss: 1.2716 - accuracy: 0.4977 - val_loss: 1.4441 - val_accuracy: 0.4363\n"
     ]
    },
    {
     "data": {
      "image/png": "[encoded data removed]",
      "text/plain": [
       "<Figure size 432x288 with 2 Axes>"
      ]
     },
     "metadata": {
      "needs_background": "light"
     },
     "output_type": "display_data"
    },
    {
     "data": {
      "text/plain": [
       "0.3831633807657977"
      ]
     },
     "execution_count": 15,
     "metadata": {},
     "output_type": "execute_result"
    }
   ],
   "source": [
    "def Model():\n",
    "    model = Sequential()\n",
    "    model.add(InputLayer(input_shape=(14)))\n",
    "    #MultiCategoryEncoding\n",
    "    #Normailzation\n",
    "    model.add(Dense(1024, activation='relu'))\n",
    "    model.add(Dense(512, activation='relu'))\n",
    "    model.add(Dense(11, activation='softmax'))\n",
    "    \n",
    "    #model.summary()\n",
    "    return model\n",
    "\n",
    "crossentropy = 'categorical_crossentropy'\n",
    "\n",
    "f1_score_DNN = eval_model(runModel('DNN',Model(),crossentropy, x_train, y_train, x_valid, y_valid), x_test, y_test)\n",
    "f1_score_DNN"
   ]
  },
  {
   "cell_type": "code",
   "execution_count": 16,
   "id": "f0d3a965",
   "metadata": {},
   "outputs": [
    {
     "data": {
      "text/plain": [
       "0.3831633807657977"
      ]
     },
     "execution_count": 16,
     "metadata": {},
     "output_type": "execute_result"
    }
   ],
   "source": [
    "f1_score_DNN"
   ]
  },
  {
   "cell_type": "markdown",
   "id": "095b2c5c",
   "metadata": {},
   "source": [
    "# 1D CNN"
   ]
  },
  {
   "cell_type": "code",
   "execution_count": 31,
   "id": "4e3e2f73",
   "metadata": {
    "scrolled": true
   },
   "outputs": [
    {
     "name": "stdout",
     "output_type": "stream",
     "text": [
      "Epoch 1/300\n",
      "2029/2029 [==============================] - 93s 46ms/step - loss: 1.8584 - accuracy: 0.2550 - val_loss: 1.8101 - val_accuracy: 0.2753\n",
      "Epoch 2/300\n",
      "2029/2029 [==============================] - 94s 46ms/step - loss: 1.7996 - accuracy: 0.2788 - val_loss: 1.7697 - val_accuracy: 0.2998\n",
      "Epoch 3/300\n",
      "2029/2029 [==============================] - 94s 46ms/step - loss: 1.7691 - accuracy: 0.2895 - val_loss: 1.7440 - val_accuracy: 0.3032\n",
      "Epoch 4/300\n",
      "2029/2029 [==============================] - 94s 46ms/step - loss: 1.7438 - accuracy: 0.2990 - val_loss: 1.7186 - val_accuracy: 0.3063\n",
      "Epoch 5/300\n",
      "2029/2029 [==============================] - 84s 42ms/step - loss: 1.7291 - accuracy: 0.2996 - val_loss: 1.7112 - val_accuracy: 0.3043\n",
      "Epoch 6/300\n",
      "2029/2029 [==============================] - 83s 41ms/step - loss: 1.7181 - accuracy: 0.3032 - val_loss: 1.6990 - val_accuracy: 0.3067\n",
      "Epoch 7/300\n",
      "2029/2029 [==============================] - 83s 41ms/step - loss: 1.7091 - accuracy: 0.3071 - val_loss: 1.6950 - val_accuracy: 0.3191\n",
      "Epoch 8/300\n",
      "2029/2029 [==============================] - 83s 41ms/step - loss: 1.7033 - accuracy: 0.3094 - val_loss: 1.6825 - val_accuracy: 0.3145\n",
      "Epoch 9/300\n",
      "2029/2029 [==============================] - 83s 41ms/step - loss: 1.6979 - accuracy: 0.3101 - val_loss: 1.6813 - val_accuracy: 0.3116\n",
      "Epoch 10/300\n",
      "2029/2029 [==============================] - 83s 41ms/step - loss: 1.6919 - accuracy: 0.3135 - val_loss: 1.6743 - val_accuracy: 0.3216\n",
      "Epoch 11/300\n",
      "2029/2029 [==============================] - 83s 41ms/step - loss: 1.6866 - accuracy: 0.3158 - val_loss: 1.6667 - val_accuracy: 0.3198\n",
      "Epoch 12/300\n",
      "2029/2029 [==============================] - 84s 41ms/step - loss: 1.6837 - accuracy: 0.3193 - val_loss: 1.6659 - val_accuracy: 0.3239\n",
      "Epoch 13/300\n",
      "2029/2029 [==============================] - 85s 42ms/step - loss: 1.6790 - accuracy: 0.3201 - val_loss: 1.6597 - val_accuracy: 0.3276\n",
      "Epoch 14/300\n",
      "2029/2029 [==============================] - 85s 42ms/step - loss: 1.6775 - accuracy: 0.3199 - val_loss: 1.6619 - val_accuracy: 0.3289\n",
      "Epoch 15/300\n",
      "2029/2029 [==============================] - 85s 42ms/step - loss: 1.6733 - accuracy: 0.3203 - val_loss: 1.6591 - val_accuracy: 0.3358\n",
      "Epoch 16/300\n",
      "2029/2029 [==============================] - 85s 42ms/step - loss: 1.6707 - accuracy: 0.3216 - val_loss: 1.6522 - val_accuracy: 0.3343\n",
      "Epoch 17/300\n",
      "2029/2029 [==============================] - 85s 42ms/step - loss: 1.6671 - accuracy: 0.3241 - val_loss: 1.6476 - val_accuracy: 0.3321\n",
      "Epoch 18/300\n",
      "2029/2029 [==============================] - 85s 42ms/step - loss: 1.6643 - accuracy: 0.3236 - val_loss: 1.6418 - val_accuracy: 0.3393\n",
      "Epoch 19/300\n",
      "2029/2029 [==============================] - 87s 43ms/step - loss: 1.6614 - accuracy: 0.3266 - val_loss: 1.6362 - val_accuracy: 0.3398\n",
      "Epoch 20/300\n",
      " 127/2029 [>.............................] - ETA: 1:26 - loss: 1.6622 - accuracy: 0.3150"
     ]
    },
    {
     "ename": "KeyboardInterrupt",
     "evalue": "",
     "output_type": "error",
     "traceback": [
      "\u001b[1;31m---------------------------------------------------------------------------\u001b[0m",
      "\u001b[1;31mKeyboardInterrupt\u001b[0m                         Traceback (most recent call last)",
      "\u001b[1;32m~\\AppData\\Local\\Temp/ipykernel_15872/3212028931.py\u001b[0m in \u001b[0;36m<module>\u001b[1;34m\u001b[0m\n\u001b[0;32m     14\u001b[0m \u001b[0mcrossentropy\u001b[0m \u001b[1;33m=\u001b[0m \u001b[1;34m'categorical_crossentropy'\u001b[0m\u001b[1;33m\u001b[0m\u001b[1;33m\u001b[0m\u001b[0m\n\u001b[0;32m     15\u001b[0m \u001b[1;33m\u001b[0m\u001b[0m\n\u001b[1;32m---> 16\u001b[1;33m \u001b[0mf1_score_CNN_1\u001b[0m \u001b[1;33m=\u001b[0m \u001b[0meval_model\u001b[0m\u001b[1;33m(\u001b[0m\u001b[0mrunModel\u001b[0m\u001b[1;33m(\u001b[0m\u001b[1;34m'CNN'\u001b[0m\u001b[1;33m,\u001b[0m\u001b[0mModel\u001b[0m\u001b[1;33m(\u001b[0m\u001b[1;33m)\u001b[0m\u001b[1;33m,\u001b[0m\u001b[0mcrossentropy\u001b[0m\u001b[1;33m,\u001b[0m \u001b[0mx_train\u001b[0m\u001b[1;33m,\u001b[0m \u001b[0my_train\u001b[0m\u001b[1;33m,\u001b[0m \u001b[0mx_valid\u001b[0m\u001b[1;33m,\u001b[0m \u001b[0my_valid\u001b[0m\u001b[1;33m)\u001b[0m\u001b[1;33m,\u001b[0m \u001b[0mx_test\u001b[0m\u001b[1;33m,\u001b[0m \u001b[0my_test\u001b[0m\u001b[1;33m)\u001b[0m\u001b[1;33m\u001b[0m\u001b[1;33m\u001b[0m\u001b[0m\n\u001b[0m",
      "\u001b[1;32m~\\AppData\\Local\\Temp/ipykernel_15872/403191516.py\u001b[0m in \u001b[0;36mrunModel\u001b[1;34m(name, model, crossentropy, x_train, y_train, x_valid, y_valid)\u001b[0m\n\u001b[0;32m      8\u001b[0m                         \u001b[0mepochs\u001b[0m \u001b[1;33m=\u001b[0m \u001b[1;36m300\u001b[0m\u001b[1;33m,\u001b[0m\u001b[1;33m\u001b[0m\u001b[1;33m\u001b[0m\u001b[0m\n\u001b[0;32m      9\u001b[0m                         \u001b[0mvalidation_data\u001b[0m \u001b[1;33m=\u001b[0m \u001b[1;33m(\u001b[0m\u001b[0mx_valid\u001b[0m\u001b[1;33m,\u001b[0m \u001b[0my_valid\u001b[0m\u001b[1;33m)\u001b[0m\u001b[1;33m,\u001b[0m\u001b[1;33m\u001b[0m\u001b[1;33m\u001b[0m\u001b[0m\n\u001b[1;32m---> 10\u001b[1;33m                         callbacks=[early_stop], verbose=1)\n\u001b[0m\u001b[0;32m     11\u001b[0m     \u001b[0mdrawResult\u001b[0m\u001b[1;33m(\u001b[0m\u001b[0mhistory\u001b[0m\u001b[1;33m)\u001b[0m\u001b[1;33m\u001b[0m\u001b[1;33m\u001b[0m\u001b[0m\n\u001b[0;32m     12\u001b[0m \u001b[1;33m\u001b[0m\u001b[0m\n",
      "\u001b[1;32m~\\anaconda3\\envs\\py37\\lib\\site-packages\\tensorflow\\python\\keras\\engine\\training.py\u001b[0m in \u001b[0;36mfit\u001b[1;34m(self, x, y, batch_size, epochs, verbose, callbacks, validation_split, validation_data, shuffle, class_weight, sample_weight, initial_epoch, steps_per_epoch, validation_steps, validation_batch_size, validation_freq, max_queue_size, workers, use_multiprocessing)\u001b[0m\n\u001b[0;32m   1181\u001b[0m                 _r=1):\n\u001b[0;32m   1182\u001b[0m               \u001b[0mcallbacks\u001b[0m\u001b[1;33m.\u001b[0m\u001b[0mon_train_batch_begin\u001b[0m\u001b[1;33m(\u001b[0m\u001b[0mstep\u001b[0m\u001b[1;33m)\u001b[0m\u001b[1;33m\u001b[0m\u001b[1;33m\u001b[0m\u001b[0m\n\u001b[1;32m-> 1183\u001b[1;33m               \u001b[0mtmp_logs\u001b[0m \u001b[1;33m=\u001b[0m \u001b[0mself\u001b[0m\u001b[1;33m.\u001b[0m\u001b[0mtrain_function\u001b[0m\u001b[1;33m(\u001b[0m\u001b[0miterator\u001b[0m\u001b[1;33m)\u001b[0m\u001b[1;33m\u001b[0m\u001b[1;33m\u001b[0m\u001b[0m\n\u001b[0m\u001b[0;32m   1184\u001b[0m               \u001b[1;32mif\u001b[0m \u001b[0mdata_handler\u001b[0m\u001b[1;33m.\u001b[0m\u001b[0mshould_sync\u001b[0m\u001b[1;33m:\u001b[0m\u001b[1;33m\u001b[0m\u001b[1;33m\u001b[0m\u001b[0m\n\u001b[0;32m   1185\u001b[0m                 \u001b[0mcontext\u001b[0m\u001b[1;33m.\u001b[0m\u001b[0masync_wait\u001b[0m\u001b[1;33m(\u001b[0m\u001b[1;33m)\u001b[0m\u001b[1;33m\u001b[0m\u001b[1;33m\u001b[0m\u001b[0m\n",
      "\u001b[1;32m~\\anaconda3\\envs\\py37\\lib\\site-packages\\tensorflow\\python\\eager\\def_function.py\u001b[0m in \u001b[0;36m__call__\u001b[1;34m(self, *args, **kwds)\u001b[0m\n\u001b[0;32m    887\u001b[0m \u001b[1;33m\u001b[0m\u001b[0m\n\u001b[0;32m    888\u001b[0m       \u001b[1;32mwith\u001b[0m \u001b[0mOptionalXlaContext\u001b[0m\u001b[1;33m(\u001b[0m\u001b[0mself\u001b[0m\u001b[1;33m.\u001b[0m\u001b[0m_jit_compile\u001b[0m\u001b[1;33m)\u001b[0m\u001b[1;33m:\u001b[0m\u001b[1;33m\u001b[0m\u001b[1;33m\u001b[0m\u001b[0m\n\u001b[1;32m--> 889\u001b[1;33m         \u001b[0mresult\u001b[0m \u001b[1;33m=\u001b[0m \u001b[0mself\u001b[0m\u001b[1;33m.\u001b[0m\u001b[0m_call\u001b[0m\u001b[1;33m(\u001b[0m\u001b[1;33m*\u001b[0m\u001b[0margs\u001b[0m\u001b[1;33m,\u001b[0m \u001b[1;33m**\u001b[0m\u001b[0mkwds\u001b[0m\u001b[1;33m)\u001b[0m\u001b[1;33m\u001b[0m\u001b[1;33m\u001b[0m\u001b[0m\n\u001b[0m\u001b[0;32m    890\u001b[0m \u001b[1;33m\u001b[0m\u001b[0m\n\u001b[0;32m    891\u001b[0m       \u001b[0mnew_tracing_count\u001b[0m \u001b[1;33m=\u001b[0m \u001b[0mself\u001b[0m\u001b[1;33m.\u001b[0m\u001b[0mexperimental_get_tracing_count\u001b[0m\u001b[1;33m(\u001b[0m\u001b[1;33m)\u001b[0m\u001b[1;33m\u001b[0m\u001b[1;33m\u001b[0m\u001b[0m\n",
      "\u001b[1;32m~\\anaconda3\\envs\\py37\\lib\\site-packages\\tensorflow\\python\\eager\\def_function.py\u001b[0m in \u001b[0;36m_call\u001b[1;34m(self, *args, **kwds)\u001b[0m\n\u001b[0;32m    915\u001b[0m       \u001b[1;31m# In this case we have created variables on the first call, so we run the\u001b[0m\u001b[1;33m\u001b[0m\u001b[1;33m\u001b[0m\u001b[1;33m\u001b[0m\u001b[0m\n\u001b[0;32m    916\u001b[0m       \u001b[1;31m# defunned version which is guaranteed to never create variables.\u001b[0m\u001b[1;33m\u001b[0m\u001b[1;33m\u001b[0m\u001b[1;33m\u001b[0m\u001b[0m\n\u001b[1;32m--> 917\u001b[1;33m       \u001b[1;32mreturn\u001b[0m \u001b[0mself\u001b[0m\u001b[1;33m.\u001b[0m\u001b[0m_stateless_fn\u001b[0m\u001b[1;33m(\u001b[0m\u001b[1;33m*\u001b[0m\u001b[0margs\u001b[0m\u001b[1;33m,\u001b[0m \u001b[1;33m**\u001b[0m\u001b[0mkwds\u001b[0m\u001b[1;33m)\u001b[0m  \u001b[1;31m# pylint: disable=not-callable\u001b[0m\u001b[1;33m\u001b[0m\u001b[1;33m\u001b[0m\u001b[0m\n\u001b[0m\u001b[0;32m    918\u001b[0m     \u001b[1;32melif\u001b[0m \u001b[0mself\u001b[0m\u001b[1;33m.\u001b[0m\u001b[0m_stateful_fn\u001b[0m \u001b[1;32mis\u001b[0m \u001b[1;32mnot\u001b[0m \u001b[1;32mNone\u001b[0m\u001b[1;33m:\u001b[0m\u001b[1;33m\u001b[0m\u001b[1;33m\u001b[0m\u001b[0m\n\u001b[0;32m    919\u001b[0m       \u001b[1;31m# Release the lock early so that multiple threads can perform the call\u001b[0m\u001b[1;33m\u001b[0m\u001b[1;33m\u001b[0m\u001b[1;33m\u001b[0m\u001b[0m\n",
      "\u001b[1;32m~\\anaconda3\\envs\\py37\\lib\\site-packages\\tensorflow\\python\\eager\\function.py\u001b[0m in \u001b[0;36m__call__\u001b[1;34m(self, *args, **kwargs)\u001b[0m\n\u001b[0;32m   3022\u001b[0m        filtered_flat_args) = self._maybe_define_function(args, kwargs)\n\u001b[0;32m   3023\u001b[0m     return graph_function._call_flat(\n\u001b[1;32m-> 3024\u001b[1;33m         filtered_flat_args, captured_inputs=graph_function.captured_inputs)  # pylint: disable=protected-access\n\u001b[0m\u001b[0;32m   3025\u001b[0m \u001b[1;33m\u001b[0m\u001b[0m\n\u001b[0;32m   3026\u001b[0m   \u001b[1;33m@\u001b[0m\u001b[0mproperty\u001b[0m\u001b[1;33m\u001b[0m\u001b[1;33m\u001b[0m\u001b[0m\n",
      "\u001b[1;32m~\\anaconda3\\envs\\py37\\lib\\site-packages\\tensorflow\\python\\eager\\function.py\u001b[0m in \u001b[0;36m_call_flat\u001b[1;34m(self, args, captured_inputs, cancellation_manager)\u001b[0m\n\u001b[0;32m   1959\u001b[0m       \u001b[1;31m# No tape is watching; skip to running the function.\u001b[0m\u001b[1;33m\u001b[0m\u001b[1;33m\u001b[0m\u001b[1;33m\u001b[0m\u001b[0m\n\u001b[0;32m   1960\u001b[0m       return self._build_call_outputs(self._inference_function.call(\n\u001b[1;32m-> 1961\u001b[1;33m           ctx, args, cancellation_manager=cancellation_manager))\n\u001b[0m\u001b[0;32m   1962\u001b[0m     forward_backward = self._select_forward_and_backward_functions(\n\u001b[0;32m   1963\u001b[0m         \u001b[0margs\u001b[0m\u001b[1;33m,\u001b[0m\u001b[1;33m\u001b[0m\u001b[1;33m\u001b[0m\u001b[0m\n",
      "\u001b[1;32m~\\anaconda3\\envs\\py37\\lib\\site-packages\\tensorflow\\python\\eager\\function.py\u001b[0m in \u001b[0;36mcall\u001b[1;34m(self, ctx, args, cancellation_manager)\u001b[0m\n\u001b[0;32m    594\u001b[0m               \u001b[0minputs\u001b[0m\u001b[1;33m=\u001b[0m\u001b[0margs\u001b[0m\u001b[1;33m,\u001b[0m\u001b[1;33m\u001b[0m\u001b[1;33m\u001b[0m\u001b[0m\n\u001b[0;32m    595\u001b[0m               \u001b[0mattrs\u001b[0m\u001b[1;33m=\u001b[0m\u001b[0mattrs\u001b[0m\u001b[1;33m,\u001b[0m\u001b[1;33m\u001b[0m\u001b[1;33m\u001b[0m\u001b[0m\n\u001b[1;32m--> 596\u001b[1;33m               ctx=ctx)\n\u001b[0m\u001b[0;32m    597\u001b[0m         \u001b[1;32melse\u001b[0m\u001b[1;33m:\u001b[0m\u001b[1;33m\u001b[0m\u001b[1;33m\u001b[0m\u001b[0m\n\u001b[0;32m    598\u001b[0m           outputs = execute.execute_with_cancellation(\n",
      "\u001b[1;32m~\\anaconda3\\envs\\py37\\lib\\site-packages\\tensorflow\\python\\eager\\execute.py\u001b[0m in \u001b[0;36mquick_execute\u001b[1;34m(op_name, num_outputs, inputs, attrs, ctx, name)\u001b[0m\n\u001b[0;32m     58\u001b[0m     \u001b[0mctx\u001b[0m\u001b[1;33m.\u001b[0m\u001b[0mensure_initialized\u001b[0m\u001b[1;33m(\u001b[0m\u001b[1;33m)\u001b[0m\u001b[1;33m\u001b[0m\u001b[1;33m\u001b[0m\u001b[0m\n\u001b[0;32m     59\u001b[0m     tensors = pywrap_tfe.TFE_Py_Execute(ctx._handle, device_name, op_name,\n\u001b[1;32m---> 60\u001b[1;33m                                         inputs, attrs, num_outputs)\n\u001b[0m\u001b[0;32m     61\u001b[0m   \u001b[1;32mexcept\u001b[0m \u001b[0mcore\u001b[0m\u001b[1;33m.\u001b[0m\u001b[0m_NotOkStatusException\u001b[0m \u001b[1;32mas\u001b[0m \u001b[0me\u001b[0m\u001b[1;33m:\u001b[0m\u001b[1;33m\u001b[0m\u001b[1;33m\u001b[0m\u001b[0m\n\u001b[0;32m     62\u001b[0m     \u001b[1;32mif\u001b[0m \u001b[0mname\u001b[0m \u001b[1;32mis\u001b[0m \u001b[1;32mnot\u001b[0m \u001b[1;32mNone\u001b[0m\u001b[1;33m:\u001b[0m\u001b[1;33m\u001b[0m\u001b[1;33m\u001b[0m\u001b[0m\n",
      "\u001b[1;31mKeyboardInterrupt\u001b[0m: "
     ]
    }
   ],
   "source": [
    "def Model():\n",
    "    model = Sequential()\n",
    "    model.add(InputLayer(input_shape=(14)))\n",
    "    model.add(ExpandLastDim())\n",
    "    model.add(Conv1D(1024, 3, padding='valid', activation='relu'))\n",
    "    model.add(Dropout(0.3))\n",
    "    model.add(Conv1D(512, 3, padding='valid', activation='relu'))\n",
    "    model.add(GlobalMaxPooling1D())\n",
    "    model.add(Dense(128, activation='relu'))\n",
    "    model.add(Dropout(0.3))\n",
    "    model.add(Dense(11, activation='sigmoid'))\n",
    "    return model\n",
    "\n",
    "crossentropy = 'categorical_crossentropy'\n",
    "\n",
    "f1_score_CNN_1 = eval_model(runModel('CNN',Model(),crossentropy, x_train, y_train, x_valid, y_valid), x_test, y_test)"
   ]
  },
  {
   "cell_type": "code",
   "execution_count": null,
   "id": "4ac8009d",
   "metadata": {},
   "outputs": [],
   "source": [
    "f1_score_CNN_1"
   ]
  },
  {
   "cell_type": "code",
   "execution_count": null,
   "id": "eeba3766",
   "metadata": {},
   "outputs": [],
   "source": [
    "def Model():\n",
    "    model = Sequential()\n",
    "    model.add(InputLayer(input_shape=(14)))\n",
    "    model.add(ExpandLastDim())\n",
    "    model.add(Conv1D(1024, 3, padding='valid', activation='relu'))\n",
    "    model.add(Dropout(0.3))\n",
    "    model.add(Conv1D(512, 3, padding='valid', activation='relu'))\n",
    "    model.add(GlobalAveragePooling1D())\n",
    "    model.add(Dense(128, activation='relu'))\n",
    "    model.add(Dropout(0.3))\n",
    "    model.add(Dense(11, activation='sigmoid'))\n",
    "    return model\n",
    "\n",
    "crossentropy = 'categorical_crossentropy'\n",
    "\n",
    "f1_score_CNN_2 = eval_model(runModel('CNN',Model(),crossentropy, x_train, y_train, x_valid, y_valid), x_test, y_test)"
   ]
  },
  {
   "cell_type": "code",
   "execution_count": null,
   "id": "e4581791",
   "metadata": {},
   "outputs": [],
   "source": [
    "f1_score_CNN_2"
   ]
  },
  {
   "cell_type": "markdown",
   "id": "9c5c73dd",
   "metadata": {},
   "source": [
    "# LSTM"
   ]
  },
  {
   "cell_type": "code",
   "execution_count": null,
   "id": "8d02bcdd",
   "metadata": {},
   "outputs": [],
   "source": [
    "def Model():\n",
    "    model = Sequential()\n",
    "    model.add(InputLayer(input_shape=(14)))\n",
    "    model.add(ExpandLastDim())\n",
    "    model.add(LSTM(512))\n",
    "    model.add(ExpandLastDim())\n",
    "    model.add(LSTM(64))\n",
    "    model.add(Dense(11, activation='sigmoid'))\n",
    "    return model\n",
    "\n",
    "crossentropy = 'categorical_crossentropy'\n",
    "\n",
    "f1_score_LSTM = eval_model(runModel('LSTM',Model(),crossentropy, x_train, y_train, x_valid, y_valid), x_test, y_test)"
   ]
  },
  {
   "cell_type": "code",
   "execution_count": null,
   "id": "5c6ced95",
   "metadata": {},
   "outputs": [],
   "source": [
    "f1_score_LSTM"
   ]
  },
  {
   "cell_type": "markdown",
   "id": "efa13cd2",
   "metadata": {},
   "source": [
    "# 1D CNN + LSTM"
   ]
  },
  {
   "cell_type": "code",
   "execution_count": null,
   "id": "8fcef64c",
   "metadata": {},
   "outputs": [],
   "source": [
    "def Model():\n",
    "    model = Sequential()\n",
    "    model.add(InputLayer(input_shape=(14)))\n",
    "    model.add(ExpandLastDim())\n",
    "    model.add(Conv1D(1024, 3, padding='valid', activation='relu'))\n",
    "    model.add(Dropout(0.3))\n",
    "    model.add(Conv1D(512, 3, padding='valid', activation='relu'))\n",
    "    model.add(GlobalMaxPooling1D())\n",
    "    model.add(ExpandLastDim())\n",
    "    model.add(LSTM(64))\n",
    "    model.add(Dropout(0.3))\n",
    "    model.add(Dense(11, activation='sigmoid'))\n",
    "    return model\n",
    "\n",
    "crossentropy = 'categorical_crossentropy'\n",
    "\n",
    "f1_score_CNN_LSTM = eval_model(runModel('CNN_LSTM',Model(),crossentropy, x_train, y_train, x_valid, y_valid), x_test, y_test)"
   ]
  },
  {
   "cell_type": "code",
   "execution_count": null,
   "id": "181ecb2e",
   "metadata": {},
   "outputs": [],
   "source": [
    "f1_score_CNN_LSTM"
   ]
  },
  {
   "cell_type": "markdown",
   "id": "9b2d19f6",
   "metadata": {},
   "source": [
    "# windowing LSTM"
   ]
  },
  {
   "cell_type": "code",
   "execution_count": null,
   "id": "8fcd3287",
   "metadata": {},
   "outputs": [],
   "source": [
    "def windowing_dataset(data, label, window_size):\n",
    "    data_list = []\n",
    "    label_list = []\n",
    "    \n",
    "    for i in range(0,len(data)//window_size):\n",
    "        data_list.append(np.array(data.iloc[i*window_size:(i+1)*window_size]))\n",
    "        label_list.append(np.array(label.iloc[i*window_size]))\n",
    "    return np.array(data_list), np.array(label_list)\n",
    "\n",
    "data_l, label_l = windowing_dataset(data,pd.DataFrame(label),14)\n",
    "x_train, x_test, y_train, y_test = train_test_split(data_l,label_l, \n",
    "                                                    train_size=0.6, \n",
    "                                                    random_state=True,\n",
    "                                                    stratify = label_l)\n",
    "x_valid, x_test, y_valid, y_test = train_test_split(x_test, y_test, \n",
    "                                                    train_size=0.5, \n",
    "                                                    random_state=True,\n",
    "                                                    stratify = y_test)\n",
    "\n",
    "print(x_train.shape, x_valid.shape, x_test.shape, y_train.shape, y_valid.shape, y_test.shape)"
   ]
  },
  {
   "cell_type": "code",
   "execution_count": null,
   "id": "1dde489c",
   "metadata": {},
   "outputs": [],
   "source": [
    "def Model():\n",
    "    model = Sequential()\n",
    "    model.add(InputLayer(input_shape=(14, 14)))\n",
    "    model.add(LSTM(512))\n",
    "    model.add(ExpandLastDim())\n",
    "    model.add(LSTM(64))\n",
    "    model.add(Dense(11, activation='sigmoid'))\n",
    "    return model\n",
    "\n",
    "crossentropy = 'categorical_crossentropy'\n",
    "\n",
    "f1_score_wLSTM = eval_model(runModel('wLSTM',Model(),crossentropy, x_train, y_train, x_valid, y_valid), x_test, y_test)"
   ]
  },
  {
   "cell_type": "code",
   "execution_count": null,
   "id": "3aafce44",
   "metadata": {},
   "outputs": [],
   "source": [
    "f1_score_wLSTM"
   ]
  },
  {
   "cell_type": "code",
   "execution_count": null,
   "id": "7945d6a1",
   "metadata": {},
   "outputs": [],
   "source": []
  }
 ],
 "metadata": {
  "kernelspec": {
   "display_name": "py37",
   "language": "python",
   "name": "py37"
  },
  "language_info": {
   "codemirror_mode": {
    "name": "ipython",
    "version": 3
   },
   "file_extension": ".py",
   "mimetype": "text/x-python",
   "name": "python",
   "nbconvert_exporter": "python",
   "pygments_lexer": "ipython3",
   "version": "3.7.10"
  }
 },
 "nbformat": 4,
 "nbformat_minor": 5
}
