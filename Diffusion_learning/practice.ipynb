{
 "cells": [
  {
   "cell_type": "code",
   "execution_count": 46,
   "metadata": {},
   "outputs": [],
   "source": [
    "import pandas as pd\n",
    "from pandas import (\n",
    "    DataFrame, HDFStore\n",
    ")\n",
    "import numpy as np\n",
    "\n",
    "import argparse"
   ]
  },
  {
   "cell_type": "code",
   "execution_count": 2,
   "metadata": {},
   "outputs": [],
   "source": [
    "df=HDFStore('tmp/pems-bay.h5')"
   ]
  },
  {
   "cell_type": "code",
   "execution_count": 2,
   "metadata": {
    "scrolled": true
   },
   "outputs": [],
   "source": [
    "df=pd.read_hdf('tmp/pems-bay.h5')"
   ]
  },
  {
   "cell_type": "code",
   "execution_count": null,
   "metadata": {},
   "outputs": [],
   "source": []
  },
  {
   "cell_type": "code",
   "execution_count": 48,
   "metadata": {},
   "outputs": [],
   "source": [
    "df=HDFStore('tmp/metr-la.h5')"
   ]
  },
  {
   "cell_type": "code",
   "execution_count": 4,
   "metadata": {},
   "outputs": [],
   "source": [
    "df=HDFStore('tmp/metr-la2.h5')"
   ]
  },
  {
   "cell_type": "code",
   "execution_count": 7,
   "metadata": {
    "scrolled": true
   },
   "outputs": [
    {
     "ename": "ValueError",
     "evalue": "No dataset in HDF5 file.",
     "output_type": "error",
     "traceback": [
      "\u001b[0;31m---------------------------------------------------------------------------\u001b[0m",
      "\u001b[0;31mValueError\u001b[0m                                Traceback (most recent call last)",
      "\u001b[0;32m<ipython-input-7-f5b39fd7950d>\u001b[0m in \u001b[0;36m<module>\u001b[0;34m\u001b[0m\n\u001b[0;32m----> 1\u001b[0;31m \u001b[0mdf\u001b[0m\u001b[0;34m=\u001b[0m\u001b[0mpd\u001b[0m\u001b[0;34m.\u001b[0m\u001b[0mread_hdf\u001b[0m\u001b[0;34m(\u001b[0m\u001b[0;34m'tmp/metr-la.h5'\u001b[0m\u001b[0;34m)\u001b[0m\u001b[0;34m\u001b[0m\u001b[0;34m\u001b[0m\u001b[0m\n\u001b[0m",
      "\u001b[0;32m~/anaconda3/lib/python3.6/site-packages/pandas/io/pytables.py\u001b[0m in \u001b[0;36mread_hdf\u001b[0;34m(path_or_buf, key, mode, **kwargs)\u001b[0m\n\u001b[1;32m    391\u001b[0m             \u001b[0mgroups\u001b[0m \u001b[0;34m=\u001b[0m \u001b[0mstore\u001b[0m\u001b[0;34m.\u001b[0m\u001b[0mgroups\u001b[0m\u001b[0;34m(\u001b[0m\u001b[0;34m)\u001b[0m\u001b[0;34m\u001b[0m\u001b[0;34m\u001b[0m\u001b[0m\n\u001b[1;32m    392\u001b[0m             \u001b[0;32mif\u001b[0m \u001b[0mlen\u001b[0m\u001b[0;34m(\u001b[0m\u001b[0mgroups\u001b[0m\u001b[0;34m)\u001b[0m \u001b[0;34m==\u001b[0m \u001b[0;36m0\u001b[0m\u001b[0;34m:\u001b[0m\u001b[0;34m\u001b[0m\u001b[0;34m\u001b[0m\u001b[0m\n\u001b[0;32m--> 393\u001b[0;31m                 \u001b[0;32mraise\u001b[0m \u001b[0mValueError\u001b[0m\u001b[0;34m(\u001b[0m\u001b[0;34m\"No dataset in HDF5 file.\"\u001b[0m\u001b[0;34m)\u001b[0m\u001b[0;34m\u001b[0m\u001b[0;34m\u001b[0m\u001b[0m\n\u001b[0m\u001b[1;32m    394\u001b[0m             \u001b[0mcandidate_only_group\u001b[0m \u001b[0;34m=\u001b[0m \u001b[0mgroups\u001b[0m\u001b[0;34m[\u001b[0m\u001b[0;36m0\u001b[0m\u001b[0;34m]\u001b[0m\u001b[0;34m\u001b[0m\u001b[0;34m\u001b[0m\u001b[0m\n\u001b[1;32m    395\u001b[0m \u001b[0;34m\u001b[0m\u001b[0m\n",
      "\u001b[0;31mValueError\u001b[0m: No dataset in HDF5 file."
     ]
    }
   ],
   "source": [
    "df=pd.read_hdf('tmp/metr-la.h5')"
   ]
  },
  {
   "cell_type": "code",
   "execution_count": 5,
   "metadata": {},
   "outputs": [
    {
     "name": "stdout",
     "output_type": "stream",
     "text": [
      "<class 'pandas.io.pytables.HDFStore'>\n",
      "File path: tmp/metr-la2.h5\n",
      "\n"
     ]
    }
   ],
   "source": [
    "print(df)"
   ]
  },
  {
   "cell_type": "code",
   "execution_count": 49,
   "metadata": {
    "scrolled": false
   },
   "outputs": [
    {
     "data": {
      "text/plain": [
       "<class 'pandas.io.pytables.HDFStore'>\n",
       "File path: tmp/metr-la.h5"
      ]
     },
     "execution_count": 49,
     "metadata": {},
     "output_type": "execute_result"
    }
   ],
   "source": [
    "df"
   ]
  },
  {
   "cell_type": "code",
   "execution_count": 6,
   "metadata": {},
   "outputs": [],
   "source": [
    "df.close()"
   ]
  },
  {
   "cell_type": "code",
   "execution_count": 12,
   "metadata": {},
   "outputs": [
    {
     "name": "stdout",
     "output_type": "stream",
     "text": [
      "x shape:  (52093, 12, 325, 2) , y shape:  (52093, 12, 325, 2)\n"
     ]
    }
   ],
   "source": [
    "df = pd.read_hdf('tmp/pems-bay.h5')\n",
    "# 0 is the latest observed sample.\n",
    "x_offsets = np.sort(\n",
    "    # np.concatenate(([-week_size + 1, -day_size + 1], np.arange(-11, 1, 1)))\n",
    "    np.concatenate((np.arange(-11, 1, 1),))\n",
    ")\n",
    "# Predict the next one hour\n",
    "y_offsets = np.sort(np.arange(1, 13, 1))\n",
    "# x: (num_samples, input_length, num_nodes, input_dim)\n",
    "# y: (num_samples, output_length, num_nodes, output_dim)\n",
    "x, y = generate_graph_seq2seq_io_data(\n",
    "    df,\n",
    "    x_offsets=x_offsets,\n",
    "    y_offsets=y_offsets,\n",
    "    add_time_in_day=True,\n",
    "    add_day_in_week=False,\n",
    ")"
   ]
  },
  {
   "cell_type": "code",
   "execution_count": 20,
   "metadata": {},
   "outputs": [],
   "source": [
    "x_offsets=x_offsets\n",
    "y_offsets=y_offsets\n",
    "add_time_in_day=True\n",
    "add_day_in_week=False\n",
    "\"\"\"\n",
    "Generate samples from\n",
    ":param df:\n",
    ":param x_offsets:\n",
    ":param y_offsets:\n",
    ":param add_time_in_day:\n",
    ":param add_day_in_week:\n",
    ":param scaler:\n",
    ":return:\n",
    "# x: (epoch_size, input_length, num_nodes, input_dim)\n",
    "# y: (epoch_size, output_length, num_nodes, output_dim)\n",
    "\"\"\"\n",
    "num_samples, num_nodes = df.shape\n",
    "data = np.expand_dims(df.values, axis=-1)\n",
    "data_list = [data]\n",
    "if add_time_in_day:\n",
    "    time_ind = (df.index.values - df.index.values.astype(\"datetime64[D]\")) / np.timedelta64(1, \"D\")\n",
    "    time_in_day = np.tile(time_ind, [1, num_nodes, 1]).transpose((2, 1, 0))\n",
    "    data_list.append(time_in_day)\n",
    "if add_day_in_week:\n",
    "    day_in_week = np.zeros(shape=(num_samples, num_nodes, 7))\n",
    "    day_in_week[np.arange(num_samples), :, df.index.dayofweek] = 1\n",
    "    data_list.append(day_in_week)"
   ]
  },
  {
   "cell_type": "code",
   "execution_count": 23,
   "metadata": {},
   "outputs": [
    {
     "data": {
      "text/plain": [
       "(52116, 325, 1)"
      ]
     },
     "execution_count": 23,
     "metadata": {},
     "output_type": "execute_result"
    }
   ],
   "source": [
    "data.shape"
   ]
  },
  {
   "cell_type": "code",
   "execution_count": 37,
   "metadata": {},
   "outputs": [
    {
     "data": {
      "text/plain": [
       "(2, 52116, 325, 1)"
      ]
     },
     "execution_count": 37,
     "metadata": {},
     "output_type": "execute_result"
    }
   ],
   "source": [
    "np.array(data_list).shape"
   ]
  },
  {
   "cell_type": "code",
   "execution_count": 39,
   "metadata": {},
   "outputs": [],
   "source": [
    "day_in_week = np.zeros(shape=(num_samples, num_nodes, 7))\n",
    "day_in_week[np.arange(num_samples), :, df.index.dayofweek] = 1"
   ]
  },
  {
   "cell_type": "code",
   "execution_count": 41,
   "metadata": {},
   "outputs": [
    {
     "data": {
      "text/plain": [
       "(52116, 325, 7)"
      ]
     },
     "execution_count": 41,
     "metadata": {},
     "output_type": "execute_result"
    }
   ],
   "source": [
    "np.array(day_in_week).shape"
   ]
  },
  {
   "cell_type": "code",
   "execution_count": 44,
   "metadata": {},
   "outputs": [
    {
     "data": {
      "text/plain": [
       "array([[0., 0., 0., 0., 0., 0., 1.],\n",
       "       [0., 0., 0., 0., 0., 0., 1.],\n",
       "       [0., 0., 0., 0., 0., 0., 1.],\n",
       "       [0., 0., 0., 0., 0., 0., 1.],\n",
       "       [0., 0., 0., 0., 0., 0., 1.]])"
      ]
     },
     "execution_count": 44,
     "metadata": {},
     "output_type": "execute_result"
    }
   ],
   "source": [
    "day_in_week[0:5,0,:]"
   ]
  },
  {
   "cell_type": "code",
   "execution_count": null,
   "metadata": {},
   "outputs": [],
   "source": []
  },
  {
   "cell_type": "code",
   "execution_count": 45,
   "metadata": {},
   "outputs": [
    {
     "data": {
      "text/plain": [
       "(52116, 325, 2)"
      ]
     },
     "execution_count": 45,
     "metadata": {},
     "output_type": "execute_result"
    }
   ],
   "source": [
    "\n",
    "data = np.concatenate(data_list, axis=-1)\n",
    "data.shape"
   ]
  },
  {
   "cell_type": "code",
   "execution_count": 18,
   "metadata": {},
   "outputs": [],
   "source": [
    "\n",
    "data = np.concatenate(data_list, axis=-1)\n",
    "# epoch_len = num_samples + min(x_offsets) - max(y_offsets)\n",
    "x, y = [], []\n",
    "# t is the index of the last observation.\n",
    "min_t = abs(min(x_offsets))\n",
    "max_t = abs(num_samples - abs(max(y_offsets)))  # Exclusive\n",
    "for t in range(min_t, max_t):\n",
    "    x_t = data[t + x_offsets, ...]\n",
    "    y_t = data[t + y_offsets, ...]\n",
    "    x.append(x_t)\n",
    "    y.append(y_t)\n",
    "x = np.stack(x, axis=0)\n",
    "y = np.stack(y, axis=0)"
   ]
  },
  {
   "cell_type": "code",
   "execution_count": 19,
   "metadata": {},
   "outputs": [
    {
     "name": "stdout",
     "output_type": "stream",
     "text": [
      "x shape:  (52093, 12, 325, 2) , y shape:  (52093, 12, 325, 2)\n"
     ]
    }
   ],
   "source": [
    "print(\"x shape: \", x.shape, \", y shape: \", y.shape)"
   ]
  },
  {
   "cell_type": "code",
   "execution_count": 16,
   "metadata": {},
   "outputs": [
    {
     "data": {
      "text/plain": [
       "325"
      ]
     },
     "execution_count": 16,
     "metadata": {},
     "output_type": "execute_result"
    }
   ],
   "source": [
    "len(df.columns)"
   ]
  },
  {
   "cell_type": "code",
   "execution_count": 17,
   "metadata": {},
   "outputs": [
    {
     "data": {
      "text/plain": [
       "414694"
      ]
     },
     "execution_count": 17,
     "metadata": {},
     "output_type": "execute_result"
    }
   ],
   "source": [
    "max(df.columns)"
   ]
  },
  {
   "cell_type": "code",
   "execution_count": null,
   "metadata": {},
   "outputs": [],
   "source": []
  },
  {
   "cell_type": "code",
   "execution_count": 53,
   "metadata": {},
   "outputs": [],
   "source": [
    "sensor_ids_filename='tmp/graph_sensor_ids.txt'\n",
    "distances_filename='tmp/distances_la_2012.csv'\n",
    "normalized_k=0.1\n",
    "output_pkl_filename='tmp/adj_mat.pkl'"
   ]
  },
  {
   "cell_type": "code",
   "execution_count": 54,
   "metadata": {},
   "outputs": [],
   "source": [
    "with open(sensor_ids_filename) as f:\n",
    "    sensor_ids = f.read().strip().split(',')\n",
    "distance_df = pd.read_csv(distances_filename, dtype={'from': 'str', 'to': 'str'})\n",
    "_, sensor_id_to_ind, adj_mx = get_adjacency_matrix(distance_df, sensor_ids)"
   ]
  },
  {
   "cell_type": "code",
   "execution_count": 57,
   "metadata": {},
   "outputs": [
    {
     "data": {
      "text/plain": [
       "207"
      ]
     },
     "execution_count": 57,
     "metadata": {},
     "output_type": "execute_result"
    }
   ],
   "source": [
    "len(sensor_ids)"
   ]
  },
  {
   "cell_type": "code",
   "execution_count": 56,
   "metadata": {},
   "outputs": [
    {
     "data": {
      "text/html": [
       "<div>\n",
       "<style scoped>\n",
       "    .dataframe tbody tr th:only-of-type {\n",
       "        vertical-align: middle;\n",
       "    }\n",
       "\n",
       "    .dataframe tbody tr th {\n",
       "        vertical-align: top;\n",
       "    }\n",
       "\n",
       "    .dataframe thead th {\n",
       "        text-align: right;\n",
       "    }\n",
       "</style>\n",
       "<table border=\"1\" class=\"dataframe\">\n",
       "  <thead>\n",
       "    <tr style=\"text-align: right;\">\n",
       "      <th></th>\n",
       "      <th>from</th>\n",
       "      <th>to</th>\n",
       "      <th>cost</th>\n",
       "    </tr>\n",
       "  </thead>\n",
       "  <tbody>\n",
       "    <tr>\n",
       "      <th>0</th>\n",
       "      <td>1201054</td>\n",
       "      <td>1201054</td>\n",
       "      <td>0.0</td>\n",
       "    </tr>\n",
       "    <tr>\n",
       "      <th>1</th>\n",
       "      <td>1201054</td>\n",
       "      <td>1201066</td>\n",
       "      <td>2610.9</td>\n",
       "    </tr>\n",
       "    <tr>\n",
       "      <th>2</th>\n",
       "      <td>1201054</td>\n",
       "      <td>1201076</td>\n",
       "      <td>2822.7</td>\n",
       "    </tr>\n",
       "    <tr>\n",
       "      <th>3</th>\n",
       "      <td>1201054</td>\n",
       "      <td>1201087</td>\n",
       "      <td>2911.5</td>\n",
       "    </tr>\n",
       "    <tr>\n",
       "      <th>4</th>\n",
       "      <td>1201054</td>\n",
       "      <td>1201100</td>\n",
       "      <td>7160.1</td>\n",
       "    </tr>\n",
       "    <tr>\n",
       "      <th>...</th>\n",
       "      <td>...</td>\n",
       "      <td>...</td>\n",
       "      <td>...</td>\n",
       "    </tr>\n",
       "    <tr>\n",
       "      <th>295369</th>\n",
       "      <td>825515</td>\n",
       "      <td>823663</td>\n",
       "      <td>9894.1</td>\n",
       "    </tr>\n",
       "    <tr>\n",
       "      <th>295370</th>\n",
       "      <td>825515</td>\n",
       "      <td>825494</td>\n",
       "      <td>475.6</td>\n",
       "    </tr>\n",
       "    <tr>\n",
       "      <th>295371</th>\n",
       "      <td>825515</td>\n",
       "      <td>825496</td>\n",
       "      <td>6458.6</td>\n",
       "    </tr>\n",
       "    <tr>\n",
       "      <th>295372</th>\n",
       "      <td>825515</td>\n",
       "      <td>825513</td>\n",
       "      <td>6934.2</td>\n",
       "    </tr>\n",
       "    <tr>\n",
       "      <th>295373</th>\n",
       "      <td>825515</td>\n",
       "      <td>825515</td>\n",
       "      <td>0.0</td>\n",
       "    </tr>\n",
       "  </tbody>\n",
       "</table>\n",
       "<p>295374 rows × 3 columns</p>\n",
       "</div>"
      ],
      "text/plain": [
       "           from       to    cost\n",
       "0       1201054  1201054     0.0\n",
       "1       1201054  1201066  2610.9\n",
       "2       1201054  1201076  2822.7\n",
       "3       1201054  1201087  2911.5\n",
       "4       1201054  1201100  7160.1\n",
       "...         ...      ...     ...\n",
       "295369   825515   823663  9894.1\n",
       "295370   825515   825494   475.6\n",
       "295371   825515   825496  6458.6\n",
       "295372   825515   825513  6934.2\n",
       "295373   825515   825515     0.0\n",
       "\n",
       "[295374 rows x 3 columns]"
      ]
     },
     "execution_count": 56,
     "metadata": {},
     "output_type": "execute_result"
    }
   ],
   "source": [
    "distance_df"
   ]
  },
  {
   "cell_type": "code",
   "execution_count": null,
   "metadata": {},
   "outputs": [],
   "source": []
  },
  {
   "cell_type": "code",
   "execution_count": 73,
   "metadata": {},
   "outputs": [],
   "source": [
    "#def get_adjacency_matrix(distance_df, sensor_ids, normalized_k=0.1):\n",
    "\"\"\"\n",
    ":param distance_df: data frame with three columns: [from, to, distance].\n",
    ":param sensor_ids: list of sensor ids.\n",
    ":param normalized_k: entries that become lower than normalized_k after normalization are set to zero for sparsity.\n",
    ":return:\n",
    "\"\"\"\n",
    "num_sensors = len(sensor_ids)\n",
    "dist_mx = np.zeros((num_sensors, num_sensors), dtype=np.float32)\n",
    "dist_mx[:] = np.inf\n",
    "# Builds sensor id to index map.\n",
    "sensor_id_to_ind = {}\n",
    "for i, sensor_id in enumerate(sensor_ids):\n",
    "    sensor_id_to_ind[sensor_id] = i\n",
    "\n",
    "# Fills cells in the matrix with distances.\n",
    "for row in distance_df.values:\n",
    "    if row[0] not in sensor_id_to_ind or row[1] not in sensor_id_to_ind:\n",
    "        continue\n",
    "    dist_mx[sensor_id_to_ind[row[0]], sensor_id_to_ind[row[1]]] = row[2]\n",
    "\n",
    "# Calculates the standard deviation as theta.\n",
    "distances = dist_mx[~np.isinf(dist_mx)].flatten()\n",
    "std = distances.std()\n",
    "adj_mx = np.exp(-np.square(dist_mx / std))\n",
    "# Make the adjacent matrix symmetric by taking the max.\n",
    "# adj_mx = np.maximum.reduce([adj_mx, adj_mx.T])\n",
    "\n",
    "# Sets entries that lower than a threshold, i.e., k, to zero for sparsity.\n",
    "adj_mx[adj_mx < normalized_k] = 0\n",
    "#return sensor_ids, sensor_id_to_ind, adj_mx"
   ]
  },
  {
   "cell_type": "code",
   "execution_count": null,
   "metadata": {},
   "outputs": [],
   "source": [
    "\n",
    "# Save to pickle file.\n",
    "with open(args.output_pkl_filename, 'wb') as f:\n",
    "    pickle.dump([sensor_ids, sensor_id_to_ind, adj_mx], f, protocol=2)"
   ]
  },
  {
   "cell_type": "code",
   "execution_count": 59,
   "metadata": {
    "scrolled": true
   },
   "outputs": [
    {
     "data": {
      "text/plain": [
       "['773869',\n",
       " '767541',\n",
       " '767542',\n",
       " '717447',\n",
       " '717446',\n",
       " '717445',\n",
       " '773062',\n",
       " '767620',\n",
       " '737529',\n",
       " '717816',\n",
       " '765604',\n",
       " '767471',\n",
       " '716339',\n",
       " '773906',\n",
       " '765273',\n",
       " '716331',\n",
       " '771667',\n",
       " '716337',\n",
       " '769953',\n",
       " '769402',\n",
       " '769403',\n",
       " '769819',\n",
       " '769405',\n",
       " '716941',\n",
       " '717578',\n",
       " '716960',\n",
       " '717804',\n",
       " '767572',\n",
       " '767573',\n",
       " '773012',\n",
       " '773013',\n",
       " '764424',\n",
       " '769388',\n",
       " '716328',\n",
       " '717819',\n",
       " '769941',\n",
       " '760987',\n",
       " '718204',\n",
       " '718045',\n",
       " '769418',\n",
       " '768066',\n",
       " '772140',\n",
       " '773927',\n",
       " '760024',\n",
       " '774012',\n",
       " '774011',\n",
       " '767609',\n",
       " '769359',\n",
       " '760650',\n",
       " '716956',\n",
       " '769831',\n",
       " '761604',\n",
       " '717495',\n",
       " '716554',\n",
       " '773953',\n",
       " '767470',\n",
       " '716955',\n",
       " '764949',\n",
       " '773954',\n",
       " '767366',\n",
       " '769444',\n",
       " '773939',\n",
       " '774067',\n",
       " '769443',\n",
       " '767750',\n",
       " '767751',\n",
       " '767610',\n",
       " '773880',\n",
       " '764766',\n",
       " '717497',\n",
       " '717490',\n",
       " '717491',\n",
       " '717492',\n",
       " '717493',\n",
       " '765176',\n",
       " '717498',\n",
       " '717499',\n",
       " '765171',\n",
       " '718064',\n",
       " '718066',\n",
       " '765164',\n",
       " '769431',\n",
       " '769430',\n",
       " '717610',\n",
       " '767053',\n",
       " '767621',\n",
       " '772596',\n",
       " '772597',\n",
       " '767350',\n",
       " '767351',\n",
       " '716571',\n",
       " '773023',\n",
       " '767585',\n",
       " '773024',\n",
       " '717483',\n",
       " '718379',\n",
       " '717481',\n",
       " '717480',\n",
       " '717486',\n",
       " '764120',\n",
       " '772151',\n",
       " '718371',\n",
       " '717489',\n",
       " '717488',\n",
       " '717818',\n",
       " '718076',\n",
       " '718072',\n",
       " '767455',\n",
       " '767454',\n",
       " '761599',\n",
       " '717099',\n",
       " '773916',\n",
       " '716968',\n",
       " '769467',\n",
       " '717576',\n",
       " '717573',\n",
       " '717572',\n",
       " '717571',\n",
       " '717570',\n",
       " '764760',\n",
       " '718089',\n",
       " '769847',\n",
       " '717608',\n",
       " '767523',\n",
       " '716942',\n",
       " '718090',\n",
       " '769867',\n",
       " '717472',\n",
       " '717473',\n",
       " '759591',\n",
       " '764781',\n",
       " '765099',\n",
       " '762329',\n",
       " '716953',\n",
       " '716951',\n",
       " '767509',\n",
       " '765182',\n",
       " '769358',\n",
       " '772513',\n",
       " '716958',\n",
       " '718496',\n",
       " '769346',\n",
       " '773904',\n",
       " '718499',\n",
       " '764853',\n",
       " '761003',\n",
       " '717502',\n",
       " '759602',\n",
       " '717504',\n",
       " '763995',\n",
       " '717508',\n",
       " '765265',\n",
       " '773996',\n",
       " '773995',\n",
       " '717469',\n",
       " '717468',\n",
       " '764106',\n",
       " '717465',\n",
       " '764794',\n",
       " '717466',\n",
       " '717461',\n",
       " '717460',\n",
       " '717463',\n",
       " '717462',\n",
       " '769345',\n",
       " '716943',\n",
       " '772669',\n",
       " '717582',\n",
       " '717583',\n",
       " '717580',\n",
       " '716949',\n",
       " '717587',\n",
       " '772178',\n",
       " '717585',\n",
       " '716939',\n",
       " '768469',\n",
       " '764101',\n",
       " '767554',\n",
       " '773975',\n",
       " '773974',\n",
       " '717510',\n",
       " '717513',\n",
       " '717825',\n",
       " '767495',\n",
       " '767494',\n",
       " '717821',\n",
       " '717823',\n",
       " '717458',\n",
       " '717459',\n",
       " '769926',\n",
       " '764858',\n",
       " '717450',\n",
       " '717452',\n",
       " '717453',\n",
       " '759772',\n",
       " '717456',\n",
       " '771673',\n",
       " '772167',\n",
       " '769372',\n",
       " '774204',\n",
       " '769806',\n",
       " '717590',\n",
       " '717592',\n",
       " '717595',\n",
       " '772168',\n",
       " '718141',\n",
       " '769373']"
      ]
     },
     "execution_count": 59,
     "metadata": {},
     "output_type": "execute_result"
    }
   ],
   "source": [
    "sensor_ids"
   ]
  },
  {
   "cell_type": "code",
   "execution_count": 60,
   "metadata": {},
   "outputs": [
    {
     "data": {
      "text/plain": [
       "{'773869': 0,\n",
       " '767541': 1,\n",
       " '767542': 2,\n",
       " '717447': 3,\n",
       " '717446': 4,\n",
       " '717445': 5,\n",
       " '773062': 6,\n",
       " '767620': 7,\n",
       " '737529': 8,\n",
       " '717816': 9,\n",
       " '765604': 10,\n",
       " '767471': 11,\n",
       " '716339': 12,\n",
       " '773906': 13,\n",
       " '765273': 14,\n",
       " '716331': 15,\n",
       " '771667': 16,\n",
       " '716337': 17,\n",
       " '769953': 18,\n",
       " '769402': 19,\n",
       " '769403': 20,\n",
       " '769819': 21,\n",
       " '769405': 22,\n",
       " '716941': 23,\n",
       " '717578': 24,\n",
       " '716960': 25,\n",
       " '717804': 26,\n",
       " '767572': 27,\n",
       " '767573': 28,\n",
       " '773012': 29,\n",
       " '773013': 30,\n",
       " '764424': 31,\n",
       " '769388': 32,\n",
       " '716328': 33,\n",
       " '717819': 34,\n",
       " '769941': 35,\n",
       " '760987': 36,\n",
       " '718204': 37,\n",
       " '718045': 38,\n",
       " '769418': 39,\n",
       " '768066': 40,\n",
       " '772140': 41,\n",
       " '773927': 42,\n",
       " '760024': 43,\n",
       " '774012': 44,\n",
       " '774011': 45,\n",
       " '767609': 46,\n",
       " '769359': 47,\n",
       " '760650': 48,\n",
       " '716956': 49,\n",
       " '769831': 50,\n",
       " '761604': 51,\n",
       " '717495': 52,\n",
       " '716554': 53,\n",
       " '773953': 54,\n",
       " '767470': 55,\n",
       " '716955': 56,\n",
       " '764949': 57,\n",
       " '773954': 58,\n",
       " '767366': 59,\n",
       " '769444': 60,\n",
       " '773939': 61,\n",
       " '774067': 62,\n",
       " '769443': 63,\n",
       " '767750': 64,\n",
       " '767751': 65,\n",
       " '767610': 66,\n",
       " '773880': 67,\n",
       " '764766': 68,\n",
       " '717497': 69,\n",
       " '717490': 70,\n",
       " '717491': 71,\n",
       " '717492': 72,\n",
       " '717493': 73,\n",
       " '765176': 74,\n",
       " '717498': 75,\n",
       " '717499': 76,\n",
       " '765171': 77,\n",
       " '718064': 78,\n",
       " '718066': 79,\n",
       " '765164': 80,\n",
       " '769431': 81,\n",
       " '769430': 82,\n",
       " '717610': 83,\n",
       " '767053': 84,\n",
       " '767621': 85,\n",
       " '772596': 86,\n",
       " '772597': 87,\n",
       " '767350': 88,\n",
       " '767351': 89,\n",
       " '716571': 90,\n",
       " '773023': 91,\n",
       " '767585': 92,\n",
       " '773024': 93,\n",
       " '717483': 94,\n",
       " '718379': 95,\n",
       " '717481': 96,\n",
       " '717480': 97,\n",
       " '717486': 98,\n",
       " '764120': 99,\n",
       " '772151': 100,\n",
       " '718371': 101,\n",
       " '717489': 102,\n",
       " '717488': 103,\n",
       " '717818': 104,\n",
       " '718076': 105,\n",
       " '718072': 106,\n",
       " '767455': 107,\n",
       " '767454': 108,\n",
       " '761599': 109,\n",
       " '717099': 110,\n",
       " '773916': 111,\n",
       " '716968': 112,\n",
       " '769467': 113,\n",
       " '717576': 114,\n",
       " '717573': 115,\n",
       " '717572': 116,\n",
       " '717571': 117,\n",
       " '717570': 118,\n",
       " '764760': 119,\n",
       " '718089': 120,\n",
       " '769847': 121,\n",
       " '717608': 122,\n",
       " '767523': 123,\n",
       " '716942': 124,\n",
       " '718090': 125,\n",
       " '769867': 126,\n",
       " '717472': 127,\n",
       " '717473': 128,\n",
       " '759591': 129,\n",
       " '764781': 130,\n",
       " '765099': 131,\n",
       " '762329': 132,\n",
       " '716953': 133,\n",
       " '716951': 134,\n",
       " '767509': 135,\n",
       " '765182': 136,\n",
       " '769358': 137,\n",
       " '772513': 138,\n",
       " '716958': 139,\n",
       " '718496': 140,\n",
       " '769346': 141,\n",
       " '773904': 142,\n",
       " '718499': 143,\n",
       " '764853': 144,\n",
       " '761003': 145,\n",
       " '717502': 146,\n",
       " '759602': 147,\n",
       " '717504': 148,\n",
       " '763995': 149,\n",
       " '717508': 150,\n",
       " '765265': 151,\n",
       " '773996': 152,\n",
       " '773995': 153,\n",
       " '717469': 154,\n",
       " '717468': 155,\n",
       " '764106': 156,\n",
       " '717465': 157,\n",
       " '764794': 158,\n",
       " '717466': 159,\n",
       " '717461': 160,\n",
       " '717460': 161,\n",
       " '717463': 162,\n",
       " '717462': 163,\n",
       " '769345': 164,\n",
       " '716943': 165,\n",
       " '772669': 166,\n",
       " '717582': 167,\n",
       " '717583': 168,\n",
       " '717580': 169,\n",
       " '716949': 170,\n",
       " '717587': 171,\n",
       " '772178': 172,\n",
       " '717585': 173,\n",
       " '716939': 174,\n",
       " '768469': 175,\n",
       " '764101': 176,\n",
       " '767554': 177,\n",
       " '773975': 178,\n",
       " '773974': 179,\n",
       " '717510': 180,\n",
       " '717513': 181,\n",
       " '717825': 182,\n",
       " '767495': 183,\n",
       " '767494': 184,\n",
       " '717821': 185,\n",
       " '717823': 186,\n",
       " '717458': 187,\n",
       " '717459': 188,\n",
       " '769926': 189,\n",
       " '764858': 190,\n",
       " '717450': 191,\n",
       " '717452': 192,\n",
       " '717453': 193,\n",
       " '759772': 194,\n",
       " '717456': 195,\n",
       " '771673': 196,\n",
       " '772167': 197,\n",
       " '769372': 198,\n",
       " '774204': 199,\n",
       " '769806': 200,\n",
       " '717590': 201,\n",
       " '717592': 202,\n",
       " '717595': 203,\n",
       " '772168': 204,\n",
       " '718141': 205,\n",
       " '769373': 206}"
      ]
     },
     "execution_count": 60,
     "metadata": {},
     "output_type": "execute_result"
    }
   ],
   "source": [
    "sensor_id_to_ind"
   ]
  },
  {
   "cell_type": "code",
   "execution_count": 61,
   "metadata": {
    "scrolled": true
   },
   "outputs": [
    {
     "data": {
      "text/plain": [
       "array([[1.       , 0.       , 0.       , ..., 0.       , 0.       ,\n",
       "        0.       ],\n",
       "       [0.       , 1.       , 0.3909554, ..., 0.       , 0.       ,\n",
       "        0.       ],\n",
       "       [0.       , 0.7174379, 1.       , ..., 0.       , 0.       ,\n",
       "        0.       ],\n",
       "       ...,\n",
       "       [0.       , 0.       , 0.       , ..., 1.       , 0.       ,\n",
       "        0.       ],\n",
       "       [0.       , 0.       , 0.       , ..., 0.       , 1.       ,\n",
       "        0.       ],\n",
       "       [0.       , 0.       , 0.       , ..., 0.       , 0.       ,\n",
       "        1.       ]], dtype=float32)"
      ]
     },
     "execution_count": 61,
     "metadata": {},
     "output_type": "execute_result"
    }
   ],
   "source": [
    "adj_mx"
   ]
  },
  {
   "cell_type": "code",
   "execution_count": 74,
   "metadata": {},
   "outputs": [
    {
     "data": {
      "text/plain": [
       "array([[    0. ,     inf,     inf, ...,     inf,  8114.8, 10009.7],\n",
       "       [    inf,     0. ,  2504.6, ...,     inf,     inf,     inf],\n",
       "       [    inf,  1489.3,     0. , ...,     inf,     inf,  9837. ],\n",
       "       ...,\n",
       "       [    inf,     inf,     inf, ...,     0. ,     inf,     inf],\n",
       "       [ 9599.8,     inf,     inf, ...,     inf,     0. ,     inf],\n",
       "       [10119.9,  9374.8,     inf, ...,     inf,  9018.7,     0. ]],\n",
       "      dtype=float32)"
      ]
     },
     "execution_count": 74,
     "metadata": {},
     "output_type": "execute_result"
    }
   ],
   "source": [
    "dist_mx"
   ]
  },
  {
   "cell_type": "code",
   "execution_count": 68,
   "metadata": {},
   "outputs": [
    {
     "data": {
      "text/plain": [
       "((106, 106), (106, 3), (106,))"
      ]
     },
     "execution_count": 68,
     "metadata": {},
     "output_type": "execute_result"
    }
   ],
   "source": [
    "mx=np.load('tmp/npy/dist_mx.npy')\n",
    "#link_mx=np.load('tmp/npy/link_mx.npy')\n",
    "node_dis=np.load('tmp/npy/node_dis.npy')\n",
    "node_id=np.load('tmp/npy/node_id.npy')\n",
    "\n",
    "mx.shape,node_dis.shape,node_id.shape"
   ]
  },
  {
   "cell_type": "code",
   "execution_count": 69,
   "metadata": {},
   "outputs": [
    {
     "data": {
      "text/plain": [
       "array([[     0.  ,   6100.  ,  12200.  , ..., 178678.1 , 179105.72,\n",
       "        179582.45],\n",
       "       [  6100.  ,      0.  ,   6100.  , ..., 172640.92, 173083.48,\n",
       "        173576.75],\n",
       "       [ 12200.  ,   6100.  ,      0.  , ..., 166608.34, 167066.88,\n",
       "        167577.86],\n",
       "       ...,\n",
       "       [178678.1 , 172640.92, 166608.34, ...,      0.  ,   3000.  ,\n",
       "          6000.  ],\n",
       "       [179105.72, 173083.48, 167066.88, ...,   3000.  ,      0.  ,\n",
       "          3000.  ],\n",
       "       [179582.45, 173576.75, 167577.86, ...,   6000.  ,   3000.  ,\n",
       "             0.  ]], dtype=float32)"
      ]
     },
     "execution_count": 69,
     "metadata": {},
     "output_type": "execute_result"
    }
   ],
   "source": [
    "mx"
   ]
  },
  {
   "cell_type": "code",
   "execution_count": 71,
   "metadata": {},
   "outputs": [
    {
     "data": {
      "text/plain": [
       "array(['1', '2', '3', '4', '5', '6', '7', '8', '9', '10', '11', '12',\n",
       "       '13', '14', '15', '16', '17', '18', '19', '20', '21', '22', '23',\n",
       "       '24', '25', '26', '27', '28', '29', '30', '31', '32', '33', '34',\n",
       "       '35', '36', '37', '38', '39', '40', '41', '42', '43', '44', '45',\n",
       "       '46', '47', '48', '49', '50', '51', '52', '53', '54', '55', '56',\n",
       "       '57', '58', '59', '60', '61', '62', '63', '64', '65', '66', '67',\n",
       "       '68', '69', '70', '71', '72', '73', '74', '75', '76', '77', '78',\n",
       "       '79', '80', '81', '82', '83', '84', '85', '86', '87', '88', '89',\n",
       "       '90', '91', '92', '93', '94', '95', '96', '97', '98', '99', '100',\n",
       "       '101', '102', '103', '104', '105', '106'], dtype='<U3')"
      ]
     },
     "execution_count": 71,
     "metadata": {},
     "output_type": "execute_result"
    }
   ],
   "source": [
    "node_id"
   ]
  },
  {
   "cell_type": "code",
   "execution_count": null,
   "metadata": {},
   "outputs": [],
   "source": []
  }
 ],
 "metadata": {
  "kernelspec": {
   "display_name": "Python 3",
   "language": "python",
   "name": "python3"
  },
  "language_info": {
   "codemirror_mode": {
    "name": "ipython",
    "version": 3
   },
   "file_extension": ".py",
   "mimetype": "text/x-python",
   "name": "python",
   "nbconvert_exporter": "python",
   "pygments_lexer": "ipython3",
   "version": "3.6.9"
  }
 },
 "nbformat": 4,
 "nbformat_minor": 2
}
