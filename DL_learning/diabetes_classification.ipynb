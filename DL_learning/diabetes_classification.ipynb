{
  "nbformat": 4,
  "nbformat_minor": 0,
  "metadata": {
    "colab": {
      "name": "diabetes_classification.ipynb",
      "provenance": []
    },
    "kernelspec": {
      "name": "python3",
      "display_name": "Python 3"
    }
  },
  "cells": [
    {
      "cell_type": "code",
      "metadata": {
        "id": "e27b9bgj1Z29",
        "colab_type": "code",
        "colab": {}
      },
      "source": [
        "import tensorflow as tf\n",
        "import numpy as np\n",
        "\n",
        "data = np.loadtxt('diabetes.csv', delimiter = ',', dtype = np.float32)\n",
        "x_data = data[:, 0:-1]\n",
        "y_data = data[:, [-1]]\n",
        "\n",
        "x = tf.placeholder(tf.float32, shape = [None, 8])\n",
        "y = tf.placeholder(tf.float32, shape = [None, 1])\n",
        "\n",
        "w = tf.Variable(tf.random_normal([8, 1]), name = 'weight')\n",
        "b = tf.Variable(tf.random_normal([1]), name = 'bias')\n",
        "\n",
        "hypothesis = tf.sigmoid(tf.matmul(x, w) + b)\n",
        "cost = -tf.reduce_mean(y * tf.log(hypothesis) + (1 - y) * tf.log(1 - hypothesis))\n",
        "\n",
        "optimizer = tf.train.GradientDescentOptimizer(learning_rate = 0.01)\n",
        "train = optimizer.minimize(cost)\n",
        "\n",
        "\n",
        "binary = tf.cast(hypothesis > 0.5, dtype = tf.float32)\n",
        "accuracy = tf.reduce_mean(tf.cast(tf.equal(binary, y), dtype = tf.float32))\n",
        "\n",
        "sess = tf.Session()\n",
        "sess.run(tf.global_variables_initializer())\n",
        "\n",
        "# train\n",
        "for i in range(1001):\n",
        "    sess.run(train, feed_dict = {x: x_data, y: y_data})\n",
        "    \n",
        "    if i % 100 == 0:\n",
        "        print(i, sess.run(cost, feed_dict = {x: x_data, y: y_data}))\n",
        "\n",
        "print(sess.run(accuracy, feed_dict = {x: x_data, y: y_data}))"
      ],
      "execution_count": null,
      "outputs": []
    }
  ]
}