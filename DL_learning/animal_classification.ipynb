{
  "nbformat": 4,
  "nbformat_minor": 0,
  "metadata": {
    "colab": {
      "name": "animal_classification.ipynb",
      "provenance": []
    },
    "kernelspec": {
      "name": "python3",
      "display_name": "Python 3"
    }
  },
  "cells": [
    {
      "cell_type": "code",
      "metadata": {
        "id": "e27b9bgj1Z29",
        "colab_type": "code",
        "colab": {}
      },
      "source": [
        "import tensorflow as tf\n",
        "import numpy as np\n",
        "\n",
        "data = np.loadtxt('animal.csv', delimiter = ',', dtype = np.float32)\n",
        "x_data = data[:, 0:-1]\n",
        "y_data = data[:, [-1]]\n",
        "\n",
        "x = tf.placeholder(tf.float32, [None, 16])\n",
        "y = tf.placeholder(tf.int32, [None, 1])\n",
        "# one hot encoding\n",
        "y_one_hot = tf.one_hot(y, 7) #shape = (n, 1, 7)\n",
        "y_one_hot = tf.reshape(y_one_hot, [-1, 7]) #shape = (n, 7)\n",
        "\n",
        "w = tf.Variable(tf.random_normal([16, 7]), name = 'weight')\n",
        "b = tf.Variable(tf.random_normal([7]), name = 'bias')\n",
        "\n",
        "hypothesis = tf.nn.softmax(tf.matmul(x, w) + b)\n",
        "cost = tf.reduce_mean(-tf.reduce_sum(y_one_hot * tf.log(hypothesis), axis = 1))\n",
        "\n",
        "optimizer = tf.train.GradientDescentOptimizer(learning_rate = 0.1)\n",
        "train = optimizer.minimize(cost)\n",
        "\n",
        "# one hot decoding\n",
        "prediction = tf.argmax(hypothesis, 1)\n",
        "correct_prediction = tf.equal(prediction, tf.argmax(y, 1))\n",
        "accuracy = tf.reduce_mean(tf.cast(correct_prediction, tf.float32))\n",
        "\n",
        "sess = tf.Session()\n",
        "sess.run(tf.global_variables_initializer())\n",
        "\n",
        "# train\n",
        "for i in range(1001):\n",
        "    sess.run(train, feed_dict = {x: x_data, y: y_data})\n",
        "\n",
        "#test\n",
        "test = sess.run(prediction, feed_dict = {x: x_data})\n",
        "for p, y in zip(test, y_data.flatten()):\n",
        "    print(\"prediction: {} data: {}\".format(p, int(y)))"
      ],
      "execution_count": null,
      "outputs": []
    }
  ]
}