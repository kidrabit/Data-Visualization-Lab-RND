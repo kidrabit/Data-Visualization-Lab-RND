{
  "nbformat": 4,
  "nbformat_minor": 0,
  "metadata": {
    "colab": {
      "name": "logistic classification.ipynb",
      "provenance": [],
      "collapsed_sections": []
    },
    "kernelspec": {
      "name": "python3",
      "display_name": "Python 3"
    }
  },
  "cells": [
    {
      "cell_type": "code",
      "metadata": {
        "id": "A-dDZoC6g1sm",
        "colab_type": "code",
        "colab": {}
      },
      "source": [
        "import tensorflow as tf\n",
        "\n",
        "x_data = [[1, 2], [2, 3], [3, 1], [4, 3], [5, 3], [6, 2]]\n",
        "y_data = [[0], [0], [0], [1], [1], [1]]\n",
        "\n",
        "x = tf.placeholder(tf.float32, shape = [None, 2])\n",
        "y = tf.placeholder(tf.float32, shape = [None, 1])\n",
        "\n",
        "# x_data, y_data 행렬 크기를 고려하여 w 행렬 크기를 지정함\n",
        "w = tf.Variable(tf.random_normal([2, 1]), name = 'weight')\n",
        "b = tf.Variable(tf.random_normal([1]), name = 'bias')\n",
        "\n",
        "hypothesis = tf.sigmoid(tf.matmul(x, w) + b)\n",
        "cost = -tf.reduce_mean(y * tf.log(hypothesis) + (1 - y) * tf.log(1 - hypothesis))\n",
        "\n",
        "optimizer = tf.train.GradientDescentOptimizer(learning_rate = 0.01)\n",
        "train = optimizer.minimize(cost)\n",
        "\n",
        "# hypothesis 값을 T, F으로 변환한 후 y 값과 비교하여 정확도 계산\n",
        "predict = tf.cast(hypothesis > 0.5, dtype = tf.float32)\n",
        "accuracy = tf.reduce_mean(tf.cast(tf.equal(predict, y), dtype = tf.float32))\n",
        "\n",
        "sess = tf.Session()\n",
        "sess.run(tf.global_variables_initializer())\n",
        "\n",
        "# train\n",
        "for i in range(1001):\n",
        "    sess.run(train, feed_dict = {x: x_data, y: y_data})\n",
        "    \n",
        "    if i % 100 == 0:\n",
        "        print(i, sess.run(cost, feed_dict = {x: x_data, y: y_data}))\n",
        "        \n",
        "print(sess.run(hypothesis, feed_dict = {x: x_data, y: y_data}))\n",
        "print(sess.run(predict, feed_dict = {x: x_data, y: y_data}))\n",
        "print(sess.run(accuracy, feed_dict = {x: x_data, y: y_data}))"
      ],
      "execution_count": null,
      "outputs": []
    }
  ]
}