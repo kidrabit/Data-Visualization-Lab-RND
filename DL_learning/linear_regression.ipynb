{
  "nbformat": 4,
  "nbformat_minor": 0,
  "metadata": {
    "colab": {
      "name": "linear_regression.ipynb",
      "provenance": [],
      "collapsed_sections": []
    },
    "kernelspec": {
      "name": "python3",
      "display_name": "Python 3"
    }
  },
  "cells": [
    {
      "cell_type": "code",
      "metadata": {
        "id": "A-dDZoC6g1sm",
        "colab_type": "code",
        "colab": {}
      },
      "source": [
        "import tensorflow as tf\n",
        "\n",
        "x = tf.placeholder(tf.float32, shape = [None])\n",
        "y = tf.placeholder(tf.float32, shape = [None])\n",
        "\n",
        "# Variable 함수 = 텐서플로우가 학습하면서 스스로 변경하는 변수\n",
        "# 하나의 값으로 이루어진 랜덤한 배열로 구조를 정의함\n",
        "w = tf.Variable(tf.random_normal([1]), name = 'weight')\n",
        "b = tf.Variable(tf.random_normal([1]), name = 'bias')\n",
        "\n",
        "hypothesis = x * w + b\n",
        "cost = tf.reduce_mean(tf.square(hypothesis - y))\n",
        "\n",
        "optimizer = tf.train.GradientDescentOptimizer(learning_rate = 0.01)\n",
        "train = optimizer.minimize(cost)\n",
        "\n",
        "# 실행하기 위해 session 형성한 후 w, b 초기화 함\n",
        "sess = tf.Session()\n",
        "sess.run(tf.global_variables_initializer())\n",
        "\n",
        "# train\n",
        "for i in range(1001):\n",
        "    sess.run(train, feed_dict = {x: [1, 2, 3], y: [1, 2, 3]})\n",
        "    \n",
        "    if i % 100 == 0:\n",
        "        print(i, sess.run(cost, feed_dict = {x: [1, 2, 3], y: [1, 2, 3]}), sess.run(w, feed_dict = {x: [1, 2, 3], y: [1, 2, 3]}), sess.run(b, feed_dict = {x: [1, 2, 3], y: [1, 2, 3]}))\n",
        "\n",
        "# test\n",
        "print(sess.run(hypothesis, feed_dict = {x: [4]}))"
      ],
      "execution_count": null,
      "outputs": []
    }
  ]
}