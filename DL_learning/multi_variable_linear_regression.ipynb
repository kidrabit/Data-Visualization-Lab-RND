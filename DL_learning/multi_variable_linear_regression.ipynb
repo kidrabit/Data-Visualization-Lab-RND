{
  "nbformat": 4,
  "nbformat_minor": 0,
  "metadata": {
    "colab": {
      "name": "multi variable linear regression.ipynb",
      "provenance": [],
      "collapsed_sections": []
    },
    "kernelspec": {
      "name": "python3",
      "display_name": "Python 3"
    }
  },
  "cells": [
    {
      "cell_type": "code",
      "metadata": {
        "id": "A-dDZoC6g1sm",
        "colab_type": "code",
        "colab": {}
      },
      "source": [
        "import tensorflow as tf\n",
        "import numpy as np\n",
        "\n",
        "# delimiter = 구분 문자\n",
        "data = np.loadtxt('data.csv', delimiter = ',', dtype = np.float32)\n",
        "\n",
        "# x_data = 전체 행, 마지막 제외한 열\n",
        "# y_data = 전체 행, 마지막 열\n",
        "x_data = data[:, 0:-1]\n",
        "y_data = data[:, [-1]]\n",
        "\n",
        "x = tf.placeholder(tf.float32, shape = [None, 3])\n",
        "y = tf.placeholder(tf.float32, shape = [None, 1])\n",
        "\n",
        "w = tf.Variable(tf.random_normal([3, 1]), name = 'weight')\n",
        "b = tf.Variable(tf.random_normal([1]), name = 'bias')\n",
        "\n",
        "# matmul = matrix multiply\n",
        "hypothesis = tf.matmul(x, w) + b\n",
        "cost = tf.reduce_mean(tf.square(hypothesis - y))\n",
        "\n",
        "optimizer = tf.train.GradientDescentOptimizer(learning_rate = 1e-5)\n",
        "train = optimizer.minimize(cost)\n",
        "\n",
        "sess = tf.Session()\n",
        "sess.run(tf.global_variables_initializer())\n",
        "\n",
        "#train\n",
        "for i in range(1001):\n",
        "    sess.run(train, feed_dict = {x: x_data, y: y_data})\n",
        "    \n",
        "    if i % 100 == 0:\n",
        "        print(i, sess.run(cost, feed_dict = {x: x_data, y: y_data}))\n",
        "\n",
        "# test\n",
        "print(sess.run(hypothesis, feed_dict = {x: [[100, 80, 70]]}))"
      ],
      "execution_count": null,
      "outputs": []
    }
  ]
}