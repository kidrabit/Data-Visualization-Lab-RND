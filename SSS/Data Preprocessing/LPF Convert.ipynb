{
 "cells": [
  {
   "cell_type": "code",
   "execution_count": 94,
   "id": "717e41c2",
   "metadata": {
    "ExecuteTime": {
     "end_time": "2021-05-11T09:10:04.747244Z",
     "start_time": "2021-05-11T09:10:04.735296Z"
    }
   },
   "outputs": [],
   "source": [
    "import pandas as pd\n",
    "import numpy as np\n",
    "import matplotlib.pyplot as plt\n",
    "import random"
   ]
  },
  {
   "cell_type": "code",
   "execution_count": 161,
   "id": "6682167e",
   "metadata": {
    "ExecuteTime": {
     "end_time": "2021-05-11T09:33:26.974699Z",
     "start_time": "2021-05-11T09:33:23.477577Z"
    }
   },
   "outputs": [
    {
     "name": "stdout",
     "output_type": "stream",
     "text": [
      "(172620, 12)\n",
      "(172620, 12)\n",
      "(172620, 12)\n",
      "(172620, 12)\n",
      "(172620, 12)\n",
      "(172620, 12)\n",
      "(172620, 12)\n",
      "2774.862492801036 2860.8972732559014\n",
      "(172620, 12)\n",
      "2785.931150398128 2869.0900732652844\n",
      "(172620, 12)\n",
      "2732.015028449452 2869.1944270294844\n",
      "(172620, 12)\n"
     ]
    }
   ],
   "source": [
    "data_list=[]\n",
    "file_names=['2006-05-13.csv','2006-05-14.csv','2006-05-15.csv','2006-05-16.csv','2006-05-17.csv',\n",
    "            '2006-05-18.csv','2006-05-19.csv','2007-12-14.csv','2009-05-05.csv','2011-11-01.csv']\n",
    "\n",
    "for f in file_names:\n",
    "    data=pd.read_csv('data/raw_data/'+f)\n",
    "    data = data.drop(['SJX08','SJX13'],axis=1)\n",
    "    if f in ['2007-12-14.csv','2009-05-05.csv','2011-11-01.csv']:\n",
    "        q25,q75=np.quantile(data['SJS13'],[0.25,0.75])\n",
    "        print(q25-1.5*(q75-q25),q75+1.5*(q75-q25))\n",
    "        data['SJS13'][data['SJS13']<q25-1.5*(q75-q25)]=np.nan#3000\n",
    "        data['SJS13'][data['SJS13']>q75+1.5*(q75-q25)]=np.nan#2700\n",
    "    data=data.interpolate(method='linear')\n",
    "    data=data.iloc[90:-90]\n",
    "    print(data.shape)\n",
    "    data_list.append(data)"
   ]
  },
  {
   "cell_type": "code",
   "execution_count": 178,
   "id": "1eff50a3",
   "metadata": {
    "ExecuteTime": {
     "end_time": "2021-05-11T09:38:11.571223Z",
     "start_time": "2021-05-11T09:38:11.556232Z"
    }
   },
   "outputs": [],
   "source": [
    "from scipy import signal"
   ]
  },
  {
   "cell_type": "code",
   "execution_count": 191,
   "id": "aaa285ed",
   "metadata": {
    "ExecuteTime": {
     "end_time": "2021-05-11T09:40:40.008417Z",
     "start_time": "2021-05-11T09:40:39.996416Z"
    }
   },
   "outputs": [],
   "source": [
    "def to_lpf(data_list, order, cutoff, fs):\n",
    "    datas = data_list.copy()\n",
    "    for i, data in enumerate(datas):\n",
    "        data = data.values\n",
    "        data = np.transpose(data)\n",
    "        datas[i] = data\n",
    "    cable_data = datas\n",
    "    \n",
    "    lpf_list = []\n",
    "    for i in range(10):\n",
    "        lpf_list.append([])\n",
    "        for j in range(12):\n",
    "            b = signal.firwin(order, cutoff=cutoff, fs=fs, pass_zero='lowpass')\n",
    "            x = signal.lfilter(b, [1.0], cable_data[i][j])\n",
    "            lpf_list[i].append(cable_data[i][j][order:] - x[order:])\n",
    "    return lpf_list"
   ]
  },
  {
   "cell_type": "code",
   "execution_count": 203,
   "id": "91b8adec",
   "metadata": {
    "ExecuteTime": {
     "end_time": "2021-05-11T09:46:06.566243Z",
     "start_time": "2021-05-11T09:46:05.664125Z"
    }
   },
   "outputs": [],
   "source": [
    "cable_data = to_lpf(data_list, 101, 3, 10)"
   ]
  },
  {
   "cell_type": "code",
   "execution_count": 204,
   "id": "a9a3cb12",
   "metadata": {
    "ExecuteTime": {
     "end_time": "2021-05-11T09:46:06.581060Z",
     "start_time": "2021-05-11T09:46:06.568242Z"
    }
   },
   "outputs": [],
   "source": [
    "file_names=['2006-05-13','2006-05-14','2006-05-15','2006-05-16','2006-05-17', '2006-05-18','2006-05-19','2007-12-14','2009-05-05','2011-11-01']\n",
    "cable_title = [\"SJS08\", \"SJS09\", \"SJS10\", \"SJS11\", \"SJS12\", \"SJS13\", \"SJS14\", \"SJX09\", \"SJX10\", \"SJX11\", \"SJX12\", \"SJX14\"]"
   ]
  },
  {
   "cell_type": "code",
   "execution_count": 205,
   "id": "8b9107d3",
   "metadata": {
    "ExecuteTime": {
     "end_time": "2021-05-11T09:46:37.934419Z",
     "start_time": "2021-05-11T09:46:09.080600Z"
    }
   },
   "outputs": [],
   "source": [
    "for i in range(len(cable_data)):\n",
    "    df = pd.DataFrame(np.transpose(cable_data[i]), columns=cable_title)\n",
    "    df.to_csv('data/lpf_data/order=101,cutoff=3,fs=10/' + file_names[i] + '.csv')"
   ]
  },
  {
   "cell_type": "code",
   "execution_count": null,
   "id": "fea1d55b",
   "metadata": {},
   "outputs": [],
   "source": [
    "cable_data = to_lpf(data_list, 101, 3, 10)"
   ]
  },
  {
   "cell_type": "code",
   "execution_count": null,
   "id": "36c4f280",
   "metadata": {},
   "outputs": [],
   "source": [
    "#sampling period=60*24*24 sec\n",
    "#sampling freq = 2 Hz\n",
    "#Total Sample = 60*24*24*2\n",
    "#Signal Freq = ?\n",
    "#Nyquist Freq = 0.5 * 2Hz\n",
    "#Cutoff = more than signal freq\n",
    "#order: 차수"
   ]
  },
  {
   "cell_type": "markdown",
   "id": "d96665e9",
   "metadata": {},
   "source": [
    "$$ N >= log_{10}{\\sqrt{{\\delta^{-2}_{p}-1} \\over {\\delta^{-2}_{s}-1}}} / log_{10}{\\omega_p\\over {\\omega_s}} $$"
   ]
  },
  {
   "cell_type": "code",
   "execution_count": null,
   "id": "42d2d25c",
   "metadata": {},
   "outputs": [],
   "source": []
  }
 ],
 "metadata": {
  "kernelspec": {
   "display_name": "learning",
   "language": "python",
   "name": "learning"
  },
  "language_info": {
   "codemirror_mode": {
    "name": "ipython",
    "version": 3
   },
   "file_extension": ".py",
   "mimetype": "text/x-python",
   "name": "python",
   "nbconvert_exporter": "python",
   "pygments_lexer": "ipython3",
   "version": "3.7.10"
  }
 },
 "nbformat": 4,
 "nbformat_minor": 5
}
