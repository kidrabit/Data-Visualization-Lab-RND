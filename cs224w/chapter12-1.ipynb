{
 "cells": [
  {
   "cell_type": "markdown",
   "id": "24d6dec3",
   "metadata": {},
   "source": [
    "# Network Effects and Cascading Behavior"
   ]
  },
  {
   "cell_type": "markdown",
   "id": "450ccb7d",
   "metadata": {},
   "source": [
    "### Spreading throug network\n",
    " - network를 통해 영향력이 퍼져나간다.\n",
    " - 즉, network는 연속성을 가지고 작용한다.\n",
    "  <img src =\"./12-1.png\" width = 30%>\n",
    " - Cascading behavior\n",
    " - Diffusion(전파) of innovations\n",
    " - Network effects\n",
    " - Epidmics\n",
    " \n",
    "#### Network Cascades\n",
    " - 전염병이 network edges를 통해 확산되는 것을 보았다.\n",
    " - it creats a propagtion tree, i.e.,cascade\n",
    "  <img src =\"./12-2.png\" width = 30%>\n",
    "\n",
    "#### Decision based models of Diffusion\n",
    " - Models of product adoption, decision making\n",
    "     - A node observes decisions of its neighbors and makes its own decision\n",
    "     - ex) you join demonstrations if k of yout friends do so too\n",
    " - Model이 전염되는 것이 확률이 아닌, Deterministic하게 정해지는 것\n",
    " - example\n",
    "     - Based on 2 player corrdination game\n",
    "         - 한 node는 A,B중 선택할수있다.\n",
    "         - 만약 주위의 node가 같은 것을 선택했다면 payoff는 커진다.\n",
    "  <img src =\"./12-3.png\" width = 50%>\n",
    "     - Calculation of Node v\n",
    "         - node v 는 d개의 neighbor를 가지고 있다.\n",
    "         - v의 이웃 노드들중 p명이 A를 선택했으면 $payoff_v = a(p/d)d, payoff_v = b(1-p/d)d$이다.\n",
    "         - v choose A if p > b/(a+b) = q "
   ]
  },
  {
   "cell_type": "code",
   "execution_count": null,
   "id": "66d7e2d0",
   "metadata": {},
   "outputs": [],
   "source": []
  }
 ],
 "metadata": {
  "kernelspec": {
   "display_name": "Python 3",
   "language": "python",
   "name": "python3"
  },
  "language_info": {
   "codemirror_mode": {
    "name": "ipython",
    "version": 3
   },
   "file_extension": ".py",
   "mimetype": "text/x-python",
   "name": "python",
   "nbconvert_exporter": "python",
   "pygments_lexer": "ipython3",
   "version": "3.8.8"
  }
 },
 "nbformat": 4,
 "nbformat_minor": 5
}
