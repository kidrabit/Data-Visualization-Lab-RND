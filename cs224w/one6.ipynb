{
 "cells": [
  {
   "cell_type": "code",
   "execution_count": null,
   "metadata": {},
   "outputs": [],
   "source": [
    "seoul_count = pd.DataFrame(list1,columns = ['확진일'])\n",
    "seoul_count\n",
    "col = seoul['지역'].unique()\n",
    "\n",
    "for i in col:\n",
    "    a = seoul[seoul['지역'] == i].groupby('확진일').count()\n",
    "    a.reset_index(inplace = True)\n",
    "    a = a[['확진일','연번']]\n",
    "    a.rename(columns = {'연번' : i}, inplace = True)\n",
    "    seoul_count = pd.merge(seoul_count, a, how = \"left\",on = '확진일')"
   ]
  }
 ],
 "metadata": {
  "kernelspec": {
   "display_name": "Python 3",
   "language": "python",
   "name": "python3"
  },
  "language_info": {
   "codemirror_mode": {
    "name": "ipython",
    "version": 3
   },
   "file_extension": ".py",
   "mimetype": "text/x-python",
   "name": "python",
   "nbconvert_exporter": "python",
   "pygments_lexer": "ipython3",
   "version": "3.8.3"
  },
  "toc": {
   "base_numbering": 1,
   "nav_menu": {},
   "number_sections": true,
   "sideBar": true,
   "skip_h1_title": false,
   "title_cell": "Table of Contents",
   "title_sidebar": "Contents",
   "toc_cell": false,
   "toc_position": {},
   "toc_section_display": true,
   "toc_window_display": false
  }
 },
 "nbformat": 4,
 "nbformat_minor": 4
}
