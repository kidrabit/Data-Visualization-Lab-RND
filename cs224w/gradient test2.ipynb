{
 "cells": [
  {
   "cell_type": "code",
   "execution_count": 1,
   "id": "66b604c8",
   "metadata": {},
   "outputs": [],
   "source": [
    "import torch\n",
    "import torch.nn as nn\n",
    "import numpy as np\n",
    "from copy import deepcopy\n",
    "\n",
    "device = \"cuda\" if torch.cuda.is_available() else \"cpu\"\n",
    "\n",
    "class RBFlayer(nn.Module):\n",
    "    def __init__(self, timelag):\n",
    "        super(RBFlayer, self).__init__()\n",
    "\n",
    "        self.timelag = timelag\n",
    "\n",
    "        device = \"cuda\" if torch.cuda.is_available() else \"cpu\"\n",
    "        torch.cuda.manual_seed(0)\n",
    "\n",
    "        self.init_weight_cause = nn.Parameter(torch.rand(self.timelag, device=device))\n",
    "        self.init_weight_target = nn.Parameter(torch.rand(self.timelag, device=device))\n",
    "        self.cause_clt = self.init_clt()\n",
    "        self.cause_std = self.init_clt()\n",
    "        self.target_clt = nn.Parameter(torch.rand(1, device=device))\n",
    "        self.target_std = nn.Parameter(torch.rand(1, device=device))\n",
    "\n",
    "    def init_clt(self):\n",
    "        return nn.Parameter(torch.rand(1, device=device))\n",
    "\n",
    "    def init_std(self):\n",
    "        return nn.Parameter(torch.rand(1, device=device))\n",
    "\n",
    "    def rbf(self, x, cluster, std):\n",
    "        return torch.exp(-(x - cluster) * (x - cluster) / 2 * (std * std))\n",
    "    \n",
    "    def rbf_gradient(self, x, clt, std):\n",
    "        return (-2 * (x - clt) / (std * std)) * (torch.exp(-(x - clt) * (x - clt) / 2 * (std * std)))\n",
    "    \n",
    "    def rbf_grad(self, x, type_ = 'cause'):\n",
    "        \n",
    "        # 1~ x.shape[0]-2th gradient list\n",
    "        \n",
    "        rbf_grad_list = []\n",
    "        if type_ == \"cause\":\n",
    "            for j in range(x.shape[0] - 2):\n",
    "                rbf_grad_list.append(self.rbf_gradient(x[j+1], self.cause_clt, self.cause_std))\n",
    "        \n",
    "        else:\n",
    "            for j in range(x.shape[0] - 2):\n",
    "                rbf_grad_list.append(self.rbf_gradient(x[j+1], self.target_clt, self.target_std))\n",
    "        \n",
    "        return rbf_grad_list\n",
    "    \n",
    "    def rbf_num_grad(self, x, type_ = \"cause\"):\n",
    "        \n",
    "        rbf_grad_list = []\n",
    "        if type_ == \"cause\":\n",
    "            for j in range(x.shape[0] - 2):\n",
    "                rbf_grad_list.append(self.rbf(x[j+2], self.cause_clt, self.cause_std) - self.rbf(x[j], self.cause_clt, self.cause_std))\n",
    "                \n",
    "        else:\n",
    "            for j in range(x.shape[0] - 2):\n",
    "                rbf_grad_list.append(self.rbf(x[j+2], self.target_clt, self.target_std) - self.rbf(x[j], self.target_clt, self.target_std))\n",
    "                \n",
    "        return rbf_grad_list\n",
    "\n",
    "\n",
    "    def forward(self, cause, target):\n",
    "\n",
    "        for i in range(len(cause)):\n",
    "            if i == 0:\n",
    "                a = self.rbf(cause[i], self.cause_clt, self.cause_std)\n",
    "            else:\n",
    "                a = torch.cat([a, self.rbf(cause[i], self.cause_clt, self.cause_std)], dim=0)\n",
    "        cause = self.init_weight_cause * a\n",
    "\n",
    "        for j in range(len(target)):\n",
    "            if j == 0:\n",
    "                b = self.rbf(target[j], self.target_clt, self.target_std)\n",
    "            else:\n",
    "                b = torch.cat([b, self.rbf(target[j], self.target_clt, self.target_std)], dim=0)\n",
    "        target = self.init_weight_target * b\n",
    "\n",
    "        return cause, target\n",
    "\n",
    "\n",
    "class RBFnet(nn.Module):\n",
    "    def __init__(self, input_size , output_size, timelag):\n",
    "        super(RBFnet,self).__init__()\n",
    "\n",
    "        self.input_size = input_size      # number of data\n",
    "        self.output_size = output_size\n",
    "        self.timelag = timelag\n",
    "\n",
    "        self.linear = nn.ModuleList([nn.Linear(self.timelag*2,1) for _ in range(self.input_size)])\n",
    "        self.relu = nn.ReLU()\n",
    "        self.networks = nn.ModuleList([RBFlayer(self.timelag) for _ in range(self.input_size)])\n",
    "\n",
    "    def cause_target(self, cause, target):\n",
    "        x = torch.cat((cause, target), 0)\n",
    "\n",
    "        return x\n",
    "\n",
    "    def GC(self, threshold=True):\n",
    "        '''\n",
    "        Extract learned Granger causality.\n",
    "        Args:\n",
    "          threshold: return norm of weights, or whether norm is nonzero.\n",
    "        Returns:\n",
    "          GC: (p x p) matrix. Entry (i, j) indicates whether variable j is\n",
    "            Granger causal of variable i.\n",
    "        '''\n",
    "        GC = [torch.norm(net.init_weight_cause, dim=0)\n",
    "              for net in self.networks]\n",
    "        GC = torch.stack(GC)\n",
    "        if threshold:\n",
    "            return (GC > 0).int()\n",
    "        else:\n",
    "            return GC\n",
    "\n",
    "\n",
    "    def forward(self, causes, targets):\n",
    "        out_list = []\n",
    "        for i in range(self.input_size):\n",
    "            cause, target = self.networks[i](causes[i], targets[i])\n",
    "            cause, target = self.relu(cause), self.relu(target)\n",
    "            pred = torch.cat((cause, target),0)\n",
    "            pred = self.linear[i](pred)\n",
    "            out_list.append(pred)\n",
    "\n",
    "        return out_list\n",
    "\n",
    "\n"
   ]
  },
  {
   "cell_type": "code",
   "execution_count": 2,
   "id": "69c446f1",
   "metadata": {},
   "outputs": [],
   "source": [
    "def restore_parameters(model, best_model):\n",
    "    '''Move parameter values from best_model to model.'''\n",
    "    for params, best_params in zip(model.parameters(), best_model.parameters()):\n",
    "        params.data = best_params\n",
    "\n",
    "def train_rbf(model, input_causes, input_targets, Y, lr, epochs, lookback=5,device = device):\n",
    "    # input_causes, input_targets : X\n",
    "    # Y : Y\n",
    "    model.to(device)\n",
    "    loss_fn = nn.MSELoss(reduction='mean')\n",
    "    optimizer = torch.optim.Adam(model.parameters(), lr=lr)\n",
    "    train_loss_list = []\n",
    "\n",
    "    best_it = None\n",
    "    best_model = None\n",
    "    best_loss = np.inf\n",
    "    time = torch.tensor([0,1,2,3,4,5,6,7,8,9], device = device)\n",
    "\n",
    "    for epoch in range(epochs):\n",
    "        loss_cause = 0\n",
    "        loss_target = 0\n",
    "        \n",
    "        # pred loss\n",
    "        pred = model(input_causes, input_targets)\n",
    "        loss_ = sum([loss_fn(pred[i], Y[i]) for i in range(len(Y))])\n",
    "        \n",
    "        # cause gradient loss\n",
    "        for i in range(len(model.networks)):\n",
    "            rbf_num_list = model.networks[i].rbf_num_grad(time, \"cause\")\n",
    "            rbf_fn_grad = model.networks[i].rbf_grad(time, \"cause\")\n",
    "            \n",
    "            loss_cause += sum([loss_fn(rbf_fn_grad[j], rbf_num_list[j]) for j in range(len(rbf_num_list))])\n",
    "        \n",
    "        # target gradient loss\n",
    "        for i in range(len(model.networks)):\n",
    "            rbf_num_list = model.networks[i].rbf_num_grad(time, \"target\")\n",
    "            rbf_fn_grad = model.networks[i].rbf_grad(time, \"target\")\n",
    "            \n",
    "            loss_target += sum([loss_fn(rbf_fn_grad[j], rbf_num_list[j]) for j in range(len(rbf_num_list))])\n",
    "        \n",
    "        print(\"epoch {} loss {} :\".format(epoch, loss_ / len(Y)))\n",
    "        print(\"epoch {} cause loss {}\".format(epoch, loss_cause / len(Y)))\n",
    "        print(\"epoch {} target loss {}\".format(epoch, loss_target / len(Y)))\n",
    "\n",
    "        \n",
    "        loss = loss_ + loss_cause + loss_target\n",
    "        print(\"epoch {} loss {} :\".format(epoch, loss / len(Y)))\n",
    "        print(\"------------------------------------------------------\")\n",
    "        print()\n",
    "              \n",
    "        # loss = loss_target\n",
    "        '''\n",
    "        loss_.backward()\n",
    "        optimizer.step()\n",
    "        \n",
    "        loss_cause.backward()\n",
    "        optimizer.step()\n",
    "        \n",
    "        loss_target.backward()\n",
    "        optimizer.step()\n",
    "        '''\n",
    "        \n",
    "        loss.backward()\n",
    "        optimizer.step()\n",
    "        model.zero_grad()\n",
    "\n",
    "        \n",
    "        mean_loss = loss / len(Y)\n",
    "        train_loss_list.append(mean_loss)\n",
    "        if mean_loss < best_loss:\n",
    "            best_loss = mean_loss\n",
    "            best_it = epoch\n",
    "            best_model = deepcopy(model)\n",
    "        elif (epoch - best_it) == lookback:\n",
    "            if verbose:\n",
    "                print('Stopping early')\n",
    "            break\n",
    "\n",
    "    restore_parameters(model, best_model)\n",
    "\n",
    "    return train_loss_list , model"
   ]
  },
  {
   "cell_type": "code",
   "execution_count": 3,
   "id": "27799fe3",
   "metadata": {
    "scrolled": true
   },
   "outputs": [],
   "source": [
    "def data_split(X, cause, target, timelag, device = device):\n",
    "    input_cause = []\n",
    "    input_target = []\n",
    "    Y = []\n",
    "\n",
    "    for i in range(len(X) - (timelag + 1)):\n",
    "        input_cause.append(X[cause].values[i: i + timelag])\n",
    "        input_target.append(X[target].values[i: i + timelag])\n",
    "        Y.append([X[target][i + timelag + 1]])\n",
    "\n",
    "    return torch.tensor(input_cause, device=device).float(), torch.tensor(input_target,device=device).float(), torch.tensor(Y, device=device).float()\n"
   ]
  },
  {
   "cell_type": "code",
   "execution_count": 4,
   "id": "c2f6309f",
   "metadata": {
    "scrolled": true
   },
   "outputs": [],
   "source": [
    "import pandas as pd\n",
    "df = pd.read_csv('C:/Users/chanyoung/Desktop/Neural-GC-master/lorenz_96_10_10_1000.csv')\n",
    "X2d = df[['a','b']]\n",
    "torch.manual_seed(1234)\n",
    "input_cause, input_target, Y = data_split(X2d, 'a', 'b', 10)"
   ]
  },
  {
   "cell_type": "code",
   "execution_count": 5,
   "id": "34cdd1b1",
   "metadata": {
    "scrolled": true
   },
   "outputs": [
    {
     "name": "stdout",
     "output_type": "stream",
     "text": [
      "Parameter containing:\n",
      "tensor([0.3990, 0.5167, 0.0249, 0.9401, 0.9459, 0.7967, 0.4150, 0.8203, 0.2290,\n",
      "        0.9096], device='cuda:0', requires_grad=True)\n",
      "Parameter containing:\n",
      "tensor([0.7874], device='cuda:0', requires_grad=True)\n",
      "Parameter containing:\n",
      "tensor([0.4503], device='cuda:0', requires_grad=True)\n",
      "epoch 0 loss 27.48686408996582 :\n",
      "epoch 0 cause loss 4.287822246551514\n",
      "epoch 0 target loss 434.9068603515625\n",
      "epoch 0 loss 466.6815490722656 :\n",
      "------------------------------------------------------\n",
      "\n",
      "epoch 1 loss 27.025388717651367 :\n",
      "epoch 1 cause loss 3.7400200366973877\n",
      "epoch 1 target loss 370.09320068359375\n",
      "epoch 1 loss 400.8586120605469 :\n",
      "------------------------------------------------------\n",
      "\n",
      "epoch 2 loss 26.581005096435547 :\n",
      "epoch 2 cause loss 3.258711576461792\n",
      "epoch 2 target loss 316.2395935058594\n",
      "epoch 2 loss 346.07928466796875 :\n",
      "------------------------------------------------------\n",
      "\n",
      "epoch 3 loss 26.152889251708984 :\n",
      "epoch 3 cause loss 2.8372271060943604\n",
      "epoch 3 target loss 271.49920654296875\n",
      "epoch 3 loss 300.48931884765625 :\n",
      "------------------------------------------------------\n",
      "\n",
      "epoch 4 loss 25.739452362060547 :\n",
      "epoch 4 cause loss 2.4691145420074463\n",
      "epoch 4 target loss 234.28164672851562\n",
      "epoch 4 loss 262.4902038574219 :\n",
      "------------------------------------------------------\n",
      "\n",
      "epoch 5 loss 25.33877182006836 :\n",
      "epoch 5 cause loss 2.148390293121338\n",
      "epoch 5 target loss 203.26632690429688\n",
      "epoch 5 loss 230.75347900390625 :\n",
      "------------------------------------------------------\n",
      "\n",
      "epoch 6 loss 24.949626922607422 :\n",
      "epoch 6 cause loss 1.86952543258667\n",
      "epoch 6 target loss 177.3469696044922\n",
      "epoch 6 loss 204.16612243652344 :\n",
      "------------------------------------------------------\n",
      "\n",
      "epoch 7 loss 24.57053565979004 :\n",
      "epoch 7 cause loss 1.6274759769439697\n",
      "epoch 7 target loss 155.61610412597656\n",
      "epoch 7 loss 181.81411743164062 :\n",
      "------------------------------------------------------\n",
      "\n",
      "epoch 8 loss 24.20035743713379 :\n",
      "epoch 8 cause loss 1.4176905155181885\n",
      "epoch 8 target loss 137.3284912109375\n",
      "epoch 8 loss 162.946533203125 :\n",
      "------------------------------------------------------\n",
      "\n",
      "epoch 9 loss 23.837953567504883 :\n",
      "epoch 9 cause loss 1.236074447631836\n",
      "epoch 9 target loss 121.8752670288086\n",
      "epoch 9 loss 146.9492950439453 :\n",
      "------------------------------------------------------\n",
      "\n",
      "Parameter containing:\n",
      "tensor([0.3130, 0.4421, 0.0250, 0.9408, 0.9474, 0.7598, 0.4523, 0.9204, 0.1359,\n",
      "        1.0110], device='cuda:0', requires_grad=True)\n",
      "Parameter containing:\n",
      "tensor([0.8809], device='cuda:0', requires_grad=True)\n",
      "Parameter containing:\n",
      "tensor([0.5418], device='cuda:0', requires_grad=True)\n"
     ]
    }
   ],
   "source": [
    "model = RBFnet(input_cause.size()[0], 1, input_cause.size()[1])\n",
    "print(model.networks[1].init_weight_cause)\n",
    "print(model.networks[1].cause_std)\n",
    "print(model.networks[1].target_std)\n",
    "loss, best_model = train_rbf(model, input_cause, input_target, Y, 0.01, 10, device)\n",
    "print(best_model.networks[1].init_weight_cause)\n",
    "print(best_model.networks[1].cause_std)\n",
    "print(model.networks[1].target_std)"
   ]
  },
  {
   "cell_type": "code",
   "execution_count": 6,
   "id": "799aa209",
   "metadata": {},
   "outputs": [
    {
     "data": {
      "text/plain": [
       "[tensor([-0.8106], device='cuda:0', grad_fn=<SubBackward0>),\n",
       " tensor([-0.6116], device='cuda:0', grad_fn=<SubBackward0>),\n",
       " tensor([-0.1855], device='cuda:0', grad_fn=<SubBackward0>),\n",
       " tensor([-0.0252], device='cuda:0', grad_fn=<SubBackward0>),\n",
       " tensor([-0.0016], device='cuda:0', grad_fn=<SubBackward0>),\n",
       " tensor([-4.4848e-05], device='cuda:0', grad_fn=<SubBackward0>),\n",
       " tensor([-5.8956e-07], device='cuda:0', grad_fn=<SubBackward0>),\n",
       " tensor([-3.5646e-09], device='cuda:0', grad_fn=<SubBackward0>)]"
      ]
     },
     "execution_count": 6,
     "metadata": {},
     "output_type": "execute_result"
    }
   ],
   "source": [
    "time = torch.tensor([0,1,2,3,4,5,6,7,8,9], device = device)\n",
    "best_model.networks[0].rbf_num_grad(time, \"cause\")"
   ]
  },
  {
   "cell_type": "code",
   "execution_count": 8,
   "id": "1228e00b",
   "metadata": {},
   "outputs": [
    {
     "data": {
      "text/plain": [
       "[tensor([-1.7680], device='cuda:0', grad_fn=<MulBackward0>),\n",
       " tensor([-1.0008], device='cuda:0', grad_fn=<MulBackward0>),\n",
       " tensor([-0.2002], device='cuda:0', grad_fn=<MulBackward0>),\n",
       " tensor([-0.0165], device='cuda:0', grad_fn=<MulBackward0>),\n",
       " tensor([-0.0006], device='cuda:0', grad_fn=<MulBackward0>),\n",
       " tensor([-9.2283e-06], device='cuda:0', grad_fn=<MulBackward0>),\n",
       " tensor([-6.4977e-08], device='cuda:0', grad_fn=<MulBackward0>),\n",
       " tensor([-2.0624e-10], device='cuda:0', grad_fn=<MulBackward0>)]"
      ]
     },
     "execution_count": 8,
     "metadata": {},
     "output_type": "execute_result"
    }
   ],
   "source": [
    "best_model.networks[0].rbf_grad(time, \"cause\")"
   ]
  },
  {
   "cell_type": "code",
   "execution_count": 12,
   "id": "1c663870",
   "metadata": {},
   "outputs": [
    {
     "data": {
      "text/plain": [
       "tensor([ 0.0990,  2.3833,  6.1237,  8.7908,  8.6702,  8.3957,  6.3754,  0.7887,\n",
       "        -3.0315, -3.0010], device='cuda:0')"
      ]
     },
     "execution_count": 12,
     "metadata": {},
     "output_type": "execute_result"
    }
   ],
   "source": [
    "input_cause[0]"
   ]
  },
  {
   "cell_type": "code",
   "execution_count": 9,
   "id": "d8487f61",
   "metadata": {},
   "outputs": [
    {
     "data": {
      "text/plain": [
       "Parameter containing:\n",
       "tensor([0.8812], device='cuda:0', requires_grad=True)"
      ]
     },
     "execution_count": 9,
     "metadata": {},
     "output_type": "execute_result"
    }
   ],
   "source": [
    "best_model.networks[0].cause_std"
   ]
  },
  {
   "cell_type": "code",
   "execution_count": 10,
   "id": "33c3100b",
   "metadata": {},
   "outputs": [
    {
     "data": {
      "text/plain": [
       "Parameter containing:\n",
       "tensor([-0.0779], device='cuda:0', requires_grad=True)"
      ]
     },
     "execution_count": 10,
     "metadata": {},
     "output_type": "execute_result"
    }
   ],
   "source": [
    "best_model.networks[0].cause_clt"
   ]
  },
  {
   "cell_type": "code",
   "execution_count": 11,
   "id": "0b17a885",
   "metadata": {},
   "outputs": [],
   "source": [
    "def rbf(x, cluster, std):\n",
    "    return torch.exp(-(x - cluster) * (x - cluster) / 2 * (std * std))"
   ]
  },
  {
   "cell_type": "code",
   "execution_count": 14,
   "id": "f4aa2a84",
   "metadata": {},
   "outputs": [],
   "source": [
    "a = rbf(input_cause[0], best_model.networks[0].cause_clt, best_model.networks[0].cause_std)"
   ]
  },
  {
   "cell_type": "code",
   "execution_count": 20,
   "id": "4c935bd4",
   "metadata": {},
   "outputs": [
    {
     "data": {
      "text/plain": [
       "tensor([9.8792e-01, 9.5180e-02, 3.2686e-07, 5.4479e-14, 1.2437e-13, 7.7950e-13,\n",
       "        9.4885e-08, 7.4705e-01, 3.3794e-02, 3.6235e-02], device='cuda:0',\n",
       "       grad_fn=<ExpBackward>)"
      ]
     },
     "execution_count": 20,
     "metadata": {},
     "output_type": "execute_result"
    }
   ],
   "source": [
    "a"
   ]
  },
  {
   "cell_type": "code",
   "execution_count": 22,
   "id": "5dea5ffb",
   "metadata": {
    "scrolled": true
   },
   "outputs": [
    {
     "data": {
      "text/plain": [
       "<matplotlib.collections.PathCollection at 0x2087ae34250>"
      ]
     },
     "execution_count": 22,
     "metadata": {},
     "output_type": "execute_result"
    },
    {
     "data": {
      "image/png": "[encoded data removed]",
      "text/plain": [
       "<Figure size 432x288 with 1 Axes>"
      ]
     },
     "metadata": {
      "needs_background": "light"
     },
     "output_type": "display_data"
    }
   ],
   "source": [
    "import matplotlib.pyplot as plt\n",
    "plt.scatter([0,1,2,3,4,5,6,7,8,9],a.detach().cpu())"
   ]
  },
  {
   "cell_type": "code",
   "execution_count": 31,
   "id": "64443333",
   "metadata": {},
   "outputs": [
    {
     "data": {
      "text/plain": [
       "tensor([ 0.0990,  2.3833,  6.1237,  8.7908,  8.6702,  8.3957,  6.3754,  0.7887,\n",
       "        -3.0315, -3.0010], device='cuda:0')"
      ]
     },
     "execution_count": 31,
     "metadata": {},
     "output_type": "execute_result"
    }
   ],
   "source": [
    "input_cause[0]"
   ]
  },
  {
   "cell_type": "code",
   "execution_count": 30,
   "id": "de17ab68",
   "metadata": {},
   "outputs": [
    {
     "data": {
      "text/plain": [
       "<matplotlib.collections.PathCollection at 0x2088807e2e0>"
      ]
     },
     "execution_count": 30,
     "metadata": {},
     "output_type": "execute_result"
    },
    {
     "data": {
      "image/png": "[encoded data removed]",
      "text/plain": [
       "<Figure size 432x288 with 1 Axes>"
      ]
     },
     "metadata": {
      "needs_background": "light"
     },
     "output_type": "display_data"
    }
   ],
   "source": [
    "plt.scatter([0,1,2,3,4,5,6,7,8,9],input_cause[0].detach().cpu())"
   ]
  },
  {
   "cell_type": "code",
   "execution_count": 29,
   "id": "9e2043dd",
   "metadata": {},
   "outputs": [
    {
     "data": {
      "text/plain": [
       "[<matplotlib.lines.Line2D at 0x20888021ac0>]"
      ]
     },
     "execution_count": 29,
     "metadata": {},
     "output_type": "execute_result"
    },
    {
     "data": {
      "image/png": "[encoded data removed]",
      "text/plain": [
       "<Figure size 432x288 with 1 Axes>"
      ]
     },
     "metadata": {
      "needs_background": "light"
     },
     "output_type": "display_data"
    }
   ],
   "source": [
    "x = np.arange(-1, 1, 0.1)\n",
    "y = [np.exp(-(b + 0.0779)*(b +0.0779) /0.8812**2 *2) for b in x]\n",
    "plt.plot(x,y)"
   ]
  },
  {
   "cell_type": "code",
   "execution_count": null,
   "id": "48d37ee9",
   "metadata": {},
   "outputs": [],
   "source": []
  },
  {
   "cell_type": "code",
   "execution_count": null,
   "id": "5e2e4b3a",
   "metadata": {},
   "outputs": [],
   "source": []
  }
 ],
 "metadata": {
  "kernelspec": {
   "display_name": "Python 3",
   "language": "python",
   "name": "python3"
  },
  "language_info": {
   "codemirror_mode": {
    "name": "ipython",
    "version": 3
   },
   "file_extension": ".py",
   "mimetype": "text/x-python",
   "name": "python",
   "nbconvert_exporter": "python",
   "pygments_lexer": "ipython3",
   "version": "3.8.8"
  }
 },
 "nbformat": 4,
 "nbformat_minor": 5
}
