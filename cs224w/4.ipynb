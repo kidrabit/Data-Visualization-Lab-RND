{
 "cells": [
  {
   "cell_type": "code",
   "execution_count": null,
   "id": "d1e9135b",
   "metadata": {},
   "outputs": [],
   "source": [
    "def find_similarties(given_image_name):\n",
    "    image_similarities = dict()\n",
    "    for current_name in image_names:\n",
    "        \n",
    "        if current_name != given_image_name:\n",
    "            \n",
    "            current_image = image_vector_dictionary[current_name]\n",
    "            given_image = image_vector_dictionary[given_image_name]\n",
    "            \n",
    "            similarity = cosine_similarity(given_image, current_image)\n",
    "            \n",
    "            image_similarities[current_name] = similarity\n",
    "            \n",
    "            \n",
    "    return image_similarities"
   ]
  }
 ],
 "metadata": {
  "kernelspec": {
   "display_name": "Python 3",
   "language": "python",
   "name": "python3"
  },
  "language_info": {
   "codemirror_mode": {
    "name": "ipython",
    "version": 3
   },
   "file_extension": ".py",
   "mimetype": "text/x-python",
   "name": "python",
   "nbconvert_exporter": "python",
   "pygments_lexer": "ipython3",
   "version": "3.8.8"
  }
 },
 "nbformat": 4,
 "nbformat_minor": 5
}
