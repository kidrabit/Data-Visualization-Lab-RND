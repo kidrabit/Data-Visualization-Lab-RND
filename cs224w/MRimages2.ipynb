{
 "cells": [
  {
   "cell_type": "markdown",
   "id": "1ceba9c2",
   "metadata": {},
   "source": [
    "# A Structural Causal Model for MR Images of Multiple Sclerosis"
   ]
  },
  {
   "cell_type": "markdown",
   "id": "5e75e76a",
   "metadata": {},
   "source": [
    "- Answers to such counterfactual questions improve our understanding of the relationship between the clinical phenotype and the presentation of disease in MR images\n",
    "\n",
    "- Studying this relationship is of particular interest in MS because of the “clinico-radiological paradox,” which has to do with the moderate correlation between lesion burden and cognitive performance in people with MS\n",
    "\n",
    "- Our contributions are: \n",
    " \n",
    " \n",
    "1) an extension of the SCM proposed by Pawlowski et al. to include covariates related to MS and \n",
    "\n",
    "\n",
    "2) a novel method to generate realistic high-resolution counterfactual images with the variational autoencoders (VAE) embedded in the SCM."
   ]
  }
 ],
 "metadata": {
  "kernelspec": {
   "display_name": "Python 3",
   "language": "python",
   "name": "python3"
  },
  "language_info": {
   "codemirror_mode": {
    "name": "ipython",
    "version": 3
   },
   "file_extension": ".py",
   "mimetype": "text/x-python",
   "name": "python",
   "nbconvert_exporter": "python",
   "pygments_lexer": "ipython3",
   "version": "3.8.8"
  }
 },
 "nbformat": 4,
 "nbformat_minor": 5
}
