{
 "cells": [
  {
   "cell_type": "code",
   "execution_count": null,
   "id": "f6ed7dde",
   "metadata": {},
   "outputs": [],
   "source": [
    "def train(epoch, traindata, traintarget, modelname, optimizer,log_interval,epochs):\n",
    "    \"\"\"Trains model by performing one epoch and returns attention scores and loss.\"\"\"\n",
    "\n",
    "    modelname.train()\n",
    "    x, y = traindata[0:1], traintarget[0:1]\n",
    "        \n",
    "    optimizer.zero_grad()\n",
    "    epochpercentage = (epoch/float(epochs))*100\n",
    "    output = modelname(x)\n",
    "\n",
    "    attentionscores = modelname.fs_attention\n",
    "    \n",
    "    loss = F.mse_loss(output, y)\n",
    "    loss.backward()\n",
    "    optimizer.step()\n",
    "\n",
    "    if epoch % log_interval ==0 or epoch % epochs == 0 or epoch==1:\n",
    "        print('Epoch: {:2d} [{:.0f}%] \\tLoss: {:.6f}'.format(epoch, epochpercentage, loss))\n",
    "\n",
    "    return attentionscores.data, loss"
   ]
  }
 ],
 "metadata": {
  "kernelspec": {
   "display_name": "Python 3",
   "language": "python",
   "name": "python3"
  },
  "language_info": {
   "codemirror_mode": {
    "name": "ipython",
    "version": 3
   },
   "file_extension": ".py",
   "mimetype": "text/x-python",
   "name": "python",
   "nbconvert_exporter": "python",
   "pygments_lexer": "ipython3",
   "version": "3.8.8"
  }
 },
 "nbformat": 4,
 "nbformat_minor": 5
}
