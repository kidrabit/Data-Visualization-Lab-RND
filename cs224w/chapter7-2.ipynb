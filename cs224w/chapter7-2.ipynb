{
 "cells": [
  {
   "cell_type": "markdown",
   "id": "9ea30af7",
   "metadata": {},
   "source": [
    "### node2vec \n",
    "  - vanila Random walk는 먼 거리의 노드까지 갈 확률은 제한적이다.(지역적인 view만 고려)\n",
    "  - 이를 보안하기 위해 biased 2nd order Strategy R을 사용(global view 고려하기 위해)\n",
    "  - 지역적 view를 BFS(넓이 우선 탐색)로, 전역적 view를 DFS(깊이 우선 탐색)으로 Random-walk를 시행(trade off 발생)\n",
    "  - two paramters \n",
    "    - Return parameter p : 바로 이전 node로 돌아감 (p가 작을수록 돌아갈 확률이 높아짐)\n",
    "    - in-out parameter q : DFS, BFS를 선택하는 비율 (q가 작을수록 머리 나아갈 확률이 높아짐)\n",
    "    \n",
    "#### node2vec algorithm \n",
    "  - 1) compute random walk probabilties\n",
    "  - 2) simulate r random walks of length l stration from eaach node u\n",
    "  - 3) Optimize the node2vec objective using SGD\n",
    "  - all 3 steps are individually parallelizable\n",
    "\n",
    "\n",
    "# Translating Embeddings for Modeling Multi-relational Data\n",
    " \n",
    " ### Knowledge Graph\n",
    "   - node를 entity로, edge를 relation으로 표현(relation의 타입은 일반적으로 graph와달리 다양할수 있다)\n",
    "   - 불완전성은 system에 부정적은 영향을 많이 미침\n",
    "   - 즉, Link prediction Task가 중요\n",
    "   \n",
    " ### Translating Embeddings\n",
    "   - TranE는 Entity를 triplets으로 나타낸다. (h(head entity), l(relation), t(tail entity)) => (h,l,t)\n",
    "   - 엔터티들은 entity space $R^k$로 embedded 된다.\n",
    "   - 이렇게 Entity에서 Relation Space로 매핑되는 것을 Traslation이라고 한다.\n",
    "   - 학습과정\n",
    "     - 1) 하나의 relation에 대하여 Positive sample과 Negative Sample을 선택한다. (Positive Sample은 정상 Triplet이고, Negative Sample은 억지로 만든 틀린 Triplet이다)  \n",
    "     - 2) 목적함수에 따라 Embedding을 업데이트 시킨다. node2vec에서는 Pos Sample의 내적이 커지고 Neg Sample 내적을 작게만들었다면, 여기서는 Pos Sample Translation의 거리를 최소화하고, Neg Sample Translation의 거리를 최대화 한다.\n",
    "     \n",
    "     - 결과가 수렴하는 양상을 띠면 embedding이 완료되었다고 볼 수 있다."
   ]
  },
  {
   "cell_type": "code",
   "execution_count": null,
   "id": "b3e5a446",
   "metadata": {},
   "outputs": [],
   "source": []
  }
 ],
 "metadata": {
  "kernelspec": {
   "display_name": "Python 3",
   "language": "python",
   "name": "python3"
  },
  "language_info": {
   "codemirror_mode": {
    "name": "ipython",
    "version": 3
   },
   "file_extension": ".py",
   "mimetype": "text/x-python",
   "name": "python",
   "nbconvert_exporter": "python",
   "pygments_lexer": "ipython3",
   "version": "3.8.8"
  }
 },
 "nbformat": 4,
 "nbformat_minor": 5
}
