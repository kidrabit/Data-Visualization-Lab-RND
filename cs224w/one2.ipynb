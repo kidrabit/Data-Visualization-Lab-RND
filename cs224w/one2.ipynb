{
 "cells": [
  {
   "cell_type": "code",
   "execution_count": null,
   "metadata": {},
   "outputs": [],
   "source": [
    "def creat_input_target(x, timelag= 12, col_name = None):\n",
    "\n",
    "    # x : dataframe\n",
    "    # timelag : int\n",
    "    # target_name = str, Predict column name\n",
    "\n",
    "    input_ = []\n",
    "    target = []\n",
    "    L = len(input_)\n",
    "    target_col = x[col_name]\n",
    "    for i in range(L - timelag - 1):\n",
    "        train_seq = x[i:i+timelag]\n",
    "        train_target = target_col[i+timelag+1]\n",
    "        input_.append(train_seq)\n",
    "        target.append(train_target)\n",
    "\n",
    "    return input_, target"
   ]
  }
 ],
 "metadata": {
  "kernelspec": {
   "display_name": "Python 3",
   "language": "python",
   "name": "python3"
  },
  "language_info": {
   "codemirror_mode": {
    "name": "ipython",
    "version": 3
   },
   "file_extension": ".py",
   "mimetype": "text/x-python",
   "name": "python",
   "nbconvert_exporter": "python",
   "pygments_lexer": "ipython3",
   "version": "3.8.3"
  },
  "toc": {
   "base_numbering": 1,
   "nav_menu": {},
   "number_sections": true,
   "sideBar": true,
   "skip_h1_title": false,
   "title_cell": "Table of Contents",
   "title_sidebar": "Contents",
   "toc_cell": false,
   "toc_position": {},
   "toc_section_display": true,
   "toc_window_display": false
  }
 },
 "nbformat": 4,
 "nbformat_minor": 4
}
