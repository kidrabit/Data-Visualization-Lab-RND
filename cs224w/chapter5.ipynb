{
 "cells": [
  {
   "cell_type": "markdown",
   "metadata": {},
   "source": [
    "# Spectral Clustering\n",
    " - basic stages of spectral clustering algorithm\n",
    " - 1) pre- processing\n",
    "    - construct a matrix representation of the graph\n",
    " - 2) decomposition(분해)\n",
    "    - compute eigenvalues and eigenvectors of the matrix\n",
    "    - map each point to a lower-dimensional representation based on one or more eigenvectors\n",
    " - 3) Groping\n",
    "    - assign points to two or more clusters, based on the new representation"
   ]
  },
  {
   "cell_type": "markdown",
   "metadata": {},
   "source": [
    "### graph partitioning\n",
    "  - undirected graph G(V,E)\n",
    "  - Bi-partitioning task: group를 두개로 나눈다.\n",
    "  - good partition : maximize the number of within group connections, minimize the number of betwwen group connections\n",
    "      - express partitioning objectives as a function of the \"edge cut\" of the partition\n",
    "      - good partition을 구하기 위해 $cut(A,B) = \\sum_{i \\in A, j \\in B}w_ij$을 계산해야된다. (A,B : group)\n",
    "      - 위의 cut을 이용해 conductance를 구해준다.\n",
    "         - conductance:  A와 B의 Volume 중 더 작은 볼륨(특정 그룹내에 있는 모든 weighted degree의 합)을 나눠줌\n",
    "         - conductance = $cut(A,B) / min(vol(A), vol(B))$ ($vol(A) = \\sum_{i \\in A}k_i$ )\n",
    "         \n",
    "        \n",
    "   -> how do we effocoently find a good partition\n",
    "   -> 위와 같이 정의한 cut으로 best conducatance를 계산하여 나누면 되지만 이것은 매우 어렵다고 한다."
   ]
  },
  {
   "cell_type": "markdown",
   "metadata": {},
   "source": [
    "## spectal Graph Partitioning\n",
    "  - adjacency matrix A가 있다고 할때 벡터 X에 대해서 eigenvalue를 구할수있다.\n",
    "  - $ A * X = \\lambda X$ 이때 X는 eigenvector가 된다.\n",
    "  - 이때 eigenvalue,eigenvector를 가지고 spectral Graph partitioning을 진행 할것이다.\n",
    "  ### spectral Graph Theory\n",
    "    - Analyze the spectrum of matrix representin G\n",
    "    - Spectrum: Eigenvectors $x^i$ of a graph, ordered by the magnitude of their corresponding eigenvalues $\\lambda_i$\n",
    "    - adjacecy matrix (A)의 특징\n",
    "        - symmetric matrix\n",
    "        - has n real eigenvalues\n",
    "        - eigenvectors are real-valued and orthogonal(직교)\n",
    "    - Degree matrix(D)\n",
    "        - n * n diagonal matrix\n",
    "        \n",
    "    - Lapancian matrix (L)\n",
    "        - n * n symmetric matrix  L = D - A\n",
    "        - if x = (1,1,...,1) then Lx = 0 and so $\\lambda = \\lambda_1$ = 0\n",
    "        - 특징: eigenvectors are real-valued and orthogonal(직교), eigenvalues has real number(non - negative)\n",
    "        \n",
    "    - $\\lambda_2$(두번째로 작은 람다) as an optimization problem\n",
    "        - 대칭 행렬 M에서 $\\lambda_2 = min_{x^Tw_1 = 0}   x^TMx / x^Tx$  ($w_1$ : 람다1에 대한 eigenvector )\n",
    "        - 이러할때 M -> L로 바꾸면 $x^TLx$의 의미는 $sum_{(i,j) \\in E}(x_i - x_j)^2$이다.\n",
    "        - 위의 의미로 보아 $\\lambda_2$를 통해 x를 구할수 있다.\n",
    "           - x is unit vector : $\\sum_i x_i^2 = 1$\n",
    "           - x is orthogonal to first eigenvector (1,...,1) thus: $\\sum_i x_i  = 0$\n",
    "    \n",
    "    - 다시 최적의 cut을 찾는 것으로 돌아가서, $y_i$를 $i \\in A$ 일때 1, $i \\in B$ 일 때 -1라 정의하면 A,B의 크기가 같을 때 모든 $y_i$를 더한 값은 0이 된다.\n",
    "    - 여기서 vector y를 최소화 하는 partion cut을 찾으면 된다는 것을 알 수 있다.\n",
    "    - $arg min_{y \\in {-1,1}^n} f(y) = \\sum_{(i,j) \\in E} (y_i - y_j)^2$ 즉, A,B를 cross하는 Edge를 찾는거와 같다고 한다.(이해안감)\n",
    "   ### Reyleigh Theorem\n",
    "    - 위의 식에 Lapancian matrix로 표현하면 $arg min_{y \\in {-1,1}^n} f(y) = \\sum_{(i,j) \\in E} (y_i - y_j)^2 = y^TLy$로 표현할수 있다.\n",
    "    - 이것은 $\\lambda_2 = min_yf(y)$의 문제로 해석할수 있다.\n",
    "    - 즉, $x = argmin_yf(y)$의 문제로 해결할수 있다."
   ]
  },
  {
   "cell_type": "markdown",
   "metadata": {},
   "source": [
    "### 현재까지의 내용 정리\n",
    " - how to define a 'good' partition of a graph : minimze a given graph cyt criterion\n",
    " - how to efficiently identify such a partition : approximate using information prodvided by the eigenvalues and eigenvectors of a graph"
   ]
  },
  {
   "cell_type": "markdown",
   "metadata": {},
   "source": [
    "## Spectral Partitioning Algorithm\n",
    " - 1) pre-processing : 그래프에 대해 Lapancian matrix 정의\n",
    " - 2) Decomposition : 행렬 L에 대해 고유값 고유벡터 찾기, map verices to corresponding components of x2\n",
    " - 3) Grouping : sort components of redueced 1-dimensional vector, Identify clusters by splitting the sorted vector in two\n",
    " ### how to choose a splitting poing\n",
    "   - 1) 기초적인 방법 : 0 or median value값으로 나누기 ex) $\\lambda_2$에 해당하는 eigen vector의 각 값들을 나열했을 때, median값을 기준으로 잘라서 node를 나누면 됩니다\n",
    "   - 2) 진화된 방법: attempt to minimize normalized cut in 1-dimension(sweep over ordering of nodes induced by the eigenvector)\n",
    " ### k-way spectral clustering\n",
    "   - 지금까지 2개의 part로 나누었다.(이제는 k개)\n",
    "   - 기초적인 방법 : recursive bi-partitioning\n",
    "   - 다른 방법 : Cluster multiple eigenvectors\n",
    "       - Bulid a reduced space from multiple eigenvectors\n",
    "          - 각 node는 k개를 대표한다.\n",
    "          - 우리는 (k-means)와 유사하게 k-dim을 사용하여 cluser한다.\n",
    "       - multiple eigenvectors를 사용하는이유\n",
    "          - eigen value들은 다음과 같은 의미도 가지고 있기 때문\n",
    "          - $\\lambda_2 = 0$ iff G is disconnected\n",
    "          - $\\lambda_k = 0$ has at least k connected components\n",
    "          - $\\lambda_n = 2$ has a birpartiie connected component\n",
    "          - 이러한 이유때문에 사용하는게 아닌가 생각한다.\n",
    "  \n",
    "  ### how to select k\n",
    "   - gap을 보고 알수있다. -> Eigengap\n"
   ]
  },
  {
   "cell_type": "markdown",
   "metadata": {},
   "source": [
    "지금까지의 내용은 eigengap을 이용한 spectral clustering내용이다 하지만 이것 말고도 다양한 spectral clustering이 존재한다."
   ]
  },
  {
   "cell_type": "code",
   "execution_count": null,
   "metadata": {},
   "outputs": [],
   "source": []
  }
 ],
 "metadata": {
  "kernelspec": {
   "display_name": "Python 3",
   "language": "python",
   "name": "python3"
  },
  "language_info": {
   "codemirror_mode": {
    "name": "ipython",
    "version": 3
   },
   "file_extension": ".py",
   "mimetype": "text/x-python",
   "name": "python",
   "nbconvert_exporter": "python",
   "pygments_lexer": "ipython3",
   "version": "3.8.5"
  }
 },
 "nbformat": 4,
 "nbformat_minor": 4
}
