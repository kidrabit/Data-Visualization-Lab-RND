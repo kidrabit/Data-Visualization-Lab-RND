{
 "cells": [
  {
   "cell_type": "code",
   "execution_count": 1,
   "id": "c27bb08a",
   "metadata": {},
   "outputs": [],
   "source": [
    "import numpy as np\n",
    "import pandas as pd\n",
    "import matplotlib.pyplot as plt\n",
    "\n",
    "df = pd.read_csv('C:/Users/chanyoung/Desktop/Neural-GC-master/lorenz_96_10_10_1000.csv')\n",
    "X = df[['a','b']].values"
   ]
  },
  {
   "cell_type": "code",
   "execution_count": 2,
   "id": "1d36f5c9",
   "metadata": {},
   "outputs": [],
   "source": [
    "def data_split(X, timelag = 10):\n",
    "    data = []\n",
    "    Y = []\n",
    "    for i in range(len(X) - 11):\n",
    "        data.append(X[i:i+10])\n",
    "        Y.append(X[i+11])\n",
    "\n",
    "    return data, Y"
   ]
  },
  {
   "cell_type": "code",
   "execution_count": 17,
   "id": "2ae451b4",
   "metadata": {},
   "outputs": [],
   "source": [
    "class RBFtimenet2d(object):\n",
    "    # This is one layer RBFnn, one-dims\n",
    "    def __init__(self, timelag = 10, lr = 0.01, epochs = 100, inferStds = True, seed = 1234):\n",
    "        self.lr = lr\n",
    "        self.epochs = epochs\n",
    "        self.inferStds = inferStds\n",
    "        self.seed = seed\n",
    "        self.timelag = timelag\n",
    "        np.random.seed(self.seed)\n",
    "\n",
    "\n",
    "    def cluster(self, X):\n",
    "        # simple cluster means and stds list about time series data\n",
    "        clusters = []\n",
    "        stds = []\n",
    "        cov = []\n",
    "        for x in X:\n",
    "\n",
    "            clu1, clu2 = np.mean(x[:, 0]), np.mean(x[:, 1])\n",
    "            clusters.append([clu1, clu2])\n",
    "            \n",
    "            '''\n",
    "            std1, std2 = np.std(x[:, 0]), np.std(x[:, 1])\n",
    "            stds.append([std1, std2])\n",
    "            '''\n",
    "            cov.append(np.cov((x.T)))\n",
    "\n",
    "        return clusters, cov\n",
    "        # 확인 완료\n",
    "\n",
    "    def rbf(self, x, clusters, cov):\n",
    "        return np.exp(-1*((x[0] -clusters[0])**2 + (x[1] - clusters[1])**2)/\n",
    "                      (np.linalg.inv(cov) * np.linalg.inv(cov)))\n",
    "\n",
    "    def fit(self, X, y):\n",
    "\n",
    "        self.c, self.cov = self.cluster(X)\n",
    "        self.w_xx = np.random.randn(len(X),10)\n",
    "        self.w_yy = np.random.randn(len(X), 10)\n",
    "        self.b= np.random.randn(len(X),1)\n",
    "\n",
    "\n",
    "        # training\n",
    "        loss_list = []\n",
    "        loss_mean_list = []\n",
    "        F_list_epoch = []\n",
    "        for epoch in range(self.epochs):\n",
    "            loss_list2 = []\n",
    "            print('{} epoch train'.format(epoch))\n",
    "            pred_list = []\n",
    "            for i in range(len(X)):\n",
    "                rbf_X = np.array([self.rbf(x, self.c[i], self.cov[i]) for x in X[i]])\n",
    "                \n",
    "                rbf_xx = np.array([rbf_X[i][0][0] for i in range(len(rbf_X))])\n",
    "                rbf_yy = np.array([rbf_X[k][1][1] for k in range(len(rbf_X))])\n",
    "                \n",
    "                F = self.w_xx[i].T.dot(rbf_xx) + self.w_yy[i].T.dot(rbf_yy) + self.b[i]\n",
    "                \n",
    "                loss = -(y[i][1] - F)\n",
    "                \n",
    "                # loss predict value save\n",
    "                loss_list2.append(np.abs(loss))\n",
    "                pred_list.append(F)\n",
    "\n",
    "                # weight, bias, center, sigma update\n",
    "                self.w_xx[i] += self.lr * rbf_xx * loss\n",
    "                self.w_yy[i] += self.lr * rbf_yy * loss\n",
    "                self.b[i] += self.lr * loss\n",
    "                \n",
    "                self.c[i] += self.lr * loss\n",
    "                \n",
    "            F_list_epoch.append(pred_list)\n",
    "            loss_list.append(loss_list2)\n",
    "            loss_mean_list.append(np.mean(loss_list2))\n",
    "            print(\"{} epoch loss:\".format(epoch), np.mean(loss_list2))\n",
    "            print('---------------------------------------')\n",
    "            print()\n",
    "\n",
    "            if epoch >= 5 and (loss_mean_list[epoch] > min(loss_mean_list[epoch - 5:epoch - 1])):\n",
    "                print(\"early stopping at {} epoch\".format(epoch))\n",
    "                return loss_mean_list, F_list_epoch, loss_list\n",
    "\n",
    "            else:\n",
    "                continue\n",
    "\n",
    "        return loss_mean_list, F_list_epoch, loss_list"
   ]
  },
  {
   "cell_type": "code",
   "execution_count": 18,
   "id": "70c0bb34",
   "metadata": {},
   "outputs": [
    {
     "name": "stdout",
     "output_type": "stream",
     "text": [
      "0 epoch train\n",
      "0 epoch loss: 4.313919015707323\n",
      "---------------------------------------\n",
      "\n",
      "1 epoch train\n",
      "1 epoch loss: 4.319882511289515\n",
      "---------------------------------------\n",
      "\n",
      "2 epoch train\n",
      "2 epoch loss: 4.32587904326755\n",
      "---------------------------------------\n",
      "\n",
      "3 epoch train\n",
      "3 epoch loss: 4.331910655652857\n",
      "---------------------------------------\n",
      "\n",
      "4 epoch train\n",
      "4 epoch loss: 4.337979090949457\n",
      "---------------------------------------\n",
      "\n",
      "5 epoch train\n",
      "5 epoch loss: 4.344085727856526\n",
      "---------------------------------------\n",
      "\n",
      "early stopping at 5 epoch\n"
     ]
    }
   ],
   "source": [
    "df = pd.read_csv('C:/Users/chanyoung/Desktop/Neural-GC-master/lorenz_96_10_10_1000.csv')\n",
    "X2d = df[['a','b']].values\n",
    "\n",
    "lag = 10\n",
    "X_2d, Y = data_split(X2d,timelag = lag)\n",
    "rbfnet2d = RBFtimenet2d(timelag = lag,lr=1e-3,epochs = 100)\n",
    "loss_mean_list, F_list_epoch, loss_list = rbfnet2d.fit(X_2d, Y)"
   ]
  },
  {
   "cell_type": "code",
   "execution_count": 11,
   "id": "2fa1e8bf",
   "metadata": {},
   "outputs": [],
   "source": [
    "a = [[2,2], [3,3]]"
   ]
  },
  {
   "cell_type": "code",
   "execution_count": 14,
   "id": "9aa5a269",
   "metadata": {},
   "outputs": [
    {
     "ename": "NameError",
     "evalue": "name 'i' is not defined",
     "output_type": "error",
     "traceback": [
      "\u001b[1;31m---------------------------------------------------------------------------\u001b[0m",
      "\u001b[1;31mNameError\u001b[0m                                 Traceback (most recent call last)",
      "\u001b[1;32m<ipython-input-14-d99cd1a4af35>\u001b[0m in \u001b[0;36m<module>\u001b[1;34m\u001b[0m\n\u001b[1;32m----> 1\u001b[1;33m \u001b[0mnp\u001b[0m\u001b[1;33m.\u001b[0m\u001b[0marray\u001b[0m\u001b[1;33m(\u001b[0m\u001b[1;33m[\u001b[0m\u001b[0ma\u001b[0m \u001b[1;32mfor\u001b[0m \u001b[0ma\u001b[0m\u001b[1;33m[\u001b[0m\u001b[0mi\u001b[0m\u001b[1;33m]\u001b[0m\u001b[1;33m[\u001b[0m\u001b[1;36m0\u001b[0m\u001b[1;33m]\u001b[0m \u001b[1;32min\u001b[0m \u001b[0mrange\u001b[0m\u001b[1;33m(\u001b[0m\u001b[0mlen\u001b[0m\u001b[1;33m(\u001b[0m\u001b[0ma\u001b[0m\u001b[1;33m)\u001b[0m\u001b[1;33m)\u001b[0m\u001b[1;33m]\u001b[0m\u001b[1;33m)\u001b[0m\u001b[1;33m\u001b[0m\u001b[1;33m\u001b[0m\u001b[0m\n\u001b[0m",
      "\u001b[1;32m<ipython-input-14-d99cd1a4af35>\u001b[0m in \u001b[0;36m<listcomp>\u001b[1;34m(.0)\u001b[0m\n\u001b[1;32m----> 1\u001b[1;33m \u001b[0mnp\u001b[0m\u001b[1;33m.\u001b[0m\u001b[0marray\u001b[0m\u001b[1;33m(\u001b[0m\u001b[1;33m[\u001b[0m\u001b[0ma\u001b[0m \u001b[1;32mfor\u001b[0m \u001b[0ma\u001b[0m\u001b[1;33m[\u001b[0m\u001b[0mi\u001b[0m\u001b[1;33m]\u001b[0m\u001b[1;33m[\u001b[0m\u001b[1;36m0\u001b[0m\u001b[1;33m]\u001b[0m \u001b[1;32min\u001b[0m \u001b[0mrange\u001b[0m\u001b[1;33m(\u001b[0m\u001b[0mlen\u001b[0m\u001b[1;33m(\u001b[0m\u001b[0ma\u001b[0m\u001b[1;33m)\u001b[0m\u001b[1;33m)\u001b[0m\u001b[1;33m]\u001b[0m\u001b[1;33m)\u001b[0m\u001b[1;33m\u001b[0m\u001b[1;33m\u001b[0m\u001b[0m\n\u001b[0m",
      "\u001b[1;31mNameError\u001b[0m: name 'i' is not defined"
     ]
    }
   ],
   "source": [
    " np.array([x for i in range(len(a))])"
   ]
  },
  {
   "cell_type": "code",
   "execution_count": null,
   "id": "199e9690",
   "metadata": {},
   "outputs": [],
   "source": []
  }
 ],
 "metadata": {
  "kernelspec": {
   "display_name": "Python 3",
   "language": "python",
   "name": "python3"
  },
  "language_info": {
   "codemirror_mode": {
    "name": "ipython",
    "version": 3
   },
   "file_extension": ".py",
   "mimetype": "text/x-python",
   "name": "python",
   "nbconvert_exporter": "python",
   "pygments_lexer": "ipython3",
   "version": "3.8.8"
  }
 },
 "nbformat": 4,
 "nbformat_minor": 5
}
