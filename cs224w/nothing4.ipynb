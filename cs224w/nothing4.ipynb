{
 "cells": [
  {
   "cell_type": "code",
   "execution_count": null,
   "id": "771b64ec",
   "metadata": {},
   "outputs": [],
   "source": [
    "def get_params():\n",
    "    \"\"\"\n",
    "    Helper function for creating a dictionary of CCC params interactively\n",
    "\n",
    "    Returns\n",
    "    -------\n",
    "    dict\n",
    "        The main 3 parameters for passing directly into CCC.compute\n",
    "\n",
    "    \"\"\"\n",
    "    print(\"#\" * 80)\n",
    "    print(\"-\" * 80)\n",
    "    print(\"Initialize CCC Parameters: The thorns\")\n",
    "    print(\"-\" * 80, \"\\n\")\n",
    "    print(\"All the following 3 should be integers\\n\")\n",
    "    LEN_past = int(input(\"1. Window length of immediate past values: \"))\n",
    "    ADD_meas = int(input(\"2. Window length of present values: \"))\n",
    "    STEP_size = int(input(\"3. Step-size for sliding window ahead: \"))\n",
    "    print(\"\\n\", \"-\" * 80)\n",
    "    print(\"#\" * 80)\n",
    "    return {\"LEN_past\": LEN_past, \"ADD_meas\": ADD_meas, \"STEP_size\": STEP_size}"
   ]
  }
 ],
 "metadata": {
  "kernelspec": {
   "display_name": "Python 3",
   "language": "python",
   "name": "python3"
  },
  "language_info": {
   "codemirror_mode": {
    "name": "ipython",
    "version": 3
   },
   "file_extension": ".py",
   "mimetype": "text/x-python",
   "name": "python",
   "nbconvert_exporter": "python",
   "pygments_lexer": "ipython3",
   "version": "3.8.8"
  }
 },
 "nbformat": 4,
 "nbformat_minor": 5
}
