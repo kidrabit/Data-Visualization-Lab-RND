{
 "cells": [
  {
   "cell_type": "markdown",
   "id": "02f916c5",
   "metadata": {},
   "source": [
    "# Network evolution graph\n",
    "\n",
    "## Evolving Networks\n",
    " - Evolving Networks are networks that change as a function of time\n",
    " - 즉 시간에 따라 변화하는 네트워크를 뜻한다.\n",
    " - (node, link의 추가및 제거로 network가 자연스럽게 확장,변형됨)\n",
    " - <img src = \"attachment:image.png\" width = 50%>\n",
    "     - 1) network의 전체적 관점\n",
    "     - 2) 서브구조(subgraph, motifs),하위그래프 관점\n",
    "     - 3) node,link의 전체 네트워크에서의 비율\n",
    "     \n",
    "## Macroscopic of Evolution of Networks\n",
    " - How do networks evolve at the macro level\n",
    "     - what are global phenomena of network growth\n",
    " - 3가지 questions\n",
    "     - 시간이 지남에 따른 노드수와 엣지 수의 관계는 어떻게 되느냐?\n",
    "     - 네트워크가 커지면 직경은 어떻게 변하느냐?(dianeter change)\n",
    "     - 네트워크가 성장함에 따라 degree 분포는 어떻게 evolve하는가?\n",
    " \n",
    " - 시간이 지남에 따른 노드수와 엣지 수의 관계는 어떻게 되느냐?\n",
    "     - <img src =\"attachment:image.png\" width= 40%>\n",
    "     - first guess : constant average degree over time (not ture)\n",
    "     - 정상적인 네트워크의 node와 edge의 수는 로드 스케일 상에서 선형함수의 형태를 가진다.\n",
    "     - <img src=\"attachment:image-2.png\" width = 50%>\n",
    "     \n",
    " - 네트워크가 커지면 직경은 어떻게 변하느냐?(dianeter change)\n",
    "     - Prior models and intuition say that network diameter slowly grows(like long N) (not ture 일수도 있음)\n",
    "     - Diameter shrinks over time\n",
    "         - As the network grows the distances between the nodes slowly decrease\n",
    "         - 즉 그래프가 진화하면 노드간의 거리는 축소된다. -> 노드의수의 증가보다 엣지 수의 증가가 빠르기 때문\n",
    "         - 위의 결과로 average degree(연결성)가 증가하므로 밀도가 증가한다고 할 수 있다.\n",
    "     - 그렇다면 diameter의 감소는 밀도의 결과때문만인가?\n",
    "         - <img src = \"attachment:image-3.png\" width = 40%>\n",
    "     - Diameter of a Rewired Network\n",
    "         - <img src = \"attachment:image-4.png\" width = 40%>\n",
    "         - 비슷한 감소 양상 보임\n",
    "         - densification 뿐만 아니라 degree distribtion이 diameter 감소 일으킴.\n",
    "         \n",
    " - 네트워크가 성장함에 따라 degree 분포는 어떻게 evolve하는가?\n",
    "     - degree 분포의 시간적 진화와 그래프의 밀도 사이의 연관성\n",
    "     - 실제 네트워크에서 나타나는 degree distribution은 power law distribution(heavy tail)을 띈다.\n",
    "     <img src = \"attachment:image-5.png\" width = 40%>\n",
    "     - 그래프 사이즈가 증가하므로 $r_t$감소"
   ]
  },
  {
   "cell_type": "code",
   "execution_count": null,
   "id": "ca38b0e2",
   "metadata": {},
   "outputs": [],
   "source": []
  }
 ],
 "metadata": {
  "kernelspec": {
   "display_name": "Python 3",
   "language": "python",
   "name": "python3"
  },
  "language_info": {
   "codemirror_mode": {
    "name": "ipython",
    "version": 3
   },
   "file_extension": ".py",
   "mimetype": "text/x-python",
   "name": "python",
   "nbconvert_exporter": "python",
   "pygments_lexer": "ipython3",
   "version": "3.8.8"
  }
 },
 "nbformat": 4,
 "nbformat_minor": 5
}
