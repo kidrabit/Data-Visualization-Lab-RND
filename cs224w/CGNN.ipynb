{
 "cells": [
  {
   "cell_type": "markdown",
   "id": "f4022064",
   "metadata": {},
   "source": [
    "## 3. Causal Generative Neural Networks(CGNN)\n",
    "(2018  ·  Olivier Goudet, Diviyan Kalainathan, Philippe Caillou, Isabelle Guyon, David Lopez-Paz, Michèle Sebag )"
   ]
  },
  {
   "cell_type": "markdown",
   "id": "eb7a68e4",
   "metadata": {},
   "source": [
    " - CGNNs leverage conditional independencies and distributional asymmetries to discover bivariate and multivariate causal structures. \n",
    "\n",
    "\n",
    " - CGNNs make no assumption regarding the lack of confounders, and learn a differentiable generative model of the data by using backpropagation. \n",
    "\n",
    "\n",
    " - CGNNs learn functional causal models as generative neural networks, trained by backpropagation to minimize the Maximum Mean Discrepancy (MMD)  between the observational and the generated data.\n",
    "\n",
    "\n",
    " - Leveraging the representational power of deep generative models, CGNNs account for both distributional asymmetries and conditional independencies, tackle the bivariate and multivariate cases, and deal with hidden variables (confounders).\n",
    "\n",
    "\n",
    " - They estimate both the causal graph underlying the data and the full joint distribution, through the architecture and the weights of generative networks.\n",
    "\n",
    "\n",
    " - Lastly, they define differentiable joint distributions, which can be embedded within deep architectures.\n",
    "\n"
   ]
  },
  {
   "cell_type": "code",
   "execution_count": null,
   "id": "fb8468e3",
   "metadata": {},
   "outputs": [],
   "source": []
  }
 ],
 "metadata": {
  "kernelspec": {
   "display_name": "Python 3",
   "language": "python",
   "name": "python3"
  },
  "language_info": {
   "codemirror_mode": {
    "name": "ipython",
    "version": 3
   },
   "file_extension": ".py",
   "mimetype": "text/x-python",
   "name": "python",
   "nbconvert_exporter": "python",
   "pygments_lexer": "ipython3",
   "version": "3.8.8"
  }
 },
 "nbformat": 4,
 "nbformat_minor": 5
}
