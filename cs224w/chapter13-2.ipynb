{
 "cells": [
  {
   "cell_type": "markdown",
   "id": "bb922efc",
   "metadata": {},
   "source": [
    "## Epidemic models\n",
    " \n",
    " #### Spreading Models of Viruses\n",
    "  - Virus Propagation: 2 Prarmeters\n",
    "      - (Virus) Birth rate $\\beta$ : prob. an infected neighbor attacks\n",
    "      - (Virus) Death rate $\\delta$ : prob. an infected heals\n",
    "      \n",
    " #### General model : SEIR\n",
    "  - General scheme for epidemic models: Each node con go through phases(trasition probs. are governed by the model parameters)\n",
    "  <img src = 'attachment:image.png' width = 60%>\n",
    " \n",
    " #### SIR model\n",
    "  - Assuming perfect mixing (The network is a complete graph) the model dynamics are\n",
    "      - $dS/dt = -\\beta SI$\n",
    "      - $dR/dt = -\\delta I$\n",
    "      - $dI/dt = -\\beta SI - \\delta I$\n",
    "  - SIR model : Node goes through phases\n",
    "      - Models chickenpox(수두) or 페스트 :Once you heal, you can never get infected again\n",
    "      - susceptible ->$\\beta$ -> infected ->$\\delta$ -> recovered\n",
    "      <img src = 'attachment:image-2.png' width = 40%>\n",
    "      \n",
    " #### SIS model\n",
    " - Susceptible-Infective-Susceptible (SIS) model\n",
    "     - $dS/dt = -\\beta SI + \\delta I$\n",
    "     - $dI/dt = \\beta SI - \\delta I$\n",
    " - Cured nodes immediately become susceptible\n",
    " - Virus \"strength\" : $s = \\beta/\\delta$\n",
    " - Node state transition diagram:\n",
    " <img src = 'attachment:image-3.png' width = 40%>\n",
    " - Question : Epidmic threshold\n",
    "     - SIS model : Epidmic threshold of an graph G is $\\tau$, such that: If virus \"strength\" $s = \\beta/\\delta < \\tau$ the epidemic can not happen\n",
    "     - what is graph G's epidemic threshold\n",
    "     <img src = 'attachment:image-4.png' width = 40%>"
   ]
  },
  {
   "cell_type": "markdown",
   "id": "a0fb8540",
   "metadata": {},
   "source": [
    "## Application : Rumor spread modeling using SEIZ model\n",
    " - SEIZ : extension model of SIS\n",
    " <img src = 'attachment:image.png' width = 40%>\n",
    " <img src = 'attachment:image-2.png' width = 70%>\n",
    " - data : tweets collected from eight stories: Four rumors and four real\n",
    " \n",
    " #### Fitting SEIZ model to data\n",
    "  - SEIZ modol is fit to each ascade to minimize the difference $|I(t) - tweets(t)|$\n",
    "      - tweets(t) = number of rumor tweets\n",
    "      - I(t) = the estimated number of rumor tweets by the model\n",
    "  - Use gird-search and find the parameters with minimum error\n",
    "  <img src = 'attachment:image-3.png' width = 60%>\n",
    "  - Rumor detection with SEIZ model\n",
    "  <img src ='attachment:image-4.png' width = 50%>"
   ]
  },
  {
   "cell_type": "markdown",
   "id": "ef6d5e9e",
   "metadata": {},
   "source": [
    "## Independent Cascade Model\n",
    " - Initially some nodes S are active\n",
    " - Each edge(u, v) has probability(weight) $p_{uv}$ \n",
    " - When node u becomes active/ infected\n",
    "     - It activates each out-neighbor v with prob. $p_{uv}$ \n",
    " - Activations spread through the network!\n",
    " - Independent cascade model is simple but requires many parameters\n",
    "     - Estimating them from data is very hard\n",
    " - Solution : Make all edges have the same (which brings us back to the SIR model)\n",
    "     - Simple, but too simple\n",
    " - 이를 해결하기 위한 방법\n",
    "     - From exposures to adoptions\n",
    "         - Exposure : Node's neighbor가 node를 감염에 노출시킨다,.\n",
    "         - Adoption : 그 node는 전염된다.\n",
    "     - Exposure curve : Probability of adoption의 새로은 행동은 주변 node들이 이미 몇명이 adopted했는지에 의존한다.\n",
    "     "
   ]
  },
  {
   "cell_type": "code",
   "execution_count": null,
   "id": "0e4a2dca",
   "metadata": {},
   "outputs": [],
   "source": []
  }
 ],
 "metadata": {
  "kernelspec": {
   "display_name": "Python 3",
   "language": "python",
   "name": "python3"
  },
  "language_info": {
   "codemirror_mode": {
    "name": "ipython",
    "version": 3
   },
   "file_extension": ".py",
   "mimetype": "text/x-python",
   "name": "python",
   "nbconvert_exporter": "python",
   "pygments_lexer": "ipython3",
   "version": "3.8.8"
  }
 },
 "nbformat": 4,
 "nbformat_minor": 5
}
