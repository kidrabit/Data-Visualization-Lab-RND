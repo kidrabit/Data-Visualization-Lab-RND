{
 "cells": [
  {
   "cell_type": "markdown",
   "id": "15ef79af",
   "metadata": {},
   "source": [
    "## who starts successful cascades?\n",
    " - Are starters of successful cascades more central in the networt?\n",
    " \n",
    " ### Method : k-core decomposition\n",
    "   - K-core decomposition :  sub graph내에서 모든 node들이 k개의 degree를 가지고 있음\n",
    "   - method : 반복적으로 degree가 k 보다 적은 모든 node를 삭제\n",
    "   - higher k-core number of a node means it is more central\n",
    "   - result\n",
    "   <img src =\"./12-7.png\" width = 50%>"
   ]
  },
  {
   "cell_type": "markdown",
   "id": "b9714366",
   "metadata": {},
   "source": [
    "## Extending the model : Allow People to Adopt A and B\n",
    " <img src =\"./12-8.png\" width = 50%>\n",
    " <img src =\"./12-9.png\" width = 50%>\n",
    " - A와 B라는 선택지만 있고 한명이 A를사용(cascade 된다면 모두 A를 사용하게됨)\n",
    " - 하지만 AB라는 선택지가 있음\n",
    " - 위의 그림처럼 cascade 가 종료됨\n",
    " - 하지만 a의 보상이 더 커지게 되면 아래와 같이 바뀜\n",
    " <img src =\"./12-10.png\" width = 50%>"
   ]
  },
  {
   "cell_type": "code",
   "execution_count": null,
   "id": "35f70c1c",
   "metadata": {},
   "outputs": [],
   "source": []
  }
 ],
 "metadata": {
  "kernelspec": {
   "display_name": "Python 3",
   "language": "python",
   "name": "python3"
  },
  "language_info": {
   "codemirror_mode": {
    "name": "ipython",
    "version": 3
   },
   "file_extension": ".py",
   "mimetype": "text/x-python",
   "name": "python",
   "nbconvert_exporter": "python",
   "pygments_lexer": "ipython3",
   "version": "3.8.8"
  }
 },
 "nbformat": 4,
 "nbformat_minor": 5
}
