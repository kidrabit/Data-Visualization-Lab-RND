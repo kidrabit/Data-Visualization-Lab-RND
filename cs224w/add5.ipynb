{
 "cells": [
  {
   "cell_type": "code",
   "execution_count": null,
   "id": "706f1771",
   "metadata": {},
   "outputs": [],
   "source": [
    "def cosine_similarity(a,b):\n",
    "    dot_product = dot(a,b)\n",
    "    \n",
    "    a_norm = linalg.norm(a)    \n",
    "    b_norm = linalg.norm(b)\n",
    "    \n",
    "    cosine_similarity = dot_product/(a_norm*b_norm)\n",
    "    return cosine_similarity"
   ]
  }
 ],
 "metadata": {
  "kernelspec": {
   "display_name": "Python 3",
   "language": "python",
   "name": "python3"
  },
  "language_info": {
   "codemirror_mode": {
    "name": "ipython",
    "version": 3
   },
   "file_extension": ".py",
   "mimetype": "text/x-python",
   "name": "python",
   "nbconvert_exporter": "python",
   "pygments_lexer": "ipython3",
   "version": "3.8.8"
  }
 },
 "nbformat": 4,
 "nbformat_minor": 5
}
