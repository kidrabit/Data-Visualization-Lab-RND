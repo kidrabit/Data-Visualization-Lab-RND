{
 "cells": [
  {
   "cell_type": "markdown",
   "id": "22102233",
   "metadata": {},
   "source": [
    "## Trans_R\n",
    " - Model entites as vectors in the entity space $R^d$ and model each relation as vector r in relation space $R^k$ with $M_r \\in R^{kxd}$ as the projection matrix\n",
    " - <img src = \"attachment:image.png\" width = 40%>\n",
    " - 즉 relation을 Matrix를 이용해 만들고, head vector에  Matrix를 곱하면 head projection (Vector space의 크기는 같다)과 tail projection이 나온다\n",
    " - 그리고 relation은 $|h ㅗ +r - t_ㅗ|$이 된다.\n",
    " - Symmetric Relation:\n",
    " <img src = \"attachment:image-2.png\" width = 40%>\n",
    " - 1 to N, N to 1\n",
    " <img src = \"attachment:image-3.png\" width = 40%>\n",
    " \n",
    " - Compostion Relation은 불가하다.\n",
    " - TransE,TransR비교\n",
    " <img src = \"attachment:image-4.png\" width = 40%>"
   ]
  },
  {
   "cell_type": "markdown",
   "id": "1f1ed5b2",
   "metadata": {},
   "source": [
    "## Query Types on KG\n",
    " - <img src = \"attachment:image.png\" width = 40%>\n",
    " - Path :어떤 이어지는 것들이 있을 때, 이것들은 어떻게 계산할까? 일단 정의는 다음과 같은 방식으로 표현한다. 시작점 Va와 relation을 나타내는 r벡터들을 통해 나타낸다\n",
    " - path queries can be represented by $q = (v_a,r_1,...,r_n)$\n",
    " - ex)\n",
    "     - <img src = \"attachment:image-2.png\" width = 40%>\n",
    "     - 먼저 r vector를 통해 그에 해당하는 entity로 이동\n",
    "     - 거기서 r벡터를 통해 이동 \n",
    "     - <img src = \"attachment:image-3.png\" width = 40%>\n",
    " - 하지만 위 ex와는 다르게 실제 KG는 많은 node들이 연결되어있어 path가 길어져 geometric학 경로가 길어지게 된다.\n",
    " - 이러한 문제점 때문에 TransE를 이용하여 Path를 embedding해야된다."
   ]
  },
  {
   "cell_type": "code",
   "execution_count": null,
   "id": "431a06de",
   "metadata": {},
   "outputs": [],
   "source": []
  }
 ],
 "metadata": {
  "kernelspec": {
   "display_name": "Python 3",
   "language": "python",
   "name": "python3"
  },
  "language_info": {
   "codemirror_mode": {
    "name": "ipython",
    "version": 3
   },
   "file_extension": ".py",
   "mimetype": "text/x-python",
   "name": "python",
   "nbconvert_exporter": "python",
   "pygments_lexer": "ipython3",
   "version": "3.8.8"
  }
 },
 "nbformat": 4,
 "nbformat_minor": 5
}
