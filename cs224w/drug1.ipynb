{
 "cells": [
  {
   "cell_type": "markdown",
   "id": "0ea120aa",
   "metadata": {},
   "source": [
    "# When deep learning meets causal inference: a computational framework for drug repurposing from real-world data"
   ]
  },
  {
   "cell_type": "markdown",
   "id": "e0b3d43a",
   "metadata": {},
   "source": [
    "- Building upon well-established causal inference and deep learning methods, our framework emulates randomized clinical trials for drugs present in a large-scale medical claims database. \n",
    "\n",
    " - We demonstrate our framework in a case study of coronary artery disease (CAD) by evaluating the effect of 55 repurposing drug candidates on various disease outcomes.\n",
    "\n",
    "- Drug repurposing (a.k.a., drug repositioning) is a strategy to accelerate the drug discovery process by identifying novel uses for existing approved drugs\n",
    "\n",
    "- There are some limitations with these approaches.(이전연구의 한계점)\n",
    "     - First, most studies are complementary (i.e., the original hypotheses usually come from other studies). \n",
    "    - Second, their studied number of repurposing candidates is limited and unable to proactively generate de novo repurposing drug candidates.\n",
    "\n",
    "- we follow protocols of randomized clinical trial (RCT) design [13], and computationally screen repurposing candidates for beneficial effect by explicitly emulating the corresponding clinical trials using RWDs(real world datas)"
   ]
  },
  {
   "cell_type": "code",
   "execution_count": null,
   "id": "9a8a74b4",
   "metadata": {},
   "outputs": [],
   "source": []
  }
 ],
 "metadata": {
  "kernelspec": {
   "display_name": "Python 3",
   "language": "python",
   "name": "python3"
  },
  "language_info": {
   "codemirror_mode": {
    "name": "ipython",
    "version": 3
   },
   "file_extension": ".py",
   "mimetype": "text/x-python",
   "name": "python",
   "nbconvert_exporter": "python",
   "pygments_lexer": "ipython3",
   "version": "3.8.8"
  }
 },
 "nbformat": 4,
 "nbformat_minor": 5
}
