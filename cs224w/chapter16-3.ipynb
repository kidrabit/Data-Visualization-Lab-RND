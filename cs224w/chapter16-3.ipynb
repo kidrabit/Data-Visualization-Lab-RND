{
 "cells": [
  {
   "cell_type": "markdown",
   "id": "ff97a86f",
   "metadata": {},
   "source": [
    "## Microscopic(미세한) Evolution of Networks\n",
    " - How do networks evove at the micro level?\n",
    "     - what are local phenomena of network growth?\n",
    " - Questions:\n",
    "     - How do we define paths and walks in temporal networks?\n",
    "     - How can we extend network centrality measures to temporal networks?\n",
    "     \n",
    " ### Temporal Path \n",
    "  - A temporal path is a sequence of edges $(u_1,u_2,t_1),(u_2,u_3,t_2),..,(u_j,u_{j+1},t_j)$, for which $t_i <= t_{i+1}$ and each node is visited at most once\n",
    "  <img src =\"attachment:image.png\" width = 50%>\n",
    "  - ex: the sequence of edges [(5,2),(2,1)] together with the sequence of times $t_1,t_3$ is a temporal path\n",
    "  - temporal path가 효율적이라는 것은 shortest라는 거라고 한다.\n",
    "      - 이를 위해 TSP- Dijkstra algoritm을 사용\n",
    "      - <img src = \"attachment:image-2.png\" width = 40%>\n",
    "      \n",
    " ### Temporal Centrality\n",
    "  - Temporal Closeness : Measure of how close a node is to any other node in the network at time interval [0,t]\n",
    "      - Sum of shortest (fastest) temporal path lengths to all other nodes\n",
    "      - <img src = \"attachment:image-3.png\" width = 40%>\n",
    "      - <img src = \"attachment:image-4.png\" width = 40%>\n",
    "      \n",
    " ### Temporal PageRank\n",
    "  - pagerank : 전체 그래프에서 각 노드의 중요도 알아냄\n",
    "  - idea : Make a random walk only on temporal or time-respecting paths\n",
    "  - Intuition : \n",
    "      - Node a initially receives many in-links and it should be considered important\n",
    "      - After time t = 8, it does not receive any more in-links and thus its importance should diminish (아래 그림참고)\n",
    "     <img src = \"attachment:image-5.png\" width = 40%>\n",
    "     \n",
    " ### Temporal Walk\n",
    "  - A temporal path is a sequence of edges $(u_1,u_2,t_1),(u_2,u_3,t_2),..,(u_j,u_{j+1},t_j)$, for which $t_i <= t_{i+1}$\n",
    "  <img src = \"attachment:image-6.png\" width = 40%>\n",
    "  \n",
    " ### Temporal pagerank & paths\n",
    "  - 시간이 지나면서 해당노드와 연결된 확률계산\n",
    "  <img src = \"attachment:image-7.png\" width = 80%>\n",
    "  - |$\\gamma$| = 해당 시점에서 가능한 모든 엣지의 수\n",
    "  - 베타는 확률이므로 감마가 커지면 $\\beta^\\gamma$는 작아짐\n",
    "  -> |$\\gamma$|가 커지면 해당시점에 갈수 있는 엣지의 수가 ㅁ낳으면 transition prob은 줄어든다.\n",
    "  - t가 무한대로 가면 the temporal PageRank 정적 PageRank에 수렴한다. \n",
    "  <img src =\"attachment:image-8.png\" width = 50%>"
   ]
  },
  {
   "cell_type": "code",
   "execution_count": null,
   "id": "0d1ca118",
   "metadata": {},
   "outputs": [],
   "source": []
  }
 ],
 "metadata": {
  "kernelspec": {
   "display_name": "Python 3",
   "language": "python",
   "name": "python3"
  },
  "language_info": {
   "codemirror_mode": {
    "name": "ipython",
    "version": 3
   },
   "file_extension": ".py",
   "mimetype": "text/x-python",
   "name": "python",
   "nbconvert_exporter": "python",
   "pygments_lexer": "ipython3",
   "version": "3.8.8"
  }
 },
 "nbformat": 4,
 "nbformat_minor": 5
}
