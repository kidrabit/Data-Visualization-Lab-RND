{
 "cells": [
  {
   "cell_type": "markdown",
   "id": "ac0db570",
   "metadata": {},
   "source": [
    "## CELF : Algorithm for opt. submodular func under cost constraints"
   ]
  },
  {
   "cell_type": "markdown",
   "id": "2af27907",
   "metadata": {},
   "source": [
    "Submodualr를 최적화하기 위한 Hill-climbing의 개선안으로 cost를 완전히 무시하고 reward를 최대화 하는 방식으로 센서를 설치할 수 있다. 그러나 이런 식은 금방 budget을 낭비해버릴 것이다."
   ]
  },
  {
   "cell_type": "markdown",
   "id": "d0d2e323",
   "metadata": {},
   "source": [
    "### Towards a New Algorithm\n",
    " - Consider the following algorithm to solve the outbreak detection problem: Hill climbing that ignores cost\n",
    "     - Ignore sensor cost $c(s)$\n",
    "     - Repeatedly select sensor with highest marginal gain\n",
    "     - Do this until the budget is exhausted\n",
    " - It can fail arbitrarily badly!\n",
    "     - There exists a problem setting where the hill-climbing solution is arbitrarily far from OPT\n",
    " \n",
    " #### Problem 1 : Ignoring Cost\n",
    "  - n: sensors, budget B\n",
    "  - $s_1$: reward r, cost B\n",
    "  - $ s_2,....,s_n$ : reward $r-\\epsilon$,c = 1\n",
    "  - 이러하면 $s_1$에서 끝나게 됨 즉, It never selects cheaper sensors with reward $r-\\epsilon$\n",
    "      - For variable cost it can fail arbitrarily badly"
   ]
  },
  {
   "cell_type": "markdown",
   "id": "9b930c16",
   "metadata": {},
   "source": [
    "### Solution Problem1\n",
    " - Idea : benefit cost ratio를 최적화하자\n",
    " - <img src = \"attachment:image.png\" width = 40%>\n",
    " - 그러나 이 경우도 문제점은 있다.,\n",
    " \n",
    " #### Problem2 : Benefit -Cost(이해 안감)\n",
    " - <img src = \"attachment:image-2.png\" width = 40%>"
   ]
  },
  {
   "cell_type": "markdown",
   "id": "2a42d4e1",
   "metadata": {},
   "source": [
    "## Solution Problem1,2 : CELF Algorithm\n",
    "  - CELF(Cost-Effective Lazy Forward-selection)\n",
    "      - 위에서 배운 두가지 greedy algorithm(benefit-cost greedy, unit-cost greedy)을 모두 사용하여 결과 중 높은 값을 취함\n",
    "      - Set (solution) $S'$ : Use benefit-cost greedy\n",
    "      - Set (solution) $S''$ : Use unit-cost greedy\n",
    "      - Final solution : $S = argmax(f(S'),f(S''))\n",
    "  - How far is CELF from (unknown) optimal solution?\n",
    "      - Theorem : CELF is near optimal\n",
    "      - 위의 이론에서 CELF achieves 1/2(1-1/e) factor approximation이라고 한다.\n",
    "      - 즉, 매우 정답과 근사하게 최적화 한다."
   ]
  },
  {
   "cell_type": "code",
   "execution_count": null,
   "id": "64a3e7e1",
   "metadata": {},
   "outputs": [],
   "source": []
  }
 ],
 "metadata": {
  "kernelspec": {
   "display_name": "Python 3",
   "language": "python",
   "name": "python3"
  },
  "language_info": {
   "codemirror_mode": {
    "name": "ipython",
    "version": 3
   },
   "file_extension": ".py",
   "mimetype": "text/x-python",
   "name": "python",
   "nbconvert_exporter": "python",
   "pygments_lexer": "ipython3",
   "version": "3.8.8"
  }
 },
 "nbformat": 4,
 "nbformat_minor": 5
}
