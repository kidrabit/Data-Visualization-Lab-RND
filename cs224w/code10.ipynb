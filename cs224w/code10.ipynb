{
 "cells": [
  {
   "cell_type": "code",
   "execution_count": null,
   "id": "cce3fb9f",
   "metadata": {},
   "outputs": [],
   "source": [
    "class FirstBlock(nn.Module):\n",
    "    def __init__(self, target, n_inputs, n_outputs, kernel_size, stride, dilation, padding):\n",
    "        super(FirstBlock, self).__init__()\n",
    "        \n",
    "        self.target = target\n",
    "        self.conv1 = nn.Conv1d(n_inputs, n_outputs, kernel_size,\n",
    "                                           stride=stride, padding=padding, dilation=dilation, groups=n_outputs)\n",
    "\n",
    "        self.chomp1 = Chomp1d(padding)\n",
    "        self.net = nn.Sequential(self.conv1, self.chomp1)      \n",
    "        self.relu = nn.PReLU(n_inputs)\n",
    "        self.init_weights()\n",
    "\n",
    "    def init_weights(self):\n",
    "        \"\"\"Initialize weights\"\"\"\n",
    "        self.conv1.weight.data.normal_(0, 0.1) \n",
    "        \n",
    "    def forward(self, x):\n",
    "        out = self.net(x)\n",
    "        return self.relu(out)   "
   ]
  }
 ],
 "metadata": {
  "kernelspec": {
   "display_name": "Python 3",
   "language": "python",
   "name": "python3"
  },
  "language_info": {
   "codemirror_mode": {
    "name": "ipython",
    "version": 3
   },
   "file_extension": ".py",
   "mimetype": "text/x-python",
   "name": "python",
   "nbconvert_exporter": "python",
   "pygments_lexer": "ipython3",
   "version": "3.8.8"
  }
 },
 "nbformat": 4,
 "nbformat_minor": 5
}
