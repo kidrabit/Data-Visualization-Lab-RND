{
 "cells": [
  {
   "cell_type": "markdown",
   "id": "5c8ea34b",
   "metadata": {},
   "source": [
    "## Speeding-up Hill-Climbing Lazy Evaluations\n",
    " - 위에서 너무 느리다는 단점이 있었다.\n",
    " - 이를 극복하기 위해 사용하는 방법을 소개\n",
    " \n",
    " ### Speeding up Hill- Climbing\n",
    " - <img src = \"attachment:image.png\" width = 40%>\n",
    " - 기존의 방법은 i 번째 라운드에서 센서 집합 S가 있을 때, marginal gain을 최대화하는 센서로 다음 센서를 골랐다.\n",
    " - 하지만 여기서 submodularity property를 다시 살펴보면 A가 B의 subset일 때 A의 margin gain은 항상 크다는 공식이 있다. 그러니까 round가 흐를 수m센서 u를 뭘 고르든 marginal benefit은 항상 작아진다는 점에 주목하자\n",
    " - <img src = \"attachment:image-2.png\" width = 40%>\n",
    " - 이진 탐색에서 사용되는 upper bound 원리를 사용\n",
    " -  먼저 S1 = {a}인 상태에서 gain을 구했고, 나머지에서 탐색을 할 차례이다. 남은 것들 중에서 내림차순으로 sort하자.\n",
    " - 그리고 첫 째 노드의 margin을 구한다.\n",
    " -   d노드까지 S에 포함시킬 때 실제 효용량 다른 노드들의 gain보다 작아졌다. 이러면 알고리즘의 해가 아니게 되었으니 지금 구한 gain을 기준으로 다시 sort하자. 이번엔 b가 제일 위에 올라왔다.\n",
    " - gain을 구해보니 b의 값이 다른 노드들과 비교했을 때 가장 컸다. 아까 말한 upper-bound를 따져보면 분명 gain은 무조건 감소하는 값이다. 따라서 다른 후보군 중에서 b보다 gain이 클 경우는 아예 없기 때문에 b를 채택하여 S에 추가한다. \n",
    " - 위의 과정을 반복하면 계산량이 줄어든다."
   ]
  },
  {
   "cell_type": "markdown",
   "id": "30a2b923",
   "metadata": {},
   "source": [
    "## Data Dependent Bound on the Solution Quality\n",
    "Greedy 알고리즘의 solution quality를 얘기할 차례이다. 이 알고리즘은 항상 정답이 아닌 근사치를 제공하곤 한다. submodular의 경우 (1-1/e) bound가 존재한다. "
   ]
  },
  {
   "cell_type": "markdown",
   "id": "34b0b435",
   "metadata": {},
   "source": [
    "![image.png](attachment:image.png)"
   ]
  },
  {
   "cell_type": "markdown",
   "id": "ea4ec42e",
   "metadata": {},
   "source": [
    "증명에 따라서 f(OPT)는 항상 f(S) + 델타 i들의 합이다. 포인트는 우항의 값들은 실제로 우리가 구할 수 있으니까 최적해는 무조건 이 값보다 같거나 작을 것이라고 추론할 수 있다."
   ]
  },
  {
   "cell_type": "code",
   "execution_count": null,
   "id": "2dc158f6",
   "metadata": {},
   "outputs": [],
   "source": []
  }
 ],
 "metadata": {
  "kernelspec": {
   "display_name": "Python 3",
   "language": "python",
   "name": "python3"
  },
  "language_info": {
   "codemirror_mode": {
    "name": "ipython",
    "version": 3
   },
   "file_extension": ".py",
   "mimetype": "text/x-python",
   "name": "python",
   "nbconvert_exporter": "python",
   "pygments_lexer": "ipython3",
   "version": "3.8.8"
  }
 },
 "nbformat": 4,
 "nbformat_minor": 5
}
