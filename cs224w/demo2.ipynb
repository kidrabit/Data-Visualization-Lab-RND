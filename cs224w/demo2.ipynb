{
 "cells": [
  {
   "cell_type": "code",
   "execution_count": 1,
   "id": "4f8db661",
   "metadata": {},
   "outputs": [
    {
     "name": "stdout",
     "output_type": "stream",
     "text": [
      "Arguments: Namespace(cuda=True, data=['data/demo_dataset.csv'], dilation_coefficient=4, epochs=1000, ground_truth=None, hidden_layers=0, kernel_size=4, learning_rate=0.01, log_interval=500, optimizer='Adam', plot=False, seed=1111, significance=0.8)\n",
      "\n",
      " Dataset:  demo_dataset.csv\n",
      "\n",
      " Analysis started for target:  Timeser0\n",
      "Epoch:  1 [0%] \tLoss: 2.315027\n",
      "Epoch: 500 [50%] \tLoss: 1.695499\n",
      "Epoch: 1000 [100%] \tLoss: 1.694477\n",
      "Potential causes:  [1]\n",
      "1 : 1.7000324726104736\n",
      "Validated causes:  []\n",
      "\n",
      " Analysis started for target:  Timeser1\n",
      "Epoch:  1 [0%] \tLoss: 4.291189\n",
      "Epoch: 500 [50%] \tLoss: 0.002134\n",
      "Epoch: 1000 [100%] \tLoss: 0.002114\n",
      "Potential causes:  [0]\n",
      "0 : 6.359325408935547\n",
      "Validated causes:  [0]\n",
      "\n",
      " Analysis started for target:  Timeser2\n",
      "Epoch:  1 [0%] \tLoss: 1.740447\n",
      "Epoch: 500 [50%] \tLoss: 0.364763\n",
      "Epoch: 1000 [100%] \tLoss: 0.364258\n",
      "Potential causes:  [1, 0]\n",
      "1 : 1.63069486618042\n",
      "0 : 0.408988893032074\n",
      "Validated causes:  [1]\n",
      "\n",
      " Analysis started for target:  Timeser3 \n",
      "Epoch:  1 [0%] \tLoss: 2.264087\n",
      "Epoch: 500 [50%] \tLoss: 1.657545\n",
      "Epoch: 1000 [100%] \tLoss: 1.654903\n",
      "Potential causes:  [3, 1]\n",
      "3 : 1.6724450588226318\n",
      "1 : 1.6548274755477905\n",
      "Validated causes:  []\n",
      "\n",
      "===================Results for demo_dataset.csv ==================================\n",
      "Timeser0 causes Timeser1 with a delay of 1 time steps.\n",
      "Timeser1 causes Timeser2 with a delay of 2 time steps.\n",
      "==================================================================================\n"
     ]
    }
   ],
   "source": [
    "\"\"\"Run TCDF\"\"\"\n",
    "%matplotlib inline\n",
    "%run -i \"runTCDF.py\" --data data/demo_dataset.csv --cuda "
   ]
  },
  {
   "cell_type": "code",
   "execution_count": null,
   "id": "366d48e3",
   "metadata": {},
   "outputs": [],
   "source": []
  }
 ],
 "metadata": {
  "kernelspec": {
   "display_name": "Python 3",
   "language": "python",
   "name": "python3"
  },
  "language_info": {
   "codemirror_mode": {
    "name": "ipython",
    "version": 3
   },
   "file_extension": ".py",
   "mimetype": "text/x-python",
   "name": "python",
   "nbconvert_exporter": "python",
   "pygments_lexer": "ipython3",
   "version": "3.8.8"
  }
 },
 "nbformat": 4,
 "nbformat_minor": 5
}
