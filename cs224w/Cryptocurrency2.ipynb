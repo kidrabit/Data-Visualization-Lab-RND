{
 "cells": [
  {
   "cell_type": "markdown",
   "id": "d1e3d40f",
   "metadata": {},
   "source": [
    "# Cryptocurrency market structure: connecting emotions and economics(가상화폐)"
   ]
  },
  {
   "cell_type": "markdown",
   "id": "dfde0f71",
   "metadata": {},
   "source": [
    "- In this market, both prices and sentiment data are noisy with large volatility; for this reason we quantify dependency and causality mainly using rank statistics and topology reducing in this way the effect of noisy outliers. \n",
    "\n",
    "-  We pay a special attention to statistically validate dependency and causality links by using non-parametric permutation tests and by assessing the effect of the validation threshold on the resulting structure.\n",
    "\n",
    "- Conclusions\n",
    "    - Major, highly capitalized cryptocurrencies and minor little capitalized ones are interlocked into this complex structure with major currencies playing central roles only for the price dependency network. Sentiment and prices are interconnected and they show both dependency and causality mainly between different currencies"
   ]
  },
  {
   "cell_type": "code",
   "execution_count": null,
   "id": "e8d5ad8b",
   "metadata": {},
   "outputs": [],
   "source": []
  }
 ],
 "metadata": {
  "kernelspec": {
   "display_name": "Python 3",
   "language": "python",
   "name": "python3"
  },
  "language_info": {
   "codemirror_mode": {
    "name": "ipython",
    "version": 3
   },
   "file_extension": ".py",
   "mimetype": "text/x-python",
   "name": "python",
   "nbconvert_exporter": "python",
   "pygments_lexer": "ipython3",
   "version": "3.8.8"
  }
 },
 "nbformat": 4,
 "nbformat_minor": 5
}
