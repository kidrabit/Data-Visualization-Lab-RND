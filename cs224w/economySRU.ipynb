{
 "cells": [
  {
   "cell_type": "markdown",
   "id": "86e0804c",
   "metadata": {},
   "source": [
    "# Economy Statistical Recurrent Units For Inferring Nonlinear Granger Causality"
   ]
  },
  {
   "cell_type": "markdown",
   "id": "0c6fa42e",
   "metadata": {},
   "source": [
    "- Our proposed approach relies on modeling the embedded nonlinearities in the measurements using a component-wise time series prediction model based on Statistical Recurrent Units (SRUs) \n",
    "\n",
    "- We make a case that the network topology of Granger causal relations is directly inferrable from a structured sparse estimate of the internal parameters of the SRU networks trained to predict the processes time series measurements (economy-SRU )\n",
    "\n",
    "- The internal weight parameters of the economy-SRU are strategically regularized in a group-wise manner to facilitate the proposed network in extracting meaningful predictive features that are highly time-localized to mimic real-world causal events. \n",
    "\n",
    "- We propose the use of statistical recurrent units (SRUs) for detecting pairwise Granger causality between the nonlinearly interacting stochastic processes. We show that the entire network of pairwise Granger causal relationships can be inferred directly from the regularized block-sparse estimate of the input-layer weight parameters of the SRUs trained to predict the time series measurements of the individual processes."
   ]
  },
  {
   "cell_type": "code",
   "execution_count": null,
   "id": "f8b4462a",
   "metadata": {},
   "outputs": [],
   "source": []
  }
 ],
 "metadata": {
  "kernelspec": {
   "display_name": "Python 3",
   "language": "python",
   "name": "python3"
  },
  "language_info": {
   "codemirror_mode": {
    "name": "ipython",
    "version": 3
   },
   "file_extension": ".py",
   "mimetype": "text/x-python",
   "name": "python",
   "nbconvert_exporter": "python",
   "pygments_lexer": "ipython3",
   "version": "3.8.8"
  }
 },
 "nbformat": 4,
 "nbformat_minor": 5
}
