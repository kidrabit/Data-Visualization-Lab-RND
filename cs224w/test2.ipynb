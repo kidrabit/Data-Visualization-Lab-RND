{
 "cells": [
  {
   "cell_type": "code",
   "execution_count": 1,
   "id": "87327710",
   "metadata": {},
   "outputs": [],
   "source": [
    "import torch\n",
    "import numpy as np\n",
    "import matplotlib.pyplot as plt\n",
    "from synthetic import simulate_lorenz_96\n",
    "from models.clstm import cLSTM, train_model_ista, train_model_adam"
   ]
  },
  {
   "cell_type": "code",
   "execution_count": 2,
   "id": "ca655780",
   "metadata": {},
   "outputs": [],
   "source": [
    "device = torch.device('cuda')\n",
    "## data\n",
    "import pandas as pd\n",
    "df = pd.read_csv('C:/Users/chanyoung/Desktop/TCDF-master/data/gang_csv.csv')\n",
    "df =df.drop('1210030000',axis = 1)\n",
    "df_ = df.loc[192:203]"
   ]
  },
  {
   "cell_type": "code",
   "execution_count": 3,
   "id": "ecbd3a67",
   "metadata": {},
   "outputs": [],
   "source": [
    "df_np = df_.values\n",
    "X = torch.tensor(df_np[np.newaxis], dtype=torch.float32, device=device)"
   ]
  },
  {
   "cell_type": "code",
   "execution_count": 4,
   "id": "dd41f75c",
   "metadata": {},
   "outputs": [
    {
     "name": "stdout",
     "output_type": "stream",
     "text": [
      "----------Iter = 50----------\n",
      "Loss = 961.821167\n",
      "Variable usage = 99.94%\n",
      "----------Iter = 100----------\n",
      "Loss = 534.903625\n",
      "Variable usage = 78.95%\n",
      "----------Iter = 150----------\n",
      "Loss = 299.426849\n",
      "Variable usage = 46.38%\n",
      "----------Iter = 200----------\n",
      "Loss = 188.963608\n",
      "Variable usage = 34.75%\n",
      "----------Iter = 250----------\n",
      "Loss = 122.732880\n",
      "Variable usage = 32.63%\n",
      "----------Iter = 300----------\n",
      "Loss = 82.478455\n",
      "Variable usage = 30.93%\n",
      "----------Iter = 350----------\n",
      "Loss = 58.043106\n",
      "Variable usage = 29.92%\n",
      "----------Iter = 400----------\n",
      "Loss = 43.136532\n",
      "Variable usage = 28.75%\n",
      "----------Iter = 450----------\n",
      "Loss = 34.058067\n",
      "Variable usage = 28.04%\n",
      "----------Iter = 500----------\n",
      "Loss = 28.484285\n",
      "Variable usage = 27.52%\n",
      "----------Iter = 550----------\n",
      "Loss = 25.030697\n",
      "Variable usage = 27.42%\n",
      "----------Iter = 600----------\n",
      "Loss = 22.849382\n",
      "Variable usage = 27.27%\n",
      "----------Iter = 650----------\n",
      "Loss = 21.411375\n",
      "Variable usage = 26.84%\n",
      "----------Iter = 700----------\n",
      "Loss = 24.039114\n",
      "Variable usage = 30.81%\n",
      "----------Iter = 750----------\n",
      "Loss = 21.612507\n",
      "Variable usage = 30.19%\n",
      "----------Iter = 800----------\n",
      "Loss = 39.559448\n",
      "Variable usage = 33.27%\n",
      "----------Iter = 850----------\n",
      "Loss = 23.928036\n",
      "Variable usage = 30.47%\n",
      "----------Iter = 900----------\n",
      "Loss = 61.572186\n",
      "Variable usage = 34.13%\n",
      "Stopping early\n"
     ]
    }
   ],
   "source": [
    "clstm = cLSTM(X.shape[-1], hidden=2).cuda(device=device)\n",
    "train_loss_adam = train_model_ista(\n",
    "    clstm, X, context=2, lam=10.0, lam_ridge=1e-2, lr=1e-3, max_iter=20000,\n",
    "    check_every=50)"
   ]
  },
  {
   "cell_type": "code",
   "execution_count": 6,
   "id": "533b4249",
   "metadata": {
    "scrolled": true
   },
   "outputs": [
    {
     "data": {
      "text/plain": [
       "<bound method cLSTM.explainer of cLSTM(\n",
       "  (networks): ModuleList(\n",
       "    (0): LSTM(\n",
       "      (lstm): LSTM(57, 2, batch_first=True)\n",
       "      (linear): Conv1d(2, 1, kernel_size=(1,), stride=(1,))\n",
       "    )\n",
       "    (1): LSTM(\n",
       "      (lstm): LSTM(57, 2, batch_first=True)\n",
       "      (linear): Conv1d(2, 1, kernel_size=(1,), stride=(1,))\n",
       "    )\n",
       "    (2): LSTM(\n",
       "      (lstm): LSTM(57, 2, batch_first=True)\n",
       "      (linear): Conv1d(2, 1, kernel_size=(1,), stride=(1,))\n",
       "    )\n",
       "    (3): LSTM(\n",
       "      (lstm): LSTM(57, 2, batch_first=True)\n",
       "      (linear): Conv1d(2, 1, kernel_size=(1,), stride=(1,))\n",
       "    )\n",
       "    (4): LSTM(\n",
       "      (lstm): LSTM(57, 2, batch_first=True)\n",
       "      (linear): Conv1d(2, 1, kernel_size=(1,), stride=(1,))\n",
       "    )\n",
       "    (5): LSTM(\n",
       "      (lstm): LSTM(57, 2, batch_first=True)\n",
       "      (linear): Conv1d(2, 1, kernel_size=(1,), stride=(1,))\n",
       "    )\n",
       "    (6): LSTM(\n",
       "      (lstm): LSTM(57, 2, batch_first=True)\n",
       "      (linear): Conv1d(2, 1, kernel_size=(1,), stride=(1,))\n",
       "    )\n",
       "    (7): LSTM(\n",
       "      (lstm): LSTM(57, 2, batch_first=True)\n",
       "      (linear): Conv1d(2, 1, kernel_size=(1,), stride=(1,))\n",
       "    )\n",
       "    (8): LSTM(\n",
       "      (lstm): LSTM(57, 2, batch_first=True)\n",
       "      (linear): Conv1d(2, 1, kernel_size=(1,), stride=(1,))\n",
       "    )\n",
       "    (9): LSTM(\n",
       "      (lstm): LSTM(57, 2, batch_first=True)\n",
       "      (linear): Conv1d(2, 1, kernel_size=(1,), stride=(1,))\n",
       "    )\n",
       "    (10): LSTM(\n",
       "      (lstm): LSTM(57, 2, batch_first=True)\n",
       "      (linear): Conv1d(2, 1, kernel_size=(1,), stride=(1,))\n",
       "    )\n",
       "    (11): LSTM(\n",
       "      (lstm): LSTM(57, 2, batch_first=True)\n",
       "      (linear): Conv1d(2, 1, kernel_size=(1,), stride=(1,))\n",
       "    )\n",
       "    (12): LSTM(\n",
       "      (lstm): LSTM(57, 2, batch_first=True)\n",
       "      (linear): Conv1d(2, 1, kernel_size=(1,), stride=(1,))\n",
       "    )\n",
       "    (13): LSTM(\n",
       "      (lstm): LSTM(57, 2, batch_first=True)\n",
       "      (linear): Conv1d(2, 1, kernel_size=(1,), stride=(1,))\n",
       "    )\n",
       "    (14): LSTM(\n",
       "      (lstm): LSTM(57, 2, batch_first=True)\n",
       "      (linear): Conv1d(2, 1, kernel_size=(1,), stride=(1,))\n",
       "    )\n",
       "    (15): LSTM(\n",
       "      (lstm): LSTM(57, 2, batch_first=True)\n",
       "      (linear): Conv1d(2, 1, kernel_size=(1,), stride=(1,))\n",
       "    )\n",
       "    (16): LSTM(\n",
       "      (lstm): LSTM(57, 2, batch_first=True)\n",
       "      (linear): Conv1d(2, 1, kernel_size=(1,), stride=(1,))\n",
       "    )\n",
       "    (17): LSTM(\n",
       "      (lstm): LSTM(57, 2, batch_first=True)\n",
       "      (linear): Conv1d(2, 1, kernel_size=(1,), stride=(1,))\n",
       "    )\n",
       "    (18): LSTM(\n",
       "      (lstm): LSTM(57, 2, batch_first=True)\n",
       "      (linear): Conv1d(2, 1, kernel_size=(1,), stride=(1,))\n",
       "    )\n",
       "    (19): LSTM(\n",
       "      (lstm): LSTM(57, 2, batch_first=True)\n",
       "      (linear): Conv1d(2, 1, kernel_size=(1,), stride=(1,))\n",
       "    )\n",
       "    (20): LSTM(\n",
       "      (lstm): LSTM(57, 2, batch_first=True)\n",
       "      (linear): Conv1d(2, 1, kernel_size=(1,), stride=(1,))\n",
       "    )\n",
       "    (21): LSTM(\n",
       "      (lstm): LSTM(57, 2, batch_first=True)\n",
       "      (linear): Conv1d(2, 1, kernel_size=(1,), stride=(1,))\n",
       "    )\n",
       "    (22): LSTM(\n",
       "      (lstm): LSTM(57, 2, batch_first=True)\n",
       "      (linear): Conv1d(2, 1, kernel_size=(1,), stride=(1,))\n",
       "    )\n",
       "    (23): LSTM(\n",
       "      (lstm): LSTM(57, 2, batch_first=True)\n",
       "      (linear): Conv1d(2, 1, kernel_size=(1,), stride=(1,))\n",
       "    )\n",
       "    (24): LSTM(\n",
       "      (lstm): LSTM(57, 2, batch_first=True)\n",
       "      (linear): Conv1d(2, 1, kernel_size=(1,), stride=(1,))\n",
       "    )\n",
       "    (25): LSTM(\n",
       "      (lstm): LSTM(57, 2, batch_first=True)\n",
       "      (linear): Conv1d(2, 1, kernel_size=(1,), stride=(1,))\n",
       "    )\n",
       "    (26): LSTM(\n",
       "      (lstm): LSTM(57, 2, batch_first=True)\n",
       "      (linear): Conv1d(2, 1, kernel_size=(1,), stride=(1,))\n",
       "    )\n",
       "    (27): LSTM(\n",
       "      (lstm): LSTM(57, 2, batch_first=True)\n",
       "      (linear): Conv1d(2, 1, kernel_size=(1,), stride=(1,))\n",
       "    )\n",
       "    (28): LSTM(\n",
       "      (lstm): LSTM(57, 2, batch_first=True)\n",
       "      (linear): Conv1d(2, 1, kernel_size=(1,), stride=(1,))\n",
       "    )\n",
       "    (29): LSTM(\n",
       "      (lstm): LSTM(57, 2, batch_first=True)\n",
       "      (linear): Conv1d(2, 1, kernel_size=(1,), stride=(1,))\n",
       "    )\n",
       "    (30): LSTM(\n",
       "      (lstm): LSTM(57, 2, batch_first=True)\n",
       "      (linear): Conv1d(2, 1, kernel_size=(1,), stride=(1,))\n",
       "    )\n",
       "    (31): LSTM(\n",
       "      (lstm): LSTM(57, 2, batch_first=True)\n",
       "      (linear): Conv1d(2, 1, kernel_size=(1,), stride=(1,))\n",
       "    )\n",
       "    (32): LSTM(\n",
       "      (lstm): LSTM(57, 2, batch_first=True)\n",
       "      (linear): Conv1d(2, 1, kernel_size=(1,), stride=(1,))\n",
       "    )\n",
       "    (33): LSTM(\n",
       "      (lstm): LSTM(57, 2, batch_first=True)\n",
       "      (linear): Conv1d(2, 1, kernel_size=(1,), stride=(1,))\n",
       "    )\n",
       "    (34): LSTM(\n",
       "      (lstm): LSTM(57, 2, batch_first=True)\n",
       "      (linear): Conv1d(2, 1, kernel_size=(1,), stride=(1,))\n",
       "    )\n",
       "    (35): LSTM(\n",
       "      (lstm): LSTM(57, 2, batch_first=True)\n",
       "      (linear): Conv1d(2, 1, kernel_size=(1,), stride=(1,))\n",
       "    )\n",
       "    (36): LSTM(\n",
       "      (lstm): LSTM(57, 2, batch_first=True)\n",
       "      (linear): Conv1d(2, 1, kernel_size=(1,), stride=(1,))\n",
       "    )\n",
       "    (37): LSTM(\n",
       "      (lstm): LSTM(57, 2, batch_first=True)\n",
       "      (linear): Conv1d(2, 1, kernel_size=(1,), stride=(1,))\n",
       "    )\n",
       "    (38): LSTM(\n",
       "      (lstm): LSTM(57, 2, batch_first=True)\n",
       "      (linear): Conv1d(2, 1, kernel_size=(1,), stride=(1,))\n",
       "    )\n",
       "    (39): LSTM(\n",
       "      (lstm): LSTM(57, 2, batch_first=True)\n",
       "      (linear): Conv1d(2, 1, kernel_size=(1,), stride=(1,))\n",
       "    )\n",
       "    (40): LSTM(\n",
       "      (lstm): LSTM(57, 2, batch_first=True)\n",
       "      (linear): Conv1d(2, 1, kernel_size=(1,), stride=(1,))\n",
       "    )\n",
       "    (41): LSTM(\n",
       "      (lstm): LSTM(57, 2, batch_first=True)\n",
       "      (linear): Conv1d(2, 1, kernel_size=(1,), stride=(1,))\n",
       "    )\n",
       "    (42): LSTM(\n",
       "      (lstm): LSTM(57, 2, batch_first=True)\n",
       "      (linear): Conv1d(2, 1, kernel_size=(1,), stride=(1,))\n",
       "    )\n",
       "    (43): LSTM(\n",
       "      (lstm): LSTM(57, 2, batch_first=True)\n",
       "      (linear): Conv1d(2, 1, kernel_size=(1,), stride=(1,))\n",
       "    )\n",
       "    (44): LSTM(\n",
       "      (lstm): LSTM(57, 2, batch_first=True)\n",
       "      (linear): Conv1d(2, 1, kernel_size=(1,), stride=(1,))\n",
       "    )\n",
       "    (45): LSTM(\n",
       "      (lstm): LSTM(57, 2, batch_first=True)\n",
       "      (linear): Conv1d(2, 1, kernel_size=(1,), stride=(1,))\n",
       "    )\n",
       "    (46): LSTM(\n",
       "      (lstm): LSTM(57, 2, batch_first=True)\n",
       "      (linear): Conv1d(2, 1, kernel_size=(1,), stride=(1,))\n",
       "    )\n",
       "    (47): LSTM(\n",
       "      (lstm): LSTM(57, 2, batch_first=True)\n",
       "      (linear): Conv1d(2, 1, kernel_size=(1,), stride=(1,))\n",
       "    )\n",
       "    (48): LSTM(\n",
       "      (lstm): LSTM(57, 2, batch_first=True)\n",
       "      (linear): Conv1d(2, 1, kernel_size=(1,), stride=(1,))\n",
       "    )\n",
       "    (49): LSTM(\n",
       "      (lstm): LSTM(57, 2, batch_first=True)\n",
       "      (linear): Conv1d(2, 1, kernel_size=(1,), stride=(1,))\n",
       "    )\n",
       "    (50): LSTM(\n",
       "      (lstm): LSTM(57, 2, batch_first=True)\n",
       "      (linear): Conv1d(2, 1, kernel_size=(1,), stride=(1,))\n",
       "    )\n",
       "    (51): LSTM(\n",
       "      (lstm): LSTM(57, 2, batch_first=True)\n",
       "      (linear): Conv1d(2, 1, kernel_size=(1,), stride=(1,))\n",
       "    )\n",
       "    (52): LSTM(\n",
       "      (lstm): LSTM(57, 2, batch_first=True)\n",
       "      (linear): Conv1d(2, 1, kernel_size=(1,), stride=(1,))\n",
       "    )\n",
       "    (53): LSTM(\n",
       "      (lstm): LSTM(57, 2, batch_first=True)\n",
       "      (linear): Conv1d(2, 1, kernel_size=(1,), stride=(1,))\n",
       "    )\n",
       "    (54): LSTM(\n",
       "      (lstm): LSTM(57, 2, batch_first=True)\n",
       "      (linear): Conv1d(2, 1, kernel_size=(1,), stride=(1,))\n",
       "    )\n",
       "    (55): LSTM(\n",
       "      (lstm): LSTM(57, 2, batch_first=True)\n",
       "      (linear): Conv1d(2, 1, kernel_size=(1,), stride=(1,))\n",
       "    )\n",
       "    (56): LSTM(\n",
       "      (lstm): LSTM(57, 2, batch_first=True)\n",
       "      (linear): Conv1d(2, 1, kernel_size=(1,), stride=(1,))\n",
       "    )\n",
       "  )\n",
       ")>"
      ]
     },
     "execution_count": 6,
     "metadata": {},
     "output_type": "execute_result"
    }
   ],
   "source": [
    "a =clstm.explainer\n",
    "a"
   ]
  },
  {
   "cell_type": "code",
   "execution_count": 7,
   "id": "3def6996",
   "metadata": {},
   "outputs": [],
   "source": [
    "def arrange_input(data, context):\n",
    "    '''\n",
    "    Arrange a single time series into overlapping short sequences.\n",
    "\n",
    "    Args:\n",
    "      data: time series of shape (T, dim).\n",
    "      context: length of short sequences.\n",
    "    '''\n",
    "    assert context >= 1 and isinstance(context, int)\n",
    "    input = torch.zeros(len(data) - context, context, data.shape[1],\n",
    "                        dtype=torch.float32, device=data.device)\n",
    "    target = torch.zeros(len(data) - context, context, data.shape[1],\n",
    "                         dtype=torch.float32, device=data.device)\n",
    "    for i in range(context):\n",
    "        start = i\n",
    "        end = len(data) - context + i\n",
    "        input[:, i, :] = data[start:end]\n",
    "        target[:, i, :] = data[start+1:end+1]\n",
    "    return input.detach(), target.detach()"
   ]
  },
  {
   "cell_type": "code",
   "execution_count": 8,
   "id": "ec26ef81",
   "metadata": {},
   "outputs": [],
   "source": [
    "X, Y = zip(*[arrange_input(x, 2) for x in X])\n",
    "X = torch.cat(X, dim=0)\n",
    "Y = torch.cat(Y, dim=0)"
   ]
  },
  {
   "cell_type": "code",
   "execution_count": 9,
   "id": "72af0d2e",
   "metadata": {
    "collapsed": true
   },
   "outputs": [
    {
     "data": {
      "text/plain": [
       "tensor([[[31.2300, 29.3500, 30.7900,  ..., 37.7100, 34.1000, 27.5300],\n",
       "         [30.6900, 31.6200, 33.5900,  ..., 31.2200, 33.1000, 34.5700]],\n",
       "\n",
       "        [[30.6900, 31.6200, 33.5900,  ..., 31.2200, 33.1000, 34.5700],\n",
       "         [29.5100, 30.6300, 28.0200,  ..., 35.7400, 32.0500, 25.5600]],\n",
       "\n",
       "        [[29.5100, 30.6300, 28.0200,  ..., 35.7400, 32.0500, 25.5600],\n",
       "         [30.7400, 32.7600, 28.2700,  ..., 29.6600, 38.0600, 29.0300]],\n",
       "\n",
       "        ...,\n",
       "\n",
       "        [[28.7300, 36.0800, 32.7900,  ..., 32.1500, 35.8500, 26.4300],\n",
       "         [28.0000, 32.7900, 33.8500,  ..., 35.8700, 24.5500, 28.6400]],\n",
       "\n",
       "        [[28.0000, 32.7900, 33.8500,  ..., 35.8700, 24.5500, 28.6400],\n",
       "         [29.3800, 23.0000, 28.9000,  ..., 33.3100, 37.0000, 23.8800]],\n",
       "\n",
       "        [[29.3800, 23.0000, 28.9000,  ..., 33.3100, 37.0000, 23.8800],\n",
       "         [31.4000, 37.3900, 31.5000,  ..., 30.2100, 28.7500, 33.3300]]],\n",
       "       device='cuda:0')"
      ]
     },
     "execution_count": 9,
     "metadata": {},
     "output_type": "execute_result"
    }
   ],
   "source": [
    "X"
   ]
  },
  {
   "cell_type": "code",
   "execution_count": 10,
   "id": "eeaac67b",
   "metadata": {},
   "outputs": [
    {
     "name": "stderr",
     "output_type": "stream",
     "text": [
      "RNN module weights are not part of single contiguous chunk of memory. This means they need to be compacted at every call, possibly greatly increasing memory usage. To compact weights again call flatten_parameters(). (Triggered internally at  ..\\aten\\src\\ATen\\native\\cudnn\\RNN.cpp:915.)\n"
     ]
    }
   ],
   "source": [
    "pred = [clstm.networks[i](X)[0] for i in range(57)]"
   ]
  },
  {
   "cell_type": "code",
   "execution_count": 13,
   "id": "9735ada4",
   "metadata": {},
   "outputs": [
    {
     "data": {
      "text/plain": [
       "tensor([[26.8563, 29.5804],\n",
       "        [26.8319, 29.4863],\n",
       "        [26.7653, 29.6047],\n",
       "        [26.8572, 29.7299],\n",
       "        [26.9362, 29.5187],\n",
       "        [26.7800, 29.4611],\n",
       "        [26.7514, 29.4629],\n",
       "        [26.7552, 29.5595],\n",
       "        [26.8257, 29.5261],\n",
       "        [26.7952, 29.5572]], device='cuda:0', grad_fn=<SelectBackward>)"
      ]
     },
     "execution_count": 13,
     "metadata": {},
     "output_type": "execute_result"
    }
   ],
   "source": [
    "pred[0][:,:,0]"
   ]
  },
  {
   "cell_type": "code",
   "execution_count": 15,
   "id": "9e3d4701",
   "metadata": {},
   "outputs": [
    {
     "data": {
      "text/plain": [
       "tensor([[30.6900, 29.5100],\n",
       "        [29.5100, 30.7400],\n",
       "        [30.7400, 29.2700],\n",
       "        [29.2700, 33.0000],\n",
       "        [33.0000, 29.1700],\n",
       "        [29.1700, 28.7300],\n",
       "        [28.7300, 28.0000],\n",
       "        [28.0000, 29.3800],\n",
       "        [29.3800, 31.4000],\n",
       "        [31.4000, 29.6000]], device='cuda:0')"
      ]
     },
     "execution_count": 15,
     "metadata": {},
     "output_type": "execute_result"
    }
   ],
   "source": [
    "Y[:,:,0]"
   ]
  },
  {
   "cell_type": "code",
   "execution_count": 16,
   "id": "7e5ff726",
   "metadata": {},
   "outputs": [],
   "source": [
    "pred, _ = clstm.networks[1](X)"
   ]
  },
  {
   "cell_type": "code",
   "execution_count": 20,
   "id": "36f1f067",
   "metadata": {
    "collapsed": true
   },
   "outputs": [
    {
     "data": {
      "text/plain": [
       "tensor([[[29.4156],\n",
       "         [32.3796]],\n",
       "\n",
       "        [[29.3788],\n",
       "         [32.1827]],\n",
       "\n",
       "        [[29.2143],\n",
       "         [32.3241]],\n",
       "\n",
       "        [[29.3567],\n",
       "         [32.3299]],\n",
       "\n",
       "        [[29.3600],\n",
       "         [31.9573]],\n",
       "\n",
       "        [[29.0115],\n",
       "         [32.3017]],\n",
       "\n",
       "        [[29.3468],\n",
       "         [32.4148]],\n",
       "\n",
       "        [[29.4036],\n",
       "         [32.0759]],\n",
       "\n",
       "        [[29.1265],\n",
       "         [32.3650]],\n",
       "\n",
       "        [[29.3880],\n",
       "         [32.1143]]], device='cuda:0', grad_fn=<TransposeBackward0>)"
      ]
     },
     "execution_count": 20,
     "metadata": {},
     "output_type": "execute_result"
    }
   ],
   "source": [
    "pred"
   ]
  },
  {
   "cell_type": "code",
   "execution_count": 32,
   "id": "0b1e71bc",
   "metadata": {},
   "outputs": [],
   "source": [
    "weight_ = clstm.networks[0].lstm.weight_ih_l0"
   ]
  },
  {
   "cell_type": "code",
   "execution_count": 24,
   "id": "7a57737e",
   "metadata": {
    "collapsed": true
   },
   "outputs": [
    {
     "data": {
      "text/plain": [
       "tensor([0.0000, 0.0000, 0.0000, 0.0000, 0.0000, 0.0000, 0.0000, 0.0000, 0.0000,\n",
       "        0.0000, 0.0000, 0.2334, 0.0000, 0.0000, 0.0000, 0.0000, 0.0000, 0.0000,\n",
       "        0.0000, 0.0000, 0.0000, 0.0000, 0.0000, 0.0000, 0.0000, 0.0000, 0.0000,\n",
       "        0.0000, 0.0000, 0.0000, 0.0000, 0.0000, 0.0000, 0.0000, 0.0000, 0.0000,\n",
       "        0.0000, 0.0000, 0.0000, 0.0000, 0.0000, 0.0000, 0.0000, 0.0000, 0.0000,\n",
       "        0.0000, 0.0000, 0.0000, 0.0000, 0.0000, 0.0000, 0.0000, 0.0000, 0.0000,\n",
       "        0.0000, 0.0000, 0.0000], device='cuda:0', grad_fn=<CopyBackwards>)"
      ]
     },
     "execution_count": 24,
     "metadata": {},
     "output_type": "execute_result"
    }
   ],
   "source": [
    "torch.norm(weight_, dim=0)"
   ]
  },
  {
   "cell_type": "code",
   "execution_count": 28,
   "id": "491c65d6",
   "metadata": {},
   "outputs": [
    {
     "data": {
      "text/plain": [
       "tensor([1.2019, 0.8343], device='cuda:0', grad_fn=<CopyBackwards>)"
      ]
     },
     "execution_count": 28,
     "metadata": {},
     "output_type": "execute_result"
    }
   ],
   "source": [
    "torch.norm(clstm.networks[0].lstm.weight_hh_l0, dim = 0)"
   ]
  },
  {
   "cell_type": "code",
   "execution_count": 5,
   "id": "a32a9ec8",
   "metadata": {},
   "outputs": [
    {
     "name": "stdout",
     "output_type": "stream",
     "text": [
      "Estimated variable usage = 26.84%\n",
      "less loss =  21.411375\n"
     ]
    },
    {
     "data": {
      "image/png": "[encoded data removed]",
      "text/plain": [
       "<Figure size 720x360 with 1 Axes>"
      ]
     },
     "metadata": {
      "needs_background": "light"
     },
     "output_type": "display_data"
    }
   ],
   "source": [
    "GC_est = clstm.GC().cpu().data.numpy()\n",
    "fig, axarr = plt.subplots( figsize=(10, 5))\n",
    "axarr.imshow(GC_est, cmap='Blues', vmin=0, vmax=1, extent=(0, len(GC_est), len(GC_est), 0))\n",
    "axarr.set_ylabel('Affected series')\n",
    "axarr.set_xlabel('Causal series')\n",
    "print('Estimated variable usage = %.2f%%' % (100 * np.mean(GC_est)))\n",
    "print('less loss = ',min(train_loss_adam).cpu().numpy())"
   ]
  },
  {
   "cell_type": "code",
   "execution_count": 7,
   "id": "19239593",
   "metadata": {},
   "outputs": [
    {
     "data": {
      "image/png": "[encoded data removed]",
      "text/plain": [
       "<Figure size 432x288 with 1 Axes>"
      ]
     },
     "metadata": {
      "needs_background": "light"
     },
     "output_type": "display_data"
    }
   ],
   "source": [
    "clstm.weight_causality(1)"
   ]
  },
  {
   "cell_type": "code",
   "execution_count": null,
   "id": "1145d4d7",
   "metadata": {},
   "outputs": [],
   "source": []
  }
 ],
 "metadata": {
  "kernelspec": {
   "display_name": "Python 3",
   "language": "python",
   "name": "python3"
  },
  "language_info": {
   "codemirror_mode": {
    "name": "ipython",
    "version": 3
   },
   "file_extension": ".py",
   "mimetype": "text/x-python",
   "name": "python",
   "nbconvert_exporter": "python",
   "pygments_lexer": "ipython3",
   "version": "3.8.8"
  }
 },
 "nbformat": 4,
 "nbformat_minor": 5
}
