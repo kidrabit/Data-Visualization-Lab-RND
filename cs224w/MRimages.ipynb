{
 "cells": [
  {
   "cell_type": "markdown",
   "id": "2c673fc8",
   "metadata": {},
   "source": [
    "# A Structural Causal Model for MR Images of Multiple Sclerosis"
   ]
  },
  {
   "cell_type": "markdown",
   "id": "186ef660",
   "metadata": {},
   "source": [
    "- In this work, we develop an SCM that models the interaction between demographic information, disease covariates, and magnetic resonance (MR) images of the brain for people with multiple sclerosis (MS).\n",
    "\n",
    "- These images can be used for modeling disease progression or used for downstream image processing tasks where controlling for confounders is necessary.\n",
    "\n",
    "- we extended their model(SCMs) to account for the clinical and radiological phenotype of multiple sclerosis (MS).\n",
    "\n",
    "- In this paper, we propose an SCM that encodes a causal functional relationship between demographic and disease covariates with MR images of the brain for people with MS.\n",
    "\n",
    "- Such a model allows us to answer counterfactual questions like: “What would this subject’s brain image look like if the subject did not have lesions given that they have a 60 mL lesion load?” and “What would this subject’s brain image look like if the subject had six years of symptoms given that they have three years of symptoms?”"
   ]
  },
  {
   "cell_type": "code",
   "execution_count": null,
   "id": "a00bde2f",
   "metadata": {},
   "outputs": [],
   "source": []
  }
 ],
 "metadata": {
  "kernelspec": {
   "display_name": "Python 3",
   "language": "python",
   "name": "python3"
  },
  "language_info": {
   "codemirror_mode": {
    "name": "ipython",
    "version": 3
   },
   "file_extension": ".py",
   "mimetype": "text/x-python",
   "name": "python",
   "nbconvert_exporter": "python",
   "pygments_lexer": "ipython3",
   "version": "3.8.8"
  }
 },
 "nbformat": 4,
 "nbformat_minor": 5
}
