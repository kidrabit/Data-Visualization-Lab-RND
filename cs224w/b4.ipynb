{
 "cells": [
  {
   "cell_type": "code",
   "execution_count": null,
   "metadata": {},
   "outputs": [],
   "source": [
    "class Perceptron:\n",
    "    def __init__(self, th= 0.0, lr= 0.01, epochs = 10):\n",
    "        self.th = th\n",
    "        self.lr = lr\n",
    "        self.epochs = epochs\n",
    "        \n",
    "    \n",
    "    def fit(self,X_train, y_train):\n",
    "        self.W = np.zeros(1+X_train.shape[0])\n",
    "        self.error = []\n",
    "        \n",
    "        for i in range(self.epochs):\n",
    "            error = 0\n",
    "            for x,y in zip(X_train, y_train):\n",
    "                update = self.lr*(y - self.new_predict(x))\n",
    "                self.W[1:] = update * x\n",
    "                self.W[0] += update \n",
    "                error += int(update != 0.0)\n",
    "            self.error.append(error)\n",
    "            print(self.W)\n",
    "        return self\n",
    "     \n",
    "    def new_predict(self, X):\n",
    "        return np.dot(X,self.W[1:].T) + self.W[0]\n",
    "        \n",
    "    def predict(self, X):\n",
    "        \n",
    "        return np.where(self.new_predict(X) > self.th, 1,0)\n",
    "    \n",
    "    def score(self, X, y):\n",
    "        y_hat = self.predict(X)\n",
    "        return (y == y_hat).sum()/len(y) "
   ]
  }
 ],
 "metadata": {
  "kernelspec": {
   "display_name": "Python 3",
   "language": "python",
   "name": "python3"
  },
  "language_info": {
   "codemirror_mode": {
    "name": "ipython",
    "version": 3
   },
   "file_extension": ".py",
   "mimetype": "text/x-python",
   "name": "python",
   "nbconvert_exporter": "python",
   "pygments_lexer": "ipython3",
   "version": "3.8.3"
  },
  "toc": {
   "base_numbering": 1,
   "nav_menu": {},
   "number_sections": true,
   "sideBar": true,
   "skip_h1_title": false,
   "title_cell": "Table of Contents",
   "title_sidebar": "Contents",
   "toc_cell": false,
   "toc_position": {},
   "toc_section_display": true,
   "toc_window_display": false
  }
 },
 "nbformat": 4,
 "nbformat_minor": 4
}
