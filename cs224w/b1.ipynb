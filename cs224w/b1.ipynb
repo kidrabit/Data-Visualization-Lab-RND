{
 "cells": [
  {
   "cell_type": "code",
   "execution_count": 7,
   "metadata": {},
   "outputs": [],
   "source": [
    "import pandas as pd\n",
    "import numpy as np\n",
    "from scipy.stats import norm"
   ]
  },
  {
   "cell_type": "code",
   "execution_count": 2,
   "metadata": {},
   "outputs": [],
   "source": [
    "# 입력으로 주어지는 데이터는 모두 numpy array라고 가정하고 구현 \n",
    "# 입력 특성의 개수에 관계없이 동작하도록 구현 \n",
    "\n",
    "class MyGaussianNB: \n",
    "    def __init__(self):\n",
    "        self.distXy0 = []\n",
    "        self.distXy1 = []\n",
    "        self.prior0 = 0\n",
    "        self.prior1 = 0\n",
    "        self.m0 = 0 # 훈련 데이터에서 레이블이 0인 샘플 개수\n",
    "        self.m1 = 0 # 훈련 데이터에서 레이블이 0인 샘플 개수\n",
    "        self.num_col = 0 # 특성벡터의 차원 \n",
    "        \n",
    "    \n",
    "    def fit(self, X_train, y_train):\n",
    "        self.num_col = X_train.shape[1] \n",
    "        \n",
    "        X_train0 = X_train[y_train == 0]    ###################여기를 채우세요\n",
    "        X_train1 = X_train[y_train == 1]    ###################여기를 채우세요\n",
    "        self.m0 = (y_train == 0).sum()      ###################여기를 채우세요\n",
    "        self.m1 = (y_train == 1).sum()      ###################여기를 채우세요\n",
    "        \n",
    "        # self.fit_dist() method는 코드 맨 끝에 정의되어 있음 \n",
    "        for i in range(self.num_col):\n",
    "            self.distXy0.append(self.fit_dist(X_train0,i)) # X_train0의 column index i열에 대한 정규분포를 distXy0 리스트 i번째에 추가\n",
    "            self.distXy1.append(self.fit_dist(X_train1,i)) # X_train1의 column index i열에 대한 정규분포를 distXy1 리스트 i번째에 추가\n",
    "        \n",
    "        self.prior0 = self.m0/(self.m0 + self.m1)  ###################여기를 채우세요\n",
    "        self.prior1 = self.m1/(self.m0 + self.m1)  ###################여기를 채우세요\n",
    "        \n",
    "\n",
    "    def predict_proba(self, X):\n",
    "        prob0 = self.prior0\n",
    "        prob1 = self.prior1\n",
    "        for i in range(self.num_col):\n",
    "            prob0 *=  self.distXy0[i].pdf(X[:,i])   ###################여기를 채우세요\n",
    "            prob1 *=  self.distXy1[i].pdf(X[:,i])   ###################여기를 채우세요\n",
    "        \n",
    "        result = np.array([prob0, prob1])/ (prob0+prob1)\n",
    "        return result.T\n",
    "    \n",
    "    def predict(self, X):\n",
    "        return np.argmax(self.predict_proba(X), axis=1)\n",
    "    \n",
    "    def score(self, X, y):\n",
    "        y_hat = self.predict(X)\n",
    "        return (y == y_hat).sum()/len(y)          ###################여기를 채우세요\n",
    "    \n",
    "    def fit_dist(self,data, col_idx):\n",
    "        mu = data[:,col_idx].mean()\n",
    "        sigma = data[:,col_idx].std(ddof=0)\n",
    "    \n",
    "        dist = norm(mu, sigma)\n",
    "        return dist"
   ]
  },
  {
   "cell_type": "code",
   "execution_count": 58,
   "metadata": {},
   "outputs": [],
   "source": [
    "data = pd.read_csv('./dataset/PimaIndiansDiabetes.csv')\n",
    "data_subset = data.loc[1:,['Blood Glucose', 'BMI', 'Class']]"
   ]
  },
  {
   "cell_type": "code",
   "execution_count": 59,
   "metadata": {},
   "outputs": [
    {
     "data": {
      "text/plain": [
       "Blood Glucose    0.0\n",
       "BMI              0.0\n",
       "Class            0.0\n",
       "dtype: float64"
      ]
     },
     "execution_count": 59,
     "metadata": {},
     "output_type": "execute_result"
    }
   ],
   "source": [
    "data_subset[data_subset.isna() == True].sum()"
   ]
  },
  {
   "cell_type": "code",
   "execution_count": 60,
   "metadata": {},
   "outputs": [],
   "source": [
    "bg_mask = data_subset.loc[:,\"Blood Glucose\"]!=0\n",
    "bmi_mask = data_subset.loc[:,\"BMI\"]!=0\n",
    "clean_data_subset = data_subset[bg_mask & bmi_mask]\n",
    "\n",
    "X = clean_data_subset.loc[:, ['Blood Glucose', 'BMI']]\n",
    "y = clean_data_subset.loc[:, 'Class']\n",
    "\n",
    "ratio = 0.8\n",
    "total_num = len(clean_data_subset)\n",
    "train_num = int(ratio*total_num)\n",
    "\n",
    "np.random.seed(42)\n",
    "shuffled_idx = np.arange(total_num)\n",
    "np.random.shuffle(shuffled_idx)\n",
    "\n",
    "X_train = X.iloc[shuffled_idx[:train_num]]\n",
    "y_train = y.iloc[shuffled_idx[:train_num]]\n",
    "X_test = X.iloc[shuffled_idx[train_num:]]\n",
    "y_test = y.iloc[shuffled_idx[train_num:]]"
   ]
  },
  {
   "cell_type": "code",
   "execution_count": 61,
   "metadata": {},
   "outputs": [
    {
     "data": {
      "text/plain": [
       "array([0, 1, 0, 0, 0, 0, 0, 0, 0, 1, 0, 0, 0, 1, 0, 0, 0, 0, 0, 0, 0, 0],\n",
       "      dtype=int64)"
      ]
     },
     "execution_count": 61,
     "metadata": {},
     "output_type": "execute_result"
    }
   ],
   "source": [
    "# 준비된 데이터가 pd.DataFrame일 때, 모두 to_numpy() 메소드를 이용하여 numpy array로 바꾼 뒤에 사용 \n",
    "\n",
    "ClassifierNB = MyGaussianNB()\n",
    "\n",
    "ClassifierNB.fit(X_train.to_numpy(), y_train.to_numpy())\n",
    "\n",
    "ClassifierNB.predict(X_test.to_numpy())[:22]"
   ]
  },
  {
   "cell_type": "code",
   "execution_count": 62,
   "metadata": {},
   "outputs": [
    {
     "data": {
      "text/plain": [
       "array([[0.59372213, 0.40627787],\n",
       "       [0.34812832, 0.65187168],\n",
       "       [0.58593987, 0.41406013],\n",
       "       [0.94950911, 0.05049089],\n",
       "       [0.89883061, 0.10116939]])"
      ]
     },
     "execution_count": 62,
     "metadata": {},
     "output_type": "execute_result"
    }
   ],
   "source": [
    "ClassifierNB.predict_proba(X_test.to_numpy())[:5]"
   ]
  },
  {
   "cell_type": "code",
   "execution_count": 63,
   "metadata": {},
   "outputs": [
    {
     "data": {
      "text/plain": [
       "0.7566666666666667"
      ]
     },
     "execution_count": 63,
     "metadata": {},
     "output_type": "execute_result"
    }
   ],
   "source": [
    "ClassifierNB.score(X_train.to_numpy(), y_train.to_numpy())"
   ]
  },
  {
   "cell_type": "code",
   "execution_count": 64,
   "metadata": {},
   "outputs": [
    {
     "data": {
      "text/plain": [
       "0.7880794701986755"
      ]
     },
     "execution_count": 64,
     "metadata": {},
     "output_type": "execute_result"
    }
   ],
   "source": [
    "ClassifierNB.score(X_test.to_numpy(), y_test.to_numpy())"
   ]
  },
  {
   "cell_type": "code",
   "execution_count": null,
   "metadata": {},
   "outputs": [],
   "source": []
  }
 ],
 "metadata": {
  "kernelspec": {
   "display_name": "Python 3",
   "language": "python",
   "name": "python3"
  },
  "language_info": {
   "codemirror_mode": {
    "name": "ipython",
    "version": 3
   },
   "file_extension": ".py",
   "mimetype": "text/x-python",
   "name": "python",
   "nbconvert_exporter": "python",
   "pygments_lexer": "ipython3",
   "version": "3.8.3"
  },
  "toc": {
   "base_numbering": 1,
   "nav_menu": {},
   "number_sections": true,
   "sideBar": true,
   "skip_h1_title": false,
   "title_cell": "Table of Contents",
   "title_sidebar": "Contents",
   "toc_cell": false,
   "toc_position": {},
   "toc_section_display": true,
   "toc_window_display": false
  }
 },
 "nbformat": 4,
 "nbformat_minor": 4
}
