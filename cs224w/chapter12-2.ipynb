{
 "cells": [
  {
   "cell_type": "markdown",
   "id": "7bcbe707",
   "metadata": {},
   "source": [
    "## Application: Modeling protest recruitment on social networks\n",
    "\n",
    "  - 2011년 스페인에서 높은 실업률을 기록하여 이에 반대하는 저항운동이 발생 \n",
    "  - 이 때 트위터는 사람들이 운동참여를 유도하기 위해 protest에서 70개의 해시태크 사용\n",
    "  - 위의 사례를 참조하여 응용사례를 하나 보고자한다.\n",
    "  - dataset\n",
    "  <img src =\"./12-4.png\" width = 50%>\n",
    "  \n",
    "  - Definitions\n",
    "      - User activation time : Moment when user starts tweetion protest messages\n",
    "      - $k_{in}$ = the total number of neighbors wheen a user became active\n",
    "      - $k_a$ = Number of active neighbors when a user became active\n",
    "      - Activation threshold = $k_a/k_{in}$\n",
    "          - the fraction of active neighbors at the time when a user becomes active\n",
    "  - $k_a/k_{in}$이 0에 가까운데(주변에서 매우 적게 활동을 하고있다.) user가 행동에 참여를 했다면 사회적 압박이 적은것으로 볼수있다.\n",
    "  - $k_a/k_{in}$이 1에 가까울때(주변 대부분이 활동에 참여) user가 행동에 참여 했다면 사회적 압박이 큰것으로 볼 수있다.\n",
    "  \n",
    "  - Distribution of activation thresholds\n",
    "  <img src =\"./12-5.png\" width = 50%>\n",
    "  \n",
    "  - Effect of neighbor activation time(누적으로 보기)\n",
    "  <img src =\"./12-6.png\" width = 50%>\n"
   ]
  },
  {
   "cell_type": "code",
   "execution_count": null,
   "id": "f11c2f11",
   "metadata": {},
   "outputs": [],
   "source": []
  }
 ],
 "metadata": {
  "kernelspec": {
   "display_name": "Python 3",
   "language": "python",
   "name": "python3"
  },
  "language_info": {
   "codemirror_mode": {
    "name": "ipython",
    "version": 3
   },
   "file_extension": ".py",
   "mimetype": "text/x-python",
   "name": "python",
   "nbconvert_exporter": "python",
   "pygments_lexer": "ipython3",
   "version": "3.8.8"
  }
 },
 "nbformat": 4,
 "nbformat_minor": 5
}
