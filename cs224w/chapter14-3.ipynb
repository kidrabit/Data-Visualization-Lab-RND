{
 "cells": [
  {
   "cell_type": "markdown",
   "id": "d1bcad99",
   "metadata": {},
   "source": [
    "그러나 위와 같은 방식으로 greedy 알고리즘을 사용하면 단점이 너무 느리다는거다(chapter14-2)"
   ]
  },
  {
   "cell_type": "markdown",
   "id": "eced217f",
   "metadata": {},
   "source": [
    "## Speeding things up: Sketch-based Algorithms\n",
    " - sketches를 이용하여 시간복잡도를 줄이기\n",
    " - idea \n",
    "     - Compute small structure per node from which to estimate its influence\n",
    "     - Then run influence maximization using these estimates\n",
    "     \n",
    " ### Reachability Sketches\n",
    "  - Rough Idea\n",
    "      - Take a possible world $G^{(i)}$\n",
    "      - Give each node a uniform random number from [0,1]\n",
    "      - compute the rank of each node v, which is the minimum number among the nodes that v can reach\n",
    "  - Intuition\n",
    "      - If $v$ can reach a large number of nodes then its rank is likely to be small\n",
    "      - Hence, the rank of node v can be used to estimate the influence of node v a graph in a possible word $G^{(i)}$\n",
    "  - Problem\n",
    "      - Influence estimation based on a single rank/number can be inaccurate\n",
    "  - Solution\n",
    "      - Kepp multiple ranks/numbers\n",
    "      - e.g keep the smallest c values among the nodes that v can reach in all possible worlds considered(but keep the numbers fix across the worlds)\n",
    "      - Enables estimate on union of these reachable sets\n",
    "      \n",
    "  ### Sketch- based Greedy\n",
    "   - Generate a number of possible worlds\n",
    "   - Construct reachability sketches for all node: Result : each node has c ranks\n",
    "   - Run Greedy for influence maximization\n",
    "       - whenever Greedy asks for the influence of a node set S, check ranks and add a u node that has the smallest value (lexicographically)\n",
    "       - After u is chosen. Finde its influence set of nodes f(u), mark them as infected and remove their \"numbers\" from the sketches of other nodes\n",
    "   - Guarantess:\n",
    "       - Expected running time is near-linear in the number of possible worlds\n",
    "       - when c is large, it provides (1- 1/e - $\\epsilon$) approx with respect to the possible worlds considered"
   ]
  },
  {
   "cell_type": "code",
   "execution_count": null,
   "id": "c05efedf",
   "metadata": {},
   "outputs": [],
   "source": []
  }
 ],
 "metadata": {
  "kernelspec": {
   "display_name": "Python 3",
   "language": "python",
   "name": "python3"
  },
  "language_info": {
   "codemirror_mode": {
    "name": "ipython",
    "version": 3
   },
   "file_extension": ".py",
   "mimetype": "text/x-python",
   "name": "python",
   "nbconvert_exporter": "python",
   "pygments_lexer": "ipython3",
   "version": "3.8.8"
  }
 },
 "nbformat": 4,
 "nbformat_minor": 5
}
