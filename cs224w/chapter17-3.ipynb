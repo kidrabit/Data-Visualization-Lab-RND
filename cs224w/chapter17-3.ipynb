{
 "cells": [
  {
   "cell_type": "markdown",
   "id": "dbf87275",
   "metadata": {},
   "source": [
    "## Conjunctive Queries(논리곱)\n",
    " - 쉽게 말해서 and연산을 수행한다고 생각하면 된다.(교집합 구하기)\n",
    " - <img src = \"attachment:image.png\" width = 40%>\n",
    " - 하지만 현실적으로 교점이 생길리가 없다.\n",
    " - 그렇기 때문에 두분이 교차하는 부분을 구해야된다.\n",
    " - Intersection을 구하는 것을 해결해야됨.\n",
    "     - 현재 query들을 input으로 놓고 output을 intersection point 나오게 NN을 만들어보자. \n",
    "     \n",
    " ### Design a neural intersetion operator J\n",
    "     - input : current query embeddings $q_1,...,q_m$\n",
    "     - output : intersection query embedding q\n",
    "     - <img src = \"attachment:image-2.png\" width = 40%>\n",
    "     - <img src = \"attachment:image-3.png\" width = 40%>\n",
    "     - GCN과 비슷한 방식\n",
    "     - <img src = \"attachment:image-4.png\" width = 40%>\n",
    "     - q1,q2의 intersection을 구하고 그 벡터에 graduate 벡터를 구해 그 이웃들을 answer로 구하는 것\n",
    "  - Trainable parameters:\n",
    "      - entity embeddings : $d|V|$\n",
    "      - relation embeddings : $d|R|$\n",
    "      - <img src = \"attachment:image-5.png\" width = 40%>\n",
    "  - Whole Process\n",
    "      - Trainging:\n",
    "          - sample a query q, answer v, negative sample v'\n",
    "          - embed the query q\n",
    "          - Calculate the distance $f_q(v)$ and $f_q(v')$ \n",
    "          - optimize the loss L\n",
    "      - Query evaluation:\n",
    "          - Given a test query q, embed the query q\n",
    "          - For all v in KG, calcaute $f_q(v)$\n",
    "          - Sort the distance and rank all v"
   ]
  },
  {
   "cell_type": "markdown",
   "id": "40cfbe9e",
   "metadata": {},
   "source": [
    "## Box query\n",
    " - 위에서 intersection의 영역을 구할 때 (특정 벡터에서 가까운 것들을 구할 때) 사람이 조정하기 때문에 직관적이지 않다는 점이 있다. \n",
    " - 그래서 우리는 새로운 Box query라는 것을 도입한다.\n",
    " - Box Embeddings : queries를 hyper rectangle로 emnedding하는 것\n",
    " - center, offset 정의\n",
    " - offset : q와 같은 dimension인데 각 dimension별로 어느정도의 offset을 가질지 결정하는 것\n",
    " - q = (Center(q), Offset(q))\n",
    " - 파라미터의 의미\n",
    " - <img src =\"attachment:image.png\" width = 40%>\n",
    " entity embedding은 d의 dimension이고 공간상에서 한 점을 나타내는 것이다. 공간상의 한 점은 결국 offset이 0이고 Center가 entity embedding을 나타낸다고 할 수 있다.  relation embedding은 앞에 2가 붙는데 저 위에서 정의했듯, Center와 Offset이 모두 있기 때문이다. \n",
    "\n",
    " -  <img src = \"attachment:image-2.png\" width = 40%>"
   ]
  },
  {
   "cell_type": "code",
   "execution_count": null,
   "id": "9785a204",
   "metadata": {},
   "outputs": [],
   "source": []
  }
 ],
 "metadata": {
  "kernelspec": {
   "display_name": "Python 3",
   "language": "python",
   "name": "python3"
  },
  "language_info": {
   "codemirror_mode": {
    "name": "ipython",
    "version": 3
   },
   "file_extension": ".py",
   "mimetype": "text/x-python",
   "name": "python",
   "nbconvert_exporter": "python",
   "pygments_lexer": "ipython3",
   "version": "3.8.8"
  }
 },
 "nbformat": 4,
 "nbformat_minor": 5
}
