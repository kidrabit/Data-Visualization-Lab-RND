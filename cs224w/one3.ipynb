{
 "cells": [
  {
   "cell_type": "code",
   "execution_count": null,
   "metadata": {},
   "outputs": [],
   "source": [
    "def train_LSTM(model, input_, target, epochs = 100, optimizer = 'Adam', loss_fn = 'MSE', lr = 0.001):\n",
    "    # optimizer : Adam, RMSProp\n",
    "    # loss_fn : MSE, RMSE\n",
    "\n",
    "    if loss_fn == 'MSE':\n",
    "        loss_fn = nn.MSELoss()\n",
    "    else:\n",
    "        print(\"Warning : Wrong loss Function\")\n",
    "        return\n",
    "\n",
    "    if optimizer == \"Adam\":\n",
    "        optim_fn = optim.Adam(model.parameters(), lr=lr)\n",
    "    elif optimizer == \"RMSProp\":\n",
    "        optim_fn = optim.RMSprop(model.parameters(),lr = lr)\n",
    "    else:\n",
    "        print(\"warning : wrong optimizer\")\n",
    "        return\n",
    "\n",
    "\n",
    "    train_loss_list = []\n",
    "    for i in range(epochs):\n",
    "        train_loss = 0.0\n",
    "\n",
    "        model.train()\n",
    "        model.zero_grad()\n",
    "        optim_fn.zero_grad()\n",
    "\n",
    "        for j in range(len(x)):\n",
    "            seq, labels = x[j], y[j]\n",
    "            seq = torch.tensor(seq[np.newaxis], dtype = torch.float32, device='cuda')\n",
    "            labels = torch.tensor(labels[np.newaxis], dtype = torch.float32, device='cuda')\n",
    "\n",
    "            model.zero_grad()\n",
    "            optim_fn.zero_grad()\n",
    "            model.hidden = [hidden.to('cuda') for hidden in model.init_hidden()]\n",
    "\n",
    "            y_pred = model(seq)\n",
    "            loss = loss_fn(y_pred, labels)\n",
    "\n",
    "            loss.backward()\n",
    "            optim_fn.step()\n",
    "\n",
    "            train_loss += np.sqrt(loss.item())\n",
    "\n",
    "        train_loss = train_loss/len(input_)\n",
    "        train_loss_list.append(train_loss)\n",
    "\n",
    "        if i % 10 == 0.0:\n",
    "            print(\"{}번째 epoch의 train loss =\".format(i),train_loss)\n",
    "\n",
    "    return train_loss_list, model"
   ]
  }
 ],
 "metadata": {
  "kernelspec": {
   "display_name": "Python 3",
   "language": "python",
   "name": "python3"
  },
  "language_info": {
   "codemirror_mode": {
    "name": "ipython",
    "version": 3
   },
   "file_extension": ".py",
   "mimetype": "text/x-python",
   "name": "python",
   "nbconvert_exporter": "python",
   "pygments_lexer": "ipython3",
   "version": "3.8.3"
  },
  "toc": {
   "base_numbering": 1,
   "nav_menu": {},
   "number_sections": true,
   "sideBar": true,
   "skip_h1_title": false,
   "title_cell": "Table of Contents",
   "title_sidebar": "Contents",
   "toc_cell": false,
   "toc_position": {},
   "toc_section_display": true,
   "toc_window_display": false
  }
 },
 "nbformat": 4,
 "nbformat_minor": 4
}
