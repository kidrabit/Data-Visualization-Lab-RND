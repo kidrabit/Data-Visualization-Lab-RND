{
 "cells": [
  {
   "cell_type": "code",
   "execution_count": null,
   "id": "fc621d35",
   "metadata": {},
   "outputs": [],
   "source": [
    "import torch\n",
    "import torch.optim as optim\n",
    "import torch.nn.functional as F\n",
    "from torch.autograd import Variable\n",
    "from model import ADDSTCN\n",
    "import random\n",
    "import pandas as pd\n",
    "import numpy as np\n",
    "import heapq\n",
    "import copy\n",
    "import os\n",
    "import sys\n",
    "\n",
    "def preparedata(file, target):\n",
    "    \"\"\"Reads data from csv file and transforms it to two PyTorch tensors: dataset x and target time series y that has to be predicted.\"\"\"\n",
    "    df_data = pd.read_csv(file)\n",
    "    df_y = df_data.copy(deep=True)[[target]]\n",
    "    df_x = df_data.copy(deep=True)\n",
    "    df_yshift = df_y.copy(deep=True).shift(periods=1, axis=0)\n",
    "    df_yshift[target]=df_yshift[target].fillna(0.)\n",
    "    df_x[target] = df_yshift\n",
    "    data_x = df_x.values.astype('float32').transpose()    \n",
    "    data_y = df_y.values.astype('float32').transpose()\n",
    "    data_x = torch.from_numpy(data_x)\n",
    "    data_y = torch.from_numpy(data_y)\n",
    "\n",
    "    x, y = Variable(data_x), Variable(data_y)\n",
    "    return x, y"
   ]
  }
 ],
 "metadata": {
  "kernelspec": {
   "display_name": "Python 3",
   "language": "python",
   "name": "python3"
  },
  "language_info": {
   "codemirror_mode": {
    "name": "ipython",
    "version": 3
   },
   "file_extension": ".py",
   "mimetype": "text/x-python",
   "name": "python",
   "nbconvert_exporter": "python",
   "pygments_lexer": "ipython3",
   "version": "3.8.8"
  }
 },
 "nbformat": 4,
 "nbformat_minor": 5
}
