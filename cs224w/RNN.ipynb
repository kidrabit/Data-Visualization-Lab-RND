{
 "cells": [
  {
   "cell_type": "markdown",
   "id": "3ab4182d",
   "metadata": {},
   "source": [
    "# RNN\n",
    " - sequential data를 다루기위해 사용\n",
    " - cnn으로도 가능\n",
    " - process both new inpouts and model ouput of previous inpout\n",
    " - sequentiial 의 길이가 달라도 처리방법이 다양하다.\n",
    "\n",
    "  ex)\n",
    "\n",
    "  \n",
    " - $x_t$ -> $h_t$ -> $(h_t, x_{t+1})$ -> $h_{t+1}$ -> $Y_{t+1}$\n",
    "  \n",
    "  1) encoding\n",
    " - $activation(x_{t+1}U_{28*100} + W_{100*100}h_{t}) $ -> $h_{t+1}$\n",
    "\n",
    "  2) decoding\n",
    " - $V_{100* 10}h_{t+1}$ -> $Y_{t+1}$\n",
    "\n",
    " - (many to many) or (many to one) 등 얻고자하는 값에 따라 다르게 처리   (방법찾아보면서 해야될듯)\n",
    "\n",
    " - parmas 는 sharing 된다.\n"
   ]
  },
  {
   "cell_type": "code",
   "execution_count": 1,
   "id": "af50f0d2",
   "metadata": {},
   "outputs": [],
   "source": [
    "import torch\n",
    "import torch.nn as nn"
   ]
  },
  {
   "cell_type": "code",
   "execution_count": 2,
   "id": "bea49c16",
   "metadata": {},
   "outputs": [],
   "source": [
    "class RNN(nn.Module):\n",
    "    def __init__(self, in_dim,hid_dim ,out_dim, batch_size):\n",
    "        super(RNN, self).__init__()\n",
    "        self.in_dim = in_dim\n",
    "        self.hid_dim = hid_dim\n",
    "        self.out_dim = out_dim\n",
    "        self.batch_size = batch_size\n",
    "        \n",
    "        self.u = nn.Linear(self.in_dim, self.hid_dim)\n",
    "        self.w = nn.Linear(self.hid_dim, self.hid_dim)\n",
    "        self.v = nn.Linear(self.hid_dim, self.out_dim)\n",
    "        self.act = nn.Tanh()\n",
    "        \n",
    "    # 첫번째 h는 영벡터여야 된다.(이전의 값이 없으므로)  \n",
    "    def init_hidden(self, batch_size = None):   \n",
    "        if batch_size is None:\n",
    "            batch_size = self.batch_size\n",
    "        return torch.zero(batch_size, self.hid_dim)\n",
    "    \n",
    "    def forward(self, x):\n",
    "        h = self.act(self.u(x) + self.w(self.hid_dim))\n",
    "        y = self.act(self.v(h))\n",
    "        return y, h"
   ]
  },
  {
   "cell_type": "code",
   "execution_count": null,
   "id": "2a3b8087",
   "metadata": {},
   "outputs": [],
   "source": []
  }
 ],
 "metadata": {
  "kernelspec": {
   "display_name": "Python 3",
   "language": "python",
   "name": "python3"
  },
  "language_info": {
   "codemirror_mode": {
    "name": "ipython",
    "version": 3
   },
   "file_extension": ".py",
   "mimetype": "text/x-python",
   "name": "python",
   "nbconvert_exporter": "python",
   "pygments_lexer": "ipython3",
   "version": "3.8.8"
  }
 },
 "nbformat": 4,
 "nbformat_minor": 5
}
