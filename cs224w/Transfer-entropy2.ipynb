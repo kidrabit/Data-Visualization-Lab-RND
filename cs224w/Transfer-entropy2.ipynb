{
 "cells": [
  {
   "cell_type": "code",
   "execution_count": 1,
   "id": "74cd1025",
   "metadata": {},
   "outputs": [
    {
     "name": "stdout",
     "output_type": "stream",
     "text": [
      "0.002367481662885154 0.6913865563095827\n"
     ]
    }
   ],
   "source": [
    "import numpy as np\n",
    "\n",
    "\n",
    "\"\"\"Tr_Y->X = SIGMA{ p(x_n+1, x_n, y_n) * log ( p(x_n+1, x_n, y_n) * p(x_n) / p(x_n, y_n) / p(x_n+1, x_n) }  \"\"\"\n",
    "def CAL_TE_Y_to_X(X, Y):\n",
    "    \"\"\" Count \"\"\"\n",
    "    M_0 = np.zeros((2, 2, 2))     # p(x_n+1, x_n, y_n)\n",
    "    M_1 = np.zeros((2, 2))      # p(x_n+1, x_n)\n",
    "    M_2 = np.zeros((2, 2))      # p(x_n, y_n)\n",
    "    M_3 = np.zeros(2)           # p(x_n)\n",
    "    for t in range(len(X)):\n",
    "        if t+1 != len(X):\n",
    "            M_0[X[t + 1], X[t], Y[t]] += 1\n",
    "            M_1[X[t + 1], X[t]] += 1\n",
    "        M_2[X[t], Y[t]] += 1\n",
    "        M_3[X[t]] += 1\n",
    "\n",
    "    \"\"\" Normalizing (Count -> Probability) \"\"\"\n",
    "    M_0 = M_0 / M_0.sum()\n",
    "    M_1 = M_1 / M_1.sum()\n",
    "    M_2 = M_2 / M_2.sum()\n",
    "    M_3 = M_3 / M_3.sum()\n",
    "\n",
    "    TR_Y_to_X = 0\n",
    "    for x_n1 in range(2):\n",
    "        for x_n in range(2):\n",
    "            for y_n in range(2):\n",
    "                if ((M_0[x_n1, x_n, y_n] * M_3[x_n]) != 0) and (M_2[x_n, y_n] * M_1[x_n1, x_n] != 0):\n",
    "                    TR_Y_to_X += M_0[x_n1, x_n, y_n] * np.log(M_0[x_n1, x_n, y_n] * M_3[x_n] / M_2[x_n, y_n] / M_1[x_n1, x_n])\n",
    "\n",
    "    return TR_Y_to_X\n",
    "\n",
    "\"\"\" d1 생성 : random \"\"\"\n",
    "d1 = np.random.randint(2, size=1000)\n",
    "\"\"\" d1이 한칸씩 뒤로 밀린 data d2 생성 \"\"\"\n",
    "d2 = np.insert(d1, 0, 0)[:-1]\n",
    "\n",
    "\"\"\" Transfer entropy 계산\"\"\"\n",
    "TE1 = CAL_TE_Y_to_X(X=d1, Y=d2)\n",
    "TE2 = CAL_TE_Y_to_X(X=d2, Y=d1)\n",
    "print(TE1, TE2)"
   ]
  },
  {
   "cell_type": "code",
   "execution_count": null,
   "id": "ef21fd97",
   "metadata": {},
   "outputs": [],
   "source": []
  }
 ],
 "metadata": {
  "kernelspec": {
   "display_name": "Python 3",
   "language": "python",
   "name": "python3"
  },
  "language_info": {
   "codemirror_mode": {
    "name": "ipython",
    "version": 3
   },
   "file_extension": ".py",
   "mimetype": "text/x-python",
   "name": "python",
   "nbconvert_exporter": "python",
   "pygments_lexer": "ipython3",
   "version": "3.8.8"
  }
 },
 "nbformat": 4,
 "nbformat_minor": 5
}
