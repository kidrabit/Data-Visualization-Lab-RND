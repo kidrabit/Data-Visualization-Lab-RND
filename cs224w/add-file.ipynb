{
 "cells": [
  {
   "cell_type": "markdown",
   "id": "6cd3f133",
   "metadata": {},
   "source": [
    "# Causal inference in economics and marketing"
   ]
  },
  {
   "cell_type": "markdown",
   "id": "ca5655a5",
   "metadata": {},
   "source": [
    "- This is an elementary introduction to causal inference in economics written for readers familiar with machine learning methods. \n",
    "\n",
    "- The critical step in any causal analysis is estimating the counterfactual—a prediction of what would have happened in the absence of the treatment.\n",
    "\n",
    "- The powerful techniques used in machine learning may be useful for developing better estimates of the counterfactual, potentially improving causal inference.\n",
    "\n",
    "- This “basic identity of causal inference” shows that the critical concept for understanding causality is the comparison of the actual outcome (what happens to the treated) compared with the counterfactual (what would have happened if they had not been treated), an insight that goes back to refs. 6 and 7. As Rubin (7) emphasized, we cannot actually observe what would have happened to the treated group if the individuals had not been treated; therefore, we have to estimate that counterfactual some other way.\n",
    "\n",
    "- The basic identity nicely shows why randomized trials are the gold standard for causal inference. If the treated group is random sample of the population, then the first term is an estimate of the causal impact of the treatment on the population, and if the assignment is random, then the second term has an expected value of zero."
   ]
  }
 ],
 "metadata": {
  "kernelspec": {
   "display_name": "Python 3",
   "language": "python",
   "name": "python3"
  },
  "language_info": {
   "codemirror_mode": {
    "name": "ipython",
    "version": 3
   },
   "file_extension": ".py",
   "mimetype": "text/x-python",
   "name": "python",
   "nbconvert_exporter": "python",
   "pygments_lexer": "ipython3",
   "version": "3.8.8"
  }
 },
 "nbformat": 4,
 "nbformat_minor": 5
}
