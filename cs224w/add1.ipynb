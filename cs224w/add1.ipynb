{
 "cells": [
  {
   "cell_type": "code",
   "execution_count": null,
   "id": "56cb381e",
   "metadata": {},
   "outputs": [],
   "source": [
    "def main():\n",
    "\n",
    "    # Reading Images and converting them into vectors Part\n",
    "    \n",
    "    # getting the names of images in Car_Data Directory\n",
    "    global image_names \n",
    "    image_names = [file for file in listdir('./Car_Data') if file.endswith('.png')]\n",
    "    \n",
    "    # reading images and storing them:\n",
    "    # in image_dictionary like {'name' : [pixel matrices]}\n",
    "    # in vector_dictionary like {'name' : [1D array]}\n",
    "    global image_dictionary \n",
    "    image_dictionary = dict()\n",
    "    global image_vector_dictionary \n",
    "    image_vector_dictionary = dict()\n",
    "    \n",
    "    for img_name in image_names:\n",
    "        \n",
    "        img = Image.open('./Car_Data/'+img_name) \n",
    "        \n",
    "        image_dictionary[img_name] = img\n",
    "        \n",
    "        img_pixels = np.array(img).astype('float32').flatten()\n",
    "        image_vector_dictionary[img_name] = img_pixels\n",
    "\n",
    "    #----------------------------------------------------------------------\n",
    "    \n",
    "    # Test Part\n",
    "\n",
    "    # test1\n",
    "    similarities = find_similarties('4228.png')\n",
    "    \n",
    "    result = find_best_three(similarities)\n",
    "    \n",
    "    display_result(result,'4228.png')\n",
    "    \n",
    "    # test2\n",
    "    similarities = find_similarties('3861.png')\n",
    "    \n",
    "    result = find_best_three(similarities)\n",
    "    \n",
    "    display_result(result,'3861.png')\n",
    "\n",
    "\n",
    "\n",
    "if __name__ == \"__main__\":\n",
    "\n",
    "    main()"
   ]
  }
 ],
 "metadata": {
  "kernelspec": {
   "display_name": "Python 3",
   "language": "python",
   "name": "python3"
  },
  "language_info": {
   "codemirror_mode": {
    "name": "ipython",
    "version": 3
   },
   "file_extension": ".py",
   "mimetype": "text/x-python",
   "name": "python",
   "nbconvert_exporter": "python",
   "pygments_lexer": "ipython3",
   "version": "3.8.8"
  }
 },
 "nbformat": 4,
 "nbformat_minor": 5
}
