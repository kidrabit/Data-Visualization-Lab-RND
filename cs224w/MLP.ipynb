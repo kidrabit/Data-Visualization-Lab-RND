{
 "cells": [
  {
   "cell_type": "code",
   "execution_count": 3,
   "metadata": {},
   "outputs": [],
   "source": [
    "import numpy as np\n",
    "import matplotlib.pyplot as plt\n",
    "from mpl_toolkits import mplot3d\n",
    "\n",
    "# ====== Generating Dataset ====== #\n",
    "num_data = 2400\n",
    "x1 = np.random.rand(num_data) * 10\n",
    "x2 = np.random.rand(num_data) * 10\n",
    "e = np.random.normal(0, 0.5, num_data)\n",
    "X = np.array([x1, x2]).T\n",
    "y = 2*np.sin(x1) + np.log(0.5*x2**2) + e\n",
    "\n",
    "# ====== Split Dataset into Train, Validation, Test ======#\n",
    "train_X, train_y = X[:1600, :], y[:1600]\n",
    "val_X, val_y = X[1600:2000, :], y[1600:2000]\n",
    "test_X, test_y = X[2000:, :], y[2000:]"
   ]
  },
  {
   "cell_type": "code",
   "execution_count": 4,
   "metadata": {
    "scrolled": true
   },
   "outputs": [],
   "source": [
    "import torch\n",
    "import torch.nn as nn"
   ]
  },
  {
   "cell_type": "code",
   "execution_count": 5,
   "metadata": {},
   "outputs": [
    {
     "name": "stdout",
     "output_type": "stream",
     "text": [
      "1.8.1\n"
     ]
    }
   ],
   "source": [
    "print(torch.__version__)"
   ]
  },
  {
   "cell_type": "code",
   "execution_count": 8,
   "metadata": {
    "scrolled": true
   },
   "outputs": [
    {
     "data": {
      "text/plain": [
       "array([[3.3134501 , 4.66244614],\n",
       "       [5.75213134, 2.5401607 ],\n",
       "       [7.71834205, 2.17912516],\n",
       "       ...,\n",
       "       [9.11630959, 4.36470787],\n",
       "       [1.19523073, 8.80427333],\n",
       "       [9.49618921, 8.01482849]])"
      ]
     },
     "execution_count": 8,
     "metadata": {},
     "output_type": "execute_result"
    }
   ],
   "source": [
    "train_X"
   ]
  },
  {
   "cell_type": "code",
   "execution_count": 9,
   "metadata": {},
   "outputs": [],
   "source": [
    "class LinearModel(nn.Module):\n",
    "    def __init__(self):\n",
    "        super(LinearModel, self).__init__()\n",
    "        self.linear = nn.Linear(2,1,bias = True)\n",
    "\n",
    "    def forward(self, x):\n",
    "        x = self.linear(x)\n",
    "        return x"
   ]
  },
  {
   "cell_type": "code",
   "execution_count": 10,
   "metadata": {},
   "outputs": [],
   "source": [
    "class MLP(nn.Module):\n",
    "    def __init__(self):\n",
    "        super(MLP, self).__init__()\n",
    "\n",
    "        self.linear1 = nn.Linear(2,200)\n",
    "        self.linear2 = nn.Linear(200,1)\n",
    "        self.act = nn.ReLU()\n",
    "        \n",
    "    def forward(self, x):\n",
    "        x = self.linear1(x)\n",
    "        x = self.act(x)\n",
    "        x = self.linear2(x)\n",
    "        return x"
   ]
  },
  {
   "cell_type": "code",
   "execution_count": 11,
   "metadata": {},
   "outputs": [],
   "source": [
    "reg_loss = nn.MSELoss()"
   ]
  },
  {
   "cell_type": "code",
   "execution_count": 13,
   "metadata": {},
   "outputs": [],
   "source": [
    "import torch.optim as optim\n",
    "from sklearn.metrics import mean_absolute_error\n",
    "\n",
    "\n",
    "model = MLP()\n",
    "\n",
    "lr = 0.005\n",
    "optimizer = optim.SGD(model.parameters(), lr =lr)\n",
    "\n",
    "list_epoch = [] \n",
    "list_train_loss = []\n",
    "list_val_loss = []\n",
    "list_mae = []\n",
    "list_mae_epoch = []\n",
    "\n",
    "epoch = 4000\n",
    "for i in range(epoch):\n",
    "    \n",
    "    #### train ####\n",
    "    model.train()\n",
    "    optimizer.zero_grad()\n",
    "    \n",
    "    input_x = torch.Tensor(train_X)\n",
    "    true_y = torch.Tensor(train_y)\n",
    "    pred_y = model(input_x)\n",
    "    # print(input_x.shape, true_y.shape, pred_y.shape)\n",
    "    \n",
    "    loss = reg_loss(pred_y.squeeze(),true_y)\n",
    "    loss.backward() # gradient 계산\n",
    "    optimizer.step()\n",
    "    list_epoch.append(i)\n",
    "    list_train_loss.append(loss.detach().numpy())\n",
    "    \n",
    "    \n",
    "    \n",
    "    #### val ####\n",
    "    model.eval()\n",
    "    optimizer.zero_grad()\n",
    "    \n",
    "    input_x = torch.Tensor(val_X)\n",
    "    true_y = torch.Tensor(val_y)\n",
    "    pred_y = model(input_x)\n",
    "    loss = reg_loss(pred_y.squeeze(), true_y)\n",
    "    list_val_loss.append(loss.detach().numpy()) # or loss.item()\n",
    "    \n",
    "    \n",
    "    ##### Evaluation-test #####\n",
    "    if i % 200 == 0:\n",
    "        \n",
    "        #### MAE ####\n",
    "        model.eval()\n",
    "        optimizer.zero_grad()\n",
    "        input_x = torch.Tensor(test_X)\n",
    "        true_y = torch.Tensor(test_y)\n",
    "        pred_y = model(input_x).detach().numpy()\n",
    "        mae = mean_absolute_error(true_y, pred_y)\n",
    "        list_mae.append(mae)\n",
    "        list_mae_epoch.append(i)"
   ]
  },
  {
   "cell_type": "code",
   "execution_count": 16,
   "metadata": {},
   "outputs": [
    {
     "data": {
      "image/png": "[encoded data removed]",
      "text/plain": [
       "<Figure size 1080x360 with 2 Axes>"
      ]
     },
     "metadata": {
      "needs_background": "light"
     },
     "output_type": "display_data"
    }
   ],
   "source": [
    "fig = plt.figure(figsize=(15,5))\n",
    "\n",
    "###### loss fluctuation ####\n",
    "ax1 = fig.add_subplot(1,2,1)\n",
    "ax1.plot(list_epoch, list_train_loss, label = 'train_loss')\n",
    "ax1.plot(list_epoch, list_val_loss,'--' ,label = 'val_loss')\n",
    "ax1.set_xlabel('epoch')\n",
    "ax1.set_ylabel('loss')\n",
    "ax1.set_ylim(0,5)\n",
    "ax1.grid()\n",
    "ax1.legend()\n",
    "ax1.set_title('epoch vs loss')\n",
    "\n",
    "########## metric fluctuation #######\n",
    "\n",
    "ax2 = fig.add_subplot(1,2,2)\n",
    "ax2.plot(list_mae_epoch,list_mae, marker='x',label ='mae metric')\n",
    "ax2.set_xlabel('epoch')\n",
    "ax2.set_ylabel('mae')\n",
    "\n",
    "ax2.grid()\n",
    "ax2.legend()\n",
    "ax2.set_title('epoch vs mae')\n",
    "\n",
    "plt.show()\n"
   ]
  },
  {
   "cell_type": "code",
   "execution_count": null,
   "metadata": {},
   "outputs": [],
   "source": []
  }
 ],
 "metadata": {
  "kernelspec": {
   "display_name": "Python 3",
   "language": "python",
   "name": "python3"
  },
  "language_info": {
   "codemirror_mode": {
    "name": "ipython",
    "version": 3
   },
   "file_extension": ".py",
   "mimetype": "text/x-python",
   "name": "python",
   "nbconvert_exporter": "python",
   "pygments_lexer": "ipython3",
   "version": "3.8.8"
  }
 },
 "nbformat": 4,
 "nbformat_minor": 4
}
