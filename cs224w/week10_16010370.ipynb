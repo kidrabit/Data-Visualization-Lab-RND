{
 "cells": [
  {
   "cell_type": "code",
   "execution_count": 1,
   "id": "65c5ad95",
   "metadata": {},
   "outputs": [],
   "source": [
    "import numpy as np"
   ]
  },
  {
   "cell_type": "code",
   "execution_count": 9,
   "id": "43f83d42",
   "metadata": {},
   "outputs": [],
   "source": [
    "def overflow_softmax(x):\n",
    "    x = np.exp(x-np.max(x))\n",
    "    \n",
    "    return x/x.sum()"
   ]
  },
  {
   "cell_type": "code",
   "execution_count": 10,
   "id": "eb4b7a9a",
   "metadata": {
    "scrolled": true
   },
   "outputs": [
    {
     "name": "stdout",
     "output_type": "stream",
     "text": [
      "[1. 0. 0. 0.]\n",
      "[1. 0. 0. 0.]\n"
     ]
    }
   ],
   "source": [
    "x = np.array([10**19, 790, 800,100])\n",
    "print(overflow_softmax(x))\n",
    "print(np.round(1e3*overflow_softmax(x)/1e3))"
   ]
  },
  {
   "cell_type": "code",
   "execution_count": null,
   "id": "aca51705",
   "metadata": {},
   "outputs": [],
   "source": []
  }
 ],
 "metadata": {
  "kernelspec": {
   "display_name": "Python 3",
   "language": "python",
   "name": "python3"
  },
  "language_info": {
   "codemirror_mode": {
    "name": "ipython",
    "version": 3
   },
   "file_extension": ".py",
   "mimetype": "text/x-python",
   "name": "python",
   "nbconvert_exporter": "python",
   "pygments_lexer": "ipython3",
   "version": "3.8.8"
  }
 },
 "nbformat": 4,
 "nbformat_minor": 5
}
