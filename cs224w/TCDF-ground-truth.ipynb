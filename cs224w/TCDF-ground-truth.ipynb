{
 "cells": [
  {
   "cell_type": "code",
   "execution_count": 1,
   "id": "7fa5b20f",
   "metadata": {},
   "outputs": [],
   "source": [
    "import numpy as np\n",
    "from scipy.integrate import odeint\n",
    "import matplotlib.pyplot as plt\n",
    "  \n",
    "import torch\n",
    "import torch.nn as nn\n",
    "import numpy as np\n",
    "from copy import deepcopy\n",
    "\n",
    "def lorenz(x, t, F):\n",
    "    '''Partial derivatives for Lorenz-96 ODE.'''\n",
    "    p = len(x)\n",
    "    dxdt = np.zeros(p)\n",
    "    for i in range(p):\n",
    "        dxdt[i] = (x[(i+1) % p] - x[(i-2) % p]) * x[(i-1) % p] - x[i] + F\n",
    "\n",
    "    return dxdt\n",
    "\n",
    "def simulate_lorenz_96(p, T, F=10.0, delta_t=0.1, sd=0.1, burn_in=1000,\n",
    "                       seed=0):\n",
    "    if seed is not None:\n",
    "        np.random.seed(seed)\n",
    "\n",
    "    # Use scipy to solve ODE.\n",
    "    x0 = np.random.normal(scale=0.01, size=p)\n",
    "    t = np.linspace(0, (T + burn_in) * delta_t, T + burn_in)\n",
    "    X = odeint(lorenz, x0, t, args=(F,))\n",
    "    X += np.random.normal(scale=sd, size=(T + burn_in, p))\n",
    "\n",
    "    # Set up Granger causality ground truth.\n",
    "    GC = np.zeros((p, p), dtype=int)\n",
    "    for i in range(p):\n",
    "        GC[i, i] = 1\n",
    "        GC[i, (i + 1) % p] = 1\n",
    "        GC[i, (i - 1) % p] = 1\n",
    "        GC[i, (i - 2) % p] = 1\n",
    "\n",
    "    return X[burn_in:], GC"
   ]
  },
  {
   "cell_type": "code",
   "execution_count": 3,
   "id": "a2e1ebf9",
   "metadata": {},
   "outputs": [],
   "source": [
    "import pandas as pd\n",
    "device = torch.device('cuda')\n",
    "X_np, GC = simulate_lorenz_96(p=10, F=10, T=1000)\n",
    "data_df = pd.DataFrame(X_np)"
   ]
  },
  {
   "cell_type": "code",
   "execution_count": 6,
   "id": "6d0cd6ec",
   "metadata": {},
   "outputs": [],
   "source": [
    "data_df.to_csv('data/data_df.csv',index= False)"
   ]
  },
  {
   "cell_type": "code",
   "execution_count": 18,
   "id": "44418039",
   "metadata": {
    "scrolled": true
   },
   "outputs": [
    {
     "name": "stdout",
     "output_type": "stream",
     "text": [
      "Arguments: Namespace(cuda=True, data=['data/data_df.csv'], dilation_coefficient=4, epochs=1000, ground_truth=None, hidden_layers=2, kernel_size=58, learning_rate=0.01, log_interval=500, optimizer='Adam', plot=True, seed=1111, significance=0.99)\n",
      "WARNING: The dilation coefficient is not equal to the kernel size. Multiple paths can lead to the same delays. Set kernel_size equal to dilation_c to have exaxtly one path for each delay.\n",
      "\n",
      " Dataset:  data_df.csv\n",
      "\n",
      " Analysis started for target:  0\n",
      "Epoch:  1 [0%] \tLoss: 23.861038\n",
      "Epoch: 500 [50%] \tLoss: 0.064695\n",
      "Epoch: 1000 [100%] \tLoss: 0.014390\n",
      "Potential causes:  [0, 8, 4]\n",
      "Validated causes:  [0, 8, 4]\n",
      "\n",
      " Analysis started for target:  1\n",
      "Epoch:  1 [0%] \tLoss: 27.322895\n",
      "Epoch: 500 [50%] \tLoss: 0.062169\n",
      "Epoch: 1000 [100%] \tLoss: 0.013305\n",
      "Potential causes:  [1, 8]\n",
      "Validated causes:  [1, 8]\n",
      "\n",
      " Analysis started for target:  2\n",
      "Epoch:  1 [0%] \tLoss: 25.302431\n",
      "Epoch: 500 [50%] \tLoss: 0.061714\n",
      "Epoch: 1000 [100%] \tLoss: 0.012721\n",
      "Potential causes:  [2, 3]\n",
      "Validated causes:  [2, 3]\n",
      "\n",
      " Analysis started for target:  3\n",
      "Epoch:  1 [0%] \tLoss: 23.034161\n",
      "Epoch: 500 [50%] \tLoss: 0.047143\n",
      "Epoch: 1000 [100%] \tLoss: 0.010321\n",
      "Potential causes:  [7, 3]\n",
      "Validated causes:  [7, 3]\n",
      "\n",
      " Analysis started for target:  4\n",
      "Epoch:  1 [0%] \tLoss: 28.384300\n",
      "Epoch: 500 [50%] \tLoss: 0.106734\n",
      "Epoch: 1000 [100%] \tLoss: 0.028743\n",
      "Potential causes:  [4, 5, 2]\n",
      "Validated causes:  [4, 5, 2]\n",
      "\n",
      " Analysis started for target:  5\n",
      "Epoch:  1 [0%] \tLoss: 26.365040\n",
      "Epoch: 500 [50%] \tLoss: 0.077689\n",
      "Epoch: 1000 [100%] \tLoss: 0.031226\n",
      "Potential causes:  [5, 4, 3, 1]\n",
      "Validated causes:  [5, 4, 3, 1]\n",
      "\n",
      " Analysis started for target:  6\n",
      "Epoch:  1 [0%] \tLoss: 27.063955\n",
      "Epoch: 500 [50%] \tLoss: 0.091025\n",
      "Epoch: 1000 [100%] \tLoss: 0.021265\n",
      "Potential causes:  [4, 3]\n",
      "Validated causes:  [4, 3]\n",
      "\n",
      " Analysis started for target:  7\n",
      "Epoch:  1 [0%] \tLoss: 28.099150\n",
      "Epoch: 500 [50%] \tLoss: 0.103630\n",
      "Epoch: 1000 [100%] \tLoss: 0.013377\n",
      "Potential causes:  [7, 8]\n",
      "Validated causes:  [7, 8]\n",
      "\n",
      " Analysis started for target:  8\n",
      "Epoch:  1 [0%] \tLoss: 25.667759\n",
      "Epoch: 500 [50%] \tLoss: 0.060987\n",
      "Epoch: 1000 [100%] \tLoss: 0.025625\n",
      "Potential causes:  [8, 7, 2]\n",
      "Validated causes:  [8, 7, 2]\n",
      "\n",
      " Analysis started for target:  9\n",
      "Epoch:  1 [0%] \tLoss: 24.174450\n",
      "Epoch: 500 [50%] \tLoss: 0.047719\n",
      "Epoch: 1000 [100%] \tLoss: 0.013212\n",
      "Potential causes:  [7, 9]\n",
      "Validated causes:  [7, 9]\n",
      "\n",
      "===================Results for data_df.csv ==================================\n",
      "0 causes 0 with a delay of 1 time steps.\n",
      "8 causes 0 with a delay of 1 time steps.\n",
      "4 causes 0 with a delay of 94 time steps.\n",
      "1 causes 1 with a delay of 913 time steps.\n",
      "8 causes 1 with a delay of 555 time steps.\n",
      "2 causes 2 with a delay of 909 time steps.\n",
      "3 causes 2 with a delay of 273 time steps.\n",
      "7 causes 3 with a delay of 922 time steps.\n",
      "3 causes 3 with a delay of 41 time steps.\n",
      "4 causes 4 with a delay of 1 time steps.\n",
      "5 causes 4 with a delay of 857 time steps.\n",
      "2 causes 4 with a delay of 913 time steps.\n",
      "5 causes 5 with a delay of 913 time steps.\n",
      "4 causes 5 with a delay of 120 time steps.\n",
      "3 causes 5 with a delay of 938 time steps.\n",
      "1 causes 5 with a delay of 135 time steps.\n",
      "4 causes 6 with a delay of 764 time steps.\n",
      "3 causes 6 with a delay of 983 time steps.\n",
      "7 causes 7 with a delay of 1 time steps.\n",
      "8 causes 7 with a delay of 256 time steps.\n",
      "8 causes 8 with a delay of 1 time steps.\n",
      "7 causes 8 with a delay of 965 time steps.\n",
      "2 causes 8 with a delay of 269 time steps.\n",
      "7 causes 9 with a delay of 979 time steps.\n",
      "9 causes 9 with a delay of 17 time steps.\n",
      "==================================================================================\n"
     ]
    },
    {
     "data": {
      "image/png": "[encoded data removed]",
      "text/plain": [
       "<Figure size 432x288 with 1 Axes>"
      ]
     },
     "metadata": {},
     "output_type": "display_data"
    },
    {
     "data": {
      "text/plain": [
       "<Figure size 432x288 with 0 Axes>"
      ]
     },
     "metadata": {},
     "output_type": "display_data"
    }
   ],
   "source": [
    "\"\"\"Run TCDF\"\"\"\n",
    "%matplotlib inline\n",
    "%run -i \"runTCDF.py\" --data data/data_df.csv  --cuda --significance 0.99 --hidden_layers 2 --kernel_size 58 --log_interval 500 --epochs 1000 --plot"
   ]
  },
  {
   "cell_type": "code",
   "execution_count": 19,
   "id": "7153de55",
   "metadata": {},
   "outputs": [],
   "source": [
    "read_dictionary = np.load('my_file.npy',allow_pickle='TRUE').item()"
   ]
  },
  {
   "cell_type": "code",
   "execution_count": 38,
   "id": "e861ea26",
   "metadata": {},
   "outputs": [],
   "source": [
    "GC_set = np.zeros((10,10))\n",
    "for i in list(read_dictionary.keys()):\n",
    "    index1 = i\n",
    "    for j in read_dictionary[i]:\n",
    "        index2 = j\n",
    "        GC_set[i][j] = 1"
   ]
  },
  {
   "cell_type": "code",
   "execution_count": 44,
   "id": "2f0589e3",
   "metadata": {},
   "outputs": [
    {
     "name": "stdout",
     "output_type": "stream",
     "text": [
      "True variable usage = 40.00%\n",
      "Estimated variable usage = 25.00%\n",
      "Accuracy = 73.00%\n"
     ]
    },
    {
     "data": {
      "image/png": "[encoded data removed]",
      "text/plain": [
       "<Figure size 720x360 with 2 Axes>"
      ]
     },
     "metadata": {},
     "output_type": "display_data"
    }
   ],
   "source": [
    "print('True variable usage = %.2f%%' % (100 * np.mean(GC)))\n",
    "print('Estimated variable usage = %.2f%%' % (100 * np.mean(GC_set)))\n",
    "print('Accuracy = %.2f%%' % (100 * np.mean(GC == GC_set)))\n",
    "\n",
    "# Make figures\n",
    "fig, axarr = plt.subplots(1, 2, figsize=(10, 5))\n",
    "axarr[0].imshow(GC, cmap='Blues')\n",
    "axarr[0].set_title('GC actual')\n",
    "axarr[0].set_ylabel('Affected series')\n",
    "axarr[0].set_xlabel('Causal series')\n",
    "axarr[0].set_xticks([])\n",
    "axarr[0].set_yticks([])\n",
    "\n",
    "axarr[1].imshow(GC_set, cmap='Blues', vmin=0, vmax=1, extent=(0, len(GC_set), len(GC_set), 0))\n",
    "axarr[1].set_ylabel('Affected series')\n",
    "axarr[1].set_xlabel('Causal series')\n",
    "axarr[1].set_xticks([])\n",
    "axarr[1].set_yticks([])\n",
    "\n",
    "# Mark disagreements\n",
    "for i in range(len(GC_set)):\n",
    "    for j in range(len(GC_set)):\n",
    "        if GC[i, j] != GC_set[i, j]:\n",
    "            rect = plt.Rectangle((j, i-0.05), 1, 1, facecolor='none', edgecolor='red', linewidth=1)\n",
    "            axarr[1].add_patch(rect)\n",
    "\n",
    "plt.show()"
   ]
  },
  {
   "cell_type": "code",
   "execution_count": null,
   "id": "c4ac050b",
   "metadata": {},
   "outputs": [],
   "source": []
  }
 ],
 "metadata": {
  "kernelspec": {
   "display_name": "Python 3",
   "language": "python",
   "name": "python3"
  },
  "language_info": {
   "codemirror_mode": {
    "name": "ipython",
    "version": 3
   },
   "file_extension": ".py",
   "mimetype": "text/x-python",
   "name": "python",
   "nbconvert_exporter": "python",
   "pygments_lexer": "ipython3",
   "version": "3.8.8"
  }
 },
 "nbformat": 4,
 "nbformat_minor": 5
}
