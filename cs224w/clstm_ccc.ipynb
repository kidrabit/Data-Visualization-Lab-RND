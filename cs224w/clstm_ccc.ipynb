{
 "cells": [
  {
   "cell_type": "code",
   "execution_count": 2,
   "id": "47d673ad",
   "metadata": {},
   "outputs": [],
   "source": [
    "import torch\n",
    "import numpy as np\n",
    "import matplotlib.pyplot as plt\n",
    "import models.clstm as clstm\n",
    "import random\n",
    "\n",
    "device = torch.device('cuda')\n",
    "import pandas as pd\n",
    "df_1 = pd.read_csv('C:/Users\\chanyoung/Desktop/CausalDiscoveryToolbox-master/CausalDiscoveryToolbox-master/cdt/data/resources/cyto_full_data.csv')"
   ]
  },
  {
   "cell_type": "code",
   "execution_count": 16,
   "id": "c628c13f",
   "metadata": {},
   "outputs": [],
   "source": [
    "X_np = df_1[:1000]"
   ]
  },
  {
   "cell_type": "code",
   "execution_count": 17,
   "id": "38a6a7d8",
   "metadata": {},
   "outputs": [],
   "source": [
    "np.random.seed(42)\n",
    "torch.manual_seed(42)\n",
    "torch.cuda.manual_seed(42)\n",
    "df_1_ = X_np.values\n",
    "X_1 =torch.tensor(df_1_[np.newaxis], dtype = torch.float32, device = device)"
   ]
  },
  {
   "cell_type": "code",
   "execution_count": 18,
   "id": "03880179",
   "metadata": {},
   "outputs": [],
   "source": [
    "np.random.seed(42)\n",
    "torch.manual_seed(42)\n",
    "torch.cuda.manual_seed(42)\n",
    "clstm_block1 = clstm.cLSTM(X_1.shape[-1], hidden=100).cuda(device=device)"
   ]
  },
  {
   "cell_type": "code",
   "execution_count": 19,
   "id": "de94512d",
   "metadata": {
    "scrolled": true
   },
   "outputs": [
    {
     "name": "stdout",
     "output_type": "stream",
     "text": [
      "----------Iter = 100----------\n",
      "Loss = 20067.554688\n",
      "Variable usage = 100.00%\n",
      "----------Iter = 200----------\n",
      "Loss = 19995.410156\n",
      "Variable usage = 54.55%\n",
      "----------Iter = 300----------\n",
      "Loss = 19975.460938\n",
      "Variable usage = 52.89%\n",
      "----------Iter = 400----------\n",
      "Loss = 19951.898438\n",
      "Variable usage = 64.46%\n",
      "----------Iter = 500----------\n",
      "Loss = 19940.394531\n",
      "Variable usage = 62.81%\n",
      "----------Iter = 600----------\n",
      "Loss = 19927.925781\n",
      "Variable usage = 64.46%\n",
      "----------Iter = 700----------\n",
      "Loss = 19893.599609\n",
      "Variable usage = 57.02%\n",
      "----------Iter = 800----------\n",
      "Loss = 19934.371094\n",
      "Variable usage = 66.12%\n",
      "----------Iter = 900----------\n",
      "Loss = 19898.318359\n",
      "Variable usage = 57.85%\n",
      "----------Iter = 1000----------\n",
      "Loss = 19889.742188\n",
      "Variable usage = 57.85%\n",
      "----------Iter = 1100----------\n",
      "Loss = 19909.152344\n",
      "Variable usage = 62.81%\n",
      "----------Iter = 1200----------\n",
      "Loss = 19873.699219\n",
      "Variable usage = 65.29%\n",
      "----------Iter = 1300----------\n",
      "Loss = 19858.179688\n",
      "Variable usage = 61.16%\n",
      "----------Iter = 1400----------\n",
      "Loss = 19869.435547\n",
      "Variable usage = 69.42%\n",
      "----------Iter = 1500----------\n",
      "Loss = 19863.578125\n",
      "Variable usage = 63.64%\n",
      "----------Iter = 1600----------\n",
      "Loss = 19988.955078\n",
      "Variable usage = 58.68%\n",
      "----------Iter = 1700----------\n",
      "Loss = 19881.375000\n",
      "Variable usage = 61.98%\n",
      "----------Iter = 1800----------\n",
      "Loss = 19859.345703\n",
      "Variable usage = 66.12%\n",
      "Stopping early\n"
     ]
    }
   ],
   "source": [
    "train_loss_ista_true = clstm.train_model_ista(\n",
    "    clstm_block1, X_1, context=10, lam=10.0, lam_ridge=1e-2, lr=1e-3, max_iter=10000,\n",
    "    check_every=100)"
   ]
  },
  {
   "cell_type": "code",
   "execution_count": null,
   "id": "8af208c9",
   "metadata": {},
   "outputs": [],
   "source": []
  }
 ],
 "metadata": {
  "kernelspec": {
   "display_name": "Python 3",
   "language": "python",
   "name": "python3"
  },
  "language_info": {
   "codemirror_mode": {
    "name": "ipython",
    "version": 3
   },
   "file_extension": ".py",
   "mimetype": "text/x-python",
   "name": "python",
   "nbconvert_exporter": "python",
   "pygments_lexer": "ipython3",
   "version": "3.8.8"
  }
 },
 "nbformat": 4,
 "nbformat_minor": 5
}
