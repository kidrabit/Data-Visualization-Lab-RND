{
 "cells": [
  {
   "cell_type": "code",
   "execution_count": 1,
   "id": "a39ebcf8",
   "metadata": {},
   "outputs": [],
   "source": [
    "import torch\n",
    "import torch.nn as nn\n",
    "import numpy as np\n",
    "from copy import deepcopy\n",
    "\n",
    "\n",
    "class RNN(nn.Module):\n",
    "    def __init__(self, num_series, hidden, nonlinearity):\n",
    "        '''\n",
    "        RNN model with output layer to generate predictions.\n",
    "        Args:\n",
    "          num_series: number of input time series.\n",
    "          hidden: number of hidden units.\n",
    "        '''\n",
    "        super(RNN, self).__init__()\n",
    "        self.p = num_series\n",
    "        self.hidden = hidden\n",
    "\n",
    "        # Set up network.\n",
    "        self.rnn = nn.RNN(num_series, hidden, nonlinearity=nonlinearity,\n",
    "                          batch_first=True)\n",
    "        self.rnn.flatten_parameters()\n",
    "        self.linear = nn.Conv1d(hidden, 1, 1)\n",
    "\n",
    "    def init_hidden(self, batch):\n",
    "        '''Initialize hidden states for RNN cell.'''\n",
    "        device = self.rnn.weight_ih_l0.device\n",
    "        return torch.zeros(1, batch, self.hidden, device=device)\n",
    "\n",
    "    def forward(self, X, hidden=None, truncation=None):\n",
    "        # Set up hidden state.\n",
    "        if hidden is None:\n",
    "            hidden = self.init_hidden(X.shape[0])\n",
    "\n",
    "        # Apply RNN.\n",
    "        X, hidden = self.rnn(X, hidden)\n",
    "\n",
    "        # Calculate predictions using output layer.\n",
    "        X = X.transpose(2, 1)\n",
    "        X = self.linear(X)\n",
    "        return X.transpose(2, 1), hidden"
   ]
  },
  {
   "cell_type": "code",
   "execution_count": null,
   "id": "30cefc66",
   "metadata": {},
   "outputs": [],
   "source": []
  }
 ],
 "metadata": {
  "kernelspec": {
   "display_name": "Python 3",
   "language": "python",
   "name": "python3"
  },
  "language_info": {
   "codemirror_mode": {
    "name": "ipython",
    "version": 3
   },
   "file_extension": ".py",
   "mimetype": "text/x-python",
   "name": "python",
   "nbconvert_exporter": "python",
   "pygments_lexer": "ipython3",
   "version": "3.8.8"
  }
 },
 "nbformat": 4,
 "nbformat_minor": 5
}
