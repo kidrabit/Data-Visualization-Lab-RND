{
 "cells": [
  {
   "cell_type": "code",
   "execution_count": null,
   "id": "a1367fba",
   "metadata": {},
   "outputs": [],
   "source": [
    "np.random.seed(42)\n",
    "torch.manual_seed(42)\n",
    "torch.cuda.manual_seed(42)\n",
    "df_1_ = df_1.values\n",
    "X_1 =torch.tensor(df_1_[np.newaxis], dtype = torch.float32, device = device)\n",
    "\n",
    "df_2_ = df_2.values\n",
    "X_2 =torch.tensor(df_2_[np.newaxis], dtype = torch.float32, device = device)\n",
    "\n",
    "df_3_ = df_3.values\n",
    "df_3_ =torch.tensor(df_3_[np.newaxis], dtype = torch.float32, device = device)"
   ]
  }
 ],
 "metadata": {
  "kernelspec": {
   "display_name": "Python 3",
   "language": "python",
   "name": "python3"
  },
  "language_info": {
   "codemirror_mode": {
    "name": "ipython",
    "version": 3
   },
   "file_extension": ".py",
   "mimetype": "text/x-python",
   "name": "python",
   "nbconvert_exporter": "python",
   "pygments_lexer": "ipython3",
   "version": "3.8.8"
  }
 },
 "nbformat": 4,
 "nbformat_minor": 5
}
