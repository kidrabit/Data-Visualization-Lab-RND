{
 "cells": [
  {
   "cell_type": "markdown",
   "id": "40bd4d59",
   "metadata": {},
   "source": [
    "## How hard is influence maximization\n",
    " - Problem: Most influential set of size k를 찾자.\n",
    " - 사실 most influential set of size k를 찾는 것, 즉 $max_{S of size k} f(S)$ 를 만족시키는 optimal solution을 찾는 것은 NP-Complete problem이다. "
   ]
  },
  {
   "cell_type": "markdown",
   "id": "0e44d5a4",
   "metadata": {},
   "source": [
    "## Solution: The Approximation Algorithm (Greedy Hill Climbing)\n",
    " - $X_u : u$가 active할 수 있는 node-set라고 할 때,\n",
    " - input: Influence set $X_u$ of each node $u$: $X_u = ${$v_1,v_2,...$}\n",
    "     - That is,if we activate u, nodes {$v_1,v_2,...$} will eventaully get active\n",
    " - Algorithm: 각 반복마다  f(S)를 크게 만드는 노드 u를 찾는다. 즉, $max_uf(S_{i-1} U${u}$)$\n",
    " - pseudo code\n",
    " <img src ='attachment:image.png' width = 40%>\n",
    " - 위의 식을 보아 각 iter마다 f(S)를 최대로 만드는 node u를 subset에 추가하므로, greedy한것을 알수 있다.\n",
    " - f의 두가지 prooerties\n",
    "     - f는 단조함수이다. 즉,  줄곧 상승하거나 줄곧 하강한다.\n",
    "     - f는 submodular이다. 즉, large set과 특정 노드를 추가하였을 때 얻는 gain이 small set에 특정 노드를 추가하였을 때 얻는 gain보다 크지 않을 수 있다. 이는 overlap 때문에 발생한다.\n",
    "     <img src = \"attachment:image-2.png\" width = 40%>\n",
    "     \n",
    " ### Plan: Prove 2 things (1) Our f(S) is submodular\n",
    " \n",
    " #### Background : Submodular Functions\n",
    "  - submodular는 다음과 같은 특징이 있다.\n",
    "  - Basic fact 1:\n",
    "  <img src = \"attachment:image-3.png\" width = 40%>\n",
    "  - Basic fact 2:\n",
    "  <img src = \"attachment:image-4.png\" width = 40%>\n",
    "  - 이를 보았을 때 influence maximization을 set cover problem으로 정의할 수 있다.\n",
    "  \n",
    " - Our f(S) is submodular!\n",
    "     - proof strategy:\n",
    "         - set cover proble : f(S) is the size of the union of nodes influenced by active set S\n",
    "         - note f(S) is random (a result of a randeom process) so we need to be a bit careful\n",
    "         - Principle of deferred decision to the rescue\n",
    "     - We will create many parallel possible worlds and then average over them\n",
    "     - Principle of deferred decision\n",
    "         - 동시에 모든 edge에 해당하는 확률에 해당하는 coin을 flip하여 deterministic graph를 만든다. (active하지 않은 edge를 drop시키는 것임.)\n",
    "         - 각각의 노드의 를 구한다. \n",
    "         - 위의 과정을 i번 반복한다.\n",
    "         \n",
    "(what is influence set $X_u$ of node u? : the set reachable by live-edge paths from u)\n",
    "\n",
    "(what is now f(S)? : $f_i(S)$ = size of the set reachable by live-edfe paths from nodes in S)\n",
    "<img src = \"attachment:image-5.png\" width = 40%>\n",
    "<img src = \"attachment:image-6.png\" width = 40%>\n",
    "<img src = \"attachment:image-7.png\" width = 40%>\n",
    "\n",
    " ### Plan: Prove 2 things (2) Hill Climbing gives near optimal solutions\n",
    "  - Claim : When f(S) is monotone and submodular then Hill climbing produces active set S\n",
    "  - where: $f(S) >= (1 - 1/e)*f(OPT)$\n",
    "  - No matter what is the input_data, we know that the Hill-Climbing will never do worse than 0.63*f(OPT)\n"
   ]
  },
  {
   "cell_type": "code",
   "execution_count": null,
   "id": "abbb5e2d",
   "metadata": {},
   "outputs": [],
   "source": []
  }
 ],
 "metadata": {
  "kernelspec": {
   "display_name": "Python 3",
   "language": "python",
   "name": "python3"
  },
  "language_info": {
   "codemirror_mode": {
    "name": "ipython",
    "version": 3
   },
   "file_extension": ".py",
   "mimetype": "text/x-python",
   "name": "python",
   "nbconvert_exporter": "python",
   "pygments_lexer": "ipython3",
   "version": "3.8.8"
  }
 },
 "nbformat": 4,
 "nbformat_minor": 5
}
