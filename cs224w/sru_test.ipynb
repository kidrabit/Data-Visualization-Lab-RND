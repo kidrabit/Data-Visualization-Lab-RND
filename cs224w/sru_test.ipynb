{
 "cells": [
  {
   "cell_type": "code",
   "execution_count": 1,
   "id": "75c5dda7",
   "metadata": {},
   "outputs": [],
   "source": [
    "import math\n",
    "import argparse\n",
    "import torch\n",
    "from torch import autograd\n",
    "import torch.nn as nn\n",
    "import torch.nn.functional as F\n",
    "import matplotlib\n",
    "import sys\n",
    "import numpy as np\n",
    "import pylab\n",
    "from matplotlib import pyplot as plt \n",
    "import time\n",
    "import sys\n",
    "from models.sru import SRU, trainSRU\n",
    "from models.esru_1LF import eSRU_1LF, train_eSRU_1LF\n",
    "from models.esru_2LF import eSRU_2LF, train_eSRU_2LF\n",
    "from utils.utilFuncs import env_config, loadTrainingData, loadTrueNetwork, getCausalNodes, count_parameters, getGeneTrainingData  "
   ]
  },
  {
   "cell_type": "code",
   "execution_count": 2,
   "id": "58608e98",
   "metadata": {},
   "outputs": [],
   "source": [
    "fileName = \"data/lorenz96/F_%s_T_%s_dataset_%s.npz\" % (10, 1000, 1)\n",
    "device = torch.device('cuda')\n",
    "ld = np.load(fileName)\n",
    "X_np = ld['X_np']\n",
    "Gref = ld['Gref']\n",
    "numTotalSamples = 500\n",
    "Xtrain = torch.from_numpy(X_np)\n",
    "Xtrain = Xtrain.float().to(device)\n",
    "inputSignalMultiplier = 1\n",
    "Xtrain = inputSignalMultiplier * Xtrain"
   ]
  },
  {
   "cell_type": "code",
   "execution_count": 6,
   "id": "3964753a",
   "metadata": {},
   "outputs": [
    {
     "data": {
      "text/plain": [
       "torch.Size([10, 1000])"
      ]
     },
     "execution_count": 6,
     "metadata": {},
     "output_type": "execute_result"
    }
   ],
   "source": [
    "Xtrain.size()"
   ]
  },
  {
   "cell_type": "code",
   "execution_count": 3,
   "id": "2e5efcb9",
   "metadata": {},
   "outputs": [],
   "source": [
    "lr_gamma = 0.99\n",
    "lr_update_gap = 4\n",
    "staggerTrainWin = 1 \n",
    "stoppingThresh = 1e-5;\n",
    "trainVerboseLvl = 2\n",
    "lr = 0.0005\n",
    "lambda1 = 10\n",
    "lambda2 = 10\n",
    "lambda3 = 10\n",
    "n_inp_channels = 10 \n",
    "n_out_channels = 1"
   ]
  },
  {
   "cell_type": "code",
   "execution_count": 4,
   "id": "51181c50",
   "metadata": {},
   "outputs": [],
   "source": [
    "A = [0.0, 0.01, 0.1, 0.99]\n",
    "dim_iid_stats = 10 \n",
    "dim_rec_stats = 10 \n",
    "dim_final_stats = 10 #d*len(A) \n",
    "dim_rec_stats_feedback = 10 #d*len(A)\n",
    "batchSize = 250\n",
    "blk_size = int(batchSize/2) \n",
    "numBatches = int(numTotalSamples/batchSize)"
   ]
  },
  {
   "cell_type": "code",
   "execution_count": 5,
   "id": "d92a8255",
   "metadata": {
    "scrolled": true
   },
   "outputs": [
    {
     "name": "stdout",
     "output_type": "stream",
     "text": [
      "node = 0\n",
      "741\n",
      "Predicted Node = 0 \t epoch = 2 \t lr = 0.0005 \t Training loss = 638.2857 \t Fit error = 24.9347 \t Delta = 0.006210\n",
      "Elapsed time (1) = 0.18694448471069336 seconds\n",
      "Predicted Node = 0 \t epoch = 4 \t lr = 0.0005 \t Training loss = 608.0179 \t Fit error = 26.4153 \t Delta = 0.006053\n",
      "Elapsed time (1) = 0.17593908309936523 seconds\n",
      "Predicted Node = 0 \t epoch = 6 \t lr = 0.0005 \t Training loss = 604.8831 \t Fit error = 54.2971 \t Delta = 0.005833\n",
      "Elapsed time (1) = 0.18395781517028809 seconds\n",
      "Predicted Node = 0 \t epoch = 8 \t lr = 0.0005 \t Training loss = 573.3242 \t Fit error = 52.8296 \t Delta = 0.005642\n",
      "Elapsed time (1) = 0.17897248268127441 seconds\n",
      "Predicted Node = 0 \t epoch = 10 \t lr = 0.0005 \t Training loss = 543.1338 \t Fit error = 52.3023 \t Delta = 0.005565\n",
      "Elapsed time (1) = 0.22698736190795898 seconds\n",
      "Predicted Node = 0 \t epoch = 12 \t lr = 0.0005 \t Training loss = 485.0543 \t Fit error = 23.1970 \t Delta = 0.005348\n",
      "Elapsed time (1) = 0.19780206680297852 seconds\n",
      "Predicted Node = 0 \t epoch = 14 \t lr = 0.0005 \t Training loss = 462.0232 \t Fit error = 28.6663 \t Delta = 0.005295\n",
      "Elapsed time (1) = 0.18496394157409668 seconds\n",
      "Predicted Node = 0 \t epoch = 16 \t lr = 0.0005 \t Training loss = 458.7258 \t Fit error = 53.4611 \t Delta = 0.005148\n",
      "Elapsed time (1) = 0.1799602508544922 seconds\n",
      "Predicted Node = 0 \t epoch = 18 \t lr = 0.0005 \t Training loss = 400.6242 \t Fit error = 22.6410 \t Delta = 0.004972\n",
      "Elapsed time (1) = 0.22304558753967285 seconds\n",
      "Predicted Node = 0 \t epoch = 20 \t lr = 0.0005 \t Training loss = 386.7377 \t Fit error = 35.4297 \t Delta = 0.004861\n",
      "Elapsed time (1) = 0.19688177108764648 seconds\n",
      "Predicted Node = 0 \t epoch = 22 \t lr = 0.0005 \t Training loss = 378.4219 \t Fit error = 52.9480 \t Delta = 0.004657\n",
      "Elapsed time (1) = 0.1681210994720459 seconds\n",
      "Predicted Node = 0 \t epoch = 24 \t lr = 0.0005 \t Training loss = 325.9804 \t Fit error = 25.0415 \t Delta = 0.004276\n",
      "Elapsed time (1) = 0.18000459671020508 seconds\n",
      "Predicted Node = 0 \t epoch = 26 \t lr = 0.0005 \t Training loss = 305.6385 \t Fit error = 27.9681 \t Delta = 0.004058\n",
      "Elapsed time (1) = 0.1782245635986328 seconds\n",
      "Predicted Node = 0 \t epoch = 28 \t lr = 0.0005 \t Training loss = 279.7899 \t Fit error = 23.9722 \t Delta = 0.003778\n",
      "Elapsed time (1) = 0.1959540843963623 seconds\n",
      "Predicted Node = 0 \t epoch = 30 \t lr = 0.0005 \t Training loss = 289.3847 \t Fit error = 53.5524 \t Delta = 0.003492\n",
      "Elapsed time (1) = 0.20692086219787598 seconds\n",
      "Predicted Node = 0 \t epoch = 32 \t lr = 0.0005 \t Training loss = 257.4742 \t Fit error = 39.8149 \t Delta = 0.003163\n",
      "Elapsed time (1) = 0.17602872848510742 seconds\n",
      "Predicted Node = 0 \t epoch = 34 \t lr = 0.0005 \t Training loss = 226.2088 \t Fit error = 24.9415 \t Delta = 0.002867\n",
      "Elapsed time (1) = 0.22791337966918945 seconds\n",
      "Predicted Node = 0 \t epoch = 36 \t lr = 0.0005 \t Training loss = 208.9696 \t Fit error = 22.7517 \t Delta = 0.002620\n",
      "Elapsed time (1) = 0.178938627243042 seconds\n",
      "Predicted Node = 0 \t epoch = 38 \t lr = 0.0005 \t Training loss = 205.5539 \t Fit error = 32.8032 \t Delta = 0.002427\n",
      "Elapsed time (1) = 0.1669466495513916 seconds\n",
      "Predicted Node = 0 \t epoch = 40 \t lr = 0.0005 \t Training loss = 185.7159 \t Fit error = 24.9621 \t Delta = 0.002113\n",
      "Elapsed time (1) = 0.21892476081848145 seconds\n",
      "Predicted Node = 0 \t epoch = 42 \t lr = 0.0005 \t Training loss = 207.7439 \t Fit error = 55.8812 \t Delta = 0.001644\n",
      "Elapsed time (1) = 0.21193695068359375 seconds\n",
      "Predicted Node = 0 \t epoch = 44 \t lr = 0.0004 \t Training loss = 170.4225 \t Fit error = 24.9694 \t Delta = 0.001264\n",
      "Elapsed time (1) = 0.17993879318237305 seconds\n",
      "Predicted Node = 0 \t epoch = 46 \t lr = 0.0004 \t Training loss = 169.8623 \t Fit error = 29.5445 \t Delta = 0.001057\n",
      "Elapsed time (1) = 0.19884347915649414 seconds\n",
      "Predicted Node = 0 \t epoch = 48 \t lr = 0.0004 \t Training loss = 192.4275 \t Fit error = 56.5705 \t Delta = 0.000979\n",
      "Elapsed time (1) = 0.18896269798278809 seconds\n",
      "Predicted Node = 0 \t epoch = 50 \t lr = 0.0004 \t Training loss = 184.9186 \t Fit error = 53.0425 \t Delta = 0.000841\n",
      "Elapsed time (1) = 0.1809847354888916 seconds\n",
      "Predicted Node = 0 \t epoch = 52 \t lr = 0.0004 \t Training loss = 179.4092 \t Fit error = 50.6667 \t Delta = 0.000710\n",
      "Elapsed time (1) = 0.17914104461669922 seconds\n",
      "Predicted Node = 0 \t epoch = 54 \t lr = 0.0004 \t Training loss = 182.6494 \t Fit error = 56.5691 \t Delta = 0.000627\n",
      "Elapsed time (1) = 0.17996644973754883 seconds\n",
      "Predicted Node = 0 \t epoch = 56 \t lr = 0.0004 \t Training loss = 178.6522 \t Fit error = 54.9501 \t Delta = 0.000583\n",
      "Elapsed time (1) = 0.18701791763305664 seconds\n",
      "Predicted Node = 0 \t epoch = 58 \t lr = 0.0004 \t Training loss = 175.4174 \t Fit error = 53.7312 \t Delta = 0.000469\n",
      "Elapsed time (1) = 0.18418192863464355 seconds\n",
      "Predicted Node = 0 \t epoch = 60 \t lr = 0.0004 \t Training loss = 145.8131 \t Fit error = 25.7588 \t Delta = 0.000398\n",
      "Elapsed time (1) = 0.20997071266174316 seconds\n",
      "Predicted Node = 0 \t epoch = 62 \t lr = 0.0004 \t Training loss = 146.8818 \t Fit error = 28.0824 \t Delta = 0.000273\n",
      "Elapsed time (1) = 0.19693803787231445 seconds\n",
      "Predicted Node = 0 \t epoch = 64 \t lr = 0.0004 \t Training loss = 149.3088 \t Fit error = 31.5083 \t Delta = 0.000250\n",
      "Elapsed time (1) = 0.17991161346435547 seconds\n",
      "Predicted Node = 0 \t epoch = 66 \t lr = 0.0004 \t Training loss = 169.8438 \t Fit error = 53.0424 \t Delta = 0.000250\n",
      "Elapsed time (1) = 0.19594168663024902 seconds\n",
      "Predicted Node = 0 \t epoch = 68 \t lr = 0.0004 \t Training loss = 161.9784 \t Fit error = 46.1762 \t Delta = 0.000250\n",
      "Elapsed time (1) = 0.18095922470092773 seconds\n",
      "Predicted Node = 0 \t epoch = 70 \t lr = 0.0004 \t Training loss = 143.1849 \t Fit error = 28.3821 \t Delta = 0.000250\n",
      "Elapsed time (1) = 0.19995594024658203 seconds\n",
      "Predicted Node = 0 \t epoch = 72 \t lr = 0.0004 \t Training loss = 139.7846 \t Fit error = 25.9139 \t Delta = 0.000225\n",
      "Elapsed time (1) = 0.18089556694030762 seconds\n",
      "Predicted Node = 0 \t epoch = 74 \t lr = 0.0004 \t Training loss = 160.7663 \t Fit error = 47.7726 \t Delta = 0.000207\n",
      "Elapsed time (1) = 0.1919870376586914 seconds\n",
      "Predicted Node = 0 \t epoch = 76 \t lr = 0.0004 \t Training loss = 143.7022 \t Fit error = 31.5083 \t Delta = 0.000200\n",
      "Elapsed time (1) = 0.2160019874572754 seconds\n",
      "Predicted Node = 0 \t epoch = 78 \t lr = 0.0004 \t Training loss = 135.1666 \t Fit error = 23.7724 \t Delta = 0.000200\n",
      "Elapsed time (1) = 0.20100116729736328 seconds\n",
      "Predicted Node = 0 \t epoch = 80 \t lr = 0.0004 \t Training loss = 138.7580 \t Fit error = 28.0795 \t Delta = 0.000175\n",
      "Elapsed time (1) = 0.17827987670898438 seconds\n",
      "Predicted Node = 0 \t epoch = 82 \t lr = 0.0004 \t Training loss = 162.9667 \t Fit error = 52.9117 \t Delta = 0.000138\n",
      "Elapsed time (1) = 0.18108797073364258 seconds\n",
      "Predicted Node = 0 \t epoch = 84 \t lr = 0.0004 \t Training loss = 137.6375 \t Fit error = 28.0824 \t Delta = 0.000125\n",
      "Elapsed time (1) = 0.21097350120544434 seconds\n",
      "Predicted Node = 0 \t epoch = 86 \t lr = 0.0004 \t Training loss = 136.2409 \t Fit error = 27.0170 \t Delta = 0.000062\n",
      "Elapsed time (1) = 0.1819171905517578 seconds\n",
      "Predicted Node = 0 \t epoch = 88 \t lr = 0.0004 \t Training loss = 133.9509 \t Fit error = 24.9269 \t Delta = 0.000050\n",
      "Elapsed time (1) = 0.19100594520568848 seconds\n",
      "Predicted Node = 0 \t epoch = 90 \t lr = 0.0004 \t Training loss = 131.9265 \t Fit error = 23.1024 \t Delta = 0.000050\n",
      "Elapsed time (1) = 0.19628000259399414 seconds\n",
      "Predicted Node = 0 \t epoch = 92 \t lr = 0.0004 \t Training loss = 161.1644 \t Fit error = 52.5403 \t Delta = 0.000050\n",
      "Elapsed time (1) = 0.19402384757995605 seconds\n",
      "Predicted Node = 0 \t epoch = 94 \t lr = 0.0004 \t Training loss = 156.1967 \t Fit error = 47.7726 \t Delta = 0.000050\n",
      "Elapsed time (1) = 0.17992568016052246 seconds\n",
      "Predicted Node = 0 \t epoch = 96 \t lr = 0.0004 \t Training loss = 133.1709 \t Fit error = 24.9259 \t Delta = 0.000033\n",
      "Elapsed time (1) = 0.1951313018798828 seconds\n",
      "Predicted Node = 0 \t epoch = 98 \t lr = 0.0004 \t Training loss = 159.3448 \t Fit error = 51.1708 \t Delta = 0.000004\n",
      "Elapsed time (1) = 0.19125747680664062 seconds\n",
      "Predicted Node = 0 \t epoch = 100 \t lr = 0.0004 \t Training loss = 133.3494 \t Fit error = 25.1755 \t Delta = 0.000000\n",
      "Elapsed time (1) = 0.19594860076904297 seconds\n",
      "Predicted Node = 0 \t epoch = 102 \t lr = 0.0004 \t Training loss = 164.0501 \t Fit error = 55.8761 \t Delta = 0.000000\n",
      "Elapsed time (1) = 0.17997431755065918 seconds\n"
     ]
    },
    {
     "name": "stdout",
     "output_type": "stream",
     "text": [
      "Predicted Node = 0 \t epoch = 104 \t lr = 0.0004 \t Training loss = 161.0857 \t Fit error = 52.9117 \t Delta = 0.000000\n",
      "Elapsed time (1) = 0.18425607681274414 seconds\n",
      "Predicted Node = 0 \t epoch = 106 \t lr = 0.0004 \t Training loss = 131.4824 \t Fit error = 23.3084 \t Delta = 0.000000\n",
      "Elapsed time (1) = 0.2018883228302002 seconds\n"
     ]
    },
    {
     "ename": "NameError",
     "evalue": "name 'Gest' is not defined",
     "output_type": "error",
     "traceback": [
      "\u001b[1;31m---------------------------------------------------------------------------\u001b[0m",
      "\u001b[1;31mNameError\u001b[0m                                 Traceback (most recent call last)",
      "\u001b[1;32m<ipython-input-5-cfb3d9d23dea>\u001b[0m in \u001b[0;36m<module>\u001b[1;34m\u001b[0m\n\u001b[0;32m      8\u001b[0m     model, lossVec = train_eSRU_1LF(model, Xtrain, device, numBatches, batchSize, blk_size, predictedNode, 1000,  \n\u001b[0;32m      9\u001b[0m         lambda1, lambda2, lambda3, lr, lr_gamma, lr_update_gap, staggerTrainWin, stoppingThresh, trainVerboseLvl)\n\u001b[1;32m---> 10\u001b[1;33m     \u001b[0mGest\u001b[0m\u001b[1;33m.\u001b[0m\u001b[0mdata\u001b[0m\u001b[1;33m[\u001b[0m\u001b[0mpredictedNode\u001b[0m\u001b[1;33m,\u001b[0m \u001b[1;33m:\u001b[0m\u001b[1;33m]\u001b[0m \u001b[1;33m=\u001b[0m \u001b[0mtorch\u001b[0m\u001b[1;33m.\u001b[0m\u001b[0mnorm\u001b[0m\u001b[1;33m(\u001b[0m\u001b[0mmodel\u001b[0m\u001b[1;33m.\u001b[0m\u001b[0mlin_xr2phi\u001b[0m\u001b[1;33m.\u001b[0m\u001b[0mweight\u001b[0m\u001b[1;33m.\u001b[0m\u001b[0mdata\u001b[0m\u001b[1;33m[\u001b[0m\u001b[1;33m:\u001b[0m\u001b[1;33m,\u001b[0m\u001b[1;33m:\u001b[0m\u001b[0mn\u001b[0m\u001b[1;33m]\u001b[0m\u001b[1;33m,\u001b[0m \u001b[0mp\u001b[0m\u001b[1;33m=\u001b[0m\u001b[1;36m2\u001b[0m\u001b[1;33m,\u001b[0m \u001b[0mdim\u001b[0m\u001b[1;33m=\u001b[0m\u001b[1;36m0\u001b[0m\u001b[1;33m)\u001b[0m\u001b[1;33m\u001b[0m\u001b[1;33m\u001b[0m\u001b[0m\n\u001b[0m\u001b[0;32m     11\u001b[0m     \u001b[0mprint\u001b[0m\u001b[1;33m(\u001b[0m\u001b[1;34m\"Elapsed time (1) = % s seconds\"\u001b[0m \u001b[1;33m%\u001b[0m \u001b[1;33m(\u001b[0m\u001b[0mtime\u001b[0m\u001b[1;33m.\u001b[0m\u001b[0mtime\u001b[0m\u001b[1;33m(\u001b[0m\u001b[1;33m)\u001b[0m \u001b[1;33m-\u001b[0m \u001b[0mstart\u001b[0m\u001b[1;33m)\u001b[0m\u001b[1;33m)\u001b[0m\u001b[1;33m\u001b[0m\u001b[1;33m\u001b[0m\u001b[0m\n",
      "\u001b[1;31mNameError\u001b[0m: name 'Gest' is not defined"
     ]
    }
   ],
   "source": [
    "n = 10\n",
    "for predictedNode in range(10):\n",
    "    start = time.time()\n",
    "    print(\"node = %d\" % (predictedNode))\n",
    "    model = eSRU_1LF(n_inp_channels, n_out_channels, dim_iid_stats, dim_rec_stats, dim_rec_stats_feedback, dim_final_stats,A, device)\n",
    "    model.to(device) # shift to CPU/GPU memory\n",
    "    print(count_parameters(model))\n",
    "    model, lossVec = train_eSRU_1LF(model, Xtrain, device, numBatches, batchSize, blk_size, predictedNode, 1000,  \n",
    "        lambda1, lambda2, lambda3, lr, lr_gamma, lr_update_gap, staggerTrainWin, stoppingThresh, trainVerboseLvl)\n",
    "    Gest.data[predictedNode, :] = torch.norm(model.lin_xr2phi.weight.data[:,:n], p=2, dim=0)\n",
    "    print(\"Elapsed time (1) = % s seconds\" % (time.time() - start)) "
   ]
  },
  {
   "cell_type": "code",
   "execution_count": null,
   "id": "d7053a77",
   "metadata": {},
   "outputs": [],
   "source": []
  }
 ],
 "metadata": {
  "kernelspec": {
   "display_name": "Python 3",
   "language": "python",
   "name": "python3"
  },
  "language_info": {
   "codemirror_mode": {
    "name": "ipython",
    "version": 3
   },
   "file_extension": ".py",
   "mimetype": "text/x-python",
   "name": "python",
   "nbconvert_exporter": "python",
   "pygments_lexer": "ipython3",
   "version": "3.8.8"
  }
 },
 "nbformat": 4,
 "nbformat_minor": 5
}
