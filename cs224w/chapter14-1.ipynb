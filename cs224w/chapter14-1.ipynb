{
 "cells": [
  {
   "cell_type": "markdown",
   "id": "a277f047",
   "metadata": {},
   "source": [
    "# Influence Maximization in Networks\n",
    " - network에서 가장 많은 node들을 activate할수 있는 k개의 Infuencer를 찾는 알고리즘"
   ]
  },
  {
   "cell_type": "markdown",
   "id": "b0644db0",
   "metadata": {},
   "source": [
    "## Viral Marketing\n",
    " - 영향력있는 고객선정\n",
    " - 그 고객들에게 무료 샘플이나 할인 혜택 제공\n",
    " - 사용한 제품을 주변지인에세 추천하는 과정을 거침\n",
    " - 그러나 영향을 받는 사람들을 (influenced people) 크게 만드는 k를 구하는건 쉬운일이 아님"
   ]
  },
  {
   "cell_type": "markdown",
   "id": "e7ac8673",
   "metadata": {},
   "source": [
    "## Two Classical Propagation Models\n",
    " \n",
    " ### Linear Threshold Model\n",
    "  - A node v has random threshold $\\theta_v$ ~ $U[0,1]$\n",
    "  - node가 각각의 neighbor(w)로 부터 영향을 받는 값을 $b_{v,w}$라고 할 때, 이 값을 모두 더해주면 1보다 작거나 같다.($\\sum_w b_{v,w} <= 1$)\n",
    "  - A node v becomes acrive whe at least (weighted) $theta_v$ fraction of its neighbors are active ($\\sum_w b_{v,w} >= \\theta_v$)\n",
    " <img src =  'attachment:image.png' width = 40%>\n",
    " \n",
    "### Independent Cascade Model(Probabilistic Contagion)\n",
    "  - Direacted finite G = (V,E)\n",
    "  - Set S starts out with new behavior \n",
    "      - say nodes with this behavior are \"active\"\n",
    "  - Each edge (v,w) has a probability $p_{v,w}$\n",
    "  - if noed v is active , it gets one chance to make w active with probability $p_{v,w}$\n",
    "      - each edge fires at most once\n",
    "  \n",
    "  #### Does scheduling matter? No\n",
    "      - if u,v are both active at the same time, it doesn't matter which tries to activate w first\n",
    "      - But the time moves in discrete(별개의) steps\n",
    "  <img src = 'attachment:image-2.png' width = 40%>\n",
    "  \n",
    "### Most Infuential Set\n",
    " \n",
    " #### Problem : k is user - specified parameter\n",
    " \n",
    " - f(S) : subset S 에서 active node의 수 ($f(S)$ = |$union_{u \\in S} X_u$|)\n",
    " - most infuential set of size k : set S of k nodes producing largest expected cascade size $f(S)$ if activated\n",
    " - 즉, Optimization problem : $max_{S of size k} f(S)$\n",
    "     - why \"expected cascade size\"? : Xa is result of a randeom process. So in practice we woild want to compute Xa for  many randeom realizations and then maximize the \"average\" value f(S). For now let's ignore this nuisance and simply assume that each node u influences a set of nodes Xu\n",
    " <img src = \"attachment:image-3.png\" width = 40%>"
   ]
  },
  {
   "cell_type": "code",
   "execution_count": null,
   "id": "9a6e556e",
   "metadata": {},
   "outputs": [],
   "source": []
  }
 ],
 "metadata": {
  "kernelspec": {
   "display_name": "Python 3",
   "language": "python",
   "name": "python3"
  },
  "language_info": {
   "codemirror_mode": {
    "name": "ipython",
    "version": 3
   },
   "file_extension": ".py",
   "mimetype": "text/x-python",
   "name": "python",
   "nbconvert_exporter": "python",
   "pygments_lexer": "ipython3",
   "version": "3.8.8"
  }
 },
 "nbformat": 4,
 "nbformat_minor": 5
}
