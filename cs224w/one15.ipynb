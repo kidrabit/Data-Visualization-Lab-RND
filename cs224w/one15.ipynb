{
 "cells": [
  {
   "cell_type": "code",
   "execution_count": null,
   "metadata": {},
   "outputs": [],
   "source": [
    "%matplotlib inline\n",
    "\n",
    "import numpy as np\n",
    "import matplotlib.pyplot as plt\n",
    "import torch.optim as optim\n",
    "\n",
    "\n",
    "# ====== Generating Dataset ====== #\n",
    "num_data = 2400\n",
    "t = np.linspace(0.0, 100.0, num_data)\n",
    "y = np.sin(t) + np.sin(2*t) #+ np.sin(0.4*t)\n",
    "e = np.random.normal(0, 0.1, num_data)\n",
    "# y = y + e\n",
    "\n",
    "\n",
    "seq_len = 10\n",
    "X = []\n",
    "y_true = []\n",
    "for i in range(len(t)-seq_len):\n",
    "    X.append(y[i:i+seq_len])\n",
    "    y_true.append(y[i+seq_len])\n",
    "    \n",
    "X = np.array(X)\n",
    "y_true = np.array(y_true)\n",
    "\n",
    "X = np.swapaxes(X,0,1)\n",
    "X = np.expand_dims(X, axis=2)\n",
    "\n",
    "plt.plot(t, y)"
   ]
  }
 ],
 "metadata": {
  "kernelspec": {
   "display_name": "Python 3",
   "language": "python",
   "name": "python3"
  },
  "language_info": {
   "codemirror_mode": {
    "name": "ipython",
    "version": 3
   },
   "file_extension": ".py",
   "mimetype": "text/x-python",
   "name": "python",
   "nbconvert_exporter": "python",
   "pygments_lexer": "ipython3",
   "version": "3.8.3"
  },
  "toc": {
   "base_numbering": 1,
   "nav_menu": {},
   "number_sections": true,
   "sideBar": true,
   "skip_h1_title": false,
   "title_cell": "Table of Contents",
   "title_sidebar": "Contents",
   "toc_cell": false,
   "toc_position": {},
   "toc_section_display": true,
   "toc_window_display": false
  }
 },
 "nbformat": 4,
 "nbformat_minor": 4
}
