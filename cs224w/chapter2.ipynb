{
 "cells": [
  {
   "cell_type": "markdown",
   "id": "792e8070",
   "metadata": {},
   "source": [
    "## Network Properties: How to Measure a Network\n",
    "\n",
    "1. Degree Distribution (P(k))\n",
    "  - graph에서 random으로 node를 뽑았을때 그 node의 degree(edge의 수?) k 일 확률분포\n",
    "2. Path length (h)\n",
    "  - distance, diameter(max path distance), avg path length(inf 무시)\n",
    "3. Cluster Coefficient (C)\n",
    "  - $node_i$에 대해 연결된 node들과 잘 연결되어 있는가를 표시하는 지수\n",
    "  - $C_i = 2e_i / k_i(k_i - 1)$($e_i$ is number of edges between the neighbors of node i, $k_i$ is degree of $node_i$)\n",
    "4. Connected component (s)\n",
    "  - 가장 큰 component의 크기\n",
    "  - 한 node를 잡고 BFS를 반복해서 연결된 노드를 모두 지나고, 모든 노드를 지났다면 안 지난 node하나를 선택해서 또 BFS를 반복해 크기를 구한다.\n",
    "\n",
    "\n",
    "## ErdosRenyi Random Graph Model\n",
    "1. G_np : n개의 node가 있을 때 임의의 두 node사이에 edge가 존재할 확률 p로 iid 한것\n",
    "  - $P(k) = n-1C_k * p^k * (1-p)^{n-1-k}$\n",
    "  - $E[C_i] := p = k/n$ \n",
    "  - distance: Expansion alpha : 전체 노드를 두 부분으로 나누었을때 더 작은 부분에서 큰 부분으로 가는 최소의 edge수 \n",
    "\n",
    "2. G_nm : n개의 node m개의 edge가 있을 때, 그 m개의 edge가 uniform하게 random으로 존재. G_nm : n개의 node m개의 edge가 있을 때, 그 m개의 edge가 uniform하게 random으로 존재 \n",
    "\n",
    "(real world와 random world를 비교해 보았을 때 n 이 커짐에 따라 real world의 묘사가 어려워진다.)(degree distribution, avg.clustering coef 가 다름)\n",
    "\n",
    "## Small world model\n",
    "\n",
    "1. Low-dimensional regular lattice 를 생성한다. 이는 주변노드끼리만 이어져있는 네트워크를 의미한다. 즉, High clustering이고 따라서 High diameter이다.\n",
    "\n",
    "2. Rewire : 주변 노드와의 연결을 일정 확률 p 로 끊고, 아무 노드와 연결한다. 이런 연결이 생길 때마다 shortcut이 생기는 것이다. 즉, diameter가 점점 작아진다. 반면 clustering은 점점 낮아질 것이다.\n",
    "\n",
    "(high clustering, low diameter을 만들어 좀 더 real world 와 비슷하게 만든다. \n",
    "하지만, degree distribution은 여전히 real network와는 다르다.)  \n",
    "\n",
    "## kronecker Graph\n",
    "\n",
    "idea : recursive model of network structure\n",
    "\n",
    "- define a kronecker product of two graphs as a kronecker product of their adjacency matrices\n",
    "- kroneker graph is obtained by growing seuence of graphs"
   ]
  },
  {
   "cell_type": "code",
   "execution_count": 1,
   "id": "b8f0309e",
   "metadata": {},
   "outputs": [
    {
     "name": "stdout",
     "output_type": "stream",
     "text": [
      "[[0.25 0.1  0.1  0.04]\n",
      " [0.05 0.15 0.02 0.06]\n",
      " [0.05 0.02 0.15 0.06]\n",
      " [0.01 0.03 0.03 0.09]]\n",
      "2.6937563310000008e-15\n"
     ]
    }
   ],
   "source": [
    "# kronecker graph MLE 구현\n",
    "import numpy as np\n",
    "G = [[1,0,1,1],[0,1,0,1],[1,0,1,1],[1,1,1,1]]\n",
    "KM = [[0.5,0.2],[0.1,0.3]]\n",
    "KM = np.kron(KM, KM)\n",
    "print(KM)\n",
    "P = 1\n",
    "for i in range(KM.shape[0]):\n",
    "  for j in range(KM.shape[1]):\n",
    "    # G에 속할 때.\n",
    "    if G[i][j]==1:\n",
    "      P = P*KM[i][j]\n",
    "    # G에 속하지 않을 때.\n",
    "    else:\n",
    "      P = P*(1-KM[i][j])\n",
    "# P는 kronecker 로부터 생성된 그래프가 실제 G일 확률을 나타냄.\n",
    "print(P)"
   ]
  },
  {
   "cell_type": "code",
   "execution_count": null,
   "id": "b4b158b1",
   "metadata": {},
   "outputs": [],
   "source": []
  }
 ],
 "metadata": {
  "kernelspec": {
   "display_name": "Python 3",
   "language": "python",
   "name": "python3"
  },
  "language_info": {
   "codemirror_mode": {
    "name": "ipython",
    "version": 3
   },
   "file_extension": ".py",
   "mimetype": "text/x-python",
   "name": "python",
   "nbconvert_exporter": "python",
   "pygments_lexer": "ipython3",
   "version": "3.8.8"
  }
 },
 "nbformat": 4,
 "nbformat_minor": 5
}
