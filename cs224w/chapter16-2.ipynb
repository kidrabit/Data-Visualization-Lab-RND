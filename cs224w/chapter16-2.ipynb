{
 "cells": [
  {
   "cell_type": "markdown",
   "id": "a064a0a4",
   "metadata": {},
   "source": [
    "## Forest Fire Model (정교한 모델, 네트워크가 성장하면서, 밀도, 유효직경 감소가 동시에 보임 )\n",
    " - Want to model graphs that densify and have shrinking diameters\n",
    " - Intuition\n",
    "     - How do we meet friends at a party?\n",
    "     - How do we identify references when writing parpers?\n",
    " - The Forest Fire model has 2 parameters:\n",
    "     - p : forward burning probability\n",
    "     - r : backward burning probability\n",
    " - The model : Directed Graph\n",
    "     - Each turn a new node v arrives\n",
    "     - Uniformly at randeom choose an \"ambassador\" node w\n",
    "     - Flip 2 coins sampled from a geometric distribution (based in p and r) to determine the number of in- and out-links of w to follow (i.e. to \"spread the fire\" along)\n",
    "     - \"Fire\" spreads recursively until it dies\n",
    "     - New node v links to all burned nodes\n",
    "     <img src =\"attachment:image.png\" width = 40%>\n",
    "     <img src = \"attachment:image-2.png\" width = 40%>"
   ]
  },
  {
   "cell_type": "markdown",
   "id": "72afdcaf",
   "metadata": {},
   "source": [
    "## Temporal Networks (시간적 networks)\n",
    " - Temporal Networks : A sequence of static directed graphs over the same (static) set of nodes V\n",
    " - Each temporal edge is a timestamped ordered pair of nodes ($e_i (u,v),t_i$) where $u,v \\in V$ and $t_i$ is the timestamp at which the edge exists\n",
    " <img src = \"attachment:image.png\" width = 40%>\n",
    " \n",
    " - Edges of a temporal network is are active only at certain points in time\n",
    " - A temporal network is a sequence of static directed graphs over the same (static) set of nodes V\n",
    " <img src = \"attachment:image-2.png\" width = 40%>\n",
    " <img src = \"attachment:image-3.png\" width = 40%>"
   ]
  },
  {
   "cell_type": "code",
   "execution_count": null,
   "id": "cd503d09",
   "metadata": {},
   "outputs": [],
   "source": []
  }
 ],
 "metadata": {
  "kernelspec": {
   "display_name": "Python 3",
   "language": "python",
   "name": "python3"
  },
  "language_info": {
   "codemirror_mode": {
    "name": "ipython",
    "version": 3
   },
   "file_extension": ".py",
   "mimetype": "text/x-python",
   "name": "python",
   "nbconvert_exporter": "python",
   "pygments_lexer": "ipython3",
   "version": "3.8.8"
  }
 },
 "nbformat": 4,
 "nbformat_minor": 5
}
