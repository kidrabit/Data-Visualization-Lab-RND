{
 "cells": [
  {
   "cell_type": "code",
   "execution_count": null,
   "id": "44a353f6",
   "metadata": {},
   "outputs": [],
   "source": [
    "block_score = np.load('scores_list.npy')\n",
    "copy = block_score\n",
    "for i in range(35):\n",
    "    for j in range(35):\n",
    "        if copy[i,j] <= 1:\n",
    "            copy[i,j] = 0"
   ]
  },
  {
   "cell_type": "code",
   "execution_count": null,
   "id": "f7b488d4",
   "metadata": {},
   "outputs": [],
   "source": [
    "causality2 = np.load('my_file.npy',allow_pickle='TRUE').item()\n",
    "block = np.zeros((35,35))\n",
    "for i in list(causality2.keys()):\n",
    "    index1 = i\n",
    "    for j in causality2[i]:\n",
    "        index2 = j\n",
    "        block[i][j] = 1"
   ]
  }
 ],
 "metadata": {
  "kernelspec": {
   "display_name": "Python 3",
   "language": "python",
   "name": "python3"
  },
  "language_info": {
   "codemirror_mode": {
    "name": "ipython",
    "version": 3
   },
   "file_extension": ".py",
   "mimetype": "text/x-python",
   "name": "python",
   "nbconvert_exporter": "python",
   "pygments_lexer": "ipython3",
   "version": "3.8.8"
  }
 },
 "nbformat": 4,
 "nbformat_minor": 5
}
