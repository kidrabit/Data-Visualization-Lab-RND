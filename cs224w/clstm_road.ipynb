{
 "cells": [
  {
   "cell_type": "code",
   "execution_count": 44,
   "id": "4e4afd76",
   "metadata": {},
   "outputs": [],
   "source": [
    "import torch\n",
    "import numpy as np\n",
    "import matplotlib.pyplot as plt\n",
    "import models.clstm as clstm\n",
    "import random\n",
    "device = torch.device('cuda')\n",
    "import pandas as pd"
   ]
  },
  {
   "cell_type": "code",
   "execution_count": 45,
   "id": "62ec4c14",
   "metadata": {},
   "outputs": [],
   "source": [
    "pd1_num = pd.read_csv('C:/Users/chanyoung/Desktop/Neural-GC-master/limited_num_block.csv')\n",
    "pd2_num = pd.read_csv('C:/Users/chanyoung/Desktop/Neural-GC-master/limited_num_all.csv')\n",
    "pd1_spd = pd.read_csv('C:/Users/chanyoung/Desktop/Neural-GC-master/limited_spd_block.csv')\n",
    "pd2_spd = pd.read_csv('C:/Users/chanyoung/Desktop/Neural-GC-master/limited_spd_all.csv')"
   ]
  },
  {
   "cell_type": "code",
   "execution_count": 46,
   "id": "b319a58a",
   "metadata": {},
   "outputs": [],
   "source": [
    "pd1_num = pd1_num[3600:].reset_index(drop = True)\n",
    "pd2_num = pd2_num[3600:].reset_index(drop = True)\n",
    "pd1_spd = pd1_spd[3600:].reset_index(drop = True)\n",
    "pd2_spd = pd2_spd[3600:].reset_index(drop = True)"
   ]
  },
  {
   "cell_type": "code",
   "execution_count": 47,
   "id": "dc5182fc",
   "metadata": {},
   "outputs": [
    {
     "data": {
      "text/html": [
       "<div>\n",
       "<style scoped>\n",
       "    .dataframe tbody tr th:only-of-type {\n",
       "        vertical-align: middle;\n",
       "    }\n",
       "\n",
       "    .dataframe tbody tr th {\n",
       "        vertical-align: top;\n",
       "    }\n",
       "\n",
       "    .dataframe thead th {\n",
       "        text-align: right;\n",
       "    }\n",
       "</style>\n",
       "<table border=\"1\" class=\"dataframe\">\n",
       "  <thead>\n",
       "    <tr style=\"text-align: right;\">\n",
       "      <th></th>\n",
       "      <th>274886548#0_0</th>\n",
       "      <th>gneE0_0</th>\n",
       "      <th>274886548#1_0</th>\n",
       "      <th>274886545#0_0</th>\n",
       "    </tr>\n",
       "  </thead>\n",
       "  <tbody>\n",
       "    <tr>\n",
       "      <th>0</th>\n",
       "      <td>7.22</td>\n",
       "      <td>37.42</td>\n",
       "      <td>40.48</td>\n",
       "      <td>47.53</td>\n",
       "    </tr>\n",
       "    <tr>\n",
       "      <th>1</th>\n",
       "      <td>6.58</td>\n",
       "      <td>26.21</td>\n",
       "      <td>42.40</td>\n",
       "      <td>51.10</td>\n",
       "    </tr>\n",
       "    <tr>\n",
       "      <th>2</th>\n",
       "      <td>6.17</td>\n",
       "      <td>21.05</td>\n",
       "      <td>42.28</td>\n",
       "      <td>51.87</td>\n",
       "    </tr>\n",
       "    <tr>\n",
       "      <th>3</th>\n",
       "      <td>4.90</td>\n",
       "      <td>27.53</td>\n",
       "      <td>35.56</td>\n",
       "      <td>45.20</td>\n",
       "    </tr>\n",
       "    <tr>\n",
       "      <th>4</th>\n",
       "      <td>5.20</td>\n",
       "      <td>24.42</td>\n",
       "      <td>35.82</td>\n",
       "      <td>41.66</td>\n",
       "    </tr>\n",
       "    <tr>\n",
       "      <th>...</th>\n",
       "      <td>...</td>\n",
       "      <td>...</td>\n",
       "      <td>...</td>\n",
       "      <td>...</td>\n",
       "    </tr>\n",
       "    <tr>\n",
       "      <th>3595</th>\n",
       "      <td>4.60</td>\n",
       "      <td>29.92</td>\n",
       "      <td>40.81</td>\n",
       "      <td>49.20</td>\n",
       "    </tr>\n",
       "    <tr>\n",
       "      <th>3596</th>\n",
       "      <td>4.53</td>\n",
       "      <td>21.72</td>\n",
       "      <td>37.35</td>\n",
       "      <td>50.15</td>\n",
       "    </tr>\n",
       "    <tr>\n",
       "      <th>3597</th>\n",
       "      <td>3.61</td>\n",
       "      <td>26.96</td>\n",
       "      <td>36.11</td>\n",
       "      <td>45.22</td>\n",
       "    </tr>\n",
       "    <tr>\n",
       "      <th>3598</th>\n",
       "      <td>4.87</td>\n",
       "      <td>32.16</td>\n",
       "      <td>38.44</td>\n",
       "      <td>44.26</td>\n",
       "    </tr>\n",
       "    <tr>\n",
       "      <th>3599</th>\n",
       "      <td>5.00</td>\n",
       "      <td>36.51</td>\n",
       "      <td>33.20</td>\n",
       "      <td>44.40</td>\n",
       "    </tr>\n",
       "  </tbody>\n",
       "</table>\n",
       "<p>3600 rows × 4 columns</p>\n",
       "</div>"
      ],
      "text/plain": [
       "      274886548#0_0  gneE0_0  274886548#1_0  274886545#0_0\n",
       "0              7.22    37.42          40.48          47.53\n",
       "1              6.58    26.21          42.40          51.10\n",
       "2              6.17    21.05          42.28          51.87\n",
       "3              4.90    27.53          35.56          45.20\n",
       "4              5.20    24.42          35.82          41.66\n",
       "...             ...      ...            ...            ...\n",
       "3595           4.60    29.92          40.81          49.20\n",
       "3596           4.53    21.72          37.35          50.15\n",
       "3597           3.61    26.96          36.11          45.22\n",
       "3598           4.87    32.16          38.44          44.26\n",
       "3599           5.00    36.51          33.20          44.40\n",
       "\n",
       "[3600 rows x 4 columns]"
      ]
     },
     "execution_count": 47,
     "metadata": {},
     "output_type": "execute_result"
    }
   ],
   "source": [
    "pd1_spd"
   ]
  },
  {
   "cell_type": "code",
   "execution_count": 48,
   "id": "876b31bd",
   "metadata": {},
   "outputs": [],
   "source": [
    "list_one_min = []\n",
    "for i in range(120):\n",
    "    if i == 0:\n",
    "        a = list(pd1_spd[i:i+29].mean(axis = 0).values)\n",
    "    else:\n",
    "        j = i * 29 + 1*i\n",
    "        a = list(pd1_spd[j:j+29].mean(axis = 0).values)\n",
    "    list_one_min.append(a)\n",
    "df_flow1_min = pd.DataFrame(list_one_min,columns = pd1_spd.columns)  "
   ]
  },
  {
   "cell_type": "code",
   "execution_count": 49,
   "id": "e5e7a34a",
   "metadata": {},
   "outputs": [
    {
     "data": {
      "text/html": [
       "<div>\n",
       "<style scoped>\n",
       "    .dataframe tbody tr th:only-of-type {\n",
       "        vertical-align: middle;\n",
       "    }\n",
       "\n",
       "    .dataframe tbody tr th {\n",
       "        vertical-align: top;\n",
       "    }\n",
       "\n",
       "    .dataframe thead th {\n",
       "        text-align: right;\n",
       "    }\n",
       "</style>\n",
       "<table border=\"1\" class=\"dataframe\">\n",
       "  <thead>\n",
       "    <tr style=\"text-align: right;\">\n",
       "      <th></th>\n",
       "      <th>274886548#0_0</th>\n",
       "      <th>gneE0_0</th>\n",
       "      <th>274886548#1_0</th>\n",
       "      <th>274886545#0_0</th>\n",
       "    </tr>\n",
       "  </thead>\n",
       "  <tbody>\n",
       "    <tr>\n",
       "      <th>0</th>\n",
       "      <td>6.450000</td>\n",
       "      <td>28.542414</td>\n",
       "      <td>38.713103</td>\n",
       "      <td>45.786897</td>\n",
       "    </tr>\n",
       "    <tr>\n",
       "      <th>1</th>\n",
       "      <td>5.706207</td>\n",
       "      <td>34.256552</td>\n",
       "      <td>39.115862</td>\n",
       "      <td>44.869655</td>\n",
       "    </tr>\n",
       "    <tr>\n",
       "      <th>2</th>\n",
       "      <td>7.893448</td>\n",
       "      <td>34.312414</td>\n",
       "      <td>37.939310</td>\n",
       "      <td>45.714828</td>\n",
       "    </tr>\n",
       "    <tr>\n",
       "      <th>3</th>\n",
       "      <td>6.239655</td>\n",
       "      <td>34.701034</td>\n",
       "      <td>39.647931</td>\n",
       "      <td>49.994828</td>\n",
       "    </tr>\n",
       "    <tr>\n",
       "      <th>4</th>\n",
       "      <td>8.654828</td>\n",
       "      <td>27.485862</td>\n",
       "      <td>38.733448</td>\n",
       "      <td>45.627241</td>\n",
       "    </tr>\n",
       "    <tr>\n",
       "      <th>...</th>\n",
       "      <td>...</td>\n",
       "      <td>...</td>\n",
       "      <td>...</td>\n",
       "      <td>...</td>\n",
       "    </tr>\n",
       "    <tr>\n",
       "      <th>115</th>\n",
       "      <td>9.229655</td>\n",
       "      <td>30.693793</td>\n",
       "      <td>39.907586</td>\n",
       "      <td>48.373103</td>\n",
       "    </tr>\n",
       "    <tr>\n",
       "      <th>116</th>\n",
       "      <td>7.267931</td>\n",
       "      <td>19.942759</td>\n",
       "      <td>36.635862</td>\n",
       "      <td>42.267241</td>\n",
       "    </tr>\n",
       "    <tr>\n",
       "      <th>117</th>\n",
       "      <td>6.075172</td>\n",
       "      <td>16.963448</td>\n",
       "      <td>37.734138</td>\n",
       "      <td>46.635862</td>\n",
       "    </tr>\n",
       "    <tr>\n",
       "      <th>118</th>\n",
       "      <td>5.922069</td>\n",
       "      <td>30.132414</td>\n",
       "      <td>38.497586</td>\n",
       "      <td>44.869655</td>\n",
       "    </tr>\n",
       "    <tr>\n",
       "      <th>119</th>\n",
       "      <td>8.510690</td>\n",
       "      <td>29.781034</td>\n",
       "      <td>39.222759</td>\n",
       "      <td>49.634483</td>\n",
       "    </tr>\n",
       "  </tbody>\n",
       "</table>\n",
       "<p>120 rows × 4 columns</p>\n",
       "</div>"
      ],
      "text/plain": [
       "     274886548#0_0    gneE0_0  274886548#1_0  274886545#0_0\n",
       "0         6.450000  28.542414      38.713103      45.786897\n",
       "1         5.706207  34.256552      39.115862      44.869655\n",
       "2         7.893448  34.312414      37.939310      45.714828\n",
       "3         6.239655  34.701034      39.647931      49.994828\n",
       "4         8.654828  27.485862      38.733448      45.627241\n",
       "..             ...        ...            ...            ...\n",
       "115       9.229655  30.693793      39.907586      48.373103\n",
       "116       7.267931  19.942759      36.635862      42.267241\n",
       "117       6.075172  16.963448      37.734138      46.635862\n",
       "118       5.922069  30.132414      38.497586      44.869655\n",
       "119       8.510690  29.781034      39.222759      49.634483\n",
       "\n",
       "[120 rows x 4 columns]"
      ]
     },
     "execution_count": 49,
     "metadata": {},
     "output_type": "execute_result"
    }
   ],
   "source": [
    "df_flow1_min"
   ]
  },
  {
   "cell_type": "code",
   "execution_count": 51,
   "id": "661e2937",
   "metadata": {},
   "outputs": [
    {
     "data": {
      "text/html": [
       "<div>\n",
       "<style scoped>\n",
       "    .dataframe tbody tr th:only-of-type {\n",
       "        vertical-align: middle;\n",
       "    }\n",
       "\n",
       "    .dataframe tbody tr th {\n",
       "        vertical-align: top;\n",
       "    }\n",
       "\n",
       "    .dataframe thead th {\n",
       "        text-align: right;\n",
       "    }\n",
       "</style>\n",
       "<table border=\"1\" class=\"dataframe\">\n",
       "  <thead>\n",
       "    <tr style=\"text-align: right;\">\n",
       "      <th></th>\n",
       "      <th>276074127_0</th>\n",
       "      <th>274886548#0_0</th>\n",
       "      <th>gneE0_0</th>\n",
       "      <th>274886548#1_0</th>\n",
       "      <th>274886545#0_0</th>\n",
       "    </tr>\n",
       "  </thead>\n",
       "  <tbody>\n",
       "    <tr>\n",
       "      <th>0</th>\n",
       "      <td>3.59</td>\n",
       "      <td>1.75</td>\n",
       "      <td>4.76</td>\n",
       "      <td>41.60</td>\n",
       "      <td>44.51</td>\n",
       "    </tr>\n",
       "    <tr>\n",
       "      <th>1</th>\n",
       "      <td>4.10</td>\n",
       "      <td>1.17</td>\n",
       "      <td>4.87</td>\n",
       "      <td>46.73</td>\n",
       "      <td>44.60</td>\n",
       "    </tr>\n",
       "    <tr>\n",
       "      <th>2</th>\n",
       "      <td>4.09</td>\n",
       "      <td>1.12</td>\n",
       "      <td>5.53</td>\n",
       "      <td>37.33</td>\n",
       "      <td>44.52</td>\n",
       "    </tr>\n",
       "    <tr>\n",
       "      <th>3</th>\n",
       "      <td>4.09</td>\n",
       "      <td>0.68</td>\n",
       "      <td>5.02</td>\n",
       "      <td>36.22</td>\n",
       "      <td>46.80</td>\n",
       "    </tr>\n",
       "    <tr>\n",
       "      <th>4</th>\n",
       "      <td>4.36</td>\n",
       "      <td>0.47</td>\n",
       "      <td>4.95</td>\n",
       "      <td>33.72</td>\n",
       "      <td>48.81</td>\n",
       "    </tr>\n",
       "    <tr>\n",
       "      <th>...</th>\n",
       "      <td>...</td>\n",
       "      <td>...</td>\n",
       "      <td>...</td>\n",
       "      <td>...</td>\n",
       "      <td>...</td>\n",
       "    </tr>\n",
       "    <tr>\n",
       "      <th>3595</th>\n",
       "      <td>3.15</td>\n",
       "      <td>2.35</td>\n",
       "      <td>3.31</td>\n",
       "      <td>33.62</td>\n",
       "      <td>44.47</td>\n",
       "    </tr>\n",
       "    <tr>\n",
       "      <th>3596</th>\n",
       "      <td>2.92</td>\n",
       "      <td>1.78</td>\n",
       "      <td>3.66</td>\n",
       "      <td>32.34</td>\n",
       "      <td>46.83</td>\n",
       "    </tr>\n",
       "    <tr>\n",
       "      <th>3597</th>\n",
       "      <td>3.14</td>\n",
       "      <td>0.84</td>\n",
       "      <td>3.66</td>\n",
       "      <td>36.97</td>\n",
       "      <td>48.40</td>\n",
       "    </tr>\n",
       "    <tr>\n",
       "      <th>3598</th>\n",
       "      <td>3.26</td>\n",
       "      <td>0.76</td>\n",
       "      <td>3.42</td>\n",
       "      <td>42.02</td>\n",
       "      <td>47.31</td>\n",
       "    </tr>\n",
       "    <tr>\n",
       "      <th>3599</th>\n",
       "      <td>3.50</td>\n",
       "      <td>0.48</td>\n",
       "      <td>3.37</td>\n",
       "      <td>37.61</td>\n",
       "      <td>51.84</td>\n",
       "    </tr>\n",
       "  </tbody>\n",
       "</table>\n",
       "<p>3600 rows × 5 columns</p>\n",
       "</div>"
      ],
      "text/plain": [
       "      276074127_0  274886548#0_0  gneE0_0  274886548#1_0  274886545#0_0\n",
       "0            3.59           1.75     4.76          41.60          44.51\n",
       "1            4.10           1.17     4.87          46.73          44.60\n",
       "2            4.09           1.12     5.53          37.33          44.52\n",
       "3            4.09           0.68     5.02          36.22          46.80\n",
       "4            4.36           0.47     4.95          33.72          48.81\n",
       "...           ...            ...      ...            ...            ...\n",
       "3595         3.15           2.35     3.31          33.62          44.47\n",
       "3596         2.92           1.78     3.66          32.34          46.83\n",
       "3597         3.14           0.84     3.66          36.97          48.40\n",
       "3598         3.26           0.76     3.42          42.02          47.31\n",
       "3599         3.50           0.48     3.37          37.61          51.84\n",
       "\n",
       "[3600 rows x 5 columns]"
      ]
     },
     "execution_count": 51,
     "metadata": {},
     "output_type": "execute_result"
    }
   ],
   "source": [
    "pd2_spd"
   ]
  },
  {
   "cell_type": "code",
   "execution_count": 50,
   "id": "71a4a9f2",
   "metadata": {},
   "outputs": [],
   "source": [
    "list_one_min = []\n",
    "for i in range(120):\n",
    "    if i == 0:\n",
    "        a = list(pd2_spd[i:i+29].mean(axis = 0).values)\n",
    "    else:\n",
    "        j = i * 29 + 1*i\n",
    "        a = list(pd2_spd[j:j+29].mean(axis = 0).values)\n",
    "    list_one_min.append(a)\n",
    "df_flow2_min = pd.DataFrame(list_one_min,columns = pd2_spd.columns)  "
   ]
  },
  {
   "cell_type": "code",
   "execution_count": 52,
   "id": "a9084a18",
   "metadata": {},
   "outputs": [
    {
     "data": {
      "text/html": [
       "<div>\n",
       "<style scoped>\n",
       "    .dataframe tbody tr th:only-of-type {\n",
       "        vertical-align: middle;\n",
       "    }\n",
       "\n",
       "    .dataframe tbody tr th {\n",
       "        vertical-align: top;\n",
       "    }\n",
       "\n",
       "    .dataframe thead th {\n",
       "        text-align: right;\n",
       "    }\n",
       "</style>\n",
       "<table border=\"1\" class=\"dataframe\">\n",
       "  <thead>\n",
       "    <tr style=\"text-align: right;\">\n",
       "      <th></th>\n",
       "      <th>276074127_0</th>\n",
       "      <th>274886548#0_0</th>\n",
       "      <th>gneE0_0</th>\n",
       "      <th>274886548#1_0</th>\n",
       "      <th>274886545#0_0</th>\n",
       "    </tr>\n",
       "  </thead>\n",
       "  <tbody>\n",
       "    <tr>\n",
       "      <th>0</th>\n",
       "      <td>5.162414</td>\n",
       "      <td>1.610690</td>\n",
       "      <td>4.521724</td>\n",
       "      <td>38.457931</td>\n",
       "      <td>46.432069</td>\n",
       "    </tr>\n",
       "    <tr>\n",
       "      <th>1</th>\n",
       "      <td>3.215517</td>\n",
       "      <td>3.887241</td>\n",
       "      <td>4.144828</td>\n",
       "      <td>38.630345</td>\n",
       "      <td>45.624828</td>\n",
       "    </tr>\n",
       "    <tr>\n",
       "      <th>2</th>\n",
       "      <td>3.507586</td>\n",
       "      <td>4.759310</td>\n",
       "      <td>3.240690</td>\n",
       "      <td>38.616552</td>\n",
       "      <td>44.600345</td>\n",
       "    </tr>\n",
       "    <tr>\n",
       "      <th>3</th>\n",
       "      <td>3.588966</td>\n",
       "      <td>4.024483</td>\n",
       "      <td>3.255172</td>\n",
       "      <td>38.906552</td>\n",
       "      <td>45.982414</td>\n",
       "    </tr>\n",
       "    <tr>\n",
       "      <th>4</th>\n",
       "      <td>5.200690</td>\n",
       "      <td>3.027586</td>\n",
       "      <td>3.233103</td>\n",
       "      <td>37.769310</td>\n",
       "      <td>44.979310</td>\n",
       "    </tr>\n",
       "    <tr>\n",
       "      <th>...</th>\n",
       "      <td>...</td>\n",
       "      <td>...</td>\n",
       "      <td>...</td>\n",
       "      <td>...</td>\n",
       "      <td>...</td>\n",
       "    </tr>\n",
       "    <tr>\n",
       "      <th>115</th>\n",
       "      <td>4.576207</td>\n",
       "      <td>3.206897</td>\n",
       "      <td>3.562069</td>\n",
       "      <td>39.234138</td>\n",
       "      <td>45.730690</td>\n",
       "    </tr>\n",
       "    <tr>\n",
       "      <th>116</th>\n",
       "      <td>4.138621</td>\n",
       "      <td>3.485862</td>\n",
       "      <td>2.852759</td>\n",
       "      <td>39.113448</td>\n",
       "      <td>46.115172</td>\n",
       "    </tr>\n",
       "    <tr>\n",
       "      <th>117</th>\n",
       "      <td>4.491034</td>\n",
       "      <td>2.702414</td>\n",
       "      <td>4.331379</td>\n",
       "      <td>38.984828</td>\n",
       "      <td>46.953103</td>\n",
       "    </tr>\n",
       "    <tr>\n",
       "      <th>118</th>\n",
       "      <td>3.027931</td>\n",
       "      <td>5.494483</td>\n",
       "      <td>3.175517</td>\n",
       "      <td>39.892759</td>\n",
       "      <td>47.064828</td>\n",
       "    </tr>\n",
       "    <tr>\n",
       "      <th>119</th>\n",
       "      <td>3.393103</td>\n",
       "      <td>4.937586</td>\n",
       "      <td>2.673103</td>\n",
       "      <td>38.481034</td>\n",
       "      <td>47.763448</td>\n",
       "    </tr>\n",
       "  </tbody>\n",
       "</table>\n",
       "<p>120 rows × 5 columns</p>\n",
       "</div>"
      ],
      "text/plain": [
       "     276074127_0  274886548#0_0   gneE0_0  274886548#1_0  274886545#0_0\n",
       "0       5.162414       1.610690  4.521724      38.457931      46.432069\n",
       "1       3.215517       3.887241  4.144828      38.630345      45.624828\n",
       "2       3.507586       4.759310  3.240690      38.616552      44.600345\n",
       "3       3.588966       4.024483  3.255172      38.906552      45.982414\n",
       "4       5.200690       3.027586  3.233103      37.769310      44.979310\n",
       "..           ...            ...       ...            ...            ...\n",
       "115     4.576207       3.206897  3.562069      39.234138      45.730690\n",
       "116     4.138621       3.485862  2.852759      39.113448      46.115172\n",
       "117     4.491034       2.702414  4.331379      38.984828      46.953103\n",
       "118     3.027931       5.494483  3.175517      39.892759      47.064828\n",
       "119     3.393103       4.937586  2.673103      38.481034      47.763448\n",
       "\n",
       "[120 rows x 5 columns]"
      ]
     },
     "execution_count": 52,
     "metadata": {},
     "output_type": "execute_result"
    }
   ],
   "source": [
    "df_flow2_min"
   ]
  },
  {
   "cell_type": "code",
   "execution_count": 54,
   "id": "075302d4",
   "metadata": {},
   "outputs": [],
   "source": [
    "np.random.seed(42)\n",
    "torch.manual_seed(42)\n",
    "torch.cuda.manual_seed(42)\n",
    "df_true_ = df_flow2_min.values\n",
    "X_all =torch.tensor(df_true_[np.newaxis], dtype = torch.float32, device = device)"
   ]
  },
  {
   "cell_type": "code",
   "execution_count": 55,
   "id": "8dac6454",
   "metadata": {},
   "outputs": [],
   "source": [
    "np.random.seed(42)\n",
    "torch.manual_seed(42)\n",
    "torch.cuda.manual_seed(42)\n",
    "df_true_ = df_flow1_min.values\n",
    "X_block =torch.tensor(df_true_[np.newaxis], dtype = torch.float32, device = device)"
   ]
  },
  {
   "cell_type": "code",
   "execution_count": 56,
   "id": "99e109c1",
   "metadata": {},
   "outputs": [],
   "source": [
    "np.random.seed(42)\n",
    "torch.manual_seed(42)\n",
    "torch.cuda.manual_seed(42)\n",
    "clstm_all = clstm.cLSTM(X_all.shape[-1], hidden=100).cuda(device=device)\n",
    "\n",
    "np.random.seed(42)\n",
    "torch.manual_seed(42)\n",
    "torch.cuda.manual_seed(42)\n",
    "clstm_block = clstm.cLSTM(X_block.shape[-1], hidden=100).cuda(device=device)"
   ]
  },
  {
   "cell_type": "code",
   "execution_count": 57,
   "id": "d2e701af",
   "metadata": {
    "scrolled": true
   },
   "outputs": [
    {
     "name": "stdout",
     "output_type": "stream",
     "text": [
      "----------Iter = 50----------\n",
      "Loss = 44.071255\n",
      "Variable usage = 100.00%\n",
      "----------Iter = 100----------\n",
      "Loss = 20.563967\n",
      "Variable usage = 100.00%\n",
      "----------Iter = 150----------\n",
      "Loss = 11.690487\n",
      "Variable usage = 40.00%\n",
      "----------Iter = 200----------\n",
      "Loss = 10.017612\n",
      "Variable usage = 36.00%\n",
      "----------Iter = 250----------\n",
      "Loss = 9.060942\n",
      "Variable usage = 28.00%\n",
      "----------Iter = 300----------\n",
      "Loss = 8.527313\n",
      "Variable usage = 28.00%\n",
      "----------Iter = 350----------\n",
      "Loss = 8.301185\n",
      "Variable usage = 28.00%\n",
      "----------Iter = 400----------\n",
      "Loss = 8.121574\n",
      "Variable usage = 28.00%\n",
      "----------Iter = 450----------\n",
      "Loss = 7.974285\n",
      "Variable usage = 28.00%\n",
      "----------Iter = 500----------\n",
      "Loss = 7.894508\n",
      "Variable usage = 28.00%\n",
      "----------Iter = 550----------\n",
      "Loss = 7.830080\n",
      "Variable usage = 28.00%\n",
      "----------Iter = 600----------\n",
      "Loss = 7.773137\n",
      "Variable usage = 28.00%\n",
      "----------Iter = 650----------\n",
      "Loss = 7.731155\n",
      "Variable usage = 28.00%\n",
      "----------Iter = 700----------\n",
      "Loss = 7.695930\n",
      "Variable usage = 28.00%\n",
      "----------Iter = 750----------\n",
      "Loss = 7.659512\n",
      "Variable usage = 28.00%\n",
      "----------Iter = 800----------\n",
      "Loss = 7.625960\n",
      "Variable usage = 28.00%\n",
      "----------Iter = 850----------\n",
      "Loss = 7.591641\n",
      "Variable usage = 28.00%\n",
      "----------Iter = 900----------\n",
      "Loss = 7.556015\n",
      "Variable usage = 28.00%\n",
      "----------Iter = 950----------\n",
      "Loss = 7.521079\n",
      "Variable usage = 28.00%\n",
      "----------Iter = 1000----------\n",
      "Loss = 7.487242\n",
      "Variable usage = 28.00%\n",
      "----------Iter = 1050----------\n",
      "Loss = 7.561090\n",
      "Variable usage = 32.00%\n",
      "----------Iter = 1100----------\n",
      "Loss = 8.034189\n",
      "Variable usage = 40.00%\n",
      "----------Iter = 1150----------\n",
      "Loss = 7.733156\n",
      "Variable usage = 36.00%\n",
      "----------Iter = 1200----------\n",
      "Loss = 7.689708\n",
      "Variable usage = 32.00%\n",
      "----------Iter = 1250----------\n",
      "Loss = 7.652197\n",
      "Variable usage = 32.00%\n",
      "Stopping early\n"
     ]
    }
   ],
   "source": [
    "train_loss_ista_all = clstm.train_model_ista(\n",
    "    clstm_all, X_all, context=10,lam = 10, lam_ridge = 1e-2, lr=1e-3, max_iter=20000,\n",
    "    check_every=50)"
   ]
  },
  {
   "cell_type": "code",
   "execution_count": 58,
   "id": "7c00943f",
   "metadata": {
    "scrolled": true
   },
   "outputs": [
    {
     "name": "stdout",
     "output_type": "stream",
     "text": [
      "----------Iter = 50----------\n",
      "Loss = 53.693596\n",
      "Variable usage = 100.00%\n",
      "----------Iter = 100----------\n",
      "Loss = 37.132736\n",
      "Variable usage = 100.00%\n",
      "----------Iter = 150----------\n",
      "Loss = 29.500334\n",
      "Variable usage = 68.75%\n",
      "----------Iter = 200----------\n",
      "Loss = 27.465332\n",
      "Variable usage = 62.50%\n",
      "----------Iter = 250----------\n",
      "Loss = 26.562355\n",
      "Variable usage = 62.50%\n",
      "----------Iter = 300----------\n",
      "Loss = 25.915255\n",
      "Variable usage = 43.75%\n",
      "----------Iter = 350----------\n",
      "Loss = 25.640753\n",
      "Variable usage = 56.25%\n",
      "----------Iter = 400----------\n",
      "Loss = 25.251060\n",
      "Variable usage = 43.75%\n",
      "----------Iter = 450----------\n",
      "Loss = 25.425850\n",
      "Variable usage = 62.50%\n",
      "----------Iter = 500----------\n",
      "Loss = 29.856602\n",
      "Variable usage = 68.75%\n",
      "----------Iter = 550----------\n",
      "Loss = 27.261276\n",
      "Variable usage = 68.75%\n",
      "----------Iter = 600----------\n",
      "Loss = 29.076443\n",
      "Variable usage = 68.75%\n",
      "----------Iter = 650----------\n",
      "Loss = 34.868534\n",
      "Variable usage = 68.75%\n",
      "Stopping early\n"
     ]
    }
   ],
   "source": [
    "train_loss_ista_all = clstm.train_model_ista(\n",
    "    clstm_block, X_block, context=10,lam = 10, lam_ridge = 1e-2, lr=1e-3, max_iter=20000,\n",
    "    check_every=50)"
   ]
  },
  {
   "cell_type": "code",
   "execution_count": 67,
   "id": "5fdf8016",
   "metadata": {
    "scrolled": true
   },
   "outputs": [
    {
     "name": "stdout",
     "output_type": "stream",
     "text": [
      "one block 0 road\n",
      "274886548#0_0\n"
     ]
    },
    {
     "data": {
      "image/png": "[encoded data removed]",
      "text/plain": [
       "<Figure size 432x288 with 1 Axes>"
      ]
     },
     "metadata": {
      "needs_background": "light"
     },
     "output_type": "display_data"
    },
    {
     "name": "stdout",
     "output_type": "stream",
     "text": [
      "------------------------------------\n",
      "one block 1 road\n",
      "gneE0_0\n"
     ]
    },
    {
     "data": {
      "image/png": "[encoded data removed]",
      "text/plain": [
       "<Figure size 432x288 with 1 Axes>"
      ]
     },
     "metadata": {
      "needs_background": "light"
     },
     "output_type": "display_data"
    },
    {
     "name": "stdout",
     "output_type": "stream",
     "text": [
      "------------------------------------\n",
      "one block 2 road\n",
      "274886548#1_0\n"
     ]
    },
    {
     "data": {
      "image/png": "[encoded data removed]",
      "text/plain": [
       "<Figure size 432x288 with 1 Axes>"
      ]
     },
     "metadata": {
      "needs_background": "light"
     },
     "output_type": "display_data"
    },
    {
     "name": "stdout",
     "output_type": "stream",
     "text": [
      "------------------------------------\n",
      "one block 3 road\n",
      "274886545#0_0\n"
     ]
    },
    {
     "data": {
      "image/png": "[encoded data removed]",
      "text/plain": [
       "<Figure size 432x288 with 1 Axes>"
      ]
     },
     "metadata": {
      "needs_background": "light"
     },
     "output_type": "display_data"
    },
    {
     "name": "stdout",
     "output_type": "stream",
     "text": [
      "------------------------------------\n"
     ]
    }
   ],
   "source": [
    "for i in range(df_flow1_min.shape[-1]):\n",
    "    print(\"one block\",i,\"road\")\n",
    "    print(df_flow1_min.columns[i])\n",
    "    clstm_block.weight_causality(i ,df_flow1_min.columns)\n",
    "    print('------------------------------------')"
   ]
  },
  {
   "cell_type": "code",
   "execution_count": 65,
   "id": "2fa5f7f6",
   "metadata": {},
   "outputs": [
    {
     "data": {
      "text/html": [
       "<div>\n",
       "<style scoped>\n",
       "    .dataframe tbody tr th:only-of-type {\n",
       "        vertical-align: middle;\n",
       "    }\n",
       "\n",
       "    .dataframe tbody tr th {\n",
       "        vertical-align: top;\n",
       "    }\n",
       "\n",
       "    .dataframe thead th {\n",
       "        text-align: right;\n",
       "    }\n",
       "</style>\n",
       "<table border=\"1\" class=\"dataframe\">\n",
       "  <thead>\n",
       "    <tr style=\"text-align: right;\">\n",
       "      <th></th>\n",
       "      <th>274886548#0_0</th>\n",
       "      <th>gneE0_0</th>\n",
       "      <th>274886548#1_0</th>\n",
       "      <th>274886545#0_0</th>\n",
       "    </tr>\n",
       "  </thead>\n",
       "  <tbody>\n",
       "    <tr>\n",
       "      <th>0</th>\n",
       "      <td>6.450000</td>\n",
       "      <td>28.542414</td>\n",
       "      <td>38.713103</td>\n",
       "      <td>45.786897</td>\n",
       "    </tr>\n",
       "    <tr>\n",
       "      <th>1</th>\n",
       "      <td>5.706207</td>\n",
       "      <td>34.256552</td>\n",
       "      <td>39.115862</td>\n",
       "      <td>44.869655</td>\n",
       "    </tr>\n",
       "    <tr>\n",
       "      <th>2</th>\n",
       "      <td>7.893448</td>\n",
       "      <td>34.312414</td>\n",
       "      <td>37.939310</td>\n",
       "      <td>45.714828</td>\n",
       "    </tr>\n",
       "    <tr>\n",
       "      <th>3</th>\n",
       "      <td>6.239655</td>\n",
       "      <td>34.701034</td>\n",
       "      <td>39.647931</td>\n",
       "      <td>49.994828</td>\n",
       "    </tr>\n",
       "    <tr>\n",
       "      <th>4</th>\n",
       "      <td>8.654828</td>\n",
       "      <td>27.485862</td>\n",
       "      <td>38.733448</td>\n",
       "      <td>45.627241</td>\n",
       "    </tr>\n",
       "    <tr>\n",
       "      <th>...</th>\n",
       "      <td>...</td>\n",
       "      <td>...</td>\n",
       "      <td>...</td>\n",
       "      <td>...</td>\n",
       "    </tr>\n",
       "    <tr>\n",
       "      <th>115</th>\n",
       "      <td>9.229655</td>\n",
       "      <td>30.693793</td>\n",
       "      <td>39.907586</td>\n",
       "      <td>48.373103</td>\n",
       "    </tr>\n",
       "    <tr>\n",
       "      <th>116</th>\n",
       "      <td>7.267931</td>\n",
       "      <td>19.942759</td>\n",
       "      <td>36.635862</td>\n",
       "      <td>42.267241</td>\n",
       "    </tr>\n",
       "    <tr>\n",
       "      <th>117</th>\n",
       "      <td>6.075172</td>\n",
       "      <td>16.963448</td>\n",
       "      <td>37.734138</td>\n",
       "      <td>46.635862</td>\n",
       "    </tr>\n",
       "    <tr>\n",
       "      <th>118</th>\n",
       "      <td>5.922069</td>\n",
       "      <td>30.132414</td>\n",
       "      <td>38.497586</td>\n",
       "      <td>44.869655</td>\n",
       "    </tr>\n",
       "    <tr>\n",
       "      <th>119</th>\n",
       "      <td>8.510690</td>\n",
       "      <td>29.781034</td>\n",
       "      <td>39.222759</td>\n",
       "      <td>49.634483</td>\n",
       "    </tr>\n",
       "  </tbody>\n",
       "</table>\n",
       "<p>120 rows × 4 columns</p>\n",
       "</div>"
      ],
      "text/plain": [
       "     274886548#0_0    gneE0_0  274886548#1_0  274886545#0_0\n",
       "0         6.450000  28.542414      38.713103      45.786897\n",
       "1         5.706207  34.256552      39.115862      44.869655\n",
       "2         7.893448  34.312414      37.939310      45.714828\n",
       "3         6.239655  34.701034      39.647931      49.994828\n",
       "4         8.654828  27.485862      38.733448      45.627241\n",
       "..             ...        ...            ...            ...\n",
       "115       9.229655  30.693793      39.907586      48.373103\n",
       "116       7.267931  19.942759      36.635862      42.267241\n",
       "117       6.075172  16.963448      37.734138      46.635862\n",
       "118       5.922069  30.132414      38.497586      44.869655\n",
       "119       8.510690  29.781034      39.222759      49.634483\n",
       "\n",
       "[120 rows x 4 columns]"
      ]
     },
     "execution_count": 65,
     "metadata": {},
     "output_type": "execute_result"
    }
   ],
   "source": [
    "df_flow1_min"
   ]
  },
  {
   "cell_type": "code",
   "execution_count": 66,
   "id": "25fa121b",
   "metadata": {
    "scrolled": true
   },
   "outputs": [
    {
     "name": "stdout",
     "output_type": "stream",
     "text": [
      "no block 0 road\n",
      "276074127_0\n"
     ]
    },
    {
     "data": {
      "image/png": "[encoded data removed]",
      "text/plain": [
       "<Figure size 432x288 with 1 Axes>"
      ]
     },
     "metadata": {
      "needs_background": "light"
     },
     "output_type": "display_data"
    },
    {
     "name": "stdout",
     "output_type": "stream",
     "text": [
      "------------------------------------\n",
      "no block 1 road\n",
      "274886548#0_0\n"
     ]
    },
    {
     "data": {
      "image/png": "[encoded data removed]",
      "text/plain": [
       "<Figure size 432x288 with 1 Axes>"
      ]
     },
     "metadata": {
      "needs_background": "light"
     },
     "output_type": "display_data"
    },
    {
     "name": "stdout",
     "output_type": "stream",
     "text": [
      "------------------------------------\n",
      "no block 2 road\n",
      "gneE0_0\n"
     ]
    },
    {
     "data": {
      "image/png": "[encoded data removed]",
      "text/plain": [
       "<Figure size 432x288 with 1 Axes>"
      ]
     },
     "metadata": {
      "needs_background": "light"
     },
     "output_type": "display_data"
    },
    {
     "name": "stdout",
     "output_type": "stream",
     "text": [
      "------------------------------------\n",
      "no block 3 road\n",
      "274886548#1_0\n"
     ]
    },
    {
     "data": {
      "image/png": "[encoded data removed]",
      "text/plain": [
       "<Figure size 432x288 with 1 Axes>"
      ]
     },
     "metadata": {
      "needs_background": "light"
     },
     "output_type": "display_data"
    },
    {
     "name": "stdout",
     "output_type": "stream",
     "text": [
      "------------------------------------\n",
      "no block 4 road\n",
      "274886545#0_0\n"
     ]
    },
    {
     "data": {
      "image/png": "[encoded data removed]",
      "text/plain": [
       "<Figure size 432x288 with 1 Axes>"
      ]
     },
     "metadata": {
      "needs_background": "light"
     },
     "output_type": "display_data"
    },
    {
     "name": "stdout",
     "output_type": "stream",
     "text": [
      "------------------------------------\n"
     ]
    }
   ],
   "source": [
    "for i in range(df_flow2_min.shape[-1]):\n",
    "    print(\"no block\",i,\"road\")\n",
    "    print(df_flow2_min.columns[i])\n",
    "    clstm_all.weight_causality(i ,df_flow2_min.columns)\n",
    "    print('------------------------------------')"
   ]
  },
  {
   "cell_type": "code",
   "execution_count": 61,
   "id": "3ec027a6",
   "metadata": {},
   "outputs": [],
   "source": [
    "GC_all = clstm_all.GC(threshold = False).cpu().data.numpy()"
   ]
  },
  {
   "cell_type": "code",
   "execution_count": 62,
   "id": "3eed3c07",
   "metadata": {},
   "outputs": [],
   "source": [
    "GC_block = clstm_block.GC(threshold = False).cpu().data.numpy()"
   ]
  },
  {
   "cell_type": "code",
   "execution_count": 63,
   "id": "89ad1234",
   "metadata": {},
   "outputs": [
    {
     "data": {
      "text/plain": [
       "array([[0.        , 0.        , 0.        , 0.        , 0.07357248],\n",
       "       [0.        , 0.        , 0.        , 0.        , 0.07973887],\n",
       "       [0.        , 0.        , 0.        , 0.        , 0.06478246],\n",
       "       [0.        , 0.        , 0.        , 0.01367525, 0.70959723],\n",
       "       [0.        , 0.        , 0.        , 0.04575678, 0.7826791 ]],\n",
       "      dtype=float32)"
      ]
     },
     "execution_count": 63,
     "metadata": {},
     "output_type": "execute_result"
    }
   ],
   "source": [
    "GC_all"
   ]
  },
  {
   "cell_type": "code",
   "execution_count": 64,
   "id": "6a577766",
   "metadata": {},
   "outputs": [
    {
     "data": {
      "text/plain": [
       "array([[0.        , 0.        , 0.        , 0.24028693],\n",
       "       [0.        , 0.        , 0.20001975, 0.5029676 ],\n",
       "       [0.        , 0.        , 0.1907918 , 0.6143097 ],\n",
       "       [0.        , 0.        , 0.20235966, 0.7098146 ]], dtype=float32)"
      ]
     },
     "execution_count": 64,
     "metadata": {},
     "output_type": "execute_result"
    }
   ],
   "source": [
    "GC_block"
   ]
  },
  {
   "cell_type": "code",
   "execution_count": null,
   "id": "076fae1e",
   "metadata": {},
   "outputs": [],
   "source": []
  }
 ],
 "metadata": {
  "kernelspec": {
   "display_name": "Python 3",
   "language": "python",
   "name": "python3"
  },
  "language_info": {
   "codemirror_mode": {
    "name": "ipython",
    "version": 3
   },
   "file_extension": ".py",
   "mimetype": "text/x-python",
   "name": "python",
   "nbconvert_exporter": "python",
   "pygments_lexer": "ipython3",
   "version": "3.8.8"
  }
 },
 "nbformat": 4,
 "nbformat_minor": 5
}
