{
 "cells": [
  {
   "cell_type": "code",
   "execution_count": null,
   "metadata": {},
   "outputs": [],
   "source": [
    "def test_LSTM(model, x, y, device = None):\n",
    "    model.eval()\n",
    "\n",
    "    test_loss = 0.0\n",
    "    x = torch.tensor(x[np.newaxis], dtype=torch.float32, device=device)\n",
    "    y = torch.tensor(y[np.newaxis], dtype=torch.float32, device=device)\n",
    "    with torch.no_grad():\n",
    "        for seq, true_y in [x,y]:\n",
    "            seq = seq.to(device)\n",
    "            model.hidden = [hidden.to(device) for hidden in model.init_hidden()]\n",
    "            pred_y = model(seq).cpu().detach().numpy()\n",
    "\n",
    "            loss = (pred_y - true_y)**2\n",
    "            test_loss += loss\n",
    "\n",
    "    test_loss /= len(x)\n",
    "\n",
    "    print(\"test loss :\", test_loss)\n",
    "    return test_loss, model"
   ]
  }
 ],
 "metadata": {
  "kernelspec": {
   "display_name": "Python 3",
   "language": "python",
   "name": "python3"
  },
  "language_info": {
   "codemirror_mode": {
    "name": "ipython",
    "version": 3
   },
   "file_extension": ".py",
   "mimetype": "text/x-python",
   "name": "python",
   "nbconvert_exporter": "python",
   "pygments_lexer": "ipython3",
   "version": "3.8.3"
  },
  "toc": {
   "base_numbering": 1,
   "nav_menu": {},
   "number_sections": true,
   "sideBar": true,
   "skip_h1_title": false,
   "title_cell": "Table of Contents",
   "title_sidebar": "Contents",
   "toc_cell": false,
   "toc_position": {},
   "toc_section_display": true,
   "toc_window_display": false
  }
 },
 "nbformat": 4,
 "nbformat_minor": 4
}
