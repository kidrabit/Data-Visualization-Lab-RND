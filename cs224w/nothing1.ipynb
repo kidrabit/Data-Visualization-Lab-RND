{
 "cells": [
  {
   "cell_type": "code",
   "execution_count": null,
   "id": "ca6981a7",
   "metadata": {},
   "outputs": [],
   "source": [
    "\n",
    "from setuptools import setup, find_packages\n",
    "from Cython.Build import cythonize\n",
    "import numpy\n",
    "\n",
    "setup(\n",
    "    ext_modules=cythonize(\n",
    "        [\n",
    "            \"./ETC/NSRWS/x1D/core.pyx\",\n",
    "            \"./ETC/NSRWS/x2D/core.pyx\",\n",
    "            \"./ETC/seq/estimates.pyx\",\n",
    "            \"./ETC/LZ76/core.pyx\",\n",
    "        ],\n",
    "        annotate=False,\n",
    "        compiler_directives={\"language_level\": \"3\"},\n",
    "    ),\n",
    "    include_dirs=[numpy.get_include()],\n",
    "    name=\"ETCPy\",\n",
    "    version=\"1.3.5\",\n",
    "    author_email=\"mail@pranaysy.com\",\n",
    "    description=\"Compute the Effort-To-Compress (ETC) of a symbolic sequence\",\n",
    "    packages=find_packages(),\n",
    "    license=\"Apache License, Version 2.0\",\n",
    ")"
   ]
  }
 ],
 "metadata": {
  "kernelspec": {
   "display_name": "Python 3",
   "language": "python",
   "name": "python3"
  },
  "language_info": {
   "codemirror_mode": {
    "name": "ipython",
    "version": 3
   },
   "file_extension": ".py",
   "mimetype": "text/x-python",
   "name": "python",
   "nbconvert_exporter": "python",
   "pygments_lexer": "ipython3",
   "version": "3.8.8"
  }
 },
 "nbformat": 4,
 "nbformat_minor": 5
}
