{
 "cells": [
  {
   "cell_type": "code",
   "execution_count": 1,
   "id": "d5582262",
   "metadata": {},
   "outputs": [],
   "source": [
    "import torch\n",
    "import torch.nn as nn\n",
    "import numpy as np\n",
    "from copy import deepcopy\n",
    "\n",
    "device = \"cuda\" if torch.cuda.is_available() else \"cpu\""
   ]
  },
  {
   "cell_type": "markdown",
   "id": "87304f24",
   "metadata": {},
   "source": [
    "# data gen"
   ]
  },
  {
   "cell_type": "code",
   "execution_count": 2,
   "id": "2861f061",
   "metadata": {},
   "outputs": [],
   "source": [
    "import random as rand\n",
    "import numpy as np\n",
    "\n",
    "\n",
    "def data_gen(num_rbf):\n",
    "    data = []\n",
    "    clt_list = []\n",
    "    std_list = []\n",
    "    for i in range(num_rbf):\n",
    "        clt = rand.random()\n",
    "        std = rand.random()\n",
    "        clt_list.append(clt)\n",
    "        std_list.append(std)\n",
    "        for i in [-5, -4, -3, -2, -1, 0 ,1, 2, 3, 4]:\n",
    "            data_i = np.exp(-(i - clt) * (i - clt) / 2 * (std * std))\n",
    "            data.append(data_i)\n",
    "    \n",
    "    return torch.tensor(data, device = device).float(), torch.tensor(clt_list, device = device).float(), torch.tensor(std_list, device = device).float()"
   ]
  },
  {
   "cell_type": "code",
   "execution_count": 3,
   "id": "e24198fb",
   "metadata": {},
   "outputs": [],
   "source": [
    "data, clt_list, std_list = data_gen(10)"
   ]
  },
  {
   "cell_type": "code",
   "execution_count": 4,
   "id": "7379bd3d",
   "metadata": {},
   "outputs": [
    {
     "data": {
      "text/plain": [
       "tensor([1.8216e-02, 6.8772e-02, 1.9884e-01, 4.4031e-01, 7.4669e-01, 9.6976e-01,\n",
       "        9.6455e-01, 7.3473e-01, 4.2862e-01, 1.9150e-01, 9.9587e-01, 9.9718e-01,\n",
       "        9.9824e-01, 9.9905e-01, 9.9962e-01, 9.9993e-01, 9.9999e-01, 9.9980e-01,\n",
       "        9.9937e-01, 9.9868e-01, 3.8496e-05, 9.7527e-04, 1.3337e-02, 9.8453e-02,\n",
       "        3.9230e-01, 8.4382e-01, 9.7972e-01, 6.1402e-01, 2.0773e-01, 3.7935e-02,\n",
       "        7.9060e-01, 8.5153e-01, 9.0436e-01, 9.4706e-01, 9.7793e-01, 9.9571e-01,\n",
       "        9.9967e-01, 9.8963e-01, 9.6601e-01, 9.2980e-01, 1.2255e-05, 4.0046e-04,\n",
       "        6.8949e-03, 6.2547e-02, 2.9895e-01, 7.5284e-01, 9.9890e-01, 6.9832e-01,\n",
       "        2.5722e-01, 4.9919e-02, 2.9740e-05, 8.7708e-04, 1.3341e-02, 1.0466e-01,\n",
       "        4.2347e-01, 8.8372e-01, 9.5115e-01, 5.2800e-01, 1.5117e-01, 2.2322e-02,\n",
       "        2.3320e-05, 1.0731e-03, 2.1152e-02, 1.7856e-01, 6.4564e-01, 9.9989e-01,\n",
       "        6.6325e-01, 1.8843e-01, 2.2930e-02, 1.1951e-03, 9.3332e-01, 9.5679e-01,\n",
       "        9.7545e-01, 9.8901e-01, 9.9724e-01, 1.0000e+00, 9.9726e-01, 9.8905e-01,\n",
       "        9.7551e-01, 9.5687e-01, 1.0284e-05, 4.6796e-04, 9.8717e-03, 9.6540e-02,\n",
       "        4.3767e-01, 9.1986e-01, 8.9624e-01, 4.0482e-01, 8.4766e-02, 8.2284e-03,\n",
       "        4.6561e-02, 1.3440e-01, 3.1013e-01, 5.7202e-01, 8.4336e-01, 9.9392e-01,\n",
       "        9.3632e-01, 7.0507e-01, 4.2441e-01, 2.0420e-01], device='cuda:0')"
      ]
     },
     "execution_count": 4,
     "metadata": {},
     "output_type": "execute_result"
    }
   ],
   "source": [
    "data"
   ]
  },
  {
   "cell_type": "code",
   "execution_count": 5,
   "id": "e5f49791",
   "metadata": {},
   "outputs": [
    {
     "data": {
      "text/plain": [
       "tensor([0.4798, 0.7487, 0.7422, 0.7819, 0.9413, 0.6111, 0.0159, 0.0019, 0.4662,\n",
       "        0.2335], device='cuda:0')"
      ]
     },
     "execution_count": 5,
     "metadata": {},
     "output_type": "execute_result"
    }
   ],
   "source": [
    "clt_list"
   ]
  },
  {
   "cell_type": "code",
   "execution_count": 6,
   "id": "2fe8b86b",
   "metadata": {},
   "outputs": [
    {
     "data": {
      "text/plain": [
       "tensor([0.5165, 0.0158, 0.7852, 0.1186, 0.8005, 0.8137, 0.9208, 0.0743, 0.8768,\n",
       "        0.4732], device='cuda:0')"
      ]
     },
     "execution_count": 6,
     "metadata": {},
     "output_type": "execute_result"
    }
   ],
   "source": [
    "std_list"
   ]
  },
  {
   "cell_type": "markdown",
   "id": "7df52e6c",
   "metadata": {},
   "source": [
    "# clt, std 고정"
   ]
  },
  {
   "cell_type": "code",
   "execution_count": 7,
   "id": "5c133581",
   "metadata": {},
   "outputs": [],
   "source": [
    "class RBF(nn.Module):\n",
    "    def __init__(self, clt, std):\n",
    "        super(RBF, self).__init__()\n",
    "        \n",
    "        self.rbf_clt = clt\n",
    "        self.rbf_std = std\n",
    "        \n",
    "    \n",
    "    def rbf(self, x, cluster, std):\n",
    "        return torch.exp(-(x - cluster) * (x - cluster) / 2 * (std * std))\n",
    "    \n",
    "    \n",
    "    def forward(self, x):     \n",
    "        \n",
    "        x = self.rbf(x, self.rbf_clt, self.rbf_std)\n",
    "    \n",
    "        return x"
   ]
  },
  {
   "cell_type": "code",
   "execution_count": 8,
   "id": "4332f2ff",
   "metadata": {},
   "outputs": [
    {
     "data": {
      "text/plain": [
       "tensor([0.7811], device='cuda:0')"
      ]
     },
     "execution_count": 8,
     "metadata": {},
     "output_type": "execute_result"
    }
   ],
   "source": [
    "RBF(clt_list[0], std_list[0])(data[0]) * torch.rand(1, device = device)"
   ]
  },
  {
   "cell_type": "code",
   "execution_count": 25,
   "id": "6730a2f2",
   "metadata": {},
   "outputs": [],
   "source": [
    "a = sum([RBF(clt_list[0], std_list[0])(data[0]) * torch.rand(1, device = device), RBF(clt_list[1], std_list[0])(data[1]) * torch.rand(1, device = device)])"
   ]
  },
  {
   "cell_type": "code",
   "execution_count": 24,
   "id": "cc95ae5f",
   "metadata": {},
   "outputs": [
    {
     "data": {
      "text/plain": [
       "tensor([0.3426, 0.3426], device='cuda:0')"
      ]
     },
     "execution_count": 24,
     "metadata": {},
     "output_type": "execute_result"
    }
   ],
   "source": [
    "a"
   ]
  },
  {
   "cell_type": "code",
   "execution_count": 30,
   "id": "bc7ef9a5",
   "metadata": {},
   "outputs": [
    {
     "ename": "RuntimeError",
     "evalue": "shape '[2]' is invalid for input of size 1",
     "output_type": "error",
     "traceback": [
      "\u001b[1;31m---------------------------------------------------------------------------\u001b[0m",
      "\u001b[1;31mRuntimeError\u001b[0m                              Traceback (most recent call last)",
      "\u001b[1;32m<ipython-input-30-e54de46c48ad>\u001b[0m in \u001b[0;36m<module>\u001b[1;34m\u001b[0m\n\u001b[1;32m----> 1\u001b[1;33m \u001b[0ma\u001b[0m\u001b[1;33m.\u001b[0m\u001b[0mreshape\u001b[0m\u001b[1;33m(\u001b[0m\u001b[1;36m2\u001b[0m\u001b[1;33m)\u001b[0m\u001b[1;33m\u001b[0m\u001b[1;33m\u001b[0m\u001b[0m\n\u001b[0m",
      "\u001b[1;31mRuntimeError\u001b[0m: shape '[2]' is invalid for input of size 1"
     ]
    }
   ],
   "source": [
    "a.reshape()"
   ]
  },
  {
   "cell_type": "code",
   "execution_count": 11,
   "id": "b2055edb",
   "metadata": {},
   "outputs": [],
   "source": [
    "a = torch.cat([a,a])"
   ]
  },
  {
   "cell_type": "code",
   "execution_count": 12,
   "id": "b97def38",
   "metadata": {},
   "outputs": [
    {
     "data": {
      "text/plain": [
       "tensor([0.3426, 0.3426], device='cuda:0')"
      ]
     },
     "execution_count": 12,
     "metadata": {},
     "output_type": "execute_result"
    }
   ],
   "source": [
    "a"
   ]
  },
  {
   "cell_type": "code",
   "execution_count": 31,
   "id": "21dd7416",
   "metadata": {},
   "outputs": [],
   "source": [
    "class RBFnetwork(nn.Module):\n",
    "    def __init__(self, timelag1, time2, clt, std):\n",
    "        super(RBFnetwork, self).__init__()\n",
    "        torch.cuda.manual_seed(0)\n",
    "        # device = \"cuda\" if torch.cuda.is_available() else \"cpu\"\n",
    "        \n",
    "        self.timelag1 = timelag1 # num_rbf\n",
    "        self.init_weight = nn.Parameter(torch.rand(self.timelag1))\n",
    "        self.timelag2 = time2 # number of data in one rbf \n",
    "        \n",
    "        self.clt_list = clt\n",
    "        self.std_list = std\n",
    "        self.rbf_list = [RBF(self.clt_list[i], self.std_list[i]) for i in range(self.timelag1)]\n",
    "        \n",
    "    def forward(self, x):\n",
    "\n",
    "        for j in range(self.timelag1 * self.timelag2):\n",
    "            if j ==0:\n",
    "                y = sum([self.init_weight[i] * self.rbf_list[i](x[j]) for i in range(self.timelag1)])\n",
    "                y.reshape(1)\n",
    "            else:\n",
    "                y = torch.cat([y, sum([self.init_weight[i] * self.rbf_list[i](x[j]) for i in range(self.timelag1)])])\n",
    "        \n",
    "        return y"
   ]
  },
  {
   "cell_type": "code",
   "execution_count": 15,
   "id": "12528529",
   "metadata": {},
   "outputs": [],
   "source": [
    "def restore_parameters(model, best_model):\n",
    "    '''Move parameter values from best_model to model.'''\n",
    "    for params, best_params in zip(model.parameters(), best_model.parameters()):\n",
    "        params.data = best_params\n",
    "        \n",
    "def train_RBFlayer(model, input_, target, lr, epochs, lookback = 5, device = device):\n",
    "    model.to(device)\n",
    "    loss_fn = nn.MSELoss(reduction='mean')\n",
    "    optimizer = torch.optim.Adam(model.parameters(), lr = lr)\n",
    "    \n",
    "    train_loss_list = []\n",
    "    \n",
    "    best_it = None\n",
    "    best_model = None\n",
    "    best_loss = np.inf\n",
    "    \n",
    "    target_list = []\n",
    "    \n",
    "    for j in range(len(target) - 2):\n",
    "        target_list.append((target[j+2] - target[j])/2)\n",
    "    \n",
    "    loss_list = []\n",
    "    cause_list = []\n",
    "    for epoch in range(epochs):\n",
    "        cause = model(input_)\n",
    "        cause_list.append(cause)\n",
    "        grad = []\n",
    "        \n",
    "        \n",
    "        for i in range(len(cause) - 2):\n",
    "            grad.append((cause[i+2] - cause[i])/2)\n",
    "        \n",
    "        loss1 = sum([loss_fn(grad[i], target_list[i]) for i in range(len(grad))])\n",
    "        loss2 = sum([loss_fn(cause[i], target[i]) for i in range(len(input_))])\n",
    "        \n",
    "        loss = loss1 + loss2\n",
    "        \n",
    "        loss.backward()\n",
    "        optimizer.step()\n",
    "        model.zero_grad()\n",
    "        \n",
    "        loss_list.append(loss)\n",
    "        mean_loss = loss / len(grad)\n",
    "        train_loss_list.append(mean_loss)\n",
    "        \n",
    "        if mean_loss < best_loss:\n",
    "            best_loss = mean_loss\n",
    "            best_it = epoch\n",
    "            best_model = deepcopy(model)\n",
    "            \n",
    "        elif (epoch - best_it) == lookback:\n",
    "            if verbose:\n",
    "                print('Stopping early')\n",
    "            break\n",
    "        print(\"epoch {} cause loss {} :\".format(epoch, loss / len(input_)))\n",
    "        print('gradient loss :', loss1/len(grad))\n",
    "        print('value loss :', loss2/len(input_))\n",
    "                \n",
    "    best_cause = cause_list[best_it]    \n",
    "    restore_parameters(model, best_model)\n",
    "\n",
    "    return best_model, loss_list, best_cause"
   ]
  },
  {
   "cell_type": "code",
   "execution_count": 32,
   "id": "65ed246a",
   "metadata": {
    "scrolled": false
   },
   "outputs": [
    {
     "ename": "RuntimeError",
     "evalue": "zero-dimensional tensor (at position 0) cannot be concatenated",
     "output_type": "error",
     "traceback": [
      "\u001b[1;31m---------------------------------------------------------------------------\u001b[0m",
      "\u001b[1;31mRuntimeError\u001b[0m                              Traceback (most recent call last)",
      "\u001b[1;32m<ipython-input-32-4c622faacf30>\u001b[0m in \u001b[0;36m<module>\u001b[1;34m\u001b[0m\n\u001b[0;32m      5\u001b[0m \u001b[0mstart\u001b[0m \u001b[1;33m=\u001b[0m \u001b[0mtime\u001b[0m\u001b[1;33m.\u001b[0m\u001b[0mtime\u001b[0m\u001b[1;33m(\u001b[0m\u001b[1;33m)\u001b[0m\u001b[1;33m\u001b[0m\u001b[1;33m\u001b[0m\u001b[0m\n\u001b[0;32m      6\u001b[0m \u001b[0mmodel\u001b[0m \u001b[1;33m=\u001b[0m \u001b[0mRBFnetwork\u001b[0m\u001b[1;33m(\u001b[0m\u001b[0mtimelag1\u001b[0m \u001b[1;33m=\u001b[0m \u001b[1;36m10\u001b[0m\u001b[1;33m,\u001b[0m \u001b[0mtime2\u001b[0m \u001b[1;33m=\u001b[0m \u001b[1;36m10\u001b[0m\u001b[1;33m,\u001b[0m \u001b[0mclt\u001b[0m \u001b[1;33m=\u001b[0m \u001b[0mclt_list\u001b[0m\u001b[1;33m,\u001b[0m \u001b[0mstd\u001b[0m \u001b[1;33m=\u001b[0m \u001b[0mstd_list\u001b[0m\u001b[1;33m)\u001b[0m\u001b[1;33m\u001b[0m\u001b[1;33m\u001b[0m\u001b[0m\n\u001b[1;32m----> 7\u001b[1;33m \u001b[0mbest_model\u001b[0m\u001b[1;33m,\u001b[0m \u001b[0mloss_list\u001b[0m\u001b[1;33m,\u001b[0m \u001b[0mbest_cause\u001b[0m \u001b[1;33m=\u001b[0m \u001b[0mtrain_RBFlayer\u001b[0m\u001b[1;33m(\u001b[0m\u001b[0mmodel\u001b[0m\u001b[1;33m,\u001b[0m \u001b[0mdata\u001b[0m\u001b[1;33m,\u001b[0m \u001b[0mdata\u001b[0m\u001b[1;33m,\u001b[0m \u001b[1;36m0.01\u001b[0m\u001b[1;33m,\u001b[0m \u001b[1;36m1000\u001b[0m\u001b[1;33m,\u001b[0m \u001b[0mdevice\u001b[0m\u001b[1;33m)\u001b[0m\u001b[1;33m\u001b[0m\u001b[1;33m\u001b[0m\u001b[0m\n\u001b[0m\u001b[0;32m      8\u001b[0m \u001b[0mcause_list\u001b[0m\u001b[1;33m.\u001b[0m\u001b[0mappend\u001b[0m\u001b[1;33m(\u001b[0m\u001b[0mbest_cause\u001b[0m\u001b[1;33m.\u001b[0m\u001b[0mcpu\u001b[0m\u001b[1;33m(\u001b[0m\u001b[1;33m)\u001b[0m\u001b[1;33m.\u001b[0m\u001b[0mdetach\u001b[0m\u001b[1;33m(\u001b[0m\u001b[1;33m)\u001b[0m\u001b[1;33m.\u001b[0m\u001b[0mnumpy\u001b[0m\u001b[1;33m(\u001b[0m\u001b[1;33m)\u001b[0m\u001b[1;33m)\u001b[0m\u001b[1;33m\u001b[0m\u001b[1;33m\u001b[0m\u001b[0m\n\u001b[0;32m      9\u001b[0m \u001b[0mprint\u001b[0m\u001b[1;33m(\u001b[0m\u001b[1;34m\"time :\"\u001b[0m\u001b[1;33m,\u001b[0m \u001b[0mtime\u001b[0m\u001b[1;33m.\u001b[0m\u001b[0mtime\u001b[0m\u001b[1;33m(\u001b[0m\u001b[1;33m)\u001b[0m \u001b[1;33m-\u001b[0m \u001b[0mstart\u001b[0m\u001b[1;33m)\u001b[0m\u001b[1;33m\u001b[0m\u001b[1;33m\u001b[0m\u001b[0m\n",
      "\u001b[1;32m<ipython-input-15-1dfa82fa6221>\u001b[0m in \u001b[0;36mtrain_RBFlayer\u001b[1;34m(model, input_, target, lr, epochs, lookback, device)\u001b[0m\n\u001b[0;32m     23\u001b[0m     \u001b[0mcause_list\u001b[0m \u001b[1;33m=\u001b[0m \u001b[1;33m[\u001b[0m\u001b[1;33m]\u001b[0m\u001b[1;33m\u001b[0m\u001b[1;33m\u001b[0m\u001b[0m\n\u001b[0;32m     24\u001b[0m     \u001b[1;32mfor\u001b[0m \u001b[0mepoch\u001b[0m \u001b[1;32min\u001b[0m \u001b[0mrange\u001b[0m\u001b[1;33m(\u001b[0m\u001b[0mepochs\u001b[0m\u001b[1;33m)\u001b[0m\u001b[1;33m:\u001b[0m\u001b[1;33m\u001b[0m\u001b[1;33m\u001b[0m\u001b[0m\n\u001b[1;32m---> 25\u001b[1;33m         \u001b[0mcause\u001b[0m \u001b[1;33m=\u001b[0m \u001b[0mmodel\u001b[0m\u001b[1;33m(\u001b[0m\u001b[0minput_\u001b[0m\u001b[1;33m)\u001b[0m\u001b[1;33m\u001b[0m\u001b[1;33m\u001b[0m\u001b[0m\n\u001b[0m\u001b[0;32m     26\u001b[0m         \u001b[0mcause_list\u001b[0m\u001b[1;33m.\u001b[0m\u001b[0mappend\u001b[0m\u001b[1;33m(\u001b[0m\u001b[0mcause\u001b[0m\u001b[1;33m)\u001b[0m\u001b[1;33m\u001b[0m\u001b[1;33m\u001b[0m\u001b[0m\n\u001b[0;32m     27\u001b[0m         \u001b[0mgrad\u001b[0m \u001b[1;33m=\u001b[0m \u001b[1;33m[\u001b[0m\u001b[1;33m]\u001b[0m\u001b[1;33m\u001b[0m\u001b[1;33m\u001b[0m\u001b[0m\n",
      "\u001b[1;32m~\\anaconda3\\envs\\pytorch\\lib\\site-packages\\torch\\nn\\modules\\module.py\u001b[0m in \u001b[0;36m_call_impl\u001b[1;34m(self, *input, **kwargs)\u001b[0m\n\u001b[0;32m    887\u001b[0m             \u001b[0mresult\u001b[0m \u001b[1;33m=\u001b[0m \u001b[0mself\u001b[0m\u001b[1;33m.\u001b[0m\u001b[0m_slow_forward\u001b[0m\u001b[1;33m(\u001b[0m\u001b[1;33m*\u001b[0m\u001b[0minput\u001b[0m\u001b[1;33m,\u001b[0m \u001b[1;33m**\u001b[0m\u001b[0mkwargs\u001b[0m\u001b[1;33m)\u001b[0m\u001b[1;33m\u001b[0m\u001b[1;33m\u001b[0m\u001b[0m\n\u001b[0;32m    888\u001b[0m         \u001b[1;32melse\u001b[0m\u001b[1;33m:\u001b[0m\u001b[1;33m\u001b[0m\u001b[1;33m\u001b[0m\u001b[0m\n\u001b[1;32m--> 889\u001b[1;33m             \u001b[0mresult\u001b[0m \u001b[1;33m=\u001b[0m \u001b[0mself\u001b[0m\u001b[1;33m.\u001b[0m\u001b[0mforward\u001b[0m\u001b[1;33m(\u001b[0m\u001b[1;33m*\u001b[0m\u001b[0minput\u001b[0m\u001b[1;33m,\u001b[0m \u001b[1;33m**\u001b[0m\u001b[0mkwargs\u001b[0m\u001b[1;33m)\u001b[0m\u001b[1;33m\u001b[0m\u001b[1;33m\u001b[0m\u001b[0m\n\u001b[0m\u001b[0;32m    890\u001b[0m         for hook in itertools.chain(\n\u001b[0;32m    891\u001b[0m                 \u001b[0m_global_forward_hooks\u001b[0m\u001b[1;33m.\u001b[0m\u001b[0mvalues\u001b[0m\u001b[1;33m(\u001b[0m\u001b[1;33m)\u001b[0m\u001b[1;33m,\u001b[0m\u001b[1;33m\u001b[0m\u001b[1;33m\u001b[0m\u001b[0m\n",
      "\u001b[1;32m<ipython-input-31-7402196b3e91>\u001b[0m in \u001b[0;36mforward\u001b[1;34m(self, x)\u001b[0m\n\u001b[0;32m     20\u001b[0m                 \u001b[0my\u001b[0m\u001b[1;33m.\u001b[0m\u001b[0mreshape\u001b[0m\u001b[1;33m(\u001b[0m\u001b[1;36m1\u001b[0m\u001b[1;33m)\u001b[0m\u001b[1;33m\u001b[0m\u001b[1;33m\u001b[0m\u001b[0m\n\u001b[0;32m     21\u001b[0m             \u001b[1;32melse\u001b[0m\u001b[1;33m:\u001b[0m\u001b[1;33m\u001b[0m\u001b[1;33m\u001b[0m\u001b[0m\n\u001b[1;32m---> 22\u001b[1;33m                 \u001b[0my\u001b[0m \u001b[1;33m=\u001b[0m \u001b[0mtorch\u001b[0m\u001b[1;33m.\u001b[0m\u001b[0mcat\u001b[0m\u001b[1;33m(\u001b[0m\u001b[1;33m[\u001b[0m\u001b[0my\u001b[0m\u001b[1;33m,\u001b[0m \u001b[0msum\u001b[0m\u001b[1;33m(\u001b[0m\u001b[1;33m[\u001b[0m\u001b[0mself\u001b[0m\u001b[1;33m.\u001b[0m\u001b[0minit_weight\u001b[0m\u001b[1;33m[\u001b[0m\u001b[0mi\u001b[0m\u001b[1;33m]\u001b[0m \u001b[1;33m*\u001b[0m \u001b[0mself\u001b[0m\u001b[1;33m.\u001b[0m\u001b[0mrbf_list\u001b[0m\u001b[1;33m[\u001b[0m\u001b[0mi\u001b[0m\u001b[1;33m]\u001b[0m\u001b[1;33m(\u001b[0m\u001b[0mx\u001b[0m\u001b[1;33m[\u001b[0m\u001b[0mj\u001b[0m\u001b[1;33m]\u001b[0m\u001b[1;33m)\u001b[0m \u001b[1;32mfor\u001b[0m \u001b[0mi\u001b[0m \u001b[1;32min\u001b[0m \u001b[0mrange\u001b[0m\u001b[1;33m(\u001b[0m\u001b[0mself\u001b[0m\u001b[1;33m.\u001b[0m\u001b[0mtimelag1\u001b[0m\u001b[1;33m)\u001b[0m\u001b[1;33m]\u001b[0m\u001b[1;33m)\u001b[0m\u001b[1;33m]\u001b[0m\u001b[1;33m)\u001b[0m\u001b[1;33m\u001b[0m\u001b[1;33m\u001b[0m\u001b[0m\n\u001b[0m\u001b[0;32m     23\u001b[0m \u001b[1;33m\u001b[0m\u001b[0m\n\u001b[0;32m     24\u001b[0m         \u001b[1;32mreturn\u001b[0m \u001b[0my\u001b[0m\u001b[1;33m\u001b[0m\u001b[1;33m\u001b[0m\u001b[0m\n",
      "\u001b[1;31mRuntimeError\u001b[0m: zero-dimensional tensor (at position 0) cannot be concatenated"
     ]
    }
   ],
   "source": [
    "import time\n",
    "\n",
    "cause_list = []\n",
    "\n",
    "start = time.time()\n",
    "model = RBFnetwork(timelag1 = 10, time2 = 10, clt = clt_list, std = std_list)\n",
    "best_model, loss_list, best_cause = train_RBFlayer(model, data, data, 0.01, 1000, device)\n",
    "cause_list.append(best_cause.cpu().detach().numpy())\n",
    "print(\"time :\", time.time() - start)\n",
    "print('-------------------------------------------------------------------------------------------')"
   ]
  },
  {
   "cell_type": "code",
   "execution_count": null,
   "id": "e3ac7193",
   "metadata": {},
   "outputs": [],
   "source": []
  },
  {
   "cell_type": "code",
   "execution_count": null,
   "id": "545680aa",
   "metadata": {},
   "outputs": [],
   "source": []
  },
  {
   "cell_type": "code",
   "execution_count": null,
   "id": "faf706b6",
   "metadata": {},
   "outputs": [],
   "source": []
  },
  {
   "cell_type": "code",
   "execution_count": null,
   "id": "c4770875",
   "metadata": {},
   "outputs": [],
   "source": []
  },
  {
   "cell_type": "code",
   "execution_count": null,
   "id": "3952822f",
   "metadata": {},
   "outputs": [],
   "source": []
  },
  {
   "cell_type": "code",
   "execution_count": null,
   "id": "bec0f63d",
   "metadata": {},
   "outputs": [],
   "source": []
  },
  {
   "cell_type": "code",
   "execution_count": null,
   "id": "92e00080",
   "metadata": {},
   "outputs": [],
   "source": []
  },
  {
   "cell_type": "code",
   "execution_count": null,
   "id": "68922f6b",
   "metadata": {},
   "outputs": [],
   "source": []
  },
  {
   "cell_type": "code",
   "execution_count": null,
   "id": "0920ddbf",
   "metadata": {},
   "outputs": [],
   "source": []
  },
  {
   "cell_type": "code",
   "execution_count": null,
   "id": "2067d2e4",
   "metadata": {},
   "outputs": [],
   "source": []
  },
  {
   "cell_type": "code",
   "execution_count": null,
   "id": "06cb72c8",
   "metadata": {},
   "outputs": [],
   "source": []
  },
  {
   "cell_type": "code",
   "execution_count": null,
   "id": "07382791",
   "metadata": {},
   "outputs": [],
   "source": []
  },
  {
   "cell_type": "code",
   "execution_count": null,
   "id": "c5630f00",
   "metadata": {},
   "outputs": [],
   "source": []
  },
  {
   "cell_type": "code",
   "execution_count": null,
   "id": "673ccbff",
   "metadata": {},
   "outputs": [],
   "source": []
  }
 ],
 "metadata": {
  "kernelspec": {
   "display_name": "Python 3",
   "language": "python",
   "name": "python3"
  },
  "language_info": {
   "codemirror_mode": {
    "name": "ipython",
    "version": 3
   },
   "file_extension": ".py",
   "mimetype": "text/x-python",
   "name": "python",
   "nbconvert_exporter": "python",
   "pygments_lexer": "ipython3",
   "version": "3.8.8"
  }
 },
 "nbformat": 4,
 "nbformat_minor": 5
}
