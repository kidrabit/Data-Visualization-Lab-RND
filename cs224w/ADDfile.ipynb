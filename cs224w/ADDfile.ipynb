{
 "cells": [
  {
   "cell_type": "code",
   "execution_count": 2,
   "id": "7a6e19e4",
   "metadata": {},
   "outputs": [],
   "source": [
    "  \n",
    "import torch\n",
    "import torch.nn as nn\n",
    "import numpy as np\n",
    "from copy import deepcopy\n",
    "\n",
    "\n",
    "class MLP(nn.Module):\n",
    "    def __init__(self, num_series, lag, hidden, activation):\n",
    "        super(MLP, self).__init__()\n",
    "        self.activation = activation_helper(activation)\n",
    "\n",
    "        # Set up network.\n",
    "        layer = nn.Conv1d(num_series, hidden[0], lag)\n",
    "        modules = [layer]\n",
    "\n",
    "        for d_in, d_out in zip(hidden, hidden[1:] + [1]):\n",
    "            layer = nn.Conv1d(d_in, d_out, 1)\n",
    "            modules.append(layer)\n",
    "\n",
    "        # Register parameters.\n",
    "        self.layers = nn.ModuleList(modules)\n",
    "\n",
    "    def forward(self, X):\n",
    "        X = X.transpose(2, 1)\n",
    "        for i, fc in enumerate(self.layers):\n",
    "            if i != 0:\n",
    "                X = self.activation(X)\n",
    "            X = fc(X)\n",
    "\n",
    "        return X.transpose(2, 1)"
   ]
  },
  {
   "cell_type": "code",
   "execution_count": null,
   "id": "23b2f2cf",
   "metadata": {},
   "outputs": [],
   "source": []
  }
 ],
 "metadata": {
  "kernelspec": {
   "display_name": "Python 3",
   "language": "python",
   "name": "python3"
  },
  "language_info": {
   "codemirror_mode": {
    "name": "ipython",
    "version": 3
   },
   "file_extension": ".py",
   "mimetype": "text/x-python",
   "name": "python",
   "nbconvert_exporter": "python",
   "pygments_lexer": "ipython3",
   "version": "3.8.8"
  }
 },
 "nbformat": 4,
 "nbformat_minor": 5
}
