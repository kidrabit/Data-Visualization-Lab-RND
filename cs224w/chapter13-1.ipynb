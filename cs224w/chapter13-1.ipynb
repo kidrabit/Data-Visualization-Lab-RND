{
 "cells": [
  {
   "cell_type": "markdown",
   "id": "fd7afa8c",
   "metadata": {},
   "source": [
    "# Probabilistic Contagion(전염성) and Models of Influence"
   ]
  },
  {
   "cell_type": "markdown",
   "id": "40042bc7",
   "metadata": {},
   "source": [
    "### Epidemics vs Cascade Spreading\n",
    " - decision-based  models node들은 하나의 strategy를 기반으로 결정을 내린다.\n",
    " - In epidemics spreading\n",
    "     - Lack of decision making\n",
    "     - 전염의 과정은 복잡하고 unobservable하다.(몇개의 case에서는 randomness를 포함한다.)\n",
    "     \n",
    "### Probabilistic Spreading Models\n",
    " - epidemic model based on Random Trees\n",
    "     - a variant(변형) of branching processes\n",
    "     - A patient meets d new people\n",
    "     - With probability q > 0 she infects each of them\n",
    "     <img src ='attachment:image.png' width = 40%>\n",
    "     - q와 d를 가지고 depth가 커질 때 확률값이 얼마인지 계산이 필요\n",
    "     - 이 확률값을 인접한 부모,자식노드와의 관계를 통해 iterative하게 정의 가능\n",
    "         - $p_h = prob.a node at depth h is infected$\n",
    "         - $\\lim_{h -> \\inf} p_h = ?$\n",
    "         - Need recurrence for $p_h$ : $p_h = 1- (1-qp_{h-1})^d$ ($(1-qp_{h-1})$: no infected node at depth h from the root)\n",
    "         - $\\lim_{h -> \\inf} p_h$ : result of iterationg ($f(x) = 1 - (1-qp_{h-1})^d$ start : x=1 since $p_1 = 1$) ($x_i = f(x_{i-1})$)\n",
    "         <img src = 'attachment:image-2.png' width = 40%>\n",
    "         - If we want to epidemic to die out, then iterating f(x) must go to zero. So, f(x) must be below y=x.(아래 그림참고)\n",
    "         <img src = 'attachment:image-3.png' width = 40%>\n",
    "         - f(x)의 모양으로 알수 있는것\n",
    "             - f(0) = 0\n",
    "             - $f(1) = 1- 1(1-q)^d <1$\n",
    "             - $f'(x) = qd(1-qx)^{d-1}$\n",
    "             - $f'(0) = qd$\n",
    "         - $f'(x)$ is monotone non-increasing on [0,1]\n",
    "         - for the eqidemic to die out, we need f(x) to be below y=x. \n",
    "         - So : $f'(0) = qd <1$\n",
    "         - $lim_{h->inf} p_h = 0$ when qd<1 (qd = expected # of people that get infected)\n",
    "         - Important Points\n",
    "             - Reproductive number R0 = q*d\n",
    "             - There is an epidemic if R0>= 1 (epidemic은 죽지않고 감염자만 늘어날 것이다.)\n",
    "             - R0 <1 : epidemic은 빠른시일내에 끝날것이다\n",
    "             - R0가 1에 가까울때 q의 값을 약간 변경하면 epidemic은 사라지거나 발생할수있다.\n",
    "       "
   ]
  },
  {
   "cell_type": "markdown",
   "id": "dd6a9977",
   "metadata": {},
   "source": [
    "## Application : Social cascades on Flickr and estimating R0 from real data\n",
    "\n",
    "### Dataset\n",
    " - Flickr social network\n",
    "     - users are connected to other users via friend links\n",
    "     - A user can like/favorite a photo\n",
    " - Data\n",
    "     - 100 days of photo likes\n",
    "     - Number of users : 2million\n",
    "### Cascades on Flickr\n",
    " - 소셜 영향력(캐스케이드) 또는 외부 링크를 통해 사용자에게 사진 노출 가능\n",
    " - no :사용자가 사진을 좋아하고 이전에 사진을 좋아하는 친구가 없는 경우\n",
    " - yes : 적어도 user의 친구중 한명이 like를 누룬후 다른 users들이 like를 누른겨우 - cascade\n",
    " <img src = 'attachment:image-2.png' width = 40%>\n",
    " - Discussion\n",
    "     - Data from top 1, 000 photo cascades\n",
    "     - Each + is one cascade\n",
    "     - 인기 있는 사진의 기본 재생산 횟수는 1에서 190 사이입니다.\n",
    "     - 이는 홍역 같은 매우 전염성이 강한 질병보다 훨씬 높은 수치로 소셜 네트워크가 효율적인 전송 매체이며 온라인 컨텐츠가 매우 감염될 수 있음을 보여준다."
   ]
  },
  {
   "cell_type": "code",
   "execution_count": null,
   "id": "4d7ba02b",
   "metadata": {},
   "outputs": [],
   "source": []
  }
 ],
 "metadata": {
  "kernelspec": {
   "display_name": "Python 3",
   "language": "python",
   "name": "python3"
  },
  "language_info": {
   "codemirror_mode": {
    "name": "ipython",
    "version": 3
   },
   "file_extension": ".py",
   "mimetype": "text/x-python",
   "name": "python",
   "nbconvert_exporter": "python",
   "pygments_lexer": "ipython3",
   "version": "3.8.8"
  }
 },
 "nbformat": 4,
 "nbformat_minor": 5
}
