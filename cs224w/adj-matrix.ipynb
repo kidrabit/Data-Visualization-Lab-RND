{
 "cells": [
  {
   "cell_type": "code",
   "execution_count": 1,
   "id": "e61e0e74",
   "metadata": {},
   "outputs": [],
   "source": [
    "import pickle\n",
    "import numpy as np\n",
    "import pandas as pd"
   ]
  },
  {
   "cell_type": "code",
   "execution_count": 111,
   "id": "32c981c2",
   "metadata": {
    "scrolled": false
   },
   "outputs": [],
   "source": [
    "pk= pickle.load(open('adj_mx_gang.pkl','rb'))\n",
    "df = pd.read_csv('gang_csv.csv')"
   ]
  },
  {
   "cell_type": "code",
   "execution_count": 3,
   "id": "0a5a7c52",
   "metadata": {},
   "outputs": [],
   "source": [
    "adj_info = pd.read_csv('distances_gang.csv')"
   ]
  },
  {
   "cell_type": "code",
   "execution_count": 20,
   "id": "5a299a9f",
   "metadata": {
    "scrolled": true
   },
   "outputs": [
    {
     "data": {
      "text/plain": [
       "array([[0., 0., 0., ..., 0., 0., 0.],\n",
       "       [0., 1., 0., ..., 0., 0., 0.],\n",
       "       [0., 0., 0., ..., 0., 0., 0.],\n",
       "       ...,\n",
       "       [0., 0., 0., ..., 0., 0., 0.],\n",
       "       [0., 0., 0., ..., 0., 0., 0.],\n",
       "       [0., 0., 0., ..., 0., 0., 0.]], dtype=float32)"
      ]
     },
     "execution_count": 20,
     "metadata": {},
     "output_type": "execute_result"
    }
   ],
   "source": [
    "pk[2]"
   ]
  },
  {
   "cell_type": "markdown",
   "id": "df71f4c2",
   "metadata": {},
   "source": [
    "### Directed Graphical Causal Models\n",
    " - (1) a set of variables, regarded as “random variables,\" \n",
    " - (2) a set of directed edges between pairs of variables, each edge regarded as the hypothesis that the two variables would be associated if all other variables were fixed at some values while the tail variable is exogenously varied, and \n",
    " - (3) a joint probability distribution over the possible values of all of the variables\n",
    " \n",
    "  \n",
    " - 일반적으로 \"구조 방정식 모델\"(SEM) 또는 기능 인과 모델(FCM)로 표시되는 DGCM의 클래스는 각 변수의 값이 그래프에서 직접 원인과 측정되지 않은 장애의 결정론적 함수라고 가정한다.\n",
    " - 선형 모형이 가장 일반적이지만 변수를 직접 원인과 연결하는 함수는 어떤 것이든 될 수 있다\n",
    " - DGCM의 두 번째 구성요소는 지시된 그래프가 인과적 평균을 갖는 데 필수적이다\n",
    " - The causal Bayesian network was defined in a similar way by Pearl (2000, p.23). "
   ]
  },
  {
   "cell_type": "code",
   "execution_count": 110,
   "id": "069d0616",
   "metadata": {},
   "outputs": [
    {
     "data": {
      "text/html": [
       "<div>\n",
       "<style scoped>\n",
       "    .dataframe tbody tr th:only-of-type {\n",
       "        vertical-align: middle;\n",
       "    }\n",
       "\n",
       "    .dataframe tbody tr th {\n",
       "        vertical-align: top;\n",
       "    }\n",
       "\n",
       "    .dataframe thead th {\n",
       "        text-align: right;\n",
       "    }\n",
       "</style>\n",
       "<table border=\"1\" class=\"dataframe\">\n",
       "  <thead>\n",
       "    <tr style=\"text-align: right;\">\n",
       "      <th></th>\n",
       "      <th>from</th>\n",
       "      <th>to</th>\n",
       "      <th>cost</th>\n",
       "    </tr>\n",
       "  </thead>\n",
       "  <tbody>\n",
       "    <tr>\n",
       "      <th>0</th>\n",
       "      <td>1210030000</td>\n",
       "      <td>1210030000</td>\n",
       "      <td>0</td>\n",
       "    </tr>\n",
       "  </tbody>\n",
       "</table>\n",
       "</div>"
      ],
      "text/plain": [
       "         from          to  cost\n",
       "0  1210030000  1210030000     0"
      ]
     },
     "execution_count": 110,
     "metadata": {},
     "output_type": "execute_result"
    }
   ],
   "source": [
    "adj_info[adj_info['from'] == 1210030000]"
   ]
  },
  {
   "cell_type": "code",
   "execution_count": 31,
   "id": "517959bb",
   "metadata": {},
   "outputs": [
    {
     "data": {
      "text/plain": [
       "array([1220029600, 1220032300, 1220030400, 1220031300, 1220033600,\n",
       "       1220034300, 1220033000, 1220035300], dtype=int64)"
      ]
     },
     "execution_count": 31,
     "metadata": {},
     "output_type": "execute_result"
    }
   ],
   "source": [
    "adj_info[adj_info['from'] == 1220032200]['to'].unique()"
   ]
  },
  {
   "cell_type": "code",
   "execution_count": 43,
   "id": "c9b28137",
   "metadata": {},
   "outputs": [],
   "source": [
    "edges = df.columns"
   ]
  },
  {
   "cell_type": "code",
   "execution_count": 87,
   "id": "301bef15",
   "metadata": {
    "scrolled": true
   },
   "outputs": [
    {
     "data": {
      "text/plain": [
       "Index(['1220029700', '1220032100', '1220033000', '1220024600', '1220028200',\n",
       "       '1210030000', '1220025300', '1220029200', '1220034000', '1220034300',\n",
       "       '1220027500', '1220034200', '1220026100', '1220033700', '1220026700',\n",
       "       '1220035900', '1220031900', '1220035300', '1220032600', '1220034500',\n",
       "       '1220030400', '1220033500', '1220030000', '1220029600', '1220024000',\n",
       "       '1220026600', '1220030900', '1220031100', '1220034700', '1220031200',\n",
       "       '1220028100', '1220031300', '1220028300', '1220030100', '1220033600',\n",
       "       '1220029100', '1220032300', '1220032000', '1220032200', '1220034100',\n",
       "       '1220029800', '1220027400', '1220027200', '1220029000', '1220026200',\n",
       "       '1220029300', '1220032900', '1220029900', '1220026300', '1220033400',\n",
       "       '1220025200', '1220033100', '1220031800', '1220033300', '1220031000',\n",
       "       '1220034600', '1220032800', '1220026800'],\n",
       "      dtype='object')"
      ]
     },
     "execution_count": 87,
     "metadata": {},
     "output_type": "execute_result"
    }
   ],
   "source": [
    "edges"
   ]
  },
  {
   "cell_type": "code",
   "execution_count": 88,
   "id": "18b8e112",
   "metadata": {},
   "outputs": [],
   "source": [
    "edges_index = {}"
   ]
  },
  {
   "cell_type": "code",
   "execution_count": 89,
   "id": "ffa35c1c",
   "metadata": {},
   "outputs": [],
   "source": [
    "for i in range(len(edges)):\n",
    "    edges_index[str(edges[i])] = i"
   ]
  },
  {
   "cell_type": "code",
   "execution_count": 105,
   "id": "df776c4d",
   "metadata": {
    "scrolled": true
   },
   "outputs": [
    {
     "data": {
      "text/plain": [
       "dict"
      ]
     },
     "execution_count": 105,
     "metadata": {},
     "output_type": "execute_result"
    }
   ],
   "source": [
    "type(edges_index)"
   ]
  },
  {
   "cell_type": "code",
   "execution_count": 106,
   "id": "080ea6b7",
   "metadata": {},
   "outputs": [],
   "source": [
    "with open('edges_index.pickle','wb') as fw:\n",
    "    pickle.dump(edges_index, fw)"
   ]
  },
  {
   "cell_type": "code",
   "execution_count": 91,
   "id": "a7b13410",
   "metadata": {},
   "outputs": [],
   "source": [
    "adj_matrix = pk[2]"
   ]
  },
  {
   "cell_type": "code",
   "execution_count": 92,
   "id": "dbc8e1e2",
   "metadata": {},
   "outputs": [],
   "source": [
    "for i in range(58):\n",
    "    for j in range(58):\n",
    "        adj_matrix[i][j] = 0"
   ]
  },
  {
   "cell_type": "code",
   "execution_count": 93,
   "id": "f0b3131a",
   "metadata": {},
   "outputs": [
    {
     "data": {
      "text/plain": [
       "array([[0., 0., 0., ..., 0., 0., 0.],\n",
       "       [0., 0., 0., ..., 0., 0., 0.],\n",
       "       [0., 0., 0., ..., 0., 0., 0.],\n",
       "       ...,\n",
       "       [0., 0., 0., ..., 0., 0., 0.],\n",
       "       [0., 0., 0., ..., 0., 0., 0.],\n",
       "       [0., 0., 0., ..., 0., 0., 0.]], dtype=float32)"
      ]
     },
     "execution_count": 93,
     "metadata": {},
     "output_type": "execute_result"
    }
   ],
   "source": [
    "adj_matrix"
   ]
  },
  {
   "cell_type": "code",
   "execution_count": null,
   "id": "39cf0b4b",
   "metadata": {},
   "outputs": [],
   "source": [
    "adj_edges = adj_info[adj_info['from'] == edge]['to'].unique()"
   ]
  },
  {
   "cell_type": "code",
   "execution_count": 96,
   "id": "086f9378",
   "metadata": {},
   "outputs": [],
   "source": [
    "for edge in edges:\n",
    "    adj_edges = adj_info[adj_info['from'] == int(edge)]['to'].unique()\n",
    "    for adj in adj_edges:\n",
    "        adj_matrix[edges_index[str(edge)]][edges_index[str(adj)]] = 1"
   ]
  },
  {
   "cell_type": "code",
   "execution_count": 97,
   "id": "44361066",
   "metadata": {},
   "outputs": [
    {
     "data": {
      "text/plain": [
       "array([12., 17., 12., 12., 16.,  1.,  9., 12.,  8., 12., 12., 12., 12.,\n",
       "        9.,  5.,  8., 12., 12.,  9.,  9., 13., 15., 12., 13.,  9., 10.,\n",
       "       12., 13., 12., 17., 10., 13., 12., 13., 12., 16., 13., 15.,  9.,\n",
       "       12., 17., 16., 12., 13., 12., 10., 15., 16.,  9., 12., 12., 17.,\n",
       "       12., 12., 15.,  8., 12., 10.], dtype=float32)"
      ]
     },
     "execution_count": 97,
     "metadata": {},
     "output_type": "execute_result"
    }
   ],
   "source": [
    "sum(adj_matrix)"
   ]
  },
  {
   "cell_type": "code",
   "execution_count": 98,
   "id": "c48af54d",
   "metadata": {},
   "outputs": [],
   "source": [
    "for i in range(len(edges_index)):\n",
    "    adj_matrix[i][i] = 0"
   ]
  },
  {
   "cell_type": "code",
   "execution_count": 99,
   "id": "0f4d68d2",
   "metadata": {},
   "outputs": [
    {
     "data": {
      "text/plain": [
       "array([[0., 0., 0., ..., 0., 0., 0.],\n",
       "       [0., 0., 1., ..., 0., 0., 0.],\n",
       "       [0., 1., 0., ..., 0., 0., 0.],\n",
       "       ...,\n",
       "       [0., 0., 0., ..., 0., 1., 0.],\n",
       "       [0., 0., 0., ..., 1., 0., 0.],\n",
       "       [0., 0., 0., ..., 0., 0., 0.]], dtype=float32)"
      ]
     },
     "execution_count": 99,
     "metadata": {},
     "output_type": "execute_result"
    }
   ],
   "source": [
    "adj_matrix"
   ]
  },
  {
   "cell_type": "code",
   "execution_count": 101,
   "id": "e69b6fcb",
   "metadata": {},
   "outputs": [
    {
     "data": {
      "text/plain": [
       "array([12., 16., 12., 12., 16.,  0.,  8., 12.,  8., 12., 12., 12., 11.,\n",
       "        8.,  4.,  7., 11., 11.,  9.,  9., 13., 15., 12., 13.,  9., 10.,\n",
       "       12., 12., 12., 17.,  9., 12., 11., 13., 12., 16., 13., 15.,  9.,\n",
       "       12., 17., 16., 12., 13., 12., 10., 14., 15.,  9., 11., 12., 17.,\n",
       "       12., 11., 15.,  8., 12., 10.], dtype=float32)"
      ]
     },
     "execution_count": 101,
     "metadata": {},
     "output_type": "execute_result"
    }
   ],
   "source": [
    "sum(adj_matrix)"
   ]
  },
  {
   "cell_type": "code",
   "execution_count": 102,
   "id": "d32cfce7",
   "metadata": {},
   "outputs": [],
   "source": [
    "np.save(\"adj_matrix.npy\", adj_matrix)"
   ]
  },
  {
   "cell_type": "code",
   "execution_count": 103,
   "id": "8443d5dc",
   "metadata": {},
   "outputs": [],
   "source": [
    "np.save(\"edges_index.npy\", edges_index)"
   ]
  },
  {
   "cell_type": "code",
   "execution_count": null,
   "id": "721753ea",
   "metadata": {},
   "outputs": [],
   "source": []
  }
 ],
 "metadata": {
  "kernelspec": {
   "display_name": "Python 3",
   "language": "python",
   "name": "python3"
  },
  "language_info": {
   "codemirror_mode": {
    "name": "ipython",
    "version": 3
   },
   "file_extension": ".py",
   "mimetype": "text/x-python",
   "name": "python",
   "nbconvert_exporter": "python",
   "pygments_lexer": "ipython3",
   "version": "3.8.8"
  }
 },
 "nbformat": 4,
 "nbformat_minor": 5
}
