{
 "cells": [
  {
   "cell_type": "markdown",
   "id": "c32930ab",
   "metadata": {},
   "source": [
    "# Convergent Cross Mapping (CCM)\n"
   ]
  },
  {
   "cell_type": "markdown",
   "id": "99d95b62",
   "metadata": {},
   "source": [
    "While GC has been developed for stochastic processes where the influences of different causal variables can be well\n",
    "separated, Convergent Cross Mapping is developed for deterministic processes that are not completely random. inspired\n",
    "from dynamical systems’ theory, it can be applied even when causal variables have synergistic effects [21].\n",
    "This method uses Takens’ embedding theorem [26] in a fundamental way. According to this theorem, observations from\n",
    "a single variable of the system can be used to reconstruct the attractor manifold of the entire dynamical system. CCM\n",
    "exploits the fact that two variables will be causally related if they are from the same dynamical system. If a variable X\n",
    "causes Y, then the lagged (past) values of Y can help to estimate states of X. This is true because of Taken’s theorem –\n",
    "manifold MY (or MX ) of any one observed variable Y, will have a one to one mapping to the true manifold, M and hence\n",
    "manifolds of two variables MY and MX will have a one to one mapping to each other. However, this cross mapping is\n",
    "not symmetric. If X is unidirectionally causing Y, past values of Y will have information about X, but not the other way\n",
    "round. Thus, the state of X will be predictable from MY , but Y not from MX .\n"
   ]
  },
  {
   "cell_type": "code",
   "execution_count": null,
   "id": "df544dd5",
   "metadata": {},
   "outputs": [],
   "source": []
  }
 ],
 "metadata": {
  "kernelspec": {
   "display_name": "Python 3",
   "language": "python",
   "name": "python3"
  },
  "language_info": {
   "codemirror_mode": {
    "name": "ipython",
    "version": 3
   },
   "file_extension": ".py",
   "mimetype": "text/x-python",
   "name": "python",
   "nbconvert_exporter": "python",
   "pygments_lexer": "ipython3",
   "version": "3.8.8"
  }
 },
 "nbformat": 4,
 "nbformat_minor": 5
}
