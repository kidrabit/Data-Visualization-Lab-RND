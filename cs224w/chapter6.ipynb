{
 "cells": [
  {
   "cell_type": "markdown",
   "metadata": {},
   "source": [
    "# chapter6. Message Passing and Node Classification\n",
    " - network에서 몇 개의 nodes만 label값을 알고 있을때 label값이 명시안된 node들의 label값 예측하기\n",
    " - this is called semi - supervised node classification\n",
    " - idea : all nodes in a network together -> correlations exist in networks"
   ]
  },
  {
   "cell_type": "markdown",
   "metadata": {},
   "source": [
    "## Relational Classification\n",
    " #### correaltions exist in networks\n",
    "   - Homophily : the tendency of individuals to associate and bond with similar others\n",
    "   - Influence : social connections can influence the individual\n",
    "   - 위의 두가지 속석에 따라 비슷한 node들은 일반적으로 가까이 있거나 직접 연결되어 있다는 것을 알 수 있다.\n",
    " - if i am connected to a node with label X, then i am likely to have label X as well\n",
    " \n",
    " #### collective classification overview\n",
    "  - Markov Assumption : the label $Y_i$ of one node i depends on the labels of its neighbors $N_i$\n",
    "  - $P(Y_i|i) = P(Y_i|N_i)$\n",
    "  - 3 Steps\n",
    "     - Local classifier : assign initial labels\n",
    "     - Relational Classifier : capture correlations between nodes\n",
    "     - collective inference : propagate correlations through network\n",
    "     \n",
    "  - 1) Local classifier\n",
    "     - 노드 속성을 사용하여 label을 예측함 (network 정보를 사용하지 않는다고 한다)\n",
    "     \n",
    "  - 2) Relational Classifier\n",
    "     - 이웃 노드 라벨, 속성을 참조하여 labels classifier를 배움 (network 정보를 사용)\n",
    "     \n",
    "  - 3) Collective Inference(이해가 잘 안감)\n",
    "     - Apply relational classifier to each node iterativerly\n",
    "     - lterate until the inconsistency between neighboring labels is minimized\n",
    "     - Network structure substantially affects the final prediction"
   ]
  },
  {
   "cell_type": "markdown",
   "metadata": {},
   "source": [
    "## Iterative classification\n",
    " - Main idea :인접 집합 $N_$의 labels 뿐 아니라 node의 attrubutes을 기준으로 분류한다.\n",
    "    - creat a flat vector $a_i$ for each node i\n",
    "    - Train a classifier to classify using $a_i$\n",
    "    - Node may have various number of neighbors, so we can aggregate using count, mode, proportion,mean, exists, etc.\n",
    " ### Basic architecture of iterative classifiers\n",
    " \n",
    "   #### Bootstrap phase\n",
    "     - Convert each node i to a flat vector $a_i$\n",
    "     - Use local classifier $f(a_i)$ (e.g. SVM, kNN) to compute best value for $Y_i$\n",
    "     \n",
    "   #### Iteration phase \n",
    "     - 수렴 할 때 까지 반복\n",
    "     - Repeat for each node i\n",
    "       - update node vector $a_i$\n",
    "       - update label $Y_i$ to f(a_i). (어렵다고 한다)\n",
    "     - 위의 과정이 안정화 될 때까지 반복\n",
    "     - 중요 : Convergence is not guaranteed(수렴은 보장되지 않음) (Run to max number of iterations)\n",
    "    "
   ]
  },
  {
   "cell_type": "markdown",
   "metadata": {},
   "source": [
    "## Loopy belief propagation(이해가 안간다.)\n",
    "  - Belief proragation은 조건부 확률을 통해 graphical model 에서 답을 찾는 방식이다.\n",
    "  \n",
    "  - Task : Count the numver of nodes in a graph\n",
    "  - Condition : Each node can only interact(ex. pass messsage) with its neighbors\n",
    "  - "
   ]
  },
  {
   "cell_type": "code",
   "execution_count": null,
   "metadata": {},
   "outputs": [],
   "source": []
  }
 ],
 "metadata": {
  "kernelspec": {
   "display_name": "Python 3",
   "language": "python",
   "name": "python3"
  },
  "language_info": {
   "codemirror_mode": {
    "name": "ipython",
    "version": 3
   },
   "file_extension": ".py",
   "mimetype": "text/x-python",
   "name": "python",
   "nbconvert_exporter": "python",
   "pygments_lexer": "ipython3",
   "version": "3.8.8"
  }
 },
 "nbformat": 4,
 "nbformat_minor": 4
}
