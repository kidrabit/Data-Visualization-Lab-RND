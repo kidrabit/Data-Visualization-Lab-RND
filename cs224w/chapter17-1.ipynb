{
 "cells": [
  {
   "cell_type": "markdown",
   "id": "ef940ba9",
   "metadata": {},
   "source": [
    "# Reasoning over Knowledge Graphs\n",
    "\n",
    "## Outline of Today's Lecture\n",
    " - Introduction to Knowledge Graphs\n",
    " - Knowledge Graph completion\n",
    " - Path Queries\n",
    " - Conjunctive Queries\n",
    " - Query2Box : Reasoning with Box Embeddings\n",
    " \n",
    "## What is knowledge Graph?\n",
    "   - graph에서  Knowledge들은 entities / types / relationships로 나뉘어져 있음\n",
    "   - Nodes are entites and Nodes are labeled with their types\n",
    "   - node들은 Edge로 relationship을 표현할 수 있다. \n",
    "<img src = \"attachment:image-2.png\" width = 40%>"
   ]
  },
  {
   "cell_type": "markdown",
   "id": "fc6b4c9c",
   "metadata": {},
   "source": [
    "## Kowledge Graph completion\n",
    " \n",
    " ### Kowledge Graph datasets\n",
    "   - Publicly available KGs:\n",
    "       - Freebase,wikidata Dbpedia YAGO, NELL,etc...\n",
    "   - Common characteristics:\n",
    "       - Massive: milions of nodes and edges\n",
    "       - Incomplete : many true edges are missing\n",
    "   - Can we predict plausible But missing links? <- 풀어야되는 문제\n",
    "   \n",
    " ### KG Completion\n",
    "   - Given an enormous KG, can we complete the KG/ predict missing relations?\n",
    "   <img src = \"attachment:image.png\" width = 40%>\n",
    " \n",
    " ### KG Representation\n",
    "  - Edges in KG are represented as triples(h,r,t)\n",
    "  - h : head, r : relation, t : tail\n",
    "  - key idea :\n",
    "      - Model entities and relations in the embedding/ vectior space $R^d$\n",
    "      - Given a true triples(h,r,t), the goal is that the embedding of (h,r) should be close th the embedding of t.\n",
    "          - How to embed (h,r)?\n",
    "          - How to define closeness?\n",
    "   <img src = \"attachment:image-2.png\" width = 40%>\n",
    "   \n",
    " ### embedding\n",
    "  - 앞서 배운 Trans_E를 생각해볼수있다.\n",
    "  - head + relationship = Tail 이 나오게 embedding\n",
    "  - 문제점 \n",
    "      - Symmetric : h + r= t, t+r = h를 모두 만족해야한다. 즉 t - r = t + r, r= 0이 된다. 즉 대칭적인 벡터는 존재할 수 없게 된다.\n",
    "      - composition : 이것은 엄마 벡터 + 남편 벡터 = 아빠 벡터 가 나오게 할 수 있으므로 성립한다.\n",
    "      - 1 to N : 투빅스라는 벡터에 멤버 벡터를 더하면 투빅스 멤버들이 나와야하지만, 이렇게 하게 되면 멤버 벡터가 하나밖에 나오지 않는다. "
   ]
  },
  {
   "cell_type": "code",
   "execution_count": null,
   "id": "cc4d1a2d",
   "metadata": {},
   "outputs": [],
   "source": []
  }
 ],
 "metadata": {
  "kernelspec": {
   "display_name": "Python 3",
   "language": "python",
   "name": "python3"
  },
  "language_info": {
   "codemirror_mode": {
    "name": "ipython",
    "version": 3
   },
   "file_extension": ".py",
   "mimetype": "text/x-python",
   "name": "python",
   "nbconvert_exporter": "python",
   "pygments_lexer": "ipython3",
   "version": "3.8.8"
  }
 },
 "nbformat": 4,
 "nbformat_minor": 5
}
