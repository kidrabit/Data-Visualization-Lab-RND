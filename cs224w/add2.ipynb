{
 "cells": [
  {
   "cell_type": "code",
   "execution_count": null,
   "id": "88f97141",
   "metadata": {},
   "outputs": [],
   "source": [
    "def display_result(result_array,name):\n",
    "    \n",
    "    # plotting the input image\n",
    "    plt.imshow(image_dictionary[name])\n",
    "    plt.title('This is the Input Image')\n",
    "    plt.xlabel(\"( Image \"+ name + \" )\")\n",
    "    plt.show()\n",
    "    \n",
    "    # plotting the best three , also printing them to console.\n",
    "    print(\"\\nMost similar three images with similarity values are shown below for image -> \",name)\n",
    "    for key in result_array:\n",
    "        print(key, ' -> ', result_array[key])\n",
    "        plt.imshow(image_dictionary[key])\n",
    "        plt.title(str(result_array[key]) + \" similar with input image \" + name )\n",
    "        plt.xlabel(\"( Image \"+ key + \" )\")\n",
    "        plt.show()\n",
    "        \n",
    "     \n",
    "    print(\"Results are plotted...\\n\")\n",
    "    \n",
    "    return \"\""
   ]
  }
 ],
 "metadata": {
  "kernelspec": {
   "display_name": "Python 3",
   "language": "python",
   "name": "python3"
  },
  "language_info": {
   "codemirror_mode": {
    "name": "ipython",
    "version": 3
   },
   "file_extension": ".py",
   "mimetype": "text/x-python",
   "name": "python",
   "nbconvert_exporter": "python",
   "pygments_lexer": "ipython3",
   "version": "3.8.8"
  }
 },
 "nbformat": 4,
 "nbformat_minor": 5
}
