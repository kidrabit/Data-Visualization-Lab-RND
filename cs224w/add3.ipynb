{
 "cells": [
  {
   "cell_type": "code",
   "execution_count": null,
   "id": "5ba61113",
   "metadata": {},
   "outputs": [],
   "source": [
    "def find_best_three(similarity_dictionary):\n",
    "    temp_similarity = copy.deepcopy(similarity_dictionary)\n",
    "    best_three = dict()\n",
    "    for i in range(3):\n",
    "        max_similar_name = max(temp_similarity, key=temp_similarity.get)\n",
    "        \n",
    "        best_three[max_similar_name] = temp_similarity.get(max_similar_name)\n",
    "        \n",
    "        del temp_similarity[max_similar_name]\n",
    "    \n",
    "    return best_three"
   ]
  }
 ],
 "metadata": {
  "kernelspec": {
   "display_name": "Python 3",
   "language": "python",
   "name": "python3"
  },
  "language_info": {
   "codemirror_mode": {
    "name": "ipython",
    "version": 3
   },
   "file_extension": ".py",
   "mimetype": "text/x-python",
   "name": "python",
   "nbconvert_exporter": "python",
   "pygments_lexer": "ipython3",
   "version": "3.8.8"
  }
 },
 "nbformat": 4,
 "nbformat_minor": 5
}
