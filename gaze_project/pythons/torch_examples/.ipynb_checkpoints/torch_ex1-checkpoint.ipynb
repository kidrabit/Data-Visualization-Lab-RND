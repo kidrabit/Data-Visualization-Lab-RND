{
 "cells": [
  {
   "cell_type": "markdown",
   "id": "85107f70",
   "metadata": {},
   "source": [
    "kernel error: https://gentlesark.tistory.com/112"
   ]
  },
  {
   "cell_type": "code",
   "execution_count": 1,
   "id": "066088fe",
   "metadata": {},
   "outputs": [
    {
     "name": "stdout",
     "output_type": "stream",
     "text": [
      "99 2061.5904635420347\n",
      "199 1458.6324559844256\n",
      "299 1032.9082464718113\n",
      "399 732.2785241060645\n",
      "499 519.9570520792224\n",
      "599 369.98486153193755\n",
      "699 264.0402270593312\n",
      "799 189.18960602875592\n",
      "899 136.30161827470207\n",
      "999 98.92835341092581\n",
      "1099 72.5161442091687\n",
      "1199 53.84866789673954\n",
      "1299 40.6539129806939\n",
      "1399 31.326747609295083\n",
      "1499 24.733056732677984\n",
      "1599 20.07144497795783\n",
      "1699 16.77557246930803\n",
      "1799 14.445176168788244\n",
      "1899 12.797345316485227\n",
      "1999 11.632099795409129\n",
      "Result: y = 0.055922863444388834 + 0.8520144824044095 x + -0.009647624504621484 x^2 + -0.09265810539289107 x^3\n"
     ]
    }
   ],
   "source": [
    "# -*- coding: utf-8 -*-\n",
    "import numpy as np\n",
    "import math\n",
    "\n",
    "# 무작위로 입력과 출력 데이터를 생성합니다\n",
    "x = np.linspace(-math.pi, math.pi, 2000)\n",
    "y = np.sin(x)\n",
    "\n",
    "# 무작위로 가중치를 초기화합니다\n",
    "a = np.random.randn()\n",
    "b = np.random.randn()\n",
    "c = np.random.randn()\n",
    "d = np.random.randn()\n",
    "\n",
    "learning_rate = 1e-6\n",
    "for t in range(2000):\n",
    "    # 순전파 단계: 예측값 y를 계산합니다\n",
    "    # y = a + b x + c x^2 + d x^3\n",
    "    y_pred = a + b * x + c * x ** 2 + d * x ** 3\n",
    "\n",
    "    # 손실(loss)을 계산하고 출력합니다\n",
    "    loss = np.square(y_pred - y).sum()\n",
    "    if t % 100 == 99:\n",
    "        print(t, loss)\n",
    "\n",
    "    # 손실에 따른 a, b, c, d의 변화도(gradient)를 계산하고 역전파합니다.\n",
    "    grad_y_pred = 2.0 * (y_pred - y)\n",
    "    grad_a = grad_y_pred.sum()\n",
    "    grad_b = (grad_y_pred * x).sum()\n",
    "    grad_c = (grad_y_pred * x ** 2).sum()\n",
    "    grad_d = (grad_y_pred * x ** 3).sum()\n",
    "\n",
    "    # 가중치를 갱신합니다.\n",
    "    a -= learning_rate * grad_a\n",
    "    b -= learning_rate * grad_b\n",
    "    c -= learning_rate * grad_c\n",
    "    d -= learning_rate * grad_d\n",
    "\n",
    "print(f'Result: y = {a} + {b} x + {c} x^2 + {d} x^3')"
   ]
  },
  {
   "cell_type": "code",
   "execution_count": null,
   "id": "80843310",
   "metadata": {},
   "outputs": [],
   "source": []
  }
 ],
 "metadata": {
  "kernelspec": {
   "display_name": "Python 3",
   "language": "python",
   "name": "python3"
  },
  "language_info": {
   "codemirror_mode": {
    "name": "ipython",
    "version": 3
   },
   "file_extension": ".py",
   "mimetype": "text/x-python",
   "name": "python",
   "nbconvert_exporter": "python",
   "pygments_lexer": "ipython3",
   "version": "3.8.10"
  }
 },
 "nbformat": 4,
 "nbformat_minor": 5
}
