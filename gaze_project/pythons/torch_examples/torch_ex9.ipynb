{
 "cells": [
  {
   "cell_type": "code",
   "execution_count": 6,
   "id": "fe55e6b2",
   "metadata": {},
   "outputs": [
    {
     "data": {
      "image/png": "[encoded data removed]",
      "text/plain": [
       "<Figure size 432x288 with 1 Axes>"
      ]
     },
     "metadata": {
      "needs_background": "light"
     },
     "output_type": "display_data"
    }
   ],
   "source": [
    "import pandas as pd\n",
    "\n",
    "import torch\n",
    "from torch import nn\n",
    "\n",
    "import matplotlib.pyplot as plt\n",
    "\n",
    "data = pd.read_csv('./02_Linear_Regression_Model_Data.csv')\n",
    "# Avoid copy data, just refer\n",
    "x = torch.from_numpy(data['x'].values).unsqueeze(dim=1).float()\n",
    "y = torch.from_numpy(data['y'].values).unsqueeze(dim=1).float()\n",
    "\n",
    "plt.xlim(0, 11);    plt.ylim(0, 8)\n",
    "plt.title('02_Linear_Regression_Model_Data')\n",
    "plt.scatter(x, y)\n",
    "\n",
    "plt.show()"
   ]
  },
  {
   "cell_type": "code",
   "execution_count": 8,
   "id": "cda26d7a",
   "metadata": {},
   "outputs": [],
   "source": [
    "x = torch.arange(1, 11, dtype=torch.float).unsqueeze(dim=1)\n",
    "y = x / 2 + 1 + torch.randn(10).unsqueeze(dim=1) / 5\n",
    "\n",
    "data = torch.cat((x, y), dim=1)\n",
    "data = pd.DataFrame(data.numpy())\n",
    "\n",
    "data.to_csv('./02_Linear_Regression_Model_Data.csv', header=['x', 'y'])"
   ]
  },
  {
   "cell_type": "code",
   "execution_count": null,
   "id": "c396625b",
   "metadata": {},
   "outputs": [],
   "source": []
  }
 ],
 "metadata": {
  "kernelspec": {
   "display_name": "Python 3",
   "language": "python",
   "name": "python3"
  },
  "language_info": {
   "codemirror_mode": {
    "name": "ipython",
    "version": 3
   },
   "file_extension": ".py",
   "mimetype": "text/x-python",
   "name": "python",
   "nbconvert_exporter": "python",
   "pygments_lexer": "ipython3",
   "version": "3.8.10"
  }
 },
 "nbformat": 4,
 "nbformat_minor": 5
}
