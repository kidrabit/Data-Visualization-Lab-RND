{
 "cells": [
  {
   "cell_type": "code",
   "execution_count": null,
   "id": "d54e588f",
   "metadata": {},
   "outputs": [],
   "source": [
    "from tensorflow.keras.optimizers import Adam\n",
    "from tensorflow.keras.layers import Dence, Conv1D, MaxPooling1D, Flatten, concatenate, Conv2D, MaxPooling2D"
   ]
  },
  {
   "cell_type": "code",
   "execution_count": null,
   "id": "4f875d6a",
   "metadata": {},
   "outputs": [],
   "source": [
    "class DQN(tf.keras.Model):\n",
    "    def __init__(self):\n",
    "        super(DQN, self).__init__()\n",
    "        \n",
    "        self.grid_cnn = Conv2D()\n",
    "        self.grid_dnn = Dense()\n",
    "        \n",
    "        self.cur_grid_cnn = Conv2D()\n",
    "        self.cur_grid_dnn = Dense()\n",
    "        \n",
    "        self.mask_grid_cnn = Conv2D()\n",
    "        self.mask_grid_dnn = Dense()\n",
    "        \n",
    "        self.size_grid_cnn = Conv2D()\n",
    "        self.size_grid_dnn = Dense()\n",
    "        \n",
    "    def call(self, datas):\n",
    "        grid, cur_grid, mask_grid, size_grid = datas[0], datas[1], datas[2], datas[3]\n",
    "        \n",
    "        = self.grid_cnn\n",
    "        = self.grid_dnn\n",
    "        \n",
    "        = self.cur_grid_cnn \n",
    "        = self.cur_grid_dnn\n",
    "        \n",
    "        = self.mask_grid_cnn\n",
    "        = self.mask_grid_dnn\n",
    "        \n",
    "        = self.size_grid_cnn\n",
    "        = self.size_grid_dnn\n",
    "        \n",
    "        = concatenate()\n",
    "        \n",
    "        = self.f1()\n",
    "        = self.f2()\n",
    "        = self.f()\n",
    "        \n",
    "        return"
   ]
  },
  {
   "cell_type": "code",
   "execution_count": null,
   "id": "4b9f152b",
   "metadata": {},
   "outputs": [],
   "source": []
  }
 ],
 "metadata": {
  "kernelspec": {
   "display_name": "learning",
   "language": "python",
   "name": "learning"
  },
  "language_info": {
   "codemirror_mode": {
    "name": "ipython",
    "version": 3
   },
   "file_extension": ".py",
   "mimetype": "text/x-python",
   "name": "python",
   "nbconvert_exporter": "python",
   "pygments_lexer": "ipython3",
   "version": "3.8.11"
  }
 },
 "nbformat": 4,
 "nbformat_minor": 5
}
