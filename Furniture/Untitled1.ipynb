{
 "cells": [
  {
   "cell_type": "code",
   "execution_count": 95,
   "id": "0ab5c16a",
   "metadata": {},
   "outputs": [],
   "source": [
    "import numpy as np\n",
    "import pandas as pd\n",
    "import matplotlib.pyplot as plt\n",
    "from enum import Enum"
   ]
  },
  {
   "cell_type": "code",
   "execution_count": 136,
   "id": "340c6fa8",
   "metadata": {},
   "outputs": [
    {
     "name": "stdout",
     "output_type": "stream",
     "text": [
      "Furniture Count: 5\n"
     ]
    }
   ],
   "source": [
    "furniture_cnt = int(input('Furniture Count: '))"
   ]
  },
  {
   "cell_type": "code",
   "execution_count": 137,
   "id": "c43f5c31",
   "metadata": {},
   "outputs": [
    {
     "data": {
      "text/plain": [
       "[0, 1, 2, 3, 4]"
      ]
     },
     "execution_count": 137,
     "metadata": {},
     "output_type": "execute_result"
    }
   ],
   "source": [
    "furnitureKind = [x for x in range(furniture_cnt)]\n",
    "furnitureKind"
   ]
  },
  {
   "cell_type": "code",
   "execution_count": 133,
   "id": "c98f9509",
   "metadata": {},
   "outputs": [],
   "source": [
    "class furnitureKind(Enum):\n",
    "    BED = 1\n",
    "    TABLE = 2\n",
    "    CHAIR1 = 3\n",
    "    CHAIR2 = 4\n",
    "    SHELF = 5"
   ]
  },
  {
   "cell_type": "code",
   "execution_count": 134,
   "id": "9eb46167",
   "metadata": {},
   "outputs": [],
   "source": [
    "roomSize = [100, 100] #width, height\n",
    "\n",
    "furnitureList = {\n",
    "    'bed': {'size': [40, 60], 'loc': [0,25], 'key': furnitureKind.BED},\n",
    "    'table': {'size': [15, 25], 'loc': [55,38], 'key': furnitureKind.TABLE},\n",
    "    'chair1': {'size': [10, 10], 'loc': [75,30], 'key': furnitureKind.CHAIR1},\n",
    "    'chair2': {'size': [10, 10], 'loc': [75,60], 'key': furnitureKind.CHAIR2},\n",
    "    'shelf': {'size': [25, 10], 'loc': [25,0], 'key': furnitureKind.SHELF}\n",
    "}"
   ]
  },
  {
   "cell_type": "code",
   "execution_count": 135,
   "id": "f00d0580",
   "metadata": {
    "scrolled": true
   },
   "outputs": [
    {
     "data": {
      "text/plain": [
       "<matplotlib.image.AxesImage at 0x2193fd92ec8>"
      ]
     },
     "execution_count": 135,
     "metadata": {},
     "output_type": "execute_result"
    },
    {
     "data": {
      "image/png": "[encoded data removed]",
      "text/plain": [
       "<Figure size 432x288 with 1 Axes>"
      ]
     },
     "metadata": {
      "needs_background": "light"
     },
     "output_type": "display_data"
    }
   ],
   "source": [
    "rooms = np.full((roomSize[0], roomSize[1]), 0)\n",
    "\n",
    "for kind, att in furnitureList.items():\n",
    "    w = att['size'][0]\n",
    "    h = att['size'][1]\n",
    "    px = att['loc'][0]\n",
    "    py = att['loc'][1]\n",
    "    \n",
    "    for x in range(w):\n",
    "        for y in range(h):\n",
    "            rooms[py+y][px+x] = att['key'].value\n",
    "            \n",
    "plt.imshow(rooms)"
   ]
  },
  {
   "cell_type": "code",
   "execution_count": null,
   "id": "2a3230b1",
   "metadata": {},
   "outputs": [],
   "source": []
  }
 ],
 "metadata": {
  "kernelspec": {
   "display_name": "RL",
   "language": "python",
   "name": "rl"
  },
  "language_info": {
   "codemirror_mode": {
    "name": "ipython",
    "version": 3
   },
   "file_extension": ".py",
   "mimetype": "text/x-python",
   "name": "python",
   "nbconvert_exporter": "python",
   "pygments_lexer": "ipython3",
   "version": "3.7.10"
  }
 },
 "nbformat": 4,
 "nbformat_minor": 5
}
