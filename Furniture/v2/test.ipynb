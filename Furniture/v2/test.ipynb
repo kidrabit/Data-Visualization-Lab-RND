{
 "cells": [
  {
   "cell_type": "code",
   "execution_count": 10,
   "id": "c2d0f073",
   "metadata": {},
   "outputs": [],
   "source": [
    "import numpy as np"
   ]
  },
  {
   "cell_type": "code",
   "execution_count": 17,
   "id": "53584313",
   "metadata": {},
   "outputs": [
    {
     "data": {
      "text/plain": [
       "((10, 20, 20), (10, 20, 20))"
      ]
     },
     "execution_count": 17,
     "metadata": {},
     "output_type": "execute_result"
    }
   ],
   "source": [
    "datas = np.load('data/data.npy')\n",
    "targets = np.load('data/target.npy')\n",
    "datas.shape, targets.shape"
   ]
  },
  {
   "cell_type": "code",
   "execution_count": 15,
   "id": "cee23838",
   "metadata": {},
   "outputs": [
    {
     "data": {
      "text/plain": [
       "(20, 20)"
      ]
     },
     "execution_count": 15,
     "metadata": {},
     "output_type": "execute_result"
    }
   ],
   "source": [
    "state = np.zeros((20,20))\n",
    "state.shape"
   ]
  },
  {
   "cell_type": "code",
   "execution_count": 16,
   "id": "00b3c5ab",
   "metadata": {},
   "outputs": [],
   "source": [
    "d = data[0]"
   ]
  },
  {
   "cell_type": "code",
   "execution_count": 59,
   "id": "d9991caf",
   "metadata": {},
   "outputs": [],
   "source": [
    "def get_furniture_list(data):\n",
    "    furnitures = {}\n",
    "    for i in range(1, 17):\n",
    "        furnitures[i] = [[]]\n",
    "        for j in range(20):\n",
    "            for k in range(20):\n",
    "                if data[j][k] == i:\n",
    "                    furnitures[i][j].append(data[j][k])\n",
    "            furnitures[i].append([])\n",
    "\n",
    "    for i in range(1, 17):\n",
    "        for j in range(20, -1, -1):\n",
    "            if len(furnitures[i][j]) == 0:\n",
    "                del(furnitures[i][j])\n",
    "            \n",
    "    for i in range(16, 0, -1):\n",
    "        if len(furnitures[i]) == 0:\n",
    "            del(furnitures[i])\n",
    "    \n",
    "    for key in furnitures.keys():\n",
    "        furnitures[key] = np.array(furnitures[key])\n",
    "    \n",
    "    return furnitures"
   ]
  },
  {
   "cell_type": "code",
   "execution_count": 63,
   "id": "2d4dd59d",
   "metadata": {},
   "outputs": [],
   "source": [
    "furniture = get_furniture_list(d)"
   ]
  },
  {
   "cell_type": "code",
   "execution_count": 64,
   "id": "948c44d3",
   "metadata": {},
   "outputs": [
    {
     "data": {
      "text/plain": [
       "array([[1, 1, 1, 1, 1, 1, 1],\n",
       "       [1, 1, 1, 1, 1, 1, 1],\n",
       "       [1, 1, 1, 1, 1, 1, 1],\n",
       "       [1, 1, 1, 1, 1, 1, 1],\n",
       "       [1, 1, 1, 1, 1, 1, 1],\n",
       "       [1, 1, 1, 1, 1, 1, 1],\n",
       "       [1, 1, 1, 1, 1, 1, 1]])"
      ]
     },
     "execution_count": 64,
     "metadata": {},
     "output_type": "execute_result"
    }
   ],
   "source": [
    "f = furniture[1]\n",
    "f"
   ]
  },
  {
   "cell_type": "code",
   "execution_count": 72,
   "id": "3c2ac53b",
   "metadata": {},
   "outputs": [
    {
     "data": {
      "text/plain": [
       "array([[7, 7, 7, 7, 7, 7, 7],\n",
       "       [7, 7, 7, 7, 7, 7, 7]])"
      ]
     },
     "execution_count": 72,
     "metadata": {},
     "output_type": "execute_result"
    }
   ],
   "source": [
    "furniture[7]"
   ]
  },
  {
   "cell_type": "code",
   "execution_count": 67,
   "id": "aa07bc82",
   "metadata": {},
   "outputs": [
    {
     "name": "stdout",
     "output_type": "stream",
     "text": [
      "(7, 7)\n",
      "(2, 2)\n",
      "(2, 7)\n",
      "(2, 9)\n"
     ]
    }
   ],
   "source": [
    "for f in furniture.values():\n",
    "    print(f.shape)"
   ]
  },
  {
   "cell_type": "code",
   "execution_count": 131,
   "id": "82734e48",
   "metadata": {},
   "outputs": [],
   "source": [
    "import copy\n",
    "\n",
    "def get_mask(state, f):\n",
    "    mask = np.ones((20,20))\n",
    "    shape = f.shape\n",
    "    \n",
    "    zero_list = []\n",
    "    for i in range(20):\n",
    "        for j in range(20):\n",
    "            if state[i][j] != 0:\n",
    "                mask[i][j] = 0\n",
    "            else:\n",
    "                zero_list.append((i,j))\n",
    "    \n",
    "    temp_zero_list = copy.deepcopy(zero_list)\n",
    "    for zero in zero_list:\n",
    "        z_y, z_x = zero\n",
    "        if z_y + shape[0] > 20 or z_x + shape[1] > 20:\n",
    "            mask[z_y][z_x] = 0\n",
    "            temp_zero_list.remove(zero)\n",
    "            \n",
    "    zero_list = copy.deepcopy(temp_zero_list)\n",
    "    \n",
    "    for zero in zero_list:\n",
    "        z_y, z_x = zero\n",
    "        \n",
    "        for i in range(z_y, z_y + shape[0]):\n",
    "            flag = False\n",
    "            for j in range(z_x, z_x + shape[1]):\n",
    "                if state[i][j] != 0:\n",
    "                    mask[z_y][z_x] = 0\n",
    "                    flag = True\n",
    "                    break              \n",
    "            if flag:\n",
    "                break\n",
    "            \n",
    "    return mask"
   ]
  },
  {
   "cell_type": "code",
   "execution_count": 145,
   "id": "fc91bd05",
   "metadata": {},
   "outputs": [],
   "source": [
    "def print_numpy(arr):\n",
    "    for i in range(20):\n",
    "        for j in range(20):\n",
    "            print('{:2d}'.format(int(arr[i][j])), end = ' ')\n",
    "        print('')"
   ]
  },
  {
   "cell_type": "code",
   "execution_count": 82,
   "id": "1db646ec",
   "metadata": {},
   "outputs": [
    {
     "data": {
      "text/plain": [
       "array([[1, 1, 1, 1, 1, 1, 1],\n",
       "       [1, 1, 1, 1, 1, 1, 1],\n",
       "       [1, 1, 1, 1, 1, 1, 1],\n",
       "       [1, 1, 1, 1, 1, 1, 1],\n",
       "       [1, 1, 1, 1, 1, 1, 1],\n",
       "       [1, 1, 1, 1, 1, 1, 1],\n",
       "       [1, 1, 1, 1, 1, 1, 1]])"
      ]
     },
     "execution_count": 82,
     "metadata": {},
     "output_type": "execute_result"
    }
   ],
   "source": [
    "furniture[1]"
   ]
  },
  {
   "cell_type": "code",
   "execution_count": 85,
   "id": "af0f8338",
   "metadata": {},
   "outputs": [],
   "source": [
    "mask = get_mask(state, furniture[1])"
   ]
  },
  {
   "cell_type": "code",
   "execution_count": 84,
   "id": "9bf12149",
   "metadata": {},
   "outputs": [],
   "source": [
    "def get_action_space(mask):\n",
    "    action_space = []\n",
    "    for i in range(20):\n",
    "        for j in range(20):\n",
    "            if mask[i][j] == 1:\n",
    "                action_space.append((i,j))\n",
    "                \n",
    "    return action_space"
   ]
  },
  {
   "cell_type": "code",
   "execution_count": 86,
   "id": "703e5051",
   "metadata": {},
   "outputs": [],
   "source": [
    "action_space = get_action_space(mask)"
   ]
  },
  {
   "cell_type": "code",
   "execution_count": 90,
   "id": "fba434c7",
   "metadata": {},
   "outputs": [
    {
     "data": {
      "text/plain": [
       "(10, 6)"
      ]
     },
     "execution_count": 90,
     "metadata": {},
     "output_type": "execute_result"
    }
   ],
   "source": [
    "import random\n",
    "\n",
    "action = random.sample(action_space, 1)[0]\n",
    "action"
   ]
  },
  {
   "cell_type": "code",
   "execution_count": 91,
   "id": "2bfd420f",
   "metadata": {},
   "outputs": [],
   "source": [
    "def batch_object(state, furniture, action):\n",
    "    f = furniture[0][0]\n",
    "    shape = furniture.shape\n",
    "    \n",
    "    for i in range(action[0], action[0] + shape[0]):\n",
    "        for j in range(action[1], action[1] + shape[1]):\n",
    "            state[i][j] = f"
   ]
  },
  {
   "cell_type": "code",
   "execution_count": 93,
   "id": "0cfaa0ae",
   "metadata": {},
   "outputs": [
    {
     "name": "stdout",
     "output_type": "stream",
     "text": [
      "0 0 0 0 0 0 0 0 0 0 0 0 0 0 0 0 0 0 0 0 \n",
      "0 0 0 0 0 0 0 0 0 0 0 0 0 0 0 0 0 0 0 0 \n",
      "0 0 0 0 0 0 0 0 0 0 0 0 0 0 0 0 0 0 0 0 \n",
      "0 0 0 0 0 0 0 0 0 0 0 0 0 0 0 0 0 0 0 0 \n",
      "0 0 0 0 0 0 0 0 0 0 0 0 0 0 0 0 0 0 0 0 \n",
      "0 0 0 0 0 0 0 0 0 0 0 0 0 0 0 0 0 0 0 0 \n",
      "0 0 0 0 0 0 0 0 0 0 0 0 0 0 0 0 0 0 0 0 \n",
      "0 0 0 0 0 0 0 0 0 0 0 0 0 0 0 0 0 0 0 0 \n",
      "0 0 0 0 0 0 0 0 0 0 0 0 0 0 0 0 0 0 0 0 \n",
      "0 0 0 0 0 0 0 0 0 0 0 0 0 0 0 0 0 0 0 0 \n",
      "0 0 0 0 0 0 1 1 1 1 1 1 1 0 0 0 0 0 0 0 \n",
      "0 0 0 0 0 0 1 1 1 1 1 1 1 0 0 0 0 0 0 0 \n",
      "0 0 0 0 0 0 1 1 1 1 1 1 1 0 0 0 0 0 0 0 \n",
      "0 0 0 0 0 0 1 1 1 1 1 1 1 0 0 0 0 0 0 0 \n",
      "0 0 0 0 0 0 1 1 1 1 1 1 1 0 0 0 0 0 0 0 \n",
      "0 0 0 0 0 0 1 1 1 1 1 1 1 0 0 0 0 0 0 0 \n",
      "0 0 0 0 0 0 1 1 1 1 1 1 1 0 0 0 0 0 0 0 \n",
      "0 0 0 0 0 0 0 0 0 0 0 0 0 0 0 0 0 0 0 0 \n",
      "0 0 0 0 0 0 0 0 0 0 0 0 0 0 0 0 0 0 0 0 \n",
      "0 0 0 0 0 0 0 0 0 0 0 0 0 0 0 0 0 0 0 0 \n"
     ]
    }
   ],
   "source": [
    "batch_object(state, furniture[1], action)\n",
    "print_numpy(state)"
   ]
  },
  {
   "cell_type": "code",
   "execution_count": 106,
   "id": "d5bdff01",
   "metadata": {},
   "outputs": [
    {
     "data": {
      "text/plain": [
       "array([[6, 6],\n",
       "       [6, 6]])"
      ]
     },
     "execution_count": 106,
     "metadata": {},
     "output_type": "execute_result"
    }
   ],
   "source": [
    "furniture[6]"
   ]
  },
  {
   "cell_type": "code",
   "execution_count": 132,
   "id": "8466f971",
   "metadata": {},
   "outputs": [],
   "source": [
    "mask = get_mask(state, furniture[6])"
   ]
  },
  {
   "cell_type": "code",
   "execution_count": 133,
   "id": "6ecf4108",
   "metadata": {},
   "outputs": [
    {
     "name": "stdout",
     "output_type": "stream",
     "text": [
      "1 1 1 1 1 1 1 1 1 1 1 1 1 1 1 1 1 1 1 0 \n",
      "1 1 1 1 1 1 1 1 1 1 1 1 1 1 1 1 1 1 1 0 \n",
      "1 1 1 1 1 1 1 1 1 1 1 1 1 1 1 1 1 1 1 0 \n",
      "1 1 1 1 1 1 1 1 1 1 1 1 1 1 1 1 1 1 1 0 \n",
      "1 1 1 1 1 1 1 1 1 1 1 1 1 1 1 1 1 1 1 0 \n",
      "1 1 1 1 1 1 1 1 1 1 1 1 1 1 1 1 1 1 1 0 \n",
      "1 1 1 1 1 1 1 1 1 1 1 1 1 1 1 1 1 1 1 0 \n",
      "1 1 1 1 1 1 1 1 1 1 1 1 1 1 1 1 1 1 1 0 \n",
      "1 1 1 1 1 1 1 1 1 1 1 1 1 1 1 1 1 1 1 0 \n",
      "1 1 1 1 1 0 0 0 0 0 0 0 0 1 1 1 1 1 1 0 \n",
      "1 1 1 1 1 0 0 0 0 0 0 0 0 1 1 1 1 1 1 0 \n",
      "1 1 1 1 1 0 0 0 0 0 0 0 0 1 1 1 1 1 1 0 \n",
      "1 1 1 1 1 0 0 0 0 0 0 0 0 1 1 1 1 1 1 0 \n",
      "1 1 1 1 1 0 0 0 0 0 0 0 0 1 1 1 1 1 1 0 \n",
      "1 1 1 1 1 0 0 0 0 0 0 0 0 1 1 1 1 1 1 0 \n",
      "1 1 1 1 1 0 0 0 0 0 0 0 0 1 1 1 1 1 1 0 \n",
      "1 1 1 1 1 0 0 0 0 0 0 0 0 1 1 1 1 1 1 0 \n",
      "1 1 1 1 1 1 1 1 1 1 1 1 1 1 1 1 1 1 1 0 \n",
      "1 1 1 1 1 1 1 1 1 1 1 1 1 1 1 1 1 1 1 0 \n",
      "0 0 0 0 0 0 0 0 0 0 0 0 0 0 0 0 0 0 0 0 \n"
     ]
    }
   ],
   "source": [
    "print_numpy(mask)"
   ]
  },
  {
   "cell_type": "code",
   "execution_count": 135,
   "id": "4613463b",
   "metadata": {},
   "outputs": [
    {
     "data": {
      "text/plain": [
       "(3, 7)"
      ]
     },
     "execution_count": 135,
     "metadata": {},
     "output_type": "execute_result"
    }
   ],
   "source": [
    "action_space = get_action_space(mask)\n",
    "action = random.sample(action_space, 1)[0]\n",
    "action"
   ]
  },
  {
   "cell_type": "code",
   "execution_count": 136,
   "id": "bbb8b28c",
   "metadata": {},
   "outputs": [
    {
     "name": "stdout",
     "output_type": "stream",
     "text": [
      "0 0 0 0 0 0 0 0 0 0 0 0 0 0 0 0 0 0 0 0 \n",
      "0 0 0 0 0 0 0 0 0 0 0 0 0 0 0 0 0 0 0 0 \n",
      "0 0 0 0 0 0 0 0 0 0 0 0 0 0 0 0 0 0 0 0 \n",
      "0 0 0 0 0 0 0 6 6 0 0 0 0 0 0 0 0 0 0 0 \n",
      "0 0 0 0 0 0 0 6 6 0 0 0 0 0 0 0 0 0 0 0 \n",
      "0 0 0 0 0 0 0 0 0 0 0 0 0 0 0 0 0 0 0 0 \n",
      "0 0 0 0 0 0 0 0 0 0 0 0 0 0 0 0 0 0 0 0 \n",
      "0 0 0 0 0 0 0 0 0 0 0 0 0 0 0 0 0 0 0 0 \n",
      "0 0 0 0 0 0 0 0 0 0 0 0 0 0 0 0 0 0 0 0 \n",
      "0 0 0 0 0 0 0 0 0 0 0 0 0 0 0 0 0 0 0 0 \n",
      "0 0 0 0 0 0 1 1 1 1 1 1 1 0 0 0 0 0 0 0 \n",
      "0 0 0 0 0 0 1 1 1 1 1 1 1 0 0 0 0 0 0 0 \n",
      "0 0 0 0 0 0 1 1 1 1 1 1 1 0 0 0 0 0 0 0 \n",
      "0 0 0 0 0 0 1 1 1 1 1 1 1 0 0 0 0 0 0 0 \n",
      "0 0 0 0 0 0 1 1 1 1 1 1 1 0 0 0 0 0 0 0 \n",
      "0 0 0 0 0 0 1 1 1 1 1 1 1 0 0 0 0 0 0 0 \n",
      "0 0 0 0 0 0 1 1 1 1 1 1 1 0 0 0 0 0 0 0 \n",
      "0 0 0 0 0 0 0 0 0 0 0 0 0 0 0 0 0 0 0 0 \n",
      "0 0 0 0 0 0 0 0 0 0 0 0 0 0 0 0 0 0 0 0 \n",
      "0 0 0 0 0 0 0 0 0 0 0 0 0 0 0 0 0 0 0 0 \n"
     ]
    }
   ],
   "source": [
    "batch_object(state, furniture[6], action)\n",
    "print_numpy(state)"
   ]
  },
  {
   "cell_type": "code",
   "execution_count": 141,
   "id": "1c0cced0",
   "metadata": {},
   "outputs": [
    {
     "data": {
      "text/plain": [
       "(17, 4)"
      ]
     },
     "execution_count": 141,
     "metadata": {},
     "output_type": "execute_result"
    }
   ],
   "source": [
    "mask = get_mask(state, furniture[7])\n",
    "action_space = get_action_space(mask)\n",
    "action = random.sample(action_space, 1)[0]\n",
    "action"
   ]
  },
  {
   "cell_type": "code",
   "execution_count": 142,
   "id": "c5a0d4d0",
   "metadata": {},
   "outputs": [
    {
     "name": "stdout",
     "output_type": "stream",
     "text": [
      "0 0 0 0 0 0 0 0 0 0 0 0 0 0 0 0 0 0 0 0 \n",
      "0 0 0 0 0 0 0 0 0 0 0 0 0 0 0 0 0 0 0 0 \n",
      "0 0 0 0 0 0 0 0 0 0 0 0 0 0 0 0 0 0 0 0 \n",
      "0 0 0 0 0 0 0 6 6 0 0 0 0 0 0 0 0 0 0 0 \n",
      "0 0 0 0 0 0 0 6 6 0 0 0 0 0 0 0 0 0 0 0 \n",
      "0 0 0 0 0 0 0 0 0 0 0 0 0 0 0 0 0 0 0 0 \n",
      "0 0 0 0 0 0 0 0 0 0 0 0 0 0 0 0 0 0 0 0 \n",
      "0 0 0 0 0 0 0 0 0 0 0 0 0 0 0 0 0 0 0 0 \n",
      "0 0 0 0 0 0 0 0 0 0 0 0 0 0 0 0 0 0 0 0 \n",
      "0 0 0 0 0 0 0 0 0 0 0 0 0 0 0 0 0 0 0 0 \n",
      "0 0 0 0 0 0 1 1 1 1 1 1 1 0 0 0 0 0 0 0 \n",
      "0 0 0 0 0 0 1 1 1 1 1 1 1 0 0 0 0 0 0 0 \n",
      "0 0 0 0 0 0 1 1 1 1 1 1 1 0 0 0 0 0 0 0 \n",
      "0 0 0 0 0 0 1 1 1 1 1 1 1 0 0 0 0 0 0 0 \n",
      "0 0 0 0 0 0 1 1 1 1 1 1 1 0 0 0 0 0 0 0 \n",
      "0 0 0 0 0 0 1 1 1 1 1 1 1 0 0 0 0 0 0 0 \n",
      "0 0 0 0 0 0 1 1 1 1 1 1 1 0 0 0 0 0 0 0 \n",
      "0 0 0 0 7 7 7 7 7 7 7 0 0 0 0 0 0 0 0 0 \n",
      "0 0 0 0 7 7 7 7 7 7 7 0 0 0 0 0 0 0 0 0 \n",
      "0 0 0 0 0 0 0 0 0 0 0 0 0 0 0 0 0 0 0 0 \n"
     ]
    }
   ],
   "source": [
    "batch_object(state, furniture[7], action)\n",
    "print_numpy(state)"
   ]
  },
  {
   "cell_type": "code",
   "execution_count": 143,
   "id": "207a3e23",
   "metadata": {},
   "outputs": [
    {
     "data": {
      "text/plain": [
       "(0, 11)"
      ]
     },
     "execution_count": 143,
     "metadata": {},
     "output_type": "execute_result"
    }
   ],
   "source": [
    "mask = get_mask(state, furniture[11])\n",
    "action_space = get_action_space(mask)\n",
    "action = random.sample(action_space, 1)[0]\n",
    "action"
   ]
  },
  {
   "cell_type": "code",
   "execution_count": 146,
   "id": "839c1292",
   "metadata": {},
   "outputs": [
    {
     "name": "stdout",
     "output_type": "stream",
     "text": [
      " 0  0  0  0  0  0  0  0  0  0  0 11 11 11 11 11 11 11 11 11 \n",
      " 0  0  0  0  0  0  0  0  0  0  0 11 11 11 11 11 11 11 11 11 \n",
      " 0  0  0  0  0  0  0  0  0  0  0  0  0  0  0  0  0  0  0  0 \n",
      " 0  0  0  0  0  0  0  6  6  0  0  0  0  0  0  0  0  0  0  0 \n",
      " 0  0  0  0  0  0  0  6  6  0  0  0  0  0  0  0  0  0  0  0 \n",
      " 0  0  0  0  0  0  0  0  0  0  0  0  0  0  0  0  0  0  0  0 \n",
      " 0  0  0  0  0  0  0  0  0  0  0  0  0  0  0  0  0  0  0  0 \n",
      " 0  0  0  0  0  0  0  0  0  0  0  0  0  0  0  0  0  0  0  0 \n",
      " 0  0  0  0  0  0  0  0  0  0  0  0  0  0  0  0  0  0  0  0 \n",
      " 0  0  0  0  0  0  0  0  0  0  0  0  0  0  0  0  0  0  0  0 \n",
      " 0  0  0  0  0  0  1  1  1  1  1  1  1  0  0  0  0  0  0  0 \n",
      " 0  0  0  0  0  0  1  1  1  1  1  1  1  0  0  0  0  0  0  0 \n",
      " 0  0  0  0  0  0  1  1  1  1  1  1  1  0  0  0  0  0  0  0 \n",
      " 0  0  0  0  0  0  1  1  1  1  1  1  1  0  0  0  0  0  0  0 \n",
      " 0  0  0  0  0  0  1  1  1  1  1  1  1  0  0  0  0  0  0  0 \n",
      " 0  0  0  0  0  0  1  1  1  1  1  1  1  0  0  0  0  0  0  0 \n",
      " 0  0  0  0  0  0  1  1  1  1  1  1  1  0  0  0  0  0  0  0 \n",
      " 0  0  0  0  7  7  7  7  7  7  7  0  0  0  0  0  0  0  0  0 \n",
      " 0  0  0  0  7  7  7  7  7  7  7  0  0  0  0  0  0  0  0  0 \n",
      " 0  0  0  0  0  0  0  0  0  0  0  0  0  0  0  0  0  0  0  0 \n"
     ]
    }
   ],
   "source": [
    "batch_object(state, furniture[11], action)\n",
    "print_numpy(state)"
   ]
  },
  {
   "cell_type": "code",
   "execution_count": 149,
   "id": "ae771008",
   "metadata": {},
   "outputs": [
    {
     "name": "stdout",
     "output_type": "stream",
     "text": [
      " 1  1  1  1  1  1  1  0  0  0  0  0  0  0  0  0  0  0  0  0 \n",
      " 1  1  1  1  1  1  1  0  0  0  0  0  0  0  0  0  0  0  0  0 \n",
      " 1  1  1  1  1  1  1  0  0  0  0  0  0  0  0  0  0  0  0  0 \n",
      " 1  1  1  1  1  1  1  0  0  0  0  0  0  0  0  0  0  0  0  0 \n",
      " 1  1  1  1  1  1  1  0  0  0  0  0  0  0  0  0  0  0  0  0 \n",
      " 1  1  1  1  1  1  1  0  0  0  0  0  0  0  0  0  0  0  0  0 \n",
      " 1  1  1  1  1  1  1  0  0  0  0  0  0  0  0  0  0  0  0  0 \n",
      " 0  0  0  0  0  0  0  0  0  0  0  0  0  0  0  0  0  0  0  0 \n",
      " 0  0  0  0  0  0  0  0  0  0  0  0  0  0  0  0  0  0  0  0 \n",
      " 0  0  0  0  0  0  0  0  0  0  0  0  0  0  0  0  0  0  0  0 \n",
      " 0  0  0  0  0  0  0  0  0  0  0  0  0  0  0  0  0  0  0  0 \n",
      " 0  0  0  0  0  0  0  0  0  0  0  0  0  0  0  0  0  0  0  0 \n",
      " 0  0  0  0  0  0  0  0  0  0  0  0  0  0  0  0  0  0  0  0 \n",
      " 0  0  0  0  0  0  0  0  0  0  0  0  0  0  0  0  0  0  0  0 \n",
      " 0  0  0  0  0  0  0  0  0  0  0  0  0  0  0  0  0  0  0  0 \n",
      " 0  0  0  0  0  0  0  0  0  0  0  0  0  0  0  0  0  0  0  0 \n",
      " 0  0  0  0  0  0  0  0  0  0  0  0  0  0  0  0  0  0  0  0 \n",
      " 0  0  0  0  0  0  0  0  0  0  0  0  0  0  0  0  0  0  0  0 \n",
      "11 11 11 11 11 11 11 11 11  7  7  7  7  7  7  7  6  6  0  0 \n",
      "11 11 11 11 11 11 11 11 11  7  7  7  7  7  7  7  6  6  0  0 \n"
     ]
    }
   ],
   "source": [
    "print_numpy(targets[0])"
   ]
  },
  {
   "cell_type": "code",
   "execution_count": 152,
   "id": "8cd1e6d9",
   "metadata": {},
   "outputs": [],
   "source": [
    "d_pos_list = []\n",
    "t_pos_list = []\n",
    "\n",
    "for key, f in furniture.items():\n",
    "    d_pos = (-1,-1)\n",
    "    t_pos = (-1,-1)\n",
    "    \n",
    "    for i in range(20):\n",
    "        flag = False\n",
    "        for j in range(20):\n",
    "            if state[i][j] == key:\n",
    "                d_pos = (i,j)\n",
    "                flag = True\n",
    "                break\n",
    "        if flag:\n",
    "            break\n",
    "            \n",
    "    for i in range(20):\n",
    "        flag = False\n",
    "        for j in range(20):\n",
    "            if targets[0][i][j] == key:\n",
    "                t_pos = (i,j)\n",
    "                flag = True\n",
    "                break\n",
    "        if flag:\n",
    "            break\n",
    "            \n",
    "    d_pos_list.append(d_pos)\n",
    "    t_pos_list.append(t_pos)"
   ]
  },
  {
   "cell_type": "code",
   "execution_count": 153,
   "id": "c4c28917",
   "metadata": {},
   "outputs": [
    {
     "data": {
      "text/plain": [
       "[(10, 6), (3, 7), (17, 4), (0, 11)]"
      ]
     },
     "execution_count": 153,
     "metadata": {},
     "output_type": "execute_result"
    }
   ],
   "source": [
    "d_pos_list"
   ]
  },
  {
   "cell_type": "code",
   "execution_count": 154,
   "id": "060c0649",
   "metadata": {},
   "outputs": [
    {
     "data": {
      "text/plain": [
       "[(0, 0), (18, 16), (18, 9), (18, 0)]"
      ]
     },
     "execution_count": 154,
     "metadata": {},
     "output_type": "execute_result"
    }
   ],
   "source": [
    "t_pos_list"
   ]
  },
  {
   "cell_type": "code",
   "execution_count": 162,
   "id": "cbc912a0",
   "metadata": {},
   "outputs": [],
   "source": [
    "import math\n",
    "\n",
    "def distance(p1, p2):\n",
    "    return math.sqrt((p1[0]-p2[0])**2 + (p1[1]-p2[1])**2)"
   ]
  },
  {
   "cell_type": "code",
   "execution_count": 166,
   "id": "e16c62a2",
   "metadata": {},
   "outputs": [],
   "source": [
    "def calculate_reward(d_pos_list, t_pos_list):\n",
    "    reward = 0\n",
    "    \n",
    "    for d, t in zip(d_pos_list, t_pos_list):\n",
    "        reward += distance(d, t)\n",
    "        \n",
    "    return -reward"
   ]
  },
  {
   "cell_type": "code",
   "execution_count": 167,
   "id": "e6f51456",
   "metadata": {},
   "outputs": [
    {
     "data": {
      "text/plain": [
       "-55.34880209754827"
      ]
     },
     "execution_count": 167,
     "metadata": {},
     "output_type": "execute_result"
    }
   ],
   "source": [
    "calculate_reward(d_pos_list, t_pos_list)"
   ]
  },
  {
   "cell_type": "code",
   "execution_count": null,
   "id": "380cf9fb",
   "metadata": {},
   "outputs": [],
   "source": []
  }
 ],
 "metadata": {
  "kernelspec": {
   "display_name": "test",
   "language": "python",
   "name": "test"
  },
  "language_info": {
   "codemirror_mode": {
    "name": "ipython",
    "version": 3
   },
   "file_extension": ".py",
   "mimetype": "text/x-python",
   "name": "python",
   "nbconvert_exporter": "python",
   "pygments_lexer": "ipython3",
   "version": "3.8.12"
  }
 },
 "nbformat": 4,
 "nbformat_minor": 5
}
