{
 "cells": [
  {
   "cell_type": "code",
   "execution_count": 1,
   "id": "ce105b55",
   "metadata": {},
   "outputs": [],
   "source": [
    "import copy\n",
    "import math\n",
    "import random\n",
    "import numpy as np"
   ]
  },
  {
   "cell_type": "code",
   "execution_count": 2,
   "id": "ac9b3e22",
   "metadata": {},
   "outputs": [
    {
     "data": {
      "text/plain": [
       "((10, 20, 20), (10, 20, 20))"
      ]
     },
     "execution_count": 2,
     "metadata": {},
     "output_type": "execute_result"
    }
   ],
   "source": [
    "datas = np.load('data/data.npy')\n",
    "targets = np.load('data/target.npy')\n",
    "datas.shape, targets.shape"
   ]
  },
  {
   "cell_type": "code",
   "execution_count": null,
   "id": "9ecd4f0f",
   "metadata": {},
   "outputs": [],
   "source": [
    "from collections import deque\n",
    "memory = deque(maxlen=1000)\n",
    "\n",
    "def append_sample(state, mask, target, reward):\n",
    "    memory.append((state, mask, target, reward))"
   ]
  },
  {
   "cell_type": "code",
   "execution_count": null,
   "id": "958f9dcf",
   "metadata": {},
   "outputs": [],
   "source": [
    "def get_furniture_list(data):\n",
    "    furnitures = {}\n",
    "    for i in range(1, 17):\n",
    "        furnitures[i] = [[]]\n",
    "        for j in range(20):\n",
    "            for k in range(20):\n",
    "                if data[j][k] == i:\n",
    "                    furnitures[i][j].append(data[j][k])\n",
    "            furnitures[i].append([])\n",
    "\n",
    "    for i in range(1, 17):\n",
    "        for j in range(20, -1, -1):\n",
    "            if len(furnitures[i][j]) == 0:\n",
    "                del(furnitures[i][j])\n",
    "            \n",
    "    for i in range(16, 0, -1):\n",
    "        if len(furnitures[i]) == 0:\n",
    "            del(furnitures[i])\n",
    "    \n",
    "    for key in furnitures.keys():\n",
    "        furnitures[key] = np.array(furnitures[key])\n",
    "    \n",
    "    return furnitures"
   ]
  }
 ],
 "metadata": {
  "kernelspec": {
   "display_name": "test",
   "language": "python",
   "name": "test"
  },
  "language_info": {
   "codemirror_mode": {
    "name": "ipython",
    "version": 3
   },
   "file_extension": ".py",
   "mimetype": "text/x-python",
   "name": "python",
   "nbconvert_exporter": "python",
   "pygments_lexer": "ipython3",
   "version": "3.8.12"
  }
 },
 "nbformat": 4,
 "nbformat_minor": 5
}
