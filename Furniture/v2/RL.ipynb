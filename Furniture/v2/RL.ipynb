{
 "cells": [
  {
   "cell_type": "code",
   "execution_count": 1,
   "id": "ce105b55",
   "metadata": {},
   "outputs": [],
   "source": [
    "import copy\n",
    "import math\n",
    "import random\n",
    "import numpy as np"
   ]
  },
  {
   "cell_type": "code",
   "execution_count": 2,
   "id": "ac9b3e22",
   "metadata": {},
   "outputs": [
    {
     "data": {
      "text/plain": [
       "((10, 20, 20), (10, 20, 20))"
      ]
     },
     "execution_count": 2,
     "metadata": {},
     "output_type": "execute_result"
    }
   ],
   "source": [
    "datas = np.load('data/data.npy')\n",
    "targets = np.load('data/target.npy')\n",
    "datas.shape, targets.shape"
   ]
  },
  {
   "cell_type": "code",
   "execution_count": null,
   "id": "aaf9b81e",
   "metadata": {},
   "outputs": [],
   "source": [
    "from collections import deque\n",
    "memory = deque(maxlen=1000)\n",
    "\n",
    "def append_sample(state, mask, target, reward):\n",
    "    memory.append((state, mask, target, reward))"
   ]
  },
  {
   "cell_type": "code",
   "execution_count": null,
   "id": "b38e17d0",
   "metadata": {},
   "outputs": [],
   "source": [
    "def get_furniture_list(data):\n",
    "    furnitures = {}\n",
    "    for i in range(1, 17):\n",
    "        furnitures[i] = [[]]\n",
    "        for j in range(20):\n",
    "            for k in range(20):\n",
    "                if data[j][k] == i:\n",
    "                    furnitures[i][j].append(data[j][k])\n",
    "            furnitures[i].append([])\n",
    "\n",
    "    for i in range(1, 17):\n",
    "        for j in range(20, -1, -1):\n",
    "            if len(furnitures[i][j]) == 0:\n",
    "                del(furnitures[i][j])\n",
    "            \n",
    "    for i in range(16, 0, -1):\n",
    "        if len(furnitures[i]) == 0:\n",
    "            del(furnitures[i])\n",
    "    \n",
    "    for key in furnitures.keys():\n",
    "        furnitures[key] = np.array(furnitures[key])\n",
    "    \n",
    "    return furnitures"
   ]
  },
  {
   "cell_type": "code",
   "execution_count": null,
   "id": "1fe23bc4",
   "metadata": {},
   "outputs": [],
   "source": [
    "def get_mask(state, f):\n",
    "    mask = np.ones((20,20))\n",
    "    shape = f.shape\n",
    "    \n",
    "    zero_list = []\n",
    "    for i in range(20):\n",
    "        for j in range(20):\n",
    "            if state[i][j] != 0:\n",
    "                mask[i][j] = 0\n",
    "            else:\n",
    "                zero_list.append((i,j))\n",
    "    \n",
    "    temp_zero_list = copy.deepcopy(zero_list)\n",
    "    for zero in zero_list:\n",
    "        z_y, z_x = zero\n",
    "        if z_y + shape[0] > 20 or z_x + shape[1] > 20:\n",
    "            mask[z_y][z_x] = 0\n",
    "            temp_zero_list.remove(zero)\n",
    "            \n",
    "    zero_list = copy.deepcopy(temp_zero_list)\n",
    "    \n",
    "    for zero in zero_list:\n",
    "        z_y, z_x = zero\n",
    "        \n",
    "        for i in range(z_y, z_y + shape[0]):\n",
    "            flag = False\n",
    "            for j in range(z_x, z_x + shape[1]):\n",
    "                if state[i][j] != 0:\n",
    "                    mask[z_y][z_x] = 0\n",
    "                    flag = True\n",
    "                    break              \n",
    "            if flag:\n",
    "                break\n",
    "            \n",
    "    return mask"
   ]
  },
  {
   "cell_type": "code",
   "execution_count": null,
   "id": "d582790c",
   "metadata": {},
   "outputs": [],
   "source": [
    "def get_action_space(mask):\n",
    "    action_space = []\n",
    "    for i in range(20):\n",
    "        for j in range(20):\n",
    "            if mask[i][j] == 1:\n",
    "                action_space.append((i,j))\n",
    "                \n",
    "    return action_space"
   ]
  }
 ],
 "metadata": {
  "kernelspec": {
   "display_name": "test",
   "language": "python",
   "name": "test"
  },
  "language_info": {
   "codemirror_mode": {
    "name": "ipython",
    "version": 3
   },
   "file_extension": ".py",
   "mimetype": "text/x-python",
   "name": "python",
   "nbconvert_exporter": "python",
   "pygments_lexer": "ipython3",
   "version": "3.8.12"
  }
 },
 "nbformat": 4,
 "nbformat_minor": 5
}
