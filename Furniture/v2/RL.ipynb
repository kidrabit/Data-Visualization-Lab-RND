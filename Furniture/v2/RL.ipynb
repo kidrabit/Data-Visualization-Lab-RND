{
 "cells": [
  {
   "cell_type": "code",
   "execution_count": 1,
   "id": "ce105b55",
   "metadata": {},
   "outputs": [],
   "source": [
    "import copy\n",
    "import math\n",
    "import random\n",
    "import numpy as np"
   ]
  },
  {
   "cell_type": "code",
   "execution_count": 2,
   "id": "ac9b3e22",
   "metadata": {},
   "outputs": [
    {
     "data": {
      "text/plain": [
       "((10, 20, 20), (10, 20, 20))"
      ]
     },
     "execution_count": 2,
     "metadata": {},
     "output_type": "execute_result"
    }
   ],
   "source": [
    "datas = np.load('data/data.npy')\n",
    "targets = np.load('data/target.npy')\n",
    "datas.shape, targets.shape"
   ]
  },
  {
   "cell_type": "code",
   "execution_count": 3,
   "id": "dee67c4e",
   "metadata": {},
   "outputs": [],
   "source": [
    "from collections import deque\n",
    "memory = deque(maxlen=1000)\n",
    "\n",
    "def append_sample(state, mask, target, reward):\n",
    "    memory.append((state, mask, target, reward))"
   ]
  },
  {
   "cell_type": "code",
   "execution_count": 4,
   "id": "4dee2ea9",
   "metadata": {},
   "outputs": [],
   "source": [
    "def get_furniture_list(data):\n",
    "    furnitures = {}\n",
    "    for i in range(1, 17):\n",
    "        furnitures[i] = [[]]\n",
    "        for j in range(20):\n",
    "            for k in range(20):\n",
    "                if data[j][k] == i:\n",
    "                    furnitures[i][j].append(data[j][k])\n",
    "            furnitures[i].append([])\n",
    "\n",
    "    for i in range(1, 17):\n",
    "        for j in range(20, -1, -1):\n",
    "            if len(furnitures[i][j]) == 0:\n",
    "                del(furnitures[i][j])\n",
    "            \n",
    "    for i in range(16, 0, -1):\n",
    "        if len(furnitures[i]) == 0:\n",
    "            del(furnitures[i])\n",
    "    \n",
    "    for key in furnitures.keys():\n",
    "        furnitures[key] = np.array(furnitures[key])\n",
    "    \n",
    "    return furnitures"
   ]
  },
  {
   "cell_type": "code",
   "execution_count": 5,
   "id": "74669dca",
   "metadata": {},
   "outputs": [],
   "source": [
    "def get_mask(state, f):\n",
    "    mask = np.ones((20,20))\n",
    "    shape = f.shape\n",
    "    \n",
    "    zero_list = []\n",
    "    for i in range(20):\n",
    "        for j in range(20):\n",
    "            if state[i][j] != 0:\n",
    "                mask[i][j] = 0\n",
    "            else:\n",
    "                zero_list.append((i,j))\n",
    "    \n",
    "    temp_zero_list = copy.deepcopy(zero_list)\n",
    "    for zero in zero_list:\n",
    "        z_y, z_x = zero\n",
    "        if z_y + shape[0] > 20 or z_x + shape[1] > 20:\n",
    "            mask[z_y][z_x] = 0\n",
    "            temp_zero_list.remove(zero)\n",
    "            \n",
    "    zero_list = copy.deepcopy(temp_zero_list)\n",
    "    \n",
    "    for zero in zero_list:\n",
    "        z_y, z_x = zero\n",
    "        \n",
    "        for i in range(z_y, z_y + shape[0]):\n",
    "            flag = False\n",
    "            for j in range(z_x, z_x + shape[1]):\n",
    "                if state[i][j] != 0:\n",
    "                    mask[z_y][z_x] = 0\n",
    "                    flag = True\n",
    "                    break              \n",
    "            if flag:\n",
    "                break\n",
    "            \n",
    "    return mask"
   ]
  },
  {
   "cell_type": "code",
   "execution_count": 6,
   "id": "b82be9c5",
   "metadata": {},
   "outputs": [],
   "source": [
    "def get_action_space(mask):\n",
    "    action_space = []\n",
    "    for i in range(20):\n",
    "        for j in range(20):\n",
    "            if mask[i][j] == 1:\n",
    "                action_space.append((i,j))\n",
    "                \n",
    "    return action_space"
   ]
  },
  {
   "cell_type": "code",
   "execution_count": 7,
   "id": "5d6fb4bf",
   "metadata": {},
   "outputs": [],
   "source": [
    "def batch_object(state, furniture, action):\n",
    "    f = furniture[0][0]\n",
    "    shape = furniture.shape\n",
    "    \n",
    "    for i in range(action[0], action[0] + shape[0]):\n",
    "        for j in range(action[1], action[1] + shape[1]):\n",
    "            state[i][j] = f"
   ]
  },
  {
   "cell_type": "code",
   "execution_count": 8,
   "id": "8002e087",
   "metadata": {},
   "outputs": [],
   "source": [
    "def distance(p1, p2):\n",
    "    return math.sqrt((p1[0]-p2[0])**2 + (p1[1]-p2[1])**2)"
   ]
  },
  {
   "cell_type": "code",
   "execution_count": 9,
   "id": "adf7a3c0",
   "metadata": {},
   "outputs": [],
   "source": [
    "def calculate_reward(d_pos_list, t_pos_list):\n",
    "    reward = 0\n",
    "    \n",
    "    for d, t in zip(d_pos_list, t_pos_list):\n",
    "        reward += distance(d, t)\n",
    "        \n",
    "    return -reward"
   ]
  },
  {
   "cell_type": "code",
   "execution_count": 10,
   "id": "8b5fdf74",
   "metadata": {},
   "outputs": [],
   "source": [
    "def get_pos_list(state, target, furniture):\n",
    "    d_pos_list = []\n",
    "    t_pos_list = []\n",
    "\n",
    "    for key, f in furniture.items():\n",
    "        d_pos = (-1,-1)\n",
    "        t_pos = (-1,-1)\n",
    "\n",
    "        for i in range(20):\n",
    "            flag = False\n",
    "            for j in range(20):\n",
    "                if state[i][j] == key:\n",
    "                    d_pos = (i,j)\n",
    "                    flag = True\n",
    "                    break\n",
    "            if flag:\n",
    "                break\n",
    "\n",
    "        for i in range(20):\n",
    "            flag = False\n",
    "            for j in range(20):\n",
    "                if target[i][j] == key:\n",
    "                    t_pos = (i,j)\n",
    "                    flag = True\n",
    "                    break\n",
    "            if flag:\n",
    "                break\n",
    "\n",
    "        d_pos_list.append(d_pos)\n",
    "        t_pos_list.append(t_pos)\n",
    "\n",
    "    return d_pos_list, t_pos_list"
   ]
  },
  {
   "cell_type": "code",
   "execution_count": 20,
   "id": "2ebdb8d0",
   "metadata": {},
   "outputs": [
    {
     "name": "stdout",
     "output_type": "stream",
     "text": [
      "0\n",
      "-72.99230571198827\n",
      "-66.60218131856713\n",
      "-62.13127076498324\n",
      "-50.385083063823316\n",
      "\n",
      "1\n",
      "-23.595995606264097\n",
      "-40.97007627194694\n",
      "-48.401020844495825\n",
      "-53.72001256518899\n",
      "\n",
      "2\n",
      "-35.45584412271571\n",
      "-35.66488620013075\n",
      "-41.74764873042897\n",
      "-31.425130167877285\n",
      "\n",
      "3\n",
      "-59.0547440633889\n",
      "-56.32391424558824\n",
      "-64.53077639811254\n",
      "-52.79404427318775\n",
      "-51.91132186353546\n",
      "\n",
      "4\n",
      "-53.84625306377854\n",
      "-67.19686256163884\n",
      "-76.11216174642648\n",
      "-58.6479125498535\n",
      "-44.61461617148059\n",
      "\n",
      "5\n",
      "-41.16257399332898\n",
      "-48.60555405674399\n",
      "-62.20702456547943\n",
      "-42.952739986254535\n",
      "\n",
      "6\n",
      "-53.1061568884413\n",
      "-64.4981918009339\n",
      "-61.46489542256099\n",
      "-61.18986401964274\n",
      "-62.13447888150532\n",
      "-60.44857587677435\n",
      "\n",
      "7\n",
      "-53.98986120397865\n",
      "-56.18119891706954\n",
      "-68.33691388755159\n",
      "-69.89678981749474\n",
      "-55.855159257152124\n",
      "\n",
      "8\n",
      "-41.55772648675293\n",
      "-39.66864256860248\n",
      "-37.43593958375732\n",
      "\n",
      "9\n",
      "-59.26536215611305\n",
      "-65.85114859373996\n",
      "-62.78889084544141\n",
      "-57.74352982825415\n",
      "-500\n",
      "-59.45847430438574\n",
      "-74.32454305170424\n",
      "\n"
     ]
    }
   ],
   "source": [
    "for i in range(10):\n",
    "    data = datas[i]\n",
    "    target = targets[i]\n",
    "    \n",
    "    state = np.zeros((20,20))\n",
    "    furniture = get_furniture_list(data)\n",
    "    print(i)\n",
    "    for key, f in furniture.items():\n",
    "        mask = get_mask(state, f)\n",
    "        action_space = get_action_space(mask)\n",
    "        if np.array(action_space).shape[0] == 0:\n",
    "            reward = -500\n",
    "        else:\n",
    "            action = random.sample(action_space, 1)[0]\n",
    "            batch_object(state, f, action)\n",
    "            d_pos_list, t_pos_list = get_pos_list(state, target, furniture)\n",
    "            reward = calculate_reward(d_pos_list, t_pos_list)\n",
    "        print(reward)\n",
    "        \n",
    "        append_sample(state, mask, target, reward)\n",
    "    print('')"
   ]
  },
  {
   "cell_type": "code",
   "execution_count": null,
   "id": "6a417054",
   "metadata": {},
   "outputs": [],
   "source": []
  },
  {
   "cell_type": "code",
   "execution_count": 22,
   "id": "01ce1f7b",
   "metadata": {},
   "outputs": [],
   "source": [
    "batch = random.sample(memory, 3)"
   ]
  },
  {
   "cell_type": "code",
   "execution_count": 3,
   "id": "577a5248",
   "metadata": {},
   "outputs": [
    {
     "data": {
      "text/plain": [
       "((20, 20), (20, 20))"
      ]
     },
     "execution_count": 3,
     "metadata": {},
     "output_type": "execute_result"
    }
   ],
   "source": [
    "data = datas[0]\n",
    "target = targets[0]\n",
    "data.shape, target.shape"
   ]
  },
  {
   "cell_type": "code",
   "execution_count": null,
   "id": "f5a0bf2f",
   "metadata": {},
   "outputs": [],
   "source": [
    "state = np.zeros((20,20))"
   ]
  }
 ],
 "metadata": {
  "kernelspec": {
   "display_name": "test",
   "language": "python",
   "name": "test"
  },
  "language_info": {
   "codemirror_mode": {
    "name": "ipython",
    "version": 3
   },
   "file_extension": ".py",
   "mimetype": "text/x-python",
   "name": "python",
   "nbconvert_exporter": "python",
   "pygments_lexer": "ipython3",
   "version": "3.8.12"
  }
 },
 "nbformat": 4,
 "nbformat_minor": 5
}
