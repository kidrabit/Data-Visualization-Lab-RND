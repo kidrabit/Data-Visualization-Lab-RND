{
 "cells": [
  {
   "cell_type": "code",
   "execution_count": 1,
   "id": "ce105b55",
   "metadata": {},
   "outputs": [],
   "source": [
    "import copy\n",
    "import math\n",
    "import random\n",
    "import numpy as np"
   ]
  },
  {
   "cell_type": "code",
   "execution_count": 2,
   "id": "ac9b3e22",
   "metadata": {},
   "outputs": [
    {
     "data": {
      "text/plain": [
       "((10, 20, 20), (10, 20, 20))"
      ]
     },
     "execution_count": 2,
     "metadata": {},
     "output_type": "execute_result"
    }
   ],
   "source": [
    "datas = np.load('data/data.npy')\n",
    "targets = np.load('data/target.npy')\n",
    "datas.shape, targets.shape"
   ]
  },
  {
   "cell_type": "code",
   "execution_count": null,
   "id": "10a354e3",
   "metadata": {},
   "outputs": [],
   "source": [
    "from collections import deque\n",
    "memory = deque(maxlen=1000)\n",
    "\n",
    "def append_sample(state, mask, target, reward):\n",
    "    memory.append((state, mask, target, reward))"
   ]
  },
  {
   "cell_type": "code",
   "execution_count": null,
   "id": "80b5d1c3",
   "metadata": {},
   "outputs": [],
   "source": [
    "def get_furniture_list(data):\n",
    "    furnitures = {}\n",
    "    for i in range(1, 17):\n",
    "        furnitures[i] = [[]]\n",
    "        for j in range(20):\n",
    "            for k in range(20):\n",
    "                if data[j][k] == i:\n",
    "                    furnitures[i][j].append(data[j][k])\n",
    "            furnitures[i].append([])\n",
    "\n",
    "    for i in range(1, 17):\n",
    "        for j in range(20, -1, -1):\n",
    "            if len(furnitures[i][j]) == 0:\n",
    "                del(furnitures[i][j])\n",
    "            \n",
    "    for i in range(16, 0, -1):\n",
    "        if len(furnitures[i]) == 0:\n",
    "            del(furnitures[i])\n",
    "    \n",
    "    for key in furnitures.keys():\n",
    "        furnitures[key] = np.array(furnitures[key])\n",
    "    \n",
    "    return furnitures"
   ]
  },
  {
   "cell_type": "code",
   "execution_count": null,
   "id": "b9f77279",
   "metadata": {},
   "outputs": [],
   "source": [
    "def get_mask(state, f):\n",
    "    mask = np.ones((20,20))\n",
    "    shape = f.shape\n",
    "    \n",
    "    zero_list = []\n",
    "    for i in range(20):\n",
    "        for j in range(20):\n",
    "            if state[i][j] != 0:\n",
    "                mask[i][j] = 0\n",
    "            else:\n",
    "                zero_list.append((i,j))\n",
    "    \n",
    "    temp_zero_list = copy.deepcopy(zero_list)\n",
    "    for zero in zero_list:\n",
    "        z_y, z_x = zero\n",
    "        if z_y + shape[0] > 20 or z_x + shape[1] > 20:\n",
    "            mask[z_y][z_x] = 0\n",
    "            temp_zero_list.remove(zero)\n",
    "            \n",
    "    zero_list = copy.deepcopy(temp_zero_list)\n",
    "    \n",
    "    for zero in zero_list:\n",
    "        z_y, z_x = zero\n",
    "        \n",
    "        for i in range(z_y, z_y + shape[0]):\n",
    "            flag = False\n",
    "            for j in range(z_x, z_x + shape[1]):\n",
    "                if state[i][j] != 0:\n",
    "                    mask[z_y][z_x] = 0\n",
    "                    flag = True\n",
    "                    break              \n",
    "            if flag:\n",
    "                break\n",
    "            \n",
    "    return mask"
   ]
  },
  {
   "cell_type": "code",
   "execution_count": null,
   "id": "0c0c73af",
   "metadata": {},
   "outputs": [],
   "source": [
    "def get_action_space(mask):\n",
    "    action_space = []\n",
    "    for i in range(20):\n",
    "        for j in range(20):\n",
    "            if mask[i][j] == 1:\n",
    "                action_space.append((i,j))\n",
    "                \n",
    "    return action_space"
   ]
  },
  {
   "cell_type": "code",
   "execution_count": null,
   "id": "45e8cb1f",
   "metadata": {},
   "outputs": [],
   "source": [
    "def batch_object(state, furniture, action):\n",
    "    f = furniture[0][0]\n",
    "    shape = furniture.shape\n",
    "    \n",
    "    for i in range(action[0], action[0] + shape[0]):\n",
    "        for j in range(action[1], action[1] + shape[1]):\n",
    "            state[i][j] = f"
   ]
  },
  {
   "cell_type": "code",
   "execution_count": null,
   "id": "73e5b872",
   "metadata": {},
   "outputs": [],
   "source": [
    "def distance(p1, p2):\n",
    "    return math.sqrt((p1[0]-p2[0])**2 + (p1[1]-p2[1])**2)"
   ]
  },
  {
   "cell_type": "code",
   "execution_count": null,
   "id": "f1778ff5",
   "metadata": {},
   "outputs": [],
   "source": [
    "def calculate_reward(d_pos_list, t_pos_list):\n",
    "    reward = 0\n",
    "    \n",
    "    for d, t in zip(d_pos_list, t_pos_list):\n",
    "        reward += distance(d, t)\n",
    "        \n",
    "    return -reward"
   ]
  },
  {
   "cell_type": "code",
   "execution_count": null,
   "id": "a4ba82ba",
   "metadata": {},
   "outputs": [],
   "source": [
    "def get_pos_list(state, target, furniture):\n",
    "    d_pos_list = []\n",
    "    t_pos_list = []\n",
    "\n",
    "    for key, f in furniture.items():\n",
    "        d_pos = (-1,-1)\n",
    "        t_pos = (-1,-1)\n",
    "\n",
    "        for i in range(20):\n",
    "            flag = False\n",
    "            for j in range(20):\n",
    "                if state[i][j] == key:\n",
    "                    d_pos = (i,j)\n",
    "                    flag = True\n",
    "                    break\n",
    "            if flag:\n",
    "                break\n",
    "\n",
    "        for i in range(20):\n",
    "            flag = False\n",
    "            for j in range(20):\n",
    "                if target[i][j] == key:\n",
    "                    t_pos = (i,j)\n",
    "                    flag = True\n",
    "                    break\n",
    "            if flag:\n",
    "                break\n",
    "\n",
    "        d_pos_list.append(d_pos)\n",
    "        t_pos_list.append(t_pos)\n",
    "\n",
    "    return d_pos_list, t_pos_list"
   ]
  }
 ],
 "metadata": {
  "kernelspec": {
   "display_name": "test",
   "language": "python",
   "name": "test"
  },
  "language_info": {
   "codemirror_mode": {
    "name": "ipython",
    "version": 3
   },
   "file_extension": ".py",
   "mimetype": "text/x-python",
   "name": "python",
   "nbconvert_exporter": "python",
   "pygments_lexer": "ipython3",
   "version": "3.8.12"
  }
 },
 "nbformat": 4,
 "nbformat_minor": 5
}
